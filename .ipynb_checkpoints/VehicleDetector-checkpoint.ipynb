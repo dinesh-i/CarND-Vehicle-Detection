{
 "cells": [
  {
   "cell_type": "code",
   "execution_count": 1,
   "metadata": {},
   "outputs": [],
   "source": [
    "import numpy as np\n",
    "import cv2\n",
    "from skimage.feature import hog\n",
    "import matplotlib.image as mpimg\n",
    "import matplotlib.pyplot as plt\n",
    "import pickle\n"
   ]
  },
  {
   "cell_type": "code",
   "execution_count": 17,
   "metadata": {},
   "outputs": [],
   "source": [
    "def convert_color(img, conv='RGB2YCrCb'):\n",
    "    if conv == 'RGB2YCrCb':\n",
    "        return cv2.cvtColor(img, cv2.COLOR_RGB2YCrCb)\n",
    "    if conv == 'BGR2YCrCb':\n",
    "        return cv2.cvtColor(img, cv2.COLOR_BGR2YCrCb)\n",
    "    if conv == 'RGB2LUV':\n",
    "        return cv2.cvtColor(img, cv2.COLOR_RGB2LUV)\n",
    "    if color_space == 'HSV':\n",
    "        return cv2.cvtColor(img, cv2.COLOR_RGB2HSV)\n",
    "    if color_space == 'LUV':\n",
    "        return  cv2.cvtColor(img, cv2.COLOR_RGB2LUV)\n",
    "    if color_space == 'HLS':\n",
    "        return  cv2.cvtColor(img, cv2.COLOR_RGB2HLS)\n",
    "    if color_space == 'YUV':\n",
    "        return cv2.cvtColor(img, cv2.COLOR_RGB2YUV)\n",
    "    if color_space == 'YCrCb':\n",
    "        return cv2.cvtColor(img, cv2.COLOR_RGB2YCrCb)\n",
    "\n",
    "def get_hog_features(img, orient, pix_per_cell, cell_per_block, \n",
    "                        vis=False, feature_vec=True):\n",
    "    # Call with two outputs if vis==True\n",
    "    if vis == True:\n",
    "        features, hog_image = hog(img, orientations=orient, \n",
    "                                  pixels_per_cell=(pix_per_cell, pix_per_cell),\n",
    "                                  cells_per_block=(cell_per_block, cell_per_block),\n",
    "                                  block_norm= 'L2-Hys',\n",
    "                                  transform_sqrt=False, \n",
    "                                  visualise=vis, feature_vector=feature_vec)\n",
    "        return features, hog_image\n",
    "    # Otherwise call with one output\n",
    "    else:      \n",
    "        features = hog(img, orientations=orient, \n",
    "                       pixels_per_cell=(pix_per_cell, pix_per_cell),\n",
    "                       cells_per_block=(cell_per_block, cell_per_block),\n",
    "                       block_norm= 'L2-Hys',\n",
    "                       transform_sqrt=False, \n",
    "                       visualise=vis, feature_vector=feature_vec)\n",
    "        return features\n",
    "\n",
    "def bin_spatial(img, size=(32, 32)):\n",
    "    color1 = cv2.resize(img[:,:,0], size).ravel()\n",
    "    color2 = cv2.resize(img[:,:,1], size).ravel()\n",
    "    color3 = cv2.resize(img[:,:,2], size).ravel()\n",
    "    return np.hstack((color1, color2, color3))\n",
    "                        \n",
    "def color_hist(img, nbins=32):    #bins_range=(0, 256)\n",
    "    # Compute the histogram of the color channels separately\n",
    "    channel1_hist = np.histogram(img[:,:,0], bins=nbins)\n",
    "    channel2_hist = np.histogram(img[:,:,1], bins=nbins)\n",
    "    channel3_hist = np.histogram(img[:,:,2], bins=nbins)\n",
    "    # Concatenate the histograms into a single feature vector\n",
    "    hist_features = np.concatenate((channel1_hist[0], channel2_hist[0], channel3_hist[0]))\n",
    "    # Return the individual histograms, bin_centers and feature vector\n",
    "    return hist_features\n",
    "\n"
   ]
  },
  {
   "cell_type": "code",
   "execution_count": 3,
   "metadata": {},
   "outputs": [],
   "source": [
    "def extract_single_image_features(image, color_space='RGB', spatial_size=(32, 32),\n",
    "                        hist_bins=32, orient=9, \n",
    "                        pix_per_cell=8, cell_per_block=2, hog_channel=0,\n",
    "                        spatial_feat=True, hist_feat=True, hog_feat=True):\n",
    "    \n",
    "    file_features = []\n",
    "    \n",
    "    # apply color conversion if other than 'RGB'\n",
    "    if color_space != 'RGB':\n",
    "        if color_space == 'HSV':\n",
    "            feature_image = cv2.cvtColor(image, cv2.COLOR_RGB2HSV)\n",
    "        elif color_space == 'LUV':\n",
    "            feature_image = cv2.cvtColor(image, cv2.COLOR_RGB2LUV)\n",
    "        elif color_space == 'HLS':\n",
    "            feature_image = cv2.cvtColor(image, cv2.COLOR_RGB2HLS)\n",
    "        elif color_space == 'YUV':\n",
    "            feature_image = cv2.cvtColor(image, cv2.COLOR_RGB2YUV)\n",
    "        elif color_space == 'YCrCb':\n",
    "            feature_image = cv2.cvtColor(image, cv2.COLOR_RGB2YCrCb)\n",
    "    else: feature_image = np.copy(image)      \n",
    "\n",
    "    if spatial_feat == True:\n",
    "        spatial_features = bin_spatial(feature_image, size=spatial_size)\n",
    "        file_features.append(spatial_features)\n",
    "    if hist_feat == True:\n",
    "        # Apply color_hist()\n",
    "        hist_features = color_hist(feature_image, nbins=hist_bins)\n",
    "        file_features.append(hist_features)\n",
    "    if hog_feat == True:\n",
    "    # Call get_hog_features() with vis=False, feature_vec=True\n",
    "        if hog_channel == 'ALL':\n",
    "            hog_features = []\n",
    "            for channel in range(feature_image.shape[2]):\n",
    "                hog_features.append(get_hog_features(feature_image[:,:,channel], \n",
    "                                    orient, pix_per_cell, cell_per_block, \n",
    "                                    vis=False, feature_vec=True))\n",
    "            hog_features = np.ravel(hog_features)        \n",
    "        else:\n",
    "            hog_features = get_hog_features(feature_image[:,:,hog_channel], orient, \n",
    "                        pix_per_cell, cell_per_block, vis=False, feature_vec=True)\n",
    "        # Append the new feature vector to the features list\n",
    "        file_features.append(hog_features)\n",
    "        \n",
    "    return file_features\n",
    "\n",
    "def extract_features(imgs, color_space='RGB', spatial_size=(32, 32),\n",
    "                        hist_bins=32, orient=9, \n",
    "                        pix_per_cell=8, cell_per_block=2, hog_channel=0,\n",
    "                        spatial_feat=True, hist_feat=True, hog_feat=True):\n",
    "    # Create a list to append feature vectors to\n",
    "    features = []\n",
    "    # Iterate through the list of images\n",
    "    for file in imgs:\n",
    "        file_features = []\n",
    "        # Read in each one by one\n",
    "        image = mpimg.imread(file)\n",
    "        \n",
    "        #print('image shape ', image.shape)\n",
    "        \n",
    "        file_features = extract_single_image_features(image, color_space, spatial_size,\n",
    "                        hist_bins, orient, \n",
    "                        pix_per_cell, cell_per_block, hog_channel,\n",
    "                        spatial_feat, hist_feat, hog_feat)\n",
    "\n",
    "        features.append(np.concatenate(file_features))\n",
    "    # Return list of feature vectors\n",
    "    return features"
   ]
  },
  {
   "cell_type": "code",
   "execution_count": 4,
   "metadata": {},
   "outputs": [
    {
     "name": "stderr",
     "output_type": "stream",
     "text": [
      "/Users/tavant/miniconda3/envs/carnd-term1-cpu/lib/python3.5/site-packages/skimage/feature/_hog.py:248: skimage_deprecation: Argument `visualise` is deprecated and will be changed to `visualize` in v0.16\n",
      "  'be changed to `visualize` in v0.16', skimage_deprecation)\n"
     ]
    },
    {
     "name": "stdout",
     "output_type": "stream",
     "text": [
      "features.shape  6\n",
      "features[0].shape  (512604,)\n"
     ]
    }
   ],
   "source": [
    "import glob\n",
    "image_filenames = glob.glob('test_images/test*.jpg')\n",
    "#plt.imshow(image)\n",
    "\n",
    "features = extract_features(image_filenames, color_space='RGB', spatial_size=(32, 32),\n",
    "                        hist_bins=32, orient=9, \n",
    "                        pix_per_cell=8, cell_per_block=2, hog_channel=0,\n",
    "                        spatial_feat=True, hist_feat=True, hog_feat=True)\n",
    "\n",
    "print('features.shape ', len(features))\n",
    "print('features[0].shape ', features[0].shape)"
   ]
  },
  {
   "cell_type": "code",
   "execution_count": 46,
   "metadata": {},
   "outputs": [],
   "source": [
    "# Tune the parameters here\n",
    "\n",
    "color_space = 'YUV' # Can be RGB, HSV, LUV, HLS, YUV, YCrCb\n",
    "orient = 9  # HOG orientations\n",
    "pix_per_cell = 8 # HOG pixels per cell\n",
    "cell_per_block = 2 # HOG cells per block\n",
    "hog_channel = 'ALL' # Can be 0, 1, 2, or \"ALL\"\n",
    "spatial_size = (16, 16) # Spatial binning dimensions\n",
    "hist_bins = 16    # Number of histogram bins\n",
    "spatial_feat = True # Spatial features on or off\n",
    "hist_feat = True # Histogram features on or off\n",
    "hog_feat = True # HOG features on or off\n",
    "y_start_stop = [None, None] # Min and max in y to search in slide_window()\n",
    "\n",
    "\n",
    "# find_cars parameters\n",
    "ystart = 400\n",
    "ystop = 680\n",
    "scale = 1.5\n"
   ]
  },
  {
   "cell_type": "code",
   "execution_count": 35,
   "metadata": {},
   "outputs": [
    {
     "name": "stdout",
     "output_type": "stream",
     "text": [
      "no. of not car images is  8968\n",
      "no. of car images is  8792\n"
     ]
    },
    {
     "name": "stderr",
     "output_type": "stream",
     "text": [
      "/Users/tavant/miniconda3/envs/carnd-term1-cpu/lib/python3.5/site-packages/skimage/feature/_hog.py:248: skimage_deprecation: Argument `visualise` is deprecated and will be changed to `visualize` in v0.16\n",
      "  'be changed to `visualize` in v0.16', skimage_deprecation)\n"
     ]
    },
    {
     "name": "stdout",
     "output_type": "stream",
     "text": [
      "X_train shape (800, 6108)\n",
      "X_test shape (200, 6108)\n",
      "Using: 9 orientations 8 pixels per cell and 2 cells per block\n",
      "Feature vector length: 6108\n",
      "0.16 Seconds to train SVC...\n",
      "Test Accuracy of SVC =  0.99\n"
     ]
    }
   ],
   "source": [
    "from sklearn.cross_validation import train_test_split\n",
    "import matplotlib.image as mpimg\n",
    "import matplotlib.pyplot as plt\n",
    "import numpy as np\n",
    "import cv2\n",
    "import glob\n",
    "import time\n",
    "from sklearn.svm import LinearSVC\n",
    "from sklearn.preprocessing import StandardScaler\n",
    "from skimage.feature import hog\n",
    "\n",
    "def train(cars, notcars):\n",
    "    print('no. of not car images is ', len(notcars))\n",
    "    print('no. of car images is ', len(cars))\n",
    "\n",
    "    cars = cars[0:sample_size]\n",
    "    notcars = notcars[0:sample_size]\n",
    "\n",
    "    car_features = extract_features(cars, color_space=color_space, \n",
    "                            spatial_size=spatial_size, hist_bins=hist_bins, \n",
    "                            orient=orient, pix_per_cell=pix_per_cell, \n",
    "                            cell_per_block=cell_per_block, \n",
    "                            hog_channel=hog_channel, spatial_feat=spatial_feat, \n",
    "                            hist_feat=hist_feat, hog_feat=hog_feat)\n",
    "    notcar_features = extract_features(notcars, color_space=color_space, \n",
    "                            spatial_size=spatial_size, hist_bins=hist_bins, \n",
    "                            orient=orient, pix_per_cell=pix_per_cell, \n",
    "                            cell_per_block=cell_per_block, \n",
    "                            hog_channel=hog_channel, spatial_feat=spatial_feat, \n",
    "                            hist_feat=hist_feat, hog_feat=hog_feat)\n",
    "\n",
    "    # Create an array stack of feature vectors\n",
    "    X = np.vstack((car_features, notcar_features)).astype(np.float64)\n",
    "\n",
    "    # Define the labels vector\n",
    "    y = np.hstack((np.ones(len(car_features)), np.zeros(len(notcar_features))))\n",
    "\n",
    "    # Split up data into randomized training and test sets\n",
    "    rand_state = np.random.randint(0, 100)\n",
    "    X_train, X_test, y_train, y_test = train_test_split(\n",
    "        X, y, test_size=0.2, random_state=rand_state)\n",
    "\n",
    "    print('X_train shape', X_train.shape)\n",
    "    print('X_test shape', X_test.shape)\n",
    "\n",
    "    # Fit a per-column scaler\n",
    "    X_scaler = StandardScaler().fit(X_train)\n",
    "    # Apply the scaler to X\n",
    "    X_train = X_scaler.transform(X_train)\n",
    "    X_test = X_scaler.transform(X_test)\n",
    "\n",
    "    print('Using:',orient,'orientations',pix_per_cell,\n",
    "        'pixels per cell and', cell_per_block,'cells per block')\n",
    "    print('Feature vector length:', len(X_train[0]))\n",
    "    # Use a linear SVC \n",
    "    svc = LinearSVC()\n",
    "    # Check the training time for the SVC\n",
    "    t=time.time()\n",
    "    svc.fit(X_train, y_train)\n",
    "    t2 = time.time()\n",
    "    print(round(t2-t, 2), 'Seconds to train SVC...')\n",
    "    # Check the score of the SVC\n",
    "    accuracy_score = round(svc.score(X_test, y_test), 4)\n",
    "    print('Test Accuracy of SVC = ', accuracy_score)\n",
    "    # Check the prediction time for a single sample\n",
    "    t=time.time()\n",
    "\n",
    "    return svc, X_scaler, accuracy_score\n",
    "\n",
    "\n",
    "notcars = glob.glob('../CarND-Vehicle-Detection-Data/non-vehicles/**/*.png')\n",
    "cars = glob.glob('../CarND-Vehicle-Detection-Data/vehicles/**/*.png')\n",
    "\n",
    "svc, X_scaler, accuracy_score = train(cars, notcars)"
   ]
  },
  {
   "cell_type": "code",
   "execution_count": 60,
   "metadata": {},
   "outputs": [],
   "source": [
    "# Define a single function that can extract features using hog sub-sampling and make predictions\n",
    "def find_cars(img, ystart, ystop, scale, svc, X_scaler, orient, pix_per_cell, cell_per_block, spatial_size, hist_bins):\n",
    "    \n",
    "    print('spatial_size ', spatial_size)\n",
    "    print('hist ', hist_bins)\n",
    "    print('orient ', orient)\n",
    "    \n",
    "    draw_img = np.copy(img)\n",
    "    img = img.astype(np.float32)/255\n",
    "    \n",
    "    img_tosearch = img[ystart:ystop,:,:]\n",
    "    ctrans_tosearch = convert_color(img_tosearch, conv=color_space)\n",
    "    if scale != 1:\n",
    "        imshape = ctrans_tosearch.shape\n",
    "        #print('imshape ', imshape)\n",
    "        #print('ctrans_tosearch ', ctrans_tosearch)\n",
    "        ctrans_tosearch = cv2.resize(ctrans_tosearch, (np.int(imshape[1]/scale), np.int(imshape[0]/scale)))\n",
    "        \n",
    "    ch1 = ctrans_tosearch[:,:,0]\n",
    "    ch2 = ctrans_tosearch[:,:,1]\n",
    "    ch3 = ctrans_tosearch[:,:,2]\n",
    "\n",
    "\n",
    "    # Define blocks and steps as above\n",
    "    nxblocks = (ch1.shape[1] // pix_per_cell) - cell_per_block + 1\n",
    "    nyblocks = (ch1.shape[0] // pix_per_cell) - cell_per_block + 1 \n",
    "    nfeat_per_block = orient*cell_per_block**2\n",
    "    \n",
    "        \n",
    "    print('ch1.shape[1] ', ch1.shape[1])\n",
    "    print('pix_per_cell ', pix_per_cell)\n",
    "    print('(ch1.shape[1] // pix_per_cell) ', (ch1.shape[1] // pix_per_cell))\n",
    "    print('cell_per_block ', cell_per_block)\n",
    "    print('nxblocks ', nxblocks)\n",
    "    \n",
    "    # 64 was the orginal sampling rate, with 8 cells and 8 pix per cell\n",
    "    window = 64\n",
    "    nblocks_per_window = (window // pix_per_cell) - cell_per_block + 1\n",
    "    cells_per_step = 2  # Instead of overlap, define how many cells to step\n",
    "    nxsteps = (nxblocks - nblocks_per_window) // cells_per_step + 1\n",
    "    nysteps = (nyblocks - nblocks_per_window) // cells_per_step + 1\n",
    "    \n",
    "    # Compute individual channel HOG features for the entire image\n",
    "    hog1 = get_hog_features(ch1, orient, pix_per_cell, cell_per_block, feature_vec=False)\n",
    "    hog2 = get_hog_features(ch2, orient, pix_per_cell, cell_per_block, feature_vec=False)\n",
    "    hog3 = get_hog_features(ch3, orient, pix_per_cell, cell_per_block, feature_vec=False)\n",
    "    \n",
    "    rectangles = []\n",
    "    \n",
    "    for xb in range(nxsteps):\n",
    "        for yb in range(nysteps):\n",
    "            ypos = yb*cells_per_step\n",
    "            xpos = xb*cells_per_step\n",
    "            # Extract HOG for this patch\n",
    "            hog_feat1 = hog1[ypos:ypos+nblocks_per_window, xpos:xpos+nblocks_per_window].ravel() \n",
    "            hog_feat2 = hog2[ypos:ypos+nblocks_per_window, xpos:xpos+nblocks_per_window].ravel() \n",
    "            hog_feat3 = hog3[ypos:ypos+nblocks_per_window, xpos:xpos+nblocks_per_window].ravel() \n",
    "            hog_features = np.hstack((hog_feat1, hog_feat2, hog_feat3))\n",
    "\n",
    "            xleft = xpos*pix_per_cell\n",
    "            ytop = ypos*pix_per_cell\n",
    "\n",
    "            # Extract the image patch\n",
    "            subimg = cv2.resize(ctrans_tosearch[ytop:ytop+window, xleft:xleft+window], (64,64))\n",
    "          \n",
    "            # Get color features\n",
    "            spatial_features = bin_spatial(subimg, size=spatial_size)\n",
    "            hist_features = color_hist(subimg, nbins=hist_bins)\n",
    "\n",
    "            # Scale features and make a prediction\n",
    "            test_features = X_scaler.transform(np.hstack((spatial_features, hist_features, hog_features)).reshape(1, -1))    \n",
    "            #test_features = X_scaler.transform(np.hstack((shape_feat, hist_feat)).reshape(1, -1))    \n",
    "            test_prediction = svc.predict(test_features)\n",
    "            \n",
    "            if test_prediction == 1:\n",
    "                xbox_left = np.int(xleft*scale)\n",
    "                ytop_draw = np.int(ytop*scale)\n",
    "                win_draw = np.int(window*scale)\n",
    "                cv2.rectangle(draw_img,(xbox_left, ytop_draw+ystart),(xbox_left+win_draw,ytop_draw+win_draw+ystart),(0,0,255),6) \n",
    "                rectangles.append(((xbox_left, ytop_draw+ystart),(xbox_left+win_draw,ytop_draw+win_draw+ystart)))\n",
    "     \n",
    "    print('no. of rectangles found is ', len(rectangles))\n",
    "    return rectangles\n"
   ]
  },
  {
   "cell_type": "code",
   "execution_count": 19,
   "metadata": {},
   "outputs": [],
   "source": [
    "# Define a function that takes an image, a list of bounding boxes, \n",
    "# and optional color tuple and line thickness as inputs\n",
    "# then draws boxes in that color on the output\n",
    "\n",
    "def draw_boxes(img, bboxes, color=(0, 0, 255), thick=6):\n",
    "    # Make a copy of the image\n",
    "    draw_img = np.copy(img)\n",
    "    # Iterate through the bounding boxes\n",
    "    for bbox in bboxes:\n",
    "        # Draw a rectangle given bbox coordinates\n",
    "        cv2.rectangle(draw_img, bbox[0], bbox[1], color, thick)\n",
    "    # Return the image copy with boxes drawn\n",
    "    return draw_img"
   ]
  },
  {
   "cell_type": "code",
   "execution_count": 21,
   "metadata": {},
   "outputs": [],
   "source": [
    "def add_heat(heatmap, bbox_list):\n",
    "    # Iterate through list of bboxes\n",
    "    for box in bbox_list:\n",
    "        # Add += 1 for all pixels inside each bbox\n",
    "        # Assuming each \"box\" takes the form ((x1, y1), (x2, y2))\n",
    "        heatmap[box[0][1]:box[1][1], box[0][0]:box[1][0]] += 1\n",
    "\n",
    "    # Return updated heatmap\n",
    "    return heatmap# Iterate through list of bboxes\n",
    "    \n",
    "def apply_threshold(heatmap, threshold):\n",
    "    # Zero out pixels below the threshold\n",
    "    heatmap[heatmap <= threshold] = 0\n",
    "    # Return thresholded map\n",
    "    return heatmap\n",
    "\n",
    "def draw_labeled_bboxes(img, labels):\n",
    "    # Iterate through all detected cars\n",
    "    for car_number in range(1, labels[1]+1):\n",
    "        # Find pixels with each car_number label value\n",
    "        nonzero = (labels[0] == car_number).nonzero()\n",
    "        # Identify x and y values of those pixels\n",
    "        nonzeroy = np.array(nonzero[0])\n",
    "        nonzerox = np.array(nonzero[1])\n",
    "        # Define a bounding box based on min/max x and y\n",
    "        bbox = ((np.min(nonzerox), np.min(nonzeroy)), (np.max(nonzerox), np.max(nonzeroy)))\n",
    "        # Draw the box on the image\n",
    "        cv2.rectangle(img, bbox[0], bbox[1], (0,0,255), 6)\n",
    "    # Return the image\n",
    "    return img\n"
   ]
  },
  {
   "cell_type": "code",
   "execution_count": 26,
   "metadata": {},
   "outputs": [
    {
     "name": "stdout",
     "output_type": "stream",
     "text": [
      "spatial_size  (16, 16)\n",
      "hist  16\n",
      "orient  9\n",
      "ch1.shape[1]  853\n",
      "pix_per_cell  8\n",
      "(ch1.shape[1] // pix_per_cell)  106\n",
      "cell_per_block  2\n",
      "nxblocks  105\n"
     ]
    },
    {
     "name": "stderr",
     "output_type": "stream",
     "text": [
      "/Users/tavant/miniconda3/envs/carnd-term1-cpu/lib/python3.5/site-packages/skimage/feature/_hog.py:248: skimage_deprecation: Argument `visualise` is deprecated and will be changed to `visualize` in v0.16\n",
      "  'be changed to `visualize` in v0.16', skimage_deprecation)\n"
     ]
    },
    {
     "name": "stdout",
     "output_type": "stream",
     "text": [
      "no. of rectangles found is  13\n"
     ]
    },
    {
     "data": {
      "text/plain": [
       "<matplotlib.image.AxesImage at 0x1224b39b0>"
      ]
     },
     "execution_count": 26,
     "metadata": {},
     "output_type": "execute_result"
    },
    {
     "data": {
      "image/png": "[encoded data removed]",
      "text/plain": [
       "<Figure size 432x288 with 1 Axes>"
      ]
     },
     "metadata": {},
     "output_type": "display_data"
    }
   ],
   "source": [
    "test_image = mpimg.imread('test_images/test1.jpg')\n",
    "\n",
    "#plt.imshow(test_image)\n",
    "\n",
    "rectangles = find_cars(test_image, ystart, ystop, scale, svc, X_scaler, orient, pix_per_cell, cell_per_block, spatial_size, hist_bins)\n",
    "\n",
    "image_with_boxes = np.copy(test_image)\n",
    "image_with_boxes = draw_boxes(image_with_boxes, rectangles)\n",
    "\n",
    "plt.imshow(image_with_boxes)"
   ]
  },
  {
   "cell_type": "code",
   "execution_count": 30,
   "metadata": {},
   "outputs": [
    {
     "data": {
      "image/png": "[encoded data removed]",
      "text/plain": [
       "<Figure size 432x288 with 2 Axes>"
      ]
     },
     "metadata": {},
     "output_type": "display_data"
    }
   ],
   "source": [
    "from scipy.ndimage.measurements import label\n",
    "\n",
    "heat = np.zeros_like(test_image[:,:,0]).astype(np.float)\n",
    "\n",
    "\n",
    "# Add heat to each box in box list\n",
    "heat = add_heat(heat,rectangles)\n",
    "    \n",
    "# Apply threshold to help remove false positives\n",
    "heat = apply_threshold(heat,1)\n",
    "\n",
    "# Visualize the heatmap when displaying    \n",
    "heatmap = np.clip(heat, 0, 255)\n",
    "\n",
    "# Find final boxes from heatmap using label function\n",
    "labels = label(heatmap)\n",
    "draw_img = draw_labeled_bboxes(np.copy(test_image), labels)\n",
    "\n",
    "fig = plt.figure()\n",
    "plt.subplot(121)\n",
    "plt.imshow(draw_img)\n",
    "plt.title('Car Positions')\n",
    "plt.subplot(122)\n",
    "plt.imshow(heatmap, cmap='hot')\n",
    "plt.title('Heat Map')\n",
    "fig.tight_layout()\n"
   ]
  },
  {
   "cell_type": "code",
   "execution_count": 49,
   "metadata": {},
   "outputs": [
    {
     "name": "stdout",
     "output_type": "stream",
     "text": [
      "no. of not car images is  8968\n",
      "no. of car images is  8792\n",
      "X_train shape (80, 6108)\n",
      "X_test shape (20, 6108)\n",
      "Using: 9 orientations 8 pixels per cell and 2 cells per block\n",
      "Feature vector length: 6108\n",
      "0.02 Seconds to train SVC...\n",
      "Test Accuracy of SVC =  0.95\n"
     ]
    }
   ],
   "source": [
    "import pickle\n",
    "\n",
    "notcars = glob.glob('../CarND-Vehicle-Detection-Data/non-vehicles/**/*.png')\n",
    "cars = glob.glob('../CarND-Vehicle-Detection-Data/vehicles/**/*.png')\n",
    "\n",
    "\n",
    "# No. of samples to consider for training\n",
    "sample_size = 50\n",
    "\n",
    "svc, X_scaler, accuracy_score = train(cars, notcars)\n",
    "\n",
    "vehicle_detector = { \"svc\": svc, \"X_scaler\": X_scaler }\n",
    "\n",
    "with open('data.pickle', 'wb') as f:\n",
    "    # Pickle the 'data' dictionary using the highest protocol available.\n",
    "    pickle.dump(vehicle_detector, f, pickle.HIGHEST_PROTOCOL)"
   ]
  },
  {
   "cell_type": "code",
   "execution_count": null,
   "metadata": {},
   "outputs": [
    {
     "name": "stdout",
     "output_type": "stream",
     "text": [
      "spatial_size  (16, 16)\n",
      "hist  16\n",
      "orient  9\n",
      "ch1.shape[1]  853\n",
      "pix_per_cell  8\n",
      "(ch1.shape[1] // pix_per_cell)  106\n",
      "cell_per_block  2\n",
      "nxblocks  105\n",
      "no. of rectangles found is  14\n",
      "spatial_size  (16, 16)\n",
      "hist  16\n",
      "orient  9\n",
      "ch1.shape[1]  853\n",
      "pix_per_cell  8\n",
      "(ch1.shape[1] // pix_per_cell)  106\n",
      "cell_per_block  2\n",
      "nxblocks  105\n"
     ]
    }
   ],
   "source": [
    "from scipy.ndimage.measurements import label\n",
    "\n",
    "def pipeline(image):\n",
    "\n",
    "    vehicle_detector = {}\n",
    "    \n",
    "    with open('data.pickle', 'rb') as f:\n",
    "        vehicle_detector = pickle.load(f)\n",
    "    \n",
    "    svc = vehicle_detector[\"svc\"]\n",
    "    X_scaler = vehicle_detector[\"X_scaler\"]\n",
    "    \n",
    "    rectangles = find_cars(image, ystart, ystop, scale, svc, X_scaler, orient, pix_per_cell, cell_per_block, spatial_size, hist_bins)\n",
    "    heat = np.zeros_like(image[:,:,0]).astype(np.float)\n",
    "\n",
    "    # Add heat to each box in box list\n",
    "    heat = add_heat(heat,rectangles)\n",
    "\n",
    "    # Apply threshold to help remove false positives\n",
    "    heat = apply_threshold(heat,1)\n",
    "\n",
    "    # Visualize the heatmap when displaying    \n",
    "    heatmap = np.clip(heat, 0, 255)\n",
    "\n",
    "    # Find final boxes from heatmap using label function\n",
    "    labels = label(heatmap)\n",
    "    draw_img = draw_labeled_bboxes(np.copy(image), labels)\n",
    "\n",
    "    return draw_img\n",
    "    \n",
    "    \n",
    "    \n",
    "\n",
    "draw_img_1 = pipeline(mpimg.imread('test_images/test1.jpg'))\n",
    "draw_img_2 = pipeline(mpimg.imread('test_images/test3.jpg'))\n",
    "#plt.imshow(draw_img)\n",
    "\n",
    "fig = plt.figure()\n",
    "plt.subplot(121)\n",
    "plt.imshow(draw_img_1)\n",
    "plt.title('test1')\n",
    "plt.subplot(122)\n",
    "plt.imshow(draw_img_2)\n",
    "plt.title('test3')\n",
    "fig.tight_layout()\n"
   ]
  },
  {
   "cell_type": "code",
   "execution_count": 48,
   "metadata": {},
   "outputs": [
    {
     "name": "stdout",
     "output_type": "stream",
     "text": [
      "spatial_size  (16, 16)\n",
      "hist  16\n",
      "orient  9\n",
      "ch1.shape[1]  853\n",
      "pix_per_cell  8\n",
      "(ch1.shape[1] // pix_per_cell)  106\n",
      "cell_per_block  2\n",
      "nxblocks  105\n",
      "no. of rectangles found is  9\n",
      "[MoviePy] >>>> Building video vehicles_tracked_on_test_video.mp4\n",
      "[MoviePy] Writing video vehicles_tracked_on_test_video.mp4\n"
     ]
    },
    {
     "name": "stderr",
     "output_type": "stream",
     "text": [
      "\r",
      "  0%|          | 0/39 [00:00<?, ?it/s]"
     ]
    },
    {
     "name": "stdout",
     "output_type": "stream",
     "text": [
      "spatial_size  (16, 16)\n",
      "hist  16\n",
      "orient  9\n",
      "ch1.shape[1]  853\n",
      "pix_per_cell  8\n",
      "(ch1.shape[1] // pix_per_cell)  106\n",
      "cell_per_block  2\n",
      "nxblocks  105\n"
     ]
    },
    {
     "name": "stderr",
     "output_type": "stream",
     "text": [
      "\r",
      "  3%|▎         | 1/39 [00:00<00:21,  1.78it/s]"
     ]
    },
    {
     "name": "stdout",
     "output_type": "stream",
     "text": [
      "no. of rectangles found is  9\n",
      "spatial_size  (16, 16)\n",
      "hist  16\n",
      "orient  9\n",
      "ch1.shape[1]  853\n",
      "pix_per_cell  8\n",
      "(ch1.shape[1] // pix_per_cell)  106\n",
      "cell_per_block  2\n",
      "nxblocks  105\n"
     ]
    },
    {
     "name": "stderr",
     "output_type": "stream",
     "text": [
      "\r",
      "  5%|▌         | 2/39 [00:01<00:20,  1.79it/s]"
     ]
    },
    {
     "name": "stdout",
     "output_type": "stream",
     "text": [
      "no. of rectangles found is  10\n",
      "spatial_size  (16, 16)\n",
      "hist  16\n",
      "orient  9\n",
      "ch1.shape[1]  853\n",
      "pix_per_cell  8\n",
      "(ch1.shape[1] // pix_per_cell)  106\n",
      "cell_per_block  2\n",
      "nxblocks  105\n"
     ]
    },
    {
     "name": "stderr",
     "output_type": "stream",
     "text": [
      "\r",
      "  8%|▊         | 3/39 [00:01<00:19,  1.81it/s]"
     ]
    },
    {
     "name": "stdout",
     "output_type": "stream",
     "text": [
      "no. of rectangles found is  12\n",
      "spatial_size  (16, 16)\n",
      "hist  16\n",
      "orient  9\n",
      "ch1.shape[1]  853\n",
      "pix_per_cell  8\n",
      "(ch1.shape[1] // pix_per_cell)  106\n",
      "cell_per_block  2\n",
      "nxblocks  105\n"
     ]
    },
    {
     "name": "stderr",
     "output_type": "stream",
     "text": [
      "\r",
      " 10%|█         | 4/39 [00:02<00:19,  1.78it/s]"
     ]
    },
    {
     "name": "stdout",
     "output_type": "stream",
     "text": [
      "no. of rectangles found is  13\n",
      "spatial_size  (16, 16)\n",
      "hist  16\n",
      "orient  9\n",
      "ch1.shape[1]  853\n",
      "pix_per_cell  8\n",
      "(ch1.shape[1] // pix_per_cell)  106\n",
      "cell_per_block  2\n",
      "nxblocks  105\n"
     ]
    },
    {
     "name": "stderr",
     "output_type": "stream",
     "text": [
      "\r",
      " 13%|█▎        | 5/39 [00:02<00:19,  1.77it/s]"
     ]
    },
    {
     "name": "stdout",
     "output_type": "stream",
     "text": [
      "no. of rectangles found is  15\n",
      "spatial_size  (16, 16)\n",
      "hist  16\n",
      "orient  9\n",
      "ch1.shape[1]  853\n",
      "pix_per_cell  8\n",
      "(ch1.shape[1] // pix_per_cell)  106\n",
      "cell_per_block  2\n",
      "nxblocks  105\n"
     ]
    },
    {
     "name": "stderr",
     "output_type": "stream",
     "text": [
      "\r",
      " 15%|█▌        | 6/39 [00:03<00:18,  1.78it/s]"
     ]
    },
    {
     "name": "stdout",
     "output_type": "stream",
     "text": [
      "no. of rectangles found is  16\n",
      "spatial_size  (16, 16)\n",
      "hist  16\n",
      "orient  9\n",
      "ch1.shape[1]  853\n",
      "pix_per_cell  8\n",
      "(ch1.shape[1] // pix_per_cell)  106\n",
      "cell_per_block  2\n",
      "nxblocks  105\n"
     ]
    },
    {
     "name": "stderr",
     "output_type": "stream",
     "text": [
      "\r",
      " 18%|█▊        | 7/39 [00:03<00:18,  1.78it/s]"
     ]
    },
    {
     "name": "stdout",
     "output_type": "stream",
     "text": [
      "no. of rectangles found is  14\n",
      "spatial_size  (16, 16)\n",
      "hist  16\n",
      "orient  9\n",
      "ch1.shape[1]  853\n",
      "pix_per_cell  8\n",
      "(ch1.shape[1] // pix_per_cell)  106\n",
      "cell_per_block  2\n",
      "nxblocks  105\n"
     ]
    },
    {
     "name": "stderr",
     "output_type": "stream",
     "text": [
      "\r",
      " 21%|██        | 8/39 [00:04<00:17,  1.77it/s]"
     ]
    },
    {
     "name": "stdout",
     "output_type": "stream",
     "text": [
      "no. of rectangles found is  15\n",
      "spatial_size  (16, 16)\n",
      "hist  16\n",
      "orient  9\n",
      "ch1.shape[1]  853\n",
      "pix_per_cell  8\n",
      "(ch1.shape[1] // pix_per_cell)  106\n",
      "cell_per_block  2\n",
      "nxblocks  105\n"
     ]
    },
    {
     "name": "stderr",
     "output_type": "stream",
     "text": [
      "\r",
      " 23%|██▎       | 9/39 [00:05<00:16,  1.77it/s]"
     ]
    },
    {
     "name": "stdout",
     "output_type": "stream",
     "text": [
      "no. of rectangles found is  14\n",
      "spatial_size  (16, 16)\n",
      "hist  16\n",
      "orient  9\n",
      "ch1.shape[1]  853\n",
      "pix_per_cell  8\n",
      "(ch1.shape[1] // pix_per_cell)  106\n",
      "cell_per_block  2\n",
      "nxblocks  105\n"
     ]
    },
    {
     "name": "stderr",
     "output_type": "stream",
     "text": [
      "\r",
      " 26%|██▌       | 10/39 [00:05<00:16,  1.76it/s]"
     ]
    },
    {
     "name": "stdout",
     "output_type": "stream",
     "text": [
      "no. of rectangles found is  10\n",
      "spatial_size  (16, 16)\n",
      "hist  16\n",
      "orient  9\n",
      "ch1.shape[1]  853\n",
      "pix_per_cell  8\n",
      "(ch1.shape[1] // pix_per_cell)  106\n",
      "cell_per_block  2\n",
      "nxblocks  105\n"
     ]
    },
    {
     "name": "stderr",
     "output_type": "stream",
     "text": [
      "\r",
      " 28%|██▊       | 11/39 [00:06<00:15,  1.77it/s]"
     ]
    },
    {
     "name": "stdout",
     "output_type": "stream",
     "text": [
      "no. of rectangles found is  10\n",
      "spatial_size  (16, 16)\n",
      "hist  16\n",
      "orient  9\n",
      "ch1.shape[1]  853\n",
      "pix_per_cell  8\n",
      "(ch1.shape[1] // pix_per_cell)  106\n",
      "cell_per_block  2\n",
      "nxblocks  105\n"
     ]
    },
    {
     "name": "stderr",
     "output_type": "stream",
     "text": [
      "\r",
      " 31%|███       | 12/39 [00:06<00:15,  1.78it/s]"
     ]
    },
    {
     "name": "stdout",
     "output_type": "stream",
     "text": [
      "no. of rectangles found is  11\n",
      "spatial_size  (16, 16)\n",
      "hist  16\n",
      "orient  9\n",
      "ch1.shape[1]  853\n",
      "pix_per_cell  8\n",
      "(ch1.shape[1] // pix_per_cell)  106\n",
      "cell_per_block  2\n",
      "nxblocks  105\n"
     ]
    },
    {
     "name": "stderr",
     "output_type": "stream",
     "text": [
      "\r",
      " 33%|███▎      | 13/39 [00:07<00:14,  1.79it/s]"
     ]
    },
    {
     "name": "stdout",
     "output_type": "stream",
     "text": [
      "no. of rectangles found is  14\n",
      "spatial_size  (16, 16)\n",
      "hist  16\n",
      "orient  9\n",
      "ch1.shape[1]  853\n",
      "pix_per_cell  8\n",
      "(ch1.shape[1] // pix_per_cell)  106\n",
      "cell_per_block  2\n",
      "nxblocks  105\n"
     ]
    },
    {
     "name": "stderr",
     "output_type": "stream",
     "text": [
      "\r",
      " 36%|███▌      | 14/39 [00:07<00:14,  1.77it/s]"
     ]
    },
    {
     "name": "stdout",
     "output_type": "stream",
     "text": [
      "no. of rectangles found is  17\n",
      "spatial_size  (16, 16)\n",
      "hist  16\n",
      "orient  9\n",
      "ch1.shape[1]  853\n",
      "pix_per_cell  8\n",
      "(ch1.shape[1] // pix_per_cell)  106\n",
      "cell_per_block  2\n",
      "nxblocks  105\n"
     ]
    },
    {
     "name": "stderr",
     "output_type": "stream",
     "text": [
      "\r",
      " 38%|███▊      | 15/39 [00:08<00:13,  1.75it/s]"
     ]
    },
    {
     "name": "stdout",
     "output_type": "stream",
     "text": [
      "no. of rectangles found is  13\n",
      "spatial_size  (16, 16)\n",
      "hist  16\n",
      "orient  9\n",
      "ch1.shape[1]  853\n",
      "pix_per_cell  8\n",
      "(ch1.shape[1] // pix_per_cell)  106\n",
      "cell_per_block  2\n",
      "nxblocks  105\n"
     ]
    },
    {
     "name": "stderr",
     "output_type": "stream",
     "text": [
      "\r",
      " 41%|████      | 16/39 [00:09<00:13,  1.75it/s]"
     ]
    },
    {
     "name": "stdout",
     "output_type": "stream",
     "text": [
      "no. of rectangles found is  9\n",
      "spatial_size  (16, 16)\n",
      "hist  16\n",
      "orient  9\n",
      "ch1.shape[1]  853\n",
      "pix_per_cell  8\n",
      "(ch1.shape[1] // pix_per_cell)  106\n",
      "cell_per_block  2\n",
      "nxblocks  105\n"
     ]
    },
    {
     "name": "stderr",
     "output_type": "stream",
     "text": [
      "\r",
      " 44%|████▎     | 17/39 [00:09<00:12,  1.76it/s]"
     ]
    },
    {
     "name": "stdout",
     "output_type": "stream",
     "text": [
      "no. of rectangles found is  11\n",
      "spatial_size  (16, 16)\n",
      "hist  16\n",
      "orient  9\n",
      "ch1.shape[1]  853\n",
      "pix_per_cell  8\n",
      "(ch1.shape[1] // pix_per_cell)  106\n",
      "cell_per_block  2\n",
      "nxblocks  105\n"
     ]
    },
    {
     "name": "stderr",
     "output_type": "stream",
     "text": [
      "\r",
      " 46%|████▌     | 18/39 [00:10<00:11,  1.77it/s]"
     ]
    },
    {
     "name": "stdout",
     "output_type": "stream",
     "text": [
      "no. of rectangles found is  12\n",
      "spatial_size  (16, 16)\n",
      "hist  16\n",
      "orient  9\n",
      "ch1.shape[1]  853\n",
      "pix_per_cell  8\n",
      "(ch1.shape[1] // pix_per_cell)  106\n",
      "cell_per_block  2\n",
      "nxblocks  105\n"
     ]
    },
    {
     "name": "stderr",
     "output_type": "stream",
     "text": [
      "\r",
      " 49%|████▊     | 19/39 [00:10<00:11,  1.78it/s]"
     ]
    },
    {
     "name": "stdout",
     "output_type": "stream",
     "text": [
      "no. of rectangles found is  13\n",
      "spatial_size  (16, 16)\n",
      "hist  16\n",
      "orient  9\n",
      "ch1.shape[1]  853\n",
      "pix_per_cell  8\n",
      "(ch1.shape[1] // pix_per_cell)  106\n",
      "cell_per_block  2\n",
      "nxblocks  105\n"
     ]
    },
    {
     "name": "stderr",
     "output_type": "stream",
     "text": [
      "\r",
      " 51%|█████▏    | 20/39 [00:11<00:10,  1.78it/s]"
     ]
    },
    {
     "name": "stdout",
     "output_type": "stream",
     "text": [
      "no. of rectangles found is  14\n",
      "spatial_size  (16, 16)\n",
      "hist  16\n",
      "orient  9\n",
      "ch1.shape[1]  853\n",
      "pix_per_cell  8\n",
      "(ch1.shape[1] // pix_per_cell)  106\n",
      "cell_per_block  2\n",
      "nxblocks  105\n"
     ]
    },
    {
     "name": "stderr",
     "output_type": "stream",
     "text": [
      "\r",
      " 54%|█████▍    | 21/39 [00:11<00:10,  1.79it/s]"
     ]
    },
    {
     "name": "stdout",
     "output_type": "stream",
     "text": [
      "no. of rectangles found is  15\n",
      "spatial_size  (16, 16)\n",
      "hist  16\n",
      "orient  9\n",
      "ch1.shape[1]  853\n",
      "pix_per_cell  8\n",
      "(ch1.shape[1] // pix_per_cell)  106\n",
      "cell_per_block  2\n",
      "nxblocks  105\n"
     ]
    },
    {
     "name": "stderr",
     "output_type": "stream",
     "text": [
      "\r",
      " 56%|█████▋    | 22/39 [00:12<00:09,  1.79it/s]"
     ]
    },
    {
     "name": "stdout",
     "output_type": "stream",
     "text": [
      "no. of rectangles found is  15\n",
      "spatial_size  (16, 16)\n",
      "hist  16\n",
      "orient  9\n",
      "ch1.shape[1]  853\n",
      "pix_per_cell  8\n",
      "(ch1.shape[1] // pix_per_cell)  106\n",
      "cell_per_block  2\n",
      "nxblocks  105\n"
     ]
    },
    {
     "name": "stderr",
     "output_type": "stream",
     "text": [
      "\r",
      " 59%|█████▉    | 23/39 [00:12<00:08,  1.80it/s]"
     ]
    },
    {
     "name": "stdout",
     "output_type": "stream",
     "text": [
      "no. of rectangles found is  10\n",
      "spatial_size  (16, 16)\n",
      "hist  16\n",
      "orient  9\n",
      "ch1.shape[1]  853\n",
      "pix_per_cell  8\n",
      "(ch1.shape[1] // pix_per_cell)  106\n",
      "cell_per_block  2\n",
      "nxblocks  105\n"
     ]
    },
    {
     "name": "stderr",
     "output_type": "stream",
     "text": [
      "\r",
      " 62%|██████▏   | 24/39 [00:13<00:08,  1.80it/s]"
     ]
    },
    {
     "name": "stdout",
     "output_type": "stream",
     "text": [
      "no. of rectangles found is  10\n",
      "spatial_size  (16, 16)\n",
      "hist  16\n",
      "orient  9\n",
      "ch1.shape[1]  853\n",
      "pix_per_cell  8\n",
      "(ch1.shape[1] // pix_per_cell)  106\n",
      "cell_per_block  2\n",
      "nxblocks  105\n"
     ]
    },
    {
     "name": "stderr",
     "output_type": "stream",
     "text": [
      "\r",
      " 64%|██████▍   | 25/39 [00:13<00:07,  1.81it/s]"
     ]
    },
    {
     "name": "stdout",
     "output_type": "stream",
     "text": [
      "no. of rectangles found is  11\n",
      "spatial_size  (16, 16)\n",
      "hist  16\n",
      "orient  9\n",
      "ch1.shape[1]  853\n",
      "pix_per_cell  8\n",
      "(ch1.shape[1] // pix_per_cell)  106\n",
      "cell_per_block  2\n",
      "nxblocks  105\n"
     ]
    },
    {
     "name": "stderr",
     "output_type": "stream",
     "text": [
      "\r",
      " 67%|██████▋   | 26/39 [00:14<00:07,  1.81it/s]"
     ]
    },
    {
     "name": "stdout",
     "output_type": "stream",
     "text": [
      "no. of rectangles found is  14\n",
      "spatial_size  (16, 16)\n",
      "hist  16\n",
      "orient  9\n",
      "ch1.shape[1]  853\n",
      "pix_per_cell  8\n",
      "(ch1.shape[1] // pix_per_cell)  106\n",
      "cell_per_block  2\n",
      "nxblocks  105\n"
     ]
    },
    {
     "name": "stderr",
     "output_type": "stream",
     "text": [
      "\r",
      " 69%|██████▉   | 27/39 [00:14<00:06,  1.81it/s]"
     ]
    },
    {
     "name": "stdout",
     "output_type": "stream",
     "text": [
      "no. of rectangles found is  13\n",
      "spatial_size  (16, 16)\n",
      "hist  16\n",
      "orient  9\n",
      "ch1.shape[1]  853\n",
      "pix_per_cell  8\n",
      "(ch1.shape[1] // pix_per_cell)  106\n",
      "cell_per_block  2\n",
      "nxblocks  105\n"
     ]
    },
    {
     "name": "stderr",
     "output_type": "stream",
     "text": [
      "\r",
      " 72%|███████▏  | 28/39 [00:15<00:06,  1.82it/s]"
     ]
    },
    {
     "name": "stdout",
     "output_type": "stream",
     "text": [
      "no. of rectangles found is  13\n",
      "spatial_size  (16, 16)\n",
      "hist  16\n",
      "orient  9\n",
      "ch1.shape[1]  853\n",
      "pix_per_cell  8\n",
      "(ch1.shape[1] // pix_per_cell)  106\n",
      "cell_per_block  2\n",
      "nxblocks  105\n"
     ]
    },
    {
     "name": "stderr",
     "output_type": "stream",
     "text": [
      "\r",
      " 74%|███████▍  | 29/39 [00:15<00:05,  1.82it/s]"
     ]
    },
    {
     "name": "stdout",
     "output_type": "stream",
     "text": [
      "no. of rectangles found is  13\n",
      "spatial_size  (16, 16)\n",
      "hist  16\n",
      "orient  9\n",
      "ch1.shape[1]  853\n",
      "pix_per_cell  8\n",
      "(ch1.shape[1] // pix_per_cell)  106\n",
      "cell_per_block  2\n",
      "nxblocks  105\n"
     ]
    },
    {
     "name": "stderr",
     "output_type": "stream",
     "text": [
      "\r",
      " 77%|███████▋  | 30/39 [00:16<00:04,  1.82it/s]"
     ]
    },
    {
     "name": "stdout",
     "output_type": "stream",
     "text": [
      "no. of rectangles found is  12\n",
      "spatial_size  (16, 16)\n",
      "hist  16\n",
      "orient  9\n",
      "ch1.shape[1]  853\n",
      "pix_per_cell  8\n",
      "(ch1.shape[1] // pix_per_cell)  106\n",
      "cell_per_block  2\n",
      "nxblocks  105\n"
     ]
    },
    {
     "name": "stderr",
     "output_type": "stream",
     "text": [
      "\r",
      " 79%|███████▉  | 31/39 [00:17<00:04,  1.80it/s]"
     ]
    },
    {
     "name": "stdout",
     "output_type": "stream",
     "text": [
      "no. of rectangles found is  11\n",
      "spatial_size  (16, 16)\n",
      "hist  16\n",
      "orient  9\n",
      "ch1.shape[1]  853\n",
      "pix_per_cell  8\n",
      "(ch1.shape[1] // pix_per_cell)  106\n",
      "cell_per_block  2\n",
      "nxblocks  105\n"
     ]
    },
    {
     "name": "stderr",
     "output_type": "stream",
     "text": [
      "\r",
      " 82%|████████▏ | 32/39 [00:17<00:03,  1.79it/s]"
     ]
    },
    {
     "name": "stdout",
     "output_type": "stream",
     "text": [
      "no. of rectangles found is  13\n",
      "spatial_size  (16, 16)\n",
      "hist  16\n",
      "orient  9\n",
      "ch1.shape[1]  853\n",
      "pix_per_cell  8\n",
      "(ch1.shape[1] // pix_per_cell)  106\n",
      "cell_per_block  2\n",
      "nxblocks  105\n"
     ]
    },
    {
     "name": "stderr",
     "output_type": "stream",
     "text": [
      "\r",
      " 85%|████████▍ | 33/39 [00:18<00:03,  1.79it/s]"
     ]
    },
    {
     "name": "stdout",
     "output_type": "stream",
     "text": [
      "no. of rectangles found is  14\n",
      "spatial_size  (16, 16)\n",
      "hist  16\n",
      "orient  9\n",
      "ch1.shape[1]  853\n",
      "pix_per_cell  8\n",
      "(ch1.shape[1] // pix_per_cell)  106\n",
      "cell_per_block  2\n",
      "nxblocks  105\n"
     ]
    },
    {
     "name": "stderr",
     "output_type": "stream",
     "text": [
      "\r",
      " 87%|████████▋ | 34/39 [00:18<00:02,  1.79it/s]"
     ]
    },
    {
     "name": "stdout",
     "output_type": "stream",
     "text": [
      "no. of rectangles found is  11\n",
      "spatial_size  (16, 16)\n",
      "hist  16\n",
      "orient  9\n",
      "ch1.shape[1]  853\n",
      "pix_per_cell  8\n",
      "(ch1.shape[1] // pix_per_cell)  106\n",
      "cell_per_block  2\n",
      "nxblocks  105\n"
     ]
    },
    {
     "name": "stderr",
     "output_type": "stream",
     "text": [
      "\r",
      " 90%|████████▉ | 35/39 [00:19<00:02,  1.80it/s]"
     ]
    },
    {
     "name": "stdout",
     "output_type": "stream",
     "text": [
      "no. of rectangles found is  12\n",
      "spatial_size  (16, 16)\n",
      "hist  16\n",
      "orient  9\n",
      "ch1.shape[1]  853\n",
      "pix_per_cell  8\n",
      "(ch1.shape[1] // pix_per_cell)  106\n",
      "cell_per_block  2\n",
      "nxblocks  105\n"
     ]
    },
    {
     "name": "stderr",
     "output_type": "stream",
     "text": [
      "\r",
      " 92%|█████████▏| 36/39 [00:20<00:01,  1.80it/s]"
     ]
    },
    {
     "name": "stdout",
     "output_type": "stream",
     "text": [
      "no. of rectangles found is  13\n",
      "spatial_size  (16, 16)\n",
      "hist  16\n",
      "orient  9\n",
      "ch1.shape[1]  853\n",
      "pix_per_cell  8\n",
      "(ch1.shape[1] // pix_per_cell)  106\n",
      "cell_per_block  2\n",
      "nxblocks  105\n"
     ]
    },
    {
     "name": "stderr",
     "output_type": "stream",
     "text": [
      "\r",
      " 95%|█████████▍| 37/39 [00:20<00:01,  1.80it/s]"
     ]
    },
    {
     "name": "stdout",
     "output_type": "stream",
     "text": [
      "no. of rectangles found is  10\n",
      "spatial_size  (16, 16)\n",
      "hist  16\n",
      "orient  9\n",
      "ch1.shape[1]  853\n",
      "pix_per_cell  8\n",
      "(ch1.shape[1] // pix_per_cell)  106\n",
      "cell_per_block  2\n",
      "nxblocks  105\n"
     ]
    },
    {
     "name": "stderr",
     "output_type": "stream",
     "text": [
      "\r",
      " 97%|█████████▋| 38/39 [00:21<00:00,  1.80it/s]"
     ]
    },
    {
     "name": "stdout",
     "output_type": "stream",
     "text": [
      "no. of rectangles found is  12\n"
     ]
    },
    {
     "name": "stderr",
     "output_type": "stream",
     "text": [
      "\n"
     ]
    },
    {
     "name": "stdout",
     "output_type": "stream",
     "text": [
      "[MoviePy] Done.\n",
      "[MoviePy] >>>> Video ready: vehicles_tracked_on_test_video.mp4 \n",
      "\n",
      "CPU times: user 20.9 s, sys: 643 ms, total: 21.5 s\n",
      "Wall time: 21.8 s\n"
     ]
    }
   ],
   "source": [
    "\n",
    "# Import everything needed to edit/save/watch video clips# Import \n",
    "from moviepy.editor import VideoFileClip\n",
    "from IPython.display import HTML\n",
    "\n",
    "# Test the pipeline on the test video\n",
    "\n",
    "test_video_output = 'vehicles_tracked_on_test_video.mp4'\n",
    "\n",
    "clip = VideoFileClip('test_video.mp4')\n",
    "#clip = VideoFileClip('test_video.mp4').subclip(1,2)\n",
    "yellow_clip = clip.fl_image(pipeline)\n",
    "%time yellow_clip.write_videofile(test_video_output, audio=False)"
   ]
  }
 ],
 "metadata": {
  "kernelspec": {
   "display_name": "Python 3",
   "language": "python",
   "name": "python3"
  },
  "language_info": {
   "codemirror_mode": {
    "name": "ipython",
    "version": 3
   },
   "file_extension": ".py",
   "mimetype": "text/x-python",
   "name": "python",
   "nbconvert_exporter": "python",
   "pygments_lexer": "ipython3",
   "version": "3.5.2"
  },
  "widgets": {
   "state": {},
   "version": "1.1.2"
  }
 },
 "nbformat": 4,
 "nbformat_minor": 2
}

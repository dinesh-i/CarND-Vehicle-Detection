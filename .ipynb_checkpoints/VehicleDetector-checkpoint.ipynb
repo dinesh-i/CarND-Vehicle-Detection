{
 "cells": [
  {
   "cell_type": "code",
   "execution_count": 1,
   "metadata": {
    "collapsed": true
   },
   "outputs": [],
   "source": [
    "import numpy as np\n",
    "import cv2\n",
    "from skimage.feature import hog\n",
    "import matplotlib.image as mpimg\n",
    "import matplotlib.pyplot as plt\n",
    "import pickle\n"
   ]
  },
  {
   "cell_type": "code",
   "execution_count": 2,
   "metadata": {
    "collapsed": true
   },
   "outputs": [],
   "source": [
    "def convert_color(img, conv='RGB2YCrCb'):\n",
    "    if conv == 'RGB2YCrCb':\n",
    "        return cv2.cvtColor(img, cv2.COLOR_RGB2YCrCb)\n",
    "    if conv == 'BGR2YCrCb':\n",
    "        return cv2.cvtColor(img, cv2.COLOR_BGR2YCrCb)\n",
    "    if conv == 'RGB2LUV':\n",
    "        return cv2.cvtColor(img, cv2.COLOR_RGB2LUV)\n",
    "    if color_space == 'HSV':\n",
    "        return cv2.cvtColor(img, cv2.COLOR_RGB2HSV)\n",
    "    if color_space == 'LUV':\n",
    "        return  cv2.cvtColor(img, cv2.COLOR_RGB2LUV)\n",
    "    if color_space == 'HLS':\n",
    "        return  cv2.cvtColor(img, cv2.COLOR_RGB2HLS)\n",
    "    if color_space == 'YUV':\n",
    "        return cv2.cvtColor(img, cv2.COLOR_RGB2YUV)\n",
    "    if color_space == 'YCrCb':\n",
    "        return cv2.cvtColor(img, cv2.COLOR_RGB2YCrCb)\n",
    "\n",
    "def get_hog_features(img, orient, pix_per_cell, cell_per_block, \n",
    "                        vis=False, feature_vec=True):\n",
    "    # Call with two outputs if vis==True\n",
    "    if vis == True:\n",
    "        features, hog_image = hog(img, orientations=orient, \n",
    "                                  pixels_per_cell=(pix_per_cell, pix_per_cell),\n",
    "                                  cells_per_block=(cell_per_block, cell_per_block),\n",
    "                                  block_norm= 'L2-Hys',\n",
    "                                  transform_sqrt=False, \n",
    "                                  visualise=vis, feature_vector=feature_vec)\n",
    "        return features, hog_image\n",
    "    # Otherwise call with one output\n",
    "    else:      \n",
    "        features = hog(img, orientations=orient, \n",
    "                       pixels_per_cell=(pix_per_cell, pix_per_cell),\n",
    "                       cells_per_block=(cell_per_block, cell_per_block),\n",
    "                       block_norm= 'L2-Hys',\n",
    "                       transform_sqrt=False, \n",
    "                       visualise=vis, feature_vector=feature_vec)\n",
    "        return features\n",
    "\n",
    "def bin_spatial(img, size=(32, 32)):\n",
    "    color1 = cv2.resize(img[:,:,0], size).ravel()\n",
    "    color2 = cv2.resize(img[:,:,1], size).ravel()\n",
    "    color3 = cv2.resize(img[:,:,2], size).ravel()\n",
    "    return np.hstack((color1, color2, color3))\n",
    "                        \n",
    "def color_hist(img, nbins=32):    #bins_range=(0, 256)\n",
    "    # Compute the histogram of the color channels separately\n",
    "    channel1_hist = np.histogram(img[:,:,0], bins=nbins)\n",
    "    channel2_hist = np.histogram(img[:,:,1], bins=nbins)\n",
    "    channel3_hist = np.histogram(img[:,:,2], bins=nbins)\n",
    "    # Concatenate the histograms into a single feature vector\n",
    "    hist_features = np.concatenate((channel1_hist[0], channel2_hist[0], channel3_hist[0]))\n",
    "    # Return the individual histograms, bin_centers and feature vector\n",
    "    return hist_features\n",
    "\n"
   ]
  },
  {
   "cell_type": "code",
   "execution_count": 3,
   "metadata": {
    "collapsed": true
   },
   "outputs": [],
   "source": [
    "def extract_single_image_features(image, color_space='RGB', spatial_size=(32, 32),\n",
    "                        hist_bins=32, orient=9, \n",
    "                        pix_per_cell=8, cell_per_block=2, hog_channel=0,\n",
    "                        spatial_feat=True, hist_feat=True, hog_feat=True):\n",
    "    \n",
    "    file_features = []\n",
    "    \n",
    "    # apply color conversion if other than 'RGB'\n",
    "    if color_space != 'RGB':\n",
    "        if color_space == 'HSV':\n",
    "            feature_image = cv2.cvtColor(image, cv2.COLOR_RGB2HSV)\n",
    "        elif color_space == 'LUV':\n",
    "            feature_image = cv2.cvtColor(image, cv2.COLOR_RGB2LUV)\n",
    "        elif color_space == 'HLS':\n",
    "            feature_image = cv2.cvtColor(image, cv2.COLOR_RGB2HLS)\n",
    "        elif color_space == 'YUV':\n",
    "            feature_image = cv2.cvtColor(image, cv2.COLOR_RGB2YUV)\n",
    "        elif color_space == 'YCrCb':\n",
    "            feature_image = cv2.cvtColor(image, cv2.COLOR_RGB2YCrCb)\n",
    "    else: feature_image = np.copy(image)      \n",
    "\n",
    "    if spatial_feat == True:\n",
    "        spatial_features = bin_spatial(feature_image, size=spatial_size)\n",
    "        file_features.append(spatial_features)\n",
    "    if hist_feat == True:\n",
    "        # Apply color_hist()\n",
    "        hist_features = color_hist(feature_image, nbins=hist_bins)\n",
    "        file_features.append(hist_features)\n",
    "    if hog_feat == True:\n",
    "    # Call get_hog_features() with vis=False, feature_vec=True\n",
    "        if hog_channel == 'ALL':\n",
    "            hog_features = []\n",
    "            for channel in range(feature_image.shape[2]):\n",
    "                hog_features.append(get_hog_features(feature_image[:,:,channel], \n",
    "                                    orient, pix_per_cell, cell_per_block, \n",
    "                                    vis=False, feature_vec=True))\n",
    "            hog_features = np.ravel(hog_features)        \n",
    "        else:\n",
    "            hog_features = get_hog_features(feature_image[:,:,hog_channel], orient, \n",
    "                        pix_per_cell, cell_per_block, vis=False, feature_vec=True)\n",
    "        # Append the new feature vector to the features list\n",
    "        file_features.append(hog_features)\n",
    "        \n",
    "    return file_features\n",
    "\n",
    "def extract_features(imgs, color_space='RGB', spatial_size=(32, 32),\n",
    "                        hist_bins=32, orient=9, \n",
    "                        pix_per_cell=8, cell_per_block=2, hog_channel=0,\n",
    "                        spatial_feat=True, hist_feat=True, hog_feat=True):\n",
    "    # Create a list to append feature vectors to\n",
    "    features = []\n",
    "    # Iterate through the list of images\n",
    "    for file in imgs:\n",
    "        file_features = []\n",
    "        # Read in each one by one\n",
    "        image = mpimg.imread(file)\n",
    "        \n",
    "        #print('image shape ', image.shape)\n",
    "        \n",
    "        file_features = extract_single_image_features(image, color_space, spatial_size,\n",
    "                        hist_bins, orient, \n",
    "                        pix_per_cell, cell_per_block, hog_channel,\n",
    "                        spatial_feat, hist_feat, hog_feat)\n",
    "\n",
    "        features.append(np.concatenate(file_features))\n",
    "    # Return list of feature vectors\n",
    "    return features"
   ]
  },
  {
   "cell_type": "code",
   "execution_count": 4,
   "metadata": {},
   "outputs": [
    {
     "name": "stdout",
     "output_type": "stream",
     "text": [
      "features.shape  6\n",
      "features[0].shape  (512604,)\n"
     ]
    }
   ],
   "source": [
    "import glob\n",
    "image_filenames = glob.glob('test_images/test*.jpg')\n",
    "#plt.imshow(image)\n",
    "\n",
    "features = extract_features(image_filenames, color_space='RGB', spatial_size=(32, 32),\n",
    "                        hist_bins=32, orient=9, \n",
    "                        pix_per_cell=8, cell_per_block=2, hog_channel=0,\n",
    "                        spatial_feat=True, hist_feat=True, hog_feat=True)\n",
    "\n",
    "print('features.shape ', len(features))\n",
    "print('features[0].shape ', features[0].shape)"
   ]
  },
  {
   "cell_type": "code",
   "execution_count": 6,
   "metadata": {
    "collapsed": true
   },
   "outputs": [],
   "source": [
    "# Tune the parameters here\n",
    "\n",
    "color_space = 'YUV' # Can be RGB, HSV, LUV, HLS, YUV, YCrCb\n",
    "orient = 9  # HOG orientations\n",
    "pix_per_cell = 8 # HOG pixels per cell\n",
    "cell_per_block = 2 # HOG cells per block\n",
    "hog_channel = 'ALL' # Can be 0, 1, 2, or \"ALL\"\n",
    "spatial_size = (16, 16) # Spatial binning dimensions\n",
    "hist_bins = 16    # Number of histogram bins\n",
    "spatial_feat = True # Spatial features on or off\n",
    "hist_feat = True # Histogram features on or off\n",
    "hog_feat = True # HOG features on or off\n",
    "y_start_stop = [None, None] # Min and max in y to search in slide_window()\n",
    "\n",
    "\n",
    "# find_cars parameters\n",
    "ystart = 400\n",
    "ystop = 680\n",
    "scale = 1.5\n",
    "\n",
    "\n",
    "# No. of samples to consider for training\n",
    "#sample_size = 50"
   ]
  },
  {
   "cell_type": "code",
   "execution_count": 8,
   "metadata": {},
   "outputs": [],
   "source": [
    "from sklearn.cross_validation import train_test_split\n",
    "import matplotlib.image as mpimg\n",
    "import matplotlib.pyplot as plt\n",
    "import numpy as np\n",
    "import cv2\n",
    "import glob\n",
    "import time\n",
    "from sklearn.svm import LinearSVC\n",
    "from sklearn.preprocessing import StandardScaler\n",
    "from skimage.feature import hog\n",
    "\n",
    "def train(cars, notcars):\n",
    "    print('no. of not car images is ', len(notcars))\n",
    "    print('no. of car images is ', len(cars))\n",
    "\n",
    "#    cars = cars[0:sample_size]\n",
    "#    notcars = notcars[0:sample_size]\n",
    "\n",
    "    car_features = extract_features(cars, color_space=color_space, \n",
    "                            spatial_size=spatial_size, hist_bins=hist_bins, \n",
    "                            orient=orient, pix_per_cell=pix_per_cell, \n",
    "                            cell_per_block=cell_per_block, \n",
    "                            hog_channel=hog_channel, spatial_feat=spatial_feat, \n",
    "                            hist_feat=hist_feat, hog_feat=hog_feat)\n",
    "    notcar_features = extract_features(notcars, color_space=color_space, \n",
    "                            spatial_size=spatial_size, hist_bins=hist_bins, \n",
    "                            orient=orient, pix_per_cell=pix_per_cell, \n",
    "                            cell_per_block=cell_per_block, \n",
    "                            hog_channel=hog_channel, spatial_feat=spatial_feat, \n",
    "                            hist_feat=hist_feat, hog_feat=hog_feat)\n",
    "\n",
    "    # Create an array stack of feature vectors\n",
    "    X = np.vstack((car_features, notcar_features)).astype(np.float64)\n",
    "\n",
    "    # Define the labels vector\n",
    "    y = np.hstack((np.ones(len(car_features)), np.zeros(len(notcar_features))))\n",
    "\n",
    "    # Split up data into randomized training and test sets\n",
    "    rand_state = np.random.randint(0, 100)\n",
    "    X_train, X_test, y_train, y_test = train_test_split(\n",
    "        X, y, test_size=0.2, random_state=rand_state)\n",
    "\n",
    "    print('X_train shape', X_train.shape)\n",
    "    print('X_test shape', X_test.shape)\n",
    "\n",
    "    # Fit a per-column scaler\n",
    "    X_scaler = StandardScaler().fit(X_train)\n",
    "    # Apply the scaler to X\n",
    "    X_train = X_scaler.transform(X_train)\n",
    "    X_test = X_scaler.transform(X_test)\n",
    "\n",
    "    print('Using:',orient,'orientations',pix_per_cell,\n",
    "        'pixels per cell and', cell_per_block,'cells per block')\n",
    "    print('Feature vector length:', len(X_train[0]))\n",
    "    # Use a linear SVC \n",
    "    svc = LinearSVC()\n",
    "    # Check the training time for the SVC\n",
    "    t=time.time()\n",
    "    svc.fit(X_train, y_train)\n",
    "    t2 = time.time()\n",
    "    print(round(t2-t, 2), 'Seconds to train SVC...')\n",
    "    # Check the score of the SVC\n",
    "    accuracy_score = round(svc.score(X_test, y_test), 4)\n",
    "    print('Test Accuracy of SVC = ', accuracy_score)\n",
    "    # Check the prediction time for a single sample\n",
    "    t=time.time()\n",
    "\n",
    "    return svc, X_scaler, accuracy_score\n",
    "\n",
    "\n",
    "#notcars = glob.glob('../CarND-Vehicle-Detection-Data/non-vehicles/**/*.png')\n",
    "#cars = glob.glob('../CarND-Vehicle-Detection-Data/vehicles/**/*.png')\n",
    "\n",
    "#svc, X_scaler, accuracy_score = train(cars, notcars)"
   ]
  },
  {
   "cell_type": "code",
   "execution_count": 9,
   "metadata": {
    "collapsed": true
   },
   "outputs": [],
   "source": [
    "# Define a single function that can extract features using hog sub-sampling and make predictions\n",
    "def find_cars(img, ystart, ystop, scale, svc, X_scaler, orient, pix_per_cell, cell_per_block, spatial_size, hist_bins):\n",
    "    \n",
    "    print('spatial_size ', spatial_size)\n",
    "    print('hist ', hist_bins)\n",
    "    print('orient ', orient)\n",
    "    \n",
    "    draw_img = np.copy(img)\n",
    "    img = img.astype(np.float32)/255\n",
    "    \n",
    "    img_tosearch = img[ystart:ystop,:,:]\n",
    "    ctrans_tosearch = convert_color(img_tosearch, conv=color_space)\n",
    "    if scale != 1:\n",
    "        imshape = ctrans_tosearch.shape\n",
    "        #print('imshape ', imshape)\n",
    "        #print('ctrans_tosearch ', ctrans_tosearch)\n",
    "        ctrans_tosearch = cv2.resize(ctrans_tosearch, (np.int(imshape[1]/scale), np.int(imshape[0]/scale)))\n",
    "        \n",
    "    ch1 = ctrans_tosearch[:,:,0]\n",
    "    ch2 = ctrans_tosearch[:,:,1]\n",
    "    ch3 = ctrans_tosearch[:,:,2]\n",
    "\n",
    "\n",
    "    # Define blocks and steps as above\n",
    "    nxblocks = (ch1.shape[1] // pix_per_cell) - cell_per_block + 1\n",
    "    nyblocks = (ch1.shape[0] // pix_per_cell) - cell_per_block + 1 \n",
    "    nfeat_per_block = orient*cell_per_block**2\n",
    "    \n",
    "        \n",
    "    print('ch1.shape[1] ', ch1.shape[1])\n",
    "    print('pix_per_cell ', pix_per_cell)\n",
    "    print('(ch1.shape[1] // pix_per_cell) ', (ch1.shape[1] // pix_per_cell))\n",
    "    print('cell_per_block ', cell_per_block)\n",
    "    print('nxblocks ', nxblocks)\n",
    "    \n",
    "    # 64 was the orginal sampling rate, with 8 cells and 8 pix per cell\n",
    "    window = 64\n",
    "    nblocks_per_window = (window // pix_per_cell) - cell_per_block + 1\n",
    "    cells_per_step = 2  # Instead of overlap, define how many cells to step\n",
    "    nxsteps = (nxblocks - nblocks_per_window) // cells_per_step + 1\n",
    "    nysteps = (nyblocks - nblocks_per_window) // cells_per_step + 1\n",
    "    \n",
    "    # Compute individual channel HOG features for the entire image\n",
    "    hog1 = get_hog_features(ch1, orient, pix_per_cell, cell_per_block, feature_vec=False)\n",
    "    hog2 = get_hog_features(ch2, orient, pix_per_cell, cell_per_block, feature_vec=False)\n",
    "    hog3 = get_hog_features(ch3, orient, pix_per_cell, cell_per_block, feature_vec=False)\n",
    "    \n",
    "    rectangles = []\n",
    "    \n",
    "    for xb in range(nxsteps):\n",
    "        for yb in range(nysteps):\n",
    "            ypos = yb*cells_per_step\n",
    "            xpos = xb*cells_per_step\n",
    "            # Extract HOG for this patch\n",
    "            hog_feat1 = hog1[ypos:ypos+nblocks_per_window, xpos:xpos+nblocks_per_window].ravel() \n",
    "            hog_feat2 = hog2[ypos:ypos+nblocks_per_window, xpos:xpos+nblocks_per_window].ravel() \n",
    "            hog_feat3 = hog3[ypos:ypos+nblocks_per_window, xpos:xpos+nblocks_per_window].ravel() \n",
    "            hog_features = np.hstack((hog_feat1, hog_feat2, hog_feat3))\n",
    "\n",
    "            xleft = xpos*pix_per_cell\n",
    "            ytop = ypos*pix_per_cell\n",
    "\n",
    "            # Extract the image patch\n",
    "            subimg = cv2.resize(ctrans_tosearch[ytop:ytop+window, xleft:xleft+window], (64,64))\n",
    "          \n",
    "            # Get color features\n",
    "            spatial_features = bin_spatial(subimg, size=spatial_size)\n",
    "            hist_features = color_hist(subimg, nbins=hist_bins)\n",
    "\n",
    "            # Scale features and make a prediction\n",
    "            test_features = X_scaler.transform(np.hstack((spatial_features, hist_features, hog_features)).reshape(1, -1))    \n",
    "            #test_features = X_scaler.transform(np.hstack((shape_feat, hist_feat)).reshape(1, -1))    \n",
    "            test_prediction = svc.predict(test_features)\n",
    "            \n",
    "            if test_prediction == 1:\n",
    "                xbox_left = np.int(xleft*scale)\n",
    "                ytop_draw = np.int(ytop*scale)\n",
    "                win_draw = np.int(window*scale)\n",
    "                cv2.rectangle(draw_img,(xbox_left, ytop_draw+ystart),(xbox_left+win_draw,ytop_draw+win_draw+ystart),(0,0,255),6) \n",
    "                rectangles.append(((xbox_left, ytop_draw+ystart),(xbox_left+win_draw,ytop_draw+win_draw+ystart)))\n",
    "     \n",
    "    print('no. of rectangles found is ', len(rectangles))\n",
    "    return rectangles\n"
   ]
  },
  {
   "cell_type": "code",
   "execution_count": 10,
   "metadata": {
    "collapsed": true
   },
   "outputs": [],
   "source": [
    "# Define a function that takes an image, a list of bounding boxes, \n",
    "# and optional color tuple and line thickness as inputs\n",
    "# then draws boxes in that color on the output\n",
    "\n",
    "def draw_boxes(img, bboxes, color=(0, 0, 255), thick=6):\n",
    "    # Make a copy of the image\n",
    "    draw_img = np.copy(img)\n",
    "    # Iterate through the bounding boxes\n",
    "    for bbox in bboxes:\n",
    "        # Draw a rectangle given bbox coordinates\n",
    "        cv2.rectangle(draw_img, bbox[0], bbox[1], color, thick)\n",
    "    # Return the image copy with boxes drawn\n",
    "    return draw_img"
   ]
  },
  {
   "cell_type": "code",
   "execution_count": 11,
   "metadata": {
    "collapsed": true
   },
   "outputs": [],
   "source": [
    "def add_heat(heatmap, bbox_list):\n",
    "    # Iterate through list of bboxes\n",
    "    for box in bbox_list:\n",
    "        # Add += 1 for all pixels inside each bbox\n",
    "        # Assuming each \"box\" takes the form ((x1, y1), (x2, y2))\n",
    "        heatmap[box[0][1]:box[1][1], box[0][0]:box[1][0]] += 1\n",
    "\n",
    "    # Return updated heatmap\n",
    "    return heatmap# Iterate through list of bboxes\n",
    "    \n",
    "def apply_threshold(heatmap, threshold):\n",
    "    # Zero out pixels below the threshold\n",
    "    heatmap[heatmap <= threshold] = 0\n",
    "    # Return thresholded map\n",
    "    return heatmap\n",
    "\n",
    "def draw_labeled_bboxes(img, labels):\n",
    "    # Iterate through all detected cars\n",
    "    for car_number in range(1, labels[1]+1):\n",
    "        # Find pixels with each car_number label value\n",
    "        nonzero = (labels[0] == car_number).nonzero()\n",
    "        # Identify x and y values of those pixels\n",
    "        nonzeroy = np.array(nonzero[0])\n",
    "        nonzerox = np.array(nonzero[1])\n",
    "        # Define a bounding box based on min/max x and y\n",
    "        bbox = ((np.min(nonzerox), np.min(nonzeroy)), (np.max(nonzerox), np.max(nonzeroy)))\n",
    "        # Draw the box on the image\n",
    "        cv2.rectangle(img, bbox[0], bbox[1], (0,0,255), 6)\n",
    "    # Return the image\n",
    "    return img\n"
   ]
  },
  {
   "cell_type": "code",
   "execution_count": null,
   "metadata": {},
   "outputs": [],
   "source": [
    "test_image = mpimg.imread('test_images/test1.jpg')\n",
    "\n",
    "#plt.imshow(test_image)\n",
    "\n",
    "rectangles = find_cars(test_image, ystart, ystop, scale, svc, X_scaler, orient, pix_per_cell, cell_per_block, spatial_size, hist_bins)\n",
    "\n",
    "image_with_boxes = np.copy(test_image)\n",
    "image_with_boxes = draw_boxes(image_with_boxes, rectangles)\n",
    "\n",
    "plt.imshow(image_with_boxes)"
   ]
  },
  {
   "cell_type": "code",
   "execution_count": null,
   "metadata": {},
   "outputs": [],
   "source": [
    "from scipy.ndimage.measurements import label\n",
    "\n",
    "heat = np.zeros_like(test_image[:,:,0]).astype(np.float)\n",
    "\n",
    "\n",
    "# Add heat to each box in box list\n",
    "heat = add_heat(heat,rectangles)\n",
    "    \n",
    "# Apply threshold to help remove false positives\n",
    "heat = apply_threshold(heat,1)\n",
    "\n",
    "# Visualize the heatmap when displaying    \n",
    "heatmap = np.clip(heat, 0, 255)\n",
    "\n",
    "# Find final boxes from heatmap using label function\n",
    "labels = label(heatmap)\n",
    "draw_img = draw_labeled_bboxes(np.copy(test_image), labels)\n",
    "\n",
    "fig = plt.figure()\n",
    "plt.subplot(121)\n",
    "plt.imshow(draw_img)\n",
    "plt.title('Car Positions')\n",
    "plt.subplot(122)\n",
    "plt.imshow(heatmap, cmap='hot')\n",
    "plt.title('Heat Map')\n",
    "fig.tight_layout()\n"
   ]
  },
  {
   "cell_type": "code",
   "execution_count": 12,
   "metadata": {},
   "outputs": [
    {
     "name": "stdout",
     "output_type": "stream",
     "text": [
      "no. of not car images is  8968\n",
      "no. of car images is  8792\n",
      "X_train shape (14208, 6108)\n",
      "X_test shape (3552, 6108)\n",
      "Using: 9 orientations 8 pixels per cell and 2 cells per block\n",
      "Feature vector length: 6108\n",
      "22.08 Seconds to train SVC...\n",
      "Test Accuracy of SVC =  0.9848\n"
     ]
    }
   ],
   "source": [
    "import pickle\n",
    "import time\n",
    "\n",
    "notcars = glob.glob('../CarND-Vehicle-Detection-Data/non-vehicles/**/*.png')\n",
    "cars = glob.glob('../CarND-Vehicle-Detection-Data/vehicles/**/*.png')\n",
    "\n",
    "t=time.time()\n",
    "\n",
    "svc, X_scaler, accuracy_score = train(cars, notcars)\n",
    "\n",
    "t2 = time.time()\n",
    "print(round(t2-t, 2), 'Seconds to train SVC...')\n",
    "\n",
    "\n",
    "vehicle_detector = { \"svc\": svc, \"X_scaler\": X_scaler }\n",
    "\n",
    "with open('data.pickle', 'wb') as f:\n",
    "    # Pickle the 'data' dictionary using the highest protocol available.\n",
    "    pickle.dump(vehicle_detector, f, pickle.HIGHEST_PROTOCOL)"
   ]
  },
  {
   "cell_type": "code",
   "execution_count": 14,
   "metadata": {},
   "outputs": [
    {
     "name": "stdout",
     "output_type": "stream",
     "text": [
      "spatial_size  (16, 16)\n",
      "hist  16\n",
      "orient  9\n",
      "ch1.shape[1]  853\n",
      "pix_per_cell  8\n",
      "(ch1.shape[1] // pix_per_cell)  106\n",
      "cell_per_block  2\n",
      "nxblocks  105\n",
      "no. of rectangles found is  18\n",
      "spatial_size  (16, 16)\n",
      "hist  16\n",
      "orient  9\n",
      "ch1.shape[1]  853\n",
      "pix_per_cell  8\n",
      "(ch1.shape[1] // pix_per_cell)  106\n",
      "cell_per_block  2\n",
      "nxblocks  105\n",
      "no. of rectangles found is  2\n"
     ]
    }
   ],
   "source": [
    "from scipy.ndimage.measurements import label\n",
    "\n",
    "\n",
    "vehicle_detector = {}\n",
    "\n",
    "with open('data.pickle', 'rb') as f:\n",
    "    vehicle_detector = pickle.load(f)\n",
    "\n",
    "svc = vehicle_detector[\"svc\"]\n",
    "X_scaler = vehicle_detector[\"X_scaler\"]\n",
    "\n",
    "def pipeline(image):\n",
    "    \n",
    "    rectangles = find_cars(image, ystart, ystop, scale, svc, X_scaler, orient, pix_per_cell, cell_per_block, spatial_size, hist_bins)\n",
    "    heat = np.zeros_like(image[:,:,0]).astype(np.float)\n",
    "\n",
    "    # Add heat to each box in box list\n",
    "    heat = add_heat(heat,rectangles)\n",
    "\n",
    "    # Apply threshold to help remove false positives\n",
    "    heat = apply_threshold(heat,1)\n",
    "\n",
    "    # Visualize the heatmap when displaying    \n",
    "    heatmap = np.clip(heat, 0, 255)\n",
    "\n",
    "    # Find final boxes from heatmap using label function\n",
    "    labels = label(heatmap)\n",
    "    draw_img = draw_labeled_bboxes(np.copy(image), labels)\n",
    "\n",
    "    return draw_img\n",
    "    \n",
    "    \n",
    "    \n",
    "\n",
    "draw_img_1 = pipeline(mpimg.imread('test_images/test1.jpg'))\n",
    "draw_img_2 = pipeline(mpimg.imread('test_images/test3.jpg'))\n",
    "#plt.imshow(draw_img)\n",
    "\n",
    "fig = plt.figure()\n",
    "plt.subplot(121)\n",
    "plt.imshow(draw_img_1)\n",
    "plt.title('test1')\n",
    "plt.subplot(122)\n",
    "plt.imshow(draw_img_2)\n",
    "plt.title('test3')\n",
    "fig.tight_layout()\n"
   ]
  },
  {
   "cell_type": "code",
   "execution_count": 17,
   "metadata": {},
   "outputs": [
    {
     "name": "stdout",
     "output_type": "stream",
     "text": [
      "spatial_size  (16, 16)\n",
      "hist  16\n",
      "orient  9\n",
      "ch1.shape[1]  853\n",
      "pix_per_cell  8\n",
      "(ch1.shape[1] // pix_per_cell)  106\n",
      "cell_per_block  2\n",
      "nxblocks  105\n",
      "no. of rectangles found is  2\n",
      "[MoviePy] >>>> Building video vehicles_tracked_on_project_video.mp4\n",
      "[MoviePy] Writing video vehicles_tracked_on_project_video.mp4\n"
     ]
    },
    {
     "name": "stderr",
     "output_type": "stream",
     "text": [
      "\r",
      "  0%|          | 0/1261 [00:00<?, ?it/s]"
     ]
    },
    {
     "name": "stdout",
     "output_type": "stream",
     "text": [
      "spatial_size  (16, 16)\n",
      "hist  16\n",
      "orient  9\n",
      "ch1.shape[1]  853\n",
      "pix_per_cell  8\n",
      "(ch1.shape[1] // pix_per_cell)  106\n",
      "cell_per_block  2\n",
      "nxblocks  105\n"
     ]
    },
    {
     "name": "stderr",
     "output_type": "stream",
     "text": [
      "\r",
      "  0%|          | 1/1261 [00:00<18:42,  1.12it/s]"
     ]
    },
    {
     "name": "stdout",
     "output_type": "stream",
     "text": [
      "no. of rectangles found is  2\n",
      "spatial_size  (16, 16)\n",
      "hist  16\n",
      "orient  9\n",
      "ch1.shape[1]  853\n",
      "pix_per_cell  8\n",
      "(ch1.shape[1] // pix_per_cell)  106\n",
      "cell_per_block  2\n",
      "nxblocks  105\n"
     ]
    },
    {
     "name": "stderr",
     "output_type": "stream",
     "text": [
      "\r",
      "  0%|          | 2/1261 [00:01<18:38,  1.13it/s]"
     ]
    },
    {
     "name": "stdout",
     "output_type": "stream",
     "text": [
      "no. of rectangles found is  2\n",
      "spatial_size  (16, 16)\n",
      "hist  16\n",
      "orient  9\n",
      "ch1.shape[1]  853\n",
      "pix_per_cell  8\n",
      "(ch1.shape[1] // pix_per_cell)  106\n",
      "cell_per_block  2\n",
      "nxblocks  105\n"
     ]
    },
    {
     "name": "stderr",
     "output_type": "stream",
     "text": [
      "\r",
      "  0%|          | 3/1261 [00:02<18:50,  1.11it/s]"
     ]
    },
    {
     "name": "stdout",
     "output_type": "stream",
     "text": [
      "no. of rectangles found is  4\n",
      "spatial_size  (16, 16)\n",
      "hist  16\n",
      "orient  9\n",
      "ch1.shape[1]  853\n",
      "pix_per_cell  8\n",
      "(ch1.shape[1] // pix_per_cell)  106\n",
      "cell_per_block  2\n",
      "nxblocks  105\n"
     ]
    },
    {
     "name": "stderr",
     "output_type": "stream",
     "text": [
      "\r",
      "  0%|          | 4/1261 [00:03<18:46,  1.12it/s]"
     ]
    },
    {
     "name": "stdout",
     "output_type": "stream",
     "text": [
      "no. of rectangles found is  7\n",
      "spatial_size  (16, 16)\n",
      "hist  16\n",
      "orient  9\n",
      "ch1.shape[1]  853\n",
      "pix_per_cell  8\n",
      "(ch1.shape[1] // pix_per_cell)  106\n",
      "cell_per_block  2\n",
      "nxblocks  105\n"
     ]
    },
    {
     "name": "stderr",
     "output_type": "stream",
     "text": [
      "\r",
      "  0%|          | 5/1261 [00:04<18:42,  1.12it/s]"
     ]
    },
    {
     "name": "stdout",
     "output_type": "stream",
     "text": [
      "no. of rectangles found is  8\n",
      "spatial_size  (16, 16)\n",
      "hist  16\n",
      "orient  9\n",
      "ch1.shape[1]  853\n",
      "pix_per_cell  8\n",
      "(ch1.shape[1] // pix_per_cell)  106\n",
      "cell_per_block  2\n",
      "nxblocks  105\n"
     ]
    },
    {
     "name": "stderr",
     "output_type": "stream",
     "text": [
      "\r",
      "  0%|          | 6/1261 [00:05<18:31,  1.13it/s]"
     ]
    },
    {
     "name": "stdout",
     "output_type": "stream",
     "text": [
      "no. of rectangles found is  5\n",
      "spatial_size  (16, 16)\n",
      "hist  16\n",
      "orient  9\n",
      "ch1.shape[1]  853\n",
      "pix_per_cell  8\n",
      "(ch1.shape[1] // pix_per_cell)  106\n",
      "cell_per_block  2\n",
      "nxblocks  105\n"
     ]
    },
    {
     "name": "stderr",
     "output_type": "stream",
     "text": [
      "\r",
      "  1%|          | 7/1261 [00:06<18:29,  1.13it/s]"
     ]
    },
    {
     "name": "stdout",
     "output_type": "stream",
     "text": [
      "no. of rectangles found is  3\n",
      "spatial_size  (16, 16)\n",
      "hist  16\n",
      "orient  9\n",
      "ch1.shape[1]  853\n",
      "pix_per_cell  8\n",
      "(ch1.shape[1] // pix_per_cell)  106\n",
      "cell_per_block  2\n",
      "nxblocks  105\n"
     ]
    },
    {
     "name": "stderr",
     "output_type": "stream",
     "text": [
      "\r",
      "  1%|          | 8/1261 [00:07<18:30,  1.13it/s]"
     ]
    },
    {
     "name": "stdout",
     "output_type": "stream",
     "text": [
      "no. of rectangles found is  3\n",
      "spatial_size  (16, 16)\n",
      "hist  16\n",
      "orient  9\n",
      "ch1.shape[1]  853\n",
      "pix_per_cell  8\n",
      "(ch1.shape[1] // pix_per_cell)  106\n",
      "cell_per_block  2\n",
      "nxblocks  105\n"
     ]
    },
    {
     "name": "stderr",
     "output_type": "stream",
     "text": [
      "\r",
      "  1%|          | 9/1261 [00:08<18:29,  1.13it/s]"
     ]
    },
    {
     "name": "stdout",
     "output_type": "stream",
     "text": [
      "no. of rectangles found is  4\n",
      "spatial_size  (16, 16)\n",
      "hist  16\n",
      "orient  9\n",
      "ch1.shape[1]  853\n",
      "pix_per_cell  8\n",
      "(ch1.shape[1] // pix_per_cell)  106\n",
      "cell_per_block  2\n",
      "nxblocks  105\n"
     ]
    },
    {
     "name": "stderr",
     "output_type": "stream",
     "text": [
      "\r",
      "  1%|          | 10/1261 [00:08<18:27,  1.13it/s]"
     ]
    },
    {
     "name": "stdout",
     "output_type": "stream",
     "text": [
      "no. of rectangles found is  6\n",
      "spatial_size  (16, 16)\n",
      "hist  16\n",
      "orient  9\n",
      "ch1.shape[1]  853\n",
      "pix_per_cell  8\n",
      "(ch1.shape[1] // pix_per_cell)  106\n",
      "cell_per_block  2\n",
      "nxblocks  105\n"
     ]
    },
    {
     "name": "stderr",
     "output_type": "stream",
     "text": [
      "\r",
      "  1%|          | 11/1261 [00:09<18:21,  1.13it/s]"
     ]
    },
    {
     "name": "stdout",
     "output_type": "stream",
     "text": [
      "no. of rectangles found is  4\n",
      "spatial_size  (16, 16)\n",
      "hist  16\n",
      "orient  9\n",
      "ch1.shape[1]  853\n",
      "pix_per_cell  8\n",
      "(ch1.shape[1] // pix_per_cell)  106\n",
      "cell_per_block  2\n",
      "nxblocks  105\n"
     ]
    },
    {
     "name": "stderr",
     "output_type": "stream",
     "text": [
      "\r",
      "  1%|          | 12/1261 [00:10<18:19,  1.14it/s]"
     ]
    },
    {
     "name": "stdout",
     "output_type": "stream",
     "text": [
      "no. of rectangles found is  5\n",
      "spatial_size  (16, 16)\n",
      "hist  16\n",
      "orient  9\n",
      "ch1.shape[1]  853\n",
      "pix_per_cell  8\n",
      "(ch1.shape[1] // pix_per_cell)  106\n",
      "cell_per_block  2\n",
      "nxblocks  105\n"
     ]
    },
    {
     "name": "stderr",
     "output_type": "stream",
     "text": [
      "\r",
      "  1%|          | 13/1261 [00:11<18:39,  1.11it/s]"
     ]
    },
    {
     "name": "stdout",
     "output_type": "stream",
     "text": [
      "no. of rectangles found is  3\n",
      "spatial_size  (16, 16)\n",
      "hist  16\n",
      "orient  9\n",
      "ch1.shape[1]  853\n",
      "pix_per_cell  8\n",
      "(ch1.shape[1] // pix_per_cell)  106\n",
      "cell_per_block  2\n",
      "nxblocks  105\n"
     ]
    },
    {
     "name": "stderr",
     "output_type": "stream",
     "text": [
      "\r",
      "  1%|          | 14/1261 [00:12<18:39,  1.11it/s]"
     ]
    },
    {
     "name": "stdout",
     "output_type": "stream",
     "text": [
      "no. of rectangles found is  0\n",
      "spatial_size  (16, 16)\n",
      "hist  16\n",
      "orient  9\n",
      "ch1.shape[1]  853\n",
      "pix_per_cell  8\n",
      "(ch1.shape[1] // pix_per_cell)  106\n",
      "cell_per_block  2\n",
      "nxblocks  105\n"
     ]
    },
    {
     "name": "stderr",
     "output_type": "stream",
     "text": [
      "\r",
      "  1%|          | 15/1261 [00:13<18:37,  1.11it/s]"
     ]
    },
    {
     "name": "stdout",
     "output_type": "stream",
     "text": [
      "no. of rectangles found is  1\n",
      "spatial_size  (16, 16)\n",
      "hist  16\n",
      "orient  9\n",
      "ch1.shape[1]  853\n",
      "pix_per_cell  8\n",
      "(ch1.shape[1] // pix_per_cell)  106\n",
      "cell_per_block  2\n",
      "nxblocks  105\n"
     ]
    },
    {
     "name": "stderr",
     "output_type": "stream",
     "text": [
      "\r",
      "  1%|▏         | 16/1261 [00:14<18:29,  1.12it/s]"
     ]
    },
    {
     "name": "stdout",
     "output_type": "stream",
     "text": [
      "no. of rectangles found is  2\n",
      "spatial_size  (16, 16)\n",
      "hist  16\n",
      "orient  9\n",
      "ch1.shape[1]  853\n",
      "pix_per_cell  8\n",
      "(ch1.shape[1] // pix_per_cell)  106\n",
      "cell_per_block  2\n",
      "nxblocks  105\n"
     ]
    },
    {
     "name": "stderr",
     "output_type": "stream",
     "text": [
      "\r",
      "  1%|▏         | 17/1261 [00:15<18:24,  1.13it/s]"
     ]
    },
    {
     "name": "stdout",
     "output_type": "stream",
     "text": [
      "no. of rectangles found is  1\n",
      "spatial_size  (16, 16)\n",
      "hist  16\n",
      "orient  9\n",
      "ch1.shape[1]  853\n",
      "pix_per_cell  8\n",
      "(ch1.shape[1] // pix_per_cell)  106\n",
      "cell_per_block  2\n",
      "nxblocks  105\n"
     ]
    },
    {
     "name": "stderr",
     "output_type": "stream",
     "text": [
      "\r",
      "  1%|▏         | 18/1261 [00:16<18:20,  1.13it/s]"
     ]
    },
    {
     "name": "stdout",
     "output_type": "stream",
     "text": [
      "no. of rectangles found is  0\n",
      "spatial_size  (16, 16)\n",
      "hist  16\n",
      "orient  9\n",
      "ch1.shape[1]  853\n",
      "pix_per_cell  8\n",
      "(ch1.shape[1] // pix_per_cell)  106\n",
      "cell_per_block  2\n",
      "nxblocks  105\n"
     ]
    },
    {
     "name": "stderr",
     "output_type": "stream",
     "text": [
      "\r",
      "  2%|▏         | 19/1261 [00:16<18:14,  1.13it/s]"
     ]
    },
    {
     "name": "stdout",
     "output_type": "stream",
     "text": [
      "no. of rectangles found is  2\n",
      "spatial_size  (16, 16)\n",
      "hist  16\n",
      "orient  9\n",
      "ch1.shape[1]  853\n",
      "pix_per_cell  8\n",
      "(ch1.shape[1] // pix_per_cell)  106\n",
      "cell_per_block  2\n",
      "nxblocks  105\n"
     ]
    },
    {
     "name": "stderr",
     "output_type": "stream",
     "text": [
      "\r",
      "  2%|▏         | 20/1261 [00:17<18:19,  1.13it/s]"
     ]
    },
    {
     "name": "stdout",
     "output_type": "stream",
     "text": [
      "no. of rectangles found is  2\n",
      "spatial_size  (16, 16)\n",
      "hist  16\n",
      "orient  9\n",
      "ch1.shape[1]  853\n",
      "pix_per_cell  8\n",
      "(ch1.shape[1] // pix_per_cell)  106\n",
      "cell_per_block  2\n",
      "nxblocks  105\n"
     ]
    },
    {
     "name": "stderr",
     "output_type": "stream",
     "text": [
      "\r",
      "  2%|▏         | 21/1261 [00:18<18:15,  1.13it/s]"
     ]
    },
    {
     "name": "stdout",
     "output_type": "stream",
     "text": [
      "no. of rectangles found is  2\n",
      "spatial_size  (16, 16)\n",
      "hist  16\n",
      "orient  9\n",
      "ch1.shape[1]  853\n",
      "pix_per_cell  8\n",
      "(ch1.shape[1] // pix_per_cell)  106\n",
      "cell_per_block  2\n",
      "nxblocks  105\n"
     ]
    },
    {
     "name": "stderr",
     "output_type": "stream",
     "text": [
      "\r",
      "  2%|▏         | 22/1261 [00:19<18:16,  1.13it/s]"
     ]
    },
    {
     "name": "stdout",
     "output_type": "stream",
     "text": [
      "no. of rectangles found is  1\n",
      "spatial_size  (16, 16)\n",
      "hist  16\n",
      "orient  9\n",
      "ch1.shape[1]  853\n",
      "pix_per_cell  8\n",
      "(ch1.shape[1] // pix_per_cell)  106\n",
      "cell_per_block  2\n",
      "nxblocks  105\n"
     ]
    },
    {
     "name": "stderr",
     "output_type": "stream",
     "text": [
      "\r",
      "  2%|▏         | 23/1261 [00:20<18:14,  1.13it/s]"
     ]
    },
    {
     "name": "stdout",
     "output_type": "stream",
     "text": [
      "no. of rectangles found is  5\n",
      "spatial_size  (16, 16)\n",
      "hist  16\n",
      "orient  9\n",
      "ch1.shape[1]  853\n",
      "pix_per_cell  8\n",
      "(ch1.shape[1] // pix_per_cell)  106\n",
      "cell_per_block  2\n",
      "nxblocks  105\n"
     ]
    },
    {
     "name": "stderr",
     "output_type": "stream",
     "text": [
      "\r",
      "  2%|▏         | 24/1261 [00:21<18:12,  1.13it/s]"
     ]
    },
    {
     "name": "stdout",
     "output_type": "stream",
     "text": [
      "no. of rectangles found is  3\n",
      "spatial_size  (16, 16)\n",
      "hist  16\n",
      "orient  9\n",
      "ch1.shape[1]  853\n",
      "pix_per_cell  8\n",
      "(ch1.shape[1] // pix_per_cell)  106\n",
      "cell_per_block  2\n",
      "nxblocks  105\n"
     ]
    },
    {
     "name": "stderr",
     "output_type": "stream",
     "text": [
      "\r",
      "  2%|▏         | 25/1261 [00:22<18:23,  1.12it/s]"
     ]
    },
    {
     "name": "stdout",
     "output_type": "stream",
     "text": [
      "no. of rectangles found is  10\n",
      "spatial_size  (16, 16)\n",
      "hist  16\n",
      "orient  9\n",
      "ch1.shape[1]  853\n",
      "pix_per_cell  8\n",
      "(ch1.shape[1] // pix_per_cell)  106\n",
      "cell_per_block  2\n",
      "nxblocks  105\n"
     ]
    },
    {
     "name": "stderr",
     "output_type": "stream",
     "text": [
      "\r",
      "  2%|▏         | 26/1261 [00:23<18:32,  1.11it/s]"
     ]
    },
    {
     "name": "stdout",
     "output_type": "stream",
     "text": [
      "no. of rectangles found is  1\n",
      "spatial_size  (16, 16)\n",
      "hist  16\n",
      "orient  9\n",
      "ch1.shape[1]  853\n",
      "pix_per_cell  8\n",
      "(ch1.shape[1] // pix_per_cell)  106\n",
      "cell_per_block  2\n",
      "nxblocks  105\n"
     ]
    },
    {
     "name": "stderr",
     "output_type": "stream",
     "text": [
      "\r",
      "  2%|▏         | 27/1261 [00:24<18:23,  1.12it/s]"
     ]
    },
    {
     "name": "stdout",
     "output_type": "stream",
     "text": [
      "no. of rectangles found is  7\n",
      "spatial_size  (16, 16)\n",
      "hist  16\n",
      "orient  9\n",
      "ch1.shape[1]  853\n",
      "pix_per_cell  8\n",
      "(ch1.shape[1] // pix_per_cell)  106\n",
      "cell_per_block  2\n",
      "nxblocks  105\n"
     ]
    },
    {
     "name": "stderr",
     "output_type": "stream",
     "text": [
      "\r",
      "  2%|▏         | 28/1261 [00:24<18:25,  1.12it/s]"
     ]
    },
    {
     "name": "stdout",
     "output_type": "stream",
     "text": [
      "no. of rectangles found is  8\n",
      "spatial_size  (16, 16)\n",
      "hist  16\n",
      "orient  9\n",
      "ch1.shape[1]  853\n",
      "pix_per_cell  8\n",
      "(ch1.shape[1] // pix_per_cell)  106\n",
      "cell_per_block  2\n",
      "nxblocks  105\n"
     ]
    },
    {
     "name": "stderr",
     "output_type": "stream",
     "text": [
      "\r",
      "  2%|▏         | 29/1261 [00:25<18:21,  1.12it/s]"
     ]
    },
    {
     "name": "stdout",
     "output_type": "stream",
     "text": [
      "no. of rectangles found is  6\n",
      "spatial_size  (16, 16)\n",
      "hist  16\n",
      "orient  9\n",
      "ch1.shape[1]  853\n",
      "pix_per_cell  8\n",
      "(ch1.shape[1] // pix_per_cell)  106\n",
      "cell_per_block  2\n",
      "nxblocks  105\n"
     ]
    },
    {
     "name": "stderr",
     "output_type": "stream",
     "text": [
      "\r",
      "  2%|▏         | 30/1261 [00:26<18:16,  1.12it/s]"
     ]
    },
    {
     "name": "stdout",
     "output_type": "stream",
     "text": [
      "no. of rectangles found is  3\n",
      "spatial_size  (16, 16)\n",
      "hist  16\n",
      "orient  9\n",
      "ch1.shape[1]  853\n",
      "pix_per_cell  8\n",
      "(ch1.shape[1] // pix_per_cell)  106\n",
      "cell_per_block  2\n",
      "nxblocks  105\n"
     ]
    },
    {
     "name": "stderr",
     "output_type": "stream",
     "text": [
      "\r",
      "  2%|▏         | 31/1261 [00:27<18:11,  1.13it/s]"
     ]
    },
    {
     "name": "stdout",
     "output_type": "stream",
     "text": [
      "no. of rectangles found is  2\n",
      "spatial_size  (16, 16)\n",
      "hist  16\n",
      "orient  9\n",
      "ch1.shape[1]  853\n",
      "pix_per_cell  8\n",
      "(ch1.shape[1] // pix_per_cell)  106\n",
      "cell_per_block  2\n",
      "nxblocks  105\n"
     ]
    },
    {
     "name": "stderr",
     "output_type": "stream",
     "text": [
      "\r",
      "  3%|▎         | 32/1261 [00:28<18:09,  1.13it/s]"
     ]
    },
    {
     "name": "stdout",
     "output_type": "stream",
     "text": [
      "no. of rectangles found is  10\n",
      "spatial_size  (16, 16)\n",
      "hist  16\n",
      "orient  9\n",
      "ch1.shape[1]  853\n",
      "pix_per_cell  8\n",
      "(ch1.shape[1] // pix_per_cell)  106\n",
      "cell_per_block  2\n",
      "nxblocks  105\n"
     ]
    },
    {
     "name": "stderr",
     "output_type": "stream",
     "text": [
      "\r",
      "  3%|▎         | 33/1261 [00:29<18:07,  1.13it/s]"
     ]
    },
    {
     "name": "stdout",
     "output_type": "stream",
     "text": [
      "no. of rectangles found is  7\n",
      "spatial_size  (16, 16)\n",
      "hist  16\n",
      "orient  9\n",
      "ch1.shape[1]  853\n",
      "pix_per_cell  8\n",
      "(ch1.shape[1] // pix_per_cell)  106\n",
      "cell_per_block  2\n",
      "nxblocks  105\n"
     ]
    },
    {
     "name": "stderr",
     "output_type": "stream",
     "text": [
      "\r",
      "  3%|▎         | 34/1261 [00:30<18:04,  1.13it/s]"
     ]
    },
    {
     "name": "stdout",
     "output_type": "stream",
     "text": [
      "no. of rectangles found is  7\n",
      "spatial_size  (16, 16)\n",
      "hist  16\n",
      "orient  9\n",
      "ch1.shape[1]  853\n",
      "pix_per_cell  8\n",
      "(ch1.shape[1] // pix_per_cell)  106\n",
      "cell_per_block  2\n",
      "nxblocks  105\n"
     ]
    },
    {
     "name": "stderr",
     "output_type": "stream",
     "text": [
      "\r",
      "  3%|▎         | 35/1261 [00:31<18:08,  1.13it/s]"
     ]
    },
    {
     "name": "stdout",
     "output_type": "stream",
     "text": [
      "no. of rectangles found is  7\n",
      "spatial_size  (16, 16)\n",
      "hist  16\n",
      "orient  9\n",
      "ch1.shape[1]  853\n",
      "pix_per_cell  8\n",
      "(ch1.shape[1] // pix_per_cell)  106\n",
      "cell_per_block  2\n",
      "nxblocks  105\n"
     ]
    },
    {
     "name": "stderr",
     "output_type": "stream",
     "text": [
      "\r",
      "  3%|▎         | 36/1261 [00:31<18:02,  1.13it/s]"
     ]
    },
    {
     "name": "stdout",
     "output_type": "stream",
     "text": [
      "no. of rectangles found is  1\n",
      "spatial_size  (16, 16)\n",
      "hist  16\n",
      "orient  9\n",
      "ch1.shape[1]  853\n",
      "pix_per_cell  8\n",
      "(ch1.shape[1] // pix_per_cell)  106\n",
      "cell_per_block  2\n",
      "nxblocks  105\n"
     ]
    },
    {
     "name": "stderr",
     "output_type": "stream",
     "text": [
      "\r",
      "  3%|▎         | 37/1261 [00:32<18:03,  1.13it/s]"
     ]
    },
    {
     "name": "stdout",
     "output_type": "stream",
     "text": [
      "no. of rectangles found is  6\n",
      "spatial_size  (16, 16)\n",
      "hist  16\n",
      "orient  9\n",
      "ch1.shape[1]  853\n",
      "pix_per_cell  8\n",
      "(ch1.shape[1] // pix_per_cell)  106\n",
      "cell_per_block  2\n",
      "nxblocks  105\n"
     ]
    },
    {
     "name": "stderr",
     "output_type": "stream",
     "text": [
      "\r",
      "  3%|▎         | 38/1261 [00:33<17:59,  1.13it/s]"
     ]
    },
    {
     "name": "stdout",
     "output_type": "stream",
     "text": [
      "no. of rectangles found is  0\n",
      "spatial_size  (16, 16)\n",
      "hist  16\n",
      "orient  9\n",
      "ch1.shape[1]  853\n",
      "pix_per_cell  8\n",
      "(ch1.shape[1] // pix_per_cell)  106\n",
      "cell_per_block  2\n",
      "nxblocks  105\n"
     ]
    },
    {
     "name": "stderr",
     "output_type": "stream",
     "text": [
      "\r",
      "  3%|▎         | 39/1261 [00:34<17:53,  1.14it/s]"
     ]
    },
    {
     "name": "stdout",
     "output_type": "stream",
     "text": [
      "no. of rectangles found is  4\n",
      "spatial_size  (16, 16)\n",
      "hist  16\n",
      "orient  9\n",
      "ch1.shape[1]  853\n",
      "pix_per_cell  8\n",
      "(ch1.shape[1] // pix_per_cell)  106\n",
      "cell_per_block  2\n",
      "nxblocks  105\n"
     ]
    },
    {
     "name": "stderr",
     "output_type": "stream",
     "text": [
      "\r",
      "  3%|▎         | 40/1261 [00:35<17:53,  1.14it/s]"
     ]
    },
    {
     "name": "stdout",
     "output_type": "stream",
     "text": [
      "no. of rectangles found is  5\n",
      "spatial_size  (16, 16)\n",
      "hist  16\n",
      "orient  9\n",
      "ch1.shape[1]  853\n",
      "pix_per_cell  8\n",
      "(ch1.shape[1] // pix_per_cell)  106\n",
      "cell_per_block  2\n",
      "nxblocks  105\n"
     ]
    },
    {
     "name": "stderr",
     "output_type": "stream",
     "text": [
      "\r",
      "  3%|▎         | 41/1261 [00:36<17:50,  1.14it/s]"
     ]
    },
    {
     "name": "stdout",
     "output_type": "stream",
     "text": [
      "no. of rectangles found is  2\n",
      "spatial_size  (16, 16)\n",
      "hist  16\n",
      "orient  9\n",
      "ch1.shape[1]  853\n",
      "pix_per_cell  8\n",
      "(ch1.shape[1] // pix_per_cell)  106\n",
      "cell_per_block  2\n",
      "nxblocks  105\n"
     ]
    },
    {
     "name": "stderr",
     "output_type": "stream",
     "text": [
      "\r",
      "  3%|▎         | 42/1261 [00:37<17:57,  1.13it/s]"
     ]
    },
    {
     "name": "stdout",
     "output_type": "stream",
     "text": [
      "no. of rectangles found is  5\n",
      "spatial_size  (16, 16)\n",
      "hist  16\n",
      "orient  9\n",
      "ch1.shape[1]  853\n",
      "pix_per_cell  8\n",
      "(ch1.shape[1] // pix_per_cell)  106\n",
      "cell_per_block  2\n",
      "nxblocks  105\n"
     ]
    },
    {
     "name": "stderr",
     "output_type": "stream",
     "text": [
      "\r",
      "  3%|▎         | 43/1261 [00:38<18:08,  1.12it/s]"
     ]
    },
    {
     "name": "stdout",
     "output_type": "stream",
     "text": [
      "no. of rectangles found is  1\n",
      "spatial_size  (16, 16)\n",
      "hist  16\n",
      "orient  9\n",
      "ch1.shape[1]  853\n",
      "pix_per_cell  8\n",
      "(ch1.shape[1] // pix_per_cell)  106\n",
      "cell_per_block  2\n",
      "nxblocks  105\n"
     ]
    },
    {
     "name": "stderr",
     "output_type": "stream",
     "text": [
      "\r",
      "  3%|▎         | 44/1261 [00:39<18:13,  1.11it/s]"
     ]
    },
    {
     "name": "stdout",
     "output_type": "stream",
     "text": [
      "no. of rectangles found is  6\n",
      "spatial_size  (16, 16)\n",
      "hist  16\n",
      "orient  9\n",
      "ch1.shape[1]  853\n",
      "pix_per_cell  8\n",
      "(ch1.shape[1] // pix_per_cell)  106\n",
      "cell_per_block  2\n",
      "nxblocks  105\n"
     ]
    },
    {
     "name": "stderr",
     "output_type": "stream",
     "text": [
      "\r",
      "  4%|▎         | 45/1261 [00:39<18:08,  1.12it/s]"
     ]
    },
    {
     "name": "stdout",
     "output_type": "stream",
     "text": [
      "no. of rectangles found is  5\n",
      "spatial_size  (16, 16)\n",
      "hist  16\n",
      "orient  9\n",
      "ch1.shape[1]  853\n",
      "pix_per_cell  8\n",
      "(ch1.shape[1] // pix_per_cell)  106\n",
      "cell_per_block  2\n",
      "nxblocks  105\n"
     ]
    },
    {
     "name": "stderr",
     "output_type": "stream",
     "text": [
      "\r",
      "  4%|▎         | 46/1261 [00:40<18:00,  1.12it/s]"
     ]
    },
    {
     "name": "stdout",
     "output_type": "stream",
     "text": [
      "no. of rectangles found is  5\n",
      "spatial_size  (16, 16)\n",
      "hist  16\n",
      "orient  9\n",
      "ch1.shape[1]  853\n",
      "pix_per_cell  8\n",
      "(ch1.shape[1] // pix_per_cell)  106\n",
      "cell_per_block  2\n",
      "nxblocks  105\n"
     ]
    },
    {
     "name": "stderr",
     "output_type": "stream",
     "text": [
      "\r",
      "  4%|▎         | 47/1261 [00:41<17:56,  1.13it/s]"
     ]
    },
    {
     "name": "stdout",
     "output_type": "stream",
     "text": [
      "no. of rectangles found is  3\n",
      "spatial_size  (16, 16)\n",
      "hist  16\n",
      "orient  9\n",
      "ch1.shape[1]  853\n",
      "pix_per_cell  8\n",
      "(ch1.shape[1] // pix_per_cell)  106\n",
      "cell_per_block  2\n",
      "nxblocks  105\n"
     ]
    },
    {
     "name": "stderr",
     "output_type": "stream",
     "text": [
      "\r",
      "  4%|▍         | 48/1261 [00:42<17:53,  1.13it/s]"
     ]
    },
    {
     "name": "stdout",
     "output_type": "stream",
     "text": [
      "no. of rectangles found is  3\n",
      "spatial_size  (16, 16)\n",
      "hist  16\n",
      "orient  9\n",
      "ch1.shape[1]  853\n",
      "pix_per_cell  8\n",
      "(ch1.shape[1] // pix_per_cell)  106\n",
      "cell_per_block  2\n",
      "nxblocks  105\n"
     ]
    },
    {
     "name": "stderr",
     "output_type": "stream",
     "text": [
      "\r",
      "  4%|▍         | 49/1261 [00:43<17:50,  1.13it/s]"
     ]
    },
    {
     "name": "stdout",
     "output_type": "stream",
     "text": [
      "no. of rectangles found is  3\n",
      "spatial_size  (16, 16)\n",
      "hist  16\n",
      "orient  9\n",
      "ch1.shape[1]  853\n",
      "pix_per_cell  8\n",
      "(ch1.shape[1] // pix_per_cell)  106\n",
      "cell_per_block  2\n",
      "nxblocks  105\n"
     ]
    },
    {
     "name": "stderr",
     "output_type": "stream",
     "text": [
      "\r",
      "  4%|▍         | 50/1261 [00:44<17:48,  1.13it/s]"
     ]
    },
    {
     "name": "stdout",
     "output_type": "stream",
     "text": [
      "no. of rectangles found is  4\n",
      "spatial_size  (16, 16)\n",
      "hist  16\n",
      "orient  9\n",
      "ch1.shape[1]  853\n",
      "pix_per_cell  8\n",
      "(ch1.shape[1] // pix_per_cell)  106\n",
      "cell_per_block  2\n",
      "nxblocks  105\n"
     ]
    },
    {
     "name": "stderr",
     "output_type": "stream",
     "text": [
      "\r",
      "  4%|▍         | 51/1261 [00:45<17:47,  1.13it/s]"
     ]
    },
    {
     "name": "stdout",
     "output_type": "stream",
     "text": [
      "no. of rectangles found is  1\n",
      "spatial_size  (16, 16)\n",
      "hist  16\n",
      "orient  9\n",
      "ch1.shape[1]  853\n",
      "pix_per_cell  8\n",
      "(ch1.shape[1] // pix_per_cell)  106\n",
      "cell_per_block  2\n",
      "nxblocks  105\n"
     ]
    },
    {
     "name": "stderr",
     "output_type": "stream",
     "text": [
      "\r",
      "  4%|▍         | 52/1261 [00:46<17:48,  1.13it/s]"
     ]
    },
    {
     "name": "stdout",
     "output_type": "stream",
     "text": [
      "no. of rectangles found is  2\n",
      "spatial_size  (16, 16)\n",
      "hist  16\n",
      "orient  9\n",
      "ch1.shape[1]  853\n",
      "pix_per_cell  8\n",
      "(ch1.shape[1] // pix_per_cell)  106\n",
      "cell_per_block  2\n",
      "nxblocks  105\n"
     ]
    },
    {
     "name": "stderr",
     "output_type": "stream",
     "text": [
      "\r",
      "  4%|▍         | 53/1261 [00:47<17:49,  1.13it/s]"
     ]
    },
    {
     "name": "stdout",
     "output_type": "stream",
     "text": [
      "no. of rectangles found is  2\n",
      "spatial_size  (16, 16)\n",
      "hist  16\n",
      "orient  9\n",
      "ch1.shape[1]  853\n",
      "pix_per_cell  8\n",
      "(ch1.shape[1] // pix_per_cell)  106\n",
      "cell_per_block  2\n",
      "nxblocks  105\n"
     ]
    },
    {
     "name": "stderr",
     "output_type": "stream",
     "text": [
      "\r",
      "  4%|▍         | 54/1261 [00:47<17:49,  1.13it/s]"
     ]
    },
    {
     "name": "stdout",
     "output_type": "stream",
     "text": [
      "no. of rectangles found is  4\n",
      "spatial_size  (16, 16)\n",
      "hist  16\n",
      "orient  9\n",
      "ch1.shape[1]  853\n",
      "pix_per_cell  8\n",
      "(ch1.shape[1] // pix_per_cell)  106\n",
      "cell_per_block  2\n",
      "nxblocks  105\n"
     ]
    },
    {
     "name": "stderr",
     "output_type": "stream",
     "text": [
      "\r",
      "  4%|▍         | 55/1261 [00:48<17:55,  1.12it/s]"
     ]
    },
    {
     "name": "stdout",
     "output_type": "stream",
     "text": [
      "no. of rectangles found is  4\n",
      "spatial_size  (16, 16)\n",
      "hist  16\n",
      "orient  9\n",
      "ch1.shape[1]  853\n",
      "pix_per_cell  8\n",
      "(ch1.shape[1] // pix_per_cell)  106\n",
      "cell_per_block  2\n",
      "nxblocks  105\n"
     ]
    },
    {
     "name": "stderr",
     "output_type": "stream",
     "text": [
      "\r",
      "  4%|▍         | 56/1261 [00:49<17:51,  1.12it/s]"
     ]
    },
    {
     "name": "stdout",
     "output_type": "stream",
     "text": [
      "no. of rectangles found is  2\n",
      "spatial_size  (16, 16)\n",
      "hist  16\n",
      "orient  9\n",
      "ch1.shape[1]  853\n",
      "pix_per_cell  8\n",
      "(ch1.shape[1] // pix_per_cell)  106\n",
      "cell_per_block  2\n",
      "nxblocks  105\n"
     ]
    },
    {
     "name": "stderr",
     "output_type": "stream",
     "text": [
      "\r",
      "  5%|▍         | 57/1261 [00:50<18:11,  1.10it/s]"
     ]
    },
    {
     "name": "stdout",
     "output_type": "stream",
     "text": [
      "no. of rectangles found is  2\n",
      "spatial_size  (16, 16)\n",
      "hist  16\n",
      "orient  9\n",
      "ch1.shape[1]  853\n",
      "pix_per_cell  8\n",
      "(ch1.shape[1] // pix_per_cell)  106\n",
      "cell_per_block  2\n",
      "nxblocks  105\n"
     ]
    },
    {
     "name": "stderr",
     "output_type": "stream",
     "text": [
      "\r",
      "  5%|▍         | 58/1261 [00:51<17:58,  1.12it/s]"
     ]
    },
    {
     "name": "stdout",
     "output_type": "stream",
     "text": [
      "no. of rectangles found is  1\n",
      "spatial_size  (16, 16)\n",
      "hist  16\n",
      "orient  9\n",
      "ch1.shape[1]  853\n",
      "pix_per_cell  8\n",
      "(ch1.shape[1] // pix_per_cell)  106\n",
      "cell_per_block  2\n",
      "nxblocks  105\n"
     ]
    },
    {
     "name": "stderr",
     "output_type": "stream",
     "text": [
      "\r",
      "  5%|▍         | 59/1261 [00:52<17:57,  1.12it/s]"
     ]
    },
    {
     "name": "stdout",
     "output_type": "stream",
     "text": [
      "no. of rectangles found is  3\n",
      "spatial_size  (16, 16)\n",
      "hist  16\n",
      "orient  9\n",
      "ch1.shape[1]  853\n",
      "pix_per_cell  8\n",
      "(ch1.shape[1] // pix_per_cell)  106\n",
      "cell_per_block  2\n",
      "nxblocks  105\n"
     ]
    },
    {
     "name": "stderr",
     "output_type": "stream",
     "text": [
      "\r",
      "  5%|▍         | 60/1261 [00:53<17:51,  1.12it/s]"
     ]
    },
    {
     "name": "stdout",
     "output_type": "stream",
     "text": [
      "no. of rectangles found is  1\n",
      "spatial_size  (16, 16)\n",
      "hist  16\n",
      "orient  9\n",
      "ch1.shape[1]  853\n",
      "pix_per_cell  8\n",
      "(ch1.shape[1] // pix_per_cell)  106\n",
      "cell_per_block  2\n",
      "nxblocks  105\n"
     ]
    },
    {
     "name": "stderr",
     "output_type": "stream",
     "text": [
      "\r",
      "  5%|▍         | 61/1261 [00:54<17:48,  1.12it/s]"
     ]
    },
    {
     "name": "stdout",
     "output_type": "stream",
     "text": [
      "no. of rectangles found is  0\n",
      "spatial_size  (16, 16)\n",
      "hist  16\n",
      "orient  9\n",
      "ch1.shape[1]  853\n",
      "pix_per_cell  8\n",
      "(ch1.shape[1] // pix_per_cell)  106\n",
      "cell_per_block  2\n",
      "nxblocks  105\n"
     ]
    },
    {
     "name": "stderr",
     "output_type": "stream",
     "text": [
      "\r",
      "  5%|▍         | 62/1261 [00:55<17:54,  1.12it/s]"
     ]
    },
    {
     "name": "stdout",
     "output_type": "stream",
     "text": [
      "no. of rectangles found is  5\n",
      "spatial_size  (16, 16)\n",
      "hist  16\n",
      "orient  9\n",
      "ch1.shape[1]  853\n",
      "pix_per_cell  8\n",
      "(ch1.shape[1] // pix_per_cell)  106\n",
      "cell_per_block  2\n",
      "nxblocks  105\n"
     ]
    },
    {
     "name": "stderr",
     "output_type": "stream",
     "text": [
      "\r",
      "  5%|▍         | 63/1261 [00:56<18:07,  1.10it/s]"
     ]
    },
    {
     "name": "stdout",
     "output_type": "stream",
     "text": [
      "no. of rectangles found is  7\n",
      "spatial_size  (16, 16)\n",
      "hist  16\n",
      "orient  9\n",
      "ch1.shape[1]  853\n",
      "pix_per_cell  8\n",
      "(ch1.shape[1] // pix_per_cell)  106\n",
      "cell_per_block  2\n",
      "nxblocks  105\n"
     ]
    },
    {
     "name": "stderr",
     "output_type": "stream",
     "text": [
      "\r",
      "  5%|▌         | 64/1261 [00:56<17:57,  1.11it/s]"
     ]
    },
    {
     "name": "stdout",
     "output_type": "stream",
     "text": [
      "no. of rectangles found is  4\n",
      "spatial_size  (16, 16)\n",
      "hist  16\n",
      "orient  9\n",
      "ch1.shape[1]  853\n",
      "pix_per_cell  8\n",
      "(ch1.shape[1] // pix_per_cell)  106\n",
      "cell_per_block  2\n",
      "nxblocks  105\n"
     ]
    },
    {
     "name": "stderr",
     "output_type": "stream",
     "text": [
      "\r",
      "  5%|▌         | 65/1261 [00:57<17:54,  1.11it/s]"
     ]
    },
    {
     "name": "stdout",
     "output_type": "stream",
     "text": [
      "no. of rectangles found is  9\n",
      "spatial_size  (16, 16)\n",
      "hist  16\n",
      "orient  9\n",
      "ch1.shape[1]  853\n",
      "pix_per_cell  8\n",
      "(ch1.shape[1] // pix_per_cell)  106\n",
      "cell_per_block  2\n",
      "nxblocks  105\n"
     ]
    },
    {
     "name": "stderr",
     "output_type": "stream",
     "text": [
      "\r",
      "  5%|▌         | 66/1261 [00:58<17:48,  1.12it/s]"
     ]
    },
    {
     "name": "stdout",
     "output_type": "stream",
     "text": [
      "no. of rectangles found is  2\n",
      "spatial_size  (16, 16)\n",
      "hist  16\n",
      "orient  9\n",
      "ch1.shape[1]  853\n",
      "pix_per_cell  8\n",
      "(ch1.shape[1] // pix_per_cell)  106\n",
      "cell_per_block  2\n",
      "nxblocks  105\n"
     ]
    },
    {
     "name": "stderr",
     "output_type": "stream",
     "text": [
      "\r",
      "  5%|▌         | 67/1261 [00:59<17:42,  1.12it/s]"
     ]
    },
    {
     "name": "stdout",
     "output_type": "stream",
     "text": [
      "no. of rectangles found is  1\n",
      "spatial_size  (16, 16)\n",
      "hist  16\n",
      "orient  9\n",
      "ch1.shape[1]  853\n",
      "pix_per_cell  8\n",
      "(ch1.shape[1] // pix_per_cell)  106\n",
      "cell_per_block  2\n",
      "nxblocks  105\n"
     ]
    },
    {
     "name": "stderr",
     "output_type": "stream",
     "text": [
      "\r",
      "  5%|▌         | 68/1261 [01:00<17:38,  1.13it/s]"
     ]
    },
    {
     "name": "stdout",
     "output_type": "stream",
     "text": [
      "no. of rectangles found is  4\n",
      "spatial_size  (16, 16)\n",
      "hist  16\n",
      "orient  9\n",
      "ch1.shape[1]  853\n",
      "pix_per_cell  8\n",
      "(ch1.shape[1] // pix_per_cell)  106\n",
      "cell_per_block  2\n",
      "nxblocks  105\n"
     ]
    },
    {
     "name": "stderr",
     "output_type": "stream",
     "text": [
      "\r",
      "  5%|▌         | 69/1261 [01:01<17:39,  1.12it/s]"
     ]
    },
    {
     "name": "stdout",
     "output_type": "stream",
     "text": [
      "no. of rectangles found is  5\n",
      "spatial_size  (16, 16)\n",
      "hist  16\n",
      "orient  9\n",
      "ch1.shape[1]  853\n",
      "pix_per_cell  8\n",
      "(ch1.shape[1] // pix_per_cell)  106\n",
      "cell_per_block  2\n",
      "nxblocks  105\n"
     ]
    },
    {
     "name": "stderr",
     "output_type": "stream",
     "text": [
      "\r",
      "  6%|▌         | 70/1261 [01:02<17:38,  1.13it/s]"
     ]
    },
    {
     "name": "stdout",
     "output_type": "stream",
     "text": [
      "no. of rectangles found is  1\n",
      "spatial_size  (16, 16)\n",
      "hist  16\n",
      "orient  9\n",
      "ch1.shape[1]  853\n",
      "pix_per_cell  8\n",
      "(ch1.shape[1] // pix_per_cell)  106\n",
      "cell_per_block  2\n",
      "nxblocks  105\n"
     ]
    },
    {
     "name": "stderr",
     "output_type": "stream",
     "text": [
      "\r",
      "  6%|▌         | 71/1261 [01:03<17:36,  1.13it/s]"
     ]
    },
    {
     "name": "stdout",
     "output_type": "stream",
     "text": [
      "no. of rectangles found is  4\n",
      "spatial_size  (16, 16)\n",
      "hist  16\n",
      "orient  9\n",
      "ch1.shape[1]  853\n",
      "pix_per_cell  8\n",
      "(ch1.shape[1] // pix_per_cell)  106\n",
      "cell_per_block  2\n",
      "nxblocks  105\n"
     ]
    },
    {
     "name": "stderr",
     "output_type": "stream",
     "text": [
      "\r",
      "  6%|▌         | 72/1261 [01:04<17:35,  1.13it/s]"
     ]
    },
    {
     "name": "stdout",
     "output_type": "stream",
     "text": [
      "no. of rectangles found is  3\n",
      "spatial_size  (16, 16)\n",
      "hist  16\n",
      "orient  9\n",
      "ch1.shape[1]  853\n",
      "pix_per_cell  8\n",
      "(ch1.shape[1] // pix_per_cell)  106\n",
      "cell_per_block  2\n",
      "nxblocks  105\n"
     ]
    },
    {
     "name": "stderr",
     "output_type": "stream",
     "text": [
      "\r",
      "  6%|▌         | 73/1261 [01:04<17:38,  1.12it/s]"
     ]
    },
    {
     "name": "stdout",
     "output_type": "stream",
     "text": [
      "no. of rectangles found is  4\n",
      "spatial_size  (16, 16)\n",
      "hist  16\n",
      "orient  9\n",
      "ch1.shape[1]  853\n",
      "pix_per_cell  8\n",
      "(ch1.shape[1] // pix_per_cell)  106\n",
      "cell_per_block  2\n",
      "nxblocks  105\n"
     ]
    },
    {
     "name": "stderr",
     "output_type": "stream",
     "text": [
      "\r",
      "  6%|▌         | 74/1261 [01:05<17:35,  1.12it/s]"
     ]
    },
    {
     "name": "stdout",
     "output_type": "stream",
     "text": [
      "no. of rectangles found is  2\n",
      "spatial_size  (16, 16)\n",
      "hist  16\n",
      "orient  9\n",
      "ch1.shape[1]  853\n",
      "pix_per_cell  8\n",
      "(ch1.shape[1] // pix_per_cell)  106\n",
      "cell_per_block  2\n",
      "nxblocks  105\n"
     ]
    },
    {
     "name": "stderr",
     "output_type": "stream",
     "text": [
      "\r",
      "  6%|▌         | 75/1261 [01:06<17:36,  1.12it/s]"
     ]
    },
    {
     "name": "stdout",
     "output_type": "stream",
     "text": [
      "no. of rectangles found is  4\n",
      "spatial_size  (16, 16)\n",
      "hist  16\n",
      "orient  9\n",
      "ch1.shape[1]  853\n",
      "pix_per_cell  8\n",
      "(ch1.shape[1] // pix_per_cell)  106\n",
      "cell_per_block  2\n",
      "nxblocks  105\n"
     ]
    },
    {
     "name": "stderr",
     "output_type": "stream",
     "text": [
      "\r",
      "  6%|▌         | 76/1261 [01:07<17:34,  1.12it/s]"
     ]
    },
    {
     "name": "stdout",
     "output_type": "stream",
     "text": [
      "no. of rectangles found is  1\n",
      "spatial_size  (16, 16)\n",
      "hist  16\n",
      "orient  9\n",
      "ch1.shape[1]  853\n",
      "pix_per_cell  8\n",
      "(ch1.shape[1] // pix_per_cell)  106\n",
      "cell_per_block  2\n",
      "nxblocks  105\n"
     ]
    },
    {
     "name": "stderr",
     "output_type": "stream",
     "text": [
      "\r",
      "  6%|▌         | 77/1261 [01:08<17:34,  1.12it/s]"
     ]
    },
    {
     "name": "stdout",
     "output_type": "stream",
     "text": [
      "no. of rectangles found is  6\n",
      "spatial_size  (16, 16)\n",
      "hist  16\n",
      "orient  9\n",
      "ch1.shape[1]  853\n",
      "pix_per_cell  8\n",
      "(ch1.shape[1] // pix_per_cell)  106\n",
      "cell_per_block  2\n",
      "nxblocks  105\n"
     ]
    },
    {
     "name": "stderr",
     "output_type": "stream",
     "text": [
      "\r",
      "  6%|▌         | 78/1261 [01:09<17:30,  1.13it/s]"
     ]
    },
    {
     "name": "stdout",
     "output_type": "stream",
     "text": [
      "no. of rectangles found is  0\n",
      "spatial_size  (16, 16)\n",
      "hist  16\n",
      "orient  9\n",
      "ch1.shape[1]  853\n",
      "pix_per_cell  8\n",
      "(ch1.shape[1] // pix_per_cell)  106\n",
      "cell_per_block  2\n",
      "nxblocks  105\n"
     ]
    },
    {
     "name": "stderr",
     "output_type": "stream",
     "text": [
      "\r",
      "  6%|▋         | 79/1261 [01:10<17:27,  1.13it/s]"
     ]
    },
    {
     "name": "stdout",
     "output_type": "stream",
     "text": [
      "no. of rectangles found is  1\n",
      "spatial_size  (16, 16)\n",
      "hist  16\n",
      "orient  9\n",
      "ch1.shape[1]  853\n",
      "pix_per_cell  8\n",
      "(ch1.shape[1] // pix_per_cell)  106\n",
      "cell_per_block  2\n",
      "nxblocks  105\n"
     ]
    },
    {
     "name": "stderr",
     "output_type": "stream",
     "text": [
      "\r",
      "  6%|▋         | 80/1261 [01:11<17:42,  1.11it/s]"
     ]
    },
    {
     "name": "stdout",
     "output_type": "stream",
     "text": [
      "no. of rectangles found is  3\n",
      "spatial_size  (16, 16)\n",
      "hist  16\n",
      "orient  9\n",
      "ch1.shape[1]  853\n",
      "pix_per_cell  8\n",
      "(ch1.shape[1] // pix_per_cell)  106\n",
      "cell_per_block  2\n",
      "nxblocks  105\n"
     ]
    },
    {
     "name": "stderr",
     "output_type": "stream",
     "text": [
      "\r",
      "  6%|▋         | 81/1261 [01:12<17:38,  1.12it/s]"
     ]
    },
    {
     "name": "stdout",
     "output_type": "stream",
     "text": [
      "no. of rectangles found is  1\n",
      "spatial_size  (16, 16)\n",
      "hist  16\n",
      "orient  9\n",
      "ch1.shape[1]  853\n",
      "pix_per_cell  8\n",
      "(ch1.shape[1] // pix_per_cell)  106\n",
      "cell_per_block  2\n",
      "nxblocks  105\n"
     ]
    },
    {
     "name": "stderr",
     "output_type": "stream",
     "text": [
      "\r",
      "  7%|▋         | 82/1261 [01:12<17:32,  1.12it/s]"
     ]
    },
    {
     "name": "stdout",
     "output_type": "stream",
     "text": [
      "no. of rectangles found is  1\n",
      "spatial_size  (16, 16)\n",
      "hist  16\n",
      "orient  9\n",
      "ch1.shape[1]  853\n",
      "pix_per_cell  8\n",
      "(ch1.shape[1] // pix_per_cell)  106\n",
      "cell_per_block  2\n",
      "nxblocks  105\n"
     ]
    },
    {
     "name": "stderr",
     "output_type": "stream",
     "text": [
      "\r",
      "  7%|▋         | 83/1261 [01:13<17:28,  1.12it/s]"
     ]
    },
    {
     "name": "stdout",
     "output_type": "stream",
     "text": [
      "no. of rectangles found is  0\n",
      "spatial_size  (16, 16)\n",
      "hist  16\n",
      "orient  9\n",
      "ch1.shape[1]  853\n",
      "pix_per_cell  8\n",
      "(ch1.shape[1] // pix_per_cell)  106\n",
      "cell_per_block  2\n",
      "nxblocks  105\n"
     ]
    },
    {
     "name": "stderr",
     "output_type": "stream",
     "text": [
      "\r",
      "  7%|▋         | 84/1261 [01:14<17:24,  1.13it/s]"
     ]
    },
    {
     "name": "stdout",
     "output_type": "stream",
     "text": [
      "no. of rectangles found is  1\n",
      "spatial_size  (16, 16)\n",
      "hist  16\n",
      "orient  9\n",
      "ch1.shape[1]  853\n",
      "pix_per_cell  8\n",
      "(ch1.shape[1] // pix_per_cell)  106\n",
      "cell_per_block  2\n",
      "nxblocks  105\n"
     ]
    },
    {
     "name": "stderr",
     "output_type": "stream",
     "text": [
      "\r",
      "  7%|▋         | 85/1261 [01:15<17:20,  1.13it/s]"
     ]
    },
    {
     "name": "stdout",
     "output_type": "stream",
     "text": [
      "no. of rectangles found is  2\n",
      "spatial_size  (16, 16)\n",
      "hist  16\n",
      "orient  9\n",
      "ch1.shape[1]  853\n",
      "pix_per_cell  8\n",
      "(ch1.shape[1] // pix_per_cell)  106\n",
      "cell_per_block  2\n",
      "nxblocks  105\n"
     ]
    },
    {
     "name": "stderr",
     "output_type": "stream",
     "text": [
      "\r",
      "  7%|▋         | 86/1261 [01:16<17:16,  1.13it/s]"
     ]
    },
    {
     "name": "stdout",
     "output_type": "stream",
     "text": [
      "no. of rectangles found is  2\n",
      "spatial_size  (16, 16)\n",
      "hist  16\n",
      "orient  9\n",
      "ch1.shape[1]  853\n",
      "pix_per_cell  8\n",
      "(ch1.shape[1] // pix_per_cell)  106\n",
      "cell_per_block  2\n",
      "nxblocks  105\n"
     ]
    },
    {
     "name": "stderr",
     "output_type": "stream",
     "text": [
      "\r",
      "  7%|▋         | 87/1261 [01:17<17:16,  1.13it/s]"
     ]
    },
    {
     "name": "stdout",
     "output_type": "stream",
     "text": [
      "no. of rectangles found is  3\n",
      "spatial_size  (16, 16)\n",
      "hist  16\n",
      "orient  9\n",
      "ch1.shape[1]  853\n",
      "pix_per_cell  8\n",
      "(ch1.shape[1] // pix_per_cell)  106\n",
      "cell_per_block  2\n",
      "nxblocks  105\n"
     ]
    },
    {
     "name": "stderr",
     "output_type": "stream",
     "text": [
      "\r",
      "  7%|▋         | 88/1261 [01:18<17:15,  1.13it/s]"
     ]
    },
    {
     "name": "stdout",
     "output_type": "stream",
     "text": [
      "no. of rectangles found is  1\n",
      "spatial_size  (16, 16)\n",
      "hist  16\n",
      "orient  9\n",
      "ch1.shape[1]  853\n",
      "pix_per_cell  8\n",
      "(ch1.shape[1] // pix_per_cell)  106\n",
      "cell_per_block  2\n",
      "nxblocks  105\n"
     ]
    },
    {
     "name": "stderr",
     "output_type": "stream",
     "text": [
      "\r",
      "  7%|▋         | 89/1261 [01:19<17:15,  1.13it/s]"
     ]
    },
    {
     "name": "stdout",
     "output_type": "stream",
     "text": [
      "no. of rectangles found is  2\n",
      "spatial_size  (16, 16)\n",
      "hist  16\n",
      "orient  9\n",
      "ch1.shape[1]  853\n",
      "pix_per_cell  8\n",
      "(ch1.shape[1] // pix_per_cell)  106\n",
      "cell_per_block  2\n",
      "nxblocks  105\n"
     ]
    },
    {
     "name": "stderr",
     "output_type": "stream",
     "text": [
      "\r",
      "  7%|▋         | 90/1261 [01:20<17:16,  1.13it/s]"
     ]
    },
    {
     "name": "stdout",
     "output_type": "stream",
     "text": [
      "no. of rectangles found is  2\n",
      "spatial_size  (16, 16)\n",
      "hist  16\n",
      "orient  9\n",
      "ch1.shape[1]  853\n",
      "pix_per_cell  8\n",
      "(ch1.shape[1] // pix_per_cell)  106\n",
      "cell_per_block  2\n",
      "nxblocks  105\n"
     ]
    },
    {
     "name": "stderr",
     "output_type": "stream",
     "text": [
      "\r",
      "  7%|▋         | 91/1261 [01:20<17:14,  1.13it/s]"
     ]
    },
    {
     "name": "stdout",
     "output_type": "stream",
     "text": [
      "no. of rectangles found is  3\n",
      "spatial_size  (16, 16)\n",
      "hist  16\n",
      "orient  9\n",
      "ch1.shape[1]  853\n",
      "pix_per_cell  8\n",
      "(ch1.shape[1] // pix_per_cell)  106\n",
      "cell_per_block  2\n",
      "nxblocks  105\n"
     ]
    },
    {
     "name": "stderr",
     "output_type": "stream",
     "text": [
      "\r",
      "  7%|▋         | 92/1261 [01:21<17:15,  1.13it/s]"
     ]
    },
    {
     "name": "stdout",
     "output_type": "stream",
     "text": [
      "no. of rectangles found is  5\n",
      "spatial_size  (16, 16)\n",
      "hist  16\n",
      "orient  9\n",
      "ch1.shape[1]  853\n",
      "pix_per_cell  8\n",
      "(ch1.shape[1] // pix_per_cell)  106\n",
      "cell_per_block  2\n",
      "nxblocks  105\n"
     ]
    },
    {
     "name": "stderr",
     "output_type": "stream",
     "text": [
      "\r",
      "  7%|▋         | 93/1261 [01:22<17:20,  1.12it/s]"
     ]
    },
    {
     "name": "stdout",
     "output_type": "stream",
     "text": [
      "no. of rectangles found is  6\n",
      "spatial_size  (16, 16)\n",
      "hist  16\n",
      "orient  9\n",
      "ch1.shape[1]  853\n",
      "pix_per_cell  8\n",
      "(ch1.shape[1] // pix_per_cell)  106\n",
      "cell_per_block  2\n",
      "nxblocks  105\n"
     ]
    },
    {
     "name": "stderr",
     "output_type": "stream",
     "text": [
      "\r",
      "  7%|▋         | 94/1261 [01:23<17:16,  1.13it/s]"
     ]
    },
    {
     "name": "stdout",
     "output_type": "stream",
     "text": [
      "no. of rectangles found is  6\n",
      "spatial_size  (16, 16)\n",
      "hist  16\n",
      "orient  9\n",
      "ch1.shape[1]  853\n",
      "pix_per_cell  8\n",
      "(ch1.shape[1] // pix_per_cell)  106\n",
      "cell_per_block  2\n",
      "nxblocks  105\n"
     ]
    },
    {
     "name": "stderr",
     "output_type": "stream",
     "text": [
      "\r",
      "  8%|▊         | 95/1261 [01:24<17:13,  1.13it/s]"
     ]
    },
    {
     "name": "stdout",
     "output_type": "stream",
     "text": [
      "no. of rectangles found is  2\n",
      "spatial_size  (16, 16)\n",
      "hist  16\n",
      "orient  9\n",
      "ch1.shape[1]  853\n",
      "pix_per_cell  8\n",
      "(ch1.shape[1] // pix_per_cell)  106\n",
      "cell_per_block  2\n",
      "nxblocks  105\n"
     ]
    },
    {
     "name": "stderr",
     "output_type": "stream",
     "text": [
      "\r",
      "  8%|▊         | 96/1261 [01:25<17:12,  1.13it/s]"
     ]
    },
    {
     "name": "stdout",
     "output_type": "stream",
     "text": [
      "no. of rectangles found is  2\n",
      "spatial_size  (16, 16)\n",
      "hist  16\n",
      "orient  9\n",
      "ch1.shape[1]  853\n",
      "pix_per_cell  8\n",
      "(ch1.shape[1] // pix_per_cell)  106\n",
      "cell_per_block  2\n",
      "nxblocks  105\n"
     ]
    },
    {
     "name": "stderr",
     "output_type": "stream",
     "text": [
      "\r",
      "  8%|▊         | 97/1261 [01:26<17:14,  1.13it/s]"
     ]
    },
    {
     "name": "stdout",
     "output_type": "stream",
     "text": [
      "no. of rectangles found is  5\n",
      "spatial_size  (16, 16)\n",
      "hist  16\n",
      "orient  9\n",
      "ch1.shape[1]  853\n",
      "pix_per_cell  8\n",
      "(ch1.shape[1] // pix_per_cell)  106\n",
      "cell_per_block  2\n",
      "nxblocks  105\n"
     ]
    },
    {
     "name": "stderr",
     "output_type": "stream",
     "text": [
      "\r",
      "  8%|▊         | 98/1261 [01:27<17:15,  1.12it/s]"
     ]
    },
    {
     "name": "stdout",
     "output_type": "stream",
     "text": [
      "no. of rectangles found is  2\n",
      "spatial_size  (16, 16)\n",
      "hist  16\n",
      "orient  9\n",
      "ch1.shape[1]  853\n",
      "pix_per_cell  8\n",
      "(ch1.shape[1] // pix_per_cell)  106\n",
      "cell_per_block  2\n",
      "nxblocks  105\n"
     ]
    },
    {
     "name": "stderr",
     "output_type": "stream",
     "text": [
      "\r",
      "  8%|▊         | 99/1261 [01:28<17:12,  1.13it/s]"
     ]
    },
    {
     "name": "stdout",
     "output_type": "stream",
     "text": [
      "no. of rectangles found is  1\n",
      "spatial_size  (16, 16)\n",
      "hist  16\n",
      "orient  9\n",
      "ch1.shape[1]  853\n",
      "pix_per_cell  8\n",
      "(ch1.shape[1] // pix_per_cell)  106\n",
      "cell_per_block  2\n",
      "nxblocks  105\n"
     ]
    },
    {
     "name": "stderr",
     "output_type": "stream",
     "text": [
      "\r",
      "  8%|▊         | 100/1261 [01:28<17:10,  1.13it/s]"
     ]
    },
    {
     "name": "stdout",
     "output_type": "stream",
     "text": [
      "no. of rectangles found is  2\n",
      "spatial_size  (16, 16)\n",
      "hist  16\n",
      "orient  9\n",
      "ch1.shape[1]  853\n",
      "pix_per_cell  8\n",
      "(ch1.shape[1] // pix_per_cell)  106\n",
      "cell_per_block  2\n",
      "nxblocks  105\n"
     ]
    },
    {
     "name": "stderr",
     "output_type": "stream",
     "text": [
      "\r",
      "  8%|▊         | 101/1261 [01:29<17:07,  1.13it/s]"
     ]
    },
    {
     "name": "stdout",
     "output_type": "stream",
     "text": [
      "no. of rectangles found is  0\n",
      "spatial_size  (16, 16)\n",
      "hist  16\n",
      "orient  9\n",
      "ch1.shape[1]  853\n",
      "pix_per_cell  8\n",
      "(ch1.shape[1] // pix_per_cell)  106\n",
      "cell_per_block  2\n",
      "nxblocks  105\n"
     ]
    },
    {
     "name": "stderr",
     "output_type": "stream",
     "text": [
      "\r",
      "  8%|▊         | 102/1261 [01:30<17:08,  1.13it/s]"
     ]
    },
    {
     "name": "stdout",
     "output_type": "stream",
     "text": [
      "no. of rectangles found is  4\n",
      "spatial_size  (16, 16)\n",
      "hist  16\n",
      "orient  9\n",
      "ch1.shape[1]  853\n",
      "pix_per_cell  8\n",
      "(ch1.shape[1] // pix_per_cell)  106\n",
      "cell_per_block  2\n",
      "nxblocks  105\n"
     ]
    },
    {
     "name": "stderr",
     "output_type": "stream",
     "text": [
      "\r",
      "  8%|▊         | 103/1261 [01:31<17:05,  1.13it/s]"
     ]
    },
    {
     "name": "stdout",
     "output_type": "stream",
     "text": [
      "no. of rectangles found is  1\n",
      "spatial_size  (16, 16)\n",
      "hist  16\n",
      "orient  9\n",
      "ch1.shape[1]  853\n",
      "pix_per_cell  8\n",
      "(ch1.shape[1] // pix_per_cell)  106\n",
      "cell_per_block  2\n",
      "nxblocks  105\n"
     ]
    },
    {
     "name": "stderr",
     "output_type": "stream",
     "text": [
      "\r",
      "  8%|▊         | 104/1261 [01:32<17:05,  1.13it/s]"
     ]
    },
    {
     "name": "stdout",
     "output_type": "stream",
     "text": [
      "no. of rectangles found is  2\n",
      "spatial_size  (16, 16)\n",
      "hist  16\n",
      "orient  9\n",
      "ch1.shape[1]  853\n",
      "pix_per_cell  8\n",
      "(ch1.shape[1] // pix_per_cell)  106\n",
      "cell_per_block  2\n",
      "nxblocks  105\n"
     ]
    },
    {
     "name": "stderr",
     "output_type": "stream",
     "text": [
      "\r",
      "  8%|▊         | 105/1261 [01:33<17:04,  1.13it/s]"
     ]
    },
    {
     "name": "stdout",
     "output_type": "stream",
     "text": [
      "no. of rectangles found is  0\n",
      "spatial_size  (16, 16)\n",
      "hist  16\n",
      "orient  9\n",
      "ch1.shape[1]  853\n",
      "pix_per_cell  8\n",
      "(ch1.shape[1] // pix_per_cell)  106\n",
      "cell_per_block  2\n",
      "nxblocks  105\n"
     ]
    },
    {
     "name": "stderr",
     "output_type": "stream",
     "text": [
      "\r",
      "  8%|▊         | 106/1261 [01:34<17:04,  1.13it/s]"
     ]
    },
    {
     "name": "stdout",
     "output_type": "stream",
     "text": [
      "no. of rectangles found is  0\n",
      "spatial_size  (16, 16)\n",
      "hist  16\n",
      "orient  9\n",
      "ch1.shape[1]  853\n",
      "pix_per_cell  8\n",
      "(ch1.shape[1] // pix_per_cell)  106\n",
      "cell_per_block  2\n",
      "nxblocks  105\n"
     ]
    },
    {
     "name": "stderr",
     "output_type": "stream",
     "text": [
      "\r",
      "  8%|▊         | 107/1261 [01:35<17:02,  1.13it/s]"
     ]
    },
    {
     "name": "stdout",
     "output_type": "stream",
     "text": [
      "no. of rectangles found is  1\n",
      "spatial_size  (16, 16)\n",
      "hist  16\n",
      "orient  9\n",
      "ch1.shape[1]  853\n",
      "pix_per_cell  8\n",
      "(ch1.shape[1] // pix_per_cell)  106\n",
      "cell_per_block  2\n",
      "nxblocks  105\n"
     ]
    },
    {
     "name": "stderr",
     "output_type": "stream",
     "text": [
      "\r",
      "  9%|▊         | 108/1261 [01:35<17:01,  1.13it/s]"
     ]
    },
    {
     "name": "stdout",
     "output_type": "stream",
     "text": [
      "no. of rectangles found is  1\n",
      "spatial_size  (16, 16)\n",
      "hist  16\n",
      "orient  9\n",
      "ch1.shape[1]  853\n",
      "pix_per_cell  8\n",
      "(ch1.shape[1] // pix_per_cell)  106\n",
      "cell_per_block  2\n",
      "nxblocks  105\n"
     ]
    },
    {
     "name": "stderr",
     "output_type": "stream",
     "text": [
      "\r",
      "  9%|▊         | 109/1261 [01:36<17:00,  1.13it/s]"
     ]
    },
    {
     "name": "stdout",
     "output_type": "stream",
     "text": [
      "no. of rectangles found is  0\n",
      "spatial_size  (16, 16)\n",
      "hist  16\n",
      "orient  9\n",
      "ch1.shape[1]  853\n",
      "pix_per_cell  8\n",
      "(ch1.shape[1] // pix_per_cell)  106\n",
      "cell_per_block  2\n",
      "nxblocks  105\n"
     ]
    },
    {
     "name": "stderr",
     "output_type": "stream",
     "text": [
      "\r",
      "  9%|▊         | 110/1261 [01:37<16:59,  1.13it/s]"
     ]
    },
    {
     "name": "stdout",
     "output_type": "stream",
     "text": [
      "no. of rectangles found is  1\n",
      "spatial_size  (16, 16)\n",
      "hist  16\n",
      "orient  9\n",
      "ch1.shape[1]  853\n",
      "pix_per_cell  8\n",
      "(ch1.shape[1] // pix_per_cell)  106\n",
      "cell_per_block  2\n",
      "nxblocks  105\n"
     ]
    },
    {
     "name": "stderr",
     "output_type": "stream",
     "text": [
      "\r",
      "  9%|▉         | 111/1261 [01:38<16:56,  1.13it/s]"
     ]
    },
    {
     "name": "stdout",
     "output_type": "stream",
     "text": [
      "no. of rectangles found is  0\n",
      "spatial_size  (16, 16)\n",
      "hist  16\n",
      "orient  9\n",
      "ch1.shape[1]  853\n",
      "pix_per_cell  8\n",
      "(ch1.shape[1] // pix_per_cell)  106\n",
      "cell_per_block  2\n",
      "nxblocks  105\n"
     ]
    },
    {
     "name": "stderr",
     "output_type": "stream",
     "text": [
      "\r",
      "  9%|▉         | 112/1261 [01:39<16:59,  1.13it/s]"
     ]
    },
    {
     "name": "stdout",
     "output_type": "stream",
     "text": [
      "no. of rectangles found is  2\n",
      "spatial_size  (16, 16)\n",
      "hist  16\n",
      "orient  9\n",
      "ch1.shape[1]  853\n",
      "pix_per_cell  8\n",
      "(ch1.shape[1] // pix_per_cell)  106\n",
      "cell_per_block  2\n",
      "nxblocks  105\n"
     ]
    },
    {
     "name": "stderr",
     "output_type": "stream",
     "text": [
      "\r",
      "  9%|▉         | 113/1261 [01:40<16:56,  1.13it/s]"
     ]
    },
    {
     "name": "stdout",
     "output_type": "stream",
     "text": [
      "no. of rectangles found is  3\n",
      "spatial_size  (16, 16)\n",
      "hist  16\n",
      "orient  9\n",
      "ch1.shape[1]  853\n",
      "pix_per_cell  8\n",
      "(ch1.shape[1] // pix_per_cell)  106\n",
      "cell_per_block  2\n",
      "nxblocks  105\n"
     ]
    },
    {
     "name": "stderr",
     "output_type": "stream",
     "text": [
      "\r",
      "  9%|▉         | 114/1261 [01:41<16:59,  1.13it/s]"
     ]
    },
    {
     "name": "stdout",
     "output_type": "stream",
     "text": [
      "no. of rectangles found is  0\n",
      "spatial_size  (16, 16)\n",
      "hist  16\n",
      "orient  9\n",
      "ch1.shape[1]  853\n",
      "pix_per_cell  8\n",
      "(ch1.shape[1] // pix_per_cell)  106\n",
      "cell_per_block  2\n",
      "nxblocks  105\n"
     ]
    },
    {
     "name": "stderr",
     "output_type": "stream",
     "text": [
      "\r",
      "  9%|▉         | 115/1261 [01:42<16:57,  1.13it/s]"
     ]
    },
    {
     "name": "stdout",
     "output_type": "stream",
     "text": [
      "no. of rectangles found is  0\n",
      "spatial_size  (16, 16)\n",
      "hist  16\n",
      "orient  9\n",
      "ch1.shape[1]  853\n",
      "pix_per_cell  8\n",
      "(ch1.shape[1] // pix_per_cell)  106\n",
      "cell_per_block  2\n",
      "nxblocks  105\n"
     ]
    },
    {
     "name": "stderr",
     "output_type": "stream",
     "text": [
      "\r",
      "  9%|▉         | 116/1261 [01:43<16:58,  1.12it/s]"
     ]
    },
    {
     "name": "stdout",
     "output_type": "stream",
     "text": [
      "no. of rectangles found is  2\n",
      "spatial_size  (16, 16)\n",
      "hist  16\n",
      "orient  9\n",
      "ch1.shape[1]  853\n",
      "pix_per_cell  8\n",
      "(ch1.shape[1] // pix_per_cell)  106\n",
      "cell_per_block  2\n",
      "nxblocks  105\n"
     ]
    },
    {
     "name": "stderr",
     "output_type": "stream",
     "text": [
      "\r",
      "  9%|▉         | 117/1261 [01:43<16:57,  1.12it/s]"
     ]
    },
    {
     "name": "stdout",
     "output_type": "stream",
     "text": [
      "no. of rectangles found is  0\n",
      "spatial_size  (16, 16)\n",
      "hist  16\n",
      "orient  9\n",
      "ch1.shape[1]  853\n",
      "pix_per_cell  8\n",
      "(ch1.shape[1] // pix_per_cell)  106\n",
      "cell_per_block  2\n",
      "nxblocks  105\n"
     ]
    },
    {
     "name": "stderr",
     "output_type": "stream",
     "text": [
      "\r",
      "  9%|▉         | 118/1261 [01:44<16:54,  1.13it/s]"
     ]
    },
    {
     "name": "stdout",
     "output_type": "stream",
     "text": [
      "no. of rectangles found is  1\n",
      "spatial_size  (16, 16)\n",
      "hist  16\n",
      "orient  9\n",
      "ch1.shape[1]  853\n",
      "pix_per_cell  8\n",
      "(ch1.shape[1] // pix_per_cell)  106\n",
      "cell_per_block  2\n",
      "nxblocks  105\n"
     ]
    },
    {
     "name": "stderr",
     "output_type": "stream",
     "text": [
      "\r",
      "  9%|▉         | 119/1261 [01:45<16:50,  1.13it/s]"
     ]
    },
    {
     "name": "stdout",
     "output_type": "stream",
     "text": [
      "no. of rectangles found is  1\n",
      "spatial_size  (16, 16)\n",
      "hist  16\n",
      "orient  9\n",
      "ch1.shape[1]  853\n",
      "pix_per_cell  8\n",
      "(ch1.shape[1] // pix_per_cell)  106\n",
      "cell_per_block  2\n",
      "nxblocks  105\n"
     ]
    },
    {
     "name": "stderr",
     "output_type": "stream",
     "text": [
      "\r",
      " 10%|▉         | 120/1261 [01:46<16:50,  1.13it/s]"
     ]
    },
    {
     "name": "stdout",
     "output_type": "stream",
     "text": [
      "no. of rectangles found is  1\n",
      "spatial_size  (16, 16)\n",
      "hist  16\n",
      "orient  9\n",
      "ch1.shape[1]  853\n",
      "pix_per_cell  8\n",
      "(ch1.shape[1] // pix_per_cell)  106\n",
      "cell_per_block  2\n",
      "nxblocks  105\n"
     ]
    },
    {
     "name": "stderr",
     "output_type": "stream",
     "text": [
      "\r",
      " 10%|▉         | 121/1261 [01:47<16:48,  1.13it/s]"
     ]
    },
    {
     "name": "stdout",
     "output_type": "stream",
     "text": [
      "no. of rectangles found is  1\n",
      "spatial_size  (16, 16)\n",
      "hist  16\n",
      "orient  9\n",
      "ch1.shape[1]  853\n",
      "pix_per_cell  8\n",
      "(ch1.shape[1] // pix_per_cell)  106\n",
      "cell_per_block  2\n",
      "nxblocks  105\n"
     ]
    },
    {
     "name": "stderr",
     "output_type": "stream",
     "text": [
      "\r",
      " 10%|▉         | 122/1261 [01:48<17:02,  1.11it/s]"
     ]
    },
    {
     "name": "stdout",
     "output_type": "stream",
     "text": [
      "no. of rectangles found is  7\n",
      "spatial_size  (16, 16)\n",
      "hist  16\n",
      "orient  9\n",
      "ch1.shape[1]  853\n",
      "pix_per_cell  8\n",
      "(ch1.shape[1] // pix_per_cell)  106\n",
      "cell_per_block  2\n",
      "nxblocks  105\n"
     ]
    },
    {
     "name": "stderr",
     "output_type": "stream",
     "text": [
      "\r",
      " 10%|▉         | 123/1261 [01:49<17:13,  1.10it/s]"
     ]
    },
    {
     "name": "stdout",
     "output_type": "stream",
     "text": [
      "no. of rectangles found is  7\n",
      "spatial_size  (16, 16)\n",
      "hist  16\n",
      "orient  9\n",
      "ch1.shape[1]  853\n",
      "pix_per_cell  8\n",
      "(ch1.shape[1] // pix_per_cell)  106\n",
      "cell_per_block  2\n",
      "nxblocks  105\n"
     ]
    },
    {
     "name": "stderr",
     "output_type": "stream",
     "text": [
      "\r",
      " 10%|▉         | 124/1261 [01:50<17:04,  1.11it/s]"
     ]
    },
    {
     "name": "stdout",
     "output_type": "stream",
     "text": [
      "no. of rectangles found is  0\n",
      "spatial_size  (16, 16)\n",
      "hist  16\n",
      "orient  9\n",
      "ch1.shape[1]  853\n",
      "pix_per_cell  8\n",
      "(ch1.shape[1] // pix_per_cell)  106\n",
      "cell_per_block  2\n",
      "nxblocks  105\n"
     ]
    },
    {
     "name": "stderr",
     "output_type": "stream",
     "text": [
      "\r",
      " 10%|▉         | 125/1261 [01:51<16:57,  1.12it/s]"
     ]
    },
    {
     "name": "stdout",
     "output_type": "stream",
     "text": [
      "no. of rectangles found is  2\n",
      "spatial_size  (16, 16)\n",
      "hist  16\n",
      "orient  9\n",
      "ch1.shape[1]  853\n",
      "pix_per_cell  8\n",
      "(ch1.shape[1] // pix_per_cell)  106\n",
      "cell_per_block  2\n",
      "nxblocks  105\n"
     ]
    },
    {
     "name": "stderr",
     "output_type": "stream",
     "text": [
      "\r",
      " 10%|▉         | 126/1261 [01:52<16:53,  1.12it/s]"
     ]
    },
    {
     "name": "stdout",
     "output_type": "stream",
     "text": [
      "no. of rectangles found is  7\n",
      "spatial_size  (16, 16)\n",
      "hist  16\n",
      "orient  9\n",
      "ch1.shape[1]  853\n",
      "pix_per_cell  8\n",
      "(ch1.shape[1] // pix_per_cell)  106\n",
      "cell_per_block  2\n",
      "nxblocks  105\n"
     ]
    },
    {
     "name": "stderr",
     "output_type": "stream",
     "text": [
      "\r",
      " 10%|█         | 127/1261 [01:52<16:50,  1.12it/s]"
     ]
    },
    {
     "name": "stdout",
     "output_type": "stream",
     "text": [
      "no. of rectangles found is  6\n",
      "spatial_size  (16, 16)\n",
      "hist  16\n",
      "orient  9\n",
      "ch1.shape[1]  853\n",
      "pix_per_cell  8\n",
      "(ch1.shape[1] // pix_per_cell)  106\n",
      "cell_per_block  2\n",
      "nxblocks  105\n"
     ]
    },
    {
     "name": "stderr",
     "output_type": "stream",
     "text": [
      "\r",
      " 10%|█         | 128/1261 [01:53<16:53,  1.12it/s]"
     ]
    },
    {
     "name": "stdout",
     "output_type": "stream",
     "text": [
      "no. of rectangles found is  7\n",
      "spatial_size  (16, 16)\n",
      "hist  16\n",
      "orient  9\n",
      "ch1.shape[1]  853\n",
      "pix_per_cell  8\n",
      "(ch1.shape[1] // pix_per_cell)  106\n",
      "cell_per_block  2\n",
      "nxblocks  105\n"
     ]
    },
    {
     "name": "stderr",
     "output_type": "stream",
     "text": [
      "\r",
      " 10%|█         | 129/1261 [01:54<16:48,  1.12it/s]"
     ]
    },
    {
     "name": "stdout",
     "output_type": "stream",
     "text": [
      "no. of rectangles found is  2\n",
      "spatial_size  (16, 16)\n",
      "hist  16\n",
      "orient  9\n",
      "ch1.shape[1]  853\n",
      "pix_per_cell  8\n",
      "(ch1.shape[1] // pix_per_cell)  106\n",
      "cell_per_block  2\n",
      "nxblocks  105\n"
     ]
    },
    {
     "name": "stderr",
     "output_type": "stream",
     "text": [
      "\r",
      " 10%|█         | 130/1261 [01:55<16:50,  1.12it/s]"
     ]
    },
    {
     "name": "stdout",
     "output_type": "stream",
     "text": [
      "no. of rectangles found is  3\n",
      "spatial_size  (16, 16)\n",
      "hist  16\n",
      "orient  9\n",
      "ch1.shape[1]  853\n",
      "pix_per_cell  8\n",
      "(ch1.shape[1] // pix_per_cell)  106\n",
      "cell_per_block  2\n",
      "nxblocks  105\n"
     ]
    },
    {
     "name": "stderr",
     "output_type": "stream",
     "text": [
      "\r",
      " 10%|█         | 131/1261 [01:56<16:51,  1.12it/s]"
     ]
    },
    {
     "name": "stdout",
     "output_type": "stream",
     "text": [
      "no. of rectangles found is  2\n",
      "spatial_size  (16, 16)\n",
      "hist  16\n",
      "orient  9\n",
      "ch1.shape[1]  853\n",
      "pix_per_cell  8\n",
      "(ch1.shape[1] // pix_per_cell)  106\n",
      "cell_per_block  2\n",
      "nxblocks  105\n"
     ]
    },
    {
     "name": "stderr",
     "output_type": "stream",
     "text": [
      "\r",
      " 10%|█         | 132/1261 [01:57<16:47,  1.12it/s]"
     ]
    },
    {
     "name": "stdout",
     "output_type": "stream",
     "text": [
      "no. of rectangles found is  0\n",
      "spatial_size  (16, 16)\n",
      "hist  16\n",
      "orient  9\n",
      "ch1.shape[1]  853\n",
      "pix_per_cell  8\n",
      "(ch1.shape[1] // pix_per_cell)  106\n",
      "cell_per_block  2\n",
      "nxblocks  105\n"
     ]
    },
    {
     "name": "stderr",
     "output_type": "stream",
     "text": [
      "\r",
      " 11%|█         | 133/1261 [01:58<16:43,  1.12it/s]"
     ]
    },
    {
     "name": "stdout",
     "output_type": "stream",
     "text": [
      "no. of rectangles found is  1\n",
      "spatial_size  (16, 16)\n",
      "hist  16\n",
      "orient  9\n",
      "ch1.shape[1]  853\n",
      "pix_per_cell  8\n",
      "(ch1.shape[1] // pix_per_cell)  106\n",
      "cell_per_block  2\n",
      "nxblocks  105\n"
     ]
    },
    {
     "name": "stderr",
     "output_type": "stream",
     "text": [
      "\r",
      " 11%|█         | 134/1261 [01:59<16:40,  1.13it/s]"
     ]
    },
    {
     "name": "stdout",
     "output_type": "stream",
     "text": [
      "no. of rectangles found is  2\n",
      "spatial_size  (16, 16)\n",
      "hist  16\n",
      "orient  9\n",
      "ch1.shape[1]  853\n",
      "pix_per_cell  8\n",
      "(ch1.shape[1] // pix_per_cell)  106\n",
      "cell_per_block  2\n",
      "nxblocks  105\n"
     ]
    },
    {
     "name": "stderr",
     "output_type": "stream",
     "text": [
      "\r",
      " 11%|█         | 135/1261 [02:00<16:37,  1.13it/s]"
     ]
    },
    {
     "name": "stdout",
     "output_type": "stream",
     "text": [
      "no. of rectangles found is  3\n",
      "spatial_size  (16, 16)\n",
      "hist  16\n",
      "orient  9\n",
      "ch1.shape[1]  853\n",
      "pix_per_cell  8\n",
      "(ch1.shape[1] // pix_per_cell)  106\n",
      "cell_per_block  2\n",
      "nxblocks  105\n"
     ]
    },
    {
     "name": "stderr",
     "output_type": "stream",
     "text": [
      "\r",
      " 11%|█         | 136/1261 [02:00<16:35,  1.13it/s]"
     ]
    },
    {
     "name": "stdout",
     "output_type": "stream",
     "text": [
      "no. of rectangles found is  1\n",
      "spatial_size  (16, 16)\n",
      "hist  16\n",
      "orient  9\n",
      "ch1.shape[1]  853\n",
      "pix_per_cell  8\n",
      "(ch1.shape[1] // pix_per_cell)  106\n",
      "cell_per_block  2\n",
      "nxblocks  105\n"
     ]
    },
    {
     "name": "stderr",
     "output_type": "stream",
     "text": [
      "\r",
      " 11%|█         | 137/1261 [02:01<16:36,  1.13it/s]"
     ]
    },
    {
     "name": "stdout",
     "output_type": "stream",
     "text": [
      "no. of rectangles found is  2\n",
      "spatial_size  (16, 16)\n",
      "hist  16\n",
      "orient  9\n",
      "ch1.shape[1]  853\n",
      "pix_per_cell  8\n",
      "(ch1.shape[1] // pix_per_cell)  106\n",
      "cell_per_block  2\n",
      "nxblocks  105\n"
     ]
    },
    {
     "name": "stderr",
     "output_type": "stream",
     "text": [
      "\r",
      " 11%|█         | 138/1261 [02:02<16:37,  1.13it/s]"
     ]
    },
    {
     "name": "stdout",
     "output_type": "stream",
     "text": [
      "no. of rectangles found is  3\n",
      "spatial_size  (16, 16)\n",
      "hist  16\n",
      "orient  9\n",
      "ch1.shape[1]  853\n",
      "pix_per_cell  8\n",
      "(ch1.shape[1] // pix_per_cell)  106\n",
      "cell_per_block  2\n",
      "nxblocks  105\n"
     ]
    },
    {
     "name": "stderr",
     "output_type": "stream",
     "text": [
      "\r",
      " 11%|█         | 139/1261 [02:03<16:41,  1.12it/s]"
     ]
    },
    {
     "name": "stdout",
     "output_type": "stream",
     "text": [
      "no. of rectangles found is  1\n",
      "spatial_size  (16, 16)\n",
      "hist  16\n",
      "orient  9\n",
      "ch1.shape[1]  853\n",
      "pix_per_cell  8\n",
      "(ch1.shape[1] // pix_per_cell)  106\n",
      "cell_per_block  2\n",
      "nxblocks  105\n"
     ]
    },
    {
     "name": "stderr",
     "output_type": "stream",
     "text": [
      "\r",
      " 11%|█         | 140/1261 [02:04<16:38,  1.12it/s]"
     ]
    },
    {
     "name": "stdout",
     "output_type": "stream",
     "text": [
      "no. of rectangles found is  2\n",
      "spatial_size  (16, 16)\n",
      "hist  16\n",
      "orient  9\n",
      "ch1.shape[1]  853\n",
      "pix_per_cell  8\n",
      "(ch1.shape[1] // pix_per_cell)  106\n",
      "cell_per_block  2\n",
      "nxblocks  105\n"
     ]
    },
    {
     "name": "stderr",
     "output_type": "stream",
     "text": [
      "\r",
      " 11%|█         | 141/1261 [02:05<16:34,  1.13it/s]"
     ]
    },
    {
     "name": "stdout",
     "output_type": "stream",
     "text": [
      "no. of rectangles found is  1\n",
      "spatial_size  (16, 16)\n",
      "hist  16\n",
      "orient  9\n",
      "ch1.shape[1]  853\n",
      "pix_per_cell  8\n",
      "(ch1.shape[1] // pix_per_cell)  106\n",
      "cell_per_block  2\n",
      "nxblocks  105\n"
     ]
    },
    {
     "name": "stderr",
     "output_type": "stream",
     "text": [
      "\r",
      " 11%|█▏        | 142/1261 [02:06<16:29,  1.13it/s]"
     ]
    },
    {
     "name": "stdout",
     "output_type": "stream",
     "text": [
      "no. of rectangles found is  1\n",
      "spatial_size  (16, 16)\n",
      "hist  16\n",
      "orient  9\n",
      "ch1.shape[1]  853\n",
      "pix_per_cell  8\n",
      "(ch1.shape[1] // pix_per_cell)  106\n",
      "cell_per_block  2\n",
      "nxblocks  105\n"
     ]
    },
    {
     "name": "stderr",
     "output_type": "stream",
     "text": [
      "\r",
      " 11%|█▏        | 143/1261 [02:07<16:33,  1.12it/s]"
     ]
    },
    {
     "name": "stdout",
     "output_type": "stream",
     "text": [
      "no. of rectangles found is  1\n",
      "spatial_size  (16, 16)\n",
      "hist  16\n",
      "orient  9\n",
      "ch1.shape[1]  853\n",
      "pix_per_cell  8\n",
      "(ch1.shape[1] // pix_per_cell)  106\n",
      "cell_per_block  2\n",
      "nxblocks  105\n"
     ]
    },
    {
     "name": "stderr",
     "output_type": "stream",
     "text": [
      "\r",
      " 11%|█▏        | 144/1261 [02:08<16:34,  1.12it/s]"
     ]
    },
    {
     "name": "stdout",
     "output_type": "stream",
     "text": [
      "no. of rectangles found is  0\n",
      "spatial_size  (16, 16)\n",
      "hist  16\n",
      "orient  9\n",
      "ch1.shape[1]  853\n",
      "pix_per_cell  8\n",
      "(ch1.shape[1] // pix_per_cell)  106\n",
      "cell_per_block  2\n",
      "nxblocks  105\n"
     ]
    },
    {
     "name": "stderr",
     "output_type": "stream",
     "text": [
      "\r",
      " 11%|█▏        | 145/1261 [02:08<16:30,  1.13it/s]"
     ]
    },
    {
     "name": "stdout",
     "output_type": "stream",
     "text": [
      "no. of rectangles found is  0\n",
      "spatial_size  (16, 16)\n",
      "hist  16\n",
      "orient  9\n",
      "ch1.shape[1]  853\n",
      "pix_per_cell  8\n",
      "(ch1.shape[1] // pix_per_cell)  106\n",
      "cell_per_block  2\n",
      "nxblocks  105\n"
     ]
    },
    {
     "name": "stderr",
     "output_type": "stream",
     "text": [
      "\r",
      " 12%|█▏        | 146/1261 [02:09<16:31,  1.12it/s]"
     ]
    },
    {
     "name": "stdout",
     "output_type": "stream",
     "text": [
      "no. of rectangles found is  1\n",
      "spatial_size  (16, 16)\n",
      "hist  16\n",
      "orient  9\n",
      "ch1.shape[1]  853\n",
      "pix_per_cell  8\n",
      "(ch1.shape[1] // pix_per_cell)  106\n",
      "cell_per_block  2\n",
      "nxblocks  105\n"
     ]
    },
    {
     "name": "stderr",
     "output_type": "stream",
     "text": [
      "\r",
      " 12%|█▏        | 147/1261 [02:10<16:28,  1.13it/s]"
     ]
    },
    {
     "name": "stdout",
     "output_type": "stream",
     "text": [
      "no. of rectangles found is  1\n",
      "spatial_size  (16, 16)\n",
      "hist  16\n",
      "orient  9\n",
      "ch1.shape[1]  853\n",
      "pix_per_cell  8\n",
      "(ch1.shape[1] // pix_per_cell)  106\n",
      "cell_per_block  2\n",
      "nxblocks  105\n"
     ]
    },
    {
     "name": "stderr",
     "output_type": "stream",
     "text": [
      "\r",
      " 12%|█▏        | 148/1261 [02:11<16:27,  1.13it/s]"
     ]
    },
    {
     "name": "stdout",
     "output_type": "stream",
     "text": [
      "no. of rectangles found is  0\n",
      "spatial_size  (16, 16)\n",
      "hist  16\n",
      "orient  9\n",
      "ch1.shape[1]  853\n",
      "pix_per_cell  8\n",
      "(ch1.shape[1] // pix_per_cell)  106\n",
      "cell_per_block  2\n",
      "nxblocks  105\n"
     ]
    },
    {
     "name": "stderr",
     "output_type": "stream",
     "text": [
      "\r",
      " 12%|█▏        | 149/1261 [02:12<16:23,  1.13it/s]"
     ]
    },
    {
     "name": "stdout",
     "output_type": "stream",
     "text": [
      "no. of rectangles found is  1\n",
      "spatial_size  (16, 16)\n",
      "hist  16\n",
      "orient  9\n",
      "ch1.shape[1]  853\n",
      "pix_per_cell  8\n",
      "(ch1.shape[1] // pix_per_cell)  106\n",
      "cell_per_block  2\n",
      "nxblocks  105\n"
     ]
    },
    {
     "name": "stderr",
     "output_type": "stream",
     "text": [
      "\r",
      " 12%|█▏        | 150/1261 [02:13<16:21,  1.13it/s]"
     ]
    },
    {
     "name": "stdout",
     "output_type": "stream",
     "text": [
      "no. of rectangles found is  3\n",
      "spatial_size  (16, 16)\n",
      "hist  16\n",
      "orient  9\n",
      "ch1.shape[1]  853\n",
      "pix_per_cell  8\n",
      "(ch1.shape[1] // pix_per_cell)  106\n",
      "cell_per_block  2\n",
      "nxblocks  105\n"
     ]
    },
    {
     "name": "stderr",
     "output_type": "stream",
     "text": [
      "\r",
      " 12%|█▏        | 151/1261 [02:14<16:32,  1.12it/s]"
     ]
    },
    {
     "name": "stdout",
     "output_type": "stream",
     "text": [
      "no. of rectangles found is  0\n",
      "spatial_size  (16, 16)\n",
      "hist  16\n",
      "orient  9\n",
      "ch1.shape[1]  853\n",
      "pix_per_cell  8\n",
      "(ch1.shape[1] // pix_per_cell)  106\n",
      "cell_per_block  2\n",
      "nxblocks  105\n"
     ]
    },
    {
     "name": "stderr",
     "output_type": "stream",
     "text": [
      "\r",
      " 12%|█▏        | 152/1261 [02:15<16:29,  1.12it/s]"
     ]
    },
    {
     "name": "stdout",
     "output_type": "stream",
     "text": [
      "no. of rectangles found is  5\n",
      "spatial_size  (16, 16)\n",
      "hist  16\n",
      "orient  9\n",
      "ch1.shape[1]  853\n",
      "pix_per_cell  8\n",
      "(ch1.shape[1] // pix_per_cell)  106\n",
      "cell_per_block  2\n",
      "nxblocks  105\n"
     ]
    },
    {
     "name": "stderr",
     "output_type": "stream",
     "text": [
      "\r",
      " 12%|█▏        | 153/1261 [02:16<16:26,  1.12it/s]"
     ]
    },
    {
     "name": "stdout",
     "output_type": "stream",
     "text": [
      "no. of rectangles found is  1\n",
      "spatial_size  (16, 16)\n",
      "hist  16\n",
      "orient  9\n",
      "ch1.shape[1]  853\n",
      "pix_per_cell  8\n",
      "(ch1.shape[1] // pix_per_cell)  106\n",
      "cell_per_block  2\n",
      "nxblocks  105\n"
     ]
    },
    {
     "name": "stderr",
     "output_type": "stream",
     "text": [
      "\r",
      " 12%|█▏        | 154/1261 [02:16<16:21,  1.13it/s]"
     ]
    },
    {
     "name": "stdout",
     "output_type": "stream",
     "text": [
      "no. of rectangles found is  2\n",
      "spatial_size  (16, 16)\n",
      "hist  16\n",
      "orient  9\n",
      "ch1.shape[1]  853\n",
      "pix_per_cell  8\n",
      "(ch1.shape[1] // pix_per_cell)  106\n",
      "cell_per_block  2\n",
      "nxblocks  105\n"
     ]
    },
    {
     "name": "stderr",
     "output_type": "stream",
     "text": [
      "\r",
      " 12%|█▏        | 155/1261 [02:17<16:16,  1.13it/s]"
     ]
    },
    {
     "name": "stdout",
     "output_type": "stream",
     "text": [
      "no. of rectangles found is  2\n",
      "spatial_size  (16, 16)\n",
      "hist  16\n",
      "orient  9\n",
      "ch1.shape[1]  853\n",
      "pix_per_cell  8\n",
      "(ch1.shape[1] // pix_per_cell)  106\n",
      "cell_per_block  2\n",
      "nxblocks  105\n"
     ]
    },
    {
     "name": "stderr",
     "output_type": "stream",
     "text": [
      "\r",
      " 12%|█▏        | 156/1261 [02:18<16:18,  1.13it/s]"
     ]
    },
    {
     "name": "stdout",
     "output_type": "stream",
     "text": [
      "no. of rectangles found is  2\n",
      "spatial_size  (16, 16)\n",
      "hist  16\n",
      "orient  9\n",
      "ch1.shape[1]  853\n",
      "pix_per_cell  8\n",
      "(ch1.shape[1] // pix_per_cell)  106\n",
      "cell_per_block  2\n",
      "nxblocks  105\n"
     ]
    },
    {
     "name": "stderr",
     "output_type": "stream",
     "text": [
      "\r",
      " 12%|█▏        | 157/1261 [02:19<16:32,  1.11it/s]"
     ]
    },
    {
     "name": "stdout",
     "output_type": "stream",
     "text": [
      "no. of rectangles found is  6\n",
      "spatial_size  (16, 16)\n",
      "hist  16\n",
      "orient  9\n",
      "ch1.shape[1]  853\n",
      "pix_per_cell  8\n",
      "(ch1.shape[1] // pix_per_cell)  106\n",
      "cell_per_block  2\n",
      "nxblocks  105\n"
     ]
    },
    {
     "name": "stderr",
     "output_type": "stream",
     "text": [
      "\r",
      " 13%|█▎        | 158/1261 [02:20<16:24,  1.12it/s]"
     ]
    },
    {
     "name": "stdout",
     "output_type": "stream",
     "text": [
      "no. of rectangles found is  4\n",
      "spatial_size  (16, 16)\n",
      "hist  16\n",
      "orient  9\n",
      "ch1.shape[1]  853\n",
      "pix_per_cell  8\n",
      "(ch1.shape[1] // pix_per_cell)  106\n",
      "cell_per_block  2\n",
      "nxblocks  105\n"
     ]
    },
    {
     "name": "stderr",
     "output_type": "stream",
     "text": [
      "\r",
      " 13%|█▎        | 159/1261 [02:21<16:18,  1.13it/s]"
     ]
    },
    {
     "name": "stdout",
     "output_type": "stream",
     "text": [
      "no. of rectangles found is  3\n",
      "spatial_size  (16, 16)\n",
      "hist  16\n",
      "orient  9\n",
      "ch1.shape[1]  853\n",
      "pix_per_cell  8\n",
      "(ch1.shape[1] // pix_per_cell)  106\n",
      "cell_per_block  2\n",
      "nxblocks  105\n"
     ]
    },
    {
     "name": "stderr",
     "output_type": "stream",
     "text": [
      "\r",
      " 13%|█▎        | 160/1261 [02:22<16:18,  1.13it/s]"
     ]
    },
    {
     "name": "stdout",
     "output_type": "stream",
     "text": [
      "no. of rectangles found is  4\n",
      "spatial_size  (16, 16)\n",
      "hist  16\n",
      "orient  9\n",
      "ch1.shape[1]  853\n",
      "pix_per_cell  8\n",
      "(ch1.shape[1] // pix_per_cell)  106\n",
      "cell_per_block  2\n",
      "nxblocks  105\n"
     ]
    },
    {
     "name": "stderr",
     "output_type": "stream",
     "text": [
      "\r",
      " 13%|█▎        | 161/1261 [02:23<16:25,  1.12it/s]"
     ]
    },
    {
     "name": "stdout",
     "output_type": "stream",
     "text": [
      "no. of rectangles found is  10\n",
      "spatial_size  (16, 16)\n",
      "hist  16\n",
      "orient  9\n",
      "ch1.shape[1]  853\n",
      "pix_per_cell  8\n",
      "(ch1.shape[1] // pix_per_cell)  106\n",
      "cell_per_block  2\n",
      "nxblocks  105\n"
     ]
    },
    {
     "name": "stderr",
     "output_type": "stream",
     "text": [
      "\r",
      " 13%|█▎        | 162/1261 [02:24<16:18,  1.12it/s]"
     ]
    },
    {
     "name": "stdout",
     "output_type": "stream",
     "text": [
      "no. of rectangles found is  8\n",
      "spatial_size  (16, 16)\n",
      "hist  16\n",
      "orient  9\n",
      "ch1.shape[1]  853\n",
      "pix_per_cell  8\n",
      "(ch1.shape[1] // pix_per_cell)  106\n",
      "cell_per_block  2\n",
      "nxblocks  105\n"
     ]
    },
    {
     "name": "stderr",
     "output_type": "stream",
     "text": [
      "\r",
      " 13%|█▎        | 163/1261 [02:24<16:17,  1.12it/s]"
     ]
    },
    {
     "name": "stdout",
     "output_type": "stream",
     "text": [
      "no. of rectangles found is  2\n",
      "spatial_size  (16, 16)\n",
      "hist  16\n",
      "orient  9\n",
      "ch1.shape[1]  853\n",
      "pix_per_cell  8\n",
      "(ch1.shape[1] // pix_per_cell)  106\n",
      "cell_per_block  2\n",
      "nxblocks  105\n"
     ]
    },
    {
     "name": "stderr",
     "output_type": "stream",
     "text": [
      "\r",
      " 13%|█▎        | 164/1261 [02:25<16:13,  1.13it/s]"
     ]
    },
    {
     "name": "stdout",
     "output_type": "stream",
     "text": [
      "no. of rectangles found is  2\n",
      "spatial_size  (16, 16)\n",
      "hist  16\n",
      "orient  9\n",
      "ch1.shape[1]  853\n",
      "pix_per_cell  8\n",
      "(ch1.shape[1] // pix_per_cell)  106\n",
      "cell_per_block  2\n",
      "nxblocks  105\n"
     ]
    },
    {
     "name": "stderr",
     "output_type": "stream",
     "text": [
      "\r",
      " 13%|█▎        | 165/1261 [02:26<16:11,  1.13it/s]"
     ]
    },
    {
     "name": "stdout",
     "output_type": "stream",
     "text": [
      "no. of rectangles found is  5\n",
      "spatial_size  (16, 16)\n",
      "hist  16\n",
      "orient  9\n",
      "ch1.shape[1]  853\n",
      "pix_per_cell  8\n",
      "(ch1.shape[1] // pix_per_cell)  106\n",
      "cell_per_block  2\n",
      "nxblocks  105\n"
     ]
    },
    {
     "name": "stderr",
     "output_type": "stream",
     "text": [
      "\r",
      " 13%|█▎        | 166/1261 [02:27<16:10,  1.13it/s]"
     ]
    },
    {
     "name": "stdout",
     "output_type": "stream",
     "text": [
      "no. of rectangles found is  2\n",
      "spatial_size  (16, 16)\n",
      "hist  16\n",
      "orient  9\n",
      "ch1.shape[1]  853\n",
      "pix_per_cell  8\n",
      "(ch1.shape[1] // pix_per_cell)  106\n",
      "cell_per_block  2\n",
      "nxblocks  105\n"
     ]
    },
    {
     "name": "stderr",
     "output_type": "stream",
     "text": [
      "\r",
      " 13%|█▎        | 167/1261 [02:28<16:10,  1.13it/s]"
     ]
    },
    {
     "name": "stdout",
     "output_type": "stream",
     "text": [
      "no. of rectangles found is  4\n",
      "spatial_size  (16, 16)\n",
      "hist  16\n",
      "orient  9\n",
      "ch1.shape[1]  853\n",
      "pix_per_cell  8\n",
      "(ch1.shape[1] // pix_per_cell)  106\n",
      "cell_per_block  2\n",
      "nxblocks  105\n"
     ]
    },
    {
     "name": "stderr",
     "output_type": "stream",
     "text": [
      "\r",
      " 13%|█▎        | 168/1261 [02:29<16:08,  1.13it/s]"
     ]
    },
    {
     "name": "stdout",
     "output_type": "stream",
     "text": [
      "no. of rectangles found is  2\n",
      "spatial_size  (16, 16)\n",
      "hist  16\n",
      "orient  9\n",
      "ch1.shape[1]  853\n",
      "pix_per_cell  8\n",
      "(ch1.shape[1] // pix_per_cell)  106\n",
      "cell_per_block  2\n",
      "nxblocks  105\n"
     ]
    },
    {
     "name": "stderr",
     "output_type": "stream",
     "text": [
      "\r",
      " 13%|█▎        | 169/1261 [02:30<16:14,  1.12it/s]"
     ]
    },
    {
     "name": "stdout",
     "output_type": "stream",
     "text": [
      "no. of rectangles found is  5\n",
      "spatial_size  (16, 16)\n",
      "hist  16\n",
      "orient  9\n",
      "ch1.shape[1]  853\n",
      "pix_per_cell  8\n",
      "(ch1.shape[1] // pix_per_cell)  106\n",
      "cell_per_block  2\n",
      "nxblocks  105\n"
     ]
    },
    {
     "name": "stderr",
     "output_type": "stream",
     "text": [
      "\r",
      " 13%|█▎        | 170/1261 [02:31<16:17,  1.12it/s]"
     ]
    },
    {
     "name": "stdout",
     "output_type": "stream",
     "text": [
      "no. of rectangles found is  4\n",
      "spatial_size  (16, 16)\n",
      "hist  16\n",
      "orient  9\n",
      "ch1.shape[1]  853\n",
      "pix_per_cell  8\n",
      "(ch1.shape[1] // pix_per_cell)  106\n",
      "cell_per_block  2\n",
      "nxblocks  105\n"
     ]
    },
    {
     "name": "stderr",
     "output_type": "stream",
     "text": [
      "\r",
      " 14%|█▎        | 171/1261 [02:32<16:17,  1.11it/s]"
     ]
    },
    {
     "name": "stdout",
     "output_type": "stream",
     "text": [
      "no. of rectangles found is  7\n",
      "spatial_size  (16, 16)\n",
      "hist  16\n",
      "orient  9\n",
      "ch1.shape[1]  853\n",
      "pix_per_cell  8\n",
      "(ch1.shape[1] // pix_per_cell)  106\n",
      "cell_per_block  2\n",
      "nxblocks  105\n"
     ]
    },
    {
     "name": "stderr",
     "output_type": "stream",
     "text": [
      "\r",
      " 14%|█▎        | 172/1261 [02:32<16:13,  1.12it/s]"
     ]
    },
    {
     "name": "stdout",
     "output_type": "stream",
     "text": [
      "no. of rectangles found is  3\n",
      "spatial_size  (16, 16)\n",
      "hist  16\n",
      "orient  9\n",
      "ch1.shape[1]  853\n",
      "pix_per_cell  8\n",
      "(ch1.shape[1] // pix_per_cell)  106\n",
      "cell_per_block  2\n",
      "nxblocks  105\n"
     ]
    },
    {
     "name": "stderr",
     "output_type": "stream",
     "text": [
      "\r",
      " 14%|█▎        | 173/1261 [02:33<16:09,  1.12it/s]"
     ]
    },
    {
     "name": "stdout",
     "output_type": "stream",
     "text": [
      "no. of rectangles found is  5\n",
      "spatial_size  (16, 16)\n",
      "hist  16\n",
      "orient  9\n",
      "ch1.shape[1]  853\n",
      "pix_per_cell  8\n",
      "(ch1.shape[1] // pix_per_cell)  106\n",
      "cell_per_block  2\n",
      "nxblocks  105\n"
     ]
    },
    {
     "name": "stderr",
     "output_type": "stream",
     "text": [
      "\r",
      " 14%|█▍        | 174/1261 [02:34<16:10,  1.12it/s]"
     ]
    },
    {
     "name": "stdout",
     "output_type": "stream",
     "text": [
      "no. of rectangles found is  6\n",
      "spatial_size  (16, 16)\n",
      "hist  16\n",
      "orient  9\n",
      "ch1.shape[1]  853\n",
      "pix_per_cell  8\n",
      "(ch1.shape[1] // pix_per_cell)  106\n",
      "cell_per_block  2\n",
      "nxblocks  105\n"
     ]
    },
    {
     "name": "stderr",
     "output_type": "stream",
     "text": [
      "\r",
      " 14%|█▍        | 175/1261 [02:35<16:30,  1.10it/s]"
     ]
    },
    {
     "name": "stdout",
     "output_type": "stream",
     "text": [
      "no. of rectangles found is  5\n",
      "spatial_size  (16, 16)\n",
      "hist  16\n",
      "orient  9\n",
      "ch1.shape[1]  853\n",
      "pix_per_cell  8\n",
      "(ch1.shape[1] // pix_per_cell)  106\n",
      "cell_per_block  2\n",
      "nxblocks  105\n"
     ]
    },
    {
     "name": "stderr",
     "output_type": "stream",
     "text": [
      "\r",
      " 14%|█▍        | 176/1261 [02:36<16:21,  1.11it/s]"
     ]
    },
    {
     "name": "stdout",
     "output_type": "stream",
     "text": [
      "no. of rectangles found is  5\n",
      "spatial_size  (16, 16)\n",
      "hist  16\n",
      "orient  9\n",
      "ch1.shape[1]  853\n",
      "pix_per_cell  8\n",
      "(ch1.shape[1] // pix_per_cell)  106\n",
      "cell_per_block  2\n",
      "nxblocks  105\n"
     ]
    },
    {
     "name": "stderr",
     "output_type": "stream",
     "text": [
      "\r",
      " 14%|█▍        | 177/1261 [02:37<16:13,  1.11it/s]"
     ]
    },
    {
     "name": "stdout",
     "output_type": "stream",
     "text": [
      "no. of rectangles found is  9\n",
      "spatial_size  (16, 16)\n",
      "hist  16\n",
      "orient  9\n",
      "ch1.shape[1]  853\n",
      "pix_per_cell  8\n",
      "(ch1.shape[1] // pix_per_cell)  106\n",
      "cell_per_block  2\n",
      "nxblocks  105\n"
     ]
    },
    {
     "name": "stderr",
     "output_type": "stream",
     "text": [
      "\r",
      " 14%|█▍        | 178/1261 [02:38<16:08,  1.12it/s]"
     ]
    },
    {
     "name": "stdout",
     "output_type": "stream",
     "text": [
      "no. of rectangles found is  6\n",
      "spatial_size  (16, 16)\n",
      "hist  16\n",
      "orient  9\n",
      "ch1.shape[1]  853\n",
      "pix_per_cell  8\n",
      "(ch1.shape[1] // pix_per_cell)  106\n",
      "cell_per_block  2\n",
      "nxblocks  105\n"
     ]
    },
    {
     "name": "stderr",
     "output_type": "stream",
     "text": [
      "\r",
      " 14%|█▍        | 179/1261 [02:39<16:08,  1.12it/s]"
     ]
    },
    {
     "name": "stdout",
     "output_type": "stream",
     "text": [
      "no. of rectangles found is  5\n",
      "spatial_size  (16, 16)\n",
      "hist  16\n",
      "orient  9\n",
      "ch1.shape[1]  853\n",
      "pix_per_cell  8\n",
      "(ch1.shape[1] // pix_per_cell)  106\n",
      "cell_per_block  2\n",
      "nxblocks  105\n"
     ]
    },
    {
     "name": "stderr",
     "output_type": "stream",
     "text": [
      "\r",
      " 14%|█▍        | 180/1261 [02:40<16:04,  1.12it/s]"
     ]
    },
    {
     "name": "stdout",
     "output_type": "stream",
     "text": [
      "no. of rectangles found is  7\n",
      "spatial_size  (16, 16)\n",
      "hist  16\n",
      "orient  9\n",
      "ch1.shape[1]  853\n",
      "pix_per_cell  8\n",
      "(ch1.shape[1] // pix_per_cell)  106\n",
      "cell_per_block  2\n",
      "nxblocks  105\n"
     ]
    },
    {
     "name": "stderr",
     "output_type": "stream",
     "text": [
      "\r",
      " 14%|█▍        | 181/1261 [02:41<16:01,  1.12it/s]"
     ]
    },
    {
     "name": "stdout",
     "output_type": "stream",
     "text": [
      "no. of rectangles found is  6\n",
      "spatial_size  (16, 16)\n",
      "hist  16\n",
      "orient  9\n",
      "ch1.shape[1]  853\n",
      "pix_per_cell  8\n",
      "(ch1.shape[1] // pix_per_cell)  106\n",
      "cell_per_block  2\n",
      "nxblocks  105\n"
     ]
    },
    {
     "name": "stderr",
     "output_type": "stream",
     "text": [
      "\r",
      " 14%|█▍        | 182/1261 [02:41<16:00,  1.12it/s]"
     ]
    },
    {
     "name": "stdout",
     "output_type": "stream",
     "text": [
      "no. of rectangles found is  11\n",
      "spatial_size  (16, 16)\n",
      "hist  16\n",
      "orient  9\n",
      "ch1.shape[1]  853\n",
      "pix_per_cell  8\n",
      "(ch1.shape[1] // pix_per_cell)  106\n",
      "cell_per_block  2\n",
      "nxblocks  105\n"
     ]
    },
    {
     "name": "stderr",
     "output_type": "stream",
     "text": [
      "\r",
      " 15%|█▍        | 183/1261 [02:42<16:00,  1.12it/s]"
     ]
    },
    {
     "name": "stdout",
     "output_type": "stream",
     "text": [
      "no. of rectangles found is  6\n",
      "spatial_size  (16, 16)\n",
      "hist  16\n",
      "orient  9\n",
      "ch1.shape[1]  853\n",
      "pix_per_cell  8\n",
      "(ch1.shape[1] // pix_per_cell)  106\n",
      "cell_per_block  2\n",
      "nxblocks  105\n"
     ]
    },
    {
     "name": "stderr",
     "output_type": "stream",
     "text": [
      "\r",
      " 15%|█▍        | 184/1261 [02:43<15:55,  1.13it/s]"
     ]
    },
    {
     "name": "stdout",
     "output_type": "stream",
     "text": [
      "no. of rectangles found is  5\n",
      "spatial_size  (16, 16)\n",
      "hist  16\n",
      "orient  9\n",
      "ch1.shape[1]  853\n",
      "pix_per_cell  8\n",
      "(ch1.shape[1] // pix_per_cell)  106\n",
      "cell_per_block  2\n",
      "nxblocks  105\n"
     ]
    },
    {
     "name": "stderr",
     "output_type": "stream",
     "text": [
      "\r",
      " 15%|█▍        | 185/1261 [02:44<15:54,  1.13it/s]"
     ]
    },
    {
     "name": "stdout",
     "output_type": "stream",
     "text": [
      "no. of rectangles found is  12\n",
      "spatial_size  (16, 16)\n",
      "hist  16\n",
      "orient  9\n",
      "ch1.shape[1]  853\n",
      "pix_per_cell  8\n",
      "(ch1.shape[1] // pix_per_cell)  106\n",
      "cell_per_block  2\n",
      "nxblocks  105\n"
     ]
    },
    {
     "name": "stderr",
     "output_type": "stream",
     "text": [
      "\r",
      " 15%|█▍        | 186/1261 [02:45<16:01,  1.12it/s]"
     ]
    },
    {
     "name": "stdout",
     "output_type": "stream",
     "text": [
      "no. of rectangles found is  13\n",
      "spatial_size  (16, 16)\n",
      "hist  16\n",
      "orient  9\n",
      "ch1.shape[1]  853\n",
      "pix_per_cell  8\n",
      "(ch1.shape[1] // pix_per_cell)  106\n",
      "cell_per_block  2\n",
      "nxblocks  105\n"
     ]
    },
    {
     "name": "stderr",
     "output_type": "stream",
     "text": [
      "\r",
      " 15%|█▍        | 187/1261 [02:46<16:00,  1.12it/s]"
     ]
    },
    {
     "name": "stdout",
     "output_type": "stream",
     "text": [
      "no. of rectangles found is  11\n",
      "spatial_size  (16, 16)\n",
      "hist  16\n",
      "orient  9\n",
      "ch1.shape[1]  853\n",
      "pix_per_cell  8\n",
      "(ch1.shape[1] // pix_per_cell)  106\n",
      "cell_per_block  2\n",
      "nxblocks  105\n"
     ]
    },
    {
     "name": "stderr",
     "output_type": "stream",
     "text": [
      "\r",
      " 15%|█▍        | 188/1261 [02:47<15:51,  1.13it/s]"
     ]
    },
    {
     "name": "stdout",
     "output_type": "stream",
     "text": [
      "no. of rectangles found is  8\n",
      "spatial_size  (16, 16)\n",
      "hist  16\n",
      "orient  9\n",
      "ch1.shape[1]  853\n",
      "pix_per_cell  8\n",
      "(ch1.shape[1] // pix_per_cell)  106\n",
      "cell_per_block  2\n",
      "nxblocks  105\n"
     ]
    },
    {
     "name": "stderr",
     "output_type": "stream",
     "text": [
      "\r",
      " 15%|█▍        | 189/1261 [02:48<15:52,  1.13it/s]"
     ]
    },
    {
     "name": "stdout",
     "output_type": "stream",
     "text": [
      "no. of rectangles found is  7\n",
      "spatial_size  (16, 16)\n",
      "hist  16\n",
      "orient  9\n",
      "ch1.shape[1]  853\n",
      "pix_per_cell  8\n",
      "(ch1.shape[1] // pix_per_cell)  106\n",
      "cell_per_block  2\n",
      "nxblocks  105\n"
     ]
    },
    {
     "name": "stderr",
     "output_type": "stream",
     "text": [
      "\r",
      " 15%|█▌        | 190/1261 [02:49<15:50,  1.13it/s]"
     ]
    },
    {
     "name": "stdout",
     "output_type": "stream",
     "text": [
      "no. of rectangles found is  9\n",
      "spatial_size  (16, 16)\n",
      "hist  16\n",
      "orient  9\n",
      "ch1.shape[1]  853\n",
      "pix_per_cell  8\n",
      "(ch1.shape[1] // pix_per_cell)  106\n",
      "cell_per_block  2\n",
      "nxblocks  105\n"
     ]
    },
    {
     "name": "stderr",
     "output_type": "stream",
     "text": [
      "\r",
      " 15%|█▌        | 191/1261 [02:49<15:56,  1.12it/s]"
     ]
    },
    {
     "name": "stdout",
     "output_type": "stream",
     "text": [
      "no. of rectangles found is  11\n",
      "spatial_size  (16, 16)\n",
      "hist  16\n",
      "orient  9\n",
      "ch1.shape[1]  853\n",
      "pix_per_cell  8\n",
      "(ch1.shape[1] // pix_per_cell)  106\n",
      "cell_per_block  2\n",
      "nxblocks  105\n"
     ]
    },
    {
     "name": "stderr",
     "output_type": "stream",
     "text": [
      "\r",
      " 15%|█▌        | 192/1261 [02:50<15:53,  1.12it/s]"
     ]
    },
    {
     "name": "stdout",
     "output_type": "stream",
     "text": [
      "no. of rectangles found is  9\n",
      "spatial_size  (16, 16)\n",
      "hist  16\n",
      "orient  9\n",
      "ch1.shape[1]  853\n",
      "pix_per_cell  8\n",
      "(ch1.shape[1] // pix_per_cell)  106\n",
      "cell_per_block  2\n",
      "nxblocks  105\n"
     ]
    },
    {
     "name": "stderr",
     "output_type": "stream",
     "text": [
      "\r",
      " 15%|█▌        | 193/1261 [02:51<15:51,  1.12it/s]"
     ]
    },
    {
     "name": "stdout",
     "output_type": "stream",
     "text": [
      "no. of rectangles found is  9\n",
      "spatial_size  (16, 16)\n",
      "hist  16\n",
      "orient  9\n",
      "ch1.shape[1]  853\n",
      "pix_per_cell  8\n",
      "(ch1.shape[1] // pix_per_cell)  106\n",
      "cell_per_block  2\n",
      "nxblocks  105\n"
     ]
    },
    {
     "name": "stderr",
     "output_type": "stream",
     "text": [
      "\r",
      " 15%|█▌        | 194/1261 [02:52<15:49,  1.12it/s]"
     ]
    },
    {
     "name": "stdout",
     "output_type": "stream",
     "text": [
      "no. of rectangles found is  11\n",
      "spatial_size  (16, 16)\n",
      "hist  16\n",
      "orient  9\n",
      "ch1.shape[1]  853\n",
      "pix_per_cell  8\n",
      "(ch1.shape[1] // pix_per_cell)  106\n",
      "cell_per_block  2\n",
      "nxblocks  105\n"
     ]
    },
    {
     "name": "stderr",
     "output_type": "stream",
     "text": [
      "\r",
      " 15%|█▌        | 195/1261 [02:53<15:48,  1.12it/s]"
     ]
    },
    {
     "name": "stdout",
     "output_type": "stream",
     "text": [
      "no. of rectangles found is  10\n",
      "spatial_size  (16, 16)\n",
      "hist  16\n",
      "orient  9\n",
      "ch1.shape[1]  853\n",
      "pix_per_cell  8\n",
      "(ch1.shape[1] // pix_per_cell)  106\n",
      "cell_per_block  2\n",
      "nxblocks  105\n"
     ]
    },
    {
     "name": "stderr",
     "output_type": "stream",
     "text": [
      "\r",
      " 16%|█▌        | 196/1261 [02:54<15:47,  1.12it/s]"
     ]
    },
    {
     "name": "stdout",
     "output_type": "stream",
     "text": [
      "no. of rectangles found is  14\n",
      "spatial_size  (16, 16)\n",
      "hist  16\n",
      "orient  9\n",
      "ch1.shape[1]  853\n",
      "pix_per_cell  8\n",
      "(ch1.shape[1] // pix_per_cell)  106\n",
      "cell_per_block  2\n",
      "nxblocks  105\n"
     ]
    },
    {
     "name": "stderr",
     "output_type": "stream",
     "text": [
      "\r",
      " 16%|█▌        | 197/1261 [02:55<15:42,  1.13it/s]"
     ]
    },
    {
     "name": "stdout",
     "output_type": "stream",
     "text": [
      "no. of rectangles found is  11\n",
      "spatial_size  (16, 16)\n",
      "hist  16\n",
      "orient  9\n",
      "ch1.shape[1]  853\n",
      "pix_per_cell  8\n",
      "(ch1.shape[1] // pix_per_cell)  106\n",
      "cell_per_block  2\n",
      "nxblocks  105\n"
     ]
    },
    {
     "name": "stderr",
     "output_type": "stream",
     "text": [
      "\r",
      " 16%|█▌        | 198/1261 [02:56<15:42,  1.13it/s]"
     ]
    },
    {
     "name": "stdout",
     "output_type": "stream",
     "text": [
      "no. of rectangles found is  12\n",
      "spatial_size  (16, 16)\n",
      "hist  16\n",
      "orient  9\n",
      "ch1.shape[1]  853\n",
      "pix_per_cell  8\n",
      "(ch1.shape[1] // pix_per_cell)  106\n",
      "cell_per_block  2\n",
      "nxblocks  105\n"
     ]
    },
    {
     "name": "stderr",
     "output_type": "stream",
     "text": [
      "\r",
      " 16%|█▌        | 199/1261 [02:57<15:40,  1.13it/s]"
     ]
    },
    {
     "name": "stdout",
     "output_type": "stream",
     "text": [
      "no. of rectangles found is  12\n",
      "spatial_size  (16, 16)\n",
      "hist  16\n",
      "orient  9\n",
      "ch1.shape[1]  853\n",
      "pix_per_cell  8\n",
      "(ch1.shape[1] // pix_per_cell)  106\n",
      "cell_per_block  2\n",
      "nxblocks  105\n"
     ]
    },
    {
     "name": "stderr",
     "output_type": "stream",
     "text": [
      "\r",
      " 16%|█▌        | 200/1261 [02:57<15:42,  1.13it/s]"
     ]
    },
    {
     "name": "stdout",
     "output_type": "stream",
     "text": [
      "no. of rectangles found is  11\n",
      "spatial_size  (16, 16)\n",
      "hist  16\n",
      "orient  9\n",
      "ch1.shape[1]  853\n",
      "pix_per_cell  8\n",
      "(ch1.shape[1] // pix_per_cell)  106\n",
      "cell_per_block  2\n",
      "nxblocks  105\n"
     ]
    },
    {
     "name": "stderr",
     "output_type": "stream",
     "text": [
      "\r",
      " 16%|█▌        | 201/1261 [02:58<15:48,  1.12it/s]"
     ]
    },
    {
     "name": "stdout",
     "output_type": "stream",
     "text": [
      "no. of rectangles found is  13\n",
      "spatial_size  (16, 16)\n",
      "hist  16\n",
      "orient  9\n",
      "ch1.shape[1]  853\n",
      "pix_per_cell  8\n",
      "(ch1.shape[1] // pix_per_cell)  106\n",
      "cell_per_block  2\n",
      "nxblocks  105\n"
     ]
    },
    {
     "name": "stderr",
     "output_type": "stream",
     "text": [
      "\r",
      " 16%|█▌        | 202/1261 [02:59<15:41,  1.13it/s]"
     ]
    },
    {
     "name": "stdout",
     "output_type": "stream",
     "text": [
      "no. of rectangles found is  16\n",
      "spatial_size  (16, 16)\n",
      "hist  16\n",
      "orient  9\n",
      "ch1.shape[1]  853\n",
      "pix_per_cell  8\n",
      "(ch1.shape[1] // pix_per_cell)  106\n",
      "cell_per_block  2\n",
      "nxblocks  105\n"
     ]
    },
    {
     "name": "stderr",
     "output_type": "stream",
     "text": [
      "\r",
      " 16%|█▌        | 203/1261 [03:00<15:40,  1.12it/s]"
     ]
    },
    {
     "name": "stdout",
     "output_type": "stream",
     "text": [
      "no. of rectangles found is  15\n",
      "spatial_size  (16, 16)\n",
      "hist  16\n",
      "orient  9\n",
      "ch1.shape[1]  853\n",
      "pix_per_cell  8\n",
      "(ch1.shape[1] // pix_per_cell)  106\n",
      "cell_per_block  2\n",
      "nxblocks  105\n"
     ]
    },
    {
     "name": "stderr",
     "output_type": "stream",
     "text": [
      "\r",
      " 16%|█▌        | 204/1261 [03:01<15:41,  1.12it/s]"
     ]
    },
    {
     "name": "stdout",
     "output_type": "stream",
     "text": [
      "no. of rectangles found is  11\n",
      "spatial_size  (16, 16)\n",
      "hist  16\n",
      "orient  9\n",
      "ch1.shape[1]  853\n",
      "pix_per_cell  8\n",
      "(ch1.shape[1] // pix_per_cell)  106\n",
      "cell_per_block  2\n",
      "nxblocks  105\n"
     ]
    },
    {
     "name": "stderr",
     "output_type": "stream",
     "text": [
      "\r",
      " 16%|█▋        | 205/1261 [03:02<15:38,  1.13it/s]"
     ]
    },
    {
     "name": "stdout",
     "output_type": "stream",
     "text": [
      "no. of rectangles found is  14\n",
      "spatial_size  (16, 16)\n",
      "hist  16\n",
      "orient  9\n",
      "ch1.shape[1]  853\n",
      "pix_per_cell  8\n",
      "(ch1.shape[1] // pix_per_cell)  106\n",
      "cell_per_block  2\n",
      "nxblocks  105\n"
     ]
    },
    {
     "name": "stderr",
     "output_type": "stream",
     "text": [
      "\r",
      " 16%|█▋        | 206/1261 [03:03<15:35,  1.13it/s]"
     ]
    },
    {
     "name": "stdout",
     "output_type": "stream",
     "text": [
      "no. of rectangles found is  16\n",
      "spatial_size  (16, 16)\n",
      "hist  16\n",
      "orient  9\n",
      "ch1.shape[1]  853\n",
      "pix_per_cell  8\n",
      "(ch1.shape[1] // pix_per_cell)  106\n",
      "cell_per_block  2\n",
      "nxblocks  105\n"
     ]
    },
    {
     "name": "stderr",
     "output_type": "stream",
     "text": [
      "\r",
      " 16%|█▋        | 207/1261 [03:04<15:36,  1.13it/s]"
     ]
    },
    {
     "name": "stdout",
     "output_type": "stream",
     "text": [
      "no. of rectangles found is  18\n",
      "spatial_size  (16, 16)\n",
      "hist  16\n",
      "orient  9\n",
      "ch1.shape[1]  853\n",
      "pix_per_cell  8\n",
      "(ch1.shape[1] // pix_per_cell)  106\n",
      "cell_per_block  2\n",
      "nxblocks  105\n"
     ]
    },
    {
     "name": "stderr",
     "output_type": "stream",
     "text": [
      "\r",
      " 16%|█▋        | 208/1261 [03:05<15:34,  1.13it/s]"
     ]
    },
    {
     "name": "stdout",
     "output_type": "stream",
     "text": [
      "no. of rectangles found is  11\n",
      "spatial_size  (16, 16)\n",
      "hist  16\n",
      "orient  9\n",
      "ch1.shape[1]  853\n",
      "pix_per_cell  8\n",
      "(ch1.shape[1] // pix_per_cell)  106\n",
      "cell_per_block  2\n",
      "nxblocks  105\n"
     ]
    },
    {
     "name": "stderr",
     "output_type": "stream",
     "text": [
      "\r",
      " 17%|█▋        | 209/1261 [03:05<15:35,  1.12it/s]"
     ]
    },
    {
     "name": "stdout",
     "output_type": "stream",
     "text": [
      "no. of rectangles found is  10\n",
      "spatial_size  (16, 16)\n",
      "hist  16\n",
      "orient  9\n",
      "ch1.shape[1]  853\n",
      "pix_per_cell  8\n",
      "(ch1.shape[1] // pix_per_cell)  106\n",
      "cell_per_block  2\n",
      "nxblocks  105\n"
     ]
    },
    {
     "name": "stderr",
     "output_type": "stream",
     "text": [
      "\r",
      " 17%|█▋        | 210/1261 [03:06<15:36,  1.12it/s]"
     ]
    },
    {
     "name": "stdout",
     "output_type": "stream",
     "text": [
      "no. of rectangles found is  12\n",
      "spatial_size  (16, 16)\n",
      "hist  16\n",
      "orient  9\n",
      "ch1.shape[1]  853\n",
      "pix_per_cell  8\n",
      "(ch1.shape[1] // pix_per_cell)  106\n",
      "cell_per_block  2\n",
      "nxblocks  105\n"
     ]
    },
    {
     "name": "stderr",
     "output_type": "stream",
     "text": [
      "\r",
      " 17%|█▋        | 211/1261 [03:07<15:35,  1.12it/s]"
     ]
    },
    {
     "name": "stdout",
     "output_type": "stream",
     "text": [
      "no. of rectangles found is  8\n",
      "spatial_size  (16, 16)\n",
      "hist  16\n",
      "orient  9\n",
      "ch1.shape[1]  853\n",
      "pix_per_cell  8\n",
      "(ch1.shape[1] // pix_per_cell)  106\n",
      "cell_per_block  2\n",
      "nxblocks  105\n"
     ]
    },
    {
     "name": "stderr",
     "output_type": "stream",
     "text": [
      "\r",
      " 17%|█▋        | 212/1261 [03:08<15:33,  1.12it/s]"
     ]
    },
    {
     "name": "stdout",
     "output_type": "stream",
     "text": [
      "no. of rectangles found is  12\n",
      "spatial_size  (16, 16)\n",
      "hist  16\n",
      "orient  9\n",
      "ch1.shape[1]  853\n",
      "pix_per_cell  8\n",
      "(ch1.shape[1] // pix_per_cell)  106\n",
      "cell_per_block  2\n",
      "nxblocks  105\n"
     ]
    },
    {
     "name": "stderr",
     "output_type": "stream",
     "text": [
      "\r",
      " 17%|█▋        | 213/1261 [03:09<15:32,  1.12it/s]"
     ]
    },
    {
     "name": "stdout",
     "output_type": "stream",
     "text": [
      "no. of rectangles found is  10\n",
      "spatial_size  (16, 16)\n",
      "hist  16\n",
      "orient  9\n",
      "ch1.shape[1]  853\n",
      "pix_per_cell  8\n",
      "(ch1.shape[1] // pix_per_cell)  106\n",
      "cell_per_block  2\n",
      "nxblocks  105\n"
     ]
    },
    {
     "name": "stderr",
     "output_type": "stream",
     "text": [
      "\r",
      " 17%|█▋        | 214/1261 [03:10<15:29,  1.13it/s]"
     ]
    },
    {
     "name": "stdout",
     "output_type": "stream",
     "text": [
      "no. of rectangles found is  9\n",
      "spatial_size  (16, 16)\n",
      "hist  16\n",
      "orient  9\n",
      "ch1.shape[1]  853\n",
      "pix_per_cell  8\n",
      "(ch1.shape[1] // pix_per_cell)  106\n",
      "cell_per_block  2\n",
      "nxblocks  105\n"
     ]
    },
    {
     "name": "stderr",
     "output_type": "stream",
     "text": [
      "\r",
      " 17%|█▋        | 215/1261 [03:11<15:50,  1.10it/s]"
     ]
    },
    {
     "name": "stdout",
     "output_type": "stream",
     "text": [
      "no. of rectangles found is  15\n",
      "spatial_size  (16, 16)\n",
      "hist  16\n",
      "orient  9\n",
      "ch1.shape[1]  853\n",
      "pix_per_cell  8\n",
      "(ch1.shape[1] // pix_per_cell)  106\n",
      "cell_per_block  2\n",
      "nxblocks  105\n"
     ]
    },
    {
     "name": "stderr",
     "output_type": "stream",
     "text": [
      "\r",
      " 17%|█▋        | 216/1261 [03:12<15:40,  1.11it/s]"
     ]
    },
    {
     "name": "stdout",
     "output_type": "stream",
     "text": [
      "no. of rectangles found is  15\n",
      "spatial_size  (16, 16)\n",
      "hist  16\n",
      "orient  9\n",
      "ch1.shape[1]  853\n",
      "pix_per_cell  8\n",
      "(ch1.shape[1] // pix_per_cell)  106\n",
      "cell_per_block  2\n",
      "nxblocks  105\n"
     ]
    },
    {
     "name": "stderr",
     "output_type": "stream",
     "text": [
      "\r",
      " 17%|█▋        | 217/1261 [03:13<15:42,  1.11it/s]"
     ]
    },
    {
     "name": "stdout",
     "output_type": "stream",
     "text": [
      "no. of rectangles found is  15\n",
      "spatial_size  (16, 16)\n",
      "hist  16\n",
      "orient  9\n",
      "ch1.shape[1]  853\n",
      "pix_per_cell  8\n",
      "(ch1.shape[1] // pix_per_cell)  106\n",
      "cell_per_block  2\n",
      "nxblocks  105\n"
     ]
    },
    {
     "name": "stderr",
     "output_type": "stream",
     "text": [
      "\r",
      " 17%|█▋        | 218/1261 [03:13<15:37,  1.11it/s]"
     ]
    },
    {
     "name": "stdout",
     "output_type": "stream",
     "text": [
      "no. of rectangles found is  17\n",
      "spatial_size  (16, 16)\n",
      "hist  16\n",
      "orient  9\n",
      "ch1.shape[1]  853\n",
      "pix_per_cell  8\n",
      "(ch1.shape[1] // pix_per_cell)  106\n",
      "cell_per_block  2\n",
      "nxblocks  105\n"
     ]
    },
    {
     "name": "stderr",
     "output_type": "stream",
     "text": [
      "\r",
      " 17%|█▋        | 219/1261 [03:14<15:32,  1.12it/s]"
     ]
    },
    {
     "name": "stdout",
     "output_type": "stream",
     "text": [
      "no. of rectangles found is  14\n",
      "spatial_size  (16, 16)\n",
      "hist  16\n",
      "orient  9\n",
      "ch1.shape[1]  853\n",
      "pix_per_cell  8\n",
      "(ch1.shape[1] // pix_per_cell)  106\n",
      "cell_per_block  2\n",
      "nxblocks  105\n"
     ]
    },
    {
     "name": "stderr",
     "output_type": "stream",
     "text": [
      "\r",
      " 17%|█▋        | 220/1261 [03:15<15:28,  1.12it/s]"
     ]
    },
    {
     "name": "stdout",
     "output_type": "stream",
     "text": [
      "no. of rectangles found is  14\n",
      "spatial_size  (16, 16)\n",
      "hist  16\n",
      "orient  9\n",
      "ch1.shape[1]  853\n",
      "pix_per_cell  8\n",
      "(ch1.shape[1] // pix_per_cell)  106\n",
      "cell_per_block  2\n",
      "nxblocks  105\n"
     ]
    },
    {
     "name": "stderr",
     "output_type": "stream",
     "text": [
      "\r",
      " 18%|█▊        | 221/1261 [03:16<15:25,  1.12it/s]"
     ]
    },
    {
     "name": "stdout",
     "output_type": "stream",
     "text": [
      "no. of rectangles found is  18\n",
      "spatial_size  (16, 16)\n",
      "hist  16\n",
      "orient  9\n",
      "ch1.shape[1]  853\n",
      "pix_per_cell  8\n",
      "(ch1.shape[1] // pix_per_cell)  106\n",
      "cell_per_block  2\n",
      "nxblocks  105\n"
     ]
    },
    {
     "name": "stderr",
     "output_type": "stream",
     "text": [
      "\r",
      " 18%|█▊        | 222/1261 [03:17<15:21,  1.13it/s]"
     ]
    },
    {
     "name": "stdout",
     "output_type": "stream",
     "text": [
      "no. of rectangles found is  18\n",
      "spatial_size  (16, 16)\n",
      "hist  16\n",
      "orient  9\n",
      "ch1.shape[1]  853\n",
      "pix_per_cell  8\n",
      "(ch1.shape[1] // pix_per_cell)  106\n",
      "cell_per_block  2\n",
      "nxblocks  105\n"
     ]
    },
    {
     "name": "stderr",
     "output_type": "stream",
     "text": [
      "\r",
      " 18%|█▊        | 223/1261 [03:18<15:28,  1.12it/s]"
     ]
    },
    {
     "name": "stdout",
     "output_type": "stream",
     "text": [
      "no. of rectangles found is  15\n",
      "spatial_size  (16, 16)\n",
      "hist  16\n",
      "orient  9\n",
      "ch1.shape[1]  853\n",
      "pix_per_cell  8\n",
      "(ch1.shape[1] // pix_per_cell)  106\n",
      "cell_per_block  2\n",
      "nxblocks  105\n"
     ]
    },
    {
     "name": "stderr",
     "output_type": "stream",
     "text": [
      "\r",
      " 18%|█▊        | 224/1261 [03:19<15:27,  1.12it/s]"
     ]
    },
    {
     "name": "stdout",
     "output_type": "stream",
     "text": [
      "no. of rectangles found is  16\n",
      "spatial_size  (16, 16)\n",
      "hist  16\n",
      "orient  9\n",
      "ch1.shape[1]  853\n",
      "pix_per_cell  8\n",
      "(ch1.shape[1] // pix_per_cell)  106\n",
      "cell_per_block  2\n",
      "nxblocks  105\n"
     ]
    },
    {
     "name": "stderr",
     "output_type": "stream",
     "text": [
      "\r",
      " 18%|█▊        | 225/1261 [03:20<15:30,  1.11it/s]"
     ]
    },
    {
     "name": "stdout",
     "output_type": "stream",
     "text": [
      "no. of rectangles found is  13\n",
      "spatial_size  (16, 16)\n",
      "hist  16\n",
      "orient  9\n",
      "ch1.shape[1]  853\n",
      "pix_per_cell  8\n",
      "(ch1.shape[1] // pix_per_cell)  106\n",
      "cell_per_block  2\n",
      "nxblocks  105\n"
     ]
    },
    {
     "name": "stderr",
     "output_type": "stream",
     "text": [
      "\r",
      " 18%|█▊        | 226/1261 [03:21<15:33,  1.11it/s]"
     ]
    },
    {
     "name": "stdout",
     "output_type": "stream",
     "text": [
      "no. of rectangles found is  23\n",
      "spatial_size  (16, 16)\n",
      "hist  16\n",
      "orient  9\n",
      "ch1.shape[1]  853\n",
      "pix_per_cell  8\n",
      "(ch1.shape[1] // pix_per_cell)  106\n",
      "cell_per_block  2\n",
      "nxblocks  105\n"
     ]
    },
    {
     "name": "stderr",
     "output_type": "stream",
     "text": [
      "\r",
      " 18%|█▊        | 227/1261 [03:22<15:24,  1.12it/s]"
     ]
    },
    {
     "name": "stdout",
     "output_type": "stream",
     "text": [
      "no. of rectangles found is  16\n",
      "spatial_size  (16, 16)\n",
      "hist  16\n",
      "orient  9\n",
      "ch1.shape[1]  853\n",
      "pix_per_cell  8\n",
      "(ch1.shape[1] // pix_per_cell)  106\n",
      "cell_per_block  2\n",
      "nxblocks  105\n"
     ]
    },
    {
     "name": "stderr",
     "output_type": "stream",
     "text": [
      "\r",
      " 18%|█▊        | 228/1261 [03:22<15:25,  1.12it/s]"
     ]
    },
    {
     "name": "stdout",
     "output_type": "stream",
     "text": [
      "no. of rectangles found is  16\n",
      "spatial_size  (16, 16)\n",
      "hist  16\n",
      "orient  9\n",
      "ch1.shape[1]  853\n",
      "pix_per_cell  8\n",
      "(ch1.shape[1] // pix_per_cell)  106\n",
      "cell_per_block  2\n",
      "nxblocks  105\n"
     ]
    },
    {
     "name": "stderr",
     "output_type": "stream",
     "text": [
      "\r",
      " 18%|█▊        | 229/1261 [03:23<15:24,  1.12it/s]"
     ]
    },
    {
     "name": "stdout",
     "output_type": "stream",
     "text": [
      "no. of rectangles found is  16\n",
      "spatial_size  (16, 16)\n",
      "hist  16\n",
      "orient  9\n",
      "ch1.shape[1]  853\n",
      "pix_per_cell  8\n",
      "(ch1.shape[1] // pix_per_cell)  106\n",
      "cell_per_block  2\n",
      "nxblocks  105\n"
     ]
    },
    {
     "name": "stderr",
     "output_type": "stream",
     "text": [
      "\r",
      " 18%|█▊        | 230/1261 [03:24<15:22,  1.12it/s]"
     ]
    },
    {
     "name": "stdout",
     "output_type": "stream",
     "text": [
      "no. of rectangles found is  16\n",
      "spatial_size  (16, 16)\n",
      "hist  16\n",
      "orient  9\n",
      "ch1.shape[1]  853\n",
      "pix_per_cell  8\n",
      "(ch1.shape[1] // pix_per_cell)  106\n",
      "cell_per_block  2\n",
      "nxblocks  105\n"
     ]
    },
    {
     "name": "stderr",
     "output_type": "stream",
     "text": [
      "\r",
      " 18%|█▊        | 231/1261 [03:25<15:26,  1.11it/s]"
     ]
    },
    {
     "name": "stdout",
     "output_type": "stream",
     "text": [
      "no. of rectangles found is  20\n",
      "spatial_size  (16, 16)\n",
      "hist  16\n",
      "orient  9\n",
      "ch1.shape[1]  853\n",
      "pix_per_cell  8\n",
      "(ch1.shape[1] // pix_per_cell)  106\n",
      "cell_per_block  2\n",
      "nxblocks  105\n"
     ]
    },
    {
     "name": "stderr",
     "output_type": "stream",
     "text": [
      "\r",
      " 18%|█▊        | 232/1261 [03:26<15:23,  1.11it/s]"
     ]
    },
    {
     "name": "stdout",
     "output_type": "stream",
     "text": [
      "no. of rectangles found is  16\n",
      "spatial_size  (16, 16)\n",
      "hist  16\n",
      "orient  9\n",
      "ch1.shape[1]  853\n",
      "pix_per_cell  8\n",
      "(ch1.shape[1] // pix_per_cell)  106\n",
      "cell_per_block  2\n",
      "nxblocks  105\n"
     ]
    },
    {
     "name": "stderr",
     "output_type": "stream",
     "text": [
      "\r",
      " 18%|█▊        | 233/1261 [03:27<15:19,  1.12it/s]"
     ]
    },
    {
     "name": "stdout",
     "output_type": "stream",
     "text": [
      "no. of rectangles found is  17\n",
      "spatial_size  (16, 16)\n",
      "hist  16\n",
      "orient  9\n",
      "ch1.shape[1]  853\n",
      "pix_per_cell  8\n",
      "(ch1.shape[1] // pix_per_cell)  106\n",
      "cell_per_block  2\n",
      "nxblocks  105\n"
     ]
    },
    {
     "name": "stderr",
     "output_type": "stream",
     "text": [
      "\r",
      " 19%|█▊        | 234/1261 [03:28<15:19,  1.12it/s]"
     ]
    },
    {
     "name": "stdout",
     "output_type": "stream",
     "text": [
      "no. of rectangles found is  25\n",
      "spatial_size  (16, 16)\n",
      "hist  16\n",
      "orient  9\n",
      "ch1.shape[1]  853\n",
      "pix_per_cell  8\n",
      "(ch1.shape[1] // pix_per_cell)  106\n",
      "cell_per_block  2\n",
      "nxblocks  105\n"
     ]
    },
    {
     "name": "stderr",
     "output_type": "stream",
     "text": [
      "\r",
      " 19%|█▊        | 235/1261 [03:29<15:24,  1.11it/s]"
     ]
    },
    {
     "name": "stdout",
     "output_type": "stream",
     "text": [
      "no. of rectangles found is  21\n",
      "spatial_size  (16, 16)\n",
      "hist  16\n",
      "orient  9\n",
      "ch1.shape[1]  853\n",
      "pix_per_cell  8\n",
      "(ch1.shape[1] // pix_per_cell)  106\n",
      "cell_per_block  2\n",
      "nxblocks  105\n"
     ]
    },
    {
     "name": "stderr",
     "output_type": "stream",
     "text": [
      "\r",
      " 19%|█▊        | 236/1261 [03:30<15:18,  1.12it/s]"
     ]
    },
    {
     "name": "stdout",
     "output_type": "stream",
     "text": [
      "no. of rectangles found is  21\n",
      "spatial_size  (16, 16)\n",
      "hist  16\n",
      "orient  9\n",
      "ch1.shape[1]  853\n",
      "pix_per_cell  8\n",
      "(ch1.shape[1] // pix_per_cell)  106\n",
      "cell_per_block  2\n",
      "nxblocks  105\n"
     ]
    },
    {
     "name": "stderr",
     "output_type": "stream",
     "text": [
      "\r",
      " 19%|█▉        | 237/1261 [03:30<15:14,  1.12it/s]"
     ]
    },
    {
     "name": "stdout",
     "output_type": "stream",
     "text": [
      "no. of rectangles found is  18\n",
      "spatial_size  (16, 16)\n",
      "hist  16\n",
      "orient  9\n",
      "ch1.shape[1]  853\n",
      "pix_per_cell  8\n",
      "(ch1.shape[1] // pix_per_cell)  106\n",
      "cell_per_block  2\n",
      "nxblocks  105\n"
     ]
    },
    {
     "name": "stderr",
     "output_type": "stream",
     "text": [
      "\r",
      " 19%|█▉        | 238/1261 [03:31<15:13,  1.12it/s]"
     ]
    },
    {
     "name": "stdout",
     "output_type": "stream",
     "text": [
      "no. of rectangles found is  23\n",
      "spatial_size  (16, 16)\n",
      "hist  16\n",
      "orient  9\n",
      "ch1.shape[1]  853\n",
      "pix_per_cell  8\n",
      "(ch1.shape[1] // pix_per_cell)  106\n",
      "cell_per_block  2\n",
      "nxblocks  105\n"
     ]
    },
    {
     "name": "stderr",
     "output_type": "stream",
     "text": [
      "\r",
      " 19%|█▉        | 239/1261 [03:32<15:07,  1.13it/s]"
     ]
    },
    {
     "name": "stdout",
     "output_type": "stream",
     "text": [
      "no. of rectangles found is  24\n",
      "spatial_size  (16, 16)\n",
      "hist  16\n",
      "orient  9\n",
      "ch1.shape[1]  853\n",
      "pix_per_cell  8\n",
      "(ch1.shape[1] // pix_per_cell)  106\n",
      "cell_per_block  2\n",
      "nxblocks  105\n"
     ]
    },
    {
     "name": "stderr",
     "output_type": "stream",
     "text": [
      "\r",
      " 19%|█▉        | 240/1261 [03:33<15:08,  1.12it/s]"
     ]
    },
    {
     "name": "stdout",
     "output_type": "stream",
     "text": [
      "no. of rectangles found is  20\n",
      "spatial_size  (16, 16)\n",
      "hist  16\n",
      "orient  9\n",
      "ch1.shape[1]  853\n",
      "pix_per_cell  8\n",
      "(ch1.shape[1] // pix_per_cell)  106\n",
      "cell_per_block  2\n",
      "nxblocks  105\n"
     ]
    },
    {
     "name": "stderr",
     "output_type": "stream",
     "text": [
      "\r",
      " 19%|█▉        | 241/1261 [03:34<15:07,  1.12it/s]"
     ]
    },
    {
     "name": "stdout",
     "output_type": "stream",
     "text": [
      "no. of rectangles found is  16\n",
      "spatial_size  (16, 16)\n",
      "hist  16\n",
      "orient  9\n",
      "ch1.shape[1]  853\n",
      "pix_per_cell  8\n",
      "(ch1.shape[1] // pix_per_cell)  106\n",
      "cell_per_block  2\n",
      "nxblocks  105\n"
     ]
    },
    {
     "name": "stderr",
     "output_type": "stream",
     "text": [
      "\r",
      " 19%|█▉        | 242/1261 [03:35<15:06,  1.12it/s]"
     ]
    },
    {
     "name": "stdout",
     "output_type": "stream",
     "text": [
      "no. of rectangles found is  22\n",
      "spatial_size  (16, 16)\n",
      "hist  16\n",
      "orient  9\n",
      "ch1.shape[1]  853\n",
      "pix_per_cell  8\n",
      "(ch1.shape[1] // pix_per_cell)  106\n",
      "cell_per_block  2\n",
      "nxblocks  105\n"
     ]
    },
    {
     "name": "stderr",
     "output_type": "stream",
     "text": [
      "\r",
      " 19%|█▉        | 243/1261 [03:36<15:16,  1.11it/s]"
     ]
    },
    {
     "name": "stdout",
     "output_type": "stream",
     "text": [
      "no. of rectangles found is  19\n",
      "spatial_size  (16, 16)\n",
      "hist  16\n",
      "orient  9\n",
      "ch1.shape[1]  853\n",
      "pix_per_cell  8\n",
      "(ch1.shape[1] // pix_per_cell)  106\n",
      "cell_per_block  2\n",
      "nxblocks  105\n"
     ]
    },
    {
     "name": "stderr",
     "output_type": "stream",
     "text": [
      "\r",
      " 19%|█▉        | 244/1261 [03:37<15:12,  1.11it/s]"
     ]
    },
    {
     "name": "stdout",
     "output_type": "stream",
     "text": [
      "no. of rectangles found is  24\n",
      "spatial_size  (16, 16)\n",
      "hist  16\n",
      "orient  9\n",
      "ch1.shape[1]  853\n",
      "pix_per_cell  8\n",
      "(ch1.shape[1] // pix_per_cell)  106\n",
      "cell_per_block  2\n",
      "nxblocks  105\n"
     ]
    },
    {
     "name": "stderr",
     "output_type": "stream",
     "text": [
      "\r",
      " 19%|█▉        | 245/1261 [03:38<15:10,  1.12it/s]"
     ]
    },
    {
     "name": "stdout",
     "output_type": "stream",
     "text": [
      "no. of rectangles found is  30\n",
      "spatial_size  (16, 16)\n",
      "hist  16\n",
      "orient  9\n",
      "ch1.shape[1]  853\n",
      "pix_per_cell  8\n",
      "(ch1.shape[1] // pix_per_cell)  106\n",
      "cell_per_block  2\n",
      "nxblocks  105\n"
     ]
    },
    {
     "name": "stderr",
     "output_type": "stream",
     "text": [
      "\r",
      " 20%|█▉        | 246/1261 [03:39<15:01,  1.13it/s]"
     ]
    },
    {
     "name": "stdout",
     "output_type": "stream",
     "text": [
      "no. of rectangles found is  26\n",
      "spatial_size  (16, 16)\n",
      "hist  16\n",
      "orient  9\n",
      "ch1.shape[1]  853\n",
      "pix_per_cell  8\n",
      "(ch1.shape[1] // pix_per_cell)  106\n",
      "cell_per_block  2\n",
      "nxblocks  105\n"
     ]
    },
    {
     "name": "stderr",
     "output_type": "stream",
     "text": [
      "\r",
      " 20%|█▉        | 247/1261 [03:39<15:04,  1.12it/s]"
     ]
    },
    {
     "name": "stdout",
     "output_type": "stream",
     "text": [
      "no. of rectangles found is  34\n",
      "spatial_size  (16, 16)\n",
      "hist  16\n",
      "orient  9\n",
      "ch1.shape[1]  853\n",
      "pix_per_cell  8\n",
      "(ch1.shape[1] // pix_per_cell)  106\n",
      "cell_per_block  2\n",
      "nxblocks  105\n"
     ]
    },
    {
     "name": "stderr",
     "output_type": "stream",
     "text": [
      "\r",
      " 20%|█▉        | 248/1261 [03:40<15:05,  1.12it/s]"
     ]
    },
    {
     "name": "stdout",
     "output_type": "stream",
     "text": [
      "no. of rectangles found is  31\n",
      "spatial_size  (16, 16)\n",
      "hist  16\n",
      "orient  9\n",
      "ch1.shape[1]  853\n",
      "pix_per_cell  8\n",
      "(ch1.shape[1] // pix_per_cell)  106\n",
      "cell_per_block  2\n",
      "nxblocks  105\n"
     ]
    },
    {
     "name": "stderr",
     "output_type": "stream",
     "text": [
      "\r",
      " 20%|█▉        | 249/1261 [03:41<15:03,  1.12it/s]"
     ]
    },
    {
     "name": "stdout",
     "output_type": "stream",
     "text": [
      "no. of rectangles found is  28\n",
      "spatial_size  (16, 16)\n",
      "hist  16\n",
      "orient  9\n",
      "ch1.shape[1]  853\n",
      "pix_per_cell  8\n",
      "(ch1.shape[1] // pix_per_cell)  106\n",
      "cell_per_block  2\n",
      "nxblocks  105\n"
     ]
    },
    {
     "name": "stderr",
     "output_type": "stream",
     "text": [
      "\r",
      " 20%|█▉        | 250/1261 [03:42<14:58,  1.12it/s]"
     ]
    },
    {
     "name": "stdout",
     "output_type": "stream",
     "text": [
      "no. of rectangles found is  16\n",
      "spatial_size  (16, 16)\n",
      "hist  16\n",
      "orient  9\n",
      "ch1.shape[1]  853\n",
      "pix_per_cell  8\n",
      "(ch1.shape[1] // pix_per_cell)  106\n",
      "cell_per_block  2\n",
      "nxblocks  105\n"
     ]
    },
    {
     "name": "stderr",
     "output_type": "stream",
     "text": [
      "\r",
      " 20%|█▉        | 251/1261 [03:43<15:01,  1.12it/s]"
     ]
    },
    {
     "name": "stdout",
     "output_type": "stream",
     "text": [
      "no. of rectangles found is  24\n",
      "spatial_size  (16, 16)\n",
      "hist  16\n",
      "orient  9\n",
      "ch1.shape[1]  853\n",
      "pix_per_cell  8\n",
      "(ch1.shape[1] // pix_per_cell)  106\n",
      "cell_per_block  2\n",
      "nxblocks  105\n"
     ]
    },
    {
     "name": "stderr",
     "output_type": "stream",
     "text": [
      "\r",
      " 20%|█▉        | 252/1261 [03:44<14:58,  1.12it/s]"
     ]
    },
    {
     "name": "stdout",
     "output_type": "stream",
     "text": [
      "no. of rectangles found is  20\n",
      "spatial_size  (16, 16)\n",
      "hist  16\n",
      "orient  9\n",
      "ch1.shape[1]  853\n",
      "pix_per_cell  8\n",
      "(ch1.shape[1] // pix_per_cell)  106\n",
      "cell_per_block  2\n",
      "nxblocks  105\n"
     ]
    },
    {
     "name": "stderr",
     "output_type": "stream",
     "text": [
      "\r",
      " 20%|██        | 253/1261 [03:45<15:09,  1.11it/s]"
     ]
    },
    {
     "name": "stdout",
     "output_type": "stream",
     "text": [
      "no. of rectangles found is  22\n",
      "spatial_size  (16, 16)\n",
      "hist  16\n",
      "orient  9\n",
      "ch1.shape[1]  853\n",
      "pix_per_cell  8\n",
      "(ch1.shape[1] // pix_per_cell)  106\n",
      "cell_per_block  2\n",
      "nxblocks  105\n"
     ]
    },
    {
     "name": "stderr",
     "output_type": "stream",
     "text": [
      "\r",
      " 20%|██        | 254/1261 [03:46<15:05,  1.11it/s]"
     ]
    },
    {
     "name": "stdout",
     "output_type": "stream",
     "text": [
      "no. of rectangles found is  20\n",
      "spatial_size  (16, 16)\n",
      "hist  16\n",
      "orient  9\n",
      "ch1.shape[1]  853\n",
      "pix_per_cell  8\n",
      "(ch1.shape[1] // pix_per_cell)  106\n",
      "cell_per_block  2\n",
      "nxblocks  105\n"
     ]
    },
    {
     "name": "stderr",
     "output_type": "stream",
     "text": [
      "\r",
      " 20%|██        | 255/1261 [03:47<15:08,  1.11it/s]"
     ]
    },
    {
     "name": "stdout",
     "output_type": "stream",
     "text": [
      "no. of rectangles found is  25\n",
      "spatial_size  (16, 16)\n",
      "hist  16\n",
      "orient  9\n",
      "ch1.shape[1]  853\n",
      "pix_per_cell  8\n",
      "(ch1.shape[1] // pix_per_cell)  106\n",
      "cell_per_block  2\n",
      "nxblocks  105\n"
     ]
    },
    {
     "name": "stderr",
     "output_type": "stream",
     "text": [
      "\r",
      " 20%|██        | 256/1261 [03:47<15:04,  1.11it/s]"
     ]
    },
    {
     "name": "stdout",
     "output_type": "stream",
     "text": [
      "no. of rectangles found is  22\n",
      "spatial_size  (16, 16)\n",
      "hist  16\n",
      "orient  9\n",
      "ch1.shape[1]  853\n",
      "pix_per_cell  8\n",
      "(ch1.shape[1] // pix_per_cell)  106\n",
      "cell_per_block  2\n",
      "nxblocks  105\n"
     ]
    },
    {
     "name": "stderr",
     "output_type": "stream",
     "text": [
      "\r",
      " 20%|██        | 257/1261 [03:48<15:03,  1.11it/s]"
     ]
    },
    {
     "name": "stdout",
     "output_type": "stream",
     "text": [
      "no. of rectangles found is  19\n",
      "spatial_size  (16, 16)\n",
      "hist  16\n",
      "orient  9\n",
      "ch1.shape[1]  853\n",
      "pix_per_cell  8\n",
      "(ch1.shape[1] // pix_per_cell)  106\n",
      "cell_per_block  2\n",
      "nxblocks  105\n"
     ]
    },
    {
     "name": "stderr",
     "output_type": "stream",
     "text": [
      "\r",
      " 20%|██        | 258/1261 [03:49<14:59,  1.12it/s]"
     ]
    },
    {
     "name": "stdout",
     "output_type": "stream",
     "text": [
      "no. of rectangles found is  16\n",
      "spatial_size  (16, 16)\n",
      "hist  16\n",
      "orient  9\n",
      "ch1.shape[1]  853\n",
      "pix_per_cell  8\n",
      "(ch1.shape[1] // pix_per_cell)  106\n",
      "cell_per_block  2\n",
      "nxblocks  105\n"
     ]
    },
    {
     "name": "stderr",
     "output_type": "stream",
     "text": [
      "\r",
      " 21%|██        | 259/1261 [03:50<14:58,  1.12it/s]"
     ]
    },
    {
     "name": "stdout",
     "output_type": "stream",
     "text": [
      "no. of rectangles found is  14\n",
      "spatial_size  (16, 16)\n",
      "hist  16\n",
      "orient  9\n",
      "ch1.shape[1]  853\n",
      "pix_per_cell  8\n",
      "(ch1.shape[1] // pix_per_cell)  106\n",
      "cell_per_block  2\n",
      "nxblocks  105\n"
     ]
    },
    {
     "name": "stderr",
     "output_type": "stream",
     "text": [
      "\r",
      " 21%|██        | 260/1261 [03:51<15:05,  1.11it/s]"
     ]
    },
    {
     "name": "stdout",
     "output_type": "stream",
     "text": [
      "no. of rectangles found is  18\n",
      "spatial_size  (16, 16)\n",
      "hist  16\n",
      "orient  9\n",
      "ch1.shape[1]  853\n",
      "pix_per_cell  8\n",
      "(ch1.shape[1] // pix_per_cell)  106\n",
      "cell_per_block  2\n",
      "nxblocks  105\n"
     ]
    },
    {
     "name": "stderr",
     "output_type": "stream",
     "text": [
      "\r",
      " 21%|██        | 261/1261 [03:52<15:13,  1.10it/s]"
     ]
    },
    {
     "name": "stdout",
     "output_type": "stream",
     "text": [
      "no. of rectangles found is  15\n",
      "spatial_size  (16, 16)\n",
      "hist  16\n",
      "orient  9\n",
      "ch1.shape[1]  853\n",
      "pix_per_cell  8\n",
      "(ch1.shape[1] // pix_per_cell)  106\n",
      "cell_per_block  2\n",
      "nxblocks  105\n"
     ]
    },
    {
     "name": "stderr",
     "output_type": "stream",
     "text": [
      "\r",
      " 21%|██        | 262/1261 [03:53<15:03,  1.11it/s]"
     ]
    },
    {
     "name": "stdout",
     "output_type": "stream",
     "text": [
      "no. of rectangles found is  18\n",
      "spatial_size  (16, 16)\n",
      "hist  16\n",
      "orient  9\n",
      "ch1.shape[1]  853\n",
      "pix_per_cell  8\n",
      "(ch1.shape[1] // pix_per_cell)  106\n",
      "cell_per_block  2\n",
      "nxblocks  105\n"
     ]
    },
    {
     "name": "stderr",
     "output_type": "stream",
     "text": [
      "\r",
      " 21%|██        | 263/1261 [03:54<14:56,  1.11it/s]"
     ]
    },
    {
     "name": "stdout",
     "output_type": "stream",
     "text": [
      "no. of rectangles found is  14\n",
      "spatial_size  (16, 16)\n",
      "hist  16\n",
      "orient  9\n",
      "ch1.shape[1]  853\n",
      "pix_per_cell  8\n",
      "(ch1.shape[1] // pix_per_cell)  106\n",
      "cell_per_block  2\n",
      "nxblocks  105\n"
     ]
    },
    {
     "name": "stderr",
     "output_type": "stream",
     "text": [
      "\r",
      " 21%|██        | 264/1261 [03:55<14:53,  1.12it/s]"
     ]
    },
    {
     "name": "stdout",
     "output_type": "stream",
     "text": [
      "no. of rectangles found is  15\n",
      "spatial_size  (16, 16)\n",
      "hist  16\n",
      "orient  9\n",
      "ch1.shape[1]  853\n",
      "pix_per_cell  8\n",
      "(ch1.shape[1] // pix_per_cell)  106\n",
      "cell_per_block  2\n",
      "nxblocks  105\n"
     ]
    },
    {
     "name": "stderr",
     "output_type": "stream",
     "text": [
      "\r",
      " 21%|██        | 265/1261 [03:56<14:51,  1.12it/s]"
     ]
    },
    {
     "name": "stdout",
     "output_type": "stream",
     "text": [
      "no. of rectangles found is  17\n",
      "spatial_size  (16, 16)\n",
      "hist  16\n",
      "orient  9\n",
      "ch1.shape[1]  853\n",
      "pix_per_cell  8\n",
      "(ch1.shape[1] // pix_per_cell)  106\n",
      "cell_per_block  2\n",
      "nxblocks  105\n"
     ]
    },
    {
     "name": "stderr",
     "output_type": "stream",
     "text": [
      "\r",
      " 21%|██        | 266/1261 [03:56<14:49,  1.12it/s]"
     ]
    },
    {
     "name": "stdout",
     "output_type": "stream",
     "text": [
      "no. of rectangles found is  12\n",
      "spatial_size  (16, 16)\n",
      "hist  16\n",
      "orient  9\n",
      "ch1.shape[1]  853\n",
      "pix_per_cell  8\n",
      "(ch1.shape[1] // pix_per_cell)  106\n",
      "cell_per_block  2\n",
      "nxblocks  105\n"
     ]
    },
    {
     "name": "stderr",
     "output_type": "stream",
     "text": [
      "\r",
      " 21%|██        | 267/1261 [03:57<14:48,  1.12it/s]"
     ]
    },
    {
     "name": "stdout",
     "output_type": "stream",
     "text": [
      "no. of rectangles found is  14\n",
      "spatial_size  (16, 16)\n",
      "hist  16\n",
      "orient  9\n",
      "ch1.shape[1]  853\n",
      "pix_per_cell  8\n",
      "(ch1.shape[1] // pix_per_cell)  106\n",
      "cell_per_block  2\n",
      "nxblocks  105\n"
     ]
    },
    {
     "name": "stderr",
     "output_type": "stream",
     "text": [
      "\r",
      " 21%|██▏       | 268/1261 [03:58<14:45,  1.12it/s]"
     ]
    },
    {
     "name": "stdout",
     "output_type": "stream",
     "text": [
      "no. of rectangles found is  15\n",
      "spatial_size  (16, 16)\n",
      "hist  16\n",
      "orient  9\n",
      "ch1.shape[1]  853\n",
      "pix_per_cell  8\n",
      "(ch1.shape[1] // pix_per_cell)  106\n",
      "cell_per_block  2\n",
      "nxblocks  105\n"
     ]
    },
    {
     "name": "stderr",
     "output_type": "stream",
     "text": [
      "\r",
      " 21%|██▏       | 269/1261 [03:59<14:57,  1.11it/s]"
     ]
    },
    {
     "name": "stdout",
     "output_type": "stream",
     "text": [
      "no. of rectangles found is  12\n",
      "spatial_size  (16, 16)\n",
      "hist  16\n",
      "orient  9\n",
      "ch1.shape[1]  853\n",
      "pix_per_cell  8\n",
      "(ch1.shape[1] // pix_per_cell)  106\n",
      "cell_per_block  2\n",
      "nxblocks  105\n"
     ]
    },
    {
     "name": "stderr",
     "output_type": "stream",
     "text": [
      "\r",
      " 21%|██▏       | 270/1261 [04:00<14:51,  1.11it/s]"
     ]
    },
    {
     "name": "stdout",
     "output_type": "stream",
     "text": [
      "no. of rectangles found is  12\n",
      "spatial_size  (16, 16)\n",
      "hist  16\n",
      "orient  9\n",
      "ch1.shape[1]  853\n",
      "pix_per_cell  8\n",
      "(ch1.shape[1] // pix_per_cell)  106\n",
      "cell_per_block  2\n",
      "nxblocks  105\n"
     ]
    },
    {
     "name": "stderr",
     "output_type": "stream",
     "text": [
      "\r",
      " 21%|██▏       | 271/1261 [04:01<14:46,  1.12it/s]"
     ]
    },
    {
     "name": "stdout",
     "output_type": "stream",
     "text": [
      "no. of rectangles found is  12\n",
      "spatial_size  (16, 16)\n",
      "hist  16\n",
      "orient  9\n",
      "ch1.shape[1]  853\n",
      "pix_per_cell  8\n",
      "(ch1.shape[1] // pix_per_cell)  106\n",
      "cell_per_block  2\n",
      "nxblocks  105\n"
     ]
    },
    {
     "name": "stderr",
     "output_type": "stream",
     "text": [
      "\r",
      " 22%|██▏       | 272/1261 [04:02<14:43,  1.12it/s]"
     ]
    },
    {
     "name": "stdout",
     "output_type": "stream",
     "text": [
      "no. of rectangles found is  15\n",
      "spatial_size  (16, 16)\n",
      "hist  16\n",
      "orient  9\n",
      "ch1.shape[1]  853\n",
      "pix_per_cell  8\n",
      "(ch1.shape[1] // pix_per_cell)  106\n",
      "cell_per_block  2\n",
      "nxblocks  105\n"
     ]
    },
    {
     "name": "stderr",
     "output_type": "stream",
     "text": [
      "\r",
      " 22%|██▏       | 273/1261 [04:03<14:44,  1.12it/s]"
     ]
    },
    {
     "name": "stdout",
     "output_type": "stream",
     "text": [
      "no. of rectangles found is  19\n",
      "spatial_size  (16, 16)\n",
      "hist  16\n",
      "orient  9\n",
      "ch1.shape[1]  853\n",
      "pix_per_cell  8\n",
      "(ch1.shape[1] // pix_per_cell)  106\n",
      "cell_per_block  2\n",
      "nxblocks  105\n"
     ]
    },
    {
     "name": "stderr",
     "output_type": "stream",
     "text": [
      "\r",
      " 22%|██▏       | 274/1261 [04:04<14:44,  1.12it/s]"
     ]
    },
    {
     "name": "stdout",
     "output_type": "stream",
     "text": [
      "no. of rectangles found is  18\n",
      "spatial_size  (16, 16)\n",
      "hist  16\n",
      "orient  9\n",
      "ch1.shape[1]  853\n",
      "pix_per_cell  8\n",
      "(ch1.shape[1] // pix_per_cell)  106\n",
      "cell_per_block  2\n",
      "nxblocks  105\n"
     ]
    },
    {
     "name": "stderr",
     "output_type": "stream",
     "text": [
      "\r",
      " 22%|██▏       | 275/1261 [04:05<14:37,  1.12it/s]"
     ]
    },
    {
     "name": "stdout",
     "output_type": "stream",
     "text": [
      "no. of rectangles found is  16\n",
      "spatial_size  (16, 16)\n",
      "hist  16\n",
      "orient  9\n",
      "ch1.shape[1]  853\n",
      "pix_per_cell  8\n",
      "(ch1.shape[1] // pix_per_cell)  106\n",
      "cell_per_block  2\n",
      "nxblocks  105\n"
     ]
    },
    {
     "name": "stderr",
     "output_type": "stream",
     "text": [
      "\r",
      " 22%|██▏       | 276/1261 [04:05<14:38,  1.12it/s]"
     ]
    },
    {
     "name": "stdout",
     "output_type": "stream",
     "text": [
      "no. of rectangles found is  25\n",
      "spatial_size  (16, 16)\n",
      "hist  16\n",
      "orient  9\n",
      "ch1.shape[1]  853\n",
      "pix_per_cell  8\n",
      "(ch1.shape[1] // pix_per_cell)  106\n",
      "cell_per_block  2\n",
      "nxblocks  105\n"
     ]
    },
    {
     "name": "stderr",
     "output_type": "stream",
     "text": [
      "\r",
      " 22%|██▏       | 277/1261 [04:06<14:32,  1.13it/s]"
     ]
    },
    {
     "name": "stdout",
     "output_type": "stream",
     "text": [
      "no. of rectangles found is  23\n",
      "spatial_size  (16, 16)\n",
      "hist  16\n",
      "orient  9\n",
      "ch1.shape[1]  853\n",
      "pix_per_cell  8\n",
      "(ch1.shape[1] // pix_per_cell)  106\n",
      "cell_per_block  2\n",
      "nxblocks  105\n"
     ]
    },
    {
     "name": "stderr",
     "output_type": "stream",
     "text": [
      "\r",
      " 22%|██▏       | 278/1261 [04:07<14:29,  1.13it/s]"
     ]
    },
    {
     "name": "stdout",
     "output_type": "stream",
     "text": [
      "no. of rectangles found is  19\n",
      "spatial_size  (16, 16)\n",
      "hist  16\n",
      "orient  9\n",
      "ch1.shape[1]  853\n",
      "pix_per_cell  8\n",
      "(ch1.shape[1] // pix_per_cell)  106\n",
      "cell_per_block  2\n",
      "nxblocks  105\n"
     ]
    },
    {
     "name": "stderr",
     "output_type": "stream",
     "text": [
      "\r",
      " 22%|██▏       | 279/1261 [04:08<14:32,  1.13it/s]"
     ]
    },
    {
     "name": "stdout",
     "output_type": "stream",
     "text": [
      "no. of rectangles found is  18\n",
      "spatial_size  (16, 16)\n",
      "hist  16\n",
      "orient  9\n",
      "ch1.shape[1]  853\n",
      "pix_per_cell  8\n",
      "(ch1.shape[1] // pix_per_cell)  106\n",
      "cell_per_block  2\n",
      "nxblocks  105\n"
     ]
    },
    {
     "name": "stderr",
     "output_type": "stream",
     "text": [
      "\r",
      " 22%|██▏       | 280/1261 [04:09<14:34,  1.12it/s]"
     ]
    },
    {
     "name": "stdout",
     "output_type": "stream",
     "text": [
      "no. of rectangles found is  19\n",
      "spatial_size  (16, 16)\n",
      "hist  16\n",
      "orient  9\n",
      "ch1.shape[1]  853\n",
      "pix_per_cell  8\n",
      "(ch1.shape[1] // pix_per_cell)  106\n",
      "cell_per_block  2\n",
      "nxblocks  105\n"
     ]
    },
    {
     "name": "stderr",
     "output_type": "stream",
     "text": [
      "\r",
      " 22%|██▏       | 281/1261 [04:10<14:34,  1.12it/s]"
     ]
    },
    {
     "name": "stdout",
     "output_type": "stream",
     "text": [
      "no. of rectangles found is  22\n",
      "spatial_size  (16, 16)\n",
      "hist  16\n",
      "orient  9\n",
      "ch1.shape[1]  853\n",
      "pix_per_cell  8\n",
      "(ch1.shape[1] // pix_per_cell)  106\n",
      "cell_per_block  2\n",
      "nxblocks  105\n"
     ]
    },
    {
     "name": "stderr",
     "output_type": "stream",
     "text": [
      "\r",
      " 22%|██▏       | 282/1261 [04:11<14:33,  1.12it/s]"
     ]
    },
    {
     "name": "stdout",
     "output_type": "stream",
     "text": [
      "no. of rectangles found is  18\n",
      "spatial_size  (16, 16)\n",
      "hist  16\n",
      "orient  9\n",
      "ch1.shape[1]  853\n",
      "pix_per_cell  8\n",
      "(ch1.shape[1] // pix_per_cell)  106\n",
      "cell_per_block  2\n",
      "nxblocks  105\n"
     ]
    },
    {
     "name": "stderr",
     "output_type": "stream",
     "text": [
      "\r",
      " 22%|██▏       | 283/1261 [04:12<14:32,  1.12it/s]"
     ]
    },
    {
     "name": "stdout",
     "output_type": "stream",
     "text": [
      "no. of rectangles found is  19\n",
      "spatial_size  (16, 16)\n",
      "hist  16\n",
      "orient  9\n",
      "ch1.shape[1]  853\n",
      "pix_per_cell  8\n",
      "(ch1.shape[1] // pix_per_cell)  106\n",
      "cell_per_block  2\n",
      "nxblocks  105\n"
     ]
    },
    {
     "name": "stderr",
     "output_type": "stream",
     "text": [
      "\r",
      " 23%|██▎       | 284/1261 [04:13<14:28,  1.12it/s]"
     ]
    },
    {
     "name": "stdout",
     "output_type": "stream",
     "text": [
      "no. of rectangles found is  15\n",
      "spatial_size  (16, 16)\n",
      "hist  16\n",
      "orient  9\n",
      "ch1.shape[1]  853\n",
      "pix_per_cell  8\n",
      "(ch1.shape[1] // pix_per_cell)  106\n",
      "cell_per_block  2\n",
      "nxblocks  105\n"
     ]
    },
    {
     "name": "stderr",
     "output_type": "stream",
     "text": [
      "\r",
      " 23%|██▎       | 285/1261 [04:13<14:28,  1.12it/s]"
     ]
    },
    {
     "name": "stdout",
     "output_type": "stream",
     "text": [
      "no. of rectangles found is  16\n",
      "spatial_size  (16, 16)\n",
      "hist  16\n",
      "orient  9\n",
      "ch1.shape[1]  853\n",
      "pix_per_cell  8\n",
      "(ch1.shape[1] // pix_per_cell)  106\n",
      "cell_per_block  2\n",
      "nxblocks  105\n"
     ]
    },
    {
     "name": "stderr",
     "output_type": "stream",
     "text": [
      "\r",
      " 23%|██▎       | 286/1261 [04:14<14:26,  1.13it/s]"
     ]
    },
    {
     "name": "stdout",
     "output_type": "stream",
     "text": [
      "no. of rectangles found is  15\n",
      "spatial_size  (16, 16)\n",
      "hist  16\n",
      "orient  9\n",
      "ch1.shape[1]  853\n",
      "pix_per_cell  8\n",
      "(ch1.shape[1] // pix_per_cell)  106\n",
      "cell_per_block  2\n",
      "nxblocks  105\n"
     ]
    },
    {
     "name": "stderr",
     "output_type": "stream",
     "text": [
      "\r",
      " 23%|██▎       | 287/1261 [04:15<14:25,  1.13it/s]"
     ]
    },
    {
     "name": "stdout",
     "output_type": "stream",
     "text": [
      "no. of rectangles found is  18\n",
      "spatial_size  (16, 16)\n",
      "hist  16\n",
      "orient  9\n",
      "ch1.shape[1]  853\n",
      "pix_per_cell  8\n",
      "(ch1.shape[1] // pix_per_cell)  106\n",
      "cell_per_block  2\n",
      "nxblocks  105\n"
     ]
    },
    {
     "name": "stderr",
     "output_type": "stream",
     "text": [
      "\r",
      " 23%|██▎       | 288/1261 [04:16<14:45,  1.10it/s]"
     ]
    },
    {
     "name": "stdout",
     "output_type": "stream",
     "text": [
      "no. of rectangles found is  19\n",
      "spatial_size  (16, 16)\n",
      "hist  16\n",
      "orient  9\n",
      "ch1.shape[1]  853\n",
      "pix_per_cell  8\n",
      "(ch1.shape[1] // pix_per_cell)  106\n",
      "cell_per_block  2\n",
      "nxblocks  105\n"
     ]
    },
    {
     "name": "stderr",
     "output_type": "stream",
     "text": [
      "\r",
      " 23%|██▎       | 289/1261 [04:17<14:39,  1.11it/s]"
     ]
    },
    {
     "name": "stdout",
     "output_type": "stream",
     "text": [
      "no. of rectangles found is  18\n",
      "spatial_size  (16, 16)\n",
      "hist  16\n",
      "orient  9\n",
      "ch1.shape[1]  853\n",
      "pix_per_cell  8\n",
      "(ch1.shape[1] // pix_per_cell)  106\n",
      "cell_per_block  2\n",
      "nxblocks  105\n"
     ]
    },
    {
     "name": "stderr",
     "output_type": "stream",
     "text": [
      "\r",
      " 23%|██▎       | 290/1261 [04:18<14:32,  1.11it/s]"
     ]
    },
    {
     "name": "stdout",
     "output_type": "stream",
     "text": [
      "no. of rectangles found is  14\n",
      "spatial_size  (16, 16)\n",
      "hist  16\n",
      "orient  9\n",
      "ch1.shape[1]  853\n",
      "pix_per_cell  8\n",
      "(ch1.shape[1] // pix_per_cell)  106\n",
      "cell_per_block  2\n",
      "nxblocks  105\n"
     ]
    },
    {
     "name": "stderr",
     "output_type": "stream",
     "text": [
      "\r",
      " 23%|██▎       | 291/1261 [04:19<14:30,  1.11it/s]"
     ]
    },
    {
     "name": "stdout",
     "output_type": "stream",
     "text": [
      "no. of rectangles found is  19\n",
      "spatial_size  (16, 16)\n",
      "hist  16\n",
      "orient  9\n",
      "ch1.shape[1]  853\n",
      "pix_per_cell  8\n",
      "(ch1.shape[1] // pix_per_cell)  106\n",
      "cell_per_block  2\n",
      "nxblocks  105\n"
     ]
    },
    {
     "name": "stderr",
     "output_type": "stream",
     "text": [
      "\r",
      " 23%|██▎       | 292/1261 [04:20<14:39,  1.10it/s]"
     ]
    },
    {
     "name": "stdout",
     "output_type": "stream",
     "text": [
      "no. of rectangles found is  21\n",
      "spatial_size  (16, 16)\n",
      "hist  16\n",
      "orient  9\n",
      "ch1.shape[1]  853\n",
      "pix_per_cell  8\n",
      "(ch1.shape[1] // pix_per_cell)  106\n",
      "cell_per_block  2\n",
      "nxblocks  105\n"
     ]
    },
    {
     "name": "stderr",
     "output_type": "stream",
     "text": [
      "\r",
      " 23%|██▎       | 293/1261 [04:21<14:48,  1.09it/s]"
     ]
    },
    {
     "name": "stdout",
     "output_type": "stream",
     "text": [
      "no. of rectangles found is  17\n",
      "spatial_size  (16, 16)\n",
      "hist  16\n",
      "orient  9\n",
      "ch1.shape[1]  853\n",
      "pix_per_cell  8\n",
      "(ch1.shape[1] // pix_per_cell)  106\n",
      "cell_per_block  2\n",
      "nxblocks  105\n"
     ]
    },
    {
     "name": "stderr",
     "output_type": "stream",
     "text": [
      "\r",
      " 23%|██▎       | 294/1261 [04:22<14:52,  1.08it/s]"
     ]
    },
    {
     "name": "stdout",
     "output_type": "stream",
     "text": [
      "no. of rectangles found is  17\n",
      "spatial_size  (16, 16)\n",
      "hist  16\n",
      "orient  9\n",
      "ch1.shape[1]  853\n",
      "pix_per_cell  8\n",
      "(ch1.shape[1] // pix_per_cell)  106\n",
      "cell_per_block  2\n",
      "nxblocks  105\n"
     ]
    },
    {
     "name": "stderr",
     "output_type": "stream",
     "text": [
      "\r",
      " 23%|██▎       | 295/1261 [04:23<14:41,  1.10it/s]"
     ]
    },
    {
     "name": "stdout",
     "output_type": "stream",
     "text": [
      "no. of rectangles found is  14\n",
      "spatial_size  (16, 16)\n",
      "hist  16\n",
      "orient  9\n",
      "ch1.shape[1]  853\n",
      "pix_per_cell  8\n",
      "(ch1.shape[1] // pix_per_cell)  106\n",
      "cell_per_block  2\n",
      "nxblocks  105\n"
     ]
    },
    {
     "name": "stderr",
     "output_type": "stream",
     "text": [
      "\r",
      " 23%|██▎       | 296/1261 [04:23<14:33,  1.10it/s]"
     ]
    },
    {
     "name": "stdout",
     "output_type": "stream",
     "text": [
      "no. of rectangles found is  16\n",
      "spatial_size  (16, 16)\n",
      "hist  16\n",
      "orient  9\n",
      "ch1.shape[1]  853\n",
      "pix_per_cell  8\n",
      "(ch1.shape[1] // pix_per_cell)  106\n",
      "cell_per_block  2\n",
      "nxblocks  105\n"
     ]
    },
    {
     "name": "stderr",
     "output_type": "stream",
     "text": [
      "\r",
      " 24%|██▎       | 297/1261 [04:24<14:45,  1.09it/s]"
     ]
    },
    {
     "name": "stdout",
     "output_type": "stream",
     "text": [
      "no. of rectangles found is  14\n",
      "spatial_size  (16, 16)\n",
      "hist  16\n",
      "orient  9\n",
      "ch1.shape[1]  853\n",
      "pix_per_cell  8\n",
      "(ch1.shape[1] // pix_per_cell)  106\n",
      "cell_per_block  2\n",
      "nxblocks  105\n"
     ]
    },
    {
     "name": "stderr",
     "output_type": "stream",
     "text": [
      "\r",
      " 24%|██▎       | 298/1261 [04:25<14:45,  1.09it/s]"
     ]
    },
    {
     "name": "stdout",
     "output_type": "stream",
     "text": [
      "no. of rectangles found is  15\n",
      "spatial_size  (16, 16)\n",
      "hist  16\n",
      "orient  9\n",
      "ch1.shape[1]  853\n",
      "pix_per_cell  8\n",
      "(ch1.shape[1] // pix_per_cell)  106\n",
      "cell_per_block  2\n",
      "nxblocks  105\n"
     ]
    },
    {
     "name": "stderr",
     "output_type": "stream",
     "text": [
      "\r",
      " 24%|██▎       | 299/1261 [04:26<14:56,  1.07it/s]"
     ]
    },
    {
     "name": "stdout",
     "output_type": "stream",
     "text": [
      "no. of rectangles found is  18\n",
      "spatial_size  (16, 16)\n",
      "hist  16\n",
      "orient  9\n",
      "ch1.shape[1]  853\n",
      "pix_per_cell  8\n",
      "(ch1.shape[1] // pix_per_cell)  106\n",
      "cell_per_block  2\n",
      "nxblocks  105\n"
     ]
    },
    {
     "name": "stderr",
     "output_type": "stream",
     "text": [
      "\r",
      " 24%|██▍       | 300/1261 [04:27<14:45,  1.09it/s]"
     ]
    },
    {
     "name": "stdout",
     "output_type": "stream",
     "text": [
      "no. of rectangles found is  16\n",
      "spatial_size  (16, 16)\n",
      "hist  16\n",
      "orient  9\n",
      "ch1.shape[1]  853\n",
      "pix_per_cell  8\n",
      "(ch1.shape[1] // pix_per_cell)  106\n",
      "cell_per_block  2\n",
      "nxblocks  105\n"
     ]
    },
    {
     "name": "stderr",
     "output_type": "stream",
     "text": [
      "\r",
      " 24%|██▍       | 301/1261 [04:28<14:38,  1.09it/s]"
     ]
    },
    {
     "name": "stdout",
     "output_type": "stream",
     "text": [
      "no. of rectangles found is  18\n",
      "spatial_size  (16, 16)\n",
      "hist  16\n",
      "orient  9\n",
      "ch1.shape[1]  853\n",
      "pix_per_cell  8\n",
      "(ch1.shape[1] // pix_per_cell)  106\n",
      "cell_per_block  2\n",
      "nxblocks  105\n"
     ]
    },
    {
     "name": "stderr",
     "output_type": "stream",
     "text": [
      "\r",
      " 24%|██▍       | 302/1261 [04:29<14:48,  1.08it/s]"
     ]
    },
    {
     "name": "stdout",
     "output_type": "stream",
     "text": [
      "no. of rectangles found is  14\n",
      "spatial_size  (16, 16)\n",
      "hist  16\n",
      "orient  9\n",
      "ch1.shape[1]  853\n",
      "pix_per_cell  8\n",
      "(ch1.shape[1] // pix_per_cell)  106\n",
      "cell_per_block  2\n",
      "nxblocks  105\n"
     ]
    },
    {
     "name": "stderr",
     "output_type": "stream",
     "text": [
      "\r",
      " 24%|██▍       | 303/1261 [04:30<14:37,  1.09it/s]"
     ]
    },
    {
     "name": "stdout",
     "output_type": "stream",
     "text": [
      "no. of rectangles found is  19\n",
      "spatial_size  (16, 16)\n",
      "hist  16\n",
      "orient  9\n",
      "ch1.shape[1]  853\n",
      "pix_per_cell  8\n",
      "(ch1.shape[1] // pix_per_cell)  106\n",
      "cell_per_block  2\n",
      "nxblocks  105\n"
     ]
    },
    {
     "name": "stderr",
     "output_type": "stream",
     "text": [
      "\r",
      " 24%|██▍       | 304/1261 [04:31<14:28,  1.10it/s]"
     ]
    },
    {
     "name": "stdout",
     "output_type": "stream",
     "text": [
      "no. of rectangles found is  18\n",
      "spatial_size  (16, 16)\n",
      "hist  16\n",
      "orient  9\n",
      "ch1.shape[1]  853\n",
      "pix_per_cell  8\n",
      "(ch1.shape[1] // pix_per_cell)  106\n",
      "cell_per_block  2\n",
      "nxblocks  105\n"
     ]
    },
    {
     "name": "stderr",
     "output_type": "stream",
     "text": [
      "\r",
      " 24%|██▍       | 305/1261 [04:32<14:17,  1.11it/s]"
     ]
    },
    {
     "name": "stdout",
     "output_type": "stream",
     "text": [
      "no. of rectangles found is  18\n",
      "spatial_size  (16, 16)\n",
      "hist  16\n",
      "orient  9\n",
      "ch1.shape[1]  853\n",
      "pix_per_cell  8\n",
      "(ch1.shape[1] // pix_per_cell)  106\n",
      "cell_per_block  2\n",
      "nxblocks  105\n"
     ]
    },
    {
     "name": "stderr",
     "output_type": "stream",
     "text": [
      "\r",
      " 24%|██▍       | 306/1261 [04:33<14:12,  1.12it/s]"
     ]
    },
    {
     "name": "stdout",
     "output_type": "stream",
     "text": [
      "no. of rectangles found is  20\n",
      "spatial_size  (16, 16)\n",
      "hist  16\n",
      "orient  9\n",
      "ch1.shape[1]  853\n",
      "pix_per_cell  8\n",
      "(ch1.shape[1] // pix_per_cell)  106\n",
      "cell_per_block  2\n",
      "nxblocks  105\n"
     ]
    },
    {
     "name": "stderr",
     "output_type": "stream",
     "text": [
      "\r",
      " 24%|██▍       | 307/1261 [04:33<14:14,  1.12it/s]"
     ]
    },
    {
     "name": "stdout",
     "output_type": "stream",
     "text": [
      "no. of rectangles found is  27\n",
      "spatial_size  (16, 16)\n",
      "hist  16\n",
      "orient  9\n",
      "ch1.shape[1]  853\n",
      "pix_per_cell  8\n",
      "(ch1.shape[1] // pix_per_cell)  106\n",
      "cell_per_block  2\n",
      "nxblocks  105\n"
     ]
    },
    {
     "name": "stderr",
     "output_type": "stream",
     "text": [
      "\r",
      " 24%|██▍       | 308/1261 [04:34<14:10,  1.12it/s]"
     ]
    },
    {
     "name": "stdout",
     "output_type": "stream",
     "text": [
      "no. of rectangles found is  16\n",
      "spatial_size  (16, 16)\n",
      "hist  16\n",
      "orient  9\n",
      "ch1.shape[1]  853\n",
      "pix_per_cell  8\n",
      "(ch1.shape[1] // pix_per_cell)  106\n",
      "cell_per_block  2\n",
      "nxblocks  105\n"
     ]
    },
    {
     "name": "stderr",
     "output_type": "stream",
     "text": [
      "\r",
      " 25%|██▍       | 309/1261 [04:35<14:07,  1.12it/s]"
     ]
    },
    {
     "name": "stdout",
     "output_type": "stream",
     "text": [
      "no. of rectangles found is  20\n",
      "spatial_size  (16, 16)\n",
      "hist  16\n",
      "orient  9\n",
      "ch1.shape[1]  853\n",
      "pix_per_cell  8\n",
      "(ch1.shape[1] // pix_per_cell)  106\n",
      "cell_per_block  2\n",
      "nxblocks  105\n"
     ]
    },
    {
     "name": "stderr",
     "output_type": "stream",
     "text": [
      "\r",
      " 25%|██▍       | 310/1261 [04:36<14:07,  1.12it/s]"
     ]
    },
    {
     "name": "stdout",
     "output_type": "stream",
     "text": [
      "no. of rectangles found is  19\n",
      "spatial_size  (16, 16)\n",
      "hist  16\n",
      "orient  9\n",
      "ch1.shape[1]  853\n",
      "pix_per_cell  8\n",
      "(ch1.shape[1] // pix_per_cell)  106\n",
      "cell_per_block  2\n",
      "nxblocks  105\n"
     ]
    },
    {
     "name": "stderr",
     "output_type": "stream",
     "text": [
      "\r",
      " 25%|██▍       | 311/1261 [04:37<14:04,  1.12it/s]"
     ]
    },
    {
     "name": "stdout",
     "output_type": "stream",
     "text": [
      "no. of rectangles found is  17\n",
      "spatial_size  (16, 16)\n",
      "hist  16\n",
      "orient  9\n",
      "ch1.shape[1]  853\n",
      "pix_per_cell  8\n",
      "(ch1.shape[1] // pix_per_cell)  106\n",
      "cell_per_block  2\n",
      "nxblocks  105\n"
     ]
    },
    {
     "name": "stderr",
     "output_type": "stream",
     "text": [
      "\r",
      " 25%|██▍       | 312/1261 [04:38<14:01,  1.13it/s]"
     ]
    },
    {
     "name": "stdout",
     "output_type": "stream",
     "text": [
      "no. of rectangles found is  16\n",
      "spatial_size  (16, 16)\n",
      "hist  16\n",
      "orient  9\n",
      "ch1.shape[1]  853\n",
      "pix_per_cell  8\n",
      "(ch1.shape[1] // pix_per_cell)  106\n",
      "cell_per_block  2\n",
      "nxblocks  105\n"
     ]
    },
    {
     "name": "stderr",
     "output_type": "stream",
     "text": [
      "\r",
      " 25%|██▍       | 313/1261 [04:39<14:02,  1.13it/s]"
     ]
    },
    {
     "name": "stdout",
     "output_type": "stream",
     "text": [
      "no. of rectangles found is  16\n",
      "spatial_size  (16, 16)\n",
      "hist  16\n",
      "orient  9\n",
      "ch1.shape[1]  853\n",
      "pix_per_cell  8\n",
      "(ch1.shape[1] // pix_per_cell)  106\n",
      "cell_per_block  2\n",
      "nxblocks  105\n"
     ]
    },
    {
     "name": "stderr",
     "output_type": "stream",
     "text": [
      "\r",
      " 25%|██▍       | 314/1261 [04:40<14:11,  1.11it/s]"
     ]
    },
    {
     "name": "stdout",
     "output_type": "stream",
     "text": [
      "no. of rectangles found is  19\n",
      "spatial_size  (16, 16)\n",
      "hist  16\n",
      "orient  9\n",
      "ch1.shape[1]  853\n",
      "pix_per_cell  8\n",
      "(ch1.shape[1] // pix_per_cell)  106\n",
      "cell_per_block  2\n",
      "nxblocks  105\n"
     ]
    },
    {
     "name": "stderr",
     "output_type": "stream",
     "text": [
      "\r",
      " 25%|██▍       | 315/1261 [04:41<14:07,  1.12it/s]"
     ]
    },
    {
     "name": "stdout",
     "output_type": "stream",
     "text": [
      "no. of rectangles found is  12\n",
      "spatial_size  (16, 16)\n",
      "hist  16\n",
      "orient  9\n",
      "ch1.shape[1]  853\n",
      "pix_per_cell  8\n",
      "(ch1.shape[1] // pix_per_cell)  106\n",
      "cell_per_block  2\n",
      "nxblocks  105\n"
     ]
    },
    {
     "name": "stderr",
     "output_type": "stream",
     "text": [
      "\r",
      " 25%|██▌       | 316/1261 [04:42<14:23,  1.09it/s]"
     ]
    },
    {
     "name": "stdout",
     "output_type": "stream",
     "text": [
      "no. of rectangles found is  19\n",
      "spatial_size  (16, 16)\n",
      "hist  16\n",
      "orient  9\n",
      "ch1.shape[1]  853\n",
      "pix_per_cell  8\n",
      "(ch1.shape[1] // pix_per_cell)  106\n",
      "cell_per_block  2\n",
      "nxblocks  105\n"
     ]
    },
    {
     "name": "stderr",
     "output_type": "stream",
     "text": [
      "\r",
      " 25%|██▌       | 317/1261 [04:42<14:11,  1.11it/s]"
     ]
    },
    {
     "name": "stdout",
     "output_type": "stream",
     "text": [
      "no. of rectangles found is  17\n",
      "spatial_size  (16, 16)\n",
      "hist  16\n",
      "orient  9\n",
      "ch1.shape[1]  853\n",
      "pix_per_cell  8\n",
      "(ch1.shape[1] // pix_per_cell)  106\n",
      "cell_per_block  2\n",
      "nxblocks  105\n"
     ]
    },
    {
     "name": "stderr",
     "output_type": "stream",
     "text": [
      "\r",
      " 25%|██▌       | 318/1261 [04:43<14:05,  1.11it/s]"
     ]
    },
    {
     "name": "stdout",
     "output_type": "stream",
     "text": [
      "no. of rectangles found is  19\n",
      "spatial_size  (16, 16)\n",
      "hist  16\n",
      "orient  9\n",
      "ch1.shape[1]  853\n",
      "pix_per_cell  8\n",
      "(ch1.shape[1] // pix_per_cell)  106\n",
      "cell_per_block  2\n",
      "nxblocks  105\n"
     ]
    },
    {
     "name": "stderr",
     "output_type": "stream",
     "text": [
      "\r",
      " 25%|██▌       | 319/1261 [04:44<14:03,  1.12it/s]"
     ]
    },
    {
     "name": "stdout",
     "output_type": "stream",
     "text": [
      "no. of rectangles found is  15\n",
      "spatial_size  (16, 16)\n",
      "hist  16\n",
      "orient  9\n",
      "ch1.shape[1]  853\n",
      "pix_per_cell  8\n",
      "(ch1.shape[1] // pix_per_cell)  106\n",
      "cell_per_block  2\n",
      "nxblocks  105\n"
     ]
    },
    {
     "name": "stderr",
     "output_type": "stream",
     "text": [
      "\r",
      " 25%|██▌       | 320/1261 [04:45<14:01,  1.12it/s]"
     ]
    },
    {
     "name": "stdout",
     "output_type": "stream",
     "text": [
      "no. of rectangles found is  14\n",
      "spatial_size  (16, 16)\n",
      "hist  16\n",
      "orient  9\n",
      "ch1.shape[1]  853\n",
      "pix_per_cell  8\n",
      "(ch1.shape[1] // pix_per_cell)  106\n",
      "cell_per_block  2\n",
      "nxblocks  105\n"
     ]
    },
    {
     "name": "stderr",
     "output_type": "stream",
     "text": [
      "\r",
      " 25%|██▌       | 321/1261 [04:46<13:59,  1.12it/s]"
     ]
    },
    {
     "name": "stdout",
     "output_type": "stream",
     "text": [
      "no. of rectangles found is  16\n",
      "spatial_size  (16, 16)\n",
      "hist  16\n",
      "orient  9\n",
      "ch1.shape[1]  853\n",
      "pix_per_cell  8\n",
      "(ch1.shape[1] // pix_per_cell)  106\n",
      "cell_per_block  2\n",
      "nxblocks  105\n"
     ]
    },
    {
     "name": "stderr",
     "output_type": "stream",
     "text": [
      "\r",
      " 26%|██▌       | 322/1261 [04:47<14:10,  1.10it/s]"
     ]
    },
    {
     "name": "stdout",
     "output_type": "stream",
     "text": [
      "no. of rectangles found is  16\n",
      "spatial_size  (16, 16)\n",
      "hist  16\n",
      "orient  9\n",
      "ch1.shape[1]  853\n",
      "pix_per_cell  8\n",
      "(ch1.shape[1] // pix_per_cell)  106\n",
      "cell_per_block  2\n",
      "nxblocks  105\n"
     ]
    },
    {
     "name": "stderr",
     "output_type": "stream",
     "text": [
      "\r",
      " 26%|██▌       | 323/1261 [04:48<14:03,  1.11it/s]"
     ]
    },
    {
     "name": "stdout",
     "output_type": "stream",
     "text": [
      "no. of rectangles found is  16\n",
      "spatial_size  (16, 16)\n",
      "hist  16\n",
      "orient  9\n",
      "ch1.shape[1]  853\n",
      "pix_per_cell  8\n",
      "(ch1.shape[1] // pix_per_cell)  106\n",
      "cell_per_block  2\n",
      "nxblocks  105\n"
     ]
    },
    {
     "name": "stderr",
     "output_type": "stream",
     "text": [
      "\r",
      " 26%|██▌       | 324/1261 [04:49<14:08,  1.10it/s]"
     ]
    },
    {
     "name": "stdout",
     "output_type": "stream",
     "text": [
      "no. of rectangles found is  14\n",
      "spatial_size  (16, 16)\n",
      "hist  16\n",
      "orient  9\n",
      "ch1.shape[1]  853\n",
      "pix_per_cell  8\n",
      "(ch1.shape[1] // pix_per_cell)  106\n",
      "cell_per_block  2\n",
      "nxblocks  105\n"
     ]
    },
    {
     "name": "stderr",
     "output_type": "stream",
     "text": [
      "\r",
      " 26%|██▌       | 325/1261 [04:50<14:13,  1.10it/s]"
     ]
    },
    {
     "name": "stdout",
     "output_type": "stream",
     "text": [
      "no. of rectangles found is  15\n",
      "spatial_size  (16, 16)\n",
      "hist  16\n",
      "orient  9\n",
      "ch1.shape[1]  853\n",
      "pix_per_cell  8\n",
      "(ch1.shape[1] // pix_per_cell)  106\n",
      "cell_per_block  2\n",
      "nxblocks  105\n"
     ]
    },
    {
     "name": "stderr",
     "output_type": "stream",
     "text": [
      "\r",
      " 26%|██▌       | 326/1261 [04:51<14:07,  1.10it/s]"
     ]
    },
    {
     "name": "stdout",
     "output_type": "stream",
     "text": [
      "no. of rectangles found is  18\n",
      "spatial_size  (16, 16)\n",
      "hist  16\n",
      "orient  9\n",
      "ch1.shape[1]  853\n",
      "pix_per_cell  8\n",
      "(ch1.shape[1] // pix_per_cell)  106\n",
      "cell_per_block  2\n",
      "nxblocks  105\n"
     ]
    },
    {
     "name": "stderr",
     "output_type": "stream",
     "text": [
      "\r",
      " 26%|██▌       | 327/1261 [04:51<13:58,  1.11it/s]"
     ]
    },
    {
     "name": "stdout",
     "output_type": "stream",
     "text": [
      "no. of rectangles found is  18\n",
      "spatial_size  (16, 16)\n",
      "hist  16\n",
      "orient  9\n",
      "ch1.shape[1]  853\n",
      "pix_per_cell  8\n",
      "(ch1.shape[1] // pix_per_cell)  106\n",
      "cell_per_block  2\n",
      "nxblocks  105\n"
     ]
    },
    {
     "name": "stderr",
     "output_type": "stream",
     "text": [
      "\r",
      " 26%|██▌       | 328/1261 [04:52<13:55,  1.12it/s]"
     ]
    },
    {
     "name": "stdout",
     "output_type": "stream",
     "text": [
      "no. of rectangles found is  15\n",
      "spatial_size  (16, 16)\n",
      "hist  16\n",
      "orient  9\n",
      "ch1.shape[1]  853\n",
      "pix_per_cell  8\n",
      "(ch1.shape[1] // pix_per_cell)  106\n",
      "cell_per_block  2\n",
      "nxblocks  105\n"
     ]
    },
    {
     "name": "stderr",
     "output_type": "stream",
     "text": [
      "\r",
      " 26%|██▌       | 329/1261 [04:53<13:52,  1.12it/s]"
     ]
    },
    {
     "name": "stdout",
     "output_type": "stream",
     "text": [
      "no. of rectangles found is  14\n",
      "spatial_size  (16, 16)\n",
      "hist  16\n",
      "orient  9\n",
      "ch1.shape[1]  853\n",
      "pix_per_cell  8\n",
      "(ch1.shape[1] // pix_per_cell)  106\n",
      "cell_per_block  2\n",
      "nxblocks  105\n"
     ]
    },
    {
     "name": "stderr",
     "output_type": "stream",
     "text": [
      "\r",
      " 26%|██▌       | 330/1261 [04:54<13:50,  1.12it/s]"
     ]
    },
    {
     "name": "stdout",
     "output_type": "stream",
     "text": [
      "no. of rectangles found is  19\n",
      "spatial_size  (16, 16)\n",
      "hist  16\n",
      "orient  9\n",
      "ch1.shape[1]  853\n",
      "pix_per_cell  8\n",
      "(ch1.shape[1] // pix_per_cell)  106\n",
      "cell_per_block  2\n",
      "nxblocks  105\n"
     ]
    },
    {
     "name": "stderr",
     "output_type": "stream",
     "text": [
      "\r",
      " 26%|██▌       | 331/1261 [04:55<13:47,  1.12it/s]"
     ]
    },
    {
     "name": "stdout",
     "output_type": "stream",
     "text": [
      "no. of rectangles found is  14\n",
      "spatial_size  (16, 16)\n",
      "hist  16\n",
      "orient  9\n",
      "ch1.shape[1]  853\n",
      "pix_per_cell  8\n",
      "(ch1.shape[1] // pix_per_cell)  106\n",
      "cell_per_block  2\n",
      "nxblocks  105\n"
     ]
    },
    {
     "name": "stderr",
     "output_type": "stream",
     "text": [
      "\r",
      " 26%|██▋       | 332/1261 [04:56<13:43,  1.13it/s]"
     ]
    },
    {
     "name": "stdout",
     "output_type": "stream",
     "text": [
      "no. of rectangles found is  19\n",
      "spatial_size  (16, 16)\n",
      "hist  16\n",
      "orient  9\n",
      "ch1.shape[1]  853\n",
      "pix_per_cell  8\n",
      "(ch1.shape[1] // pix_per_cell)  106\n",
      "cell_per_block  2\n",
      "nxblocks  105\n"
     ]
    },
    {
     "name": "stderr",
     "output_type": "stream",
     "text": [
      "\r",
      " 26%|██▋       | 333/1261 [04:57<13:55,  1.11it/s]"
     ]
    },
    {
     "name": "stdout",
     "output_type": "stream",
     "text": [
      "no. of rectangles found is  18\n",
      "spatial_size  (16, 16)\n",
      "hist  16\n",
      "orient  9\n",
      "ch1.shape[1]  853\n",
      "pix_per_cell  8\n",
      "(ch1.shape[1] // pix_per_cell)  106\n",
      "cell_per_block  2\n",
      "nxblocks  105\n"
     ]
    },
    {
     "name": "stderr",
     "output_type": "stream",
     "text": [
      "\r",
      " 26%|██▋       | 334/1261 [04:58<13:50,  1.12it/s]"
     ]
    },
    {
     "name": "stdout",
     "output_type": "stream",
     "text": [
      "no. of rectangles found is  14\n",
      "spatial_size  (16, 16)\n",
      "hist  16\n",
      "orient  9\n",
      "ch1.shape[1]  853\n",
      "pix_per_cell  8\n",
      "(ch1.shape[1] // pix_per_cell)  106\n",
      "cell_per_block  2\n",
      "nxblocks  105\n"
     ]
    },
    {
     "name": "stderr",
     "output_type": "stream",
     "text": [
      "\r",
      " 27%|██▋       | 335/1261 [04:59<13:59,  1.10it/s]"
     ]
    },
    {
     "name": "stdout",
     "output_type": "stream",
     "text": [
      "no. of rectangles found is  17\n",
      "spatial_size  (16, 16)\n",
      "hist  16\n",
      "orient  9\n",
      "ch1.shape[1]  853\n",
      "pix_per_cell  8\n",
      "(ch1.shape[1] // pix_per_cell)  106\n",
      "cell_per_block  2\n",
      "nxblocks  105\n"
     ]
    },
    {
     "name": "stderr",
     "output_type": "stream",
     "text": [
      "\r",
      " 27%|██▋       | 336/1261 [04:59<14:01,  1.10it/s]"
     ]
    },
    {
     "name": "stdout",
     "output_type": "stream",
     "text": [
      "no. of rectangles found is  17\n",
      "spatial_size  (16, 16)\n",
      "hist  16\n",
      "orient  9\n",
      "ch1.shape[1]  853\n",
      "pix_per_cell  8\n",
      "(ch1.shape[1] // pix_per_cell)  106\n",
      "cell_per_block  2\n",
      "nxblocks  105\n"
     ]
    },
    {
     "name": "stderr",
     "output_type": "stream",
     "text": [
      "\r",
      " 27%|██▋       | 337/1261 [05:00<13:54,  1.11it/s]"
     ]
    },
    {
     "name": "stdout",
     "output_type": "stream",
     "text": [
      "no. of rectangles found is  21\n",
      "spatial_size  (16, 16)\n",
      "hist  16\n",
      "orient  9\n",
      "ch1.shape[1]  853\n",
      "pix_per_cell  8\n",
      "(ch1.shape[1] // pix_per_cell)  106\n",
      "cell_per_block  2\n",
      "nxblocks  105\n"
     ]
    },
    {
     "name": "stderr",
     "output_type": "stream",
     "text": [
      "\r",
      " 27%|██▋       | 338/1261 [05:01<13:47,  1.12it/s]"
     ]
    },
    {
     "name": "stdout",
     "output_type": "stream",
     "text": [
      "no. of rectangles found is  19\n",
      "spatial_size  (16, 16)\n",
      "hist  16\n",
      "orient  9\n",
      "ch1.shape[1]  853\n",
      "pix_per_cell  8\n",
      "(ch1.shape[1] // pix_per_cell)  106\n",
      "cell_per_block  2\n",
      "nxblocks  105\n"
     ]
    },
    {
     "name": "stderr",
     "output_type": "stream",
     "text": [
      "\r",
      " 27%|██▋       | 339/1261 [05:02<13:46,  1.12it/s]"
     ]
    },
    {
     "name": "stdout",
     "output_type": "stream",
     "text": [
      "no. of rectangles found is  20\n",
      "spatial_size  (16, 16)\n",
      "hist  16\n",
      "orient  9\n",
      "ch1.shape[1]  853\n",
      "pix_per_cell  8\n",
      "(ch1.shape[1] // pix_per_cell)  106\n",
      "cell_per_block  2\n",
      "nxblocks  105\n"
     ]
    },
    {
     "name": "stderr",
     "output_type": "stream",
     "text": [
      "\r",
      " 27%|██▋       | 340/1261 [05:03<13:44,  1.12it/s]"
     ]
    },
    {
     "name": "stdout",
     "output_type": "stream",
     "text": [
      "no. of rectangles found is  17\n",
      "spatial_size  (16, 16)\n",
      "hist  16\n",
      "orient  9\n",
      "ch1.shape[1]  853\n",
      "pix_per_cell  8\n",
      "(ch1.shape[1] // pix_per_cell)  106\n",
      "cell_per_block  2\n",
      "nxblocks  105\n"
     ]
    },
    {
     "name": "stderr",
     "output_type": "stream",
     "text": [
      "\r",
      " 27%|██▋       | 341/1261 [05:04<13:43,  1.12it/s]"
     ]
    },
    {
     "name": "stdout",
     "output_type": "stream",
     "text": [
      "no. of rectangles found is  17\n",
      "spatial_size  (16, 16)\n",
      "hist  16\n",
      "orient  9\n",
      "ch1.shape[1]  853\n",
      "pix_per_cell  8\n",
      "(ch1.shape[1] // pix_per_cell)  106\n",
      "cell_per_block  2\n",
      "nxblocks  105\n"
     ]
    },
    {
     "name": "stderr",
     "output_type": "stream",
     "text": [
      "\r",
      " 27%|██▋       | 342/1261 [05:05<13:53,  1.10it/s]"
     ]
    },
    {
     "name": "stdout",
     "output_type": "stream",
     "text": [
      "no. of rectangles found is  17\n",
      "spatial_size  (16, 16)\n",
      "hist  16\n",
      "orient  9\n",
      "ch1.shape[1]  853\n",
      "pix_per_cell  8\n",
      "(ch1.shape[1] // pix_per_cell)  106\n",
      "cell_per_block  2\n",
      "nxblocks  105\n"
     ]
    },
    {
     "name": "stderr",
     "output_type": "stream",
     "text": [
      "\r",
      " 27%|██▋       | 343/1261 [05:06<13:45,  1.11it/s]"
     ]
    },
    {
     "name": "stdout",
     "output_type": "stream",
     "text": [
      "no. of rectangles found is  20\n",
      "spatial_size  (16, 16)\n",
      "hist  16\n",
      "orient  9\n",
      "ch1.shape[1]  853\n",
      "pix_per_cell  8\n",
      "(ch1.shape[1] // pix_per_cell)  106\n",
      "cell_per_block  2\n",
      "nxblocks  105\n"
     ]
    },
    {
     "name": "stderr",
     "output_type": "stream",
     "text": [
      "\r",
      " 27%|██▋       | 344/1261 [05:07<13:42,  1.12it/s]"
     ]
    },
    {
     "name": "stdout",
     "output_type": "stream",
     "text": [
      "no. of rectangles found is  18\n",
      "spatial_size  (16, 16)\n",
      "hist  16\n",
      "orient  9\n",
      "ch1.shape[1]  853\n",
      "pix_per_cell  8\n",
      "(ch1.shape[1] // pix_per_cell)  106\n",
      "cell_per_block  2\n",
      "nxblocks  105\n"
     ]
    },
    {
     "name": "stderr",
     "output_type": "stream",
     "text": [
      "\r",
      " 27%|██▋       | 345/1261 [05:08<13:40,  1.12it/s]"
     ]
    },
    {
     "name": "stdout",
     "output_type": "stream",
     "text": [
      "no. of rectangles found is  20\n",
      "spatial_size  (16, 16)\n",
      "hist  16\n",
      "orient  9\n",
      "ch1.shape[1]  853\n",
      "pix_per_cell  8\n",
      "(ch1.shape[1] // pix_per_cell)  106\n",
      "cell_per_block  2\n",
      "nxblocks  105\n"
     ]
    },
    {
     "name": "stderr",
     "output_type": "stream",
     "text": [
      "\r",
      " 27%|██▋       | 346/1261 [05:08<13:31,  1.13it/s]"
     ]
    },
    {
     "name": "stdout",
     "output_type": "stream",
     "text": [
      "no. of rectangles found is  15\n",
      "spatial_size  (16, 16)\n",
      "hist  16\n",
      "orient  9\n",
      "ch1.shape[1]  853\n",
      "pix_per_cell  8\n",
      "(ch1.shape[1] // pix_per_cell)  106\n",
      "cell_per_block  2\n",
      "nxblocks  105\n"
     ]
    },
    {
     "name": "stderr",
     "output_type": "stream",
     "text": [
      "\r",
      " 28%|██▊       | 347/1261 [05:09<13:33,  1.12it/s]"
     ]
    },
    {
     "name": "stdout",
     "output_type": "stream",
     "text": [
      "no. of rectangles found is  16\n",
      "spatial_size  (16, 16)\n",
      "hist  16\n",
      "orient  9\n",
      "ch1.shape[1]  853\n",
      "pix_per_cell  8\n",
      "(ch1.shape[1] // pix_per_cell)  106\n",
      "cell_per_block  2\n",
      "nxblocks  105\n"
     ]
    },
    {
     "name": "stderr",
     "output_type": "stream",
     "text": [
      "\r",
      " 28%|██▊       | 348/1261 [05:10<13:38,  1.11it/s]"
     ]
    },
    {
     "name": "stdout",
     "output_type": "stream",
     "text": [
      "no. of rectangles found is  12\n",
      "spatial_size  (16, 16)\n",
      "hist  16\n",
      "orient  9\n",
      "ch1.shape[1]  853\n",
      "pix_per_cell  8\n",
      "(ch1.shape[1] // pix_per_cell)  106\n",
      "cell_per_block  2\n",
      "nxblocks  105\n"
     ]
    },
    {
     "name": "stderr",
     "output_type": "stream",
     "text": [
      "\r",
      " 28%|██▊       | 349/1261 [05:11<13:57,  1.09it/s]"
     ]
    },
    {
     "name": "stdout",
     "output_type": "stream",
     "text": [
      "no. of rectangles found is  17\n",
      "spatial_size  (16, 16)\n",
      "hist  16\n",
      "orient  9\n",
      "ch1.shape[1]  853\n",
      "pix_per_cell  8\n",
      "(ch1.shape[1] // pix_per_cell)  106\n",
      "cell_per_block  2\n",
      "nxblocks  105\n"
     ]
    },
    {
     "name": "stderr",
     "output_type": "stream",
     "text": [
      "\r",
      " 28%|██▊       | 350/1261 [05:12<13:52,  1.09it/s]"
     ]
    },
    {
     "name": "stdout",
     "output_type": "stream",
     "text": [
      "no. of rectangles found is  16\n",
      "spatial_size  (16, 16)\n",
      "hist  16\n",
      "orient  9\n",
      "ch1.shape[1]  853\n",
      "pix_per_cell  8\n",
      "(ch1.shape[1] // pix_per_cell)  106\n",
      "cell_per_block  2\n",
      "nxblocks  105\n"
     ]
    },
    {
     "name": "stderr",
     "output_type": "stream",
     "text": [
      "\r",
      " 28%|██▊       | 351/1261 [05:13<13:43,  1.11it/s]"
     ]
    },
    {
     "name": "stdout",
     "output_type": "stream",
     "text": [
      "no. of rectangles found is  17\n",
      "spatial_size  (16, 16)\n",
      "hist  16\n",
      "orient  9\n",
      "ch1.shape[1]  853\n",
      "pix_per_cell  8\n",
      "(ch1.shape[1] // pix_per_cell)  106\n",
      "cell_per_block  2\n",
      "nxblocks  105\n"
     ]
    },
    {
     "name": "stderr",
     "output_type": "stream",
     "text": [
      "\r",
      " 28%|██▊       | 352/1261 [05:14<13:39,  1.11it/s]"
     ]
    },
    {
     "name": "stdout",
     "output_type": "stream",
     "text": [
      "no. of rectangles found is  26\n",
      "spatial_size  (16, 16)\n",
      "hist  16\n",
      "orient  9\n",
      "ch1.shape[1]  853\n",
      "pix_per_cell  8\n",
      "(ch1.shape[1] // pix_per_cell)  106\n",
      "cell_per_block  2\n",
      "nxblocks  105\n"
     ]
    },
    {
     "name": "stderr",
     "output_type": "stream",
     "text": [
      "\r",
      " 28%|██▊       | 353/1261 [05:15<13:51,  1.09it/s]"
     ]
    },
    {
     "name": "stdout",
     "output_type": "stream",
     "text": [
      "no. of rectangles found is  16\n",
      "spatial_size  (16, 16)\n",
      "hist  16\n",
      "orient  9\n",
      "ch1.shape[1]  853\n",
      "pix_per_cell  8\n",
      "(ch1.shape[1] // pix_per_cell)  106\n",
      "cell_per_block  2\n",
      "nxblocks  105\n"
     ]
    },
    {
     "name": "stderr",
     "output_type": "stream",
     "text": [
      "\r",
      " 28%|██▊       | 354/1261 [05:16<13:45,  1.10it/s]"
     ]
    },
    {
     "name": "stdout",
     "output_type": "stream",
     "text": [
      "no. of rectangles found is  21\n",
      "spatial_size  (16, 16)\n",
      "hist  16\n",
      "orient  9\n",
      "ch1.shape[1]  853\n",
      "pix_per_cell  8\n",
      "(ch1.shape[1] // pix_per_cell)  106\n",
      "cell_per_block  2\n",
      "nxblocks  105\n"
     ]
    },
    {
     "name": "stderr",
     "output_type": "stream",
     "text": [
      "\r",
      " 28%|██▊       | 355/1261 [05:17<13:33,  1.11it/s]"
     ]
    },
    {
     "name": "stdout",
     "output_type": "stream",
     "text": [
      "no. of rectangles found is  21\n",
      "spatial_size  (16, 16)\n",
      "hist  16\n",
      "orient  9\n",
      "ch1.shape[1]  853\n",
      "pix_per_cell  8\n",
      "(ch1.shape[1] // pix_per_cell)  106\n",
      "cell_per_block  2\n",
      "nxblocks  105\n"
     ]
    },
    {
     "name": "stderr",
     "output_type": "stream",
     "text": [
      "\r",
      " 28%|██▊       | 356/1261 [05:18<13:47,  1.09it/s]"
     ]
    },
    {
     "name": "stdout",
     "output_type": "stream",
     "text": [
      "no. of rectangles found is  16\n",
      "spatial_size  (16, 16)\n",
      "hist  16\n",
      "orient  9\n",
      "ch1.shape[1]  853\n",
      "pix_per_cell  8\n",
      "(ch1.shape[1] // pix_per_cell)  106\n",
      "cell_per_block  2\n",
      "nxblocks  105\n"
     ]
    },
    {
     "name": "stderr",
     "output_type": "stream",
     "text": [
      "\r",
      " 28%|██▊       | 357/1261 [05:18<13:40,  1.10it/s]"
     ]
    },
    {
     "name": "stdout",
     "output_type": "stream",
     "text": [
      "no. of rectangles found is  16\n",
      "spatial_size  (16, 16)\n",
      "hist  16\n",
      "orient  9\n",
      "ch1.shape[1]  853\n",
      "pix_per_cell  8\n",
      "(ch1.shape[1] // pix_per_cell)  106\n",
      "cell_per_block  2\n",
      "nxblocks  105\n"
     ]
    },
    {
     "name": "stderr",
     "output_type": "stream",
     "text": [
      "\r",
      " 28%|██▊       | 358/1261 [05:19<13:34,  1.11it/s]"
     ]
    },
    {
     "name": "stdout",
     "output_type": "stream",
     "text": [
      "no. of rectangles found is  14\n",
      "spatial_size  (16, 16)\n",
      "hist  16\n",
      "orient  9\n",
      "ch1.shape[1]  853\n",
      "pix_per_cell  8\n",
      "(ch1.shape[1] // pix_per_cell)  106\n",
      "cell_per_block  2\n",
      "nxblocks  105\n"
     ]
    },
    {
     "name": "stderr",
     "output_type": "stream",
     "text": [
      "\r",
      " 28%|██▊       | 359/1261 [05:20<13:30,  1.11it/s]"
     ]
    },
    {
     "name": "stdout",
     "output_type": "stream",
     "text": [
      "no. of rectangles found is  16\n",
      "spatial_size  (16, 16)\n",
      "hist  16\n",
      "orient  9\n",
      "ch1.shape[1]  853\n",
      "pix_per_cell  8\n",
      "(ch1.shape[1] // pix_per_cell)  106\n",
      "cell_per_block  2\n",
      "nxblocks  105\n"
     ]
    },
    {
     "name": "stderr",
     "output_type": "stream",
     "text": [
      "\r",
      " 29%|██▊       | 360/1261 [05:21<13:39,  1.10it/s]"
     ]
    },
    {
     "name": "stdout",
     "output_type": "stream",
     "text": [
      "no. of rectangles found is  18\n",
      "spatial_size  (16, 16)\n",
      "hist  16\n",
      "orient  9\n",
      "ch1.shape[1]  853\n",
      "pix_per_cell  8\n",
      "(ch1.shape[1] // pix_per_cell)  106\n",
      "cell_per_block  2\n",
      "nxblocks  105\n"
     ]
    },
    {
     "name": "stderr",
     "output_type": "stream",
     "text": [
      "\r",
      " 29%|██▊       | 361/1261 [05:22<13:33,  1.11it/s]"
     ]
    },
    {
     "name": "stdout",
     "output_type": "stream",
     "text": [
      "no. of rectangles found is  10\n",
      "spatial_size  (16, 16)\n",
      "hist  16\n",
      "orient  9\n",
      "ch1.shape[1]  853\n",
      "pix_per_cell  8\n",
      "(ch1.shape[1] // pix_per_cell)  106\n",
      "cell_per_block  2\n",
      "nxblocks  105\n"
     ]
    },
    {
     "name": "stderr",
     "output_type": "stream",
     "text": [
      "\r",
      " 29%|██▊       | 362/1261 [05:23<13:26,  1.12it/s]"
     ]
    },
    {
     "name": "stdout",
     "output_type": "stream",
     "text": [
      "no. of rectangles found is  12\n",
      "spatial_size  (16, 16)\n",
      "hist  16\n",
      "orient  9\n",
      "ch1.shape[1]  853\n",
      "pix_per_cell  8\n",
      "(ch1.shape[1] // pix_per_cell)  106\n",
      "cell_per_block  2\n",
      "nxblocks  105\n"
     ]
    },
    {
     "name": "stderr",
     "output_type": "stream",
     "text": [
      "\r",
      " 29%|██▉       | 363/1261 [05:24<13:22,  1.12it/s]"
     ]
    },
    {
     "name": "stdout",
     "output_type": "stream",
     "text": [
      "no. of rectangles found is  17\n",
      "spatial_size  (16, 16)\n",
      "hist  16\n",
      "orient  9\n",
      "ch1.shape[1]  853\n",
      "pix_per_cell  8\n",
      "(ch1.shape[1] // pix_per_cell)  106\n",
      "cell_per_block  2\n",
      "nxblocks  105\n"
     ]
    },
    {
     "name": "stderr",
     "output_type": "stream",
     "text": [
      "\r",
      " 29%|██▉       | 364/1261 [05:25<13:30,  1.11it/s]"
     ]
    },
    {
     "name": "stdout",
     "output_type": "stream",
     "text": [
      "no. of rectangles found is  15\n",
      "spatial_size  (16, 16)\n",
      "hist  16\n",
      "orient  9\n",
      "ch1.shape[1]  853\n",
      "pix_per_cell  8\n",
      "(ch1.shape[1] // pix_per_cell)  106\n",
      "cell_per_block  2\n",
      "nxblocks  105\n"
     ]
    },
    {
     "name": "stderr",
     "output_type": "stream",
     "text": [
      "\r",
      " 29%|██▉       | 365/1261 [05:26<13:26,  1.11it/s]"
     ]
    },
    {
     "name": "stdout",
     "output_type": "stream",
     "text": [
      "no. of rectangles found is  17\n",
      "spatial_size  (16, 16)\n",
      "hist  16\n",
      "orient  9\n",
      "ch1.shape[1]  853\n",
      "pix_per_cell  8\n",
      "(ch1.shape[1] // pix_per_cell)  106\n",
      "cell_per_block  2\n",
      "nxblocks  105\n"
     ]
    },
    {
     "name": "stderr",
     "output_type": "stream",
     "text": [
      "\r",
      " 29%|██▉       | 366/1261 [05:27<13:21,  1.12it/s]"
     ]
    },
    {
     "name": "stdout",
     "output_type": "stream",
     "text": [
      "no. of rectangles found is  17\n",
      "spatial_size  (16, 16)\n",
      "hist  16\n",
      "orient  9\n",
      "ch1.shape[1]  853\n",
      "pix_per_cell  8\n",
      "(ch1.shape[1] // pix_per_cell)  106\n",
      "cell_per_block  2\n",
      "nxblocks  105\n"
     ]
    },
    {
     "name": "stderr",
     "output_type": "stream",
     "text": [
      "\r",
      " 29%|██▉       | 367/1261 [05:27<13:17,  1.12it/s]"
     ]
    },
    {
     "name": "stdout",
     "output_type": "stream",
     "text": [
      "no. of rectangles found is  13\n",
      "spatial_size  (16, 16)\n",
      "hist  16\n",
      "orient  9\n",
      "ch1.shape[1]  853\n",
      "pix_per_cell  8\n",
      "(ch1.shape[1] // pix_per_cell)  106\n",
      "cell_per_block  2\n",
      "nxblocks  105\n"
     ]
    },
    {
     "name": "stderr",
     "output_type": "stream",
     "text": [
      "\r",
      " 29%|██▉       | 368/1261 [05:28<13:14,  1.12it/s]"
     ]
    },
    {
     "name": "stdout",
     "output_type": "stream",
     "text": [
      "no. of rectangles found is  13\n",
      "spatial_size  (16, 16)\n",
      "hist  16\n",
      "orient  9\n",
      "ch1.shape[1]  853\n",
      "pix_per_cell  8\n",
      "(ch1.shape[1] // pix_per_cell)  106\n",
      "cell_per_block  2\n",
      "nxblocks  105\n"
     ]
    },
    {
     "name": "stderr",
     "output_type": "stream",
     "text": [
      "\r",
      " 29%|██▉       | 369/1261 [05:29<13:14,  1.12it/s]"
     ]
    },
    {
     "name": "stdout",
     "output_type": "stream",
     "text": [
      "no. of rectangles found is  11\n",
      "spatial_size  (16, 16)\n",
      "hist  16\n",
      "orient  9\n",
      "ch1.shape[1]  853\n",
      "pix_per_cell  8\n",
      "(ch1.shape[1] // pix_per_cell)  106\n",
      "cell_per_block  2\n",
      "nxblocks  105\n"
     ]
    },
    {
     "name": "stderr",
     "output_type": "stream",
     "text": [
      "\r",
      " 29%|██▉       | 370/1261 [05:30<13:11,  1.13it/s]"
     ]
    },
    {
     "name": "stdout",
     "output_type": "stream",
     "text": [
      "no. of rectangles found is  11\n",
      "spatial_size  (16, 16)\n",
      "hist  16\n",
      "orient  9\n",
      "ch1.shape[1]  853\n",
      "pix_per_cell  8\n",
      "(ch1.shape[1] // pix_per_cell)  106\n",
      "cell_per_block  2\n",
      "nxblocks  105\n"
     ]
    },
    {
     "name": "stderr",
     "output_type": "stream",
     "text": [
      "\r",
      " 29%|██▉       | 371/1261 [05:31<13:09,  1.13it/s]"
     ]
    },
    {
     "name": "stdout",
     "output_type": "stream",
     "text": [
      "no. of rectangles found is  11\n",
      "spatial_size  (16, 16)\n",
      "hist  16\n",
      "orient  9\n",
      "ch1.shape[1]  853\n",
      "pix_per_cell  8\n",
      "(ch1.shape[1] // pix_per_cell)  106\n",
      "cell_per_block  2\n",
      "nxblocks  105\n"
     ]
    },
    {
     "name": "stderr",
     "output_type": "stream",
     "text": [
      "\r",
      " 30%|██▉       | 372/1261 [05:32<13:09,  1.13it/s]"
     ]
    },
    {
     "name": "stdout",
     "output_type": "stream",
     "text": [
      "no. of rectangles found is  11\n",
      "spatial_size  (16, 16)\n",
      "hist  16\n",
      "orient  9\n",
      "ch1.shape[1]  853\n",
      "pix_per_cell  8\n",
      "(ch1.shape[1] // pix_per_cell)  106\n",
      "cell_per_block  2\n",
      "nxblocks  105\n"
     ]
    },
    {
     "name": "stderr",
     "output_type": "stream",
     "text": [
      "\r",
      " 30%|██▉       | 373/1261 [05:33<13:25,  1.10it/s]"
     ]
    },
    {
     "name": "stdout",
     "output_type": "stream",
     "text": [
      "no. of rectangles found is  10\n",
      "spatial_size  (16, 16)\n",
      "hist  16\n",
      "orient  9\n",
      "ch1.shape[1]  853\n",
      "pix_per_cell  8\n",
      "(ch1.shape[1] // pix_per_cell)  106\n",
      "cell_per_block  2\n",
      "nxblocks  105\n"
     ]
    },
    {
     "name": "stderr",
     "output_type": "stream",
     "text": [
      "\r",
      " 30%|██▉       | 374/1261 [05:34<13:19,  1.11it/s]"
     ]
    },
    {
     "name": "stdout",
     "output_type": "stream",
     "text": [
      "no. of rectangles found is  10\n",
      "spatial_size  (16, 16)\n",
      "hist  16\n",
      "orient  9\n",
      "ch1.shape[1]  853\n",
      "pix_per_cell  8\n",
      "(ch1.shape[1] // pix_per_cell)  106\n",
      "cell_per_block  2\n",
      "nxblocks  105\n"
     ]
    },
    {
     "name": "stderr",
     "output_type": "stream",
     "text": [
      "\r",
      " 30%|██▉       | 375/1261 [05:35<13:17,  1.11it/s]"
     ]
    },
    {
     "name": "stdout",
     "output_type": "stream",
     "text": [
      "no. of rectangles found is  9\n",
      "spatial_size  (16, 16)\n",
      "hist  16\n",
      "orient  9\n",
      "ch1.shape[1]  853\n",
      "pix_per_cell  8\n",
      "(ch1.shape[1] // pix_per_cell)  106\n",
      "cell_per_block  2\n",
      "nxblocks  105\n"
     ]
    },
    {
     "name": "stderr",
     "output_type": "stream",
     "text": [
      "\r",
      " 30%|██▉       | 376/1261 [05:35<13:14,  1.11it/s]"
     ]
    },
    {
     "name": "stdout",
     "output_type": "stream",
     "text": [
      "no. of rectangles found is  16\n",
      "spatial_size  (16, 16)\n",
      "hist  16\n",
      "orient  9\n",
      "ch1.shape[1]  853\n",
      "pix_per_cell  8\n",
      "(ch1.shape[1] // pix_per_cell)  106\n",
      "cell_per_block  2\n",
      "nxblocks  105\n"
     ]
    },
    {
     "name": "stderr",
     "output_type": "stream",
     "text": [
      "\r",
      " 30%|██▉       | 377/1261 [05:36<13:06,  1.12it/s]"
     ]
    },
    {
     "name": "stdout",
     "output_type": "stream",
     "text": [
      "no. of rectangles found is  12\n",
      "spatial_size  (16, 16)\n",
      "hist  16\n",
      "orient  9\n",
      "ch1.shape[1]  853\n",
      "pix_per_cell  8\n",
      "(ch1.shape[1] // pix_per_cell)  106\n",
      "cell_per_block  2\n",
      "nxblocks  105\n"
     ]
    },
    {
     "name": "stderr",
     "output_type": "stream",
     "text": [
      "\r",
      " 30%|██▉       | 378/1261 [05:37<13:04,  1.12it/s]"
     ]
    },
    {
     "name": "stdout",
     "output_type": "stream",
     "text": [
      "no. of rectangles found is  12\n",
      "spatial_size  (16, 16)\n",
      "hist  16\n",
      "orient  9\n",
      "ch1.shape[1]  853\n",
      "pix_per_cell  8\n",
      "(ch1.shape[1] // pix_per_cell)  106\n",
      "cell_per_block  2\n",
      "nxblocks  105\n"
     ]
    },
    {
     "name": "stderr",
     "output_type": "stream",
     "text": [
      "\r",
      " 30%|███       | 379/1261 [05:38<14:34,  1.01it/s]"
     ]
    },
    {
     "name": "stdout",
     "output_type": "stream",
     "text": [
      "no. of rectangles found is  11\n",
      "spatial_size  (16, 16)\n",
      "hist  16\n",
      "orient  9\n",
      "ch1.shape[1]  853\n",
      "pix_per_cell  8\n",
      "(ch1.shape[1] // pix_per_cell)  106\n",
      "cell_per_block  2\n",
      "nxblocks  105\n"
     ]
    },
    {
     "name": "stderr",
     "output_type": "stream",
     "text": [
      "\r",
      " 30%|███       | 380/1261 [05:39<14:07,  1.04it/s]"
     ]
    },
    {
     "name": "stdout",
     "output_type": "stream",
     "text": [
      "no. of rectangles found is  13\n",
      "spatial_size  (16, 16)\n",
      "hist  16\n",
      "orient  9\n",
      "ch1.shape[1]  853\n",
      "pix_per_cell  8\n",
      "(ch1.shape[1] // pix_per_cell)  106\n",
      "cell_per_block  2\n",
      "nxblocks  105\n"
     ]
    },
    {
     "name": "stderr",
     "output_type": "stream",
     "text": [
      "\r",
      " 30%|███       | 381/1261 [05:40<13:44,  1.07it/s]"
     ]
    },
    {
     "name": "stdout",
     "output_type": "stream",
     "text": [
      "no. of rectangles found is  16\n",
      "spatial_size  (16, 16)\n",
      "hist  16\n",
      "orient  9\n",
      "ch1.shape[1]  853\n",
      "pix_per_cell  8\n",
      "(ch1.shape[1] // pix_per_cell)  106\n",
      "cell_per_block  2\n",
      "nxblocks  105\n"
     ]
    },
    {
     "name": "stderr",
     "output_type": "stream",
     "text": [
      "\r",
      " 30%|███       | 382/1261 [05:41<13:41,  1.07it/s]"
     ]
    },
    {
     "name": "stdout",
     "output_type": "stream",
     "text": [
      "no. of rectangles found is  12\n",
      "spatial_size  (16, 16)\n",
      "hist  16\n",
      "orient  9\n",
      "ch1.shape[1]  853\n",
      "pix_per_cell  8\n",
      "(ch1.shape[1] // pix_per_cell)  106\n",
      "cell_per_block  2\n",
      "nxblocks  105\n"
     ]
    },
    {
     "name": "stderr",
     "output_type": "stream",
     "text": [
      "\r",
      " 30%|███       | 383/1261 [05:42<13:35,  1.08it/s]"
     ]
    },
    {
     "name": "stdout",
     "output_type": "stream",
     "text": [
      "no. of rectangles found is  14\n",
      "spatial_size  (16, 16)\n",
      "hist  16\n",
      "orient  9\n",
      "ch1.shape[1]  853\n",
      "pix_per_cell  8\n",
      "(ch1.shape[1] // pix_per_cell)  106\n",
      "cell_per_block  2\n",
      "nxblocks  105\n"
     ]
    },
    {
     "name": "stderr",
     "output_type": "stream",
     "text": [
      "\r",
      " 30%|███       | 384/1261 [05:43<13:25,  1.09it/s]"
     ]
    },
    {
     "name": "stdout",
     "output_type": "stream",
     "text": [
      "no. of rectangles found is  18\n",
      "spatial_size  (16, 16)\n",
      "hist  16\n",
      "orient  9\n",
      "ch1.shape[1]  853\n",
      "pix_per_cell  8\n",
      "(ch1.shape[1] // pix_per_cell)  106\n",
      "cell_per_block  2\n",
      "nxblocks  105\n"
     ]
    },
    {
     "name": "stderr",
     "output_type": "stream",
     "text": [
      "\r",
      " 31%|███       | 385/1261 [05:44<13:16,  1.10it/s]"
     ]
    },
    {
     "name": "stdout",
     "output_type": "stream",
     "text": [
      "no. of rectangles found is  18\n",
      "spatial_size  (16, 16)\n",
      "hist  16\n",
      "orient  9\n",
      "ch1.shape[1]  853\n",
      "pix_per_cell  8\n",
      "(ch1.shape[1] // pix_per_cell)  106\n",
      "cell_per_block  2\n",
      "nxblocks  105\n"
     ]
    },
    {
     "name": "stderr",
     "output_type": "stream",
     "text": [
      "\r",
      " 31%|███       | 386/1261 [05:45<13:15,  1.10it/s]"
     ]
    },
    {
     "name": "stdout",
     "output_type": "stream",
     "text": [
      "no. of rectangles found is  8\n",
      "spatial_size  (16, 16)\n",
      "hist  16\n",
      "orient  9\n",
      "ch1.shape[1]  853\n",
      "pix_per_cell  8\n",
      "(ch1.shape[1] // pix_per_cell)  106\n",
      "cell_per_block  2\n",
      "nxblocks  105\n"
     ]
    },
    {
     "name": "stderr",
     "output_type": "stream",
     "text": [
      "\r",
      " 31%|███       | 387/1261 [05:46<13:11,  1.10it/s]"
     ]
    },
    {
     "name": "stdout",
     "output_type": "stream",
     "text": [
      "no. of rectangles found is  11\n",
      "spatial_size  (16, 16)\n",
      "hist  16\n",
      "orient  9\n",
      "ch1.shape[1]  853\n",
      "pix_per_cell  8\n",
      "(ch1.shape[1] // pix_per_cell)  106\n",
      "cell_per_block  2\n",
      "nxblocks  105\n"
     ]
    },
    {
     "name": "stderr",
     "output_type": "stream",
     "text": [
      "\r",
      " 31%|███       | 388/1261 [05:47<13:06,  1.11it/s]"
     ]
    },
    {
     "name": "stdout",
     "output_type": "stream",
     "text": [
      "no. of rectangles found is  13\n",
      "spatial_size  (16, 16)\n",
      "hist  16\n",
      "orient  9\n",
      "ch1.shape[1]  853\n",
      "pix_per_cell  8\n",
      "(ch1.shape[1] // pix_per_cell)  106\n",
      "cell_per_block  2\n",
      "nxblocks  105\n"
     ]
    },
    {
     "name": "stderr",
     "output_type": "stream",
     "text": [
      "\r",
      " 31%|███       | 389/1261 [05:47<13:01,  1.12it/s]"
     ]
    },
    {
     "name": "stdout",
     "output_type": "stream",
     "text": [
      "no. of rectangles found is  7\n",
      "spatial_size  (16, 16)\n",
      "hist  16\n",
      "orient  9\n",
      "ch1.shape[1]  853\n",
      "pix_per_cell  8\n",
      "(ch1.shape[1] // pix_per_cell)  106\n",
      "cell_per_block  2\n",
      "nxblocks  105\n"
     ]
    },
    {
     "name": "stderr",
     "output_type": "stream",
     "text": [
      "\r",
      " 31%|███       | 390/1261 [05:48<12:59,  1.12it/s]"
     ]
    },
    {
     "name": "stdout",
     "output_type": "stream",
     "text": [
      "no. of rectangles found is  5\n",
      "spatial_size  (16, 16)\n",
      "hist  16\n",
      "orient  9\n",
      "ch1.shape[1]  853\n",
      "pix_per_cell  8\n",
      "(ch1.shape[1] // pix_per_cell)  106\n",
      "cell_per_block  2\n",
      "nxblocks  105\n"
     ]
    },
    {
     "name": "stderr",
     "output_type": "stream",
     "text": [
      "\r",
      " 31%|███       | 391/1261 [05:49<12:56,  1.12it/s]"
     ]
    },
    {
     "name": "stdout",
     "output_type": "stream",
     "text": [
      "no. of rectangles found is  7\n",
      "spatial_size  (16, 16)\n",
      "hist  16\n",
      "orient  9\n",
      "ch1.shape[1]  853\n",
      "pix_per_cell  8\n",
      "(ch1.shape[1] // pix_per_cell)  106\n",
      "cell_per_block  2\n",
      "nxblocks  105\n"
     ]
    },
    {
     "name": "stderr",
     "output_type": "stream",
     "text": [
      "\r",
      " 31%|███       | 392/1261 [05:50<12:51,  1.13it/s]"
     ]
    },
    {
     "name": "stdout",
     "output_type": "stream",
     "text": [
      "no. of rectangles found is  12\n",
      "spatial_size  (16, 16)\n",
      "hist  16\n",
      "orient  9\n",
      "ch1.shape[1]  853\n",
      "pix_per_cell  8\n",
      "(ch1.shape[1] // pix_per_cell)  106\n",
      "cell_per_block  2\n",
      "nxblocks  105\n"
     ]
    },
    {
     "name": "stderr",
     "output_type": "stream",
     "text": [
      "\r",
      " 31%|███       | 393/1261 [05:51<12:53,  1.12it/s]"
     ]
    },
    {
     "name": "stdout",
     "output_type": "stream",
     "text": [
      "no. of rectangles found is  14\n",
      "spatial_size  (16, 16)\n",
      "hist  16\n",
      "orient  9\n",
      "ch1.shape[1]  853\n",
      "pix_per_cell  8\n",
      "(ch1.shape[1] // pix_per_cell)  106\n",
      "cell_per_block  2\n",
      "nxblocks  105\n"
     ]
    },
    {
     "name": "stderr",
     "output_type": "stream",
     "text": [
      "\r",
      " 31%|███       | 394/1261 [05:52<12:54,  1.12it/s]"
     ]
    },
    {
     "name": "stdout",
     "output_type": "stream",
     "text": [
      "no. of rectangles found is  16\n",
      "spatial_size  (16, 16)\n",
      "hist  16\n",
      "orient  9\n",
      "ch1.shape[1]  853\n",
      "pix_per_cell  8\n",
      "(ch1.shape[1] // pix_per_cell)  106\n",
      "cell_per_block  2\n",
      "nxblocks  105\n"
     ]
    },
    {
     "name": "stderr",
     "output_type": "stream",
     "text": [
      "\r",
      " 31%|███▏      | 395/1261 [05:53<12:59,  1.11it/s]"
     ]
    },
    {
     "name": "stdout",
     "output_type": "stream",
     "text": [
      "no. of rectangles found is  13\n",
      "spatial_size  (16, 16)\n",
      "hist  16\n",
      "orient  9\n",
      "ch1.shape[1]  853\n",
      "pix_per_cell  8\n",
      "(ch1.shape[1] // pix_per_cell)  106\n",
      "cell_per_block  2\n",
      "nxblocks  105\n"
     ]
    },
    {
     "name": "stderr",
     "output_type": "stream",
     "text": [
      "\r",
      " 31%|███▏      | 396/1261 [05:54<12:57,  1.11it/s]"
     ]
    },
    {
     "name": "stdout",
     "output_type": "stream",
     "text": [
      "no. of rectangles found is  12\n",
      "spatial_size  (16, 16)\n",
      "hist  16\n",
      "orient  9\n",
      "ch1.shape[1]  853\n",
      "pix_per_cell  8\n",
      "(ch1.shape[1] // pix_per_cell)  106\n",
      "cell_per_block  2\n",
      "nxblocks  105\n"
     ]
    },
    {
     "name": "stderr",
     "output_type": "stream",
     "text": [
      "\r",
      " 31%|███▏      | 397/1261 [05:55<12:57,  1.11it/s]"
     ]
    },
    {
     "name": "stdout",
     "output_type": "stream",
     "text": [
      "no. of rectangles found is  10\n",
      "spatial_size  (16, 16)\n",
      "hist  16\n",
      "orient  9\n",
      "ch1.shape[1]  853\n",
      "pix_per_cell  8\n",
      "(ch1.shape[1] // pix_per_cell)  106\n",
      "cell_per_block  2\n",
      "nxblocks  105\n"
     ]
    },
    {
     "name": "stderr",
     "output_type": "stream",
     "text": [
      "\r",
      " 32%|███▏      | 398/1261 [05:56<13:03,  1.10it/s]"
     ]
    },
    {
     "name": "stdout",
     "output_type": "stream",
     "text": [
      "no. of rectangles found is  8\n",
      "spatial_size  (16, 16)\n",
      "hist  16\n",
      "orient  9\n",
      "ch1.shape[1]  853\n",
      "pix_per_cell  8\n",
      "(ch1.shape[1] // pix_per_cell)  106\n",
      "cell_per_block  2\n",
      "nxblocks  105\n"
     ]
    },
    {
     "name": "stderr",
     "output_type": "stream",
     "text": [
      "\r",
      " 32%|███▏      | 399/1261 [05:56<13:00,  1.10it/s]"
     ]
    },
    {
     "name": "stdout",
     "output_type": "stream",
     "text": [
      "no. of rectangles found is  13\n",
      "spatial_size  (16, 16)\n",
      "hist  16\n",
      "orient  9\n",
      "ch1.shape[1]  853\n",
      "pix_per_cell  8\n",
      "(ch1.shape[1] // pix_per_cell)  106\n",
      "cell_per_block  2\n",
      "nxblocks  105\n"
     ]
    },
    {
     "name": "stderr",
     "output_type": "stream",
     "text": [
      "\r",
      " 32%|███▏      | 400/1261 [05:57<12:55,  1.11it/s]"
     ]
    },
    {
     "name": "stdout",
     "output_type": "stream",
     "text": [
      "no. of rectangles found is  11\n",
      "spatial_size  (16, 16)\n",
      "hist  16\n",
      "orient  9\n",
      "ch1.shape[1]  853\n",
      "pix_per_cell  8\n",
      "(ch1.shape[1] // pix_per_cell)  106\n",
      "cell_per_block  2\n",
      "nxblocks  105\n"
     ]
    },
    {
     "name": "stderr",
     "output_type": "stream",
     "text": [
      "\r",
      " 32%|███▏      | 401/1261 [05:58<12:50,  1.12it/s]"
     ]
    },
    {
     "name": "stdout",
     "output_type": "stream",
     "text": [
      "no. of rectangles found is  12\n",
      "spatial_size  (16, 16)\n",
      "hist  16\n",
      "orient  9\n",
      "ch1.shape[1]  853\n",
      "pix_per_cell  8\n",
      "(ch1.shape[1] // pix_per_cell)  106\n",
      "cell_per_block  2\n",
      "nxblocks  105\n"
     ]
    },
    {
     "name": "stderr",
     "output_type": "stream",
     "text": [
      "\r",
      " 32%|███▏      | 402/1261 [05:59<12:47,  1.12it/s]"
     ]
    },
    {
     "name": "stdout",
     "output_type": "stream",
     "text": [
      "no. of rectangles found is  8\n",
      "spatial_size  (16, 16)\n",
      "hist  16\n",
      "orient  9\n",
      "ch1.shape[1]  853\n",
      "pix_per_cell  8\n",
      "(ch1.shape[1] // pix_per_cell)  106\n",
      "cell_per_block  2\n",
      "nxblocks  105\n"
     ]
    },
    {
     "name": "stderr",
     "output_type": "stream",
     "text": [
      "\r",
      " 32%|███▏      | 403/1261 [06:00<12:48,  1.12it/s]"
     ]
    },
    {
     "name": "stdout",
     "output_type": "stream",
     "text": [
      "no. of rectangles found is  12\n",
      "spatial_size  (16, 16)\n",
      "hist  16\n",
      "orient  9\n",
      "ch1.shape[1]  853\n",
      "pix_per_cell  8\n",
      "(ch1.shape[1] // pix_per_cell)  106\n",
      "cell_per_block  2\n",
      "nxblocks  105\n"
     ]
    },
    {
     "name": "stderr",
     "output_type": "stream",
     "text": [
      "\r",
      " 32%|███▏      | 404/1261 [06:01<12:46,  1.12it/s]"
     ]
    },
    {
     "name": "stdout",
     "output_type": "stream",
     "text": [
      "no. of rectangles found is  9\n",
      "spatial_size  (16, 16)\n",
      "hist  16\n",
      "orient  9\n",
      "ch1.shape[1]  853\n",
      "pix_per_cell  8\n",
      "(ch1.shape[1] // pix_per_cell)  106\n",
      "cell_per_block  2\n",
      "nxblocks  105\n"
     ]
    },
    {
     "name": "stderr",
     "output_type": "stream",
     "text": [
      "\r",
      " 32%|███▏      | 405/1261 [06:02<12:44,  1.12it/s]"
     ]
    },
    {
     "name": "stdout",
     "output_type": "stream",
     "text": [
      "no. of rectangles found is  11\n",
      "spatial_size  (16, 16)\n",
      "hist  16\n",
      "orient  9\n",
      "ch1.shape[1]  853\n",
      "pix_per_cell  8\n",
      "(ch1.shape[1] // pix_per_cell)  106\n",
      "cell_per_block  2\n",
      "nxblocks  105\n"
     ]
    },
    {
     "name": "stderr",
     "output_type": "stream",
     "text": [
      "\r",
      " 32%|███▏      | 406/1261 [06:03<12:52,  1.11it/s]"
     ]
    },
    {
     "name": "stdout",
     "output_type": "stream",
     "text": [
      "no. of rectangles found is  11\n",
      "spatial_size  (16, 16)\n",
      "hist  16\n",
      "orient  9\n",
      "ch1.shape[1]  853\n",
      "pix_per_cell  8\n",
      "(ch1.shape[1] // pix_per_cell)  106\n",
      "cell_per_block  2\n",
      "nxblocks  105\n"
     ]
    },
    {
     "name": "stderr",
     "output_type": "stream",
     "text": [
      "\r",
      " 32%|███▏      | 407/1261 [06:04<12:47,  1.11it/s]"
     ]
    },
    {
     "name": "stdout",
     "output_type": "stream",
     "text": [
      "no. of rectangles found is  9\n",
      "spatial_size  (16, 16)\n",
      "hist  16\n",
      "orient  9\n",
      "ch1.shape[1]  853\n",
      "pix_per_cell  8\n",
      "(ch1.shape[1] // pix_per_cell)  106\n",
      "cell_per_block  2\n",
      "nxblocks  105\n"
     ]
    },
    {
     "name": "stderr",
     "output_type": "stream",
     "text": [
      "\r",
      " 32%|███▏      | 408/1261 [06:04<12:44,  1.12it/s]"
     ]
    },
    {
     "name": "stdout",
     "output_type": "stream",
     "text": [
      "no. of rectangles found is  7\n",
      "spatial_size  (16, 16)\n",
      "hist  16\n",
      "orient  9\n",
      "ch1.shape[1]  853\n",
      "pix_per_cell  8\n",
      "(ch1.shape[1] // pix_per_cell)  106\n",
      "cell_per_block  2\n",
      "nxblocks  105\n"
     ]
    },
    {
     "name": "stderr",
     "output_type": "stream",
     "text": [
      "\r",
      " 32%|███▏      | 409/1261 [06:05<12:42,  1.12it/s]"
     ]
    },
    {
     "name": "stdout",
     "output_type": "stream",
     "text": [
      "no. of rectangles found is  15\n",
      "spatial_size  (16, 16)\n",
      "hist  16\n",
      "orient  9\n",
      "ch1.shape[1]  853\n",
      "pix_per_cell  8\n",
      "(ch1.shape[1] // pix_per_cell)  106\n",
      "cell_per_block  2\n",
      "nxblocks  105\n"
     ]
    },
    {
     "name": "stderr",
     "output_type": "stream",
     "text": [
      "\r",
      " 33%|███▎      | 410/1261 [06:06<12:41,  1.12it/s]"
     ]
    },
    {
     "name": "stdout",
     "output_type": "stream",
     "text": [
      "no. of rectangles found is  14\n",
      "spatial_size  (16, 16)\n",
      "hist  16\n",
      "orient  9\n",
      "ch1.shape[1]  853\n",
      "pix_per_cell  8\n",
      "(ch1.shape[1] // pix_per_cell)  106\n",
      "cell_per_block  2\n",
      "nxblocks  105\n"
     ]
    },
    {
     "name": "stderr",
     "output_type": "stream",
     "text": [
      "\r",
      " 33%|███▎      | 411/1261 [06:07<12:53,  1.10it/s]"
     ]
    },
    {
     "name": "stdout",
     "output_type": "stream",
     "text": [
      "no. of rectangles found is  17\n",
      "spatial_size  (16, 16)\n",
      "hist  16\n",
      "orient  9\n",
      "ch1.shape[1]  853\n",
      "pix_per_cell  8\n",
      "(ch1.shape[1] // pix_per_cell)  106\n",
      "cell_per_block  2\n",
      "nxblocks  105\n"
     ]
    },
    {
     "name": "stderr",
     "output_type": "stream",
     "text": [
      "\r",
      " 33%|███▎      | 412/1261 [06:08<13:06,  1.08it/s]"
     ]
    },
    {
     "name": "stdout",
     "output_type": "stream",
     "text": [
      "no. of rectangles found is  9\n",
      "spatial_size  (16, 16)\n",
      "hist  16\n",
      "orient  9\n",
      "ch1.shape[1]  853\n",
      "pix_per_cell  8\n",
      "(ch1.shape[1] // pix_per_cell)  106\n",
      "cell_per_block  2\n",
      "nxblocks  105\n"
     ]
    },
    {
     "name": "stderr",
     "output_type": "stream",
     "text": [
      "\r",
      " 33%|███▎      | 413/1261 [06:09<12:56,  1.09it/s]"
     ]
    },
    {
     "name": "stdout",
     "output_type": "stream",
     "text": [
      "no. of rectangles found is  11\n",
      "spatial_size  (16, 16)\n",
      "hist  16\n",
      "orient  9\n",
      "ch1.shape[1]  853\n",
      "pix_per_cell  8\n",
      "(ch1.shape[1] // pix_per_cell)  106\n",
      "cell_per_block  2\n",
      "nxblocks  105\n"
     ]
    },
    {
     "name": "stderr",
     "output_type": "stream",
     "text": [
      "\r",
      " 33%|███▎      | 414/1261 [06:10<12:49,  1.10it/s]"
     ]
    },
    {
     "name": "stdout",
     "output_type": "stream",
     "text": [
      "no. of rectangles found is  9\n",
      "spatial_size  (16, 16)\n",
      "hist  16\n",
      "orient  9\n",
      "ch1.shape[1]  853\n",
      "pix_per_cell  8\n",
      "(ch1.shape[1] // pix_per_cell)  106\n",
      "cell_per_block  2\n",
      "nxblocks  105\n"
     ]
    },
    {
     "name": "stderr",
     "output_type": "stream",
     "text": [
      "\r",
      " 33%|███▎      | 415/1261 [06:11<12:43,  1.11it/s]"
     ]
    },
    {
     "name": "stdout",
     "output_type": "stream",
     "text": [
      "no. of rectangles found is  10\n",
      "spatial_size  (16, 16)\n",
      "hist  16\n",
      "orient  9\n",
      "ch1.shape[1]  853\n",
      "pix_per_cell  8\n",
      "(ch1.shape[1] // pix_per_cell)  106\n",
      "cell_per_block  2\n",
      "nxblocks  105\n"
     ]
    },
    {
     "name": "stderr",
     "output_type": "stream",
     "text": [
      "\r",
      " 33%|███▎      | 416/1261 [06:12<12:48,  1.10it/s]"
     ]
    },
    {
     "name": "stdout",
     "output_type": "stream",
     "text": [
      "no. of rectangles found is  8\n",
      "spatial_size  (16, 16)\n",
      "hist  16\n",
      "orient  9\n",
      "ch1.shape[1]  853\n",
      "pix_per_cell  8\n",
      "(ch1.shape[1] // pix_per_cell)  106\n",
      "cell_per_block  2\n",
      "nxblocks  105\n"
     ]
    },
    {
     "name": "stderr",
     "output_type": "stream",
     "text": [
      "\r",
      " 33%|███▎      | 417/1261 [06:13<12:43,  1.11it/s]"
     ]
    },
    {
     "name": "stdout",
     "output_type": "stream",
     "text": [
      "no. of rectangles found is  9\n",
      "spatial_size  (16, 16)\n",
      "hist  16\n",
      "orient  9\n",
      "ch1.shape[1]  853\n",
      "pix_per_cell  8\n",
      "(ch1.shape[1] // pix_per_cell)  106\n",
      "cell_per_block  2\n",
      "nxblocks  105\n"
     ]
    },
    {
     "name": "stderr",
     "output_type": "stream",
     "text": [
      "\r",
      " 33%|███▎      | 418/1261 [06:14<12:38,  1.11it/s]"
     ]
    },
    {
     "name": "stdout",
     "output_type": "stream",
     "text": [
      "no. of rectangles found is  7\n",
      "spatial_size  (16, 16)\n",
      "hist  16\n",
      "orient  9\n",
      "ch1.shape[1]  853\n",
      "pix_per_cell  8\n",
      "(ch1.shape[1] // pix_per_cell)  106\n",
      "cell_per_block  2\n",
      "nxblocks  105\n"
     ]
    },
    {
     "name": "stderr",
     "output_type": "stream",
     "text": [
      "\r",
      " 33%|███▎      | 419/1261 [06:14<12:33,  1.12it/s]"
     ]
    },
    {
     "name": "stdout",
     "output_type": "stream",
     "text": [
      "no. of rectangles found is  6\n",
      "spatial_size  (16, 16)\n",
      "hist  16\n",
      "orient  9\n",
      "ch1.shape[1]  853\n",
      "pix_per_cell  8\n",
      "(ch1.shape[1] // pix_per_cell)  106\n",
      "cell_per_block  2\n",
      "nxblocks  105\n"
     ]
    },
    {
     "name": "stderr",
     "output_type": "stream",
     "text": [
      "\r",
      " 33%|███▎      | 420/1261 [06:15<12:37,  1.11it/s]"
     ]
    },
    {
     "name": "stdout",
     "output_type": "stream",
     "text": [
      "no. of rectangles found is  5\n",
      "spatial_size  (16, 16)\n",
      "hist  16\n",
      "orient  9\n",
      "ch1.shape[1]  853\n",
      "pix_per_cell  8\n",
      "(ch1.shape[1] // pix_per_cell)  106\n",
      "cell_per_block  2\n",
      "nxblocks  105\n"
     ]
    },
    {
     "name": "stderr",
     "output_type": "stream",
     "text": [
      "\r",
      " 33%|███▎      | 421/1261 [06:16<12:33,  1.12it/s]"
     ]
    },
    {
     "name": "stdout",
     "output_type": "stream",
     "text": [
      "no. of rectangles found is  7\n",
      "spatial_size  (16, 16)\n",
      "hist  16\n",
      "orient  9\n",
      "ch1.shape[1]  853\n",
      "pix_per_cell  8\n",
      "(ch1.shape[1] // pix_per_cell)  106\n",
      "cell_per_block  2\n",
      "nxblocks  105\n"
     ]
    },
    {
     "name": "stderr",
     "output_type": "stream",
     "text": [
      "\r",
      " 33%|███▎      | 422/1261 [06:17<12:30,  1.12it/s]"
     ]
    },
    {
     "name": "stdout",
     "output_type": "stream",
     "text": [
      "no. of rectangles found is  15\n",
      "spatial_size  (16, 16)\n",
      "hist  16\n",
      "orient  9\n",
      "ch1.shape[1]  853\n",
      "pix_per_cell  8\n",
      "(ch1.shape[1] // pix_per_cell)  106\n",
      "cell_per_block  2\n",
      "nxblocks  105\n"
     ]
    },
    {
     "name": "stderr",
     "output_type": "stream",
     "text": [
      "\r",
      " 34%|███▎      | 423/1261 [06:18<12:39,  1.10it/s]"
     ]
    },
    {
     "name": "stdout",
     "output_type": "stream",
     "text": [
      "no. of rectangles found is  15\n",
      "spatial_size  (16, 16)\n",
      "hist  16\n",
      "orient  9\n",
      "ch1.shape[1]  853\n",
      "pix_per_cell  8\n",
      "(ch1.shape[1] // pix_per_cell)  106\n",
      "cell_per_block  2\n",
      "nxblocks  105\n"
     ]
    },
    {
     "name": "stderr",
     "output_type": "stream",
     "text": [
      "\r",
      " 34%|███▎      | 424/1261 [06:19<12:34,  1.11it/s]"
     ]
    },
    {
     "name": "stdout",
     "output_type": "stream",
     "text": [
      "no. of rectangles found is  9\n",
      "spatial_size  (16, 16)\n",
      "hist  16\n",
      "orient  9\n",
      "ch1.shape[1]  853\n",
      "pix_per_cell  8\n",
      "(ch1.shape[1] // pix_per_cell)  106\n",
      "cell_per_block  2\n",
      "nxblocks  105\n"
     ]
    },
    {
     "name": "stderr",
     "output_type": "stream",
     "text": [
      "\r",
      " 34%|███▎      | 425/1261 [06:20<12:45,  1.09it/s]"
     ]
    },
    {
     "name": "stdout",
     "output_type": "stream",
     "text": [
      "no. of rectangles found is  8\n",
      "spatial_size  (16, 16)\n",
      "hist  16\n",
      "orient  9\n",
      "ch1.shape[1]  853\n",
      "pix_per_cell  8\n",
      "(ch1.shape[1] // pix_per_cell)  106\n",
      "cell_per_block  2\n",
      "nxblocks  105\n"
     ]
    },
    {
     "name": "stderr",
     "output_type": "stream",
     "text": [
      "\r",
      " 34%|███▍      | 426/1261 [06:21<12:38,  1.10it/s]"
     ]
    },
    {
     "name": "stdout",
     "output_type": "stream",
     "text": [
      "no. of rectangles found is  8\n",
      "spatial_size  (16, 16)\n",
      "hist  16\n",
      "orient  9\n",
      "ch1.shape[1]  853\n",
      "pix_per_cell  8\n",
      "(ch1.shape[1] // pix_per_cell)  106\n",
      "cell_per_block  2\n",
      "nxblocks  105\n"
     ]
    },
    {
     "name": "stderr",
     "output_type": "stream",
     "text": [
      "\r",
      " 34%|███▍      | 427/1261 [06:22<12:34,  1.11it/s]"
     ]
    },
    {
     "name": "stdout",
     "output_type": "stream",
     "text": [
      "no. of rectangles found is  7\n",
      "spatial_size  (16, 16)\n",
      "hist  16\n",
      "orient  9\n",
      "ch1.shape[1]  853\n",
      "pix_per_cell  8\n",
      "(ch1.shape[1] // pix_per_cell)  106\n",
      "cell_per_block  2\n",
      "nxblocks  105\n"
     ]
    },
    {
     "name": "stderr",
     "output_type": "stream",
     "text": [
      "\r",
      " 34%|███▍      | 428/1261 [06:23<12:28,  1.11it/s]"
     ]
    },
    {
     "name": "stdout",
     "output_type": "stream",
     "text": [
      "no. of rectangles found is  6\n",
      "spatial_size  (16, 16)\n",
      "hist  16\n",
      "orient  9\n",
      "ch1.shape[1]  853\n",
      "pix_per_cell  8\n",
      "(ch1.shape[1] // pix_per_cell)  106\n",
      "cell_per_block  2\n",
      "nxblocks  105\n"
     ]
    },
    {
     "name": "stderr",
     "output_type": "stream",
     "text": [
      "\r",
      " 34%|███▍      | 429/1261 [06:23<12:28,  1.11it/s]"
     ]
    },
    {
     "name": "stdout",
     "output_type": "stream",
     "text": [
      "no. of rectangles found is  11\n",
      "spatial_size  (16, 16)\n",
      "hist  16\n",
      "orient  9\n",
      "ch1.shape[1]  853\n",
      "pix_per_cell  8\n",
      "(ch1.shape[1] // pix_per_cell)  106\n",
      "cell_per_block  2\n",
      "nxblocks  105\n"
     ]
    },
    {
     "name": "stderr",
     "output_type": "stream",
     "text": [
      "\r",
      " 34%|███▍      | 430/1261 [06:24<12:26,  1.11it/s]"
     ]
    },
    {
     "name": "stdout",
     "output_type": "stream",
     "text": [
      "no. of rectangles found is  12\n",
      "spatial_size  (16, 16)\n",
      "hist  16\n",
      "orient  9\n",
      "ch1.shape[1]  853\n",
      "pix_per_cell  8\n",
      "(ch1.shape[1] // pix_per_cell)  106\n",
      "cell_per_block  2\n",
      "nxblocks  105\n"
     ]
    },
    {
     "name": "stderr",
     "output_type": "stream",
     "text": [
      "\r",
      " 34%|███▍      | 431/1261 [06:25<12:22,  1.12it/s]"
     ]
    },
    {
     "name": "stdout",
     "output_type": "stream",
     "text": [
      "no. of rectangles found is  14\n",
      "spatial_size  (16, 16)\n",
      "hist  16\n",
      "orient  9\n",
      "ch1.shape[1]  853\n",
      "pix_per_cell  8\n",
      "(ch1.shape[1] // pix_per_cell)  106\n",
      "cell_per_block  2\n",
      "nxblocks  105\n"
     ]
    },
    {
     "name": "stderr",
     "output_type": "stream",
     "text": [
      "\r",
      " 34%|███▍      | 432/1261 [06:26<12:25,  1.11it/s]"
     ]
    },
    {
     "name": "stdout",
     "output_type": "stream",
     "text": [
      "no. of rectangles found is  17\n",
      "spatial_size  (16, 16)\n",
      "hist  16\n",
      "orient  9\n",
      "ch1.shape[1]  853\n",
      "pix_per_cell  8\n",
      "(ch1.shape[1] // pix_per_cell)  106\n",
      "cell_per_block  2\n",
      "nxblocks  105\n"
     ]
    },
    {
     "name": "stderr",
     "output_type": "stream",
     "text": [
      "\r",
      " 34%|███▍      | 433/1261 [06:27<12:20,  1.12it/s]"
     ]
    },
    {
     "name": "stdout",
     "output_type": "stream",
     "text": [
      "no. of rectangles found is  6\n",
      "spatial_size  (16, 16)\n",
      "hist  16\n",
      "orient  9\n",
      "ch1.shape[1]  853\n",
      "pix_per_cell  8\n",
      "(ch1.shape[1] // pix_per_cell)  106\n",
      "cell_per_block  2\n",
      "nxblocks  105\n"
     ]
    },
    {
     "name": "stderr",
     "output_type": "stream",
     "text": [
      "\r",
      " 34%|███▍      | 434/1261 [06:28<12:19,  1.12it/s]"
     ]
    },
    {
     "name": "stdout",
     "output_type": "stream",
     "text": [
      "no. of rectangles found is  9\n",
      "spatial_size  (16, 16)\n",
      "hist  16\n",
      "orient  9\n",
      "ch1.shape[1]  853\n",
      "pix_per_cell  8\n",
      "(ch1.shape[1] // pix_per_cell)  106\n",
      "cell_per_block  2\n",
      "nxblocks  105\n"
     ]
    },
    {
     "name": "stderr",
     "output_type": "stream",
     "text": [
      "\r",
      " 34%|███▍      | 435/1261 [06:29<12:21,  1.11it/s]"
     ]
    },
    {
     "name": "stdout",
     "output_type": "stream",
     "text": [
      "no. of rectangles found is  10\n",
      "spatial_size  (16, 16)\n",
      "hist  16\n",
      "orient  9\n",
      "ch1.shape[1]  853\n",
      "pix_per_cell  8\n",
      "(ch1.shape[1] // pix_per_cell)  106\n",
      "cell_per_block  2\n",
      "nxblocks  105\n"
     ]
    },
    {
     "name": "stderr",
     "output_type": "stream",
     "text": [
      "\r",
      " 35%|███▍      | 436/1261 [06:30<12:19,  1.12it/s]"
     ]
    },
    {
     "name": "stdout",
     "output_type": "stream",
     "text": [
      "no. of rectangles found is  9\n",
      "spatial_size  (16, 16)\n",
      "hist  16\n",
      "orient  9\n",
      "ch1.shape[1]  853\n",
      "pix_per_cell  8\n",
      "(ch1.shape[1] // pix_per_cell)  106\n",
      "cell_per_block  2\n",
      "nxblocks  105\n"
     ]
    },
    {
     "name": "stderr",
     "output_type": "stream",
     "text": [
      "\r",
      " 35%|███▍      | 437/1261 [06:31<12:18,  1.12it/s]"
     ]
    },
    {
     "name": "stdout",
     "output_type": "stream",
     "text": [
      "no. of rectangles found is  10\n",
      "spatial_size  (16, 16)\n",
      "hist  16\n",
      "orient  9\n",
      "ch1.shape[1]  853\n",
      "pix_per_cell  8\n",
      "(ch1.shape[1] // pix_per_cell)  106\n",
      "cell_per_block  2\n",
      "nxblocks  105\n"
     ]
    },
    {
     "name": "stderr",
     "output_type": "stream",
     "text": [
      "\r",
      " 35%|███▍      | 438/1261 [06:32<12:23,  1.11it/s]"
     ]
    },
    {
     "name": "stdout",
     "output_type": "stream",
     "text": [
      "no. of rectangles found is  14\n",
      "spatial_size  (16, 16)\n",
      "hist  16\n",
      "orient  9\n",
      "ch1.shape[1]  853\n",
      "pix_per_cell  8\n",
      "(ch1.shape[1] // pix_per_cell)  106\n",
      "cell_per_block  2\n",
      "nxblocks  105\n"
     ]
    },
    {
     "name": "stderr",
     "output_type": "stream",
     "text": [
      "\r",
      " 35%|███▍      | 439/1261 [06:32<12:19,  1.11it/s]"
     ]
    },
    {
     "name": "stdout",
     "output_type": "stream",
     "text": [
      "no. of rectangles found is  10\n",
      "spatial_size  (16, 16)\n",
      "hist  16\n",
      "orient  9\n",
      "ch1.shape[1]  853\n",
      "pix_per_cell  8\n",
      "(ch1.shape[1] // pix_per_cell)  106\n",
      "cell_per_block  2\n",
      "nxblocks  105\n"
     ]
    },
    {
     "name": "stderr",
     "output_type": "stream",
     "text": [
      "\r",
      " 35%|███▍      | 440/1261 [06:33<12:16,  1.12it/s]"
     ]
    },
    {
     "name": "stdout",
     "output_type": "stream",
     "text": [
      "no. of rectangles found is  7\n",
      "spatial_size  (16, 16)\n",
      "hist  16\n",
      "orient  9\n",
      "ch1.shape[1]  853\n",
      "pix_per_cell  8\n",
      "(ch1.shape[1] // pix_per_cell)  106\n",
      "cell_per_block  2\n",
      "nxblocks  105\n"
     ]
    },
    {
     "name": "stderr",
     "output_type": "stream",
     "text": [
      "\r",
      " 35%|███▍      | 441/1261 [06:34<12:15,  1.12it/s]"
     ]
    },
    {
     "name": "stdout",
     "output_type": "stream",
     "text": [
      "no. of rectangles found is  11\n",
      "spatial_size  (16, 16)\n",
      "hist  16\n",
      "orient  9\n",
      "ch1.shape[1]  853\n",
      "pix_per_cell  8\n",
      "(ch1.shape[1] // pix_per_cell)  106\n",
      "cell_per_block  2\n",
      "nxblocks  105\n"
     ]
    },
    {
     "name": "stderr",
     "output_type": "stream",
     "text": [
      "\r",
      " 35%|███▌      | 442/1261 [06:35<12:12,  1.12it/s]"
     ]
    },
    {
     "name": "stdout",
     "output_type": "stream",
     "text": [
      "no. of rectangles found is  12\n",
      "spatial_size  (16, 16)\n",
      "hist  16\n",
      "orient  9\n",
      "ch1.shape[1]  853\n",
      "pix_per_cell  8\n",
      "(ch1.shape[1] // pix_per_cell)  106\n",
      "cell_per_block  2\n",
      "nxblocks  105\n"
     ]
    },
    {
     "name": "stderr",
     "output_type": "stream",
     "text": [
      "\r",
      " 35%|███▌      | 443/1261 [06:36<12:12,  1.12it/s]"
     ]
    },
    {
     "name": "stdout",
     "output_type": "stream",
     "text": [
      "no. of rectangles found is  13\n",
      "spatial_size  (16, 16)\n",
      "hist  16\n",
      "orient  9\n",
      "ch1.shape[1]  853\n",
      "pix_per_cell  8\n",
      "(ch1.shape[1] // pix_per_cell)  106\n",
      "cell_per_block  2\n",
      "nxblocks  105\n"
     ]
    },
    {
     "name": "stderr",
     "output_type": "stream",
     "text": [
      "\r",
      " 35%|███▌      | 444/1261 [06:37<12:11,  1.12it/s]"
     ]
    },
    {
     "name": "stdout",
     "output_type": "stream",
     "text": [
      "no. of rectangles found is  10\n",
      "spatial_size  (16, 16)\n",
      "hist  16\n",
      "orient  9\n",
      "ch1.shape[1]  853\n",
      "pix_per_cell  8\n",
      "(ch1.shape[1] // pix_per_cell)  106\n",
      "cell_per_block  2\n",
      "nxblocks  105\n"
     ]
    },
    {
     "name": "stderr",
     "output_type": "stream",
     "text": [
      "\r",
      " 35%|███▌      | 445/1261 [06:38<12:11,  1.11it/s]"
     ]
    },
    {
     "name": "stdout",
     "output_type": "stream",
     "text": [
      "no. of rectangles found is  12\n",
      "spatial_size  (16, 16)\n",
      "hist  16\n",
      "orient  9\n",
      "ch1.shape[1]  853\n",
      "pix_per_cell  8\n",
      "(ch1.shape[1] // pix_per_cell)  106\n",
      "cell_per_block  2\n",
      "nxblocks  105\n"
     ]
    },
    {
     "name": "stderr",
     "output_type": "stream",
     "text": [
      "\r",
      " 35%|███▌      | 446/1261 [06:39<12:10,  1.12it/s]"
     ]
    },
    {
     "name": "stdout",
     "output_type": "stream",
     "text": [
      "no. of rectangles found is  10\n",
      "spatial_size  (16, 16)\n",
      "hist  16\n",
      "orient  9\n",
      "ch1.shape[1]  853\n",
      "pix_per_cell  8\n",
      "(ch1.shape[1] // pix_per_cell)  106\n",
      "cell_per_block  2\n",
      "nxblocks  105\n"
     ]
    },
    {
     "name": "stderr",
     "output_type": "stream",
     "text": [
      "\r",
      " 35%|███▌      | 447/1261 [06:40<12:08,  1.12it/s]"
     ]
    },
    {
     "name": "stdout",
     "output_type": "stream",
     "text": [
      "no. of rectangles found is  7\n",
      "spatial_size  (16, 16)\n",
      "hist  16\n",
      "orient  9\n",
      "ch1.shape[1]  853\n",
      "pix_per_cell  8\n",
      "(ch1.shape[1] // pix_per_cell)  106\n",
      "cell_per_block  2\n",
      "nxblocks  105\n"
     ]
    },
    {
     "name": "stderr",
     "output_type": "stream",
     "text": [
      "\r",
      " 36%|███▌      | 448/1261 [06:40<12:07,  1.12it/s]"
     ]
    },
    {
     "name": "stdout",
     "output_type": "stream",
     "text": [
      "no. of rectangles found is  13\n",
      "spatial_size  (16, 16)\n",
      "hist  16\n",
      "orient  9\n",
      "ch1.shape[1]  853\n",
      "pix_per_cell  8\n",
      "(ch1.shape[1] // pix_per_cell)  106\n",
      "cell_per_block  2\n",
      "nxblocks  105\n"
     ]
    },
    {
     "name": "stderr",
     "output_type": "stream",
     "text": [
      "\r",
      " 36%|███▌      | 449/1261 [06:41<12:06,  1.12it/s]"
     ]
    },
    {
     "name": "stdout",
     "output_type": "stream",
     "text": [
      "no. of rectangles found is  18\n",
      "spatial_size  (16, 16)\n",
      "hist  16\n",
      "orient  9\n",
      "ch1.shape[1]  853\n",
      "pix_per_cell  8\n",
      "(ch1.shape[1] // pix_per_cell)  106\n",
      "cell_per_block  2\n",
      "nxblocks  105\n"
     ]
    },
    {
     "name": "stderr",
     "output_type": "stream",
     "text": [
      "\r",
      " 36%|███▌      | 450/1261 [06:42<12:04,  1.12it/s]"
     ]
    },
    {
     "name": "stdout",
     "output_type": "stream",
     "text": [
      "no. of rectangles found is  6\n",
      "spatial_size  (16, 16)\n",
      "hist  16\n",
      "orient  9\n",
      "ch1.shape[1]  853\n",
      "pix_per_cell  8\n",
      "(ch1.shape[1] // pix_per_cell)  106\n",
      "cell_per_block  2\n",
      "nxblocks  105\n"
     ]
    },
    {
     "name": "stderr",
     "output_type": "stream",
     "text": [
      "\r",
      " 36%|███▌      | 451/1261 [06:43<12:04,  1.12it/s]"
     ]
    },
    {
     "name": "stdout",
     "output_type": "stream",
     "text": [
      "no. of rectangles found is  7\n",
      "spatial_size  (16, 16)\n",
      "hist  16\n",
      "orient  9\n",
      "ch1.shape[1]  853\n",
      "pix_per_cell  8\n",
      "(ch1.shape[1] // pix_per_cell)  106\n",
      "cell_per_block  2\n",
      "nxblocks  105\n"
     ]
    },
    {
     "name": "stderr",
     "output_type": "stream",
     "text": [
      "\r",
      " 36%|███▌      | 452/1261 [06:44<12:01,  1.12it/s]"
     ]
    },
    {
     "name": "stdout",
     "output_type": "stream",
     "text": [
      "no. of rectangles found is  6\n",
      "spatial_size  (16, 16)\n",
      "hist  16\n",
      "orient  9\n",
      "ch1.shape[1]  853\n",
      "pix_per_cell  8\n",
      "(ch1.shape[1] // pix_per_cell)  106\n",
      "cell_per_block  2\n",
      "nxblocks  105\n"
     ]
    },
    {
     "name": "stderr",
     "output_type": "stream",
     "text": [
      "\r",
      " 36%|███▌      | 453/1261 [06:45<11:58,  1.12it/s]"
     ]
    },
    {
     "name": "stdout",
     "output_type": "stream",
     "text": [
      "no. of rectangles found is  4\n",
      "spatial_size  (16, 16)\n",
      "hist  16\n",
      "orient  9\n",
      "ch1.shape[1]  853\n",
      "pix_per_cell  8\n",
      "(ch1.shape[1] // pix_per_cell)  106\n",
      "cell_per_block  2\n",
      "nxblocks  105\n"
     ]
    },
    {
     "name": "stderr",
     "output_type": "stream",
     "text": [
      "\r",
      " 36%|███▌      | 454/1261 [06:46<11:56,  1.13it/s]"
     ]
    },
    {
     "name": "stdout",
     "output_type": "stream",
     "text": [
      "no. of rectangles found is  7\n",
      "spatial_size  (16, 16)\n",
      "hist  16\n",
      "orient  9\n",
      "ch1.shape[1]  853\n",
      "pix_per_cell  8\n",
      "(ch1.shape[1] // pix_per_cell)  106\n",
      "cell_per_block  2\n",
      "nxblocks  105\n"
     ]
    },
    {
     "name": "stderr",
     "output_type": "stream",
     "text": [
      "\r",
      " 36%|███▌      | 455/1261 [06:47<11:54,  1.13it/s]"
     ]
    },
    {
     "name": "stdout",
     "output_type": "stream",
     "text": [
      "no. of rectangles found is  10\n",
      "spatial_size  (16, 16)\n",
      "hist  16\n",
      "orient  9\n",
      "ch1.shape[1]  853\n",
      "pix_per_cell  8\n",
      "(ch1.shape[1] // pix_per_cell)  106\n",
      "cell_per_block  2\n",
      "nxblocks  105\n"
     ]
    },
    {
     "name": "stderr",
     "output_type": "stream",
     "text": [
      "\r",
      " 36%|███▌      | 456/1261 [06:48<11:55,  1.13it/s]"
     ]
    },
    {
     "name": "stdout",
     "output_type": "stream",
     "text": [
      "no. of rectangles found is  13\n",
      "spatial_size  (16, 16)\n",
      "hist  16\n",
      "orient  9\n",
      "ch1.shape[1]  853\n",
      "pix_per_cell  8\n",
      "(ch1.shape[1] // pix_per_cell)  106\n",
      "cell_per_block  2\n",
      "nxblocks  105\n"
     ]
    },
    {
     "name": "stderr",
     "output_type": "stream",
     "text": [
      "\r",
      " 36%|███▌      | 457/1261 [06:49<12:00,  1.12it/s]"
     ]
    },
    {
     "name": "stdout",
     "output_type": "stream",
     "text": [
      "no. of rectangles found is  9\n",
      "spatial_size  (16, 16)\n",
      "hist  16\n",
      "orient  9\n",
      "ch1.shape[1]  853\n",
      "pix_per_cell  8\n",
      "(ch1.shape[1] // pix_per_cell)  106\n",
      "cell_per_block  2\n",
      "nxblocks  105\n"
     ]
    },
    {
     "name": "stderr",
     "output_type": "stream",
     "text": [
      "\r",
      " 36%|███▋      | 458/1261 [06:49<11:56,  1.12it/s]"
     ]
    },
    {
     "name": "stdout",
     "output_type": "stream",
     "text": [
      "no. of rectangles found is  13\n",
      "spatial_size  (16, 16)\n",
      "hist  16\n",
      "orient  9\n",
      "ch1.shape[1]  853\n",
      "pix_per_cell  8\n",
      "(ch1.shape[1] // pix_per_cell)  106\n",
      "cell_per_block  2\n",
      "nxblocks  105\n"
     ]
    },
    {
     "name": "stderr",
     "output_type": "stream",
     "text": [
      "\r",
      " 36%|███▋      | 459/1261 [06:50<11:55,  1.12it/s]"
     ]
    },
    {
     "name": "stdout",
     "output_type": "stream",
     "text": [
      "no. of rectangles found is  10\n",
      "spatial_size  (16, 16)\n",
      "hist  16\n",
      "orient  9\n",
      "ch1.shape[1]  853\n",
      "pix_per_cell  8\n",
      "(ch1.shape[1] // pix_per_cell)  106\n",
      "cell_per_block  2\n",
      "nxblocks  105\n"
     ]
    },
    {
     "name": "stderr",
     "output_type": "stream",
     "text": [
      "\r",
      " 36%|███▋      | 460/1261 [06:51<11:54,  1.12it/s]"
     ]
    },
    {
     "name": "stdout",
     "output_type": "stream",
     "text": [
      "no. of rectangles found is  11\n",
      "spatial_size  (16, 16)\n",
      "hist  16\n",
      "orient  9\n",
      "ch1.shape[1]  853\n",
      "pix_per_cell  8\n",
      "(ch1.shape[1] // pix_per_cell)  106\n",
      "cell_per_block  2\n",
      "nxblocks  105\n"
     ]
    },
    {
     "name": "stderr",
     "output_type": "stream",
     "text": [
      "\r",
      " 37%|███▋      | 461/1261 [06:52<11:55,  1.12it/s]"
     ]
    },
    {
     "name": "stdout",
     "output_type": "stream",
     "text": [
      "no. of rectangles found is  11\n",
      "spatial_size  (16, 16)\n",
      "hist  16\n",
      "orient  9\n",
      "ch1.shape[1]  853\n",
      "pix_per_cell  8\n",
      "(ch1.shape[1] // pix_per_cell)  106\n",
      "cell_per_block  2\n",
      "nxblocks  105\n"
     ]
    },
    {
     "name": "stderr",
     "output_type": "stream",
     "text": [
      "\r",
      " 37%|███▋      | 462/1261 [06:53<11:53,  1.12it/s]"
     ]
    },
    {
     "name": "stdout",
     "output_type": "stream",
     "text": [
      "no. of rectangles found is  8\n",
      "spatial_size  (16, 16)\n",
      "hist  16\n",
      "orient  9\n",
      "ch1.shape[1]  853\n",
      "pix_per_cell  8\n",
      "(ch1.shape[1] // pix_per_cell)  106\n",
      "cell_per_block  2\n",
      "nxblocks  105\n"
     ]
    },
    {
     "name": "stderr",
     "output_type": "stream",
     "text": [
      "\r",
      " 37%|███▋      | 463/1261 [06:54<11:52,  1.12it/s]"
     ]
    },
    {
     "name": "stdout",
     "output_type": "stream",
     "text": [
      "no. of rectangles found is  9\n",
      "spatial_size  (16, 16)\n",
      "hist  16\n",
      "orient  9\n",
      "ch1.shape[1]  853\n",
      "pix_per_cell  8\n",
      "(ch1.shape[1] // pix_per_cell)  106\n",
      "cell_per_block  2\n",
      "nxblocks  105\n"
     ]
    },
    {
     "name": "stderr",
     "output_type": "stream",
     "text": [
      "\r",
      " 37%|███▋      | 464/1261 [06:55<11:50,  1.12it/s]"
     ]
    },
    {
     "name": "stdout",
     "output_type": "stream",
     "text": [
      "no. of rectangles found is  7\n",
      "spatial_size  (16, 16)\n",
      "hist  16\n",
      "orient  9\n",
      "ch1.shape[1]  853\n",
      "pix_per_cell  8\n",
      "(ch1.shape[1] // pix_per_cell)  106\n",
      "cell_per_block  2\n",
      "nxblocks  105\n"
     ]
    },
    {
     "name": "stderr",
     "output_type": "stream",
     "text": [
      "\r",
      " 37%|███▋      | 465/1261 [06:56<11:50,  1.12it/s]"
     ]
    },
    {
     "name": "stdout",
     "output_type": "stream",
     "text": [
      "no. of rectangles found is  9\n",
      "spatial_size  (16, 16)\n",
      "hist  16\n",
      "orient  9\n",
      "ch1.shape[1]  853\n",
      "pix_per_cell  8\n",
      "(ch1.shape[1] // pix_per_cell)  106\n",
      "cell_per_block  2\n",
      "nxblocks  105\n"
     ]
    },
    {
     "name": "stderr",
     "output_type": "stream",
     "text": [
      "\r",
      " 37%|███▋      | 466/1261 [06:57<11:49,  1.12it/s]"
     ]
    },
    {
     "name": "stdout",
     "output_type": "stream",
     "text": [
      "no. of rectangles found is  6\n",
      "spatial_size  (16, 16)\n",
      "hist  16\n",
      "orient  9\n",
      "ch1.shape[1]  853\n",
      "pix_per_cell  8\n",
      "(ch1.shape[1] // pix_per_cell)  106\n",
      "cell_per_block  2\n",
      "nxblocks  105\n"
     ]
    },
    {
     "name": "stderr",
     "output_type": "stream",
     "text": [
      "\r",
      " 37%|███▋      | 467/1261 [06:57<11:47,  1.12it/s]"
     ]
    },
    {
     "name": "stdout",
     "output_type": "stream",
     "text": [
      "no. of rectangles found is  5\n",
      "spatial_size  (16, 16)\n",
      "hist  16\n",
      "orient  9\n",
      "ch1.shape[1]  853\n",
      "pix_per_cell  8\n",
      "(ch1.shape[1] // pix_per_cell)  106\n",
      "cell_per_block  2\n",
      "nxblocks  105\n"
     ]
    },
    {
     "name": "stderr",
     "output_type": "stream",
     "text": [
      "\r",
      " 37%|███▋      | 468/1261 [06:58<11:46,  1.12it/s]"
     ]
    },
    {
     "name": "stdout",
     "output_type": "stream",
     "text": [
      "no. of rectangles found is  4\n",
      "spatial_size  (16, 16)\n",
      "hist  16\n",
      "orient  9\n",
      "ch1.shape[1]  853\n",
      "pix_per_cell  8\n",
      "(ch1.shape[1] // pix_per_cell)  106\n",
      "cell_per_block  2\n",
      "nxblocks  105\n"
     ]
    },
    {
     "name": "stderr",
     "output_type": "stream",
     "text": [
      "\r",
      " 37%|███▋      | 469/1261 [06:59<11:45,  1.12it/s]"
     ]
    },
    {
     "name": "stdout",
     "output_type": "stream",
     "text": [
      "no. of rectangles found is  4\n",
      "spatial_size  (16, 16)\n",
      "hist  16\n",
      "orient  9\n",
      "ch1.shape[1]  853\n",
      "pix_per_cell  8\n",
      "(ch1.shape[1] // pix_per_cell)  106\n",
      "cell_per_block  2\n",
      "nxblocks  105\n"
     ]
    },
    {
     "name": "stderr",
     "output_type": "stream",
     "text": [
      "\r",
      " 37%|███▋      | 470/1261 [07:00<11:47,  1.12it/s]"
     ]
    },
    {
     "name": "stdout",
     "output_type": "stream",
     "text": [
      "no. of rectangles found is  10\n",
      "spatial_size  (16, 16)\n",
      "hist  16\n",
      "orient  9\n",
      "ch1.shape[1]  853\n",
      "pix_per_cell  8\n",
      "(ch1.shape[1] // pix_per_cell)  106\n",
      "cell_per_block  2\n",
      "nxblocks  105\n"
     ]
    },
    {
     "name": "stderr",
     "output_type": "stream",
     "text": [
      "\r",
      " 37%|███▋      | 471/1261 [07:01<11:45,  1.12it/s]"
     ]
    },
    {
     "name": "stdout",
     "output_type": "stream",
     "text": [
      "no. of rectangles found is  6\n",
      "spatial_size  (16, 16)\n",
      "hist  16\n",
      "orient  9\n",
      "ch1.shape[1]  853\n",
      "pix_per_cell  8\n",
      "(ch1.shape[1] // pix_per_cell)  106\n",
      "cell_per_block  2\n",
      "nxblocks  105\n"
     ]
    },
    {
     "name": "stderr",
     "output_type": "stream",
     "text": [
      "\r",
      " 37%|███▋      | 472/1261 [07:02<11:45,  1.12it/s]"
     ]
    },
    {
     "name": "stdout",
     "output_type": "stream",
     "text": [
      "no. of rectangles found is  6\n",
      "spatial_size  (16, 16)\n",
      "hist  16\n",
      "orient  9\n",
      "ch1.shape[1]  853\n",
      "pix_per_cell  8\n",
      "(ch1.shape[1] // pix_per_cell)  106\n",
      "cell_per_block  2\n",
      "nxblocks  105\n"
     ]
    },
    {
     "name": "stderr",
     "output_type": "stream",
     "text": [
      "\r",
      " 38%|███▊      | 473/1261 [07:03<11:42,  1.12it/s]"
     ]
    },
    {
     "name": "stdout",
     "output_type": "stream",
     "text": [
      "no. of rectangles found is  7\n",
      "spatial_size  (16, 16)\n",
      "hist  16\n",
      "orient  9\n",
      "ch1.shape[1]  853\n",
      "pix_per_cell  8\n",
      "(ch1.shape[1] // pix_per_cell)  106\n",
      "cell_per_block  2\n",
      "nxblocks  105\n"
     ]
    },
    {
     "name": "stderr",
     "output_type": "stream",
     "text": [
      "\r",
      " 38%|███▊      | 474/1261 [07:04<11:40,  1.12it/s]"
     ]
    },
    {
     "name": "stdout",
     "output_type": "stream",
     "text": [
      "no. of rectangles found is  8\n",
      "spatial_size  (16, 16)\n",
      "hist  16\n",
      "orient  9\n",
      "ch1.shape[1]  853\n",
      "pix_per_cell  8\n",
      "(ch1.shape[1] // pix_per_cell)  106\n",
      "cell_per_block  2\n",
      "nxblocks  105\n"
     ]
    },
    {
     "name": "stderr",
     "output_type": "stream",
     "text": [
      "\r",
      " 38%|███▊      | 475/1261 [07:05<11:51,  1.10it/s]"
     ]
    },
    {
     "name": "stdout",
     "output_type": "stream",
     "text": [
      "no. of rectangles found is  8\n",
      "spatial_size  (16, 16)\n",
      "hist  16\n",
      "orient  9\n",
      "ch1.shape[1]  853\n",
      "pix_per_cell  8\n",
      "(ch1.shape[1] // pix_per_cell)  106\n",
      "cell_per_block  2\n",
      "nxblocks  105\n"
     ]
    },
    {
     "name": "stderr",
     "output_type": "stream",
     "text": [
      "\r",
      " 38%|███▊      | 476/1261 [07:05<11:47,  1.11it/s]"
     ]
    },
    {
     "name": "stdout",
     "output_type": "stream",
     "text": [
      "no. of rectangles found is  8\n",
      "spatial_size  (16, 16)\n",
      "hist  16\n",
      "orient  9\n",
      "ch1.shape[1]  853\n",
      "pix_per_cell  8\n",
      "(ch1.shape[1] // pix_per_cell)  106\n",
      "cell_per_block  2\n",
      "nxblocks  105\n"
     ]
    },
    {
     "name": "stderr",
     "output_type": "stream",
     "text": [
      "\r",
      " 38%|███▊      | 477/1261 [07:06<11:45,  1.11it/s]"
     ]
    },
    {
     "name": "stdout",
     "output_type": "stream",
     "text": [
      "no. of rectangles found is  8\n",
      "spatial_size  (16, 16)\n",
      "hist  16\n",
      "orient  9\n",
      "ch1.shape[1]  853\n",
      "pix_per_cell  8\n",
      "(ch1.shape[1] // pix_per_cell)  106\n",
      "cell_per_block  2\n",
      "nxblocks  105\n"
     ]
    },
    {
     "name": "stderr",
     "output_type": "stream",
     "text": [
      "\r",
      " 38%|███▊      | 478/1261 [07:07<11:41,  1.12it/s]"
     ]
    },
    {
     "name": "stdout",
     "output_type": "stream",
     "text": [
      "no. of rectangles found is  6\n",
      "spatial_size  (16, 16)\n",
      "hist  16\n",
      "orient  9\n",
      "ch1.shape[1]  853\n",
      "pix_per_cell  8\n",
      "(ch1.shape[1] // pix_per_cell)  106\n",
      "cell_per_block  2\n",
      "nxblocks  105\n"
     ]
    },
    {
     "name": "stderr",
     "output_type": "stream",
     "text": [
      "\r",
      " 38%|███▊      | 479/1261 [07:08<11:39,  1.12it/s]"
     ]
    },
    {
     "name": "stdout",
     "output_type": "stream",
     "text": [
      "no. of rectangles found is  11\n",
      "spatial_size  (16, 16)\n",
      "hist  16\n",
      "orient  9\n",
      "ch1.shape[1]  853\n",
      "pix_per_cell  8\n",
      "(ch1.shape[1] // pix_per_cell)  106\n",
      "cell_per_block  2\n",
      "nxblocks  105\n"
     ]
    },
    {
     "name": "stderr",
     "output_type": "stream",
     "text": [
      "\r",
      " 38%|███▊      | 480/1261 [07:09<11:33,  1.13it/s]"
     ]
    },
    {
     "name": "stdout",
     "output_type": "stream",
     "text": [
      "no. of rectangles found is  12\n",
      "spatial_size  (16, 16)\n",
      "hist  16\n",
      "orient  9\n",
      "ch1.shape[1]  853\n",
      "pix_per_cell  8\n",
      "(ch1.shape[1] // pix_per_cell)  106\n",
      "cell_per_block  2\n",
      "nxblocks  105\n"
     ]
    },
    {
     "name": "stderr",
     "output_type": "stream",
     "text": [
      "\r",
      " 38%|███▊      | 481/1261 [07:10<11:29,  1.13it/s]"
     ]
    },
    {
     "name": "stdout",
     "output_type": "stream",
     "text": [
      "no. of rectangles found is  8\n",
      "spatial_size  (16, 16)\n",
      "hist  16\n",
      "orient  9\n",
      "ch1.shape[1]  853\n",
      "pix_per_cell  8\n",
      "(ch1.shape[1] // pix_per_cell)  106\n",
      "cell_per_block  2\n",
      "nxblocks  105\n"
     ]
    },
    {
     "name": "stderr",
     "output_type": "stream",
     "text": [
      "\r",
      " 38%|███▊      | 482/1261 [07:11<11:30,  1.13it/s]"
     ]
    },
    {
     "name": "stdout",
     "output_type": "stream",
     "text": [
      "no. of rectangles found is  15\n",
      "spatial_size  (16, 16)\n",
      "hist  16\n",
      "orient  9\n",
      "ch1.shape[1]  853\n",
      "pix_per_cell  8\n",
      "(ch1.shape[1] // pix_per_cell)  106\n",
      "cell_per_block  2\n",
      "nxblocks  105\n"
     ]
    },
    {
     "name": "stderr",
     "output_type": "stream",
     "text": [
      "\r",
      " 38%|███▊      | 483/1261 [07:12<11:36,  1.12it/s]"
     ]
    },
    {
     "name": "stdout",
     "output_type": "stream",
     "text": [
      "no. of rectangles found is  21\n",
      "spatial_size  (16, 16)\n",
      "hist  16\n",
      "orient  9\n",
      "ch1.shape[1]  853\n",
      "pix_per_cell  8\n",
      "(ch1.shape[1] // pix_per_cell)  106\n",
      "cell_per_block  2\n",
      "nxblocks  105\n"
     ]
    },
    {
     "name": "stderr",
     "output_type": "stream",
     "text": [
      "\r",
      " 38%|███▊      | 484/1261 [07:13<11:38,  1.11it/s]"
     ]
    },
    {
     "name": "stdout",
     "output_type": "stream",
     "text": [
      "no. of rectangles found is  21\n",
      "spatial_size  (16, 16)\n",
      "hist  16\n",
      "orient  9\n",
      "ch1.shape[1]  853\n",
      "pix_per_cell  8\n",
      "(ch1.shape[1] // pix_per_cell)  106\n",
      "cell_per_block  2\n",
      "nxblocks  105\n"
     ]
    },
    {
     "name": "stderr",
     "output_type": "stream",
     "text": [
      "\r",
      " 38%|███▊      | 485/1261 [07:14<11:34,  1.12it/s]"
     ]
    },
    {
     "name": "stdout",
     "output_type": "stream",
     "text": [
      "no. of rectangles found is  12\n",
      "spatial_size  (16, 16)\n",
      "hist  16\n",
      "orient  9\n",
      "ch1.shape[1]  853\n",
      "pix_per_cell  8\n",
      "(ch1.shape[1] // pix_per_cell)  106\n",
      "cell_per_block  2\n",
      "nxblocks  105\n"
     ]
    },
    {
     "name": "stderr",
     "output_type": "stream",
     "text": [
      "\r",
      " 39%|███▊      | 486/1261 [07:14<11:33,  1.12it/s]"
     ]
    },
    {
     "name": "stdout",
     "output_type": "stream",
     "text": [
      "no. of rectangles found is  14\n",
      "spatial_size  (16, 16)\n",
      "hist  16\n",
      "orient  9\n",
      "ch1.shape[1]  853\n",
      "pix_per_cell  8\n",
      "(ch1.shape[1] // pix_per_cell)  106\n",
      "cell_per_block  2\n",
      "nxblocks  105\n"
     ]
    },
    {
     "name": "stderr",
     "output_type": "stream",
     "text": [
      "\r",
      " 39%|███▊      | 487/1261 [07:15<11:31,  1.12it/s]"
     ]
    },
    {
     "name": "stdout",
     "output_type": "stream",
     "text": [
      "no. of rectangles found is  8\n",
      "spatial_size  (16, 16)\n",
      "hist  16\n",
      "orient  9\n",
      "ch1.shape[1]  853\n",
      "pix_per_cell  8\n",
      "(ch1.shape[1] // pix_per_cell)  106\n",
      "cell_per_block  2\n",
      "nxblocks  105\n"
     ]
    },
    {
     "name": "stderr",
     "output_type": "stream",
     "text": [
      "\r",
      " 39%|███▊      | 488/1261 [07:16<11:35,  1.11it/s]"
     ]
    },
    {
     "name": "stdout",
     "output_type": "stream",
     "text": [
      "no. of rectangles found is  13\n",
      "spatial_size  (16, 16)\n",
      "hist  16\n",
      "orient  9\n",
      "ch1.shape[1]  853\n",
      "pix_per_cell  8\n",
      "(ch1.shape[1] // pix_per_cell)  106\n",
      "cell_per_block  2\n",
      "nxblocks  105\n"
     ]
    },
    {
     "name": "stderr",
     "output_type": "stream",
     "text": [
      "\r",
      " 39%|███▉      | 489/1261 [07:17<11:33,  1.11it/s]"
     ]
    },
    {
     "name": "stdout",
     "output_type": "stream",
     "text": [
      "no. of rectangles found is  12\n",
      "spatial_size  (16, 16)\n",
      "hist  16\n",
      "orient  9\n",
      "ch1.shape[1]  853\n",
      "pix_per_cell  8\n",
      "(ch1.shape[1] // pix_per_cell)  106\n",
      "cell_per_block  2\n",
      "nxblocks  105\n"
     ]
    },
    {
     "name": "stderr",
     "output_type": "stream",
     "text": [
      "\r",
      " 39%|███▉      | 490/1261 [07:18<11:26,  1.12it/s]"
     ]
    },
    {
     "name": "stdout",
     "output_type": "stream",
     "text": [
      "no. of rectangles found is  10\n",
      "spatial_size  (16, 16)\n",
      "hist  16\n",
      "orient  9\n",
      "ch1.shape[1]  853\n",
      "pix_per_cell  8\n",
      "(ch1.shape[1] // pix_per_cell)  106\n",
      "cell_per_block  2\n",
      "nxblocks  105\n"
     ]
    },
    {
     "name": "stderr",
     "output_type": "stream",
     "text": [
      "\r",
      " 39%|███▉      | 491/1261 [07:19<11:24,  1.12it/s]"
     ]
    },
    {
     "name": "stdout",
     "output_type": "stream",
     "text": [
      "no. of rectangles found is  6\n",
      "spatial_size  (16, 16)\n",
      "hist  16\n",
      "orient  9\n",
      "ch1.shape[1]  853\n",
      "pix_per_cell  8\n",
      "(ch1.shape[1] // pix_per_cell)  106\n",
      "cell_per_block  2\n",
      "nxblocks  105\n"
     ]
    },
    {
     "name": "stderr",
     "output_type": "stream",
     "text": [
      "\r",
      " 39%|███▉      | 492/1261 [07:20<11:26,  1.12it/s]"
     ]
    },
    {
     "name": "stdout",
     "output_type": "stream",
     "text": [
      "no. of rectangles found is  14\n",
      "spatial_size  (16, 16)\n",
      "hist  16\n",
      "orient  9\n",
      "ch1.shape[1]  853\n",
      "pix_per_cell  8\n",
      "(ch1.shape[1] // pix_per_cell)  106\n",
      "cell_per_block  2\n",
      "nxblocks  105\n"
     ]
    },
    {
     "name": "stderr",
     "output_type": "stream",
     "text": [
      "\r",
      " 39%|███▉      | 493/1261 [07:21<11:42,  1.09it/s]"
     ]
    },
    {
     "name": "stdout",
     "output_type": "stream",
     "text": [
      "no. of rectangles found is  15\n",
      "spatial_size  (16, 16)\n",
      "hist  16\n",
      "orient  9\n",
      "ch1.shape[1]  853\n",
      "pix_per_cell  8\n",
      "(ch1.shape[1] // pix_per_cell)  106\n",
      "cell_per_block  2\n",
      "nxblocks  105\n"
     ]
    },
    {
     "name": "stderr",
     "output_type": "stream",
     "text": [
      "\r",
      " 39%|███▉      | 494/1261 [07:22<11:36,  1.10it/s]"
     ]
    },
    {
     "name": "stdout",
     "output_type": "stream",
     "text": [
      "no. of rectangles found is  12\n",
      "spatial_size  (16, 16)\n",
      "hist  16\n",
      "orient  9\n",
      "ch1.shape[1]  853\n",
      "pix_per_cell  8\n",
      "(ch1.shape[1] // pix_per_cell)  106\n",
      "cell_per_block  2\n",
      "nxblocks  105\n"
     ]
    },
    {
     "name": "stderr",
     "output_type": "stream",
     "text": [
      "\r",
      " 39%|███▉      | 495/1261 [07:23<11:32,  1.11it/s]"
     ]
    },
    {
     "name": "stdout",
     "output_type": "stream",
     "text": [
      "no. of rectangles found is  10\n",
      "spatial_size  (16, 16)\n",
      "hist  16\n",
      "orient  9\n",
      "ch1.shape[1]  853\n",
      "pix_per_cell  8\n",
      "(ch1.shape[1] // pix_per_cell)  106\n",
      "cell_per_block  2\n",
      "nxblocks  105\n"
     ]
    },
    {
     "name": "stderr",
     "output_type": "stream",
     "text": [
      "\r",
      " 39%|███▉      | 496/1261 [07:23<11:28,  1.11it/s]"
     ]
    },
    {
     "name": "stdout",
     "output_type": "stream",
     "text": [
      "no. of rectangles found is  11\n",
      "spatial_size  (16, 16)\n",
      "hist  16\n",
      "orient  9\n",
      "ch1.shape[1]  853\n",
      "pix_per_cell  8\n",
      "(ch1.shape[1] // pix_per_cell)  106\n",
      "cell_per_block  2\n",
      "nxblocks  105\n"
     ]
    },
    {
     "name": "stderr",
     "output_type": "stream",
     "text": [
      "\r",
      " 39%|███▉      | 497/1261 [07:24<11:26,  1.11it/s]"
     ]
    },
    {
     "name": "stdout",
     "output_type": "stream",
     "text": [
      "no. of rectangles found is  12\n",
      "spatial_size  (16, 16)\n",
      "hist  16\n",
      "orient  9\n",
      "ch1.shape[1]  853\n",
      "pix_per_cell  8\n",
      "(ch1.shape[1] // pix_per_cell)  106\n",
      "cell_per_block  2\n",
      "nxblocks  105\n"
     ]
    },
    {
     "name": "stderr",
     "output_type": "stream",
     "text": [
      "\r",
      " 39%|███▉      | 498/1261 [07:25<11:23,  1.12it/s]"
     ]
    },
    {
     "name": "stdout",
     "output_type": "stream",
     "text": [
      "no. of rectangles found is  12\n",
      "spatial_size  (16, 16)\n",
      "hist  16\n",
      "orient  9\n",
      "ch1.shape[1]  853\n",
      "pix_per_cell  8\n",
      "(ch1.shape[1] // pix_per_cell)  106\n",
      "cell_per_block  2\n",
      "nxblocks  105\n"
     ]
    },
    {
     "name": "stderr",
     "output_type": "stream",
     "text": [
      "\r",
      " 40%|███▉      | 499/1261 [07:26<11:20,  1.12it/s]"
     ]
    },
    {
     "name": "stdout",
     "output_type": "stream",
     "text": [
      "no. of rectangles found is  9\n",
      "spatial_size  (16, 16)\n",
      "hist  16\n",
      "orient  9\n",
      "ch1.shape[1]  853\n",
      "pix_per_cell  8\n",
      "(ch1.shape[1] // pix_per_cell)  106\n",
      "cell_per_block  2\n",
      "nxblocks  105\n"
     ]
    },
    {
     "name": "stderr",
     "output_type": "stream",
     "text": [
      "\r",
      " 40%|███▉      | 500/1261 [07:27<11:18,  1.12it/s]"
     ]
    },
    {
     "name": "stdout",
     "output_type": "stream",
     "text": [
      "no. of rectangles found is  14\n",
      "spatial_size  (16, 16)\n",
      "hist  16\n",
      "orient  9\n",
      "ch1.shape[1]  853\n",
      "pix_per_cell  8\n",
      "(ch1.shape[1] // pix_per_cell)  106\n",
      "cell_per_block  2\n",
      "nxblocks  105\n"
     ]
    },
    {
     "name": "stderr",
     "output_type": "stream",
     "text": [
      "\r",
      " 40%|███▉      | 501/1261 [07:28<11:20,  1.12it/s]"
     ]
    },
    {
     "name": "stdout",
     "output_type": "stream",
     "text": [
      "no. of rectangles found is  10\n",
      "spatial_size  (16, 16)\n",
      "hist  16\n",
      "orient  9\n",
      "ch1.shape[1]  853\n",
      "pix_per_cell  8\n",
      "(ch1.shape[1] // pix_per_cell)  106\n",
      "cell_per_block  2\n",
      "nxblocks  105\n"
     ]
    },
    {
     "name": "stderr",
     "output_type": "stream",
     "text": [
      "\r",
      " 40%|███▉      | 502/1261 [07:29<11:16,  1.12it/s]"
     ]
    },
    {
     "name": "stdout",
     "output_type": "stream",
     "text": [
      "no. of rectangles found is  8\n",
      "spatial_size  (16, 16)\n",
      "hist  16\n",
      "orient  9\n",
      "ch1.shape[1]  853\n",
      "pix_per_cell  8\n",
      "(ch1.shape[1] // pix_per_cell)  106\n",
      "cell_per_block  2\n",
      "nxblocks  105\n"
     ]
    },
    {
     "name": "stderr",
     "output_type": "stream",
     "text": [
      "\r",
      " 40%|███▉      | 503/1261 [07:30<11:15,  1.12it/s]"
     ]
    },
    {
     "name": "stdout",
     "output_type": "stream",
     "text": [
      "no. of rectangles found is  9\n",
      "spatial_size  (16, 16)\n",
      "hist  16\n",
      "orient  9\n",
      "ch1.shape[1]  853\n",
      "pix_per_cell  8\n",
      "(ch1.shape[1] // pix_per_cell)  106\n",
      "cell_per_block  2\n",
      "nxblocks  105\n"
     ]
    },
    {
     "name": "stderr",
     "output_type": "stream",
     "text": [
      "\r",
      " 40%|███▉      | 504/1261 [07:31<11:15,  1.12it/s]"
     ]
    },
    {
     "name": "stdout",
     "output_type": "stream",
     "text": [
      "no. of rectangles found is  13\n",
      "spatial_size  (16, 16)\n",
      "hist  16\n",
      "orient  9\n",
      "ch1.shape[1]  853\n",
      "pix_per_cell  8\n",
      "(ch1.shape[1] // pix_per_cell)  106\n",
      "cell_per_block  2\n",
      "nxblocks  105\n"
     ]
    },
    {
     "name": "stderr",
     "output_type": "stream",
     "text": [
      "\r",
      " 40%|████      | 505/1261 [07:31<11:14,  1.12it/s]"
     ]
    },
    {
     "name": "stdout",
     "output_type": "stream",
     "text": [
      "no. of rectangles found is  7\n",
      "spatial_size  (16, 16)\n",
      "hist  16\n",
      "orient  9\n",
      "ch1.shape[1]  853\n",
      "pix_per_cell  8\n",
      "(ch1.shape[1] // pix_per_cell)  106\n",
      "cell_per_block  2\n",
      "nxblocks  105\n"
     ]
    },
    {
     "name": "stderr",
     "output_type": "stream",
     "text": [
      "\r",
      " 40%|████      | 506/1261 [07:32<11:23,  1.10it/s]"
     ]
    },
    {
     "name": "stdout",
     "output_type": "stream",
     "text": [
      "no. of rectangles found is  6\n",
      "spatial_size  (16, 16)\n",
      "hist  16\n",
      "orient  9\n",
      "ch1.shape[1]  853\n",
      "pix_per_cell  8\n",
      "(ch1.shape[1] // pix_per_cell)  106\n",
      "cell_per_block  2\n",
      "nxblocks  105\n"
     ]
    },
    {
     "name": "stderr",
     "output_type": "stream",
     "text": [
      "\r",
      " 40%|████      | 507/1261 [07:33<11:20,  1.11it/s]"
     ]
    },
    {
     "name": "stdout",
     "output_type": "stream",
     "text": [
      "no. of rectangles found is  8\n",
      "spatial_size  (16, 16)\n",
      "hist  16\n",
      "orient  9\n",
      "ch1.shape[1]  853\n",
      "pix_per_cell  8\n",
      "(ch1.shape[1] // pix_per_cell)  106\n",
      "cell_per_block  2\n",
      "nxblocks  105\n"
     ]
    },
    {
     "name": "stderr",
     "output_type": "stream",
     "text": [
      "\r",
      " 40%|████      | 508/1261 [07:34<11:17,  1.11it/s]"
     ]
    },
    {
     "name": "stdout",
     "output_type": "stream",
     "text": [
      "no. of rectangles found is  9\n",
      "spatial_size  (16, 16)\n",
      "hist  16\n",
      "orient  9\n",
      "ch1.shape[1]  853\n",
      "pix_per_cell  8\n",
      "(ch1.shape[1] // pix_per_cell)  106\n",
      "cell_per_block  2\n",
      "nxblocks  105\n"
     ]
    },
    {
     "name": "stderr",
     "output_type": "stream",
     "text": [
      "\r",
      " 40%|████      | 509/1261 [07:35<11:13,  1.12it/s]"
     ]
    },
    {
     "name": "stdout",
     "output_type": "stream",
     "text": [
      "no. of rectangles found is  12\n",
      "spatial_size  (16, 16)\n",
      "hist  16\n",
      "orient  9\n",
      "ch1.shape[1]  853\n",
      "pix_per_cell  8\n",
      "(ch1.shape[1] // pix_per_cell)  106\n",
      "cell_per_block  2\n",
      "nxblocks  105\n"
     ]
    },
    {
     "name": "stderr",
     "output_type": "stream",
     "text": [
      "\r",
      " 40%|████      | 510/1261 [07:36<11:11,  1.12it/s]"
     ]
    },
    {
     "name": "stdout",
     "output_type": "stream",
     "text": [
      "no. of rectangles found is  7\n",
      "spatial_size  (16, 16)\n",
      "hist  16\n",
      "orient  9\n",
      "ch1.shape[1]  853\n",
      "pix_per_cell  8\n",
      "(ch1.shape[1] // pix_per_cell)  106\n",
      "cell_per_block  2\n",
      "nxblocks  105\n"
     ]
    },
    {
     "name": "stderr",
     "output_type": "stream",
     "text": [
      "\r",
      " 41%|████      | 511/1261 [07:37<11:09,  1.12it/s]"
     ]
    },
    {
     "name": "stdout",
     "output_type": "stream",
     "text": [
      "no. of rectangles found is  7\n",
      "spatial_size  (16, 16)\n",
      "hist  16\n",
      "orient  9\n",
      "ch1.shape[1]  853\n",
      "pix_per_cell  8\n",
      "(ch1.shape[1] // pix_per_cell)  106\n",
      "cell_per_block  2\n",
      "nxblocks  105\n"
     ]
    },
    {
     "name": "stderr",
     "output_type": "stream",
     "text": [
      "\r",
      " 41%|████      | 512/1261 [07:38<11:06,  1.12it/s]"
     ]
    },
    {
     "name": "stdout",
     "output_type": "stream",
     "text": [
      "no. of rectangles found is  8\n",
      "spatial_size  (16, 16)\n",
      "hist  16\n",
      "orient  9\n",
      "ch1.shape[1]  853\n",
      "pix_per_cell  8\n",
      "(ch1.shape[1] // pix_per_cell)  106\n",
      "cell_per_block  2\n",
      "nxblocks  105\n"
     ]
    },
    {
     "name": "stderr",
     "output_type": "stream",
     "text": [
      "\r",
      " 41%|████      | 513/1261 [07:39<11:07,  1.12it/s]"
     ]
    },
    {
     "name": "stdout",
     "output_type": "stream",
     "text": [
      "no. of rectangles found is  14\n",
      "spatial_size  (16, 16)\n",
      "hist  16\n",
      "orient  9\n",
      "ch1.shape[1]  853\n",
      "pix_per_cell  8\n",
      "(ch1.shape[1] // pix_per_cell)  106\n",
      "cell_per_block  2\n",
      "nxblocks  105\n"
     ]
    },
    {
     "name": "stderr",
     "output_type": "stream",
     "text": [
      "\r",
      " 41%|████      | 514/1261 [07:40<11:06,  1.12it/s]"
     ]
    },
    {
     "name": "stdout",
     "output_type": "stream",
     "text": [
      "no. of rectangles found is  14\n",
      "spatial_size  (16, 16)\n",
      "hist  16\n",
      "orient  9\n",
      "ch1.shape[1]  853\n",
      "pix_per_cell  8\n",
      "(ch1.shape[1] // pix_per_cell)  106\n",
      "cell_per_block  2\n",
      "nxblocks  105\n"
     ]
    },
    {
     "name": "stderr",
     "output_type": "stream",
     "text": [
      "\r",
      " 41%|████      | 515/1261 [07:40<11:07,  1.12it/s]"
     ]
    },
    {
     "name": "stdout",
     "output_type": "stream",
     "text": [
      "no. of rectangles found is  24\n",
      "spatial_size  (16, 16)\n",
      "hist  16\n",
      "orient  9\n",
      "ch1.shape[1]  853\n",
      "pix_per_cell  8\n",
      "(ch1.shape[1] // pix_per_cell)  106\n",
      "cell_per_block  2\n",
      "nxblocks  105\n"
     ]
    },
    {
     "name": "stderr",
     "output_type": "stream",
     "text": [
      "\r",
      " 41%|████      | 516/1261 [07:41<11:13,  1.11it/s]"
     ]
    },
    {
     "name": "stdout",
     "output_type": "stream",
     "text": [
      "no. of rectangles found is  26\n",
      "spatial_size  (16, 16)\n",
      "hist  16\n",
      "orient  9\n",
      "ch1.shape[1]  853\n",
      "pix_per_cell  8\n",
      "(ch1.shape[1] // pix_per_cell)  106\n",
      "cell_per_block  2\n",
      "nxblocks  105\n"
     ]
    },
    {
     "name": "stderr",
     "output_type": "stream",
     "text": [
      "\r",
      " 41%|████      | 517/1261 [07:42<11:12,  1.11it/s]"
     ]
    },
    {
     "name": "stdout",
     "output_type": "stream",
     "text": [
      "no. of rectangles found is  24\n",
      "spatial_size  (16, 16)\n",
      "hist  16\n",
      "orient  9\n",
      "ch1.shape[1]  853\n",
      "pix_per_cell  8\n",
      "(ch1.shape[1] // pix_per_cell)  106\n",
      "cell_per_block  2\n",
      "nxblocks  105\n"
     ]
    },
    {
     "name": "stderr",
     "output_type": "stream",
     "text": [
      "\r",
      " 41%|████      | 518/1261 [07:43<11:15,  1.10it/s]"
     ]
    },
    {
     "name": "stdout",
     "output_type": "stream",
     "text": [
      "no. of rectangles found is  14\n",
      "spatial_size  (16, 16)\n",
      "hist  16\n",
      "orient  9\n",
      "ch1.shape[1]  853\n",
      "pix_per_cell  8\n",
      "(ch1.shape[1] // pix_per_cell)  106\n",
      "cell_per_block  2\n",
      "nxblocks  105\n"
     ]
    },
    {
     "name": "stderr",
     "output_type": "stream",
     "text": [
      "\r",
      " 41%|████      | 519/1261 [07:44<11:17,  1.10it/s]"
     ]
    },
    {
     "name": "stdout",
     "output_type": "stream",
     "text": [
      "no. of rectangles found is  23\n",
      "spatial_size  (16, 16)\n",
      "hist  16\n",
      "orient  9\n",
      "ch1.shape[1]  853\n",
      "pix_per_cell  8\n",
      "(ch1.shape[1] // pix_per_cell)  106\n",
      "cell_per_block  2\n",
      "nxblocks  105\n"
     ]
    },
    {
     "name": "stderr",
     "output_type": "stream",
     "text": [
      "\r",
      " 41%|████      | 520/1261 [07:45<11:10,  1.11it/s]"
     ]
    },
    {
     "name": "stdout",
     "output_type": "stream",
     "text": [
      "no. of rectangles found is  15\n",
      "spatial_size  (16, 16)\n",
      "hist  16\n",
      "orient  9\n",
      "ch1.shape[1]  853\n",
      "pix_per_cell  8\n",
      "(ch1.shape[1] // pix_per_cell)  106\n",
      "cell_per_block  2\n",
      "nxblocks  105\n"
     ]
    },
    {
     "name": "stderr",
     "output_type": "stream",
     "text": [
      "\r",
      " 41%|████▏     | 521/1261 [07:46<11:05,  1.11it/s]"
     ]
    },
    {
     "name": "stdout",
     "output_type": "stream",
     "text": [
      "no. of rectangles found is  19\n",
      "spatial_size  (16, 16)\n",
      "hist  16\n",
      "orient  9\n",
      "ch1.shape[1]  853\n",
      "pix_per_cell  8\n",
      "(ch1.shape[1] // pix_per_cell)  106\n",
      "cell_per_block  2\n",
      "nxblocks  105\n"
     ]
    },
    {
     "name": "stderr",
     "output_type": "stream",
     "text": [
      "\r",
      " 41%|████▏     | 522/1261 [07:47<11:03,  1.11it/s]"
     ]
    },
    {
     "name": "stdout",
     "output_type": "stream",
     "text": [
      "no. of rectangles found is  18\n",
      "spatial_size  (16, 16)\n",
      "hist  16\n",
      "orient  9\n",
      "ch1.shape[1]  853\n",
      "pix_per_cell  8\n",
      "(ch1.shape[1] // pix_per_cell)  106\n",
      "cell_per_block  2\n",
      "nxblocks  105\n"
     ]
    },
    {
     "name": "stderr",
     "output_type": "stream",
     "text": [
      "\r",
      " 41%|████▏     | 523/1261 [07:48<10:58,  1.12it/s]"
     ]
    },
    {
     "name": "stdout",
     "output_type": "stream",
     "text": [
      "no. of rectangles found is  22\n",
      "spatial_size  (16, 16)\n",
      "hist  16\n",
      "orient  9\n",
      "ch1.shape[1]  853\n",
      "pix_per_cell  8\n",
      "(ch1.shape[1] // pix_per_cell)  106\n",
      "cell_per_block  2\n",
      "nxblocks  105\n"
     ]
    },
    {
     "name": "stderr",
     "output_type": "stream",
     "text": [
      "\r",
      " 42%|████▏     | 524/1261 [07:49<10:56,  1.12it/s]"
     ]
    },
    {
     "name": "stdout",
     "output_type": "stream",
     "text": [
      "no. of rectangles found is  21\n",
      "spatial_size  (16, 16)\n",
      "hist  16\n",
      "orient  9\n",
      "ch1.shape[1]  853\n",
      "pix_per_cell  8\n",
      "(ch1.shape[1] // pix_per_cell)  106\n",
      "cell_per_block  2\n",
      "nxblocks  105\n"
     ]
    },
    {
     "name": "stderr",
     "output_type": "stream",
     "text": [
      "\r",
      " 42%|████▏     | 525/1261 [07:49<10:55,  1.12it/s]"
     ]
    },
    {
     "name": "stdout",
     "output_type": "stream",
     "text": [
      "no. of rectangles found is  17\n",
      "spatial_size  (16, 16)\n",
      "hist  16\n",
      "orient  9\n",
      "ch1.shape[1]  853\n",
      "pix_per_cell  8\n",
      "(ch1.shape[1] // pix_per_cell)  106\n",
      "cell_per_block  2\n",
      "nxblocks  105\n"
     ]
    },
    {
     "name": "stderr",
     "output_type": "stream",
     "text": [
      "\r",
      " 42%|████▏     | 526/1261 [07:50<11:15,  1.09it/s]"
     ]
    },
    {
     "name": "stdout",
     "output_type": "stream",
     "text": [
      "no. of rectangles found is  18\n",
      "spatial_size  (16, 16)\n",
      "hist  16\n",
      "orient  9\n",
      "ch1.shape[1]  853\n",
      "pix_per_cell  8\n",
      "(ch1.shape[1] // pix_per_cell)  106\n",
      "cell_per_block  2\n",
      "nxblocks  105\n"
     ]
    },
    {
     "name": "stderr",
     "output_type": "stream",
     "text": [
      "\r",
      " 42%|████▏     | 527/1261 [07:51<11:09,  1.10it/s]"
     ]
    },
    {
     "name": "stdout",
     "output_type": "stream",
     "text": [
      "no. of rectangles found is  17\n",
      "spatial_size  (16, 16)\n",
      "hist  16\n",
      "orient  9\n",
      "ch1.shape[1]  853\n",
      "pix_per_cell  8\n",
      "(ch1.shape[1] // pix_per_cell)  106\n",
      "cell_per_block  2\n",
      "nxblocks  105\n"
     ]
    },
    {
     "name": "stderr",
     "output_type": "stream",
     "text": [
      "\r",
      " 42%|████▏     | 528/1261 [07:52<11:11,  1.09it/s]"
     ]
    },
    {
     "name": "stdout",
     "output_type": "stream",
     "text": [
      "no. of rectangles found is  26\n",
      "spatial_size  (16, 16)\n",
      "hist  16\n",
      "orient  9\n",
      "ch1.shape[1]  853\n",
      "pix_per_cell  8\n",
      "(ch1.shape[1] // pix_per_cell)  106\n",
      "cell_per_block  2\n",
      "nxblocks  105\n"
     ]
    },
    {
     "name": "stderr",
     "output_type": "stream",
     "text": [
      "\r",
      " 42%|████▏     | 529/1261 [07:53<11:04,  1.10it/s]"
     ]
    },
    {
     "name": "stdout",
     "output_type": "stream",
     "text": [
      "no. of rectangles found is  22\n",
      "spatial_size  (16, 16)\n",
      "hist  16\n",
      "orient  9\n",
      "ch1.shape[1]  853\n",
      "pix_per_cell  8\n",
      "(ch1.shape[1] // pix_per_cell)  106\n",
      "cell_per_block  2\n",
      "nxblocks  105\n"
     ]
    },
    {
     "name": "stderr",
     "output_type": "stream",
     "text": [
      "\r",
      " 42%|████▏     | 530/1261 [07:54<11:01,  1.10it/s]"
     ]
    },
    {
     "name": "stdout",
     "output_type": "stream",
     "text": [
      "no. of rectangles found is  26\n",
      "spatial_size  (16, 16)\n",
      "hist  16\n",
      "orient  9\n",
      "ch1.shape[1]  853\n",
      "pix_per_cell  8\n",
      "(ch1.shape[1] // pix_per_cell)  106\n",
      "cell_per_block  2\n",
      "nxblocks  105\n"
     ]
    },
    {
     "name": "stderr",
     "output_type": "stream",
     "text": [
      "\r",
      " 42%|████▏     | 531/1261 [07:55<10:56,  1.11it/s]"
     ]
    },
    {
     "name": "stdout",
     "output_type": "stream",
     "text": [
      "no. of rectangles found is  16\n",
      "spatial_size  (16, 16)\n",
      "hist  16\n",
      "orient  9\n",
      "ch1.shape[1]  853\n",
      "pix_per_cell  8\n",
      "(ch1.shape[1] // pix_per_cell)  106\n",
      "cell_per_block  2\n",
      "nxblocks  105\n"
     ]
    },
    {
     "name": "stderr",
     "output_type": "stream",
     "text": [
      "\r",
      " 42%|████▏     | 532/1261 [07:56<10:53,  1.12it/s]"
     ]
    },
    {
     "name": "stdout",
     "output_type": "stream",
     "text": [
      "no. of rectangles found is  11\n",
      "spatial_size  (16, 16)\n",
      "hist  16\n",
      "orient  9\n",
      "ch1.shape[1]  853\n",
      "pix_per_cell  8\n",
      "(ch1.shape[1] // pix_per_cell)  106\n",
      "cell_per_block  2\n",
      "nxblocks  105\n"
     ]
    },
    {
     "name": "stderr",
     "output_type": "stream",
     "text": [
      "\r",
      " 42%|████▏     | 533/1261 [07:57<10:51,  1.12it/s]"
     ]
    },
    {
     "name": "stdout",
     "output_type": "stream",
     "text": [
      "no. of rectangles found is  14\n",
      "spatial_size  (16, 16)\n",
      "hist  16\n",
      "orient  9\n",
      "ch1.shape[1]  853\n",
      "pix_per_cell  8\n",
      "(ch1.shape[1] // pix_per_cell)  106\n",
      "cell_per_block  2\n",
      "nxblocks  105\n"
     ]
    },
    {
     "name": "stderr",
     "output_type": "stream",
     "text": [
      "\r",
      " 42%|████▏     | 534/1261 [07:58<10:48,  1.12it/s]"
     ]
    },
    {
     "name": "stdout",
     "output_type": "stream",
     "text": [
      "no. of rectangles found is  18\n",
      "spatial_size  (16, 16)\n",
      "hist  16\n",
      "orient  9\n",
      "ch1.shape[1]  853\n",
      "pix_per_cell  8\n",
      "(ch1.shape[1] // pix_per_cell)  106\n",
      "cell_per_block  2\n",
      "nxblocks  105\n"
     ]
    },
    {
     "name": "stderr",
     "output_type": "stream",
     "text": [
      "\r",
      " 42%|████▏     | 535/1261 [07:58<10:45,  1.12it/s]"
     ]
    },
    {
     "name": "stdout",
     "output_type": "stream",
     "text": [
      "no. of rectangles found is  15\n",
      "spatial_size  (16, 16)\n",
      "hist  16\n",
      "orient  9\n",
      "ch1.shape[1]  853\n",
      "pix_per_cell  8\n",
      "(ch1.shape[1] // pix_per_cell)  106\n",
      "cell_per_block  2\n",
      "nxblocks  105\n"
     ]
    },
    {
     "name": "stderr",
     "output_type": "stream",
     "text": [
      "\r",
      " 43%|████▎     | 536/1261 [07:59<10:43,  1.13it/s]"
     ]
    },
    {
     "name": "stdout",
     "output_type": "stream",
     "text": [
      "no. of rectangles found is  8\n",
      "spatial_size  (16, 16)\n",
      "hist  16\n",
      "orient  9\n",
      "ch1.shape[1]  853\n",
      "pix_per_cell  8\n",
      "(ch1.shape[1] // pix_per_cell)  106\n",
      "cell_per_block  2\n",
      "nxblocks  105\n"
     ]
    },
    {
     "name": "stderr",
     "output_type": "stream",
     "text": [
      "\r",
      " 43%|████▎     | 537/1261 [08:00<10:45,  1.12it/s]"
     ]
    },
    {
     "name": "stdout",
     "output_type": "stream",
     "text": [
      "no. of rectangles found is  20\n",
      "spatial_size  (16, 16)\n",
      "hist  16\n",
      "orient  9\n",
      "ch1.shape[1]  853\n",
      "pix_per_cell  8\n",
      "(ch1.shape[1] // pix_per_cell)  106\n",
      "cell_per_block  2\n",
      "nxblocks  105\n"
     ]
    },
    {
     "name": "stderr",
     "output_type": "stream",
     "text": [
      "\r",
      " 43%|████▎     | 538/1261 [08:01<10:44,  1.12it/s]"
     ]
    },
    {
     "name": "stdout",
     "output_type": "stream",
     "text": [
      "no. of rectangles found is  21\n",
      "spatial_size  (16, 16)\n",
      "hist  16\n",
      "orient  9\n",
      "ch1.shape[1]  853\n",
      "pix_per_cell  8\n",
      "(ch1.shape[1] // pix_per_cell)  106\n",
      "cell_per_block  2\n",
      "nxblocks  105\n"
     ]
    },
    {
     "name": "stderr",
     "output_type": "stream",
     "text": [
      "\r",
      " 43%|████▎     | 539/1261 [08:02<10:41,  1.13it/s]"
     ]
    },
    {
     "name": "stdout",
     "output_type": "stream",
     "text": [
      "no. of rectangles found is  23\n",
      "spatial_size  (16, 16)\n",
      "hist  16\n",
      "orient  9\n",
      "ch1.shape[1]  853\n",
      "pix_per_cell  8\n",
      "(ch1.shape[1] // pix_per_cell)  106\n",
      "cell_per_block  2\n",
      "nxblocks  105\n"
     ]
    },
    {
     "name": "stderr",
     "output_type": "stream",
     "text": [
      "\r",
      " 43%|████▎     | 540/1261 [08:03<10:42,  1.12it/s]"
     ]
    },
    {
     "name": "stdout",
     "output_type": "stream",
     "text": [
      "no. of rectangles found is  17\n",
      "spatial_size  (16, 16)\n",
      "hist  16\n",
      "orient  9\n",
      "ch1.shape[1]  853\n",
      "pix_per_cell  8\n",
      "(ch1.shape[1] // pix_per_cell)  106\n",
      "cell_per_block  2\n",
      "nxblocks  105\n"
     ]
    },
    {
     "name": "stderr",
     "output_type": "stream",
     "text": [
      "\r",
      " 43%|████▎     | 541/1261 [08:04<10:42,  1.12it/s]"
     ]
    },
    {
     "name": "stdout",
     "output_type": "stream",
     "text": [
      "no. of rectangles found is  21\n",
      "spatial_size  (16, 16)\n",
      "hist  16\n",
      "orient  9\n",
      "ch1.shape[1]  853\n",
      "pix_per_cell  8\n",
      "(ch1.shape[1] // pix_per_cell)  106\n",
      "cell_per_block  2\n",
      "nxblocks  105\n"
     ]
    },
    {
     "name": "stderr",
     "output_type": "stream",
     "text": [
      "\r",
      " 43%|████▎     | 542/1261 [08:05<10:41,  1.12it/s]"
     ]
    },
    {
     "name": "stdout",
     "output_type": "stream",
     "text": [
      "no. of rectangles found is  18\n",
      "spatial_size  (16, 16)\n",
      "hist  16\n",
      "orient  9\n",
      "ch1.shape[1]  853\n",
      "pix_per_cell  8\n",
      "(ch1.shape[1] // pix_per_cell)  106\n",
      "cell_per_block  2\n",
      "nxblocks  105\n"
     ]
    },
    {
     "name": "stderr",
     "output_type": "stream",
     "text": [
      "\r",
      " 43%|████▎     | 543/1261 [08:06<10:39,  1.12it/s]"
     ]
    },
    {
     "name": "stdout",
     "output_type": "stream",
     "text": [
      "no. of rectangles found is  16\n",
      "spatial_size  (16, 16)\n",
      "hist  16\n",
      "orient  9\n",
      "ch1.shape[1]  853\n",
      "pix_per_cell  8\n",
      "(ch1.shape[1] // pix_per_cell)  106\n",
      "cell_per_block  2\n",
      "nxblocks  105\n"
     ]
    },
    {
     "name": "stderr",
     "output_type": "stream",
     "text": [
      "\r",
      " 43%|████▎     | 544/1261 [08:06<10:47,  1.11it/s]"
     ]
    },
    {
     "name": "stdout",
     "output_type": "stream",
     "text": [
      "no. of rectangles found is  13\n",
      "spatial_size  (16, 16)\n",
      "hist  16\n",
      "orient  9\n",
      "ch1.shape[1]  853\n",
      "pix_per_cell  8\n",
      "(ch1.shape[1] // pix_per_cell)  106\n",
      "cell_per_block  2\n",
      "nxblocks  105\n"
     ]
    },
    {
     "name": "stderr",
     "output_type": "stream",
     "text": [
      "\r",
      " 43%|████▎     | 545/1261 [08:07<10:39,  1.12it/s]"
     ]
    },
    {
     "name": "stdout",
     "output_type": "stream",
     "text": [
      "no. of rectangles found is  18\n",
      "spatial_size  (16, 16)\n",
      "hist  16\n",
      "orient  9\n",
      "ch1.shape[1]  853\n",
      "pix_per_cell  8\n",
      "(ch1.shape[1] // pix_per_cell)  106\n",
      "cell_per_block  2\n",
      "nxblocks  105\n"
     ]
    },
    {
     "name": "stderr",
     "output_type": "stream",
     "text": [
      "\r",
      " 43%|████▎     | 546/1261 [08:08<10:39,  1.12it/s]"
     ]
    },
    {
     "name": "stdout",
     "output_type": "stream",
     "text": [
      "no. of rectangles found is  17\n",
      "spatial_size  (16, 16)\n",
      "hist  16\n",
      "orient  9\n",
      "ch1.shape[1]  853\n",
      "pix_per_cell  8\n",
      "(ch1.shape[1] // pix_per_cell)  106\n",
      "cell_per_block  2\n",
      "nxblocks  105\n"
     ]
    },
    {
     "name": "stderr",
     "output_type": "stream",
     "text": [
      "\r",
      " 43%|████▎     | 547/1261 [08:09<10:40,  1.11it/s]"
     ]
    },
    {
     "name": "stdout",
     "output_type": "stream",
     "text": [
      "no. of rectangles found is  27\n",
      "spatial_size  (16, 16)\n",
      "hist  16\n",
      "orient  9\n",
      "ch1.shape[1]  853\n",
      "pix_per_cell  8\n",
      "(ch1.shape[1] // pix_per_cell)  106\n",
      "cell_per_block  2\n",
      "nxblocks  105\n"
     ]
    },
    {
     "name": "stderr",
     "output_type": "stream",
     "text": [
      "\r",
      " 43%|████▎     | 548/1261 [08:10<10:55,  1.09it/s]"
     ]
    },
    {
     "name": "stdout",
     "output_type": "stream",
     "text": [
      "no. of rectangles found is  26\n",
      "spatial_size  (16, 16)\n",
      "hist  16\n",
      "orient  9\n",
      "ch1.shape[1]  853\n",
      "pix_per_cell  8\n",
      "(ch1.shape[1] // pix_per_cell)  106\n",
      "cell_per_block  2\n",
      "nxblocks  105\n"
     ]
    },
    {
     "name": "stderr",
     "output_type": "stream",
     "text": [
      "\r",
      " 44%|████▎     | 549/1261 [08:11<10:54,  1.09it/s]"
     ]
    },
    {
     "name": "stdout",
     "output_type": "stream",
     "text": [
      "no. of rectangles found is  16\n",
      "spatial_size  (16, 16)\n",
      "hist  16\n",
      "orient  9\n",
      "ch1.shape[1]  853\n",
      "pix_per_cell  8\n",
      "(ch1.shape[1] // pix_per_cell)  106\n",
      "cell_per_block  2\n",
      "nxblocks  105\n"
     ]
    },
    {
     "name": "stderr",
     "output_type": "stream",
     "text": [
      "\r",
      " 44%|████▎     | 550/1261 [08:12<10:45,  1.10it/s]"
     ]
    },
    {
     "name": "stdout",
     "output_type": "stream",
     "text": [
      "no. of rectangles found is  15\n",
      "spatial_size  (16, 16)\n",
      "hist  16\n",
      "orient  9\n",
      "ch1.shape[1]  853\n",
      "pix_per_cell  8\n",
      "(ch1.shape[1] // pix_per_cell)  106\n",
      "cell_per_block  2\n",
      "nxblocks  105\n"
     ]
    },
    {
     "name": "stderr",
     "output_type": "stream",
     "text": [
      "\r",
      " 44%|████▎     | 551/1261 [08:13<10:58,  1.08it/s]"
     ]
    },
    {
     "name": "stdout",
     "output_type": "stream",
     "text": [
      "no. of rectangles found is  19\n",
      "spatial_size  (16, 16)\n",
      "hist  16\n",
      "orient  9\n",
      "ch1.shape[1]  853\n",
      "pix_per_cell  8\n",
      "(ch1.shape[1] // pix_per_cell)  106\n",
      "cell_per_block  2\n",
      "nxblocks  105\n"
     ]
    },
    {
     "name": "stderr",
     "output_type": "stream",
     "text": [
      "\r",
      " 44%|████▍     | 552/1261 [08:14<10:48,  1.09it/s]"
     ]
    },
    {
     "name": "stdout",
     "output_type": "stream",
     "text": [
      "no. of rectangles found is  12\n",
      "spatial_size  (16, 16)\n",
      "hist  16\n",
      "orient  9\n",
      "ch1.shape[1]  853\n",
      "pix_per_cell  8\n",
      "(ch1.shape[1] // pix_per_cell)  106\n",
      "cell_per_block  2\n",
      "nxblocks  105\n"
     ]
    },
    {
     "name": "stderr",
     "output_type": "stream",
     "text": [
      "\r",
      " 44%|████▍     | 553/1261 [08:15<10:43,  1.10it/s]"
     ]
    },
    {
     "name": "stdout",
     "output_type": "stream",
     "text": [
      "no. of rectangles found is  16\n",
      "spatial_size  (16, 16)\n",
      "hist  16\n",
      "orient  9\n",
      "ch1.shape[1]  853\n",
      "pix_per_cell  8\n",
      "(ch1.shape[1] // pix_per_cell)  106\n",
      "cell_per_block  2\n",
      "nxblocks  105\n"
     ]
    },
    {
     "name": "stderr",
     "output_type": "stream",
     "text": [
      "\r",
      " 44%|████▍     | 554/1261 [08:16<10:35,  1.11it/s]"
     ]
    },
    {
     "name": "stdout",
     "output_type": "stream",
     "text": [
      "no. of rectangles found is  12\n",
      "spatial_size  (16, 16)\n",
      "hist  16\n",
      "orient  9\n",
      "ch1.shape[1]  853\n",
      "pix_per_cell  8\n",
      "(ch1.shape[1] // pix_per_cell)  106\n",
      "cell_per_block  2\n",
      "nxblocks  105\n"
     ]
    },
    {
     "name": "stderr",
     "output_type": "stream",
     "text": [
      "\r",
      " 44%|████▍     | 555/1261 [08:16<10:35,  1.11it/s]"
     ]
    },
    {
     "name": "stdout",
     "output_type": "stream",
     "text": [
      "no. of rectangles found is  14\n",
      "spatial_size  (16, 16)\n",
      "hist  16\n",
      "orient  9\n",
      "ch1.shape[1]  853\n",
      "pix_per_cell  8\n",
      "(ch1.shape[1] // pix_per_cell)  106\n",
      "cell_per_block  2\n",
      "nxblocks  105\n"
     ]
    },
    {
     "name": "stderr",
     "output_type": "stream",
     "text": [
      "\r",
      " 44%|████▍     | 556/1261 [08:17<10:33,  1.11it/s]"
     ]
    },
    {
     "name": "stdout",
     "output_type": "stream",
     "text": [
      "no. of rectangles found is  16\n",
      "spatial_size  (16, 16)\n",
      "hist  16\n",
      "orient  9\n",
      "ch1.shape[1]  853\n",
      "pix_per_cell  8\n",
      "(ch1.shape[1] // pix_per_cell)  106\n",
      "cell_per_block  2\n",
      "nxblocks  105\n"
     ]
    },
    {
     "name": "stderr",
     "output_type": "stream",
     "text": [
      "\r",
      " 44%|████▍     | 557/1261 [08:18<10:30,  1.12it/s]"
     ]
    },
    {
     "name": "stdout",
     "output_type": "stream",
     "text": [
      "no. of rectangles found is  8\n",
      "spatial_size  (16, 16)\n",
      "hist  16\n",
      "orient  9\n",
      "ch1.shape[1]  853\n",
      "pix_per_cell  8\n",
      "(ch1.shape[1] // pix_per_cell)  106\n",
      "cell_per_block  2\n",
      "nxblocks  105\n"
     ]
    },
    {
     "name": "stderr",
     "output_type": "stream",
     "text": [
      "\r",
      " 44%|████▍     | 558/1261 [08:19<10:27,  1.12it/s]"
     ]
    },
    {
     "name": "stdout",
     "output_type": "stream",
     "text": [
      "no. of rectangles found is  3\n",
      "spatial_size  (16, 16)\n",
      "hist  16\n",
      "orient  9\n",
      "ch1.shape[1]  853\n",
      "pix_per_cell  8\n",
      "(ch1.shape[1] // pix_per_cell)  106\n",
      "cell_per_block  2\n",
      "nxblocks  105\n"
     ]
    },
    {
     "name": "stderr",
     "output_type": "stream",
     "text": [
      "\r",
      " 44%|████▍     | 559/1261 [08:20<10:25,  1.12it/s]"
     ]
    },
    {
     "name": "stdout",
     "output_type": "stream",
     "text": [
      "no. of rectangles found is  3\n",
      "spatial_size  (16, 16)\n",
      "hist  16\n",
      "orient  9\n",
      "ch1.shape[1]  853\n",
      "pix_per_cell  8\n",
      "(ch1.shape[1] // pix_per_cell)  106\n",
      "cell_per_block  2\n",
      "nxblocks  105\n"
     ]
    },
    {
     "name": "stderr",
     "output_type": "stream",
     "text": [
      "\r",
      " 44%|████▍     | 560/1261 [08:21<10:24,  1.12it/s]"
     ]
    },
    {
     "name": "stdout",
     "output_type": "stream",
     "text": [
      "no. of rectangles found is  3\n",
      "spatial_size  (16, 16)\n",
      "hist  16\n",
      "orient  9\n",
      "ch1.shape[1]  853\n",
      "pix_per_cell  8\n",
      "(ch1.shape[1] // pix_per_cell)  106\n",
      "cell_per_block  2\n",
      "nxblocks  105\n"
     ]
    },
    {
     "name": "stderr",
     "output_type": "stream",
     "text": [
      "\r",
      " 44%|████▍     | 561/1261 [08:22<10:24,  1.12it/s]"
     ]
    },
    {
     "name": "stdout",
     "output_type": "stream",
     "text": [
      "no. of rectangles found is  8\n",
      "spatial_size  (16, 16)\n",
      "hist  16\n",
      "orient  9\n",
      "ch1.shape[1]  853\n",
      "pix_per_cell  8\n",
      "(ch1.shape[1] // pix_per_cell)  106\n",
      "cell_per_block  2\n",
      "nxblocks  105\n"
     ]
    },
    {
     "name": "stderr",
     "output_type": "stream",
     "text": [
      "\r",
      " 45%|████▍     | 562/1261 [08:23<10:24,  1.12it/s]"
     ]
    },
    {
     "name": "stdout",
     "output_type": "stream",
     "text": [
      "no. of rectangles found is  5\n",
      "spatial_size  (16, 16)\n",
      "hist  16\n",
      "orient  9\n",
      "ch1.shape[1]  853\n",
      "pix_per_cell  8\n",
      "(ch1.shape[1] // pix_per_cell)  106\n",
      "cell_per_block  2\n",
      "nxblocks  105\n"
     ]
    },
    {
     "name": "stderr",
     "output_type": "stream",
     "text": [
      "\r",
      " 45%|████▍     | 563/1261 [08:24<10:49,  1.07it/s]"
     ]
    },
    {
     "name": "stdout",
     "output_type": "stream",
     "text": [
      "no. of rectangles found is  5\n",
      "spatial_size  (16, 16)\n",
      "hist  16\n",
      "orient  9\n",
      "ch1.shape[1]  853\n",
      "pix_per_cell  8\n",
      "(ch1.shape[1] // pix_per_cell)  106\n",
      "cell_per_block  2\n",
      "nxblocks  105\n"
     ]
    },
    {
     "name": "stderr",
     "output_type": "stream",
     "text": [
      "\r",
      " 45%|████▍     | 564/1261 [08:25<10:41,  1.09it/s]"
     ]
    },
    {
     "name": "stdout",
     "output_type": "stream",
     "text": [
      "no. of rectangles found is  9\n",
      "spatial_size  (16, 16)\n",
      "hist  16\n",
      "orient  9\n",
      "ch1.shape[1]  853\n",
      "pix_per_cell  8\n",
      "(ch1.shape[1] // pix_per_cell)  106\n",
      "cell_per_block  2\n",
      "nxblocks  105\n"
     ]
    },
    {
     "name": "stderr",
     "output_type": "stream",
     "text": [
      "\r",
      " 45%|████▍     | 565/1261 [08:25<10:28,  1.11it/s]"
     ]
    },
    {
     "name": "stdout",
     "output_type": "stream",
     "text": [
      "no. of rectangles found is  3\n",
      "spatial_size  (16, 16)\n",
      "hist  16\n",
      "orient  9\n",
      "ch1.shape[1]  853\n",
      "pix_per_cell  8\n",
      "(ch1.shape[1] // pix_per_cell)  106\n",
      "cell_per_block  2\n",
      "nxblocks  105\n"
     ]
    },
    {
     "name": "stderr",
     "output_type": "stream",
     "text": [
      "\r",
      " 45%|████▍     | 566/1261 [08:26<10:25,  1.11it/s]"
     ]
    },
    {
     "name": "stdout",
     "output_type": "stream",
     "text": [
      "no. of rectangles found is  12\n",
      "spatial_size  (16, 16)\n",
      "hist  16\n",
      "orient  9\n",
      "ch1.shape[1]  853\n",
      "pix_per_cell  8\n",
      "(ch1.shape[1] // pix_per_cell)  106\n",
      "cell_per_block  2\n",
      "nxblocks  105\n"
     ]
    },
    {
     "name": "stderr",
     "output_type": "stream",
     "text": [
      "\r",
      " 45%|████▍     | 567/1261 [08:27<10:30,  1.10it/s]"
     ]
    },
    {
     "name": "stdout",
     "output_type": "stream",
     "text": [
      "no. of rectangles found is  10\n",
      "spatial_size  (16, 16)\n",
      "hist  16\n",
      "orient  9\n",
      "ch1.shape[1]  853\n",
      "pix_per_cell  8\n",
      "(ch1.shape[1] // pix_per_cell)  106\n",
      "cell_per_block  2\n",
      "nxblocks  105\n"
     ]
    },
    {
     "name": "stderr",
     "output_type": "stream",
     "text": [
      "\r",
      " 45%|████▌     | 568/1261 [08:28<10:27,  1.11it/s]"
     ]
    },
    {
     "name": "stdout",
     "output_type": "stream",
     "text": [
      "no. of rectangles found is  14\n",
      "spatial_size  (16, 16)\n",
      "hist  16\n",
      "orient  9\n",
      "ch1.shape[1]  853\n",
      "pix_per_cell  8\n",
      "(ch1.shape[1] // pix_per_cell)  106\n",
      "cell_per_block  2\n",
      "nxblocks  105\n"
     ]
    },
    {
     "name": "stderr",
     "output_type": "stream",
     "text": [
      "\r",
      " 45%|████▌     | 569/1261 [08:29<10:24,  1.11it/s]"
     ]
    },
    {
     "name": "stdout",
     "output_type": "stream",
     "text": [
      "no. of rectangles found is  12\n",
      "spatial_size  (16, 16)\n",
      "hist  16\n",
      "orient  9\n",
      "ch1.shape[1]  853\n",
      "pix_per_cell  8\n",
      "(ch1.shape[1] // pix_per_cell)  106\n",
      "cell_per_block  2\n",
      "nxblocks  105\n"
     ]
    },
    {
     "name": "stderr",
     "output_type": "stream",
     "text": [
      "\r",
      " 45%|████▌     | 570/1261 [08:30<10:22,  1.11it/s]"
     ]
    },
    {
     "name": "stdout",
     "output_type": "stream",
     "text": [
      "no. of rectangles found is  10\n",
      "spatial_size  (16, 16)\n",
      "hist  16\n",
      "orient  9\n",
      "ch1.shape[1]  853\n",
      "pix_per_cell  8\n",
      "(ch1.shape[1] // pix_per_cell)  106\n",
      "cell_per_block  2\n",
      "nxblocks  105\n"
     ]
    },
    {
     "name": "stderr",
     "output_type": "stream",
     "text": [
      "\r",
      " 45%|████▌     | 571/1261 [08:31<10:19,  1.11it/s]"
     ]
    },
    {
     "name": "stdout",
     "output_type": "stream",
     "text": [
      "no. of rectangles found is  17\n",
      "spatial_size  (16, 16)\n",
      "hist  16\n",
      "orient  9\n",
      "ch1.shape[1]  853\n",
      "pix_per_cell  8\n",
      "(ch1.shape[1] // pix_per_cell)  106\n",
      "cell_per_block  2\n",
      "nxblocks  105\n"
     ]
    },
    {
     "name": "stderr",
     "output_type": "stream",
     "text": [
      "\r",
      " 45%|████▌     | 572/1261 [08:32<10:15,  1.12it/s]"
     ]
    },
    {
     "name": "stdout",
     "output_type": "stream",
     "text": [
      "no. of rectangles found is  21\n",
      "spatial_size  (16, 16)\n",
      "hist  16\n",
      "orient  9\n",
      "ch1.shape[1]  853\n",
      "pix_per_cell  8\n",
      "(ch1.shape[1] // pix_per_cell)  106\n",
      "cell_per_block  2\n",
      "nxblocks  105\n"
     ]
    },
    {
     "name": "stderr",
     "output_type": "stream",
     "text": [
      "\r",
      " 45%|████▌     | 573/1261 [08:33<10:22,  1.11it/s]"
     ]
    },
    {
     "name": "stdout",
     "output_type": "stream",
     "text": [
      "no. of rectangles found is  14\n",
      "spatial_size  (16, 16)\n",
      "hist  16\n",
      "orient  9\n",
      "ch1.shape[1]  853\n",
      "pix_per_cell  8\n",
      "(ch1.shape[1] // pix_per_cell)  106\n",
      "cell_per_block  2\n",
      "nxblocks  105\n"
     ]
    },
    {
     "name": "stderr",
     "output_type": "stream",
     "text": [
      "\r",
      " 46%|████▌     | 574/1261 [08:34<10:22,  1.10it/s]"
     ]
    },
    {
     "name": "stdout",
     "output_type": "stream",
     "text": [
      "no. of rectangles found is  13\n",
      "spatial_size  (16, 16)\n",
      "hist  16\n",
      "orient  9\n",
      "ch1.shape[1]  853\n",
      "pix_per_cell  8\n",
      "(ch1.shape[1] // pix_per_cell)  106\n",
      "cell_per_block  2\n",
      "nxblocks  105\n"
     ]
    },
    {
     "name": "stderr",
     "output_type": "stream",
     "text": [
      "\r",
      " 46%|████▌     | 575/1261 [08:35<10:19,  1.11it/s]"
     ]
    },
    {
     "name": "stdout",
     "output_type": "stream",
     "text": [
      "no. of rectangles found is  27\n",
      "spatial_size  (16, 16)\n",
      "hist  16\n",
      "orient  9\n",
      "ch1.shape[1]  853\n",
      "pix_per_cell  8\n",
      "(ch1.shape[1] // pix_per_cell)  106\n",
      "cell_per_block  2\n",
      "nxblocks  105\n"
     ]
    },
    {
     "name": "stderr",
     "output_type": "stream",
     "text": [
      "\r",
      " 46%|████▌     | 576/1261 [08:35<10:22,  1.10it/s]"
     ]
    },
    {
     "name": "stdout",
     "output_type": "stream",
     "text": [
      "no. of rectangles found is  30\n",
      "spatial_size  (16, 16)\n",
      "hist  16\n",
      "orient  9\n",
      "ch1.shape[1]  853\n",
      "pix_per_cell  8\n",
      "(ch1.shape[1] // pix_per_cell)  106\n",
      "cell_per_block  2\n",
      "nxblocks  105\n"
     ]
    },
    {
     "name": "stderr",
     "output_type": "stream",
     "text": [
      "\r",
      " 46%|████▌     | 577/1261 [08:36<10:26,  1.09it/s]"
     ]
    },
    {
     "name": "stdout",
     "output_type": "stream",
     "text": [
      "no. of rectangles found is  29\n",
      "spatial_size  (16, 16)\n",
      "hist  16\n",
      "orient  9\n",
      "ch1.shape[1]  853\n",
      "pix_per_cell  8\n",
      "(ch1.shape[1] // pix_per_cell)  106\n",
      "cell_per_block  2\n",
      "nxblocks  105\n"
     ]
    },
    {
     "name": "stderr",
     "output_type": "stream",
     "text": [
      "\r",
      " 46%|████▌     | 578/1261 [08:37<10:30,  1.08it/s]"
     ]
    },
    {
     "name": "stdout",
     "output_type": "stream",
     "text": [
      "no. of rectangles found is  28\n",
      "spatial_size  (16, 16)\n",
      "hist  16\n",
      "orient  9\n",
      "ch1.shape[1]  853\n",
      "pix_per_cell  8\n",
      "(ch1.shape[1] // pix_per_cell)  106\n",
      "cell_per_block  2\n",
      "nxblocks  105\n"
     ]
    },
    {
     "name": "stderr",
     "output_type": "stream",
     "text": [
      "\r",
      " 46%|████▌     | 579/1261 [08:38<10:27,  1.09it/s]"
     ]
    },
    {
     "name": "stdout",
     "output_type": "stream",
     "text": [
      "no. of rectangles found is  19\n",
      "spatial_size  (16, 16)\n",
      "hist  16\n",
      "orient  9\n",
      "ch1.shape[1]  853\n",
      "pix_per_cell  8\n",
      "(ch1.shape[1] // pix_per_cell)  106\n",
      "cell_per_block  2\n",
      "nxblocks  105\n"
     ]
    },
    {
     "name": "stderr",
     "output_type": "stream",
     "text": [
      "\r",
      " 46%|████▌     | 580/1261 [08:39<10:23,  1.09it/s]"
     ]
    },
    {
     "name": "stdout",
     "output_type": "stream",
     "text": [
      "no. of rectangles found is  16\n",
      "spatial_size  (16, 16)\n",
      "hist  16\n",
      "orient  9\n",
      "ch1.shape[1]  853\n",
      "pix_per_cell  8\n",
      "(ch1.shape[1] // pix_per_cell)  106\n",
      "cell_per_block  2\n",
      "nxblocks  105\n"
     ]
    },
    {
     "name": "stderr",
     "output_type": "stream",
     "text": [
      "\r",
      " 46%|████▌     | 581/1261 [08:40<10:20,  1.10it/s]"
     ]
    },
    {
     "name": "stdout",
     "output_type": "stream",
     "text": [
      "no. of rectangles found is  23\n",
      "spatial_size  (16, 16)\n",
      "hist  16\n",
      "orient  9\n",
      "ch1.shape[1]  853\n",
      "pix_per_cell  8\n",
      "(ch1.shape[1] // pix_per_cell)  106\n",
      "cell_per_block  2\n",
      "nxblocks  105\n"
     ]
    },
    {
     "name": "stderr",
     "output_type": "stream",
     "text": [
      "\r",
      " 46%|████▌     | 582/1261 [08:41<10:21,  1.09it/s]"
     ]
    },
    {
     "name": "stdout",
     "output_type": "stream",
     "text": [
      "no. of rectangles found is  32\n",
      "spatial_size  (16, 16)\n",
      "hist  16\n",
      "orient  9\n",
      "ch1.shape[1]  853\n",
      "pix_per_cell  8\n",
      "(ch1.shape[1] // pix_per_cell)  106\n",
      "cell_per_block  2\n",
      "nxblocks  105\n"
     ]
    },
    {
     "name": "stderr",
     "output_type": "stream",
     "text": [
      "\r",
      " 46%|████▌     | 583/1261 [08:42<10:26,  1.08it/s]"
     ]
    },
    {
     "name": "stdout",
     "output_type": "stream",
     "text": [
      "no. of rectangles found is  24\n",
      "spatial_size  (16, 16)\n",
      "hist  16\n",
      "orient  9\n",
      "ch1.shape[1]  853\n",
      "pix_per_cell  8\n",
      "(ch1.shape[1] // pix_per_cell)  106\n",
      "cell_per_block  2\n",
      "nxblocks  105\n"
     ]
    },
    {
     "name": "stderr",
     "output_type": "stream",
     "text": [
      "\r",
      " 46%|████▋     | 584/1261 [08:43<10:17,  1.10it/s]"
     ]
    },
    {
     "name": "stdout",
     "output_type": "stream",
     "text": [
      "no. of rectangles found is  12\n",
      "spatial_size  (16, 16)\n",
      "hist  16\n",
      "orient  9\n",
      "ch1.shape[1]  853\n",
      "pix_per_cell  8\n",
      "(ch1.shape[1] // pix_per_cell)  106\n",
      "cell_per_block  2\n",
      "nxblocks  105\n"
     ]
    },
    {
     "name": "stderr",
     "output_type": "stream",
     "text": [
      "\r",
      " 46%|████▋     | 585/1261 [08:44<10:14,  1.10it/s]"
     ]
    },
    {
     "name": "stdout",
     "output_type": "stream",
     "text": [
      "no. of rectangles found is  16\n",
      "spatial_size  (16, 16)\n",
      "hist  16\n",
      "orient  9\n",
      "ch1.shape[1]  853\n",
      "pix_per_cell  8\n",
      "(ch1.shape[1] // pix_per_cell)  106\n",
      "cell_per_block  2\n",
      "nxblocks  105\n"
     ]
    },
    {
     "name": "stderr",
     "output_type": "stream",
     "text": [
      "\r",
      " 46%|████▋     | 586/1261 [08:45<10:20,  1.09it/s]"
     ]
    },
    {
     "name": "stdout",
     "output_type": "stream",
     "text": [
      "no. of rectangles found is  15\n",
      "spatial_size  (16, 16)\n",
      "hist  16\n",
      "orient  9\n",
      "ch1.shape[1]  853\n",
      "pix_per_cell  8\n",
      "(ch1.shape[1] // pix_per_cell)  106\n",
      "cell_per_block  2\n",
      "nxblocks  105\n"
     ]
    },
    {
     "name": "stderr",
     "output_type": "stream",
     "text": [
      "\r",
      " 47%|████▋     | 587/1261 [08:45<10:09,  1.11it/s]"
     ]
    },
    {
     "name": "stdout",
     "output_type": "stream",
     "text": [
      "no. of rectangles found is  20\n",
      "spatial_size  (16, 16)\n",
      "hist  16\n",
      "orient  9\n",
      "ch1.shape[1]  853\n",
      "pix_per_cell  8\n",
      "(ch1.shape[1] // pix_per_cell)  106\n",
      "cell_per_block  2\n",
      "nxblocks  105\n"
     ]
    },
    {
     "name": "stderr",
     "output_type": "stream",
     "text": [
      "\r",
      " 47%|████▋     | 588/1261 [08:46<10:07,  1.11it/s]"
     ]
    },
    {
     "name": "stdout",
     "output_type": "stream",
     "text": [
      "no. of rectangles found is  21\n",
      "spatial_size  (16, 16)\n",
      "hist  16\n",
      "orient  9\n",
      "ch1.shape[1]  853\n",
      "pix_per_cell  8\n",
      "(ch1.shape[1] // pix_per_cell)  106\n",
      "cell_per_block  2\n",
      "nxblocks  105\n"
     ]
    },
    {
     "name": "stderr",
     "output_type": "stream",
     "text": [
      "\r",
      " 47%|████▋     | 589/1261 [08:47<10:04,  1.11it/s]"
     ]
    },
    {
     "name": "stdout",
     "output_type": "stream",
     "text": [
      "no. of rectangles found is  19\n",
      "spatial_size  (16, 16)\n",
      "hist  16\n",
      "orient  9\n",
      "ch1.shape[1]  853\n",
      "pix_per_cell  8\n",
      "(ch1.shape[1] // pix_per_cell)  106\n",
      "cell_per_block  2\n",
      "nxblocks  105\n"
     ]
    },
    {
     "name": "stderr",
     "output_type": "stream",
     "text": [
      "\r",
      " 47%|████▋     | 590/1261 [08:48<10:10,  1.10it/s]"
     ]
    },
    {
     "name": "stdout",
     "output_type": "stream",
     "text": [
      "no. of rectangles found is  17\n",
      "spatial_size  (16, 16)\n",
      "hist  16\n",
      "orient  9\n",
      "ch1.shape[1]  853\n",
      "pix_per_cell  8\n",
      "(ch1.shape[1] // pix_per_cell)  106\n",
      "cell_per_block  2\n",
      "nxblocks  105\n"
     ]
    },
    {
     "name": "stderr",
     "output_type": "stream",
     "text": [
      "\r",
      " 47%|████▋     | 591/1261 [08:49<10:05,  1.11it/s]"
     ]
    },
    {
     "name": "stdout",
     "output_type": "stream",
     "text": [
      "no. of rectangles found is  20\n",
      "spatial_size  (16, 16)\n",
      "hist  16\n",
      "orient  9\n",
      "ch1.shape[1]  853\n",
      "pix_per_cell  8\n",
      "(ch1.shape[1] // pix_per_cell)  106\n",
      "cell_per_block  2\n",
      "nxblocks  105\n"
     ]
    },
    {
     "name": "stderr",
     "output_type": "stream",
     "text": [
      "\r",
      " 47%|████▋     | 592/1261 [08:50<10:03,  1.11it/s]"
     ]
    },
    {
     "name": "stdout",
     "output_type": "stream",
     "text": [
      "no. of rectangles found is  21\n",
      "spatial_size  (16, 16)\n",
      "hist  16\n",
      "orient  9\n",
      "ch1.shape[1]  853\n",
      "pix_per_cell  8\n",
      "(ch1.shape[1] // pix_per_cell)  106\n",
      "cell_per_block  2\n",
      "nxblocks  105\n"
     ]
    },
    {
     "name": "stderr",
     "output_type": "stream",
     "text": [
      "\r",
      " 47%|████▋     | 593/1261 [08:51<10:02,  1.11it/s]"
     ]
    },
    {
     "name": "stdout",
     "output_type": "stream",
     "text": [
      "no. of rectangles found is  15\n",
      "spatial_size  (16, 16)\n",
      "hist  16\n",
      "orient  9\n",
      "ch1.shape[1]  853\n",
      "pix_per_cell  8\n",
      "(ch1.shape[1] // pix_per_cell)  106\n",
      "cell_per_block  2\n",
      "nxblocks  105\n"
     ]
    },
    {
     "name": "stderr",
     "output_type": "stream",
     "text": [
      "\r",
      " 47%|████▋     | 594/1261 [08:52<09:57,  1.12it/s]"
     ]
    },
    {
     "name": "stdout",
     "output_type": "stream",
     "text": [
      "no. of rectangles found is  11\n",
      "spatial_size  (16, 16)\n",
      "hist  16\n",
      "orient  9\n",
      "ch1.shape[1]  853\n",
      "pix_per_cell  8\n",
      "(ch1.shape[1] // pix_per_cell)  106\n",
      "cell_per_block  2\n",
      "nxblocks  105\n"
     ]
    },
    {
     "name": "stderr",
     "output_type": "stream",
     "text": [
      "\r",
      " 47%|████▋     | 595/1261 [08:53<10:08,  1.09it/s]"
     ]
    },
    {
     "name": "stdout",
     "output_type": "stream",
     "text": [
      "no. of rectangles found is  8\n",
      "spatial_size  (16, 16)\n",
      "hist  16\n",
      "orient  9\n",
      "ch1.shape[1]  853\n",
      "pix_per_cell  8\n",
      "(ch1.shape[1] // pix_per_cell)  106\n",
      "cell_per_block  2\n",
      "nxblocks  105\n"
     ]
    },
    {
     "name": "stderr",
     "output_type": "stream",
     "text": [
      "\r",
      " 47%|████▋     | 596/1261 [08:54<10:11,  1.09it/s]"
     ]
    },
    {
     "name": "stdout",
     "output_type": "stream",
     "text": [
      "no. of rectangles found is  5\n",
      "spatial_size  (16, 16)\n",
      "hist  16\n",
      "orient  9\n",
      "ch1.shape[1]  853\n",
      "pix_per_cell  8\n",
      "(ch1.shape[1] // pix_per_cell)  106\n",
      "cell_per_block  2\n",
      "nxblocks  105\n"
     ]
    },
    {
     "name": "stderr",
     "output_type": "stream",
     "text": [
      "\r",
      " 47%|████▋     | 597/1261 [08:55<10:06,  1.09it/s]"
     ]
    },
    {
     "name": "stdout",
     "output_type": "stream",
     "text": [
      "no. of rectangles found is  10\n",
      "spatial_size  (16, 16)\n",
      "hist  16\n",
      "orient  9\n",
      "ch1.shape[1]  853\n",
      "pix_per_cell  8\n",
      "(ch1.shape[1] // pix_per_cell)  106\n",
      "cell_per_block  2\n",
      "nxblocks  105\n"
     ]
    },
    {
     "name": "stderr",
     "output_type": "stream",
     "text": [
      "\r",
      " 47%|████▋     | 598/1261 [08:56<10:10,  1.09it/s]"
     ]
    },
    {
     "name": "stdout",
     "output_type": "stream",
     "text": [
      "no. of rectangles found is  5\n",
      "spatial_size  (16, 16)\n",
      "hist  16\n",
      "orient  9\n",
      "ch1.shape[1]  853\n",
      "pix_per_cell  8\n",
      "(ch1.shape[1] // pix_per_cell)  106\n",
      "cell_per_block  2\n",
      "nxblocks  105\n"
     ]
    },
    {
     "name": "stderr",
     "output_type": "stream",
     "text": [
      "\r",
      " 48%|████▊     | 599/1261 [08:56<10:12,  1.08it/s]"
     ]
    },
    {
     "name": "stdout",
     "output_type": "stream",
     "text": [
      "no. of rectangles found is  4\n",
      "spatial_size  (16, 16)\n",
      "hist  16\n",
      "orient  9\n",
      "ch1.shape[1]  853\n",
      "pix_per_cell  8\n",
      "(ch1.shape[1] // pix_per_cell)  106\n",
      "cell_per_block  2\n",
      "nxblocks  105\n"
     ]
    },
    {
     "name": "stderr",
     "output_type": "stream",
     "text": [
      "\r",
      " 48%|████▊     | 600/1261 [08:57<10:12,  1.08it/s]"
     ]
    },
    {
     "name": "stdout",
     "output_type": "stream",
     "text": [
      "no. of rectangles found is  7\n",
      "spatial_size  (16, 16)\n",
      "hist  16\n",
      "orient  9\n",
      "ch1.shape[1]  853\n",
      "pix_per_cell  8\n",
      "(ch1.shape[1] // pix_per_cell)  106\n",
      "cell_per_block  2\n",
      "nxblocks  105\n"
     ]
    },
    {
     "name": "stderr",
     "output_type": "stream",
     "text": [
      "\r",
      " 48%|████▊     | 601/1261 [08:58<10:03,  1.09it/s]"
     ]
    },
    {
     "name": "stdout",
     "output_type": "stream",
     "text": [
      "no. of rectangles found is  8\n",
      "spatial_size  (16, 16)\n",
      "hist  16\n",
      "orient  9\n",
      "ch1.shape[1]  853\n",
      "pix_per_cell  8\n",
      "(ch1.shape[1] // pix_per_cell)  106\n",
      "cell_per_block  2\n",
      "nxblocks  105\n"
     ]
    },
    {
     "name": "stderr",
     "output_type": "stream",
     "text": [
      "\r",
      " 48%|████▊     | 602/1261 [08:59<09:58,  1.10it/s]"
     ]
    },
    {
     "name": "stdout",
     "output_type": "stream",
     "text": [
      "no. of rectangles found is  17\n",
      "spatial_size  (16, 16)\n",
      "hist  16\n",
      "orient  9\n",
      "ch1.shape[1]  853\n",
      "pix_per_cell  8\n",
      "(ch1.shape[1] // pix_per_cell)  106\n",
      "cell_per_block  2\n",
      "nxblocks  105\n"
     ]
    },
    {
     "name": "stderr",
     "output_type": "stream",
     "text": [
      "\r",
      " 48%|████▊     | 603/1261 [09:00<09:54,  1.11it/s]"
     ]
    },
    {
     "name": "stdout",
     "output_type": "stream",
     "text": [
      "no. of rectangles found is  17\n",
      "spatial_size  (16, 16)\n",
      "hist  16\n",
      "orient  9\n",
      "ch1.shape[1]  853\n",
      "pix_per_cell  8\n",
      "(ch1.shape[1] // pix_per_cell)  106\n",
      "cell_per_block  2\n",
      "nxblocks  105\n"
     ]
    },
    {
     "name": "stderr",
     "output_type": "stream",
     "text": [
      "\r",
      " 48%|████▊     | 604/1261 [09:01<09:58,  1.10it/s]"
     ]
    },
    {
     "name": "stdout",
     "output_type": "stream",
     "text": [
      "no. of rectangles found is  16\n",
      "spatial_size  (16, 16)\n",
      "hist  16\n",
      "orient  9\n",
      "ch1.shape[1]  853\n",
      "pix_per_cell  8\n",
      "(ch1.shape[1] // pix_per_cell)  106\n",
      "cell_per_block  2\n",
      "nxblocks  105\n"
     ]
    },
    {
     "name": "stderr",
     "output_type": "stream",
     "text": [
      "\r",
      " 48%|████▊     | 605/1261 [09:02<09:55,  1.10it/s]"
     ]
    },
    {
     "name": "stdout",
     "output_type": "stream",
     "text": [
      "no. of rectangles found is  21\n",
      "spatial_size  (16, 16)\n",
      "hist  16\n",
      "orient  9\n",
      "ch1.shape[1]  853\n",
      "pix_per_cell  8\n",
      "(ch1.shape[1] // pix_per_cell)  106\n",
      "cell_per_block  2\n",
      "nxblocks  105\n"
     ]
    },
    {
     "name": "stderr",
     "output_type": "stream",
     "text": [
      "\r",
      " 48%|████▊     | 606/1261 [09:03<09:52,  1.11it/s]"
     ]
    },
    {
     "name": "stdout",
     "output_type": "stream",
     "text": [
      "no. of rectangles found is  14\n",
      "spatial_size  (16, 16)\n",
      "hist  16\n",
      "orient  9\n",
      "ch1.shape[1]  853\n",
      "pix_per_cell  8\n",
      "(ch1.shape[1] // pix_per_cell)  106\n",
      "cell_per_block  2\n",
      "nxblocks  105\n"
     ]
    },
    {
     "name": "stderr",
     "output_type": "stream",
     "text": [
      "\r",
      " 48%|████▊     | 607/1261 [09:04<09:52,  1.10it/s]"
     ]
    },
    {
     "name": "stdout",
     "output_type": "stream",
     "text": [
      "no. of rectangles found is  27\n",
      "spatial_size  (16, 16)\n",
      "hist  16\n",
      "orient  9\n",
      "ch1.shape[1]  853\n",
      "pix_per_cell  8\n",
      "(ch1.shape[1] // pix_per_cell)  106\n",
      "cell_per_block  2\n",
      "nxblocks  105\n"
     ]
    },
    {
     "name": "stderr",
     "output_type": "stream",
     "text": [
      "\r",
      " 48%|████▊     | 608/1261 [09:05<09:48,  1.11it/s]"
     ]
    },
    {
     "name": "stdout",
     "output_type": "stream",
     "text": [
      "no. of rectangles found is  14\n",
      "spatial_size  (16, 16)\n",
      "hist  16\n",
      "orient  9\n",
      "ch1.shape[1]  853\n",
      "pix_per_cell  8\n",
      "(ch1.shape[1] // pix_per_cell)  106\n",
      "cell_per_block  2\n",
      "nxblocks  105\n"
     ]
    },
    {
     "name": "stderr",
     "output_type": "stream",
     "text": [
      "\r",
      " 48%|████▊     | 609/1261 [09:05<09:44,  1.11it/s]"
     ]
    },
    {
     "name": "stdout",
     "output_type": "stream",
     "text": [
      "no. of rectangles found is  13\n",
      "spatial_size  (16, 16)\n",
      "hist  16\n",
      "orient  9\n",
      "ch1.shape[1]  853\n",
      "pix_per_cell  8\n",
      "(ch1.shape[1] // pix_per_cell)  106\n",
      "cell_per_block  2\n",
      "nxblocks  105\n"
     ]
    },
    {
     "name": "stderr",
     "output_type": "stream",
     "text": [
      "\r",
      " 48%|████▊     | 610/1261 [09:06<09:42,  1.12it/s]"
     ]
    },
    {
     "name": "stdout",
     "output_type": "stream",
     "text": [
      "no. of rectangles found is  8\n",
      "spatial_size  (16, 16)\n",
      "hist  16\n",
      "orient  9\n",
      "ch1.shape[1]  853\n",
      "pix_per_cell  8\n",
      "(ch1.shape[1] // pix_per_cell)  106\n",
      "cell_per_block  2\n",
      "nxblocks  105\n"
     ]
    },
    {
     "name": "stderr",
     "output_type": "stream",
     "text": [
      "\r",
      " 48%|████▊     | 611/1261 [09:07<09:40,  1.12it/s]"
     ]
    },
    {
     "name": "stdout",
     "output_type": "stream",
     "text": [
      "no. of rectangles found is  6\n",
      "spatial_size  (16, 16)\n",
      "hist  16\n",
      "orient  9\n",
      "ch1.shape[1]  853\n",
      "pix_per_cell  8\n",
      "(ch1.shape[1] // pix_per_cell)  106\n",
      "cell_per_block  2\n",
      "nxblocks  105\n"
     ]
    },
    {
     "name": "stderr",
     "output_type": "stream",
     "text": [
      "\r",
      " 49%|████▊     | 612/1261 [09:08<09:41,  1.12it/s]"
     ]
    },
    {
     "name": "stdout",
     "output_type": "stream",
     "text": [
      "no. of rectangles found is  7\n",
      "spatial_size  (16, 16)\n",
      "hist  16\n",
      "orient  9\n",
      "ch1.shape[1]  853\n",
      "pix_per_cell  8\n",
      "(ch1.shape[1] // pix_per_cell)  106\n",
      "cell_per_block  2\n",
      "nxblocks  105\n"
     ]
    },
    {
     "name": "stderr",
     "output_type": "stream",
     "text": [
      "\r",
      " 49%|████▊     | 613/1261 [09:09<09:40,  1.12it/s]"
     ]
    },
    {
     "name": "stdout",
     "output_type": "stream",
     "text": [
      "no. of rectangles found is  9\n",
      "spatial_size  (16, 16)\n",
      "hist  16\n",
      "orient  9\n",
      "ch1.shape[1]  853\n",
      "pix_per_cell  8\n",
      "(ch1.shape[1] // pix_per_cell)  106\n",
      "cell_per_block  2\n",
      "nxblocks  105\n"
     ]
    },
    {
     "name": "stderr",
     "output_type": "stream",
     "text": [
      "\r",
      " 49%|████▊     | 614/1261 [09:10<09:37,  1.12it/s]"
     ]
    },
    {
     "name": "stdout",
     "output_type": "stream",
     "text": [
      "no. of rectangles found is  11\n",
      "spatial_size  (16, 16)\n",
      "hist  16\n",
      "orient  9\n",
      "ch1.shape[1]  853\n",
      "pix_per_cell  8\n",
      "(ch1.shape[1] // pix_per_cell)  106\n",
      "cell_per_block  2\n",
      "nxblocks  105\n"
     ]
    },
    {
     "name": "stderr",
     "output_type": "stream",
     "text": [
      "\r",
      " 49%|████▉     | 615/1261 [09:11<09:38,  1.12it/s]"
     ]
    },
    {
     "name": "stdout",
     "output_type": "stream",
     "text": [
      "no. of rectangles found is  15\n",
      "spatial_size  (16, 16)\n",
      "hist  16\n",
      "orient  9\n",
      "ch1.shape[1]  853\n",
      "pix_per_cell  8\n",
      "(ch1.shape[1] // pix_per_cell)  106\n",
      "cell_per_block  2\n",
      "nxblocks  105\n"
     ]
    },
    {
     "name": "stderr",
     "output_type": "stream",
     "text": [
      "\r",
      " 49%|████▉     | 616/1261 [09:12<09:38,  1.12it/s]"
     ]
    },
    {
     "name": "stdout",
     "output_type": "stream",
     "text": [
      "no. of rectangles found is  13\n",
      "spatial_size  (16, 16)\n",
      "hist  16\n",
      "orient  9\n",
      "ch1.shape[1]  853\n",
      "pix_per_cell  8\n",
      "(ch1.shape[1] // pix_per_cell)  106\n",
      "cell_per_block  2\n",
      "nxblocks  105\n"
     ]
    },
    {
     "name": "stderr",
     "output_type": "stream",
     "text": [
      "\r",
      " 49%|████▉     | 617/1261 [09:13<09:35,  1.12it/s]"
     ]
    },
    {
     "name": "stdout",
     "output_type": "stream",
     "text": [
      "no. of rectangles found is  12\n",
      "spatial_size  (16, 16)\n",
      "hist  16\n",
      "orient  9\n",
      "ch1.shape[1]  853\n",
      "pix_per_cell  8\n",
      "(ch1.shape[1] // pix_per_cell)  106\n",
      "cell_per_block  2\n",
      "nxblocks  105\n"
     ]
    },
    {
     "name": "stderr",
     "output_type": "stream",
     "text": [
      "\r",
      " 49%|████▉     | 618/1261 [09:13<09:33,  1.12it/s]"
     ]
    },
    {
     "name": "stdout",
     "output_type": "stream",
     "text": [
      "no. of rectangles found is  28\n",
      "spatial_size  (16, 16)\n",
      "hist  16\n",
      "orient  9\n",
      "ch1.shape[1]  853\n",
      "pix_per_cell  8\n",
      "(ch1.shape[1] // pix_per_cell)  106\n",
      "cell_per_block  2\n",
      "nxblocks  105\n"
     ]
    },
    {
     "name": "stderr",
     "output_type": "stream",
     "text": [
      "\r",
      " 49%|████▉     | 619/1261 [09:14<09:31,  1.12it/s]"
     ]
    },
    {
     "name": "stdout",
     "output_type": "stream",
     "text": [
      "no. of rectangles found is  16\n",
      "spatial_size  (16, 16)\n",
      "hist  16\n",
      "orient  9\n",
      "ch1.shape[1]  853\n",
      "pix_per_cell  8\n",
      "(ch1.shape[1] // pix_per_cell)  106\n",
      "cell_per_block  2\n",
      "nxblocks  105\n"
     ]
    },
    {
     "name": "stderr",
     "output_type": "stream",
     "text": [
      "\r",
      " 49%|████▉     | 620/1261 [09:15<09:33,  1.12it/s]"
     ]
    },
    {
     "name": "stdout",
     "output_type": "stream",
     "text": [
      "no. of rectangles found is  28\n",
      "spatial_size  (16, 16)\n",
      "hist  16\n",
      "orient  9\n",
      "ch1.shape[1]  853\n",
      "pix_per_cell  8\n",
      "(ch1.shape[1] // pix_per_cell)  106\n",
      "cell_per_block  2\n",
      "nxblocks  105\n"
     ]
    },
    {
     "name": "stderr",
     "output_type": "stream",
     "text": [
      "\r",
      " 49%|████▉     | 621/1261 [09:16<09:32,  1.12it/s]"
     ]
    },
    {
     "name": "stdout",
     "output_type": "stream",
     "text": [
      "no. of rectangles found is  8\n",
      "spatial_size  (16, 16)\n",
      "hist  16\n",
      "orient  9\n",
      "ch1.shape[1]  853\n",
      "pix_per_cell  8\n",
      "(ch1.shape[1] // pix_per_cell)  106\n",
      "cell_per_block  2\n",
      "nxblocks  105\n"
     ]
    },
    {
     "name": "stderr",
     "output_type": "stream",
     "text": [
      "\r",
      " 49%|████▉     | 622/1261 [09:17<09:29,  1.12it/s]"
     ]
    },
    {
     "name": "stdout",
     "output_type": "stream",
     "text": [
      "no. of rectangles found is  14\n",
      "spatial_size  (16, 16)\n",
      "hist  16\n",
      "orient  9\n",
      "ch1.shape[1]  853\n",
      "pix_per_cell  8\n",
      "(ch1.shape[1] // pix_per_cell)  106\n",
      "cell_per_block  2\n",
      "nxblocks  105\n"
     ]
    },
    {
     "name": "stderr",
     "output_type": "stream",
     "text": [
      "\r",
      " 49%|████▉     | 623/1261 [09:18<09:25,  1.13it/s]"
     ]
    },
    {
     "name": "stdout",
     "output_type": "stream",
     "text": [
      "no. of rectangles found is  14\n",
      "spatial_size  (16, 16)\n",
      "hist  16\n",
      "orient  9\n",
      "ch1.shape[1]  853\n",
      "pix_per_cell  8\n",
      "(ch1.shape[1] // pix_per_cell)  106\n",
      "cell_per_block  2\n",
      "nxblocks  105\n"
     ]
    },
    {
     "name": "stderr",
     "output_type": "stream",
     "text": [
      "\r",
      " 49%|████▉     | 624/1261 [09:19<09:27,  1.12it/s]"
     ]
    },
    {
     "name": "stdout",
     "output_type": "stream",
     "text": [
      "no. of rectangles found is  18\n",
      "spatial_size  (16, 16)\n",
      "hist  16\n",
      "orient  9\n",
      "ch1.shape[1]  853\n",
      "pix_per_cell  8\n",
      "(ch1.shape[1] // pix_per_cell)  106\n",
      "cell_per_block  2\n",
      "nxblocks  105\n"
     ]
    },
    {
     "name": "stderr",
     "output_type": "stream",
     "text": [
      "\r",
      " 50%|████▉     | 625/1261 [09:20<09:25,  1.12it/s]"
     ]
    },
    {
     "name": "stdout",
     "output_type": "stream",
     "text": [
      "no. of rectangles found is  19\n",
      "spatial_size  (16, 16)\n",
      "hist  16\n",
      "orient  9\n",
      "ch1.shape[1]  853\n",
      "pix_per_cell  8\n",
      "(ch1.shape[1] // pix_per_cell)  106\n",
      "cell_per_block  2\n",
      "nxblocks  105\n"
     ]
    },
    {
     "name": "stderr",
     "output_type": "stream",
     "text": [
      "\r",
      " 50%|████▉     | 626/1261 [09:21<09:28,  1.12it/s]"
     ]
    },
    {
     "name": "stdout",
     "output_type": "stream",
     "text": [
      "no. of rectangles found is  9\n",
      "spatial_size  (16, 16)\n",
      "hist  16\n",
      "orient  9\n",
      "ch1.shape[1]  853\n",
      "pix_per_cell  8\n",
      "(ch1.shape[1] // pix_per_cell)  106\n",
      "cell_per_block  2\n",
      "nxblocks  105\n"
     ]
    },
    {
     "name": "stderr",
     "output_type": "stream",
     "text": [
      "\r",
      " 50%|████▉     | 627/1261 [09:22<09:25,  1.12it/s]"
     ]
    },
    {
     "name": "stdout",
     "output_type": "stream",
     "text": [
      "no. of rectangles found is  16\n",
      "spatial_size  (16, 16)\n",
      "hist  16\n",
      "orient  9\n",
      "ch1.shape[1]  853\n",
      "pix_per_cell  8\n",
      "(ch1.shape[1] // pix_per_cell)  106\n",
      "cell_per_block  2\n",
      "nxblocks  105\n"
     ]
    },
    {
     "name": "stderr",
     "output_type": "stream",
     "text": [
      "\r",
      " 50%|████▉     | 628/1261 [09:22<09:32,  1.11it/s]"
     ]
    },
    {
     "name": "stdout",
     "output_type": "stream",
     "text": [
      "no. of rectangles found is  12\n",
      "spatial_size  (16, 16)\n",
      "hist  16\n",
      "orient  9\n",
      "ch1.shape[1]  853\n",
      "pix_per_cell  8\n",
      "(ch1.shape[1] // pix_per_cell)  106\n",
      "cell_per_block  2\n",
      "nxblocks  105\n"
     ]
    },
    {
     "name": "stderr",
     "output_type": "stream",
     "text": [
      "\r",
      " 50%|████▉     | 629/1261 [09:23<09:28,  1.11it/s]"
     ]
    },
    {
     "name": "stdout",
     "output_type": "stream",
     "text": [
      "no. of rectangles found is  7\n",
      "spatial_size  (16, 16)\n",
      "hist  16\n",
      "orient  9\n",
      "ch1.shape[1]  853\n",
      "pix_per_cell  8\n",
      "(ch1.shape[1] // pix_per_cell)  106\n",
      "cell_per_block  2\n",
      "nxblocks  105\n"
     ]
    },
    {
     "name": "stderr",
     "output_type": "stream",
     "text": [
      "\r",
      " 50%|████▉     | 630/1261 [09:24<09:25,  1.12it/s]"
     ]
    },
    {
     "name": "stdout",
     "output_type": "stream",
     "text": [
      "no. of rectangles found is  10\n",
      "spatial_size  (16, 16)\n",
      "hist  16\n",
      "orient  9\n",
      "ch1.shape[1]  853\n",
      "pix_per_cell  8\n",
      "(ch1.shape[1] // pix_per_cell)  106\n",
      "cell_per_block  2\n",
      "nxblocks  105\n"
     ]
    },
    {
     "name": "stderr",
     "output_type": "stream",
     "text": [
      "\r",
      " 50%|█████     | 631/1261 [09:25<09:22,  1.12it/s]"
     ]
    },
    {
     "name": "stdout",
     "output_type": "stream",
     "text": [
      "no. of rectangles found is  5\n",
      "spatial_size  (16, 16)\n",
      "hist  16\n",
      "orient  9\n",
      "ch1.shape[1]  853\n",
      "pix_per_cell  8\n",
      "(ch1.shape[1] // pix_per_cell)  106\n",
      "cell_per_block  2\n",
      "nxblocks  105\n"
     ]
    },
    {
     "name": "stderr",
     "output_type": "stream",
     "text": [
      "\r",
      " 50%|█████     | 632/1261 [09:26<09:20,  1.12it/s]"
     ]
    },
    {
     "name": "stdout",
     "output_type": "stream",
     "text": [
      "no. of rectangles found is  2\n",
      "spatial_size  (16, 16)\n",
      "hist  16\n",
      "orient  9\n",
      "ch1.shape[1]  853\n",
      "pix_per_cell  8\n",
      "(ch1.shape[1] // pix_per_cell)  106\n",
      "cell_per_block  2\n",
      "nxblocks  105\n"
     ]
    },
    {
     "name": "stderr",
     "output_type": "stream",
     "text": [
      "\r",
      " 50%|█████     | 633/1261 [09:27<09:19,  1.12it/s]"
     ]
    },
    {
     "name": "stdout",
     "output_type": "stream",
     "text": [
      "no. of rectangles found is  5\n",
      "spatial_size  (16, 16)\n",
      "hist  16\n",
      "orient  9\n",
      "ch1.shape[1]  853\n",
      "pix_per_cell  8\n",
      "(ch1.shape[1] // pix_per_cell)  106\n",
      "cell_per_block  2\n",
      "nxblocks  105\n"
     ]
    },
    {
     "name": "stderr",
     "output_type": "stream",
     "text": [
      "\r",
      " 50%|█████     | 634/1261 [09:28<09:18,  1.12it/s]"
     ]
    },
    {
     "name": "stdout",
     "output_type": "stream",
     "text": [
      "no. of rectangles found is  3\n",
      "spatial_size  (16, 16)\n",
      "hist  16\n",
      "orient  9\n",
      "ch1.shape[1]  853\n",
      "pix_per_cell  8\n",
      "(ch1.shape[1] // pix_per_cell)  106\n",
      "cell_per_block  2\n",
      "nxblocks  105\n"
     ]
    },
    {
     "name": "stderr",
     "output_type": "stream",
     "text": [
      "\r",
      " 50%|█████     | 635/1261 [09:29<09:18,  1.12it/s]"
     ]
    },
    {
     "name": "stdout",
     "output_type": "stream",
     "text": [
      "no. of rectangles found is  15\n",
      "spatial_size  (16, 16)\n",
      "hist  16\n",
      "orient  9\n",
      "ch1.shape[1]  853\n",
      "pix_per_cell  8\n",
      "(ch1.shape[1] // pix_per_cell)  106\n",
      "cell_per_block  2\n",
      "nxblocks  105\n"
     ]
    },
    {
     "name": "stderr",
     "output_type": "stream",
     "text": [
      "\r",
      " 50%|█████     | 636/1261 [09:30<09:18,  1.12it/s]"
     ]
    },
    {
     "name": "stdout",
     "output_type": "stream",
     "text": [
      "no. of rectangles found is  11\n",
      "spatial_size  (16, 16)\n",
      "hist  16\n",
      "orient  9\n",
      "ch1.shape[1]  853\n",
      "pix_per_cell  8\n",
      "(ch1.shape[1] // pix_per_cell)  106\n",
      "cell_per_block  2\n",
      "nxblocks  105\n"
     ]
    },
    {
     "name": "stderr",
     "output_type": "stream",
     "text": [
      "\r",
      " 51%|█████     | 637/1261 [09:30<09:18,  1.12it/s]"
     ]
    },
    {
     "name": "stdout",
     "output_type": "stream",
     "text": [
      "no. of rectangles found is  23\n",
      "spatial_size  (16, 16)\n",
      "hist  16\n",
      "orient  9\n",
      "ch1.shape[1]  853\n",
      "pix_per_cell  8\n",
      "(ch1.shape[1] // pix_per_cell)  106\n",
      "cell_per_block  2\n",
      "nxblocks  105\n"
     ]
    },
    {
     "name": "stderr",
     "output_type": "stream",
     "text": [
      "\r",
      " 51%|█████     | 638/1261 [09:31<09:13,  1.13it/s]"
     ]
    },
    {
     "name": "stdout",
     "output_type": "stream",
     "text": [
      "no. of rectangles found is  19\n",
      "spatial_size  (16, 16)\n",
      "hist  16\n",
      "orient  9\n",
      "ch1.shape[1]  853\n",
      "pix_per_cell  8\n",
      "(ch1.shape[1] // pix_per_cell)  106\n",
      "cell_per_block  2\n",
      "nxblocks  105\n"
     ]
    },
    {
     "name": "stderr",
     "output_type": "stream",
     "text": [
      "\r",
      " 51%|█████     | 639/1261 [09:32<09:13,  1.12it/s]"
     ]
    },
    {
     "name": "stdout",
     "output_type": "stream",
     "text": [
      "no. of rectangles found is  22\n",
      "spatial_size  (16, 16)\n",
      "hist  16\n",
      "orient  9\n",
      "ch1.shape[1]  853\n",
      "pix_per_cell  8\n",
      "(ch1.shape[1] // pix_per_cell)  106\n",
      "cell_per_block  2\n",
      "nxblocks  105\n"
     ]
    },
    {
     "name": "stderr",
     "output_type": "stream",
     "text": [
      "\r",
      " 51%|█████     | 640/1261 [09:33<09:11,  1.13it/s]"
     ]
    },
    {
     "name": "stdout",
     "output_type": "stream",
     "text": [
      "no. of rectangles found is  11\n",
      "spatial_size  (16, 16)\n",
      "hist  16\n",
      "orient  9\n",
      "ch1.shape[1]  853\n",
      "pix_per_cell  8\n",
      "(ch1.shape[1] // pix_per_cell)  106\n",
      "cell_per_block  2\n",
      "nxblocks  105\n"
     ]
    },
    {
     "name": "stderr",
     "output_type": "stream",
     "text": [
      "\r",
      " 51%|█████     | 641/1261 [09:34<09:11,  1.12it/s]"
     ]
    },
    {
     "name": "stdout",
     "output_type": "stream",
     "text": [
      "no. of rectangles found is  20\n",
      "spatial_size  (16, 16)\n",
      "hist  16\n",
      "orient  9\n",
      "ch1.shape[1]  853\n",
      "pix_per_cell  8\n",
      "(ch1.shape[1] // pix_per_cell)  106\n",
      "cell_per_block  2\n",
      "nxblocks  105\n"
     ]
    },
    {
     "name": "stderr",
     "output_type": "stream",
     "text": [
      "\r",
      " 51%|█████     | 642/1261 [09:35<09:12,  1.12it/s]"
     ]
    },
    {
     "name": "stdout",
     "output_type": "stream",
     "text": [
      "no. of rectangles found is  17\n",
      "spatial_size  (16, 16)\n",
      "hist  16\n",
      "orient  9\n",
      "ch1.shape[1]  853\n",
      "pix_per_cell  8\n",
      "(ch1.shape[1] // pix_per_cell)  106\n",
      "cell_per_block  2\n",
      "nxblocks  105\n"
     ]
    },
    {
     "name": "stderr",
     "output_type": "stream",
     "text": [
      "\r",
      " 51%|█████     | 643/1261 [09:36<09:17,  1.11it/s]"
     ]
    },
    {
     "name": "stdout",
     "output_type": "stream",
     "text": [
      "no. of rectangles found is  15\n",
      "spatial_size  (16, 16)\n",
      "hist  16\n",
      "orient  9\n",
      "ch1.shape[1]  853\n",
      "pix_per_cell  8\n",
      "(ch1.shape[1] // pix_per_cell)  106\n",
      "cell_per_block  2\n",
      "nxblocks  105\n"
     ]
    },
    {
     "name": "stderr",
     "output_type": "stream",
     "text": [
      "\r",
      " 51%|█████     | 644/1261 [09:37<09:12,  1.12it/s]"
     ]
    },
    {
     "name": "stdout",
     "output_type": "stream",
     "text": [
      "no. of rectangles found is  16\n",
      "spatial_size  (16, 16)\n",
      "hist  16\n",
      "orient  9\n",
      "ch1.shape[1]  853\n",
      "pix_per_cell  8\n",
      "(ch1.shape[1] // pix_per_cell)  106\n",
      "cell_per_block  2\n",
      "nxblocks  105\n"
     ]
    },
    {
     "name": "stderr",
     "output_type": "stream",
     "text": [
      "\r",
      " 51%|█████     | 645/1261 [09:38<09:10,  1.12it/s]"
     ]
    },
    {
     "name": "stdout",
     "output_type": "stream",
     "text": [
      "no. of rectangles found is  14\n",
      "spatial_size  (16, 16)\n",
      "hist  16\n",
      "orient  9\n",
      "ch1.shape[1]  853\n",
      "pix_per_cell  8\n",
      "(ch1.shape[1] // pix_per_cell)  106\n",
      "cell_per_block  2\n",
      "nxblocks  105\n"
     ]
    },
    {
     "name": "stderr",
     "output_type": "stream",
     "text": [
      "\r",
      " 51%|█████     | 646/1261 [09:39<10:06,  1.01it/s]"
     ]
    },
    {
     "name": "stdout",
     "output_type": "stream",
     "text": [
      "no. of rectangles found is  9\n",
      "spatial_size  (16, 16)\n",
      "hist  16\n",
      "orient  9\n",
      "ch1.shape[1]  853\n",
      "pix_per_cell  8\n",
      "(ch1.shape[1] // pix_per_cell)  106\n",
      "cell_per_block  2\n",
      "nxblocks  105\n"
     ]
    },
    {
     "name": "stderr",
     "output_type": "stream",
     "text": [
      "\r",
      " 51%|█████▏    | 647/1261 [09:40<09:44,  1.05it/s]"
     ]
    },
    {
     "name": "stdout",
     "output_type": "stream",
     "text": [
      "no. of rectangles found is  11\n",
      "spatial_size  (16, 16)\n",
      "hist  16\n",
      "orient  9\n",
      "ch1.shape[1]  853\n",
      "pix_per_cell  8\n",
      "(ch1.shape[1] // pix_per_cell)  106\n",
      "cell_per_block  2\n",
      "nxblocks  105\n"
     ]
    },
    {
     "name": "stderr",
     "output_type": "stream",
     "text": [
      "\r",
      " 51%|█████▏    | 648/1261 [09:41<09:32,  1.07it/s]"
     ]
    },
    {
     "name": "stdout",
     "output_type": "stream",
     "text": [
      "no. of rectangles found is  8\n",
      "spatial_size  (16, 16)\n",
      "hist  16\n",
      "orient  9\n",
      "ch1.shape[1]  853\n",
      "pix_per_cell  8\n",
      "(ch1.shape[1] // pix_per_cell)  106\n",
      "cell_per_block  2\n",
      "nxblocks  105\n"
     ]
    },
    {
     "name": "stderr",
     "output_type": "stream",
     "text": [
      "\r",
      " 51%|█████▏    | 649/1261 [09:41<09:21,  1.09it/s]"
     ]
    },
    {
     "name": "stdout",
     "output_type": "stream",
     "text": [
      "no. of rectangles found is  4\n",
      "spatial_size  (16, 16)\n",
      "hist  16\n",
      "orient  9\n",
      "ch1.shape[1]  853\n",
      "pix_per_cell  8\n",
      "(ch1.shape[1] // pix_per_cell)  106\n",
      "cell_per_block  2\n",
      "nxblocks  105\n"
     ]
    },
    {
     "name": "stderr",
     "output_type": "stream",
     "text": [
      "\r",
      " 52%|█████▏    | 650/1261 [09:42<09:13,  1.10it/s]"
     ]
    },
    {
     "name": "stdout",
     "output_type": "stream",
     "text": [
      "no. of rectangles found is  7\n",
      "spatial_size  (16, 16)\n",
      "hist  16\n",
      "orient  9\n",
      "ch1.shape[1]  853\n",
      "pix_per_cell  8\n",
      "(ch1.shape[1] // pix_per_cell)  106\n",
      "cell_per_block  2\n",
      "nxblocks  105\n"
     ]
    },
    {
     "name": "stderr",
     "output_type": "stream",
     "text": [
      "\r",
      " 52%|█████▏    | 651/1261 [09:43<09:09,  1.11it/s]"
     ]
    },
    {
     "name": "stdout",
     "output_type": "stream",
     "text": [
      "no. of rectangles found is  5\n",
      "spatial_size  (16, 16)\n",
      "hist  16\n",
      "orient  9\n",
      "ch1.shape[1]  853\n",
      "pix_per_cell  8\n",
      "(ch1.shape[1] // pix_per_cell)  106\n",
      "cell_per_block  2\n",
      "nxblocks  105\n"
     ]
    },
    {
     "name": "stderr",
     "output_type": "stream",
     "text": [
      "\r",
      " 52%|█████▏    | 652/1261 [09:44<09:05,  1.12it/s]"
     ]
    },
    {
     "name": "stdout",
     "output_type": "stream",
     "text": [
      "no. of rectangles found is  7\n",
      "spatial_size  (16, 16)\n",
      "hist  16\n",
      "orient  9\n",
      "ch1.shape[1]  853\n",
      "pix_per_cell  8\n",
      "(ch1.shape[1] // pix_per_cell)  106\n",
      "cell_per_block  2\n",
      "nxblocks  105\n"
     ]
    },
    {
     "name": "stderr",
     "output_type": "stream",
     "text": [
      "\r",
      " 52%|█████▏    | 653/1261 [09:45<09:02,  1.12it/s]"
     ]
    },
    {
     "name": "stdout",
     "output_type": "stream",
     "text": [
      "no. of rectangles found is  7\n",
      "spatial_size  (16, 16)\n",
      "hist  16\n",
      "orient  9\n",
      "ch1.shape[1]  853\n",
      "pix_per_cell  8\n",
      "(ch1.shape[1] // pix_per_cell)  106\n",
      "cell_per_block  2\n",
      "nxblocks  105\n"
     ]
    },
    {
     "name": "stderr",
     "output_type": "stream",
     "text": [
      "\r",
      " 52%|█████▏    | 654/1261 [09:46<09:02,  1.12it/s]"
     ]
    },
    {
     "name": "stdout",
     "output_type": "stream",
     "text": [
      "no. of rectangles found is  3\n",
      "spatial_size  (16, 16)\n",
      "hist  16\n",
      "orient  9\n",
      "ch1.shape[1]  853\n",
      "pix_per_cell  8\n",
      "(ch1.shape[1] // pix_per_cell)  106\n",
      "cell_per_block  2\n",
      "nxblocks  105\n"
     ]
    },
    {
     "name": "stderr",
     "output_type": "stream",
     "text": [
      "\r",
      " 52%|█████▏    | 655/1261 [09:47<08:58,  1.13it/s]"
     ]
    },
    {
     "name": "stdout",
     "output_type": "stream",
     "text": [
      "no. of rectangles found is  0\n",
      "spatial_size  (16, 16)\n",
      "hist  16\n",
      "orient  9\n",
      "ch1.shape[1]  853\n",
      "pix_per_cell  8\n",
      "(ch1.shape[1] // pix_per_cell)  106\n",
      "cell_per_block  2\n",
      "nxblocks  105\n"
     ]
    },
    {
     "name": "stderr",
     "output_type": "stream",
     "text": [
      "\r",
      " 52%|█████▏    | 656/1261 [09:48<08:57,  1.13it/s]"
     ]
    },
    {
     "name": "stdout",
     "output_type": "stream",
     "text": [
      "no. of rectangles found is  5\n",
      "spatial_size  (16, 16)\n",
      "hist  16\n",
      "orient  9\n",
      "ch1.shape[1]  853\n",
      "pix_per_cell  8\n",
      "(ch1.shape[1] // pix_per_cell)  106\n",
      "cell_per_block  2\n",
      "nxblocks  105\n"
     ]
    },
    {
     "name": "stderr",
     "output_type": "stream",
     "text": [
      "\r",
      " 52%|█████▏    | 657/1261 [09:49<09:03,  1.11it/s]"
     ]
    },
    {
     "name": "stdout",
     "output_type": "stream",
     "text": [
      "no. of rectangles found is  2\n",
      "spatial_size  (16, 16)\n",
      "hist  16\n",
      "orient  9\n",
      "ch1.shape[1]  853\n",
      "pix_per_cell  8\n",
      "(ch1.shape[1] // pix_per_cell)  106\n",
      "cell_per_block  2\n",
      "nxblocks  105\n"
     ]
    },
    {
     "name": "stderr",
     "output_type": "stream",
     "text": [
      "\r",
      " 52%|█████▏    | 658/1261 [09:50<09:08,  1.10it/s]"
     ]
    },
    {
     "name": "stdout",
     "output_type": "stream",
     "text": [
      "no. of rectangles found is  4\n",
      "spatial_size  (16, 16)\n",
      "hist  16\n",
      "orient  9\n",
      "ch1.shape[1]  853\n",
      "pix_per_cell  8\n",
      "(ch1.shape[1] // pix_per_cell)  106\n",
      "cell_per_block  2\n",
      "nxblocks  105\n"
     ]
    },
    {
     "name": "stderr",
     "output_type": "stream",
     "text": [
      "\r",
      " 52%|█████▏    | 659/1261 [09:50<09:10,  1.09it/s]"
     ]
    },
    {
     "name": "stdout",
     "output_type": "stream",
     "text": [
      "no. of rectangles found is  6\n",
      "spatial_size  (16, 16)\n",
      "hist  16\n",
      "orient  9\n",
      "ch1.shape[1]  853\n",
      "pix_per_cell  8\n",
      "(ch1.shape[1] // pix_per_cell)  106\n",
      "cell_per_block  2\n",
      "nxblocks  105\n"
     ]
    },
    {
     "name": "stderr",
     "output_type": "stream",
     "text": [
      "\r",
      " 52%|█████▏    | 660/1261 [09:51<09:11,  1.09it/s]"
     ]
    },
    {
     "name": "stdout",
     "output_type": "stream",
     "text": [
      "no. of rectangles found is  4\n",
      "spatial_size  (16, 16)\n",
      "hist  16\n",
      "orient  9\n",
      "ch1.shape[1]  853\n",
      "pix_per_cell  8\n",
      "(ch1.shape[1] // pix_per_cell)  106\n",
      "cell_per_block  2\n",
      "nxblocks  105\n"
     ]
    },
    {
     "name": "stderr",
     "output_type": "stream",
     "text": [
      "\r",
      " 52%|█████▏    | 661/1261 [09:52<09:05,  1.10it/s]"
     ]
    },
    {
     "name": "stdout",
     "output_type": "stream",
     "text": [
      "no. of rectangles found is  3\n",
      "spatial_size  (16, 16)\n",
      "hist  16\n",
      "orient  9\n",
      "ch1.shape[1]  853\n",
      "pix_per_cell  8\n",
      "(ch1.shape[1] // pix_per_cell)  106\n",
      "cell_per_block  2\n",
      "nxblocks  105\n"
     ]
    },
    {
     "name": "stderr",
     "output_type": "stream",
     "text": [
      "\r",
      " 52%|█████▏    | 662/1261 [09:53<09:04,  1.10it/s]"
     ]
    },
    {
     "name": "stdout",
     "output_type": "stream",
     "text": [
      "no. of rectangles found is  4\n",
      "spatial_size  (16, 16)\n",
      "hist  16\n",
      "orient  9\n",
      "ch1.shape[1]  853\n",
      "pix_per_cell  8\n",
      "(ch1.shape[1] // pix_per_cell)  106\n",
      "cell_per_block  2\n",
      "nxblocks  105\n"
     ]
    },
    {
     "name": "stderr",
     "output_type": "stream",
     "text": [
      "\r",
      " 53%|█████▎    | 663/1261 [09:54<08:59,  1.11it/s]"
     ]
    },
    {
     "name": "stdout",
     "output_type": "stream",
     "text": [
      "no. of rectangles found is  4\n",
      "spatial_size  (16, 16)\n",
      "hist  16\n",
      "orient  9\n",
      "ch1.shape[1]  853\n",
      "pix_per_cell  8\n",
      "(ch1.shape[1] // pix_per_cell)  106\n",
      "cell_per_block  2\n",
      "nxblocks  105\n"
     ]
    },
    {
     "name": "stderr",
     "output_type": "stream",
     "text": [
      "\r",
      " 53%|█████▎    | 664/1261 [09:55<08:54,  1.12it/s]"
     ]
    },
    {
     "name": "stdout",
     "output_type": "stream",
     "text": [
      "no. of rectangles found is  8\n",
      "spatial_size  (16, 16)\n",
      "hist  16\n",
      "orient  9\n",
      "ch1.shape[1]  853\n",
      "pix_per_cell  8\n",
      "(ch1.shape[1] // pix_per_cell)  106\n",
      "cell_per_block  2\n",
      "nxblocks  105\n"
     ]
    },
    {
     "name": "stderr",
     "output_type": "stream",
     "text": [
      "\r",
      " 53%|█████▎    | 665/1261 [09:56<08:52,  1.12it/s]"
     ]
    },
    {
     "name": "stdout",
     "output_type": "stream",
     "text": [
      "no. of rectangles found is  13\n",
      "spatial_size  (16, 16)\n",
      "hist  16\n",
      "orient  9\n",
      "ch1.shape[1]  853\n",
      "pix_per_cell  8\n",
      "(ch1.shape[1] // pix_per_cell)  106\n",
      "cell_per_block  2\n",
      "nxblocks  105\n"
     ]
    },
    {
     "name": "stderr",
     "output_type": "stream",
     "text": [
      "\r",
      " 53%|█████▎    | 666/1261 [09:57<08:50,  1.12it/s]"
     ]
    },
    {
     "name": "stdout",
     "output_type": "stream",
     "text": [
      "no. of rectangles found is  9\n",
      "spatial_size  (16, 16)\n",
      "hist  16\n",
      "orient  9\n",
      "ch1.shape[1]  853\n",
      "pix_per_cell  8\n",
      "(ch1.shape[1] // pix_per_cell)  106\n",
      "cell_per_block  2\n",
      "nxblocks  105\n"
     ]
    },
    {
     "name": "stderr",
     "output_type": "stream",
     "text": [
      "\r",
      " 53%|█████▎    | 667/1261 [09:58<08:49,  1.12it/s]"
     ]
    },
    {
     "name": "stdout",
     "output_type": "stream",
     "text": [
      "no. of rectangles found is  10\n",
      "spatial_size  (16, 16)\n",
      "hist  16\n",
      "orient  9\n",
      "ch1.shape[1]  853\n",
      "pix_per_cell  8\n",
      "(ch1.shape[1] // pix_per_cell)  106\n",
      "cell_per_block  2\n",
      "nxblocks  105\n"
     ]
    },
    {
     "name": "stderr",
     "output_type": "stream",
     "text": [
      "\r",
      " 53%|█████▎    | 668/1261 [09:58<08:49,  1.12it/s]"
     ]
    },
    {
     "name": "stdout",
     "output_type": "stream",
     "text": [
      "no. of rectangles found is  15\n",
      "spatial_size  (16, 16)\n",
      "hist  16\n",
      "orient  9\n",
      "ch1.shape[1]  853\n",
      "pix_per_cell  8\n",
      "(ch1.shape[1] // pix_per_cell)  106\n",
      "cell_per_block  2\n",
      "nxblocks  105\n"
     ]
    },
    {
     "name": "stderr",
     "output_type": "stream",
     "text": [
      "\r",
      " 53%|█████▎    | 669/1261 [09:59<08:49,  1.12it/s]"
     ]
    },
    {
     "name": "stdout",
     "output_type": "stream",
     "text": [
      "no. of rectangles found is  11\n",
      "spatial_size  (16, 16)\n",
      "hist  16\n",
      "orient  9\n",
      "ch1.shape[1]  853\n",
      "pix_per_cell  8\n",
      "(ch1.shape[1] // pix_per_cell)  106\n",
      "cell_per_block  2\n",
      "nxblocks  105\n"
     ]
    },
    {
     "name": "stderr",
     "output_type": "stream",
     "text": [
      "\r",
      " 53%|█████▎    | 670/1261 [10:00<08:49,  1.12it/s]"
     ]
    },
    {
     "name": "stdout",
     "output_type": "stream",
     "text": [
      "no. of rectangles found is  10\n",
      "spatial_size  (16, 16)\n",
      "hist  16\n",
      "orient  9\n",
      "ch1.shape[1]  853\n",
      "pix_per_cell  8\n",
      "(ch1.shape[1] // pix_per_cell)  106\n",
      "cell_per_block  2\n",
      "nxblocks  105\n"
     ]
    },
    {
     "name": "stderr",
     "output_type": "stream",
     "text": [
      "\r",
      " 53%|█████▎    | 671/1261 [10:01<08:49,  1.12it/s]"
     ]
    },
    {
     "name": "stdout",
     "output_type": "stream",
     "text": [
      "no. of rectangles found is  10\n",
      "spatial_size  (16, 16)\n",
      "hist  16\n",
      "orient  9\n",
      "ch1.shape[1]  853\n",
      "pix_per_cell  8\n",
      "(ch1.shape[1] // pix_per_cell)  106\n",
      "cell_per_block  2\n",
      "nxblocks  105\n"
     ]
    },
    {
     "name": "stderr",
     "output_type": "stream",
     "text": [
      "\r",
      " 53%|█████▎    | 672/1261 [10:02<08:47,  1.12it/s]"
     ]
    },
    {
     "name": "stdout",
     "output_type": "stream",
     "text": [
      "no. of rectangles found is  11\n",
      "spatial_size  (16, 16)\n",
      "hist  16\n",
      "orient  9\n",
      "ch1.shape[1]  853\n",
      "pix_per_cell  8\n",
      "(ch1.shape[1] // pix_per_cell)  106\n",
      "cell_per_block  2\n",
      "nxblocks  105\n"
     ]
    },
    {
     "name": "stderr",
     "output_type": "stream",
     "text": [
      "\r",
      " 53%|█████▎    | 673/1261 [10:03<08:44,  1.12it/s]"
     ]
    },
    {
     "name": "stdout",
     "output_type": "stream",
     "text": [
      "no. of rectangles found is  4\n",
      "spatial_size  (16, 16)\n",
      "hist  16\n",
      "orient  9\n",
      "ch1.shape[1]  853\n",
      "pix_per_cell  8\n",
      "(ch1.shape[1] // pix_per_cell)  106\n",
      "cell_per_block  2\n",
      "nxblocks  105\n"
     ]
    },
    {
     "name": "stderr",
     "output_type": "stream",
     "text": [
      "\r",
      " 53%|█████▎    | 674/1261 [10:04<08:44,  1.12it/s]"
     ]
    },
    {
     "name": "stdout",
     "output_type": "stream",
     "text": [
      "no. of rectangles found is  5\n",
      "spatial_size  (16, 16)\n",
      "hist  16\n",
      "orient  9\n",
      "ch1.shape[1]  853\n",
      "pix_per_cell  8\n",
      "(ch1.shape[1] // pix_per_cell)  106\n",
      "cell_per_block  2\n",
      "nxblocks  105\n"
     ]
    },
    {
     "name": "stderr",
     "output_type": "stream",
     "text": [
      "\r",
      " 54%|█████▎    | 675/1261 [10:05<08:42,  1.12it/s]"
     ]
    },
    {
     "name": "stdout",
     "output_type": "stream",
     "text": [
      "no. of rectangles found is  5\n",
      "spatial_size  (16, 16)\n",
      "hist  16\n",
      "orient  9\n",
      "ch1.shape[1]  853\n",
      "pix_per_cell  8\n",
      "(ch1.shape[1] // pix_per_cell)  106\n",
      "cell_per_block  2\n",
      "nxblocks  105\n"
     ]
    },
    {
     "name": "stderr",
     "output_type": "stream",
     "text": [
      "\r",
      " 54%|█████▎    | 676/1261 [10:06<08:40,  1.12it/s]"
     ]
    },
    {
     "name": "stdout",
     "output_type": "stream",
     "text": [
      "no. of rectangles found is  10\n",
      "spatial_size  (16, 16)\n",
      "hist  16\n",
      "orient  9\n",
      "ch1.shape[1]  853\n",
      "pix_per_cell  8\n",
      "(ch1.shape[1] // pix_per_cell)  106\n",
      "cell_per_block  2\n",
      "nxblocks  105\n"
     ]
    },
    {
     "name": "stderr",
     "output_type": "stream",
     "text": [
      "\r",
      " 54%|█████▎    | 677/1261 [10:07<08:40,  1.12it/s]"
     ]
    },
    {
     "name": "stdout",
     "output_type": "stream",
     "text": [
      "no. of rectangles found is  10\n",
      "spatial_size  (16, 16)\n",
      "hist  16\n",
      "orient  9\n",
      "ch1.shape[1]  853\n",
      "pix_per_cell  8\n",
      "(ch1.shape[1] // pix_per_cell)  106\n",
      "cell_per_block  2\n",
      "nxblocks  105\n"
     ]
    },
    {
     "name": "stderr",
     "output_type": "stream",
     "text": [
      "\r",
      " 54%|█████▍    | 678/1261 [10:07<08:39,  1.12it/s]"
     ]
    },
    {
     "name": "stdout",
     "output_type": "stream",
     "text": [
      "no. of rectangles found is  4\n",
      "spatial_size  (16, 16)\n",
      "hist  16\n",
      "orient  9\n",
      "ch1.shape[1]  853\n",
      "pix_per_cell  8\n",
      "(ch1.shape[1] // pix_per_cell)  106\n",
      "cell_per_block  2\n",
      "nxblocks  105\n"
     ]
    },
    {
     "name": "stderr",
     "output_type": "stream",
     "text": [
      "\r",
      " 54%|█████▍    | 679/1261 [10:08<08:39,  1.12it/s]"
     ]
    },
    {
     "name": "stdout",
     "output_type": "stream",
     "text": [
      "no. of rectangles found is  9\n",
      "spatial_size  (16, 16)\n",
      "hist  16\n",
      "orient  9\n",
      "ch1.shape[1]  853\n",
      "pix_per_cell  8\n",
      "(ch1.shape[1] // pix_per_cell)  106\n",
      "cell_per_block  2\n",
      "nxblocks  105\n"
     ]
    },
    {
     "name": "stderr",
     "output_type": "stream",
     "text": [
      "\r",
      " 54%|█████▍    | 680/1261 [10:09<08:37,  1.12it/s]"
     ]
    },
    {
     "name": "stdout",
     "output_type": "stream",
     "text": [
      "no. of rectangles found is  9\n",
      "spatial_size  (16, 16)\n",
      "hist  16\n",
      "orient  9\n",
      "ch1.shape[1]  853\n",
      "pix_per_cell  8\n",
      "(ch1.shape[1] // pix_per_cell)  106\n",
      "cell_per_block  2\n",
      "nxblocks  105\n"
     ]
    },
    {
     "name": "stderr",
     "output_type": "stream",
     "text": [
      "\r",
      " 54%|█████▍    | 681/1261 [10:10<08:36,  1.12it/s]"
     ]
    },
    {
     "name": "stdout",
     "output_type": "stream",
     "text": [
      "no. of rectangles found is  14\n",
      "spatial_size  (16, 16)\n",
      "hist  16\n",
      "orient  9\n",
      "ch1.shape[1]  853\n",
      "pix_per_cell  8\n",
      "(ch1.shape[1] // pix_per_cell)  106\n",
      "cell_per_block  2\n",
      "nxblocks  105\n"
     ]
    },
    {
     "name": "stderr",
     "output_type": "stream",
     "text": [
      "\r",
      " 54%|█████▍    | 682/1261 [10:11<08:52,  1.09it/s]"
     ]
    },
    {
     "name": "stdout",
     "output_type": "stream",
     "text": [
      "no. of rectangles found is  8\n",
      "spatial_size  (16, 16)\n",
      "hist  16\n",
      "orient  9\n",
      "ch1.shape[1]  853\n",
      "pix_per_cell  8\n",
      "(ch1.shape[1] // pix_per_cell)  106\n",
      "cell_per_block  2\n",
      "nxblocks  105\n"
     ]
    },
    {
     "name": "stderr",
     "output_type": "stream",
     "text": [
      "\r",
      " 54%|█████▍    | 683/1261 [10:12<08:47,  1.10it/s]"
     ]
    },
    {
     "name": "stdout",
     "output_type": "stream",
     "text": [
      "no. of rectangles found is  14\n",
      "spatial_size  (16, 16)\n",
      "hist  16\n",
      "orient  9\n",
      "ch1.shape[1]  853\n",
      "pix_per_cell  8\n",
      "(ch1.shape[1] // pix_per_cell)  106\n",
      "cell_per_block  2\n",
      "nxblocks  105\n"
     ]
    },
    {
     "name": "stderr",
     "output_type": "stream",
     "text": [
      "\r",
      " 54%|█████▍    | 684/1261 [10:13<08:39,  1.11it/s]"
     ]
    },
    {
     "name": "stdout",
     "output_type": "stream",
     "text": [
      "no. of rectangles found is  16\n",
      "spatial_size  (16, 16)\n",
      "hist  16\n",
      "orient  9\n",
      "ch1.shape[1]  853\n",
      "pix_per_cell  8\n",
      "(ch1.shape[1] // pix_per_cell)  106\n",
      "cell_per_block  2\n",
      "nxblocks  105\n"
     ]
    },
    {
     "name": "stderr",
     "output_type": "stream",
     "text": [
      "\r",
      " 54%|█████▍    | 685/1261 [10:14<08:37,  1.11it/s]"
     ]
    },
    {
     "name": "stdout",
     "output_type": "stream",
     "text": [
      "no. of rectangles found is  9\n",
      "spatial_size  (16, 16)\n",
      "hist  16\n",
      "orient  9\n",
      "ch1.shape[1]  853\n",
      "pix_per_cell  8\n",
      "(ch1.shape[1] // pix_per_cell)  106\n",
      "cell_per_block  2\n",
      "nxblocks  105\n"
     ]
    },
    {
     "name": "stderr",
     "output_type": "stream",
     "text": [
      "\r",
      " 54%|█████▍    | 686/1261 [10:15<08:33,  1.12it/s]"
     ]
    },
    {
     "name": "stdout",
     "output_type": "stream",
     "text": [
      "no. of rectangles found is  10\n",
      "spatial_size  (16, 16)\n",
      "hist  16\n",
      "orient  9\n",
      "ch1.shape[1]  853\n",
      "pix_per_cell  8\n",
      "(ch1.shape[1] // pix_per_cell)  106\n",
      "cell_per_block  2\n",
      "nxblocks  105\n"
     ]
    },
    {
     "name": "stderr",
     "output_type": "stream",
     "text": [
      "\r",
      " 54%|█████▍    | 687/1261 [10:16<08:33,  1.12it/s]"
     ]
    },
    {
     "name": "stdout",
     "output_type": "stream",
     "text": [
      "no. of rectangles found is  11\n",
      "spatial_size  (16, 16)\n",
      "hist  16\n",
      "orient  9\n",
      "ch1.shape[1]  853\n",
      "pix_per_cell  8\n",
      "(ch1.shape[1] // pix_per_cell)  106\n",
      "cell_per_block  2\n",
      "nxblocks  105\n"
     ]
    },
    {
     "name": "stderr",
     "output_type": "stream",
     "text": [
      "\r",
      " 55%|█████▍    | 688/1261 [10:16<08:36,  1.11it/s]"
     ]
    },
    {
     "name": "stdout",
     "output_type": "stream",
     "text": [
      "no. of rectangles found is  18\n",
      "spatial_size  (16, 16)\n",
      "hist  16\n",
      "orient  9\n",
      "ch1.shape[1]  853\n",
      "pix_per_cell  8\n",
      "(ch1.shape[1] // pix_per_cell)  106\n",
      "cell_per_block  2\n",
      "nxblocks  105\n"
     ]
    },
    {
     "name": "stderr",
     "output_type": "stream",
     "text": [
      "\r",
      " 55%|█████▍    | 689/1261 [10:17<08:31,  1.12it/s]"
     ]
    },
    {
     "name": "stdout",
     "output_type": "stream",
     "text": [
      "no. of rectangles found is  17\n",
      "spatial_size  (16, 16)\n",
      "hist  16\n",
      "orient  9\n",
      "ch1.shape[1]  853\n",
      "pix_per_cell  8\n",
      "(ch1.shape[1] // pix_per_cell)  106\n",
      "cell_per_block  2\n",
      "nxblocks  105\n"
     ]
    },
    {
     "name": "stderr",
     "output_type": "stream",
     "text": [
      "\r",
      " 55%|█████▍    | 690/1261 [10:18<08:30,  1.12it/s]"
     ]
    },
    {
     "name": "stdout",
     "output_type": "stream",
     "text": [
      "no. of rectangles found is  9\n",
      "spatial_size  (16, 16)\n",
      "hist  16\n",
      "orient  9\n",
      "ch1.shape[1]  853\n",
      "pix_per_cell  8\n",
      "(ch1.shape[1] // pix_per_cell)  106\n",
      "cell_per_block  2\n",
      "nxblocks  105\n"
     ]
    },
    {
     "name": "stderr",
     "output_type": "stream",
     "text": [
      "\r",
      " 55%|█████▍    | 691/1261 [10:19<08:27,  1.12it/s]"
     ]
    },
    {
     "name": "stdout",
     "output_type": "stream",
     "text": [
      "no. of rectangles found is  7\n",
      "spatial_size  (16, 16)\n",
      "hist  16\n",
      "orient  9\n",
      "ch1.shape[1]  853\n",
      "pix_per_cell  8\n",
      "(ch1.shape[1] // pix_per_cell)  106\n",
      "cell_per_block  2\n",
      "nxblocks  105\n"
     ]
    },
    {
     "name": "stderr",
     "output_type": "stream",
     "text": [
      "\r",
      " 55%|█████▍    | 692/1261 [10:20<08:27,  1.12it/s]"
     ]
    },
    {
     "name": "stdout",
     "output_type": "stream",
     "text": [
      "no. of rectangles found is  9\n",
      "spatial_size  (16, 16)\n",
      "hist  16\n",
      "orient  9\n",
      "ch1.shape[1]  853\n",
      "pix_per_cell  8\n",
      "(ch1.shape[1] // pix_per_cell)  106\n",
      "cell_per_block  2\n",
      "nxblocks  105\n"
     ]
    },
    {
     "name": "stderr",
     "output_type": "stream",
     "text": [
      "\r",
      " 55%|█████▍    | 693/1261 [10:21<08:33,  1.11it/s]"
     ]
    },
    {
     "name": "stdout",
     "output_type": "stream",
     "text": [
      "no. of rectangles found is  11\n",
      "spatial_size  (16, 16)\n",
      "hist  16\n",
      "orient  9\n",
      "ch1.shape[1]  853\n",
      "pix_per_cell  8\n",
      "(ch1.shape[1] // pix_per_cell)  106\n",
      "cell_per_block  2\n",
      "nxblocks  105\n"
     ]
    },
    {
     "name": "stderr",
     "output_type": "stream",
     "text": [
      "\r",
      " 55%|█████▌    | 694/1261 [10:22<08:28,  1.11it/s]"
     ]
    },
    {
     "name": "stdout",
     "output_type": "stream",
     "text": [
      "no. of rectangles found is  10\n",
      "spatial_size  (16, 16)\n",
      "hist  16\n",
      "orient  9\n",
      "ch1.shape[1]  853\n",
      "pix_per_cell  8\n",
      "(ch1.shape[1] // pix_per_cell)  106\n",
      "cell_per_block  2\n",
      "nxblocks  105\n"
     ]
    },
    {
     "name": "stderr",
     "output_type": "stream",
     "text": [
      "\r",
      " 55%|█████▌    | 695/1261 [10:23<08:28,  1.11it/s]"
     ]
    },
    {
     "name": "stdout",
     "output_type": "stream",
     "text": [
      "no. of rectangles found is  10\n",
      "spatial_size  (16, 16)\n",
      "hist  16\n",
      "orient  9\n",
      "ch1.shape[1]  853\n",
      "pix_per_cell  8\n",
      "(ch1.shape[1] // pix_per_cell)  106\n",
      "cell_per_block  2\n",
      "nxblocks  105\n"
     ]
    },
    {
     "name": "stderr",
     "output_type": "stream",
     "text": [
      "\r",
      " 55%|█████▌    | 696/1261 [10:24<08:29,  1.11it/s]"
     ]
    },
    {
     "name": "stdout",
     "output_type": "stream",
     "text": [
      "no. of rectangles found is  21\n",
      "spatial_size  (16, 16)\n",
      "hist  16\n",
      "orient  9\n",
      "ch1.shape[1]  853\n",
      "pix_per_cell  8\n",
      "(ch1.shape[1] // pix_per_cell)  106\n",
      "cell_per_block  2\n",
      "nxblocks  105\n"
     ]
    },
    {
     "name": "stderr",
     "output_type": "stream",
     "text": [
      "\r",
      " 55%|█████▌    | 697/1261 [10:24<08:26,  1.11it/s]"
     ]
    },
    {
     "name": "stdout",
     "output_type": "stream",
     "text": [
      "no. of rectangles found is  20\n",
      "spatial_size  (16, 16)\n",
      "hist  16\n",
      "orient  9\n",
      "ch1.shape[1]  853\n",
      "pix_per_cell  8\n",
      "(ch1.shape[1] // pix_per_cell)  106\n",
      "cell_per_block  2\n",
      "nxblocks  105\n"
     ]
    },
    {
     "name": "stderr",
     "output_type": "stream",
     "text": [
      "\r",
      " 55%|█████▌    | 698/1261 [10:25<08:25,  1.11it/s]"
     ]
    },
    {
     "name": "stdout",
     "output_type": "stream",
     "text": [
      "no. of rectangles found is  25\n",
      "spatial_size  (16, 16)\n",
      "hist  16\n",
      "orient  9\n",
      "ch1.shape[1]  853\n",
      "pix_per_cell  8\n",
      "(ch1.shape[1] // pix_per_cell)  106\n",
      "cell_per_block  2\n",
      "nxblocks  105\n"
     ]
    },
    {
     "name": "stderr",
     "output_type": "stream",
     "text": [
      "\r",
      " 55%|█████▌    | 699/1261 [10:26<08:25,  1.11it/s]"
     ]
    },
    {
     "name": "stdout",
     "output_type": "stream",
     "text": [
      "no. of rectangles found is  28\n",
      "spatial_size  (16, 16)\n",
      "hist  16\n",
      "orient  9\n",
      "ch1.shape[1]  853\n",
      "pix_per_cell  8\n",
      "(ch1.shape[1] // pix_per_cell)  106\n",
      "cell_per_block  2\n",
      "nxblocks  105\n"
     ]
    },
    {
     "name": "stderr",
     "output_type": "stream",
     "text": [
      "\r",
      " 56%|█████▌    | 700/1261 [10:27<08:25,  1.11it/s]"
     ]
    },
    {
     "name": "stdout",
     "output_type": "stream",
     "text": [
      "no. of rectangles found is  28\n",
      "spatial_size  (16, 16)\n",
      "hist  16\n",
      "orient  9\n",
      "ch1.shape[1]  853\n",
      "pix_per_cell  8\n",
      "(ch1.shape[1] // pix_per_cell)  106\n",
      "cell_per_block  2\n",
      "nxblocks  105\n"
     ]
    },
    {
     "name": "stderr",
     "output_type": "stream",
     "text": [
      "\r",
      " 56%|█████▌    | 701/1261 [10:28<08:24,  1.11it/s]"
     ]
    },
    {
     "name": "stdout",
     "output_type": "stream",
     "text": [
      "no. of rectangles found is  21\n",
      "spatial_size  (16, 16)\n",
      "hist  16\n",
      "orient  9\n",
      "ch1.shape[1]  853\n",
      "pix_per_cell  8\n",
      "(ch1.shape[1] // pix_per_cell)  106\n",
      "cell_per_block  2\n",
      "nxblocks  105\n"
     ]
    },
    {
     "name": "stderr",
     "output_type": "stream",
     "text": [
      "\r",
      " 56%|█████▌    | 702/1261 [10:29<08:21,  1.12it/s]"
     ]
    },
    {
     "name": "stdout",
     "output_type": "stream",
     "text": [
      "no. of rectangles found is  22\n",
      "spatial_size  (16, 16)\n",
      "hist  16\n",
      "orient  9\n",
      "ch1.shape[1]  853\n",
      "pix_per_cell  8\n",
      "(ch1.shape[1] // pix_per_cell)  106\n",
      "cell_per_block  2\n",
      "nxblocks  105\n"
     ]
    },
    {
     "name": "stderr",
     "output_type": "stream",
     "text": [
      "\r",
      " 56%|█████▌    | 703/1261 [10:30<08:26,  1.10it/s]"
     ]
    },
    {
     "name": "stdout",
     "output_type": "stream",
     "text": [
      "no. of rectangles found is  24\n",
      "spatial_size  (16, 16)\n",
      "hist  16\n",
      "orient  9\n",
      "ch1.shape[1]  853\n",
      "pix_per_cell  8\n",
      "(ch1.shape[1] // pix_per_cell)  106\n",
      "cell_per_block  2\n",
      "nxblocks  105\n"
     ]
    },
    {
     "name": "stderr",
     "output_type": "stream",
     "text": [
      "\r",
      " 56%|█████▌    | 704/1261 [10:31<08:22,  1.11it/s]"
     ]
    },
    {
     "name": "stdout",
     "output_type": "stream",
     "text": [
      "no. of rectangles found is  16\n",
      "spatial_size  (16, 16)\n",
      "hist  16\n",
      "orient  9\n",
      "ch1.shape[1]  853\n",
      "pix_per_cell  8\n",
      "(ch1.shape[1] // pix_per_cell)  106\n",
      "cell_per_block  2\n",
      "nxblocks  105\n"
     ]
    },
    {
     "name": "stderr",
     "output_type": "stream",
     "text": [
      "\r",
      " 56%|█████▌    | 705/1261 [10:32<08:20,  1.11it/s]"
     ]
    },
    {
     "name": "stdout",
     "output_type": "stream",
     "text": [
      "no. of rectangles found is  10\n",
      "spatial_size  (16, 16)\n",
      "hist  16\n",
      "orient  9\n",
      "ch1.shape[1]  853\n",
      "pix_per_cell  8\n",
      "(ch1.shape[1] // pix_per_cell)  106\n",
      "cell_per_block  2\n",
      "nxblocks  105\n"
     ]
    },
    {
     "name": "stderr",
     "output_type": "stream",
     "text": [
      "\r",
      " 56%|█████▌    | 706/1261 [10:33<08:17,  1.12it/s]"
     ]
    },
    {
     "name": "stdout",
     "output_type": "stream",
     "text": [
      "no. of rectangles found is  13\n",
      "spatial_size  (16, 16)\n",
      "hist  16\n",
      "orient  9\n",
      "ch1.shape[1]  853\n",
      "pix_per_cell  8\n",
      "(ch1.shape[1] // pix_per_cell)  106\n",
      "cell_per_block  2\n",
      "nxblocks  105\n"
     ]
    },
    {
     "name": "stderr",
     "output_type": "stream",
     "text": [
      "\r",
      " 56%|█████▌    | 707/1261 [10:34<08:28,  1.09it/s]"
     ]
    },
    {
     "name": "stdout",
     "output_type": "stream",
     "text": [
      "no. of rectangles found is  14\n",
      "spatial_size  (16, 16)\n",
      "hist  16\n",
      "orient  9\n",
      "ch1.shape[1]  853\n",
      "pix_per_cell  8\n",
      "(ch1.shape[1] // pix_per_cell)  106\n",
      "cell_per_block  2\n",
      "nxblocks  105\n"
     ]
    },
    {
     "name": "stderr",
     "output_type": "stream",
     "text": [
      "\r",
      " 56%|█████▌    | 708/1261 [10:34<08:23,  1.10it/s]"
     ]
    },
    {
     "name": "stdout",
     "output_type": "stream",
     "text": [
      "no. of rectangles found is  15\n",
      "spatial_size  (16, 16)\n",
      "hist  16\n",
      "orient  9\n",
      "ch1.shape[1]  853\n",
      "pix_per_cell  8\n",
      "(ch1.shape[1] // pix_per_cell)  106\n",
      "cell_per_block  2\n",
      "nxblocks  105\n"
     ]
    },
    {
     "name": "stderr",
     "output_type": "stream",
     "text": [
      "\r",
      " 56%|█████▌    | 709/1261 [10:35<08:18,  1.11it/s]"
     ]
    },
    {
     "name": "stdout",
     "output_type": "stream",
     "text": [
      "no. of rectangles found is  20\n",
      "spatial_size  (16, 16)\n",
      "hist  16\n",
      "orient  9\n",
      "ch1.shape[1]  853\n",
      "pix_per_cell  8\n",
      "(ch1.shape[1] // pix_per_cell)  106\n",
      "cell_per_block  2\n",
      "nxblocks  105\n"
     ]
    },
    {
     "name": "stderr",
     "output_type": "stream",
     "text": [
      "\r",
      " 56%|█████▋    | 710/1261 [10:36<08:16,  1.11it/s]"
     ]
    },
    {
     "name": "stdout",
     "output_type": "stream",
     "text": [
      "no. of rectangles found is  19\n",
      "spatial_size  (16, 16)\n",
      "hist  16\n",
      "orient  9\n",
      "ch1.shape[1]  853\n",
      "pix_per_cell  8\n",
      "(ch1.shape[1] // pix_per_cell)  106\n",
      "cell_per_block  2\n",
      "nxblocks  105\n"
     ]
    },
    {
     "name": "stderr",
     "output_type": "stream",
     "text": [
      "\r",
      " 56%|█████▋    | 711/1261 [10:37<08:12,  1.12it/s]"
     ]
    },
    {
     "name": "stdout",
     "output_type": "stream",
     "text": [
      "no. of rectangles found is  18\n",
      "spatial_size  (16, 16)\n",
      "hist  16\n",
      "orient  9\n",
      "ch1.shape[1]  853\n",
      "pix_per_cell  8\n",
      "(ch1.shape[1] // pix_per_cell)  106\n",
      "cell_per_block  2\n",
      "nxblocks  105\n"
     ]
    },
    {
     "name": "stderr",
     "output_type": "stream",
     "text": [
      "\r",
      " 56%|█████▋    | 712/1261 [10:38<08:22,  1.09it/s]"
     ]
    },
    {
     "name": "stdout",
     "output_type": "stream",
     "text": [
      "no. of rectangles found is  21\n",
      "spatial_size  (16, 16)\n",
      "hist  16\n",
      "orient  9\n",
      "ch1.shape[1]  853\n",
      "pix_per_cell  8\n",
      "(ch1.shape[1] // pix_per_cell)  106\n",
      "cell_per_block  2\n",
      "nxblocks  105\n"
     ]
    },
    {
     "name": "stderr",
     "output_type": "stream",
     "text": [
      "\r",
      " 57%|█████▋    | 713/1261 [10:39<08:24,  1.09it/s]"
     ]
    },
    {
     "name": "stdout",
     "output_type": "stream",
     "text": [
      "no. of rectangles found is  12\n",
      "spatial_size  (16, 16)\n",
      "hist  16\n",
      "orient  9\n",
      "ch1.shape[1]  853\n",
      "pix_per_cell  8\n",
      "(ch1.shape[1] // pix_per_cell)  106\n",
      "cell_per_block  2\n",
      "nxblocks  105\n"
     ]
    },
    {
     "name": "stderr",
     "output_type": "stream",
     "text": [
      "\r",
      " 57%|█████▋    | 714/1261 [10:40<08:25,  1.08it/s]"
     ]
    },
    {
     "name": "stdout",
     "output_type": "stream",
     "text": [
      "no. of rectangles found is  12\n",
      "spatial_size  (16, 16)\n",
      "hist  16\n",
      "orient  9\n",
      "ch1.shape[1]  853\n",
      "pix_per_cell  8\n",
      "(ch1.shape[1] // pix_per_cell)  106\n",
      "cell_per_block  2\n",
      "nxblocks  105\n"
     ]
    },
    {
     "name": "stderr",
     "output_type": "stream",
     "text": [
      "\r",
      " 57%|█████▋    | 715/1261 [10:41<08:18,  1.09it/s]"
     ]
    },
    {
     "name": "stdout",
     "output_type": "stream",
     "text": [
      "no. of rectangles found is  18\n",
      "spatial_size  (16, 16)\n",
      "hist  16\n",
      "orient  9\n",
      "ch1.shape[1]  853\n",
      "pix_per_cell  8\n",
      "(ch1.shape[1] // pix_per_cell)  106\n",
      "cell_per_block  2\n",
      "nxblocks  105\n"
     ]
    },
    {
     "name": "stderr",
     "output_type": "stream",
     "text": [
      "\r",
      " 57%|█████▋    | 716/1261 [10:42<08:17,  1.10it/s]"
     ]
    },
    {
     "name": "stdout",
     "output_type": "stream",
     "text": [
      "no. of rectangles found is  23\n",
      "spatial_size  (16, 16)\n",
      "hist  16\n",
      "orient  9\n",
      "ch1.shape[1]  853\n",
      "pix_per_cell  8\n",
      "(ch1.shape[1] // pix_per_cell)  106\n",
      "cell_per_block  2\n",
      "nxblocks  105\n"
     ]
    },
    {
     "name": "stderr",
     "output_type": "stream",
     "text": [
      "\r",
      " 57%|█████▋    | 717/1261 [10:43<08:12,  1.10it/s]"
     ]
    },
    {
     "name": "stdout",
     "output_type": "stream",
     "text": [
      "no. of rectangles found is  23\n",
      "spatial_size  (16, 16)\n",
      "hist  16\n",
      "orient  9\n",
      "ch1.shape[1]  853\n",
      "pix_per_cell  8\n",
      "(ch1.shape[1] // pix_per_cell)  106\n",
      "cell_per_block  2\n",
      "nxblocks  105\n"
     ]
    },
    {
     "name": "stderr",
     "output_type": "stream",
     "text": [
      "\r",
      " 57%|█████▋    | 718/1261 [10:44<08:09,  1.11it/s]"
     ]
    },
    {
     "name": "stdout",
     "output_type": "stream",
     "text": [
      "no. of rectangles found is  28\n",
      "spatial_size  (16, 16)\n",
      "hist  16\n",
      "orient  9\n",
      "ch1.shape[1]  853\n",
      "pix_per_cell  8\n",
      "(ch1.shape[1] // pix_per_cell)  106\n",
      "cell_per_block  2\n",
      "nxblocks  105\n"
     ]
    },
    {
     "name": "stderr",
     "output_type": "stream",
     "text": [
      "\r",
      " 57%|█████▋    | 719/1261 [10:44<08:11,  1.10it/s]"
     ]
    },
    {
     "name": "stdout",
     "output_type": "stream",
     "text": [
      "no. of rectangles found is  36\n",
      "spatial_size  (16, 16)\n",
      "hist  16\n",
      "orient  9\n",
      "ch1.shape[1]  853\n",
      "pix_per_cell  8\n",
      "(ch1.shape[1] // pix_per_cell)  106\n",
      "cell_per_block  2\n",
      "nxblocks  105\n"
     ]
    },
    {
     "name": "stderr",
     "output_type": "stream",
     "text": [
      "\r",
      " 57%|█████▋    | 720/1261 [10:45<08:08,  1.11it/s]"
     ]
    },
    {
     "name": "stdout",
     "output_type": "stream",
     "text": [
      "no. of rectangles found is  32\n",
      "spatial_size  (16, 16)\n",
      "hist  16\n",
      "orient  9\n",
      "ch1.shape[1]  853\n",
      "pix_per_cell  8\n",
      "(ch1.shape[1] // pix_per_cell)  106\n",
      "cell_per_block  2\n",
      "nxblocks  105\n"
     ]
    },
    {
     "name": "stderr",
     "output_type": "stream",
     "text": [
      "\r",
      " 57%|█████▋    | 721/1261 [10:46<08:05,  1.11it/s]"
     ]
    },
    {
     "name": "stdout",
     "output_type": "stream",
     "text": [
      "no. of rectangles found is  21\n",
      "spatial_size  (16, 16)\n",
      "hist  16\n",
      "orient  9\n",
      "ch1.shape[1]  853\n",
      "pix_per_cell  8\n",
      "(ch1.shape[1] // pix_per_cell)  106\n",
      "cell_per_block  2\n",
      "nxblocks  105\n"
     ]
    },
    {
     "name": "stderr",
     "output_type": "stream",
     "text": [
      "\r",
      " 57%|█████▋    | 722/1261 [10:47<08:04,  1.11it/s]"
     ]
    },
    {
     "name": "stdout",
     "output_type": "stream",
     "text": [
      "no. of rectangles found is  24\n",
      "spatial_size  (16, 16)\n",
      "hist  16\n",
      "orient  9\n",
      "ch1.shape[1]  853\n",
      "pix_per_cell  8\n",
      "(ch1.shape[1] // pix_per_cell)  106\n",
      "cell_per_block  2\n",
      "nxblocks  105\n"
     ]
    },
    {
     "name": "stderr",
     "output_type": "stream",
     "text": [
      "\r",
      " 57%|█████▋    | 723/1261 [10:48<08:01,  1.12it/s]"
     ]
    },
    {
     "name": "stdout",
     "output_type": "stream",
     "text": [
      "no. of rectangles found is  21\n",
      "spatial_size  (16, 16)\n",
      "hist  16\n",
      "orient  9\n",
      "ch1.shape[1]  853\n",
      "pix_per_cell  8\n",
      "(ch1.shape[1] // pix_per_cell)  106\n",
      "cell_per_block  2\n",
      "nxblocks  105\n"
     ]
    },
    {
     "name": "stderr",
     "output_type": "stream",
     "text": [
      "\r",
      " 57%|█████▋    | 724/1261 [10:49<08:00,  1.12it/s]"
     ]
    },
    {
     "name": "stdout",
     "output_type": "stream",
     "text": [
      "no. of rectangles found is  31\n",
      "spatial_size  (16, 16)\n",
      "hist  16\n",
      "orient  9\n",
      "ch1.shape[1]  853\n",
      "pix_per_cell  8\n",
      "(ch1.shape[1] // pix_per_cell)  106\n",
      "cell_per_block  2\n",
      "nxblocks  105\n"
     ]
    },
    {
     "name": "stderr",
     "output_type": "stream",
     "text": [
      "\r",
      " 57%|█████▋    | 725/1261 [10:50<07:59,  1.12it/s]"
     ]
    },
    {
     "name": "stdout",
     "output_type": "stream",
     "text": [
      "no. of rectangles found is  40\n",
      "spatial_size  (16, 16)\n",
      "hist  16\n",
      "orient  9\n",
      "ch1.shape[1]  853\n",
      "pix_per_cell  8\n",
      "(ch1.shape[1] // pix_per_cell)  106\n",
      "cell_per_block  2\n",
      "nxblocks  105\n"
     ]
    },
    {
     "name": "stderr",
     "output_type": "stream",
     "text": [
      "\r",
      " 58%|█████▊    | 726/1261 [10:51<07:58,  1.12it/s]"
     ]
    },
    {
     "name": "stdout",
     "output_type": "stream",
     "text": [
      "no. of rectangles found is  33\n",
      "spatial_size  (16, 16)\n",
      "hist  16\n",
      "orient  9\n",
      "ch1.shape[1]  853\n",
      "pix_per_cell  8\n",
      "(ch1.shape[1] // pix_per_cell)  106\n",
      "cell_per_block  2\n",
      "nxblocks  105\n"
     ]
    },
    {
     "name": "stderr",
     "output_type": "stream",
     "text": [
      "\r",
      " 58%|█████▊    | 727/1261 [10:52<07:57,  1.12it/s]"
     ]
    },
    {
     "name": "stdout",
     "output_type": "stream",
     "text": [
      "no. of rectangles found is  31\n",
      "spatial_size  (16, 16)\n",
      "hist  16\n",
      "orient  9\n",
      "ch1.shape[1]  853\n",
      "pix_per_cell  8\n",
      "(ch1.shape[1] // pix_per_cell)  106\n",
      "cell_per_block  2\n",
      "nxblocks  105\n"
     ]
    },
    {
     "name": "stderr",
     "output_type": "stream",
     "text": [
      "\r",
      " 58%|█████▊    | 728/1261 [10:52<07:58,  1.11it/s]"
     ]
    },
    {
     "name": "stdout",
     "output_type": "stream",
     "text": [
      "no. of rectangles found is  37\n",
      "spatial_size  (16, 16)\n",
      "hist  16\n",
      "orient  9\n",
      "ch1.shape[1]  853\n",
      "pix_per_cell  8\n",
      "(ch1.shape[1] // pix_per_cell)  106\n",
      "cell_per_block  2\n",
      "nxblocks  105\n"
     ]
    },
    {
     "name": "stderr",
     "output_type": "stream",
     "text": [
      "\r",
      " 58%|█████▊    | 729/1261 [10:53<08:04,  1.10it/s]"
     ]
    },
    {
     "name": "stdout",
     "output_type": "stream",
     "text": [
      "no. of rectangles found is  34\n",
      "spatial_size  (16, 16)\n",
      "hist  16\n",
      "orient  9\n",
      "ch1.shape[1]  853\n",
      "pix_per_cell  8\n",
      "(ch1.shape[1] // pix_per_cell)  106\n",
      "cell_per_block  2\n",
      "nxblocks  105\n"
     ]
    },
    {
     "name": "stderr",
     "output_type": "stream",
     "text": [
      "\r",
      " 58%|█████▊    | 730/1261 [10:54<07:59,  1.11it/s]"
     ]
    },
    {
     "name": "stdout",
     "output_type": "stream",
     "text": [
      "no. of rectangles found is  37\n",
      "spatial_size  (16, 16)\n",
      "hist  16\n",
      "orient  9\n",
      "ch1.shape[1]  853\n",
      "pix_per_cell  8\n",
      "(ch1.shape[1] // pix_per_cell)  106\n",
      "cell_per_block  2\n",
      "nxblocks  105\n"
     ]
    },
    {
     "name": "stderr",
     "output_type": "stream",
     "text": [
      "\r",
      " 58%|█████▊    | 731/1261 [10:55<07:58,  1.11it/s]"
     ]
    },
    {
     "name": "stdout",
     "output_type": "stream",
     "text": [
      "no. of rectangles found is  41\n",
      "spatial_size  (16, 16)\n",
      "hist  16\n",
      "orient  9\n",
      "ch1.shape[1]  853\n",
      "pix_per_cell  8\n",
      "(ch1.shape[1] // pix_per_cell)  106\n",
      "cell_per_block  2\n",
      "nxblocks  105\n"
     ]
    },
    {
     "name": "stderr",
     "output_type": "stream",
     "text": [
      "\r",
      " 58%|█████▊    | 732/1261 [10:56<07:57,  1.11it/s]"
     ]
    },
    {
     "name": "stdout",
     "output_type": "stream",
     "text": [
      "no. of rectangles found is  47\n",
      "spatial_size  (16, 16)\n",
      "hist  16\n",
      "orient  9\n",
      "ch1.shape[1]  853\n",
      "pix_per_cell  8\n",
      "(ch1.shape[1] // pix_per_cell)  106\n",
      "cell_per_block  2\n",
      "nxblocks  105\n"
     ]
    },
    {
     "name": "stderr",
     "output_type": "stream",
     "text": [
      "\r",
      " 58%|█████▊    | 733/1261 [10:57<07:54,  1.11it/s]"
     ]
    },
    {
     "name": "stdout",
     "output_type": "stream",
     "text": [
      "no. of rectangles found is  42\n",
      "spatial_size  (16, 16)\n",
      "hist  16\n",
      "orient  9\n",
      "ch1.shape[1]  853\n",
      "pix_per_cell  8\n",
      "(ch1.shape[1] // pix_per_cell)  106\n",
      "cell_per_block  2\n",
      "nxblocks  105\n"
     ]
    },
    {
     "name": "stderr",
     "output_type": "stream",
     "text": [
      "\r",
      " 58%|█████▊    | 734/1261 [10:58<07:54,  1.11it/s]"
     ]
    },
    {
     "name": "stdout",
     "output_type": "stream",
     "text": [
      "no. of rectangles found is  41\n",
      "spatial_size  (16, 16)\n",
      "hist  16\n",
      "orient  9\n",
      "ch1.shape[1]  853\n",
      "pix_per_cell  8\n",
      "(ch1.shape[1] // pix_per_cell)  106\n",
      "cell_per_block  2\n",
      "nxblocks  105\n"
     ]
    },
    {
     "name": "stderr",
     "output_type": "stream",
     "text": [
      "\r",
      " 58%|█████▊    | 735/1261 [10:59<08:04,  1.09it/s]"
     ]
    },
    {
     "name": "stdout",
     "output_type": "stream",
     "text": [
      "no. of rectangles found is  37\n",
      "spatial_size  (16, 16)\n",
      "hist  16\n",
      "orient  9\n",
      "ch1.shape[1]  853\n",
      "pix_per_cell  8\n",
      "(ch1.shape[1] // pix_per_cell)  106\n",
      "cell_per_block  2\n",
      "nxblocks  105\n"
     ]
    },
    {
     "name": "stderr",
     "output_type": "stream",
     "text": [
      "\r",
      " 58%|█████▊    | 736/1261 [11:00<08:00,  1.09it/s]"
     ]
    },
    {
     "name": "stdout",
     "output_type": "stream",
     "text": [
      "no. of rectangles found is  31\n",
      "spatial_size  (16, 16)\n",
      "hist  16\n",
      "orient  9\n",
      "ch1.shape[1]  853\n",
      "pix_per_cell  8\n",
      "(ch1.shape[1] // pix_per_cell)  106\n",
      "cell_per_block  2\n",
      "nxblocks  105\n"
     ]
    },
    {
     "name": "stderr",
     "output_type": "stream",
     "text": [
      "\r",
      " 58%|█████▊    | 737/1261 [11:01<07:54,  1.10it/s]"
     ]
    },
    {
     "name": "stdout",
     "output_type": "stream",
     "text": [
      "no. of rectangles found is  36\n",
      "spatial_size  (16, 16)\n",
      "hist  16\n",
      "orient  9\n",
      "ch1.shape[1]  853\n",
      "pix_per_cell  8\n",
      "(ch1.shape[1] // pix_per_cell)  106\n",
      "cell_per_block  2\n",
      "nxblocks  105\n"
     ]
    },
    {
     "name": "stderr",
     "output_type": "stream",
     "text": [
      "\r",
      " 59%|█████▊    | 738/1261 [11:02<07:52,  1.11it/s]"
     ]
    },
    {
     "name": "stdout",
     "output_type": "stream",
     "text": [
      "no. of rectangles found is  36\n",
      "spatial_size  (16, 16)\n",
      "hist  16\n",
      "orient  9\n",
      "ch1.shape[1]  853\n",
      "pix_per_cell  8\n",
      "(ch1.shape[1] // pix_per_cell)  106\n",
      "cell_per_block  2\n",
      "nxblocks  105\n"
     ]
    },
    {
     "name": "stderr",
     "output_type": "stream",
     "text": [
      "\r",
      " 59%|█████▊    | 739/1261 [11:02<07:50,  1.11it/s]"
     ]
    },
    {
     "name": "stdout",
     "output_type": "stream",
     "text": [
      "no. of rectangles found is  38\n",
      "spatial_size  (16, 16)\n",
      "hist  16\n",
      "orient  9\n",
      "ch1.shape[1]  853\n",
      "pix_per_cell  8\n",
      "(ch1.shape[1] // pix_per_cell)  106\n",
      "cell_per_block  2\n",
      "nxblocks  105\n"
     ]
    },
    {
     "name": "stderr",
     "output_type": "stream",
     "text": [
      "\r",
      " 59%|█████▊    | 740/1261 [11:03<07:48,  1.11it/s]"
     ]
    },
    {
     "name": "stdout",
     "output_type": "stream",
     "text": [
      "no. of rectangles found is  38\n",
      "spatial_size  (16, 16)\n",
      "hist  16\n",
      "orient  9\n",
      "ch1.shape[1]  853\n",
      "pix_per_cell  8\n",
      "(ch1.shape[1] // pix_per_cell)  106\n",
      "cell_per_block  2\n",
      "nxblocks  105\n"
     ]
    },
    {
     "name": "stderr",
     "output_type": "stream",
     "text": [
      "\r",
      " 59%|█████▉    | 741/1261 [11:04<07:46,  1.12it/s]"
     ]
    },
    {
     "name": "stdout",
     "output_type": "stream",
     "text": [
      "no. of rectangles found is  37\n",
      "spatial_size  (16, 16)\n",
      "hist  16\n",
      "orient  9\n",
      "ch1.shape[1]  853\n",
      "pix_per_cell  8\n",
      "(ch1.shape[1] // pix_per_cell)  106\n",
      "cell_per_block  2\n",
      "nxblocks  105\n"
     ]
    },
    {
     "name": "stderr",
     "output_type": "stream",
     "text": [
      "\r",
      " 59%|█████▉    | 742/1261 [11:05<07:42,  1.12it/s]"
     ]
    },
    {
     "name": "stdout",
     "output_type": "stream",
     "text": [
      "no. of rectangles found is  38\n",
      "spatial_size  (16, 16)\n",
      "hist  16\n",
      "orient  9\n",
      "ch1.shape[1]  853\n",
      "pix_per_cell  8\n",
      "(ch1.shape[1] // pix_per_cell)  106\n",
      "cell_per_block  2\n",
      "nxblocks  105\n"
     ]
    },
    {
     "name": "stderr",
     "output_type": "stream",
     "text": [
      "\r",
      " 59%|█████▉    | 743/1261 [11:06<07:48,  1.11it/s]"
     ]
    },
    {
     "name": "stdout",
     "output_type": "stream",
     "text": [
      "no. of rectangles found is  33\n",
      "spatial_size  (16, 16)\n",
      "hist  16\n",
      "orient  9\n",
      "ch1.shape[1]  853\n",
      "pix_per_cell  8\n",
      "(ch1.shape[1] // pix_per_cell)  106\n",
      "cell_per_block  2\n",
      "nxblocks  105\n"
     ]
    },
    {
     "name": "stderr",
     "output_type": "stream",
     "text": [
      "\r",
      " 59%|█████▉    | 744/1261 [11:07<07:51,  1.10it/s]"
     ]
    },
    {
     "name": "stdout",
     "output_type": "stream",
     "text": [
      "no. of rectangles found is  37\n",
      "spatial_size  (16, 16)\n",
      "hist  16\n",
      "orient  9\n",
      "ch1.shape[1]  853\n",
      "pix_per_cell  8\n",
      "(ch1.shape[1] // pix_per_cell)  106\n",
      "cell_per_block  2\n",
      "nxblocks  105\n"
     ]
    },
    {
     "name": "stderr",
     "output_type": "stream",
     "text": [
      "\r",
      " 59%|█████▉    | 745/1261 [11:08<07:49,  1.10it/s]"
     ]
    },
    {
     "name": "stdout",
     "output_type": "stream",
     "text": [
      "no. of rectangles found is  37\n",
      "spatial_size  (16, 16)\n",
      "hist  16\n",
      "orient  9\n",
      "ch1.shape[1]  853\n",
      "pix_per_cell  8\n",
      "(ch1.shape[1] // pix_per_cell)  106\n",
      "cell_per_block  2\n",
      "nxblocks  105\n"
     ]
    },
    {
     "name": "stderr",
     "output_type": "stream",
     "text": [
      "\r",
      " 59%|█████▉    | 746/1261 [11:09<07:44,  1.11it/s]"
     ]
    },
    {
     "name": "stdout",
     "output_type": "stream",
     "text": [
      "no. of rectangles found is  38\n",
      "spatial_size  (16, 16)\n",
      "hist  16\n",
      "orient  9\n",
      "ch1.shape[1]  853\n",
      "pix_per_cell  8\n",
      "(ch1.shape[1] // pix_per_cell)  106\n",
      "cell_per_block  2\n",
      "nxblocks  105\n"
     ]
    },
    {
     "name": "stderr",
     "output_type": "stream",
     "text": [
      "\r",
      " 59%|█████▉    | 747/1261 [11:10<07:40,  1.12it/s]"
     ]
    },
    {
     "name": "stdout",
     "output_type": "stream",
     "text": [
      "no. of rectangles found is  35\n",
      "spatial_size  (16, 16)\n",
      "hist  16\n",
      "orient  9\n",
      "ch1.shape[1]  853\n",
      "pix_per_cell  8\n",
      "(ch1.shape[1] // pix_per_cell)  106\n",
      "cell_per_block  2\n",
      "nxblocks  105\n"
     ]
    },
    {
     "name": "stderr",
     "output_type": "stream",
     "text": [
      "\r",
      " 59%|█████▉    | 748/1261 [11:11<07:38,  1.12it/s]"
     ]
    },
    {
     "name": "stdout",
     "output_type": "stream",
     "text": [
      "no. of rectangles found is  39\n",
      "spatial_size  (16, 16)\n",
      "hist  16\n",
      "orient  9\n",
      "ch1.shape[1]  853\n",
      "pix_per_cell  8\n",
      "(ch1.shape[1] // pix_per_cell)  106\n",
      "cell_per_block  2\n",
      "nxblocks  105\n"
     ]
    },
    {
     "name": "stderr",
     "output_type": "stream",
     "text": [
      "\r",
      " 59%|█████▉    | 749/1261 [11:11<07:43,  1.10it/s]"
     ]
    },
    {
     "name": "stdout",
     "output_type": "stream",
     "text": [
      "no. of rectangles found is  41\n",
      "spatial_size  (16, 16)\n",
      "hist  16\n",
      "orient  9\n",
      "ch1.shape[1]  853\n",
      "pix_per_cell  8\n",
      "(ch1.shape[1] // pix_per_cell)  106\n",
      "cell_per_block  2\n",
      "nxblocks  105\n"
     ]
    },
    {
     "name": "stderr",
     "output_type": "stream",
     "text": [
      "\r",
      " 59%|█████▉    | 750/1261 [11:12<07:41,  1.11it/s]"
     ]
    },
    {
     "name": "stdout",
     "output_type": "stream",
     "text": [
      "no. of rectangles found is  34\n",
      "spatial_size  (16, 16)\n",
      "hist  16\n",
      "orient  9\n",
      "ch1.shape[1]  853\n",
      "pix_per_cell  8\n",
      "(ch1.shape[1] // pix_per_cell)  106\n",
      "cell_per_block  2\n",
      "nxblocks  105\n"
     ]
    },
    {
     "name": "stderr",
     "output_type": "stream",
     "text": [
      "\r",
      " 60%|█████▉    | 751/1261 [11:13<07:38,  1.11it/s]"
     ]
    },
    {
     "name": "stdout",
     "output_type": "stream",
     "text": [
      "no. of rectangles found is  35\n",
      "spatial_size  (16, 16)\n",
      "hist  16\n",
      "orient  9\n",
      "ch1.shape[1]  853\n",
      "pix_per_cell  8\n",
      "(ch1.shape[1] // pix_per_cell)  106\n",
      "cell_per_block  2\n",
      "nxblocks  105\n"
     ]
    },
    {
     "name": "stderr",
     "output_type": "stream",
     "text": [
      "\r",
      " 60%|█████▉    | 752/1261 [11:14<07:42,  1.10it/s]"
     ]
    },
    {
     "name": "stdout",
     "output_type": "stream",
     "text": [
      "no. of rectangles found is  38\n",
      "spatial_size  (16, 16)\n",
      "hist  16\n",
      "orient  9\n",
      "ch1.shape[1]  853\n",
      "pix_per_cell  8\n",
      "(ch1.shape[1] // pix_per_cell)  106\n",
      "cell_per_block  2\n",
      "nxblocks  105\n"
     ]
    },
    {
     "name": "stderr",
     "output_type": "stream",
     "text": [
      "\r",
      " 60%|█████▉    | 753/1261 [11:15<07:44,  1.09it/s]"
     ]
    },
    {
     "name": "stdout",
     "output_type": "stream",
     "text": [
      "no. of rectangles found is  38\n",
      "spatial_size  (16, 16)\n",
      "hist  16\n",
      "orient  9\n",
      "ch1.shape[1]  853\n",
      "pix_per_cell  8\n",
      "(ch1.shape[1] // pix_per_cell)  106\n",
      "cell_per_block  2\n",
      "nxblocks  105\n"
     ]
    },
    {
     "name": "stderr",
     "output_type": "stream",
     "text": [
      "\r",
      " 60%|█████▉    | 754/1261 [11:16<07:41,  1.10it/s]"
     ]
    },
    {
     "name": "stdout",
     "output_type": "stream",
     "text": [
      "no. of rectangles found is  39\n",
      "spatial_size  (16, 16)\n",
      "hist  16\n",
      "orient  9\n",
      "ch1.shape[1]  853\n",
      "pix_per_cell  8\n",
      "(ch1.shape[1] // pix_per_cell)  106\n",
      "cell_per_block  2\n",
      "nxblocks  105\n"
     ]
    },
    {
     "name": "stderr",
     "output_type": "stream",
     "text": [
      "\r",
      " 60%|█████▉    | 755/1261 [11:17<07:36,  1.11it/s]"
     ]
    },
    {
     "name": "stdout",
     "output_type": "stream",
     "text": [
      "no. of rectangles found is  37\n",
      "spatial_size  (16, 16)\n",
      "hist  16\n",
      "orient  9\n",
      "ch1.shape[1]  853\n",
      "pix_per_cell  8\n",
      "(ch1.shape[1] // pix_per_cell)  106\n",
      "cell_per_block  2\n",
      "nxblocks  105\n"
     ]
    },
    {
     "name": "stderr",
     "output_type": "stream",
     "text": [
      "\r",
      " 60%|█████▉    | 756/1261 [11:18<07:35,  1.11it/s]"
     ]
    },
    {
     "name": "stdout",
     "output_type": "stream",
     "text": [
      "no. of rectangles found is  41\n",
      "spatial_size  (16, 16)\n",
      "hist  16\n",
      "orient  9\n",
      "ch1.shape[1]  853\n",
      "pix_per_cell  8\n",
      "(ch1.shape[1] // pix_per_cell)  106\n",
      "cell_per_block  2\n",
      "nxblocks  105\n"
     ]
    },
    {
     "name": "stderr",
     "output_type": "stream",
     "text": [
      "\r",
      " 60%|██████    | 757/1261 [11:19<07:33,  1.11it/s]"
     ]
    },
    {
     "name": "stdout",
     "output_type": "stream",
     "text": [
      "no. of rectangles found is  37\n",
      "spatial_size  (16, 16)\n",
      "hist  16\n",
      "orient  9\n",
      "ch1.shape[1]  853\n",
      "pix_per_cell  8\n",
      "(ch1.shape[1] // pix_per_cell)  106\n",
      "cell_per_block  2\n",
      "nxblocks  105\n"
     ]
    },
    {
     "name": "stderr",
     "output_type": "stream",
     "text": [
      "\r",
      " 60%|██████    | 758/1261 [11:20<07:31,  1.11it/s]"
     ]
    },
    {
     "name": "stdout",
     "output_type": "stream",
     "text": [
      "no. of rectangles found is  32\n",
      "spatial_size  (16, 16)\n",
      "hist  16\n",
      "orient  9\n",
      "ch1.shape[1]  853\n",
      "pix_per_cell  8\n",
      "(ch1.shape[1] // pix_per_cell)  106\n",
      "cell_per_block  2\n",
      "nxblocks  105\n"
     ]
    },
    {
     "name": "stderr",
     "output_type": "stream",
     "text": [
      "\r",
      " 60%|██████    | 759/1261 [11:20<07:30,  1.12it/s]"
     ]
    },
    {
     "name": "stdout",
     "output_type": "stream",
     "text": [
      "no. of rectangles found is  36\n",
      "spatial_size  (16, 16)\n",
      "hist  16\n",
      "orient  9\n",
      "ch1.shape[1]  853\n",
      "pix_per_cell  8\n",
      "(ch1.shape[1] // pix_per_cell)  106\n",
      "cell_per_block  2\n",
      "nxblocks  105\n"
     ]
    },
    {
     "name": "stderr",
     "output_type": "stream",
     "text": [
      "\r",
      " 60%|██████    | 760/1261 [11:21<07:28,  1.12it/s]"
     ]
    },
    {
     "name": "stdout",
     "output_type": "stream",
     "text": [
      "no. of rectangles found is  43\n",
      "spatial_size  (16, 16)\n",
      "hist  16\n",
      "orient  9\n",
      "ch1.shape[1]  853\n",
      "pix_per_cell  8\n",
      "(ch1.shape[1] // pix_per_cell)  106\n",
      "cell_per_block  2\n",
      "nxblocks  105\n"
     ]
    },
    {
     "name": "stderr",
     "output_type": "stream",
     "text": [
      "\r",
      " 60%|██████    | 761/1261 [11:22<07:29,  1.11it/s]"
     ]
    },
    {
     "name": "stdout",
     "output_type": "stream",
     "text": [
      "no. of rectangles found is  35\n",
      "spatial_size  (16, 16)\n",
      "hist  16\n",
      "orient  9\n",
      "ch1.shape[1]  853\n",
      "pix_per_cell  8\n",
      "(ch1.shape[1] // pix_per_cell)  106\n",
      "cell_per_block  2\n",
      "nxblocks  105\n"
     ]
    },
    {
     "name": "stderr",
     "output_type": "stream",
     "text": [
      "\r",
      " 60%|██████    | 762/1261 [11:23<07:26,  1.12it/s]"
     ]
    },
    {
     "name": "stdout",
     "output_type": "stream",
     "text": [
      "no. of rectangles found is  39\n",
      "spatial_size  (16, 16)\n",
      "hist  16\n",
      "orient  9\n",
      "ch1.shape[1]  853\n",
      "pix_per_cell  8\n",
      "(ch1.shape[1] // pix_per_cell)  106\n",
      "cell_per_block  2\n",
      "nxblocks  105\n"
     ]
    },
    {
     "name": "stderr",
     "output_type": "stream",
     "text": [
      "\r",
      " 61%|██████    | 763/1261 [11:24<07:24,  1.12it/s]"
     ]
    },
    {
     "name": "stdout",
     "output_type": "stream",
     "text": [
      "no. of rectangles found is  30\n",
      "spatial_size  (16, 16)\n",
      "hist  16\n",
      "orient  9\n",
      "ch1.shape[1]  853\n",
      "pix_per_cell  8\n",
      "(ch1.shape[1] // pix_per_cell)  106\n",
      "cell_per_block  2\n",
      "nxblocks  105\n"
     ]
    },
    {
     "name": "stderr",
     "output_type": "stream",
     "text": [
      "\r",
      " 61%|██████    | 764/1261 [11:25<07:23,  1.12it/s]"
     ]
    },
    {
     "name": "stdout",
     "output_type": "stream",
     "text": [
      "no. of rectangles found is  28\n",
      "spatial_size  (16, 16)\n",
      "hist  16\n",
      "orient  9\n",
      "ch1.shape[1]  853\n",
      "pix_per_cell  8\n",
      "(ch1.shape[1] // pix_per_cell)  106\n",
      "cell_per_block  2\n",
      "nxblocks  105\n"
     ]
    },
    {
     "name": "stderr",
     "output_type": "stream",
     "text": [
      "\r",
      " 61%|██████    | 765/1261 [11:26<07:22,  1.12it/s]"
     ]
    },
    {
     "name": "stdout",
     "output_type": "stream",
     "text": [
      "no. of rectangles found is  34\n",
      "spatial_size  (16, 16)\n",
      "hist  16\n",
      "orient  9\n",
      "ch1.shape[1]  853\n",
      "pix_per_cell  8\n",
      "(ch1.shape[1] // pix_per_cell)  106\n",
      "cell_per_block  2\n",
      "nxblocks  105\n"
     ]
    },
    {
     "name": "stderr",
     "output_type": "stream",
     "text": [
      "\r",
      " 61%|██████    | 766/1261 [11:27<07:21,  1.12it/s]"
     ]
    },
    {
     "name": "stdout",
     "output_type": "stream",
     "text": [
      "no. of rectangles found is  29\n",
      "spatial_size  (16, 16)\n",
      "hist  16\n",
      "orient  9\n",
      "ch1.shape[1]  853\n",
      "pix_per_cell  8\n",
      "(ch1.shape[1] // pix_per_cell)  106\n",
      "cell_per_block  2\n",
      "nxblocks  105\n"
     ]
    },
    {
     "name": "stderr",
     "output_type": "stream",
     "text": [
      "\r",
      " 61%|██████    | 767/1261 [11:28<07:17,  1.13it/s]"
     ]
    },
    {
     "name": "stdout",
     "output_type": "stream",
     "text": [
      "no. of rectangles found is  26\n",
      "spatial_size  (16, 16)\n",
      "hist  16\n",
      "orient  9\n",
      "ch1.shape[1]  853\n",
      "pix_per_cell  8\n",
      "(ch1.shape[1] // pix_per_cell)  106\n",
      "cell_per_block  2\n",
      "nxblocks  105\n"
     ]
    },
    {
     "name": "stderr",
     "output_type": "stream",
     "text": [
      "\r",
      " 61%|██████    | 768/1261 [11:28<07:15,  1.13it/s]"
     ]
    },
    {
     "name": "stdout",
     "output_type": "stream",
     "text": [
      "no. of rectangles found is  27\n",
      "spatial_size  (16, 16)\n",
      "hist  16\n",
      "orient  9\n",
      "ch1.shape[1]  853\n",
      "pix_per_cell  8\n",
      "(ch1.shape[1] // pix_per_cell)  106\n",
      "cell_per_block  2\n",
      "nxblocks  105\n"
     ]
    },
    {
     "name": "stderr",
     "output_type": "stream",
     "text": [
      "\r",
      " 61%|██████    | 769/1261 [11:29<07:16,  1.13it/s]"
     ]
    },
    {
     "name": "stdout",
     "output_type": "stream",
     "text": [
      "no. of rectangles found is  31\n",
      "spatial_size  (16, 16)\n",
      "hist  16\n",
      "orient  9\n",
      "ch1.shape[1]  853\n",
      "pix_per_cell  8\n",
      "(ch1.shape[1] // pix_per_cell)  106\n",
      "cell_per_block  2\n",
      "nxblocks  105\n"
     ]
    },
    {
     "name": "stderr",
     "output_type": "stream",
     "text": [
      "\r",
      " 61%|██████    | 770/1261 [11:30<07:16,  1.13it/s]"
     ]
    },
    {
     "name": "stdout",
     "output_type": "stream",
     "text": [
      "no. of rectangles found is  31\n",
      "spatial_size  (16, 16)\n",
      "hist  16\n",
      "orient  9\n",
      "ch1.shape[1]  853\n",
      "pix_per_cell  8\n",
      "(ch1.shape[1] // pix_per_cell)  106\n",
      "cell_per_block  2\n",
      "nxblocks  105\n"
     ]
    },
    {
     "name": "stderr",
     "output_type": "stream",
     "text": [
      "\r",
      " 61%|██████    | 771/1261 [11:31<07:16,  1.12it/s]"
     ]
    },
    {
     "name": "stdout",
     "output_type": "stream",
     "text": [
      "no. of rectangles found is  31\n",
      "spatial_size  (16, 16)\n",
      "hist  16\n",
      "orient  9\n",
      "ch1.shape[1]  853\n",
      "pix_per_cell  8\n",
      "(ch1.shape[1] // pix_per_cell)  106\n",
      "cell_per_block  2\n",
      "nxblocks  105\n"
     ]
    },
    {
     "name": "stderr",
     "output_type": "stream",
     "text": [
      "\r",
      " 61%|██████    | 772/1261 [11:32<07:15,  1.12it/s]"
     ]
    },
    {
     "name": "stdout",
     "output_type": "stream",
     "text": [
      "no. of rectangles found is  29\n",
      "spatial_size  (16, 16)\n",
      "hist  16\n",
      "orient  9\n",
      "ch1.shape[1]  853\n",
      "pix_per_cell  8\n",
      "(ch1.shape[1] // pix_per_cell)  106\n",
      "cell_per_block  2\n",
      "nxblocks  105\n"
     ]
    },
    {
     "name": "stderr",
     "output_type": "stream",
     "text": [
      "\r",
      " 61%|██████▏   | 773/1261 [11:33<07:14,  1.12it/s]"
     ]
    },
    {
     "name": "stdout",
     "output_type": "stream",
     "text": [
      "no. of rectangles found is  25\n",
      "spatial_size  (16, 16)\n",
      "hist  16\n",
      "orient  9\n",
      "ch1.shape[1]  853\n",
      "pix_per_cell  8\n",
      "(ch1.shape[1] // pix_per_cell)  106\n",
      "cell_per_block  2\n",
      "nxblocks  105\n"
     ]
    },
    {
     "name": "stderr",
     "output_type": "stream",
     "text": [
      "\r",
      " 61%|██████▏   | 774/1261 [11:34<07:12,  1.13it/s]"
     ]
    },
    {
     "name": "stdout",
     "output_type": "stream",
     "text": [
      "no. of rectangles found is  27\n",
      "spatial_size  (16, 16)\n",
      "hist  16\n",
      "orient  9\n",
      "ch1.shape[1]  853\n",
      "pix_per_cell  8\n",
      "(ch1.shape[1] // pix_per_cell)  106\n",
      "cell_per_block  2\n",
      "nxblocks  105\n"
     ]
    },
    {
     "name": "stderr",
     "output_type": "stream",
     "text": [
      "\r",
      " 61%|██████▏   | 775/1261 [11:35<07:12,  1.12it/s]"
     ]
    },
    {
     "name": "stdout",
     "output_type": "stream",
     "text": [
      "no. of rectangles found is  31\n",
      "spatial_size  (16, 16)\n",
      "hist  16\n",
      "orient  9\n",
      "ch1.shape[1]  853\n",
      "pix_per_cell  8\n",
      "(ch1.shape[1] // pix_per_cell)  106\n",
      "cell_per_block  2\n",
      "nxblocks  105\n"
     ]
    },
    {
     "name": "stderr",
     "output_type": "stream",
     "text": [
      "\r",
      " 62%|██████▏   | 776/1261 [11:36<07:11,  1.12it/s]"
     ]
    },
    {
     "name": "stdout",
     "output_type": "stream",
     "text": [
      "no. of rectangles found is  33\n",
      "spatial_size  (16, 16)\n",
      "hist  16\n",
      "orient  9\n",
      "ch1.shape[1]  853\n",
      "pix_per_cell  8\n",
      "(ch1.shape[1] // pix_per_cell)  106\n",
      "cell_per_block  2\n",
      "nxblocks  105\n"
     ]
    },
    {
     "name": "stderr",
     "output_type": "stream",
     "text": [
      "\r",
      " 62%|██████▏   | 777/1261 [11:37<07:17,  1.11it/s]"
     ]
    },
    {
     "name": "stdout",
     "output_type": "stream",
     "text": [
      "no. of rectangles found is  36\n",
      "spatial_size  (16, 16)\n",
      "hist  16\n",
      "orient  9\n",
      "ch1.shape[1]  853\n",
      "pix_per_cell  8\n",
      "(ch1.shape[1] // pix_per_cell)  106\n",
      "cell_per_block  2\n",
      "nxblocks  105\n"
     ]
    },
    {
     "name": "stderr",
     "output_type": "stream",
     "text": [
      "\r",
      " 62%|██████▏   | 778/1261 [11:37<07:14,  1.11it/s]"
     ]
    },
    {
     "name": "stdout",
     "output_type": "stream",
     "text": [
      "no. of rectangles found is  34\n",
      "spatial_size  (16, 16)\n",
      "hist  16\n",
      "orient  9\n",
      "ch1.shape[1]  853\n",
      "pix_per_cell  8\n",
      "(ch1.shape[1] // pix_per_cell)  106\n",
      "cell_per_block  2\n",
      "nxblocks  105\n"
     ]
    },
    {
     "name": "stderr",
     "output_type": "stream",
     "text": [
      "\r",
      " 62%|██████▏   | 779/1261 [11:38<07:13,  1.11it/s]"
     ]
    },
    {
     "name": "stdout",
     "output_type": "stream",
     "text": [
      "no. of rectangles found is  35\n",
      "spatial_size  (16, 16)\n",
      "hist  16\n",
      "orient  9\n",
      "ch1.shape[1]  853\n",
      "pix_per_cell  8\n",
      "(ch1.shape[1] // pix_per_cell)  106\n",
      "cell_per_block  2\n",
      "nxblocks  105\n"
     ]
    },
    {
     "name": "stderr",
     "output_type": "stream",
     "text": [
      "\r",
      " 62%|██████▏   | 780/1261 [11:39<07:09,  1.12it/s]"
     ]
    },
    {
     "name": "stdout",
     "output_type": "stream",
     "text": [
      "no. of rectangles found is  33\n",
      "spatial_size  (16, 16)\n",
      "hist  16\n",
      "orient  9\n",
      "ch1.shape[1]  853\n",
      "pix_per_cell  8\n",
      "(ch1.shape[1] // pix_per_cell)  106\n",
      "cell_per_block  2\n",
      "nxblocks  105\n"
     ]
    },
    {
     "name": "stderr",
     "output_type": "stream",
     "text": [
      "\r",
      " 62%|██████▏   | 781/1261 [11:40<07:07,  1.12it/s]"
     ]
    },
    {
     "name": "stdout",
     "output_type": "stream",
     "text": [
      "no. of rectangles found is  27\n",
      "spatial_size  (16, 16)\n",
      "hist  16\n",
      "orient  9\n",
      "ch1.shape[1]  853\n",
      "pix_per_cell  8\n",
      "(ch1.shape[1] // pix_per_cell)  106\n",
      "cell_per_block  2\n",
      "nxblocks  105\n"
     ]
    },
    {
     "name": "stderr",
     "output_type": "stream",
     "text": [
      "\r",
      " 62%|██████▏   | 782/1261 [11:41<07:07,  1.12it/s]"
     ]
    },
    {
     "name": "stdout",
     "output_type": "stream",
     "text": [
      "no. of rectangles found is  30\n",
      "spatial_size  (16, 16)\n",
      "hist  16\n",
      "orient  9\n",
      "ch1.shape[1]  853\n",
      "pix_per_cell  8\n",
      "(ch1.shape[1] // pix_per_cell)  106\n",
      "cell_per_block  2\n",
      "nxblocks  105\n"
     ]
    },
    {
     "name": "stderr",
     "output_type": "stream",
     "text": [
      "\r",
      " 62%|██████▏   | 783/1261 [11:42<07:05,  1.12it/s]"
     ]
    },
    {
     "name": "stdout",
     "output_type": "stream",
     "text": [
      "no. of rectangles found is  33\n",
      "spatial_size  (16, 16)\n",
      "hist  16\n",
      "orient  9\n",
      "ch1.shape[1]  853\n",
      "pix_per_cell  8\n",
      "(ch1.shape[1] // pix_per_cell)  106\n",
      "cell_per_block  2\n",
      "nxblocks  105\n"
     ]
    },
    {
     "name": "stderr",
     "output_type": "stream",
     "text": [
      "\r",
      " 62%|██████▏   | 784/1261 [11:43<07:05,  1.12it/s]"
     ]
    },
    {
     "name": "stdout",
     "output_type": "stream",
     "text": [
      "no. of rectangles found is  29\n",
      "spatial_size  (16, 16)\n",
      "hist  16\n",
      "orient  9\n",
      "ch1.shape[1]  853\n",
      "pix_per_cell  8\n",
      "(ch1.shape[1] // pix_per_cell)  106\n",
      "cell_per_block  2\n",
      "nxblocks  105\n"
     ]
    },
    {
     "name": "stderr",
     "output_type": "stream",
     "text": [
      "\r",
      " 62%|██████▏   | 785/1261 [11:44<07:01,  1.13it/s]"
     ]
    },
    {
     "name": "stdout",
     "output_type": "stream",
     "text": [
      "no. of rectangles found is  26\n",
      "spatial_size  (16, 16)\n",
      "hist  16\n",
      "orient  9\n",
      "ch1.shape[1]  853\n",
      "pix_per_cell  8\n",
      "(ch1.shape[1] // pix_per_cell)  106\n",
      "cell_per_block  2\n",
      "nxblocks  105\n"
     ]
    },
    {
     "name": "stderr",
     "output_type": "stream",
     "text": [
      "\r",
      " 62%|██████▏   | 786/1261 [11:45<07:01,  1.13it/s]"
     ]
    },
    {
     "name": "stdout",
     "output_type": "stream",
     "text": [
      "no. of rectangles found is  33\n",
      "spatial_size  (16, 16)\n",
      "hist  16\n",
      "orient  9\n",
      "ch1.shape[1]  853\n",
      "pix_per_cell  8\n",
      "(ch1.shape[1] // pix_per_cell)  106\n",
      "cell_per_block  2\n",
      "nxblocks  105\n"
     ]
    },
    {
     "name": "stderr",
     "output_type": "stream",
     "text": [
      "\r",
      " 62%|██████▏   | 787/1261 [11:45<07:05,  1.11it/s]"
     ]
    },
    {
     "name": "stdout",
     "output_type": "stream",
     "text": [
      "no. of rectangles found is  29\n",
      "spatial_size  (16, 16)\n",
      "hist  16\n",
      "orient  9\n",
      "ch1.shape[1]  853\n",
      "pix_per_cell  8\n",
      "(ch1.shape[1] // pix_per_cell)  106\n",
      "cell_per_block  2\n",
      "nxblocks  105\n"
     ]
    },
    {
     "name": "stderr",
     "output_type": "stream",
     "text": [
      "\r",
      " 62%|██████▏   | 788/1261 [11:46<07:03,  1.12it/s]"
     ]
    },
    {
     "name": "stdout",
     "output_type": "stream",
     "text": [
      "no. of rectangles found is  28\n",
      "spatial_size  (16, 16)\n",
      "hist  16\n",
      "orient  9\n",
      "ch1.shape[1]  853\n",
      "pix_per_cell  8\n",
      "(ch1.shape[1] // pix_per_cell)  106\n",
      "cell_per_block  2\n",
      "nxblocks  105\n"
     ]
    },
    {
     "name": "stderr",
     "output_type": "stream",
     "text": [
      "\r",
      " 63%|██████▎   | 789/1261 [11:47<07:04,  1.11it/s]"
     ]
    },
    {
     "name": "stdout",
     "output_type": "stream",
     "text": [
      "no. of rectangles found is  24\n",
      "spatial_size  (16, 16)\n",
      "hist  16\n",
      "orient  9\n",
      "ch1.shape[1]  853\n",
      "pix_per_cell  8\n",
      "(ch1.shape[1] // pix_per_cell)  106\n",
      "cell_per_block  2\n",
      "nxblocks  105\n"
     ]
    },
    {
     "name": "stderr",
     "output_type": "stream",
     "text": [
      "\r",
      " 63%|██████▎   | 790/1261 [11:48<07:01,  1.12it/s]"
     ]
    },
    {
     "name": "stdout",
     "output_type": "stream",
     "text": [
      "no. of rectangles found is  21\n",
      "spatial_size  (16, 16)\n",
      "hist  16\n",
      "orient  9\n",
      "ch1.shape[1]  853\n",
      "pix_per_cell  8\n",
      "(ch1.shape[1] // pix_per_cell)  106\n",
      "cell_per_block  2\n",
      "nxblocks  105\n"
     ]
    },
    {
     "name": "stderr",
     "output_type": "stream",
     "text": [
      "\r",
      " 63%|██████▎   | 791/1261 [11:49<06:58,  1.12it/s]"
     ]
    },
    {
     "name": "stdout",
     "output_type": "stream",
     "text": [
      "no. of rectangles found is  20\n",
      "spatial_size  (16, 16)\n",
      "hist  16\n",
      "orient  9\n",
      "ch1.shape[1]  853\n",
      "pix_per_cell  8\n",
      "(ch1.shape[1] // pix_per_cell)  106\n",
      "cell_per_block  2\n",
      "nxblocks  105\n"
     ]
    },
    {
     "name": "stderr",
     "output_type": "stream",
     "text": [
      "\r",
      " 63%|██████▎   | 792/1261 [11:50<06:59,  1.12it/s]"
     ]
    },
    {
     "name": "stdout",
     "output_type": "stream",
     "text": [
      "no. of rectangles found is  22\n",
      "spatial_size  (16, 16)\n",
      "hist  16\n",
      "orient  9\n",
      "ch1.shape[1]  853\n",
      "pix_per_cell  8\n",
      "(ch1.shape[1] // pix_per_cell)  106\n",
      "cell_per_block  2\n",
      "nxblocks  105\n"
     ]
    },
    {
     "name": "stderr",
     "output_type": "stream",
     "text": [
      "\r",
      " 63%|██████▎   | 793/1261 [11:51<06:58,  1.12it/s]"
     ]
    },
    {
     "name": "stdout",
     "output_type": "stream",
     "text": [
      "no. of rectangles found is  24\n",
      "spatial_size  (16, 16)\n",
      "hist  16\n",
      "orient  9\n",
      "ch1.shape[1]  853\n",
      "pix_per_cell  8\n",
      "(ch1.shape[1] // pix_per_cell)  106\n",
      "cell_per_block  2\n",
      "nxblocks  105\n"
     ]
    },
    {
     "name": "stderr",
     "output_type": "stream",
     "text": [
      "\r",
      " 63%|██████▎   | 794/1261 [11:52<06:56,  1.12it/s]"
     ]
    },
    {
     "name": "stdout",
     "output_type": "stream",
     "text": [
      "no. of rectangles found is  21\n",
      "spatial_size  (16, 16)\n",
      "hist  16\n",
      "orient  9\n",
      "ch1.shape[1]  853\n",
      "pix_per_cell  8\n",
      "(ch1.shape[1] // pix_per_cell)  106\n",
      "cell_per_block  2\n",
      "nxblocks  105\n"
     ]
    },
    {
     "name": "stderr",
     "output_type": "stream",
     "text": [
      "\r",
      " 63%|██████▎   | 795/1261 [11:53<07:03,  1.10it/s]"
     ]
    },
    {
     "name": "stdout",
     "output_type": "stream",
     "text": [
      "no. of rectangles found is  28\n",
      "spatial_size  (16, 16)\n",
      "hist  16\n",
      "orient  9\n",
      "ch1.shape[1]  853\n",
      "pix_per_cell  8\n",
      "(ch1.shape[1] // pix_per_cell)  106\n",
      "cell_per_block  2\n",
      "nxblocks  105\n"
     ]
    },
    {
     "name": "stderr",
     "output_type": "stream",
     "text": [
      "\r",
      " 63%|██████▎   | 796/1261 [11:54<06:59,  1.11it/s]"
     ]
    },
    {
     "name": "stdout",
     "output_type": "stream",
     "text": [
      "no. of rectangles found is  21\n",
      "spatial_size  (16, 16)\n",
      "hist  16\n",
      "orient  9\n",
      "ch1.shape[1]  853\n",
      "pix_per_cell  8\n",
      "(ch1.shape[1] // pix_per_cell)  106\n",
      "cell_per_block  2\n",
      "nxblocks  105\n"
     ]
    },
    {
     "name": "stderr",
     "output_type": "stream",
     "text": [
      "\r",
      " 63%|██████▎   | 797/1261 [11:54<06:57,  1.11it/s]"
     ]
    },
    {
     "name": "stdout",
     "output_type": "stream",
     "text": [
      "no. of rectangles found is  20\n",
      "spatial_size  (16, 16)\n",
      "hist  16\n",
      "orient  9\n",
      "ch1.shape[1]  853\n",
      "pix_per_cell  8\n",
      "(ch1.shape[1] // pix_per_cell)  106\n",
      "cell_per_block  2\n",
      "nxblocks  105\n"
     ]
    },
    {
     "name": "stderr",
     "output_type": "stream",
     "text": [
      "\r",
      " 63%|██████▎   | 798/1261 [11:55<06:55,  1.12it/s]"
     ]
    },
    {
     "name": "stdout",
     "output_type": "stream",
     "text": [
      "no. of rectangles found is  26\n",
      "spatial_size  (16, 16)\n",
      "hist  16\n",
      "orient  9\n",
      "ch1.shape[1]  853\n",
      "pix_per_cell  8\n",
      "(ch1.shape[1] // pix_per_cell)  106\n",
      "cell_per_block  2\n",
      "nxblocks  105\n"
     ]
    },
    {
     "name": "stderr",
     "output_type": "stream",
     "text": [
      "\r",
      " 63%|██████▎   | 799/1261 [11:56<06:53,  1.12it/s]"
     ]
    },
    {
     "name": "stdout",
     "output_type": "stream",
     "text": [
      "no. of rectangles found is  26\n",
      "spatial_size  (16, 16)\n",
      "hist  16\n",
      "orient  9\n",
      "ch1.shape[1]  853\n",
      "pix_per_cell  8\n",
      "(ch1.shape[1] // pix_per_cell)  106\n",
      "cell_per_block  2\n",
      "nxblocks  105\n"
     ]
    },
    {
     "name": "stderr",
     "output_type": "stream",
     "text": [
      "\r",
      " 63%|██████▎   | 800/1261 [11:57<06:51,  1.12it/s]"
     ]
    },
    {
     "name": "stdout",
     "output_type": "stream",
     "text": [
      "no. of rectangles found is  18\n",
      "spatial_size  (16, 16)\n",
      "hist  16\n",
      "orient  9\n",
      "ch1.shape[1]  853\n",
      "pix_per_cell  8\n",
      "(ch1.shape[1] // pix_per_cell)  106\n",
      "cell_per_block  2\n",
      "nxblocks  105\n"
     ]
    },
    {
     "name": "stderr",
     "output_type": "stream",
     "text": [
      "\r",
      " 64%|██████▎   | 801/1261 [11:58<06:49,  1.12it/s]"
     ]
    },
    {
     "name": "stdout",
     "output_type": "stream",
     "text": [
      "no. of rectangles found is  24\n",
      "spatial_size  (16, 16)\n",
      "hist  16\n",
      "orient  9\n",
      "ch1.shape[1]  853\n",
      "pix_per_cell  8\n",
      "(ch1.shape[1] // pix_per_cell)  106\n",
      "cell_per_block  2\n",
      "nxblocks  105\n"
     ]
    },
    {
     "name": "stderr",
     "output_type": "stream",
     "text": [
      "\r",
      " 64%|██████▎   | 802/1261 [11:59<06:54,  1.11it/s]"
     ]
    },
    {
     "name": "stdout",
     "output_type": "stream",
     "text": [
      "no. of rectangles found is  21\n",
      "spatial_size  (16, 16)\n",
      "hist  16\n",
      "orient  9\n",
      "ch1.shape[1]  853\n",
      "pix_per_cell  8\n",
      "(ch1.shape[1] // pix_per_cell)  106\n",
      "cell_per_block  2\n",
      "nxblocks  105\n"
     ]
    },
    {
     "name": "stderr",
     "output_type": "stream",
     "text": [
      "\r",
      " 64%|██████▎   | 803/1261 [12:00<06:51,  1.11it/s]"
     ]
    },
    {
     "name": "stdout",
     "output_type": "stream",
     "text": [
      "no. of rectangles found is  18\n",
      "spatial_size  (16, 16)\n",
      "hist  16\n",
      "orient  9\n",
      "ch1.shape[1]  853\n",
      "pix_per_cell  8\n",
      "(ch1.shape[1] // pix_per_cell)  106\n",
      "cell_per_block  2\n",
      "nxblocks  105\n"
     ]
    },
    {
     "name": "stderr",
     "output_type": "stream",
     "text": [
      "\r",
      " 64%|██████▍   | 804/1261 [12:01<06:50,  1.11it/s]"
     ]
    },
    {
     "name": "stdout",
     "output_type": "stream",
     "text": [
      "no. of rectangles found is  21\n",
      "spatial_size  (16, 16)\n",
      "hist  16\n",
      "orient  9\n",
      "ch1.shape[1]  853\n",
      "pix_per_cell  8\n",
      "(ch1.shape[1] // pix_per_cell)  106\n",
      "cell_per_block  2\n",
      "nxblocks  105\n"
     ]
    },
    {
     "name": "stderr",
     "output_type": "stream",
     "text": [
      "\r",
      " 64%|██████▍   | 805/1261 [12:02<06:48,  1.12it/s]"
     ]
    },
    {
     "name": "stdout",
     "output_type": "stream",
     "text": [
      "no. of rectangles found is  20\n",
      "spatial_size  (16, 16)\n",
      "hist  16\n",
      "orient  9\n",
      "ch1.shape[1]  853\n",
      "pix_per_cell  8\n",
      "(ch1.shape[1] // pix_per_cell)  106\n",
      "cell_per_block  2\n",
      "nxblocks  105\n"
     ]
    },
    {
     "name": "stderr",
     "output_type": "stream",
     "text": [
      "\r",
      " 64%|██████▍   | 806/1261 [12:03<06:50,  1.11it/s]"
     ]
    },
    {
     "name": "stdout",
     "output_type": "stream",
     "text": [
      "no. of rectangles found is  19\n",
      "spatial_size  (16, 16)\n",
      "hist  16\n",
      "orient  9\n",
      "ch1.shape[1]  853\n",
      "pix_per_cell  8\n",
      "(ch1.shape[1] // pix_per_cell)  106\n",
      "cell_per_block  2\n",
      "nxblocks  105\n"
     ]
    },
    {
     "name": "stderr",
     "output_type": "stream",
     "text": [
      "\r",
      " 64%|██████▍   | 807/1261 [12:03<06:48,  1.11it/s]"
     ]
    },
    {
     "name": "stdout",
     "output_type": "stream",
     "text": [
      "no. of rectangles found is  17\n",
      "spatial_size  (16, 16)\n",
      "hist  16\n",
      "orient  9\n",
      "ch1.shape[1]  853\n",
      "pix_per_cell  8\n",
      "(ch1.shape[1] // pix_per_cell)  106\n",
      "cell_per_block  2\n",
      "nxblocks  105\n"
     ]
    },
    {
     "name": "stderr",
     "output_type": "stream",
     "text": [
      "\r",
      " 64%|██████▍   | 808/1261 [12:04<06:45,  1.12it/s]"
     ]
    },
    {
     "name": "stdout",
     "output_type": "stream",
     "text": [
      "no. of rectangles found is  21\n",
      "spatial_size  (16, 16)\n",
      "hist  16\n",
      "orient  9\n",
      "ch1.shape[1]  853\n",
      "pix_per_cell  8\n",
      "(ch1.shape[1] // pix_per_cell)  106\n",
      "cell_per_block  2\n",
      "nxblocks  105\n"
     ]
    },
    {
     "name": "stderr",
     "output_type": "stream",
     "text": [
      "\r",
      " 64%|██████▍   | 809/1261 [12:05<06:41,  1.13it/s]"
     ]
    },
    {
     "name": "stdout",
     "output_type": "stream",
     "text": [
      "no. of rectangles found is  19\n",
      "spatial_size  (16, 16)\n",
      "hist  16\n",
      "orient  9\n",
      "ch1.shape[1]  853\n",
      "pix_per_cell  8\n",
      "(ch1.shape[1] // pix_per_cell)  106\n",
      "cell_per_block  2\n",
      "nxblocks  105\n"
     ]
    },
    {
     "name": "stderr",
     "output_type": "stream",
     "text": [
      "\r",
      " 64%|██████▍   | 810/1261 [12:06<06:40,  1.12it/s]"
     ]
    },
    {
     "name": "stdout",
     "output_type": "stream",
     "text": [
      "no. of rectangles found is  19\n",
      "spatial_size  (16, 16)\n",
      "hist  16\n",
      "orient  9\n",
      "ch1.shape[1]  853\n",
      "pix_per_cell  8\n",
      "(ch1.shape[1] // pix_per_cell)  106\n",
      "cell_per_block  2\n",
      "nxblocks  105\n"
     ]
    },
    {
     "name": "stderr",
     "output_type": "stream",
     "text": [
      "\r",
      " 64%|██████▍   | 811/1261 [12:07<06:39,  1.13it/s]"
     ]
    },
    {
     "name": "stdout",
     "output_type": "stream",
     "text": [
      "no. of rectangles found is  16\n",
      "spatial_size  (16, 16)\n",
      "hist  16\n",
      "orient  9\n",
      "ch1.shape[1]  853\n",
      "pix_per_cell  8\n",
      "(ch1.shape[1] // pix_per_cell)  106\n",
      "cell_per_block  2\n",
      "nxblocks  105\n"
     ]
    },
    {
     "name": "stderr",
     "output_type": "stream",
     "text": [
      "\r",
      " 64%|██████▍   | 812/1261 [12:08<06:38,  1.13it/s]"
     ]
    },
    {
     "name": "stdout",
     "output_type": "stream",
     "text": [
      "no. of rectangles found is  18\n",
      "spatial_size  (16, 16)\n",
      "hist  16\n",
      "orient  9\n",
      "ch1.shape[1]  853\n",
      "pix_per_cell  8\n",
      "(ch1.shape[1] // pix_per_cell)  106\n",
      "cell_per_block  2\n",
      "nxblocks  105\n"
     ]
    },
    {
     "name": "stderr",
     "output_type": "stream",
     "text": [
      "\r",
      " 64%|██████▍   | 813/1261 [12:09<06:37,  1.13it/s]"
     ]
    },
    {
     "name": "stdout",
     "output_type": "stream",
     "text": [
      "no. of rectangles found is  23\n",
      "spatial_size  (16, 16)\n",
      "hist  16\n",
      "orient  9\n",
      "ch1.shape[1]  853\n",
      "pix_per_cell  8\n",
      "(ch1.shape[1] // pix_per_cell)  106\n",
      "cell_per_block  2\n",
      "nxblocks  105\n"
     ]
    },
    {
     "name": "stderr",
     "output_type": "stream",
     "text": [
      "\r",
      " 65%|██████▍   | 814/1261 [12:10<06:37,  1.13it/s]"
     ]
    },
    {
     "name": "stdout",
     "output_type": "stream",
     "text": [
      "no. of rectangles found is  21\n",
      "spatial_size  (16, 16)\n",
      "hist  16\n",
      "orient  9\n",
      "ch1.shape[1]  853\n",
      "pix_per_cell  8\n",
      "(ch1.shape[1] // pix_per_cell)  106\n",
      "cell_per_block  2\n",
      "nxblocks  105\n"
     ]
    },
    {
     "name": "stderr",
     "output_type": "stream",
     "text": [
      "\r",
      " 65%|██████▍   | 815/1261 [12:11<06:36,  1.12it/s]"
     ]
    },
    {
     "name": "stdout",
     "output_type": "stream",
     "text": [
      "no. of rectangles found is  24\n",
      "spatial_size  (16, 16)\n",
      "hist  16\n",
      "orient  9\n",
      "ch1.shape[1]  853\n",
      "pix_per_cell  8\n",
      "(ch1.shape[1] // pix_per_cell)  106\n",
      "cell_per_block  2\n",
      "nxblocks  105\n"
     ]
    },
    {
     "name": "stderr",
     "output_type": "stream",
     "text": [
      "\r",
      " 65%|██████▍   | 816/1261 [12:11<06:35,  1.13it/s]"
     ]
    },
    {
     "name": "stdout",
     "output_type": "stream",
     "text": [
      "no. of rectangles found is  18\n",
      "spatial_size  (16, 16)\n",
      "hist  16\n",
      "orient  9\n",
      "ch1.shape[1]  853\n",
      "pix_per_cell  8\n",
      "(ch1.shape[1] // pix_per_cell)  106\n",
      "cell_per_block  2\n",
      "nxblocks  105\n"
     ]
    },
    {
     "name": "stderr",
     "output_type": "stream",
     "text": [
      "\r",
      " 65%|██████▍   | 817/1261 [12:12<06:34,  1.13it/s]"
     ]
    },
    {
     "name": "stdout",
     "output_type": "stream",
     "text": [
      "no. of rectangles found is  20\n",
      "spatial_size  (16, 16)\n",
      "hist  16\n",
      "orient  9\n",
      "ch1.shape[1]  853\n",
      "pix_per_cell  8\n",
      "(ch1.shape[1] // pix_per_cell)  106\n",
      "cell_per_block  2\n",
      "nxblocks  105\n"
     ]
    },
    {
     "name": "stderr",
     "output_type": "stream",
     "text": [
      "\r",
      " 65%|██████▍   | 818/1261 [12:13<06:37,  1.12it/s]"
     ]
    },
    {
     "name": "stdout",
     "output_type": "stream",
     "text": [
      "no. of rectangles found is  22\n",
      "spatial_size  (16, 16)\n",
      "hist  16\n",
      "orient  9\n",
      "ch1.shape[1]  853\n",
      "pix_per_cell  8\n",
      "(ch1.shape[1] // pix_per_cell)  106\n",
      "cell_per_block  2\n",
      "nxblocks  105\n"
     ]
    },
    {
     "name": "stderr",
     "output_type": "stream",
     "text": [
      "\r",
      " 65%|██████▍   | 819/1261 [12:14<06:40,  1.10it/s]"
     ]
    },
    {
     "name": "stdout",
     "output_type": "stream",
     "text": [
      "no. of rectangles found is  24\n",
      "spatial_size  (16, 16)\n",
      "hist  16\n",
      "orient  9\n",
      "ch1.shape[1]  853\n",
      "pix_per_cell  8\n",
      "(ch1.shape[1] // pix_per_cell)  106\n",
      "cell_per_block  2\n",
      "nxblocks  105\n"
     ]
    },
    {
     "name": "stderr",
     "output_type": "stream",
     "text": [
      "\r",
      " 65%|██████▌   | 820/1261 [12:15<06:35,  1.12it/s]"
     ]
    },
    {
     "name": "stdout",
     "output_type": "stream",
     "text": [
      "no. of rectangles found is  27\n",
      "spatial_size  (16, 16)\n",
      "hist  16\n",
      "orient  9\n",
      "ch1.shape[1]  853\n",
      "pix_per_cell  8\n",
      "(ch1.shape[1] // pix_per_cell)  106\n",
      "cell_per_block  2\n",
      "nxblocks  105\n"
     ]
    },
    {
     "name": "stderr",
     "output_type": "stream",
     "text": [
      "\r",
      " 65%|██████▌   | 821/1261 [12:16<06:33,  1.12it/s]"
     ]
    },
    {
     "name": "stdout",
     "output_type": "stream",
     "text": [
      "no. of rectangles found is  17\n",
      "spatial_size  (16, 16)\n",
      "hist  16\n",
      "orient  9\n",
      "ch1.shape[1]  853\n",
      "pix_per_cell  8\n",
      "(ch1.shape[1] // pix_per_cell)  106\n",
      "cell_per_block  2\n",
      "nxblocks  105\n"
     ]
    },
    {
     "name": "stderr",
     "output_type": "stream",
     "text": [
      "\r",
      " 65%|██████▌   | 822/1261 [12:17<06:33,  1.12it/s]"
     ]
    },
    {
     "name": "stdout",
     "output_type": "stream",
     "text": [
      "no. of rectangles found is  20\n",
      "spatial_size  (16, 16)\n",
      "hist  16\n",
      "orient  9\n",
      "ch1.shape[1]  853\n",
      "pix_per_cell  8\n",
      "(ch1.shape[1] // pix_per_cell)  106\n",
      "cell_per_block  2\n",
      "nxblocks  105\n"
     ]
    },
    {
     "name": "stderr",
     "output_type": "stream",
     "text": [
      "\r",
      " 65%|██████▌   | 823/1261 [12:18<06:30,  1.12it/s]"
     ]
    },
    {
     "name": "stdout",
     "output_type": "stream",
     "text": [
      "no. of rectangles found is  15\n",
      "spatial_size  (16, 16)\n",
      "hist  16\n",
      "orient  9\n",
      "ch1.shape[1]  853\n",
      "pix_per_cell  8\n",
      "(ch1.shape[1] // pix_per_cell)  106\n",
      "cell_per_block  2\n",
      "nxblocks  105\n"
     ]
    },
    {
     "name": "stderr",
     "output_type": "stream",
     "text": [
      "\r",
      " 65%|██████▌   | 824/1261 [12:19<06:29,  1.12it/s]"
     ]
    },
    {
     "name": "stdout",
     "output_type": "stream",
     "text": [
      "no. of rectangles found is  15\n",
      "spatial_size  (16, 16)\n",
      "hist  16\n",
      "orient  9\n",
      "ch1.shape[1]  853\n",
      "pix_per_cell  8\n",
      "(ch1.shape[1] // pix_per_cell)  106\n",
      "cell_per_block  2\n",
      "nxblocks  105\n"
     ]
    },
    {
     "name": "stderr",
     "output_type": "stream",
     "text": [
      "\r",
      " 65%|██████▌   | 825/1261 [12:19<06:28,  1.12it/s]"
     ]
    },
    {
     "name": "stdout",
     "output_type": "stream",
     "text": [
      "no. of rectangles found is  17\n",
      "spatial_size  (16, 16)\n",
      "hist  16\n",
      "orient  9\n",
      "ch1.shape[1]  853\n",
      "pix_per_cell  8\n",
      "(ch1.shape[1] // pix_per_cell)  106\n",
      "cell_per_block  2\n",
      "nxblocks  105\n"
     ]
    },
    {
     "name": "stderr",
     "output_type": "stream",
     "text": [
      "\r",
      " 66%|██████▌   | 826/1261 [12:20<06:27,  1.12it/s]"
     ]
    },
    {
     "name": "stdout",
     "output_type": "stream",
     "text": [
      "no. of rectangles found is  23\n",
      "spatial_size  (16, 16)\n",
      "hist  16\n",
      "orient  9\n",
      "ch1.shape[1]  853\n",
      "pix_per_cell  8\n",
      "(ch1.shape[1] // pix_per_cell)  106\n",
      "cell_per_block  2\n",
      "nxblocks  105\n"
     ]
    },
    {
     "name": "stderr",
     "output_type": "stream",
     "text": [
      "\r",
      " 66%|██████▌   | 827/1261 [12:21<06:26,  1.12it/s]"
     ]
    },
    {
     "name": "stdout",
     "output_type": "stream",
     "text": [
      "no. of rectangles found is  23\n",
      "spatial_size  (16, 16)\n",
      "hist  16\n",
      "orient  9\n",
      "ch1.shape[1]  853\n",
      "pix_per_cell  8\n",
      "(ch1.shape[1] // pix_per_cell)  106\n",
      "cell_per_block  2\n",
      "nxblocks  105\n"
     ]
    },
    {
     "name": "stderr",
     "output_type": "stream",
     "text": [
      "\r",
      " 66%|██████▌   | 828/1261 [12:22<06:26,  1.12it/s]"
     ]
    },
    {
     "name": "stdout",
     "output_type": "stream",
     "text": [
      "no. of rectangles found is  15\n",
      "spatial_size  (16, 16)\n",
      "hist  16\n",
      "orient  9\n",
      "ch1.shape[1]  853\n",
      "pix_per_cell  8\n",
      "(ch1.shape[1] // pix_per_cell)  106\n",
      "cell_per_block  2\n",
      "nxblocks  105\n"
     ]
    },
    {
     "name": "stderr",
     "output_type": "stream",
     "text": [
      "\r",
      " 66%|██████▌   | 829/1261 [12:23<06:24,  1.12it/s]"
     ]
    },
    {
     "name": "stdout",
     "output_type": "stream",
     "text": [
      "no. of rectangles found is  15\n",
      "spatial_size  (16, 16)\n",
      "hist  16\n",
      "orient  9\n",
      "ch1.shape[1]  853\n",
      "pix_per_cell  8\n",
      "(ch1.shape[1] // pix_per_cell)  106\n",
      "cell_per_block  2\n",
      "nxblocks  105\n"
     ]
    },
    {
     "name": "stderr",
     "output_type": "stream",
     "text": [
      "\r",
      " 66%|██████▌   | 830/1261 [12:24<06:23,  1.12it/s]"
     ]
    },
    {
     "name": "stdout",
     "output_type": "stream",
     "text": [
      "no. of rectangles found is  14\n",
      "spatial_size  (16, 16)\n",
      "hist  16\n",
      "orient  9\n",
      "ch1.shape[1]  853\n",
      "pix_per_cell  8\n",
      "(ch1.shape[1] // pix_per_cell)  106\n",
      "cell_per_block  2\n",
      "nxblocks  105\n"
     ]
    },
    {
     "name": "stderr",
     "output_type": "stream",
     "text": [
      "\r",
      " 66%|██████▌   | 831/1261 [12:25<06:20,  1.13it/s]"
     ]
    },
    {
     "name": "stdout",
     "output_type": "stream",
     "text": [
      "no. of rectangles found is  16\n",
      "spatial_size  (16, 16)\n",
      "hist  16\n",
      "orient  9\n",
      "ch1.shape[1]  853\n",
      "pix_per_cell  8\n",
      "(ch1.shape[1] // pix_per_cell)  106\n",
      "cell_per_block  2\n",
      "nxblocks  105\n"
     ]
    },
    {
     "name": "stderr",
     "output_type": "stream",
     "text": [
      "\r",
      " 66%|██████▌   | 832/1261 [12:26<06:25,  1.11it/s]"
     ]
    },
    {
     "name": "stdout",
     "output_type": "stream",
     "text": [
      "no. of rectangles found is  16\n",
      "spatial_size  (16, 16)\n",
      "hist  16\n",
      "orient  9\n",
      "ch1.shape[1]  853\n",
      "pix_per_cell  8\n",
      "(ch1.shape[1] // pix_per_cell)  106\n",
      "cell_per_block  2\n",
      "nxblocks  105\n"
     ]
    },
    {
     "name": "stderr",
     "output_type": "stream",
     "text": [
      "\r",
      " 66%|██████▌   | 833/1261 [12:27<06:23,  1.12it/s]"
     ]
    },
    {
     "name": "stdout",
     "output_type": "stream",
     "text": [
      "no. of rectangles found is  13\n",
      "spatial_size  (16, 16)\n",
      "hist  16\n",
      "orient  9\n",
      "ch1.shape[1]  853\n",
      "pix_per_cell  8\n",
      "(ch1.shape[1] // pix_per_cell)  106\n",
      "cell_per_block  2\n",
      "nxblocks  105\n"
     ]
    },
    {
     "name": "stderr",
     "output_type": "stream",
     "text": [
      "\r",
      " 66%|██████▌   | 834/1261 [12:27<06:24,  1.11it/s]"
     ]
    },
    {
     "name": "stdout",
     "output_type": "stream",
     "text": [
      "no. of rectangles found is  17\n",
      "spatial_size  (16, 16)\n",
      "hist  16\n",
      "orient  9\n",
      "ch1.shape[1]  853\n",
      "pix_per_cell  8\n",
      "(ch1.shape[1] // pix_per_cell)  106\n",
      "cell_per_block  2\n",
      "nxblocks  105\n"
     ]
    },
    {
     "name": "stderr",
     "output_type": "stream",
     "text": [
      "\r",
      " 66%|██████▌   | 835/1261 [12:28<06:21,  1.12it/s]"
     ]
    },
    {
     "name": "stdout",
     "output_type": "stream",
     "text": [
      "no. of rectangles found is  17\n",
      "spatial_size  (16, 16)\n",
      "hist  16\n",
      "orient  9\n",
      "ch1.shape[1]  853\n",
      "pix_per_cell  8\n",
      "(ch1.shape[1] // pix_per_cell)  106\n",
      "cell_per_block  2\n",
      "nxblocks  105\n"
     ]
    },
    {
     "name": "stderr",
     "output_type": "stream",
     "text": [
      "\r",
      " 66%|██████▋   | 836/1261 [12:29<06:19,  1.12it/s]"
     ]
    },
    {
     "name": "stdout",
     "output_type": "stream",
     "text": [
      "no. of rectangles found is  13\n",
      "spatial_size  (16, 16)\n",
      "hist  16\n",
      "orient  9\n",
      "ch1.shape[1]  853\n",
      "pix_per_cell  8\n",
      "(ch1.shape[1] // pix_per_cell)  106\n",
      "cell_per_block  2\n",
      "nxblocks  105\n"
     ]
    },
    {
     "name": "stderr",
     "output_type": "stream",
     "text": [
      "\r",
      " 66%|██████▋   | 837/1261 [12:30<06:17,  1.12it/s]"
     ]
    },
    {
     "name": "stdout",
     "output_type": "stream",
     "text": [
      "no. of rectangles found is  16\n",
      "spatial_size  (16, 16)\n",
      "hist  16\n",
      "orient  9\n",
      "ch1.shape[1]  853\n",
      "pix_per_cell  8\n",
      "(ch1.shape[1] // pix_per_cell)  106\n",
      "cell_per_block  2\n",
      "nxblocks  105\n"
     ]
    },
    {
     "name": "stderr",
     "output_type": "stream",
     "text": [
      "\r",
      " 66%|██████▋   | 838/1261 [12:31<06:16,  1.12it/s]"
     ]
    },
    {
     "name": "stdout",
     "output_type": "stream",
     "text": [
      "no. of rectangles found is  14\n",
      "spatial_size  (16, 16)\n",
      "hist  16\n",
      "orient  9\n",
      "ch1.shape[1]  853\n",
      "pix_per_cell  8\n",
      "(ch1.shape[1] // pix_per_cell)  106\n",
      "cell_per_block  2\n",
      "nxblocks  105\n"
     ]
    },
    {
     "name": "stderr",
     "output_type": "stream",
     "text": [
      "\r",
      " 67%|██████▋   | 839/1261 [12:32<06:15,  1.12it/s]"
     ]
    },
    {
     "name": "stdout",
     "output_type": "stream",
     "text": [
      "no. of rectangles found is  12\n",
      "spatial_size  (16, 16)\n",
      "hist  16\n",
      "orient  9\n",
      "ch1.shape[1]  853\n",
      "pix_per_cell  8\n",
      "(ch1.shape[1] // pix_per_cell)  106\n",
      "cell_per_block  2\n",
      "nxblocks  105\n"
     ]
    },
    {
     "name": "stderr",
     "output_type": "stream",
     "text": [
      "\r",
      " 67%|██████▋   | 840/1261 [12:33<06:17,  1.12it/s]"
     ]
    },
    {
     "name": "stdout",
     "output_type": "stream",
     "text": [
      "no. of rectangles found is  16\n",
      "spatial_size  (16, 16)\n",
      "hist  16\n",
      "orient  9\n",
      "ch1.shape[1]  853\n",
      "pix_per_cell  8\n",
      "(ch1.shape[1] // pix_per_cell)  106\n",
      "cell_per_block  2\n",
      "nxblocks  105\n"
     ]
    },
    {
     "name": "stderr",
     "output_type": "stream",
     "text": [
      "\r",
      " 67%|██████▋   | 841/1261 [12:34<06:20,  1.10it/s]"
     ]
    },
    {
     "name": "stdout",
     "output_type": "stream",
     "text": [
      "no. of rectangles found is  12\n",
      "spatial_size  (16, 16)\n",
      "hist  16\n",
      "orient  9\n",
      "ch1.shape[1]  853\n",
      "pix_per_cell  8\n",
      "(ch1.shape[1] // pix_per_cell)  106\n",
      "cell_per_block  2\n",
      "nxblocks  105\n"
     ]
    },
    {
     "name": "stderr",
     "output_type": "stream",
     "text": [
      "\r",
      " 67%|██████▋   | 842/1261 [12:35<06:23,  1.09it/s]"
     ]
    },
    {
     "name": "stdout",
     "output_type": "stream",
     "text": [
      "no. of rectangles found is  21\n",
      "spatial_size  (16, 16)\n",
      "hist  16\n",
      "orient  9\n",
      "ch1.shape[1]  853\n",
      "pix_per_cell  8\n",
      "(ch1.shape[1] // pix_per_cell)  106\n",
      "cell_per_block  2\n",
      "nxblocks  105\n"
     ]
    },
    {
     "name": "stderr",
     "output_type": "stream",
     "text": [
      "\r",
      " 67%|██████▋   | 843/1261 [12:36<06:17,  1.11it/s]"
     ]
    },
    {
     "name": "stdout",
     "output_type": "stream",
     "text": [
      "no. of rectangles found is  18\n",
      "spatial_size  (16, 16)\n",
      "hist  16\n",
      "orient  9\n",
      "ch1.shape[1]  853\n",
      "pix_per_cell  8\n",
      "(ch1.shape[1] // pix_per_cell)  106\n",
      "cell_per_block  2\n",
      "nxblocks  105\n"
     ]
    },
    {
     "name": "stderr",
     "output_type": "stream",
     "text": [
      "\r",
      " 67%|██████▋   | 844/1261 [12:36<06:14,  1.11it/s]"
     ]
    },
    {
     "name": "stdout",
     "output_type": "stream",
     "text": [
      "no. of rectangles found is  16\n",
      "spatial_size  (16, 16)\n",
      "hist  16\n",
      "orient  9\n",
      "ch1.shape[1]  853\n",
      "pix_per_cell  8\n",
      "(ch1.shape[1] // pix_per_cell)  106\n",
      "cell_per_block  2\n",
      "nxblocks  105\n"
     ]
    },
    {
     "name": "stderr",
     "output_type": "stream",
     "text": [
      "\r",
      " 67%|██████▋   | 845/1261 [12:37<06:13,  1.11it/s]"
     ]
    },
    {
     "name": "stdout",
     "output_type": "stream",
     "text": [
      "no. of rectangles found is  21\n",
      "spatial_size  (16, 16)\n",
      "hist  16\n",
      "orient  9\n",
      "ch1.shape[1]  853\n",
      "pix_per_cell  8\n",
      "(ch1.shape[1] // pix_per_cell)  106\n",
      "cell_per_block  2\n",
      "nxblocks  105\n"
     ]
    },
    {
     "name": "stderr",
     "output_type": "stream",
     "text": [
      "\r",
      " 67%|██████▋   | 846/1261 [12:38<06:11,  1.12it/s]"
     ]
    },
    {
     "name": "stdout",
     "output_type": "stream",
     "text": [
      "no. of rectangles found is  17\n",
      "spatial_size  (16, 16)\n",
      "hist  16\n",
      "orient  9\n",
      "ch1.shape[1]  853\n",
      "pix_per_cell  8\n",
      "(ch1.shape[1] // pix_per_cell)  106\n",
      "cell_per_block  2\n",
      "nxblocks  105\n"
     ]
    },
    {
     "name": "stderr",
     "output_type": "stream",
     "text": [
      "\r",
      " 67%|██████▋   | 847/1261 [12:39<06:13,  1.11it/s]"
     ]
    },
    {
     "name": "stdout",
     "output_type": "stream",
     "text": [
      "no. of rectangles found is  14\n",
      "spatial_size  (16, 16)\n",
      "hist  16\n",
      "orient  9\n",
      "ch1.shape[1]  853\n",
      "pix_per_cell  8\n",
      "(ch1.shape[1] // pix_per_cell)  106\n",
      "cell_per_block  2\n",
      "nxblocks  105\n"
     ]
    },
    {
     "name": "stderr",
     "output_type": "stream",
     "text": [
      "\r",
      " 67%|██████▋   | 848/1261 [12:40<06:11,  1.11it/s]"
     ]
    },
    {
     "name": "stdout",
     "output_type": "stream",
     "text": [
      "no. of rectangles found is  16\n",
      "spatial_size  (16, 16)\n",
      "hist  16\n",
      "orient  9\n",
      "ch1.shape[1]  853\n",
      "pix_per_cell  8\n",
      "(ch1.shape[1] // pix_per_cell)  106\n",
      "cell_per_block  2\n",
      "nxblocks  105\n"
     ]
    },
    {
     "name": "stderr",
     "output_type": "stream",
     "text": [
      "\r",
      " 67%|██████▋   | 849/1261 [12:41<06:08,  1.12it/s]"
     ]
    },
    {
     "name": "stdout",
     "output_type": "stream",
     "text": [
      "no. of rectangles found is  12\n",
      "spatial_size  (16, 16)\n",
      "hist  16\n",
      "orient  9\n",
      "ch1.shape[1]  853\n",
      "pix_per_cell  8\n",
      "(ch1.shape[1] // pix_per_cell)  106\n",
      "cell_per_block  2\n",
      "nxblocks  105\n"
     ]
    },
    {
     "name": "stderr",
     "output_type": "stream",
     "text": [
      "\r",
      " 67%|██████▋   | 850/1261 [12:42<06:06,  1.12it/s]"
     ]
    },
    {
     "name": "stdout",
     "output_type": "stream",
     "text": [
      "no. of rectangles found is  13\n",
      "spatial_size  (16, 16)\n",
      "hist  16\n",
      "orient  9\n",
      "ch1.shape[1]  853\n",
      "pix_per_cell  8\n",
      "(ch1.shape[1] // pix_per_cell)  106\n",
      "cell_per_block  2\n",
      "nxblocks  105\n"
     ]
    },
    {
     "name": "stderr",
     "output_type": "stream",
     "text": [
      "\r",
      " 67%|██████▋   | 851/1261 [12:43<06:04,  1.12it/s]"
     ]
    },
    {
     "name": "stdout",
     "output_type": "stream",
     "text": [
      "no. of rectangles found is  16\n",
      "spatial_size  (16, 16)\n",
      "hist  16\n",
      "orient  9\n",
      "ch1.shape[1]  853\n",
      "pix_per_cell  8\n",
      "(ch1.shape[1] // pix_per_cell)  106\n",
      "cell_per_block  2\n",
      "nxblocks  105\n"
     ]
    },
    {
     "name": "stderr",
     "output_type": "stream",
     "text": [
      "\r",
      " 68%|██████▊   | 852/1261 [12:44<06:03,  1.12it/s]"
     ]
    },
    {
     "name": "stdout",
     "output_type": "stream",
     "text": [
      "no. of rectangles found is  13\n",
      "spatial_size  (16, 16)\n",
      "hist  16\n",
      "orient  9\n",
      "ch1.shape[1]  853\n",
      "pix_per_cell  8\n",
      "(ch1.shape[1] // pix_per_cell)  106\n",
      "cell_per_block  2\n",
      "nxblocks  105\n"
     ]
    },
    {
     "name": "stderr",
     "output_type": "stream",
     "text": [
      "\r",
      " 68%|██████▊   | 853/1261 [12:45<06:03,  1.12it/s]"
     ]
    },
    {
     "name": "stdout",
     "output_type": "stream",
     "text": [
      "no. of rectangles found is  16\n",
      "spatial_size  (16, 16)\n",
      "hist  16\n",
      "orient  9\n",
      "ch1.shape[1]  853\n",
      "pix_per_cell  8\n",
      "(ch1.shape[1] // pix_per_cell)  106\n",
      "cell_per_block  2\n",
      "nxblocks  105\n"
     ]
    },
    {
     "name": "stderr",
     "output_type": "stream",
     "text": [
      "\r",
      " 68%|██████▊   | 854/1261 [12:45<06:01,  1.12it/s]"
     ]
    },
    {
     "name": "stdout",
     "output_type": "stream",
     "text": [
      "no. of rectangles found is  15\n",
      "spatial_size  (16, 16)\n",
      "hist  16\n",
      "orient  9\n",
      "ch1.shape[1]  853\n",
      "pix_per_cell  8\n",
      "(ch1.shape[1] // pix_per_cell)  106\n",
      "cell_per_block  2\n",
      "nxblocks  105\n"
     ]
    },
    {
     "name": "stderr",
     "output_type": "stream",
     "text": [
      "\r",
      " 68%|██████▊   | 855/1261 [12:46<06:01,  1.12it/s]"
     ]
    },
    {
     "name": "stdout",
     "output_type": "stream",
     "text": [
      "no. of rectangles found is  14\n",
      "spatial_size  (16, 16)\n",
      "hist  16\n",
      "orient  9\n",
      "ch1.shape[1]  853\n",
      "pix_per_cell  8\n",
      "(ch1.shape[1] // pix_per_cell)  106\n",
      "cell_per_block  2\n",
      "nxblocks  105\n"
     ]
    },
    {
     "name": "stderr",
     "output_type": "stream",
     "text": [
      "\r",
      " 68%|██████▊   | 856/1261 [12:47<06:00,  1.12it/s]"
     ]
    },
    {
     "name": "stdout",
     "output_type": "stream",
     "text": [
      "no. of rectangles found is  15\n",
      "spatial_size  (16, 16)\n",
      "hist  16\n",
      "orient  9\n",
      "ch1.shape[1]  853\n",
      "pix_per_cell  8\n",
      "(ch1.shape[1] // pix_per_cell)  106\n",
      "cell_per_block  2\n",
      "nxblocks  105\n"
     ]
    },
    {
     "name": "stderr",
     "output_type": "stream",
     "text": [
      "\r",
      " 68%|██████▊   | 857/1261 [12:48<05:59,  1.13it/s]"
     ]
    },
    {
     "name": "stdout",
     "output_type": "stream",
     "text": [
      "no. of rectangles found is  15\n",
      "spatial_size  (16, 16)\n",
      "hist  16\n",
      "orient  9\n",
      "ch1.shape[1]  853\n",
      "pix_per_cell  8\n",
      "(ch1.shape[1] // pix_per_cell)  106\n",
      "cell_per_block  2\n",
      "nxblocks  105\n"
     ]
    },
    {
     "name": "stderr",
     "output_type": "stream",
     "text": [
      "\r",
      " 68%|██████▊   | 858/1261 [12:49<05:59,  1.12it/s]"
     ]
    },
    {
     "name": "stdout",
     "output_type": "stream",
     "text": [
      "no. of rectangles found is  19\n",
      "spatial_size  (16, 16)\n",
      "hist  16\n",
      "orient  9\n",
      "ch1.shape[1]  853\n",
      "pix_per_cell  8\n",
      "(ch1.shape[1] // pix_per_cell)  106\n",
      "cell_per_block  2\n",
      "nxblocks  105\n"
     ]
    },
    {
     "name": "stderr",
     "output_type": "stream",
     "text": [
      "\r",
      " 68%|██████▊   | 859/1261 [12:50<05:56,  1.13it/s]"
     ]
    },
    {
     "name": "stdout",
     "output_type": "stream",
     "text": [
      "no. of rectangles found is  16\n",
      "spatial_size  (16, 16)\n",
      "hist  16\n",
      "orient  9\n",
      "ch1.shape[1]  853\n",
      "pix_per_cell  8\n",
      "(ch1.shape[1] // pix_per_cell)  106\n",
      "cell_per_block  2\n",
      "nxblocks  105\n"
     ]
    },
    {
     "name": "stderr",
     "output_type": "stream",
     "text": [
      "\r",
      " 68%|██████▊   | 860/1261 [12:51<05:57,  1.12it/s]"
     ]
    },
    {
     "name": "stdout",
     "output_type": "stream",
     "text": [
      "no. of rectangles found is  16\n",
      "spatial_size  (16, 16)\n",
      "hist  16\n",
      "orient  9\n",
      "ch1.shape[1]  853\n",
      "pix_per_cell  8\n",
      "(ch1.shape[1] // pix_per_cell)  106\n",
      "cell_per_block  2\n",
      "nxblocks  105\n"
     ]
    },
    {
     "name": "stderr",
     "output_type": "stream",
     "text": [
      "\r",
      " 68%|██████▊   | 861/1261 [12:52<05:55,  1.13it/s]"
     ]
    },
    {
     "name": "stdout",
     "output_type": "stream",
     "text": [
      "no. of rectangles found is  17\n",
      "spatial_size  (16, 16)\n",
      "hist  16\n",
      "orient  9\n",
      "ch1.shape[1]  853\n",
      "pix_per_cell  8\n",
      "(ch1.shape[1] // pix_per_cell)  106\n",
      "cell_per_block  2\n",
      "nxblocks  105\n"
     ]
    },
    {
     "name": "stderr",
     "output_type": "stream",
     "text": [
      "\r",
      " 68%|██████▊   | 862/1261 [12:53<05:57,  1.12it/s]"
     ]
    },
    {
     "name": "stdout",
     "output_type": "stream",
     "text": [
      "no. of rectangles found is  17\n",
      "spatial_size  (16, 16)\n",
      "hist  16\n",
      "orient  9\n",
      "ch1.shape[1]  853\n",
      "pix_per_cell  8\n",
      "(ch1.shape[1] // pix_per_cell)  106\n",
      "cell_per_block  2\n",
      "nxblocks  105\n"
     ]
    },
    {
     "name": "stderr",
     "output_type": "stream",
     "text": [
      "\r",
      " 68%|██████▊   | 863/1261 [12:53<05:55,  1.12it/s]"
     ]
    },
    {
     "name": "stdout",
     "output_type": "stream",
     "text": [
      "no. of rectangles found is  16\n",
      "spatial_size  (16, 16)\n",
      "hist  16\n",
      "orient  9\n",
      "ch1.shape[1]  853\n",
      "pix_per_cell  8\n",
      "(ch1.shape[1] // pix_per_cell)  106\n",
      "cell_per_block  2\n",
      "nxblocks  105\n"
     ]
    },
    {
     "name": "stderr",
     "output_type": "stream",
     "text": [
      "\r",
      " 69%|██████▊   | 864/1261 [12:54<05:59,  1.11it/s]"
     ]
    },
    {
     "name": "stdout",
     "output_type": "stream",
     "text": [
      "no. of rectangles found is  14\n",
      "spatial_size  (16, 16)\n",
      "hist  16\n",
      "orient  9\n",
      "ch1.shape[1]  853\n",
      "pix_per_cell  8\n",
      "(ch1.shape[1] // pix_per_cell)  106\n",
      "cell_per_block  2\n",
      "nxblocks  105\n"
     ]
    },
    {
     "name": "stderr",
     "output_type": "stream",
     "text": [
      "\r",
      " 69%|██████▊   | 865/1261 [12:55<06:01,  1.10it/s]"
     ]
    },
    {
     "name": "stdout",
     "output_type": "stream",
     "text": [
      "no. of rectangles found is  19\n",
      "spatial_size  (16, 16)\n",
      "hist  16\n",
      "orient  9\n",
      "ch1.shape[1]  853\n",
      "pix_per_cell  8\n",
      "(ch1.shape[1] // pix_per_cell)  106\n",
      "cell_per_block  2\n",
      "nxblocks  105\n"
     ]
    },
    {
     "name": "stderr",
     "output_type": "stream",
     "text": [
      "\r",
      " 69%|██████▊   | 866/1261 [12:56<06:02,  1.09it/s]"
     ]
    },
    {
     "name": "stdout",
     "output_type": "stream",
     "text": [
      "no. of rectangles found is  12\n",
      "spatial_size  (16, 16)\n",
      "hist  16\n",
      "orient  9\n",
      "ch1.shape[1]  853\n",
      "pix_per_cell  8\n",
      "(ch1.shape[1] // pix_per_cell)  106\n",
      "cell_per_block  2\n",
      "nxblocks  105\n"
     ]
    },
    {
     "name": "stderr",
     "output_type": "stream",
     "text": [
      "\r",
      " 69%|██████▉   | 867/1261 [12:57<05:58,  1.10it/s]"
     ]
    },
    {
     "name": "stdout",
     "output_type": "stream",
     "text": [
      "no. of rectangles found is  13\n",
      "spatial_size  (16, 16)\n",
      "hist  16\n",
      "orient  9\n",
      "ch1.shape[1]  853\n",
      "pix_per_cell  8\n",
      "(ch1.shape[1] // pix_per_cell)  106\n",
      "cell_per_block  2\n",
      "nxblocks  105\n"
     ]
    },
    {
     "name": "stderr",
     "output_type": "stream",
     "text": [
      "\r",
      " 69%|██████▉   | 868/1261 [12:58<05:54,  1.11it/s]"
     ]
    },
    {
     "name": "stdout",
     "output_type": "stream",
     "text": [
      "no. of rectangles found is  15\n",
      "spatial_size  (16, 16)\n",
      "hist  16\n",
      "orient  9\n",
      "ch1.shape[1]  853\n",
      "pix_per_cell  8\n",
      "(ch1.shape[1] // pix_per_cell)  106\n",
      "cell_per_block  2\n",
      "nxblocks  105\n"
     ]
    },
    {
     "name": "stderr",
     "output_type": "stream",
     "text": [
      "\r",
      " 69%|██████▉   | 869/1261 [12:59<05:52,  1.11it/s]"
     ]
    },
    {
     "name": "stdout",
     "output_type": "stream",
     "text": [
      "no. of rectangles found is  12\n",
      "spatial_size  (16, 16)\n",
      "hist  16\n",
      "orient  9\n",
      "ch1.shape[1]  853\n",
      "pix_per_cell  8\n",
      "(ch1.shape[1] // pix_per_cell)  106\n",
      "cell_per_block  2\n",
      "nxblocks  105\n"
     ]
    },
    {
     "name": "stderr",
     "output_type": "stream",
     "text": [
      "\r",
      " 69%|██████▉   | 870/1261 [13:00<05:53,  1.11it/s]"
     ]
    },
    {
     "name": "stdout",
     "output_type": "stream",
     "text": [
      "no. of rectangles found is  12\n",
      "spatial_size  (16, 16)\n",
      "hist  16\n",
      "orient  9\n",
      "ch1.shape[1]  853\n",
      "pix_per_cell  8\n",
      "(ch1.shape[1] // pix_per_cell)  106\n",
      "cell_per_block  2\n",
      "nxblocks  105\n"
     ]
    },
    {
     "name": "stderr",
     "output_type": "stream",
     "text": [
      "\r",
      " 69%|██████▉   | 871/1261 [13:01<05:51,  1.11it/s]"
     ]
    },
    {
     "name": "stdout",
     "output_type": "stream",
     "text": [
      "no. of rectangles found is  13\n",
      "spatial_size  (16, 16)\n",
      "hist  16\n",
      "orient  9\n",
      "ch1.shape[1]  853\n",
      "pix_per_cell  8\n",
      "(ch1.shape[1] // pix_per_cell)  106\n",
      "cell_per_block  2\n",
      "nxblocks  105\n"
     ]
    },
    {
     "name": "stderr",
     "output_type": "stream",
     "text": [
      "\r",
      " 69%|██████▉   | 872/1261 [13:02<05:49,  1.11it/s]"
     ]
    },
    {
     "name": "stdout",
     "output_type": "stream",
     "text": [
      "no. of rectangles found is  22\n",
      "spatial_size  (16, 16)\n",
      "hist  16\n",
      "orient  9\n",
      "ch1.shape[1]  853\n",
      "pix_per_cell  8\n",
      "(ch1.shape[1] // pix_per_cell)  106\n",
      "cell_per_block  2\n",
      "nxblocks  105\n"
     ]
    },
    {
     "name": "stderr",
     "output_type": "stream",
     "text": [
      "\r",
      " 69%|██████▉   | 873/1261 [13:02<05:47,  1.12it/s]"
     ]
    },
    {
     "name": "stdout",
     "output_type": "stream",
     "text": [
      "no. of rectangles found is  16\n",
      "spatial_size  (16, 16)\n",
      "hist  16\n",
      "orient  9\n",
      "ch1.shape[1]  853\n",
      "pix_per_cell  8\n",
      "(ch1.shape[1] // pix_per_cell)  106\n",
      "cell_per_block  2\n",
      "nxblocks  105\n"
     ]
    },
    {
     "name": "stderr",
     "output_type": "stream",
     "text": [
      "\r",
      " 69%|██████▉   | 874/1261 [13:03<05:46,  1.12it/s]"
     ]
    },
    {
     "name": "stdout",
     "output_type": "stream",
     "text": [
      "no. of rectangles found is  17\n",
      "spatial_size  (16, 16)\n",
      "hist  16\n",
      "orient  9\n",
      "ch1.shape[1]  853\n",
      "pix_per_cell  8\n",
      "(ch1.shape[1] // pix_per_cell)  106\n",
      "cell_per_block  2\n",
      "nxblocks  105\n"
     ]
    },
    {
     "name": "stderr",
     "output_type": "stream",
     "text": [
      "\r",
      " 69%|██████▉   | 875/1261 [13:04<05:44,  1.12it/s]"
     ]
    },
    {
     "name": "stdout",
     "output_type": "stream",
     "text": [
      "no. of rectangles found is  17\n",
      "spatial_size  (16, 16)\n",
      "hist  16\n",
      "orient  9\n",
      "ch1.shape[1]  853\n",
      "pix_per_cell  8\n",
      "(ch1.shape[1] // pix_per_cell)  106\n",
      "cell_per_block  2\n",
      "nxblocks  105\n"
     ]
    },
    {
     "name": "stderr",
     "output_type": "stream",
     "text": [
      "\r",
      " 69%|██████▉   | 876/1261 [13:05<05:43,  1.12it/s]"
     ]
    },
    {
     "name": "stdout",
     "output_type": "stream",
     "text": [
      "no. of rectangles found is  15\n",
      "spatial_size  (16, 16)\n",
      "hist  16\n",
      "orient  9\n",
      "ch1.shape[1]  853\n",
      "pix_per_cell  8\n",
      "(ch1.shape[1] // pix_per_cell)  106\n",
      "cell_per_block  2\n",
      "nxblocks  105\n"
     ]
    },
    {
     "name": "stderr",
     "output_type": "stream",
     "text": [
      "\r",
      " 70%|██████▉   | 877/1261 [13:06<05:42,  1.12it/s]"
     ]
    },
    {
     "name": "stdout",
     "output_type": "stream",
     "text": [
      "no. of rectangles found is  20\n",
      "spatial_size  (16, 16)\n",
      "hist  16\n",
      "orient  9\n",
      "ch1.shape[1]  853\n",
      "pix_per_cell  8\n",
      "(ch1.shape[1] // pix_per_cell)  106\n",
      "cell_per_block  2\n",
      "nxblocks  105\n"
     ]
    },
    {
     "name": "stderr",
     "output_type": "stream",
     "text": [
      "\r",
      " 70%|██████▉   | 878/1261 [13:07<05:42,  1.12it/s]"
     ]
    },
    {
     "name": "stdout",
     "output_type": "stream",
     "text": [
      "no. of rectangles found is  21\n",
      "spatial_size  (16, 16)\n",
      "hist  16\n",
      "orient  9\n",
      "ch1.shape[1]  853\n",
      "pix_per_cell  8\n",
      "(ch1.shape[1] // pix_per_cell)  106\n",
      "cell_per_block  2\n",
      "nxblocks  105\n"
     ]
    },
    {
     "name": "stderr",
     "output_type": "stream",
     "text": [
      "\r",
      " 70%|██████▉   | 879/1261 [13:08<05:41,  1.12it/s]"
     ]
    },
    {
     "name": "stdout",
     "output_type": "stream",
     "text": [
      "no. of rectangles found is  19\n",
      "spatial_size  (16, 16)\n",
      "hist  16\n",
      "orient  9\n",
      "ch1.shape[1]  853\n",
      "pix_per_cell  8\n",
      "(ch1.shape[1] // pix_per_cell)  106\n",
      "cell_per_block  2\n",
      "nxblocks  105\n"
     ]
    },
    {
     "name": "stderr",
     "output_type": "stream",
     "text": [
      "\r",
      " 70%|██████▉   | 880/1261 [13:09<05:39,  1.12it/s]"
     ]
    },
    {
     "name": "stdout",
     "output_type": "stream",
     "text": [
      "no. of rectangles found is  17\n",
      "spatial_size  (16, 16)\n",
      "hist  16\n",
      "orient  9\n",
      "ch1.shape[1]  853\n",
      "pix_per_cell  8\n",
      "(ch1.shape[1] // pix_per_cell)  106\n",
      "cell_per_block  2\n",
      "nxblocks  105\n"
     ]
    },
    {
     "name": "stderr",
     "output_type": "stream",
     "text": [
      "\r",
      " 70%|██████▉   | 881/1261 [13:10<05:37,  1.13it/s]"
     ]
    },
    {
     "name": "stdout",
     "output_type": "stream",
     "text": [
      "no. of rectangles found is  15\n",
      "spatial_size  (16, 16)\n",
      "hist  16\n",
      "orient  9\n",
      "ch1.shape[1]  853\n",
      "pix_per_cell  8\n",
      "(ch1.shape[1] // pix_per_cell)  106\n",
      "cell_per_block  2\n",
      "nxblocks  105\n"
     ]
    },
    {
     "name": "stderr",
     "output_type": "stream",
     "text": [
      "\r",
      " 70%|██████▉   | 882/1261 [13:10<05:37,  1.12it/s]"
     ]
    },
    {
     "name": "stdout",
     "output_type": "stream",
     "text": [
      "no. of rectangles found is  21\n",
      "spatial_size  (16, 16)\n",
      "hist  16\n",
      "orient  9\n",
      "ch1.shape[1]  853\n",
      "pix_per_cell  8\n",
      "(ch1.shape[1] // pix_per_cell)  106\n",
      "cell_per_block  2\n",
      "nxblocks  105\n"
     ]
    },
    {
     "name": "stderr",
     "output_type": "stream",
     "text": [
      "\r",
      " 70%|███████   | 883/1261 [13:11<05:35,  1.13it/s]"
     ]
    },
    {
     "name": "stdout",
     "output_type": "stream",
     "text": [
      "no. of rectangles found is  13\n",
      "spatial_size  (16, 16)\n",
      "hist  16\n",
      "orient  9\n",
      "ch1.shape[1]  853\n",
      "pix_per_cell  8\n",
      "(ch1.shape[1] // pix_per_cell)  106\n",
      "cell_per_block  2\n",
      "nxblocks  105\n"
     ]
    },
    {
     "name": "stderr",
     "output_type": "stream",
     "text": [
      "\r",
      " 70%|███████   | 884/1261 [13:12<05:33,  1.13it/s]"
     ]
    },
    {
     "name": "stdout",
     "output_type": "stream",
     "text": [
      "no. of rectangles found is  19\n",
      "spatial_size  (16, 16)\n",
      "hist  16\n",
      "orient  9\n",
      "ch1.shape[1]  853\n",
      "pix_per_cell  8\n",
      "(ch1.shape[1] // pix_per_cell)  106\n",
      "cell_per_block  2\n",
      "nxblocks  105\n"
     ]
    },
    {
     "name": "stderr",
     "output_type": "stream",
     "text": [
      "\r",
      " 70%|███████   | 885/1261 [13:13<05:36,  1.12it/s]"
     ]
    },
    {
     "name": "stdout",
     "output_type": "stream",
     "text": [
      "no. of rectangles found is  15\n",
      "spatial_size  (16, 16)\n",
      "hist  16\n",
      "orient  9\n",
      "ch1.shape[1]  853\n",
      "pix_per_cell  8\n",
      "(ch1.shape[1] // pix_per_cell)  106\n",
      "cell_per_block  2\n",
      "nxblocks  105\n"
     ]
    },
    {
     "name": "stderr",
     "output_type": "stream",
     "text": [
      "\r",
      " 70%|███████   | 886/1261 [13:14<05:35,  1.12it/s]"
     ]
    },
    {
     "name": "stdout",
     "output_type": "stream",
     "text": [
      "no. of rectangles found is  18\n",
      "spatial_size  (16, 16)\n",
      "hist  16\n",
      "orient  9\n",
      "ch1.shape[1]  853\n",
      "pix_per_cell  8\n",
      "(ch1.shape[1] // pix_per_cell)  106\n",
      "cell_per_block  2\n",
      "nxblocks  105\n"
     ]
    },
    {
     "name": "stderr",
     "output_type": "stream",
     "text": [
      "\r",
      " 70%|███████   | 887/1261 [13:15<05:34,  1.12it/s]"
     ]
    },
    {
     "name": "stdout",
     "output_type": "stream",
     "text": [
      "no. of rectangles found is  16\n",
      "spatial_size  (16, 16)\n",
      "hist  16\n",
      "orient  9\n",
      "ch1.shape[1]  853\n",
      "pix_per_cell  8\n",
      "(ch1.shape[1] // pix_per_cell)  106\n",
      "cell_per_block  2\n",
      "nxblocks  105\n"
     ]
    },
    {
     "name": "stderr",
     "output_type": "stream",
     "text": [
      "\r",
      " 70%|███████   | 888/1261 [13:16<05:40,  1.09it/s]"
     ]
    },
    {
     "name": "stdout",
     "output_type": "stream",
     "text": [
      "no. of rectangles found is  20\n",
      "spatial_size  (16, 16)\n",
      "hist  16\n",
      "orient  9\n",
      "ch1.shape[1]  853\n",
      "pix_per_cell  8\n",
      "(ch1.shape[1] // pix_per_cell)  106\n",
      "cell_per_block  2\n",
      "nxblocks  105\n"
     ]
    },
    {
     "name": "stderr",
     "output_type": "stream",
     "text": [
      "\r",
      " 70%|███████   | 889/1261 [13:17<05:37,  1.10it/s]"
     ]
    },
    {
     "name": "stdout",
     "output_type": "stream",
     "text": [
      "no. of rectangles found is  18\n",
      "spatial_size  (16, 16)\n",
      "hist  16\n",
      "orient  9\n",
      "ch1.shape[1]  853\n",
      "pix_per_cell  8\n",
      "(ch1.shape[1] // pix_per_cell)  106\n",
      "cell_per_block  2\n",
      "nxblocks  105\n"
     ]
    },
    {
     "name": "stderr",
     "output_type": "stream",
     "text": [
      "\r",
      " 71%|███████   | 890/1261 [13:18<05:34,  1.11it/s]"
     ]
    },
    {
     "name": "stdout",
     "output_type": "stream",
     "text": [
      "no. of rectangles found is  17\n",
      "spatial_size  (16, 16)\n",
      "hist  16\n",
      "orient  9\n",
      "ch1.shape[1]  853\n",
      "pix_per_cell  8\n",
      "(ch1.shape[1] // pix_per_cell)  106\n",
      "cell_per_block  2\n",
      "nxblocks  105\n"
     ]
    },
    {
     "name": "stderr",
     "output_type": "stream",
     "text": [
      "\r",
      " 71%|███████   | 891/1261 [13:19<05:33,  1.11it/s]"
     ]
    },
    {
     "name": "stdout",
     "output_type": "stream",
     "text": [
      "no. of rectangles found is  18\n",
      "spatial_size  (16, 16)\n",
      "hist  16\n",
      "orient  9\n",
      "ch1.shape[1]  853\n",
      "pix_per_cell  8\n",
      "(ch1.shape[1] // pix_per_cell)  106\n",
      "cell_per_block  2\n",
      "nxblocks  105\n"
     ]
    },
    {
     "name": "stderr",
     "output_type": "stream",
     "text": [
      "\r",
      " 71%|███████   | 892/1261 [13:19<05:31,  1.11it/s]"
     ]
    },
    {
     "name": "stdout",
     "output_type": "stream",
     "text": [
      "no. of rectangles found is  17\n",
      "spatial_size  (16, 16)\n",
      "hist  16\n",
      "orient  9\n",
      "ch1.shape[1]  853\n",
      "pix_per_cell  8\n",
      "(ch1.shape[1] // pix_per_cell)  106\n",
      "cell_per_block  2\n",
      "nxblocks  105\n"
     ]
    },
    {
     "name": "stderr",
     "output_type": "stream",
     "text": [
      "\r",
      " 71%|███████   | 893/1261 [13:20<05:30,  1.11it/s]"
     ]
    },
    {
     "name": "stdout",
     "output_type": "stream",
     "text": [
      "no. of rectangles found is  19\n",
      "spatial_size  (16, 16)\n",
      "hist  16\n",
      "orient  9\n",
      "ch1.shape[1]  853\n",
      "pix_per_cell  8\n",
      "(ch1.shape[1] // pix_per_cell)  106\n",
      "cell_per_block  2\n",
      "nxblocks  105\n"
     ]
    },
    {
     "name": "stderr",
     "output_type": "stream",
     "text": [
      "\r",
      " 71%|███████   | 894/1261 [13:21<05:32,  1.10it/s]"
     ]
    },
    {
     "name": "stdout",
     "output_type": "stream",
     "text": [
      "no. of rectangles found is  19\n",
      "spatial_size  (16, 16)\n",
      "hist  16\n",
      "orient  9\n",
      "ch1.shape[1]  853\n",
      "pix_per_cell  8\n",
      "(ch1.shape[1] // pix_per_cell)  106\n",
      "cell_per_block  2\n",
      "nxblocks  105\n"
     ]
    },
    {
     "name": "stderr",
     "output_type": "stream",
     "text": [
      "\r",
      " 71%|███████   | 895/1261 [13:22<05:29,  1.11it/s]"
     ]
    },
    {
     "name": "stdout",
     "output_type": "stream",
     "text": [
      "no. of rectangles found is  17\n",
      "spatial_size  (16, 16)\n",
      "hist  16\n",
      "orient  9\n",
      "ch1.shape[1]  853\n",
      "pix_per_cell  8\n",
      "(ch1.shape[1] // pix_per_cell)  106\n",
      "cell_per_block  2\n",
      "nxblocks  105\n"
     ]
    },
    {
     "name": "stderr",
     "output_type": "stream",
     "text": [
      "\r",
      " 71%|███████   | 896/1261 [13:23<05:29,  1.11it/s]"
     ]
    },
    {
     "name": "stdout",
     "output_type": "stream",
     "text": [
      "no. of rectangles found is  16\n",
      "spatial_size  (16, 16)\n",
      "hist  16\n",
      "orient  9\n",
      "ch1.shape[1]  853\n",
      "pix_per_cell  8\n",
      "(ch1.shape[1] // pix_per_cell)  106\n",
      "cell_per_block  2\n",
      "nxblocks  105\n"
     ]
    },
    {
     "name": "stderr",
     "output_type": "stream",
     "text": [
      "\r",
      " 71%|███████   | 897/1261 [13:24<05:27,  1.11it/s]"
     ]
    },
    {
     "name": "stdout",
     "output_type": "stream",
     "text": [
      "no. of rectangles found is  16\n",
      "spatial_size  (16, 16)\n",
      "hist  16\n",
      "orient  9\n",
      "ch1.shape[1]  853\n",
      "pix_per_cell  8\n",
      "(ch1.shape[1] // pix_per_cell)  106\n",
      "cell_per_block  2\n",
      "nxblocks  105\n"
     ]
    },
    {
     "name": "stderr",
     "output_type": "stream",
     "text": [
      "\r",
      " 71%|███████   | 898/1261 [13:25<05:23,  1.12it/s]"
     ]
    },
    {
     "name": "stdout",
     "output_type": "stream",
     "text": [
      "no. of rectangles found is  15\n",
      "spatial_size  (16, 16)\n",
      "hist  16\n",
      "orient  9\n",
      "ch1.shape[1]  853\n",
      "pix_per_cell  8\n",
      "(ch1.shape[1] // pix_per_cell)  106\n",
      "cell_per_block  2\n",
      "nxblocks  105\n"
     ]
    },
    {
     "name": "stderr",
     "output_type": "stream",
     "text": [
      "\r",
      " 71%|███████▏  | 899/1261 [13:26<05:22,  1.12it/s]"
     ]
    },
    {
     "name": "stdout",
     "output_type": "stream",
     "text": [
      "no. of rectangles found is  16\n",
      "spatial_size  (16, 16)\n",
      "hist  16\n",
      "orient  9\n",
      "ch1.shape[1]  853\n",
      "pix_per_cell  8\n",
      "(ch1.shape[1] // pix_per_cell)  106\n",
      "cell_per_block  2\n",
      "nxblocks  105\n"
     ]
    },
    {
     "name": "stderr",
     "output_type": "stream",
     "text": [
      "\r",
      " 71%|███████▏  | 900/1261 [13:27<05:20,  1.13it/s]"
     ]
    },
    {
     "name": "stdout",
     "output_type": "stream",
     "text": [
      "no. of rectangles found is  11\n",
      "spatial_size  (16, 16)\n",
      "hist  16\n",
      "orient  9\n",
      "ch1.shape[1]  853\n",
      "pix_per_cell  8\n",
      "(ch1.shape[1] // pix_per_cell)  106\n",
      "cell_per_block  2\n",
      "nxblocks  105\n"
     ]
    },
    {
     "name": "stderr",
     "output_type": "stream",
     "text": [
      "\r",
      " 71%|███████▏  | 901/1261 [13:28<05:19,  1.13it/s]"
     ]
    },
    {
     "name": "stdout",
     "output_type": "stream",
     "text": [
      "no. of rectangles found is  14\n",
      "spatial_size  (16, 16)\n",
      "hist  16\n",
      "orient  9\n",
      "ch1.shape[1]  853\n",
      "pix_per_cell  8\n",
      "(ch1.shape[1] // pix_per_cell)  106\n",
      "cell_per_block  2\n",
      "nxblocks  105\n"
     ]
    },
    {
     "name": "stderr",
     "output_type": "stream",
     "text": [
      "\r",
      " 72%|███████▏  | 902/1261 [13:28<05:19,  1.13it/s]"
     ]
    },
    {
     "name": "stdout",
     "output_type": "stream",
     "text": [
      "no. of rectangles found is  22\n",
      "spatial_size  (16, 16)\n",
      "hist  16\n",
      "orient  9\n",
      "ch1.shape[1]  853\n",
      "pix_per_cell  8\n",
      "(ch1.shape[1] // pix_per_cell)  106\n",
      "cell_per_block  2\n",
      "nxblocks  105\n"
     ]
    },
    {
     "name": "stderr",
     "output_type": "stream",
     "text": [
      "\r",
      " 72%|███████▏  | 903/1261 [13:29<05:18,  1.12it/s]"
     ]
    },
    {
     "name": "stdout",
     "output_type": "stream",
     "text": [
      "no. of rectangles found is  23\n",
      "spatial_size  (16, 16)\n",
      "hist  16\n",
      "orient  9\n",
      "ch1.shape[1]  853\n",
      "pix_per_cell  8\n",
      "(ch1.shape[1] // pix_per_cell)  106\n",
      "cell_per_block  2\n",
      "nxblocks  105\n"
     ]
    },
    {
     "name": "stderr",
     "output_type": "stream",
     "text": [
      "\r",
      " 72%|███████▏  | 904/1261 [13:30<05:17,  1.13it/s]"
     ]
    },
    {
     "name": "stdout",
     "output_type": "stream",
     "text": [
      "no. of rectangles found is  20\n",
      "spatial_size  (16, 16)\n",
      "hist  16\n",
      "orient  9\n",
      "ch1.shape[1]  853\n",
      "pix_per_cell  8\n",
      "(ch1.shape[1] // pix_per_cell)  106\n",
      "cell_per_block  2\n",
      "nxblocks  105\n"
     ]
    },
    {
     "name": "stderr",
     "output_type": "stream",
     "text": [
      "\r",
      " 72%|███████▏  | 905/1261 [13:31<05:14,  1.13it/s]"
     ]
    },
    {
     "name": "stdout",
     "output_type": "stream",
     "text": [
      "no. of rectangles found is  17\n",
      "spatial_size  (16, 16)\n",
      "hist  16\n",
      "orient  9\n",
      "ch1.shape[1]  853\n",
      "pix_per_cell  8\n",
      "(ch1.shape[1] // pix_per_cell)  106\n",
      "cell_per_block  2\n",
      "nxblocks  105\n"
     ]
    },
    {
     "name": "stderr",
     "output_type": "stream",
     "text": [
      "\r",
      " 72%|███████▏  | 906/1261 [13:32<05:14,  1.13it/s]"
     ]
    },
    {
     "name": "stdout",
     "output_type": "stream",
     "text": [
      "no. of rectangles found is  17\n",
      "spatial_size  (16, 16)\n",
      "hist  16\n",
      "orient  9\n",
      "ch1.shape[1]  853\n",
      "pix_per_cell  8\n",
      "(ch1.shape[1] // pix_per_cell)  106\n",
      "cell_per_block  2\n",
      "nxblocks  105\n"
     ]
    },
    {
     "name": "stderr",
     "output_type": "stream",
     "text": [
      "\r",
      " 72%|███████▏  | 907/1261 [13:33<05:21,  1.10it/s]"
     ]
    },
    {
     "name": "stdout",
     "output_type": "stream",
     "text": [
      "no. of rectangles found is  25\n",
      "spatial_size  (16, 16)\n",
      "hist  16\n",
      "orient  9\n",
      "ch1.shape[1]  853\n",
      "pix_per_cell  8\n",
      "(ch1.shape[1] // pix_per_cell)  106\n",
      "cell_per_block  2\n",
      "nxblocks  105\n"
     ]
    },
    {
     "name": "stderr",
     "output_type": "stream",
     "text": [
      "\r",
      " 72%|███████▏  | 908/1261 [13:34<05:19,  1.10it/s]"
     ]
    },
    {
     "name": "stdout",
     "output_type": "stream",
     "text": [
      "no. of rectangles found is  20\n",
      "spatial_size  (16, 16)\n",
      "hist  16\n",
      "orient  9\n",
      "ch1.shape[1]  853\n",
      "pix_per_cell  8\n",
      "(ch1.shape[1] // pix_per_cell)  106\n",
      "cell_per_block  2\n",
      "nxblocks  105\n"
     ]
    },
    {
     "name": "stderr",
     "output_type": "stream",
     "text": [
      "\r",
      " 72%|███████▏  | 909/1261 [13:35<05:16,  1.11it/s]"
     ]
    },
    {
     "name": "stdout",
     "output_type": "stream",
     "text": [
      "no. of rectangles found is  15\n",
      "spatial_size  (16, 16)\n",
      "hist  16\n",
      "orient  9\n",
      "ch1.shape[1]  853\n",
      "pix_per_cell  8\n",
      "(ch1.shape[1] // pix_per_cell)  106\n",
      "cell_per_block  2\n",
      "nxblocks  105\n"
     ]
    },
    {
     "name": "stderr",
     "output_type": "stream",
     "text": [
      "\r",
      " 72%|███████▏  | 910/1261 [13:36<05:15,  1.11it/s]"
     ]
    },
    {
     "name": "stdout",
     "output_type": "stream",
     "text": [
      "no. of rectangles found is  21\n",
      "spatial_size  (16, 16)\n",
      "hist  16\n",
      "orient  9\n",
      "ch1.shape[1]  853\n",
      "pix_per_cell  8\n",
      "(ch1.shape[1] // pix_per_cell)  106\n",
      "cell_per_block  2\n",
      "nxblocks  105\n"
     ]
    },
    {
     "name": "stderr",
     "output_type": "stream",
     "text": [
      "\r",
      " 72%|███████▏  | 911/1261 [13:36<05:13,  1.12it/s]"
     ]
    },
    {
     "name": "stdout",
     "output_type": "stream",
     "text": [
      "no. of rectangles found is  23\n",
      "spatial_size  (16, 16)\n",
      "hist  16\n",
      "orient  9\n",
      "ch1.shape[1]  853\n",
      "pix_per_cell  8\n",
      "(ch1.shape[1] // pix_per_cell)  106\n",
      "cell_per_block  2\n",
      "nxblocks  105\n"
     ]
    },
    {
     "name": "stderr",
     "output_type": "stream",
     "text": [
      "\r",
      " 72%|███████▏  | 912/1261 [13:37<05:11,  1.12it/s]"
     ]
    },
    {
     "name": "stdout",
     "output_type": "stream",
     "text": [
      "no. of rectangles found is  17\n",
      "spatial_size  (16, 16)\n",
      "hist  16\n",
      "orient  9\n",
      "ch1.shape[1]  853\n",
      "pix_per_cell  8\n",
      "(ch1.shape[1] // pix_per_cell)  106\n",
      "cell_per_block  2\n",
      "nxblocks  105\n"
     ]
    },
    {
     "name": "stderr",
     "output_type": "stream",
     "text": [
      "\r",
      " 72%|███████▏  | 913/1261 [13:38<05:14,  1.11it/s]"
     ]
    },
    {
     "name": "stdout",
     "output_type": "stream",
     "text": [
      "no. of rectangles found is  18\n",
      "spatial_size  (16, 16)\n",
      "hist  16\n",
      "orient  9\n",
      "ch1.shape[1]  853\n",
      "pix_per_cell  8\n",
      "(ch1.shape[1] // pix_per_cell)  106\n",
      "cell_per_block  2\n",
      "nxblocks  105\n"
     ]
    },
    {
     "name": "stderr",
     "output_type": "stream",
     "text": [
      "\r",
      " 72%|███████▏  | 914/1261 [13:39<05:18,  1.09it/s]"
     ]
    },
    {
     "name": "stdout",
     "output_type": "stream",
     "text": [
      "no. of rectangles found is  21\n",
      "spatial_size  (16, 16)\n",
      "hist  16\n",
      "orient  9\n",
      "ch1.shape[1]  853\n",
      "pix_per_cell  8\n",
      "(ch1.shape[1] // pix_per_cell)  106\n",
      "cell_per_block  2\n",
      "nxblocks  105\n"
     ]
    },
    {
     "name": "stderr",
     "output_type": "stream",
     "text": [
      "\r",
      " 73%|███████▎  | 915/1261 [13:40<05:14,  1.10it/s]"
     ]
    },
    {
     "name": "stdout",
     "output_type": "stream",
     "text": [
      "no. of rectangles found is  20\n",
      "spatial_size  (16, 16)\n",
      "hist  16\n",
      "orient  9\n",
      "ch1.shape[1]  853\n",
      "pix_per_cell  8\n",
      "(ch1.shape[1] // pix_per_cell)  106\n",
      "cell_per_block  2\n",
      "nxblocks  105\n"
     ]
    },
    {
     "name": "stderr",
     "output_type": "stream",
     "text": [
      "\r",
      " 73%|███████▎  | 916/1261 [13:41<05:11,  1.11it/s]"
     ]
    },
    {
     "name": "stdout",
     "output_type": "stream",
     "text": [
      "no. of rectangles found is  19\n",
      "spatial_size  (16, 16)\n",
      "hist  16\n",
      "orient  9\n",
      "ch1.shape[1]  853\n",
      "pix_per_cell  8\n",
      "(ch1.shape[1] // pix_per_cell)  106\n",
      "cell_per_block  2\n",
      "nxblocks  105\n"
     ]
    },
    {
     "name": "stderr",
     "output_type": "stream",
     "text": [
      "\r",
      " 73%|███████▎  | 917/1261 [13:42<05:07,  1.12it/s]"
     ]
    },
    {
     "name": "stdout",
     "output_type": "stream",
     "text": [
      "no. of rectangles found is  18\n",
      "spatial_size  (16, 16)\n",
      "hist  16\n",
      "orient  9\n",
      "ch1.shape[1]  853\n",
      "pix_per_cell  8\n",
      "(ch1.shape[1] // pix_per_cell)  106\n",
      "cell_per_block  2\n",
      "nxblocks  105\n"
     ]
    },
    {
     "name": "stderr",
     "output_type": "stream",
     "text": [
      "\r",
      " 73%|███████▎  | 918/1261 [13:43<05:06,  1.12it/s]"
     ]
    },
    {
     "name": "stdout",
     "output_type": "stream",
     "text": [
      "no. of rectangles found is  21\n",
      "spatial_size  (16, 16)\n",
      "hist  16\n",
      "orient  9\n",
      "ch1.shape[1]  853\n",
      "pix_per_cell  8\n",
      "(ch1.shape[1] // pix_per_cell)  106\n",
      "cell_per_block  2\n",
      "nxblocks  105\n"
     ]
    },
    {
     "name": "stderr",
     "output_type": "stream",
     "text": [
      "\r",
      " 73%|███████▎  | 919/1261 [13:44<05:09,  1.11it/s]"
     ]
    },
    {
     "name": "stdout",
     "output_type": "stream",
     "text": [
      "no. of rectangles found is  22\n",
      "spatial_size  (16, 16)\n",
      "hist  16\n",
      "orient  9\n",
      "ch1.shape[1]  853\n",
      "pix_per_cell  8\n",
      "(ch1.shape[1] // pix_per_cell)  106\n",
      "cell_per_block  2\n",
      "nxblocks  105\n"
     ]
    },
    {
     "name": "stderr",
     "output_type": "stream",
     "text": [
      "\r",
      " 73%|███████▎  | 920/1261 [13:45<05:05,  1.11it/s]"
     ]
    },
    {
     "name": "stdout",
     "output_type": "stream",
     "text": [
      "no. of rectangles found is  17\n",
      "spatial_size  (16, 16)\n",
      "hist  16\n",
      "orient  9\n",
      "ch1.shape[1]  853\n",
      "pix_per_cell  8\n",
      "(ch1.shape[1] // pix_per_cell)  106\n",
      "cell_per_block  2\n",
      "nxblocks  105\n"
     ]
    },
    {
     "name": "stderr",
     "output_type": "stream",
     "text": [
      "\r",
      " 73%|███████▎  | 921/1261 [13:45<05:04,  1.12it/s]"
     ]
    },
    {
     "name": "stdout",
     "output_type": "stream",
     "text": [
      "no. of rectangles found is  18\n",
      "spatial_size  (16, 16)\n",
      "hist  16\n",
      "orient  9\n",
      "ch1.shape[1]  853\n",
      "pix_per_cell  8\n",
      "(ch1.shape[1] // pix_per_cell)  106\n",
      "cell_per_block  2\n",
      "nxblocks  105\n"
     ]
    },
    {
     "name": "stderr",
     "output_type": "stream",
     "text": [
      "\r",
      " 73%|███████▎  | 922/1261 [13:46<05:03,  1.12it/s]"
     ]
    },
    {
     "name": "stdout",
     "output_type": "stream",
     "text": [
      "no. of rectangles found is  22\n",
      "spatial_size  (16, 16)\n",
      "hist  16\n",
      "orient  9\n",
      "ch1.shape[1]  853\n",
      "pix_per_cell  8\n",
      "(ch1.shape[1] // pix_per_cell)  106\n",
      "cell_per_block  2\n",
      "nxblocks  105\n"
     ]
    },
    {
     "name": "stderr",
     "output_type": "stream",
     "text": [
      "\r",
      " 73%|███████▎  | 923/1261 [13:47<05:06,  1.10it/s]"
     ]
    },
    {
     "name": "stdout",
     "output_type": "stream",
     "text": [
      "no. of rectangles found is  19\n",
      "spatial_size  (16, 16)\n",
      "hist  16\n",
      "orient  9\n",
      "ch1.shape[1]  853\n",
      "pix_per_cell  8\n",
      "(ch1.shape[1] // pix_per_cell)  106\n",
      "cell_per_block  2\n",
      "nxblocks  105\n"
     ]
    },
    {
     "name": "stderr",
     "output_type": "stream",
     "text": [
      "\r",
      " 73%|███████▎  | 924/1261 [13:48<05:06,  1.10it/s]"
     ]
    },
    {
     "name": "stdout",
     "output_type": "stream",
     "text": [
      "no. of rectangles found is  17\n",
      "spatial_size  (16, 16)\n",
      "hist  16\n",
      "orient  9\n",
      "ch1.shape[1]  853\n",
      "pix_per_cell  8\n",
      "(ch1.shape[1] // pix_per_cell)  106\n",
      "cell_per_block  2\n",
      "nxblocks  105\n"
     ]
    },
    {
     "name": "stderr",
     "output_type": "stream",
     "text": [
      "\r",
      " 73%|███████▎  | 925/1261 [13:49<05:03,  1.11it/s]"
     ]
    },
    {
     "name": "stdout",
     "output_type": "stream",
     "text": [
      "no. of rectangles found is  17\n",
      "spatial_size  (16, 16)\n",
      "hist  16\n",
      "orient  9\n",
      "ch1.shape[1]  853\n",
      "pix_per_cell  8\n",
      "(ch1.shape[1] // pix_per_cell)  106\n",
      "cell_per_block  2\n",
      "nxblocks  105\n"
     ]
    },
    {
     "name": "stderr",
     "output_type": "stream",
     "text": [
      "\r",
      " 73%|███████▎  | 926/1261 [13:50<05:00,  1.11it/s]"
     ]
    },
    {
     "name": "stdout",
     "output_type": "stream",
     "text": [
      "no. of rectangles found is  14\n",
      "spatial_size  (16, 16)\n",
      "hist  16\n",
      "orient  9\n",
      "ch1.shape[1]  853\n",
      "pix_per_cell  8\n",
      "(ch1.shape[1] // pix_per_cell)  106\n",
      "cell_per_block  2\n",
      "nxblocks  105\n"
     ]
    },
    {
     "name": "stderr",
     "output_type": "stream",
     "text": [
      "\r",
      " 74%|███████▎  | 927/1261 [13:51<04:56,  1.13it/s]"
     ]
    },
    {
     "name": "stdout",
     "output_type": "stream",
     "text": [
      "no. of rectangles found is  18\n",
      "spatial_size  (16, 16)\n",
      "hist  16\n",
      "orient  9\n",
      "ch1.shape[1]  853\n",
      "pix_per_cell  8\n",
      "(ch1.shape[1] // pix_per_cell)  106\n",
      "cell_per_block  2\n",
      "nxblocks  105\n"
     ]
    },
    {
     "name": "stderr",
     "output_type": "stream",
     "text": [
      "\r",
      " 74%|███████▎  | 928/1261 [13:52<04:55,  1.13it/s]"
     ]
    },
    {
     "name": "stdout",
     "output_type": "stream",
     "text": [
      "no. of rectangles found is  15\n",
      "spatial_size  (16, 16)\n",
      "hist  16\n",
      "orient  9\n",
      "ch1.shape[1]  853\n",
      "pix_per_cell  8\n",
      "(ch1.shape[1] // pix_per_cell)  106\n",
      "cell_per_block  2\n",
      "nxblocks  105\n"
     ]
    },
    {
     "name": "stderr",
     "output_type": "stream",
     "text": [
      "\r",
      " 74%|███████▎  | 929/1261 [13:53<04:55,  1.12it/s]"
     ]
    },
    {
     "name": "stdout",
     "output_type": "stream",
     "text": [
      "no. of rectangles found is  16\n",
      "spatial_size  (16, 16)\n",
      "hist  16\n",
      "orient  9\n",
      "ch1.shape[1]  853\n",
      "pix_per_cell  8\n",
      "(ch1.shape[1] // pix_per_cell)  106\n",
      "cell_per_block  2\n",
      "nxblocks  105\n"
     ]
    },
    {
     "name": "stderr",
     "output_type": "stream",
     "text": [
      "\r",
      " 74%|███████▍  | 930/1261 [13:54<04:54,  1.12it/s]"
     ]
    },
    {
     "name": "stdout",
     "output_type": "stream",
     "text": [
      "no. of rectangles found is  18\n",
      "spatial_size  (16, 16)\n",
      "hist  16\n",
      "orient  9\n",
      "ch1.shape[1]  853\n",
      "pix_per_cell  8\n",
      "(ch1.shape[1] // pix_per_cell)  106\n",
      "cell_per_block  2\n",
      "nxblocks  105\n"
     ]
    },
    {
     "name": "stderr",
     "output_type": "stream",
     "text": [
      "\r",
      " 74%|███████▍  | 931/1261 [13:54<04:53,  1.13it/s]"
     ]
    },
    {
     "name": "stdout",
     "output_type": "stream",
     "text": [
      "no. of rectangles found is  17\n",
      "spatial_size  (16, 16)\n",
      "hist  16\n",
      "orient  9\n",
      "ch1.shape[1]  853\n",
      "pix_per_cell  8\n",
      "(ch1.shape[1] // pix_per_cell)  106\n",
      "cell_per_block  2\n",
      "nxblocks  105\n"
     ]
    },
    {
     "name": "stderr",
     "output_type": "stream",
     "text": [
      "\r",
      " 74%|███████▍  | 932/1261 [13:55<04:52,  1.12it/s]"
     ]
    },
    {
     "name": "stdout",
     "output_type": "stream",
     "text": [
      "no. of rectangles found is  17\n",
      "spatial_size  (16, 16)\n",
      "hist  16\n",
      "orient  9\n",
      "ch1.shape[1]  853\n",
      "pix_per_cell  8\n",
      "(ch1.shape[1] // pix_per_cell)  106\n",
      "cell_per_block  2\n",
      "nxblocks  105\n"
     ]
    },
    {
     "name": "stderr",
     "output_type": "stream",
     "text": [
      "\r",
      " 74%|███████▍  | 933/1261 [13:56<04:52,  1.12it/s]"
     ]
    },
    {
     "name": "stdout",
     "output_type": "stream",
     "text": [
      "no. of rectangles found is  21\n",
      "spatial_size  (16, 16)\n",
      "hist  16\n",
      "orient  9\n",
      "ch1.shape[1]  853\n",
      "pix_per_cell  8\n",
      "(ch1.shape[1] // pix_per_cell)  106\n",
      "cell_per_block  2\n",
      "nxblocks  105\n"
     ]
    },
    {
     "name": "stderr",
     "output_type": "stream",
     "text": [
      "\r",
      " 74%|███████▍  | 934/1261 [13:57<04:51,  1.12it/s]"
     ]
    },
    {
     "name": "stdout",
     "output_type": "stream",
     "text": [
      "no. of rectangles found is  16\n",
      "spatial_size  (16, 16)\n",
      "hist  16\n",
      "orient  9\n",
      "ch1.shape[1]  853\n",
      "pix_per_cell  8\n",
      "(ch1.shape[1] // pix_per_cell)  106\n",
      "cell_per_block  2\n",
      "nxblocks  105\n"
     ]
    },
    {
     "name": "stderr",
     "output_type": "stream",
     "text": [
      "\r",
      " 74%|███████▍  | 935/1261 [13:58<04:50,  1.12it/s]"
     ]
    },
    {
     "name": "stdout",
     "output_type": "stream",
     "text": [
      "no. of rectangles found is  17\n",
      "spatial_size  (16, 16)\n",
      "hist  16\n",
      "orient  9\n",
      "ch1.shape[1]  853\n",
      "pix_per_cell  8\n",
      "(ch1.shape[1] // pix_per_cell)  106\n",
      "cell_per_block  2\n",
      "nxblocks  105\n"
     ]
    },
    {
     "name": "stderr",
     "output_type": "stream",
     "text": [
      "\r",
      " 74%|███████▍  | 936/1261 [13:59<04:50,  1.12it/s]"
     ]
    },
    {
     "name": "stdout",
     "output_type": "stream",
     "text": [
      "no. of rectangles found is  21\n",
      "spatial_size  (16, 16)\n",
      "hist  16\n",
      "orient  9\n",
      "ch1.shape[1]  853\n",
      "pix_per_cell  8\n",
      "(ch1.shape[1] // pix_per_cell)  106\n",
      "cell_per_block  2\n",
      "nxblocks  105\n"
     ]
    },
    {
     "name": "stderr",
     "output_type": "stream",
     "text": [
      "\r",
      " 74%|███████▍  | 937/1261 [14:00<04:49,  1.12it/s]"
     ]
    },
    {
     "name": "stdout",
     "output_type": "stream",
     "text": [
      "no. of rectangles found is  18\n",
      "spatial_size  (16, 16)\n",
      "hist  16\n",
      "orient  9\n",
      "ch1.shape[1]  853\n",
      "pix_per_cell  8\n",
      "(ch1.shape[1] // pix_per_cell)  106\n",
      "cell_per_block  2\n",
      "nxblocks  105\n"
     ]
    },
    {
     "name": "stderr",
     "output_type": "stream",
     "text": [
      "\r",
      " 74%|███████▍  | 938/1261 [14:01<04:48,  1.12it/s]"
     ]
    },
    {
     "name": "stdout",
     "output_type": "stream",
     "text": [
      "no. of rectangles found is  19\n",
      "spatial_size  (16, 16)\n",
      "hist  16\n",
      "orient  9\n",
      "ch1.shape[1]  853\n",
      "pix_per_cell  8\n",
      "(ch1.shape[1] // pix_per_cell)  106\n",
      "cell_per_block  2\n",
      "nxblocks  105\n"
     ]
    },
    {
     "name": "stderr",
     "output_type": "stream",
     "text": [
      "\r",
      " 74%|███████▍  | 939/1261 [14:02<04:45,  1.13it/s]"
     ]
    },
    {
     "name": "stdout",
     "output_type": "stream",
     "text": [
      "no. of rectangles found is  26\n",
      "spatial_size  (16, 16)\n",
      "hist  16\n",
      "orient  9\n",
      "ch1.shape[1]  853\n",
      "pix_per_cell  8\n",
      "(ch1.shape[1] // pix_per_cell)  106\n",
      "cell_per_block  2\n",
      "nxblocks  105\n"
     ]
    },
    {
     "name": "stderr",
     "output_type": "stream",
     "text": [
      "\r",
      " 75%|███████▍  | 940/1261 [14:02<04:43,  1.13it/s]"
     ]
    },
    {
     "name": "stdout",
     "output_type": "stream",
     "text": [
      "no. of rectangles found is  26\n",
      "spatial_size  (16, 16)\n",
      "hist  16\n",
      "orient  9\n",
      "ch1.shape[1]  853\n",
      "pix_per_cell  8\n",
      "(ch1.shape[1] // pix_per_cell)  106\n",
      "cell_per_block  2\n",
      "nxblocks  105\n"
     ]
    },
    {
     "name": "stderr",
     "output_type": "stream",
     "text": [
      "\r",
      " 75%|███████▍  | 941/1261 [14:03<04:42,  1.13it/s]"
     ]
    },
    {
     "name": "stdout",
     "output_type": "stream",
     "text": [
      "no. of rectangles found is  24\n",
      "spatial_size  (16, 16)\n",
      "hist  16\n",
      "orient  9\n",
      "ch1.shape[1]  853\n",
      "pix_per_cell  8\n",
      "(ch1.shape[1] // pix_per_cell)  106\n",
      "cell_per_block  2\n",
      "nxblocks  105\n"
     ]
    },
    {
     "name": "stderr",
     "output_type": "stream",
     "text": [
      "\r",
      " 75%|███████▍  | 942/1261 [14:04<04:41,  1.13it/s]"
     ]
    },
    {
     "name": "stdout",
     "output_type": "stream",
     "text": [
      "no. of rectangles found is  18\n",
      "spatial_size  (16, 16)\n",
      "hist  16\n",
      "orient  9\n",
      "ch1.shape[1]  853\n",
      "pix_per_cell  8\n",
      "(ch1.shape[1] // pix_per_cell)  106\n",
      "cell_per_block  2\n",
      "nxblocks  105\n"
     ]
    },
    {
     "name": "stderr",
     "output_type": "stream",
     "text": [
      "\r",
      " 75%|███████▍  | 943/1261 [14:05<04:41,  1.13it/s]"
     ]
    },
    {
     "name": "stdout",
     "output_type": "stream",
     "text": [
      "no. of rectangles found is  20\n",
      "spatial_size  (16, 16)\n",
      "hist  16\n",
      "orient  9\n",
      "ch1.shape[1]  853\n",
      "pix_per_cell  8\n",
      "(ch1.shape[1] // pix_per_cell)  106\n",
      "cell_per_block  2\n",
      "nxblocks  105\n"
     ]
    },
    {
     "name": "stderr",
     "output_type": "stream",
     "text": [
      "\r",
      " 75%|███████▍  | 944/1261 [14:06<04:40,  1.13it/s]"
     ]
    },
    {
     "name": "stdout",
     "output_type": "stream",
     "text": [
      "no. of rectangles found is  23\n",
      "spatial_size  (16, 16)\n",
      "hist  16\n",
      "orient  9\n",
      "ch1.shape[1]  853\n",
      "pix_per_cell  8\n",
      "(ch1.shape[1] // pix_per_cell)  106\n",
      "cell_per_block  2\n",
      "nxblocks  105\n"
     ]
    },
    {
     "name": "stderr",
     "output_type": "stream",
     "text": [
      "\r",
      " 75%|███████▍  | 945/1261 [14:07<04:45,  1.11it/s]"
     ]
    },
    {
     "name": "stdout",
     "output_type": "stream",
     "text": [
      "no. of rectangles found is  22\n",
      "spatial_size  (16, 16)\n",
      "hist  16\n",
      "orient  9\n",
      "ch1.shape[1]  853\n",
      "pix_per_cell  8\n",
      "(ch1.shape[1] // pix_per_cell)  106\n",
      "cell_per_block  2\n",
      "nxblocks  105\n"
     ]
    },
    {
     "name": "stderr",
     "output_type": "stream",
     "text": [
      "\r",
      " 75%|███████▌  | 946/1261 [14:08<04:43,  1.11it/s]"
     ]
    },
    {
     "name": "stdout",
     "output_type": "stream",
     "text": [
      "no. of rectangles found is  22\n",
      "spatial_size  (16, 16)\n",
      "hist  16\n",
      "orient  9\n",
      "ch1.shape[1]  853\n",
      "pix_per_cell  8\n",
      "(ch1.shape[1] // pix_per_cell)  106\n",
      "cell_per_block  2\n",
      "nxblocks  105\n"
     ]
    },
    {
     "name": "stderr",
     "output_type": "stream",
     "text": [
      "\r",
      " 75%|███████▌  | 947/1261 [14:09<04:41,  1.11it/s]"
     ]
    },
    {
     "name": "stdout",
     "output_type": "stream",
     "text": [
      "no. of rectangles found is  23\n",
      "spatial_size  (16, 16)\n",
      "hist  16\n",
      "orient  9\n",
      "ch1.shape[1]  853\n",
      "pix_per_cell  8\n",
      "(ch1.shape[1] // pix_per_cell)  106\n",
      "cell_per_block  2\n",
      "nxblocks  105\n"
     ]
    },
    {
     "name": "stderr",
     "output_type": "stream",
     "text": [
      "\r",
      " 75%|███████▌  | 948/1261 [14:10<04:39,  1.12it/s]"
     ]
    },
    {
     "name": "stdout",
     "output_type": "stream",
     "text": [
      "no. of rectangles found is  19\n",
      "spatial_size  (16, 16)\n",
      "hist  16\n",
      "orient  9\n",
      "ch1.shape[1]  853\n",
      "pix_per_cell  8\n",
      "(ch1.shape[1] // pix_per_cell)  106\n",
      "cell_per_block  2\n",
      "nxblocks  105\n"
     ]
    },
    {
     "name": "stderr",
     "output_type": "stream",
     "text": [
      "\r",
      " 75%|███████▌  | 949/1261 [14:10<04:39,  1.12it/s]"
     ]
    },
    {
     "name": "stdout",
     "output_type": "stream",
     "text": [
      "no. of rectangles found is  22\n",
      "spatial_size  (16, 16)\n",
      "hist  16\n",
      "orient  9\n",
      "ch1.shape[1]  853\n",
      "pix_per_cell  8\n",
      "(ch1.shape[1] // pix_per_cell)  106\n",
      "cell_per_block  2\n",
      "nxblocks  105\n"
     ]
    },
    {
     "name": "stderr",
     "output_type": "stream",
     "text": [
      "\r",
      " 75%|███████▌  | 950/1261 [14:11<04:39,  1.11it/s]"
     ]
    },
    {
     "name": "stdout",
     "output_type": "stream",
     "text": [
      "no. of rectangles found is  27\n",
      "spatial_size  (16, 16)\n",
      "hist  16\n",
      "orient  9\n",
      "ch1.shape[1]  853\n",
      "pix_per_cell  8\n",
      "(ch1.shape[1] // pix_per_cell)  106\n",
      "cell_per_block  2\n",
      "nxblocks  105\n"
     ]
    },
    {
     "name": "stderr",
     "output_type": "stream",
     "text": [
      "\r",
      " 75%|███████▌  | 951/1261 [14:12<04:38,  1.12it/s]"
     ]
    },
    {
     "name": "stdout",
     "output_type": "stream",
     "text": [
      "no. of rectangles found is  21\n",
      "spatial_size  (16, 16)\n",
      "hist  16\n",
      "orient  9\n",
      "ch1.shape[1]  853\n",
      "pix_per_cell  8\n",
      "(ch1.shape[1] // pix_per_cell)  106\n",
      "cell_per_block  2\n",
      "nxblocks  105\n"
     ]
    },
    {
     "name": "stderr",
     "output_type": "stream",
     "text": [
      "\r",
      " 75%|███████▌  | 952/1261 [14:13<04:36,  1.12it/s]"
     ]
    },
    {
     "name": "stdout",
     "output_type": "stream",
     "text": [
      "no. of rectangles found is  19\n",
      "spatial_size  (16, 16)\n",
      "hist  16\n",
      "orient  9\n",
      "ch1.shape[1]  853\n",
      "pix_per_cell  8\n",
      "(ch1.shape[1] // pix_per_cell)  106\n",
      "cell_per_block  2\n",
      "nxblocks  105\n"
     ]
    },
    {
     "name": "stderr",
     "output_type": "stream",
     "text": [
      "\r",
      " 76%|███████▌  | 953/1261 [14:14<04:36,  1.11it/s]"
     ]
    },
    {
     "name": "stdout",
     "output_type": "stream",
     "text": [
      "no. of rectangles found is  19\n",
      "spatial_size  (16, 16)\n",
      "hist  16\n",
      "orient  9\n",
      "ch1.shape[1]  853\n",
      "pix_per_cell  8\n",
      "(ch1.shape[1] // pix_per_cell)  106\n",
      "cell_per_block  2\n",
      "nxblocks  105\n"
     ]
    },
    {
     "name": "stderr",
     "output_type": "stream",
     "text": [
      "\r",
      " 76%|███████▌  | 954/1261 [14:15<04:35,  1.12it/s]"
     ]
    },
    {
     "name": "stdout",
     "output_type": "stream",
     "text": [
      "no. of rectangles found is  18\n",
      "spatial_size  (16, 16)\n",
      "hist  16\n",
      "orient  9\n",
      "ch1.shape[1]  853\n",
      "pix_per_cell  8\n",
      "(ch1.shape[1] // pix_per_cell)  106\n",
      "cell_per_block  2\n",
      "nxblocks  105\n"
     ]
    },
    {
     "name": "stderr",
     "output_type": "stream",
     "text": [
      "\r",
      " 76%|███████▌  | 955/1261 [14:16<04:32,  1.12it/s]"
     ]
    },
    {
     "name": "stdout",
     "output_type": "stream",
     "text": [
      "no. of rectangles found is  23\n",
      "spatial_size  (16, 16)\n",
      "hist  16\n",
      "orient  9\n",
      "ch1.shape[1]  853\n",
      "pix_per_cell  8\n",
      "(ch1.shape[1] // pix_per_cell)  106\n",
      "cell_per_block  2\n",
      "nxblocks  105\n"
     ]
    },
    {
     "name": "stderr",
     "output_type": "stream",
     "text": [
      "\r",
      " 76%|███████▌  | 956/1261 [14:17<04:32,  1.12it/s]"
     ]
    },
    {
     "name": "stdout",
     "output_type": "stream",
     "text": [
      "no. of rectangles found is  22\n",
      "spatial_size  (16, 16)\n",
      "hist  16\n",
      "orient  9\n",
      "ch1.shape[1]  853\n",
      "pix_per_cell  8\n",
      "(ch1.shape[1] // pix_per_cell)  106\n",
      "cell_per_block  2\n",
      "nxblocks  105\n"
     ]
    },
    {
     "name": "stderr",
     "output_type": "stream",
     "text": [
      "\r",
      " 76%|███████▌  | 957/1261 [14:18<04:29,  1.13it/s]"
     ]
    },
    {
     "name": "stdout",
     "output_type": "stream",
     "text": [
      "no. of rectangles found is  18\n",
      "spatial_size  (16, 16)\n",
      "hist  16\n",
      "orient  9\n",
      "ch1.shape[1]  853\n",
      "pix_per_cell  8\n",
      "(ch1.shape[1] // pix_per_cell)  106\n",
      "cell_per_block  2\n",
      "nxblocks  105\n"
     ]
    },
    {
     "name": "stderr",
     "output_type": "stream",
     "text": [
      "\r",
      " 76%|███████▌  | 958/1261 [14:19<04:29,  1.12it/s]"
     ]
    },
    {
     "name": "stdout",
     "output_type": "stream",
     "text": [
      "no. of rectangles found is  18\n",
      "spatial_size  (16, 16)\n",
      "hist  16\n",
      "orient  9\n",
      "ch1.shape[1]  853\n",
      "pix_per_cell  8\n",
      "(ch1.shape[1] // pix_per_cell)  106\n",
      "cell_per_block  2\n",
      "nxblocks  105\n"
     ]
    },
    {
     "name": "stderr",
     "output_type": "stream",
     "text": [
      "\r",
      " 76%|███████▌  | 959/1261 [14:19<04:28,  1.13it/s]"
     ]
    },
    {
     "name": "stdout",
     "output_type": "stream",
     "text": [
      "no. of rectangles found is  16\n",
      "spatial_size  (16, 16)\n",
      "hist  16\n",
      "orient  9\n",
      "ch1.shape[1]  853\n",
      "pix_per_cell  8\n",
      "(ch1.shape[1] // pix_per_cell)  106\n",
      "cell_per_block  2\n",
      "nxblocks  105\n"
     ]
    },
    {
     "name": "stderr",
     "output_type": "stream",
     "text": [
      "\r",
      " 76%|███████▌  | 960/1261 [14:20<04:33,  1.10it/s]"
     ]
    },
    {
     "name": "stdout",
     "output_type": "stream",
     "text": [
      "no. of rectangles found is  18\n",
      "spatial_size  (16, 16)\n",
      "hist  16\n",
      "orient  9\n",
      "ch1.shape[1]  853\n",
      "pix_per_cell  8\n",
      "(ch1.shape[1] // pix_per_cell)  106\n",
      "cell_per_block  2\n",
      "nxblocks  105\n"
     ]
    },
    {
     "name": "stderr",
     "output_type": "stream",
     "text": [
      "\r",
      " 76%|███████▌  | 961/1261 [14:21<04:34,  1.09it/s]"
     ]
    },
    {
     "name": "stdout",
     "output_type": "stream",
     "text": [
      "no. of rectangles found is  18\n",
      "spatial_size  (16, 16)\n",
      "hist  16\n",
      "orient  9\n",
      "ch1.shape[1]  853\n",
      "pix_per_cell  8\n",
      "(ch1.shape[1] // pix_per_cell)  106\n",
      "cell_per_block  2\n",
      "nxblocks  105\n"
     ]
    },
    {
     "name": "stderr",
     "output_type": "stream",
     "text": [
      "\r",
      " 76%|███████▋  | 962/1261 [14:22<04:35,  1.08it/s]"
     ]
    },
    {
     "name": "stdout",
     "output_type": "stream",
     "text": [
      "no. of rectangles found is  24\n",
      "spatial_size  (16, 16)\n",
      "hist  16\n",
      "orient  9\n",
      "ch1.shape[1]  853\n",
      "pix_per_cell  8\n",
      "(ch1.shape[1] // pix_per_cell)  106\n",
      "cell_per_block  2\n",
      "nxblocks  105\n"
     ]
    },
    {
     "name": "stderr",
     "output_type": "stream",
     "text": [
      "\r",
      " 76%|███████▋  | 963/1261 [14:23<04:33,  1.09it/s]"
     ]
    },
    {
     "name": "stdout",
     "output_type": "stream",
     "text": [
      "no. of rectangles found is  34\n",
      "spatial_size  (16, 16)\n",
      "hist  16\n",
      "orient  9\n",
      "ch1.shape[1]  853\n",
      "pix_per_cell  8\n",
      "(ch1.shape[1] // pix_per_cell)  106\n",
      "cell_per_block  2\n",
      "nxblocks  105\n"
     ]
    },
    {
     "name": "stderr",
     "output_type": "stream",
     "text": [
      "\r",
      " 76%|███████▋  | 964/1261 [14:24<04:30,  1.10it/s]"
     ]
    },
    {
     "name": "stdout",
     "output_type": "stream",
     "text": [
      "no. of rectangles found is  34\n",
      "spatial_size  (16, 16)\n",
      "hist  16\n",
      "orient  9\n",
      "ch1.shape[1]  853\n",
      "pix_per_cell  8\n",
      "(ch1.shape[1] // pix_per_cell)  106\n",
      "cell_per_block  2\n",
      "nxblocks  105\n"
     ]
    },
    {
     "name": "stderr",
     "output_type": "stream",
     "text": [
      "\r",
      " 77%|███████▋  | 965/1261 [14:25<04:26,  1.11it/s]"
     ]
    },
    {
     "name": "stdout",
     "output_type": "stream",
     "text": [
      "no. of rectangles found is  34\n",
      "spatial_size  (16, 16)\n",
      "hist  16\n",
      "orient  9\n",
      "ch1.shape[1]  853\n",
      "pix_per_cell  8\n",
      "(ch1.shape[1] // pix_per_cell)  106\n",
      "cell_per_block  2\n",
      "nxblocks  105\n"
     ]
    },
    {
     "name": "stderr",
     "output_type": "stream",
     "text": [
      "\r",
      " 77%|███████▋  | 966/1261 [14:26<04:24,  1.11it/s]"
     ]
    },
    {
     "name": "stdout",
     "output_type": "stream",
     "text": [
      "no. of rectangles found is  32\n",
      "spatial_size  (16, 16)\n",
      "hist  16\n",
      "orient  9\n",
      "ch1.shape[1]  853\n",
      "pix_per_cell  8\n",
      "(ch1.shape[1] // pix_per_cell)  106\n",
      "cell_per_block  2\n",
      "nxblocks  105\n"
     ]
    },
    {
     "name": "stderr",
     "output_type": "stream",
     "text": [
      "\r",
      " 77%|███████▋  | 967/1261 [14:27<04:23,  1.12it/s]"
     ]
    },
    {
     "name": "stdout",
     "output_type": "stream",
     "text": [
      "no. of rectangles found is  35\n",
      "spatial_size  (16, 16)\n",
      "hist  16\n",
      "orient  9\n",
      "ch1.shape[1]  853\n",
      "pix_per_cell  8\n",
      "(ch1.shape[1] // pix_per_cell)  106\n",
      "cell_per_block  2\n",
      "nxblocks  105\n"
     ]
    },
    {
     "name": "stderr",
     "output_type": "stream",
     "text": [
      "\r",
      " 77%|███████▋  | 968/1261 [14:28<04:21,  1.12it/s]"
     ]
    },
    {
     "name": "stdout",
     "output_type": "stream",
     "text": [
      "no. of rectangles found is  29\n",
      "spatial_size  (16, 16)\n",
      "hist  16\n",
      "orient  9\n",
      "ch1.shape[1]  853\n",
      "pix_per_cell  8\n",
      "(ch1.shape[1] // pix_per_cell)  106\n",
      "cell_per_block  2\n",
      "nxblocks  105\n"
     ]
    },
    {
     "name": "stderr",
     "output_type": "stream",
     "text": [
      "\r",
      " 77%|███████▋  | 969/1261 [14:28<04:20,  1.12it/s]"
     ]
    },
    {
     "name": "stdout",
     "output_type": "stream",
     "text": [
      "no. of rectangles found is  31\n",
      "spatial_size  (16, 16)\n",
      "hist  16\n",
      "orient  9\n",
      "ch1.shape[1]  853\n",
      "pix_per_cell  8\n",
      "(ch1.shape[1] // pix_per_cell)  106\n",
      "cell_per_block  2\n",
      "nxblocks  105\n"
     ]
    },
    {
     "name": "stderr",
     "output_type": "stream",
     "text": [
      "\r",
      " 77%|███████▋  | 970/1261 [14:29<04:18,  1.13it/s]"
     ]
    },
    {
     "name": "stdout",
     "output_type": "stream",
     "text": [
      "no. of rectangles found is  25\n",
      "spatial_size  (16, 16)\n",
      "hist  16\n",
      "orient  9\n",
      "ch1.shape[1]  853\n",
      "pix_per_cell  8\n",
      "(ch1.shape[1] // pix_per_cell)  106\n",
      "cell_per_block  2\n",
      "nxblocks  105\n"
     ]
    },
    {
     "name": "stderr",
     "output_type": "stream",
     "text": [
      "\r",
      " 77%|███████▋  | 971/1261 [14:30<04:24,  1.10it/s]"
     ]
    },
    {
     "name": "stdout",
     "output_type": "stream",
     "text": [
      "no. of rectangles found is  27\n",
      "spatial_size  (16, 16)\n",
      "hist  16\n",
      "orient  9\n",
      "ch1.shape[1]  853\n",
      "pix_per_cell  8\n",
      "(ch1.shape[1] // pix_per_cell)  106\n",
      "cell_per_block  2\n",
      "nxblocks  105\n"
     ]
    },
    {
     "name": "stderr",
     "output_type": "stream",
     "text": [
      "\r",
      " 77%|███████▋  | 972/1261 [14:31<04:21,  1.11it/s]"
     ]
    },
    {
     "name": "stdout",
     "output_type": "stream",
     "text": [
      "no. of rectangles found is  29\n",
      "spatial_size  (16, 16)\n",
      "hist  16\n",
      "orient  9\n",
      "ch1.shape[1]  853\n",
      "pix_per_cell  8\n",
      "(ch1.shape[1] // pix_per_cell)  106\n",
      "cell_per_block  2\n",
      "nxblocks  105\n"
     ]
    },
    {
     "name": "stderr",
     "output_type": "stream",
     "text": [
      "\r",
      " 77%|███████▋  | 973/1261 [14:32<04:19,  1.11it/s]"
     ]
    },
    {
     "name": "stdout",
     "output_type": "stream",
     "text": [
      "no. of rectangles found is  26\n",
      "spatial_size  (16, 16)\n",
      "hist  16\n",
      "orient  9\n",
      "ch1.shape[1]  853\n",
      "pix_per_cell  8\n",
      "(ch1.shape[1] // pix_per_cell)  106\n",
      "cell_per_block  2\n",
      "nxblocks  105\n"
     ]
    },
    {
     "name": "stderr",
     "output_type": "stream",
     "text": [
      "\r",
      " 77%|███████▋  | 974/1261 [14:33<04:18,  1.11it/s]"
     ]
    },
    {
     "name": "stdout",
     "output_type": "stream",
     "text": [
      "no. of rectangles found is  25\n",
      "spatial_size  (16, 16)\n",
      "hist  16\n",
      "orient  9\n",
      "ch1.shape[1]  853\n",
      "pix_per_cell  8\n",
      "(ch1.shape[1] // pix_per_cell)  106\n",
      "cell_per_block  2\n",
      "nxblocks  105\n"
     ]
    },
    {
     "name": "stderr",
     "output_type": "stream",
     "text": [
      "\r",
      " 77%|███████▋  | 975/1261 [14:34<04:16,  1.12it/s]"
     ]
    },
    {
     "name": "stdout",
     "output_type": "stream",
     "text": [
      "no. of rectangles found is  25\n",
      "spatial_size  (16, 16)\n",
      "hist  16\n",
      "orient  9\n",
      "ch1.shape[1]  853\n",
      "pix_per_cell  8\n",
      "(ch1.shape[1] // pix_per_cell)  106\n",
      "cell_per_block  2\n",
      "nxblocks  105\n"
     ]
    },
    {
     "name": "stderr",
     "output_type": "stream",
     "text": [
      "\r",
      " 77%|███████▋  | 976/1261 [14:35<04:16,  1.11it/s]"
     ]
    },
    {
     "name": "stdout",
     "output_type": "stream",
     "text": [
      "no. of rectangles found is  28\n",
      "spatial_size  (16, 16)\n",
      "hist  16\n",
      "orient  9\n",
      "ch1.shape[1]  853\n",
      "pix_per_cell  8\n",
      "(ch1.shape[1] // pix_per_cell)  106\n",
      "cell_per_block  2\n",
      "nxblocks  105\n"
     ]
    },
    {
     "name": "stderr",
     "output_type": "stream",
     "text": [
      "\r",
      " 77%|███████▋  | 977/1261 [14:36<04:16,  1.11it/s]"
     ]
    },
    {
     "name": "stdout",
     "output_type": "stream",
     "text": [
      "no. of rectangles found is  29\n",
      "spatial_size  (16, 16)\n",
      "hist  16\n",
      "orient  9\n",
      "ch1.shape[1]  853\n",
      "pix_per_cell  8\n",
      "(ch1.shape[1] // pix_per_cell)  106\n",
      "cell_per_block  2\n",
      "nxblocks  105\n"
     ]
    },
    {
     "name": "stderr",
     "output_type": "stream",
     "text": [
      "\r",
      " 78%|███████▊  | 978/1261 [14:37<04:20,  1.09it/s]"
     ]
    },
    {
     "name": "stdout",
     "output_type": "stream",
     "text": [
      "no. of rectangles found is  25\n",
      "spatial_size  (16, 16)\n",
      "hist  16\n",
      "orient  9\n",
      "ch1.shape[1]  853\n",
      "pix_per_cell  8\n",
      "(ch1.shape[1] // pix_per_cell)  106\n",
      "cell_per_block  2\n",
      "nxblocks  105\n"
     ]
    },
    {
     "name": "stderr",
     "output_type": "stream",
     "text": [
      "\r",
      " 78%|███████▊  | 979/1261 [14:38<04:18,  1.09it/s]"
     ]
    },
    {
     "name": "stdout",
     "output_type": "stream",
     "text": [
      "no. of rectangles found is  30\n",
      "spatial_size  (16, 16)\n",
      "hist  16\n",
      "orient  9\n",
      "ch1.shape[1]  853\n",
      "pix_per_cell  8\n",
      "(ch1.shape[1] // pix_per_cell)  106\n",
      "cell_per_block  2\n",
      "nxblocks  105\n"
     ]
    },
    {
     "name": "stderr",
     "output_type": "stream",
     "text": [
      "\r",
      " 78%|███████▊  | 980/1261 [14:38<04:15,  1.10it/s]"
     ]
    },
    {
     "name": "stdout",
     "output_type": "stream",
     "text": [
      "no. of rectangles found is  33\n",
      "spatial_size  (16, 16)\n",
      "hist  16\n",
      "orient  9\n",
      "ch1.shape[1]  853\n",
      "pix_per_cell  8\n",
      "(ch1.shape[1] // pix_per_cell)  106\n",
      "cell_per_block  2\n",
      "nxblocks  105\n"
     ]
    },
    {
     "name": "stderr",
     "output_type": "stream",
     "text": [
      "\r",
      " 78%|███████▊  | 981/1261 [14:39<04:12,  1.11it/s]"
     ]
    },
    {
     "name": "stdout",
     "output_type": "stream",
     "text": [
      "no. of rectangles found is  39\n",
      "spatial_size  (16, 16)\n",
      "hist  16\n",
      "orient  9\n",
      "ch1.shape[1]  853\n",
      "pix_per_cell  8\n",
      "(ch1.shape[1] // pix_per_cell)  106\n",
      "cell_per_block  2\n",
      "nxblocks  105\n"
     ]
    },
    {
     "name": "stderr",
     "output_type": "stream",
     "text": [
      "\r",
      " 78%|███████▊  | 982/1261 [14:40<04:11,  1.11it/s]"
     ]
    },
    {
     "name": "stdout",
     "output_type": "stream",
     "text": [
      "no. of rectangles found is  33\n",
      "spatial_size  (16, 16)\n",
      "hist  16\n",
      "orient  9\n",
      "ch1.shape[1]  853\n",
      "pix_per_cell  8\n",
      "(ch1.shape[1] // pix_per_cell)  106\n",
      "cell_per_block  2\n",
      "nxblocks  105\n"
     ]
    },
    {
     "name": "stderr",
     "output_type": "stream",
     "text": [
      "\r",
      " 78%|███████▊  | 983/1261 [14:41<04:09,  1.11it/s]"
     ]
    },
    {
     "name": "stdout",
     "output_type": "stream",
     "text": [
      "no. of rectangles found is  40\n",
      "spatial_size  (16, 16)\n",
      "hist  16\n",
      "orient  9\n",
      "ch1.shape[1]  853\n",
      "pix_per_cell  8\n",
      "(ch1.shape[1] // pix_per_cell)  106\n",
      "cell_per_block  2\n",
      "nxblocks  105\n"
     ]
    },
    {
     "name": "stderr",
     "output_type": "stream",
     "text": [
      "\r",
      " 78%|███████▊  | 984/1261 [14:42<04:09,  1.11it/s]"
     ]
    },
    {
     "name": "stdout",
     "output_type": "stream",
     "text": [
      "no. of rectangles found is  32\n",
      "spatial_size  (16, 16)\n",
      "hist  16\n",
      "orient  9\n",
      "ch1.shape[1]  853\n",
      "pix_per_cell  8\n",
      "(ch1.shape[1] // pix_per_cell)  106\n",
      "cell_per_block  2\n",
      "nxblocks  105\n"
     ]
    },
    {
     "name": "stderr",
     "output_type": "stream",
     "text": [
      "\r",
      " 78%|███████▊  | 985/1261 [14:43<04:07,  1.12it/s]"
     ]
    },
    {
     "name": "stdout",
     "output_type": "stream",
     "text": [
      "no. of rectangles found is  26\n",
      "spatial_size  (16, 16)\n",
      "hist  16\n",
      "orient  9\n",
      "ch1.shape[1]  853\n",
      "pix_per_cell  8\n",
      "(ch1.shape[1] // pix_per_cell)  106\n",
      "cell_per_block  2\n",
      "nxblocks  105\n"
     ]
    },
    {
     "name": "stderr",
     "output_type": "stream",
     "text": [
      "\r",
      " 78%|███████▊  | 986/1261 [14:44<04:06,  1.12it/s]"
     ]
    },
    {
     "name": "stdout",
     "output_type": "stream",
     "text": [
      "no. of rectangles found is  27\n",
      "spatial_size  (16, 16)\n",
      "hist  16\n",
      "orient  9\n",
      "ch1.shape[1]  853\n",
      "pix_per_cell  8\n",
      "(ch1.shape[1] // pix_per_cell)  106\n",
      "cell_per_block  2\n",
      "nxblocks  105\n"
     ]
    },
    {
     "name": "stderr",
     "output_type": "stream",
     "text": [
      "\r",
      " 78%|███████▊  | 987/1261 [14:45<04:06,  1.11it/s]"
     ]
    },
    {
     "name": "stdout",
     "output_type": "stream",
     "text": [
      "no. of rectangles found is  44\n",
      "spatial_size  (16, 16)\n",
      "hist  16\n",
      "orient  9\n",
      "ch1.shape[1]  853\n",
      "pix_per_cell  8\n",
      "(ch1.shape[1] // pix_per_cell)  106\n",
      "cell_per_block  2\n",
      "nxblocks  105\n"
     ]
    },
    {
     "name": "stderr",
     "output_type": "stream",
     "text": [
      "\r",
      " 78%|███████▊  | 988/1261 [14:46<04:03,  1.12it/s]"
     ]
    },
    {
     "name": "stdout",
     "output_type": "stream",
     "text": [
      "no. of rectangles found is  31\n",
      "spatial_size  (16, 16)\n",
      "hist  16\n",
      "orient  9\n",
      "ch1.shape[1]  853\n",
      "pix_per_cell  8\n",
      "(ch1.shape[1] // pix_per_cell)  106\n",
      "cell_per_block  2\n",
      "nxblocks  105\n"
     ]
    },
    {
     "name": "stderr",
     "output_type": "stream",
     "text": [
      "\r",
      " 78%|███████▊  | 989/1261 [14:46<04:00,  1.13it/s]"
     ]
    },
    {
     "name": "stdout",
     "output_type": "stream",
     "text": [
      "no. of rectangles found is  31\n",
      "spatial_size  (16, 16)\n",
      "hist  16\n",
      "orient  9\n",
      "ch1.shape[1]  853\n",
      "pix_per_cell  8\n",
      "(ch1.shape[1] // pix_per_cell)  106\n",
      "cell_per_block  2\n",
      "nxblocks  105\n"
     ]
    },
    {
     "name": "stderr",
     "output_type": "stream",
     "text": [
      "\r",
      " 79%|███████▊  | 990/1261 [14:47<04:00,  1.13it/s]"
     ]
    },
    {
     "name": "stdout",
     "output_type": "stream",
     "text": [
      "no. of rectangles found is  31\n",
      "spatial_size  (16, 16)\n",
      "hist  16\n",
      "orient  9\n",
      "ch1.shape[1]  853\n",
      "pix_per_cell  8\n",
      "(ch1.shape[1] // pix_per_cell)  106\n",
      "cell_per_block  2\n",
      "nxblocks  105\n"
     ]
    },
    {
     "name": "stderr",
     "output_type": "stream",
     "text": [
      "\r",
      " 79%|███████▊  | 991/1261 [14:48<03:59,  1.13it/s]"
     ]
    },
    {
     "name": "stdout",
     "output_type": "stream",
     "text": [
      "no. of rectangles found is  26\n",
      "spatial_size  (16, 16)\n",
      "hist  16\n",
      "orient  9\n",
      "ch1.shape[1]  853\n",
      "pix_per_cell  8\n",
      "(ch1.shape[1] // pix_per_cell)  106\n",
      "cell_per_block  2\n",
      "nxblocks  105\n"
     ]
    },
    {
     "name": "stderr",
     "output_type": "stream",
     "text": [
      "\r",
      " 79%|███████▊  | 992/1261 [14:49<03:59,  1.13it/s]"
     ]
    },
    {
     "name": "stdout",
     "output_type": "stream",
     "text": [
      "no. of rectangles found is  25\n",
      "spatial_size  (16, 16)\n",
      "hist  16\n",
      "orient  9\n",
      "ch1.shape[1]  853\n",
      "pix_per_cell  8\n",
      "(ch1.shape[1] // pix_per_cell)  106\n",
      "cell_per_block  2\n",
      "nxblocks  105\n"
     ]
    },
    {
     "name": "stderr",
     "output_type": "stream",
     "text": [
      "\r",
      " 79%|███████▊  | 993/1261 [14:50<03:57,  1.13it/s]"
     ]
    },
    {
     "name": "stdout",
     "output_type": "stream",
     "text": [
      "no. of rectangles found is  24\n",
      "spatial_size  (16, 16)\n",
      "hist  16\n",
      "orient  9\n",
      "ch1.shape[1]  853\n",
      "pix_per_cell  8\n",
      "(ch1.shape[1] // pix_per_cell)  106\n",
      "cell_per_block  2\n",
      "nxblocks  105\n"
     ]
    },
    {
     "name": "stderr",
     "output_type": "stream",
     "text": [
      "\r",
      " 79%|███████▉  | 994/1261 [14:51<03:58,  1.12it/s]"
     ]
    },
    {
     "name": "stdout",
     "output_type": "stream",
     "text": [
      "no. of rectangles found is  18\n",
      "spatial_size  (16, 16)\n",
      "hist  16\n",
      "orient  9\n",
      "ch1.shape[1]  853\n",
      "pix_per_cell  8\n",
      "(ch1.shape[1] // pix_per_cell)  106\n",
      "cell_per_block  2\n",
      "nxblocks  105\n"
     ]
    },
    {
     "name": "stderr",
     "output_type": "stream",
     "text": [
      "\r",
      " 79%|███████▉  | 995/1261 [14:52<03:58,  1.12it/s]"
     ]
    },
    {
     "name": "stdout",
     "output_type": "stream",
     "text": [
      "no. of rectangles found is  17\n",
      "spatial_size  (16, 16)\n",
      "hist  16\n",
      "orient  9\n",
      "ch1.shape[1]  853\n",
      "pix_per_cell  8\n",
      "(ch1.shape[1] // pix_per_cell)  106\n",
      "cell_per_block  2\n",
      "nxblocks  105\n"
     ]
    },
    {
     "name": "stderr",
     "output_type": "stream",
     "text": [
      "\r",
      " 79%|███████▉  | 996/1261 [14:53<03:57,  1.12it/s]"
     ]
    },
    {
     "name": "stdout",
     "output_type": "stream",
     "text": [
      "no. of rectangles found is  20\n",
      "spatial_size  (16, 16)\n",
      "hist  16\n",
      "orient  9\n",
      "ch1.shape[1]  853\n",
      "pix_per_cell  8\n",
      "(ch1.shape[1] // pix_per_cell)  106\n",
      "cell_per_block  2\n",
      "nxblocks  105\n"
     ]
    },
    {
     "name": "stderr",
     "output_type": "stream",
     "text": [
      "\r",
      " 79%|███████▉  | 997/1261 [14:54<03:55,  1.12it/s]"
     ]
    },
    {
     "name": "stdout",
     "output_type": "stream",
     "text": [
      "no. of rectangles found is  21\n",
      "spatial_size  (16, 16)\n",
      "hist  16\n",
      "orient  9\n",
      "ch1.shape[1]  853\n",
      "pix_per_cell  8\n",
      "(ch1.shape[1] // pix_per_cell)  106\n",
      "cell_per_block  2\n",
      "nxblocks  105\n"
     ]
    },
    {
     "name": "stderr",
     "output_type": "stream",
     "text": [
      "\r",
      " 79%|███████▉  | 998/1261 [14:55<03:55,  1.12it/s]"
     ]
    },
    {
     "name": "stdout",
     "output_type": "stream",
     "text": [
      "no. of rectangles found is  21\n",
      "spatial_size  (16, 16)\n",
      "hist  16\n",
      "orient  9\n",
      "ch1.shape[1]  853\n",
      "pix_per_cell  8\n",
      "(ch1.shape[1] // pix_per_cell)  106\n",
      "cell_per_block  2\n",
      "nxblocks  105\n"
     ]
    },
    {
     "name": "stderr",
     "output_type": "stream",
     "text": [
      "\r",
      " 79%|███████▉  | 999/1261 [14:55<03:53,  1.12it/s]"
     ]
    },
    {
     "name": "stdout",
     "output_type": "stream",
     "text": [
      "no. of rectangles found is  20\n",
      "spatial_size  (16, 16)\n",
      "hist  16\n",
      "orient  9\n",
      "ch1.shape[1]  853\n",
      "pix_per_cell  8\n",
      "(ch1.shape[1] // pix_per_cell)  106\n",
      "cell_per_block  2\n",
      "nxblocks  105\n"
     ]
    },
    {
     "name": "stderr",
     "output_type": "stream",
     "text": [
      "\r",
      " 79%|███████▉  | 1000/1261 [14:56<03:54,  1.12it/s]"
     ]
    },
    {
     "name": "stdout",
     "output_type": "stream",
     "text": [
      "no. of rectangles found is  21\n",
      "spatial_size  (16, 16)\n",
      "hist  16\n",
      "orient  9\n",
      "ch1.shape[1]  853\n",
      "pix_per_cell  8\n",
      "(ch1.shape[1] // pix_per_cell)  106\n",
      "cell_per_block  2\n",
      "nxblocks  105\n"
     ]
    },
    {
     "name": "stderr",
     "output_type": "stream",
     "text": [
      "\r",
      " 79%|███████▉  | 1001/1261 [14:57<03:52,  1.12it/s]"
     ]
    },
    {
     "name": "stdout",
     "output_type": "stream",
     "text": [
      "no. of rectangles found is  17\n",
      "spatial_size  (16, 16)\n",
      "hist  16\n",
      "orient  9\n",
      "ch1.shape[1]  853\n",
      "pix_per_cell  8\n",
      "(ch1.shape[1] // pix_per_cell)  106\n",
      "cell_per_block  2\n",
      "nxblocks  105\n"
     ]
    },
    {
     "name": "stderr",
     "output_type": "stream",
     "text": [
      "\r",
      " 79%|███████▉  | 1002/1261 [14:58<03:52,  1.11it/s]"
     ]
    },
    {
     "name": "stdout",
     "output_type": "stream",
     "text": [
      "no. of rectangles found is  17\n",
      "spatial_size  (16, 16)\n",
      "hist  16\n",
      "orient  9\n",
      "ch1.shape[1]  853\n",
      "pix_per_cell  8\n",
      "(ch1.shape[1] // pix_per_cell)  106\n",
      "cell_per_block  2\n",
      "nxblocks  105\n"
     ]
    },
    {
     "name": "stderr",
     "output_type": "stream",
     "text": [
      "\r",
      " 80%|███████▉  | 1003/1261 [14:59<03:50,  1.12it/s]"
     ]
    },
    {
     "name": "stdout",
     "output_type": "stream",
     "text": [
      "no. of rectangles found is  17\n",
      "spatial_size  (16, 16)\n",
      "hist  16\n",
      "orient  9\n",
      "ch1.shape[1]  853\n",
      "pix_per_cell  8\n",
      "(ch1.shape[1] // pix_per_cell)  106\n",
      "cell_per_block  2\n",
      "nxblocks  105\n"
     ]
    },
    {
     "name": "stderr",
     "output_type": "stream",
     "text": [
      "\r",
      " 80%|███████▉  | 1004/1261 [15:00<03:49,  1.12it/s]"
     ]
    },
    {
     "name": "stdout",
     "output_type": "stream",
     "text": [
      "no. of rectangles found is  15\n",
      "spatial_size  (16, 16)\n",
      "hist  16\n",
      "orient  9\n",
      "ch1.shape[1]  853\n",
      "pix_per_cell  8\n",
      "(ch1.shape[1] // pix_per_cell)  106\n",
      "cell_per_block  2\n",
      "nxblocks  105\n"
     ]
    },
    {
     "name": "stderr",
     "output_type": "stream",
     "text": [
      "\r",
      " 80%|███████▉  | 1005/1261 [15:01<03:48,  1.12it/s]"
     ]
    },
    {
     "name": "stdout",
     "output_type": "stream",
     "text": [
      "no. of rectangles found is  16\n",
      "spatial_size  (16, 16)\n",
      "hist  16\n",
      "orient  9\n",
      "ch1.shape[1]  853\n",
      "pix_per_cell  8\n",
      "(ch1.shape[1] // pix_per_cell)  106\n",
      "cell_per_block  2\n",
      "nxblocks  105\n"
     ]
    },
    {
     "name": "stderr",
     "output_type": "stream",
     "text": [
      "\r",
      " 80%|███████▉  | 1006/1261 [15:02<03:46,  1.12it/s]"
     ]
    },
    {
     "name": "stdout",
     "output_type": "stream",
     "text": [
      "no. of rectangles found is  15\n",
      "spatial_size  (16, 16)\n",
      "hist  16\n",
      "orient  9\n",
      "ch1.shape[1]  853\n",
      "pix_per_cell  8\n",
      "(ch1.shape[1] // pix_per_cell)  106\n",
      "cell_per_block  2\n",
      "nxblocks  105\n"
     ]
    },
    {
     "name": "stderr",
     "output_type": "stream",
     "text": [
      "\r",
      " 80%|███████▉  | 1007/1261 [15:03<03:46,  1.12it/s]"
     ]
    },
    {
     "name": "stdout",
     "output_type": "stream",
     "text": [
      "no. of rectangles found is  12\n",
      "spatial_size  (16, 16)\n",
      "hist  16\n",
      "orient  9\n",
      "ch1.shape[1]  853\n",
      "pix_per_cell  8\n",
      "(ch1.shape[1] // pix_per_cell)  106\n",
      "cell_per_block  2\n",
      "nxblocks  105\n"
     ]
    },
    {
     "name": "stderr",
     "output_type": "stream",
     "text": [
      "\r",
      " 80%|███████▉  | 1008/1261 [15:03<03:46,  1.12it/s]"
     ]
    },
    {
     "name": "stdout",
     "output_type": "stream",
     "text": [
      "no. of rectangles found is  18\n",
      "spatial_size  (16, 16)\n",
      "hist  16\n",
      "orient  9\n",
      "ch1.shape[1]  853\n",
      "pix_per_cell  8\n",
      "(ch1.shape[1] // pix_per_cell)  106\n",
      "cell_per_block  2\n",
      "nxblocks  105\n"
     ]
    },
    {
     "name": "stderr",
     "output_type": "stream",
     "text": [
      "\r",
      " 80%|████████  | 1009/1261 [15:04<03:45,  1.12it/s]"
     ]
    },
    {
     "name": "stdout",
     "output_type": "stream",
     "text": [
      "no. of rectangles found is  17\n",
      "spatial_size  (16, 16)\n",
      "hist  16\n",
      "orient  9\n",
      "ch1.shape[1]  853\n",
      "pix_per_cell  8\n",
      "(ch1.shape[1] // pix_per_cell)  106\n",
      "cell_per_block  2\n",
      "nxblocks  105\n"
     ]
    },
    {
     "name": "stderr",
     "output_type": "stream",
     "text": [
      "\r",
      " 80%|████████  | 1010/1261 [15:05<03:44,  1.12it/s]"
     ]
    },
    {
     "name": "stdout",
     "output_type": "stream",
     "text": [
      "no. of rectangles found is  16\n",
      "spatial_size  (16, 16)\n",
      "hist  16\n",
      "orient  9\n",
      "ch1.shape[1]  853\n",
      "pix_per_cell  8\n",
      "(ch1.shape[1] // pix_per_cell)  106\n",
      "cell_per_block  2\n",
      "nxblocks  105\n"
     ]
    },
    {
     "name": "stderr",
     "output_type": "stream",
     "text": [
      "\r",
      " 80%|████████  | 1011/1261 [15:06<03:44,  1.12it/s]"
     ]
    },
    {
     "name": "stdout",
     "output_type": "stream",
     "text": [
      "no. of rectangles found is  14\n",
      "spatial_size  (16, 16)\n",
      "hist  16\n",
      "orient  9\n",
      "ch1.shape[1]  853\n",
      "pix_per_cell  8\n",
      "(ch1.shape[1] // pix_per_cell)  106\n",
      "cell_per_block  2\n",
      "nxblocks  105\n"
     ]
    },
    {
     "name": "stderr",
     "output_type": "stream",
     "text": [
      "\r",
      " 80%|████████  | 1012/1261 [15:07<03:42,  1.12it/s]"
     ]
    },
    {
     "name": "stdout",
     "output_type": "stream",
     "text": [
      "no. of rectangles found is  13\n",
      "spatial_size  (16, 16)\n",
      "hist  16\n",
      "orient  9\n",
      "ch1.shape[1]  853\n",
      "pix_per_cell  8\n",
      "(ch1.shape[1] // pix_per_cell)  106\n",
      "cell_per_block  2\n",
      "nxblocks  105\n"
     ]
    },
    {
     "name": "stderr",
     "output_type": "stream",
     "text": [
      "\r",
      " 80%|████████  | 1013/1261 [15:08<03:41,  1.12it/s]"
     ]
    },
    {
     "name": "stdout",
     "output_type": "stream",
     "text": [
      "no. of rectangles found is  16\n",
      "spatial_size  (16, 16)\n",
      "hist  16\n",
      "orient  9\n",
      "ch1.shape[1]  853\n",
      "pix_per_cell  8\n",
      "(ch1.shape[1] // pix_per_cell)  106\n",
      "cell_per_block  2\n",
      "nxblocks  105\n"
     ]
    },
    {
     "name": "stderr",
     "output_type": "stream",
     "text": [
      "\r",
      " 80%|████████  | 1014/1261 [15:09<03:40,  1.12it/s]"
     ]
    },
    {
     "name": "stdout",
     "output_type": "stream",
     "text": [
      "no. of rectangles found is  13\n",
      "spatial_size  (16, 16)\n",
      "hist  16\n",
      "orient  9\n",
      "ch1.shape[1]  853\n",
      "pix_per_cell  8\n",
      "(ch1.shape[1] // pix_per_cell)  106\n",
      "cell_per_block  2\n",
      "nxblocks  105\n"
     ]
    },
    {
     "name": "stderr",
     "output_type": "stream",
     "text": [
      "\r",
      " 80%|████████  | 1015/1261 [15:10<03:40,  1.12it/s]"
     ]
    },
    {
     "name": "stdout",
     "output_type": "stream",
     "text": [
      "no. of rectangles found is  13\n",
      "spatial_size  (16, 16)\n",
      "hist  16\n",
      "orient  9\n",
      "ch1.shape[1]  853\n",
      "pix_per_cell  8\n",
      "(ch1.shape[1] // pix_per_cell)  106\n",
      "cell_per_block  2\n",
      "nxblocks  105\n"
     ]
    },
    {
     "name": "stderr",
     "output_type": "stream",
     "text": [
      "\r",
      " 81%|████████  | 1016/1261 [15:11<03:41,  1.10it/s]"
     ]
    },
    {
     "name": "stdout",
     "output_type": "stream",
     "text": [
      "no. of rectangles found is  14\n",
      "spatial_size  (16, 16)\n",
      "hist  16\n",
      "orient  9\n",
      "ch1.shape[1]  853\n",
      "pix_per_cell  8\n",
      "(ch1.shape[1] // pix_per_cell)  106\n",
      "cell_per_block  2\n",
      "nxblocks  105\n"
     ]
    },
    {
     "name": "stderr",
     "output_type": "stream",
     "text": [
      "\r",
      " 81%|████████  | 1017/1261 [15:12<03:39,  1.11it/s]"
     ]
    },
    {
     "name": "stdout",
     "output_type": "stream",
     "text": [
      "no. of rectangles found is  15\n",
      "spatial_size  (16, 16)\n",
      "hist  16\n",
      "orient  9\n",
      "ch1.shape[1]  853\n",
      "pix_per_cell  8\n",
      "(ch1.shape[1] // pix_per_cell)  106\n",
      "cell_per_block  2\n",
      "nxblocks  105\n"
     ]
    },
    {
     "name": "stderr",
     "output_type": "stream",
     "text": [
      "\r",
      " 81%|████████  | 1018/1261 [15:12<03:39,  1.11it/s]"
     ]
    },
    {
     "name": "stdout",
     "output_type": "stream",
     "text": [
      "no. of rectangles found is  20\n",
      "spatial_size  (16, 16)\n",
      "hist  16\n",
      "orient  9\n",
      "ch1.shape[1]  853\n",
      "pix_per_cell  8\n",
      "(ch1.shape[1] // pix_per_cell)  106\n",
      "cell_per_block  2\n",
      "nxblocks  105\n"
     ]
    },
    {
     "name": "stderr",
     "output_type": "stream",
     "text": [
      "\r",
      " 81%|████████  | 1019/1261 [15:13<03:42,  1.09it/s]"
     ]
    },
    {
     "name": "stdout",
     "output_type": "stream",
     "text": [
      "no. of rectangles found is  14\n",
      "spatial_size  (16, 16)\n",
      "hist  16\n",
      "orient  9\n",
      "ch1.shape[1]  853\n",
      "pix_per_cell  8\n",
      "(ch1.shape[1] // pix_per_cell)  106\n",
      "cell_per_block  2\n",
      "nxblocks  105\n"
     ]
    },
    {
     "name": "stderr",
     "output_type": "stream",
     "text": [
      "\r",
      " 81%|████████  | 1020/1261 [15:14<03:39,  1.10it/s]"
     ]
    },
    {
     "name": "stdout",
     "output_type": "stream",
     "text": [
      "no. of rectangles found is  14\n",
      "spatial_size  (16, 16)\n",
      "hist  16\n",
      "orient  9\n",
      "ch1.shape[1]  853\n",
      "pix_per_cell  8\n",
      "(ch1.shape[1] // pix_per_cell)  106\n",
      "cell_per_block  2\n",
      "nxblocks  105\n"
     ]
    },
    {
     "name": "stderr",
     "output_type": "stream",
     "text": [
      "\r",
      " 81%|████████  | 1021/1261 [15:15<03:37,  1.10it/s]"
     ]
    },
    {
     "name": "stdout",
     "output_type": "stream",
     "text": [
      "no. of rectangles found is  17\n",
      "spatial_size  (16, 16)\n",
      "hist  16\n",
      "orient  9\n",
      "ch1.shape[1]  853\n",
      "pix_per_cell  8\n",
      "(ch1.shape[1] // pix_per_cell)  106\n",
      "cell_per_block  2\n",
      "nxblocks  105\n"
     ]
    },
    {
     "name": "stderr",
     "output_type": "stream",
     "text": [
      "\r",
      " 81%|████████  | 1022/1261 [15:16<03:34,  1.11it/s]"
     ]
    },
    {
     "name": "stdout",
     "output_type": "stream",
     "text": [
      "no. of rectangles found is  17\n",
      "spatial_size  (16, 16)\n",
      "hist  16\n",
      "orient  9\n",
      "ch1.shape[1]  853\n",
      "pix_per_cell  8\n",
      "(ch1.shape[1] // pix_per_cell)  106\n",
      "cell_per_block  2\n",
      "nxblocks  105\n"
     ]
    },
    {
     "name": "stderr",
     "output_type": "stream",
     "text": [
      "\r",
      " 81%|████████  | 1023/1261 [15:17<03:33,  1.12it/s]"
     ]
    },
    {
     "name": "stdout",
     "output_type": "stream",
     "text": [
      "no. of rectangles found is  21\n",
      "spatial_size  (16, 16)\n",
      "hist  16\n",
      "orient  9\n",
      "ch1.shape[1]  853\n",
      "pix_per_cell  8\n",
      "(ch1.shape[1] // pix_per_cell)  106\n",
      "cell_per_block  2\n",
      "nxblocks  105\n"
     ]
    },
    {
     "name": "stderr",
     "output_type": "stream",
     "text": [
      "\r",
      " 81%|████████  | 1024/1261 [15:18<03:32,  1.12it/s]"
     ]
    },
    {
     "name": "stdout",
     "output_type": "stream",
     "text": [
      "no. of rectangles found is  20\n",
      "spatial_size  (16, 16)\n",
      "hist  16\n",
      "orient  9\n",
      "ch1.shape[1]  853\n",
      "pix_per_cell  8\n",
      "(ch1.shape[1] // pix_per_cell)  106\n",
      "cell_per_block  2\n",
      "nxblocks  105\n"
     ]
    },
    {
     "name": "stderr",
     "output_type": "stream",
     "text": [
      "\r",
      " 81%|████████▏ | 1025/1261 [15:19<03:30,  1.12it/s]"
     ]
    },
    {
     "name": "stdout",
     "output_type": "stream",
     "text": [
      "no. of rectangles found is  16\n",
      "spatial_size  (16, 16)\n",
      "hist  16\n",
      "orient  9\n",
      "ch1.shape[1]  853\n",
      "pix_per_cell  8\n",
      "(ch1.shape[1] // pix_per_cell)  106\n",
      "cell_per_block  2\n",
      "nxblocks  105\n"
     ]
    },
    {
     "name": "stderr",
     "output_type": "stream",
     "text": [
      "\r",
      " 81%|████████▏ | 1026/1261 [15:20<03:30,  1.12it/s]"
     ]
    },
    {
     "name": "stdout",
     "output_type": "stream",
     "text": [
      "no. of rectangles found is  33\n",
      "spatial_size  (16, 16)\n",
      "hist  16\n",
      "orient  9\n",
      "ch1.shape[1]  853\n",
      "pix_per_cell  8\n",
      "(ch1.shape[1] // pix_per_cell)  106\n",
      "cell_per_block  2\n",
      "nxblocks  105\n"
     ]
    },
    {
     "name": "stderr",
     "output_type": "stream",
     "text": [
      "\r",
      " 81%|████████▏ | 1027/1261 [15:21<03:29,  1.12it/s]"
     ]
    },
    {
     "name": "stdout",
     "output_type": "stream",
     "text": [
      "no. of rectangles found is  20\n",
      "spatial_size  (16, 16)\n",
      "hist  16\n",
      "orient  9\n",
      "ch1.shape[1]  853\n",
      "pix_per_cell  8\n",
      "(ch1.shape[1] // pix_per_cell)  106\n",
      "cell_per_block  2\n",
      "nxblocks  105\n"
     ]
    },
    {
     "name": "stderr",
     "output_type": "stream",
     "text": [
      "\r",
      " 82%|████████▏ | 1028/1261 [15:21<03:28,  1.12it/s]"
     ]
    },
    {
     "name": "stdout",
     "output_type": "stream",
     "text": [
      "no. of rectangles found is  26\n",
      "spatial_size  (16, 16)\n",
      "hist  16\n",
      "orient  9\n",
      "ch1.shape[1]  853\n",
      "pix_per_cell  8\n",
      "(ch1.shape[1] // pix_per_cell)  106\n",
      "cell_per_block  2\n",
      "nxblocks  105\n"
     ]
    },
    {
     "name": "stderr",
     "output_type": "stream",
     "text": [
      "\r",
      " 82%|████████▏ | 1029/1261 [15:22<03:27,  1.12it/s]"
     ]
    },
    {
     "name": "stdout",
     "output_type": "stream",
     "text": [
      "no. of rectangles found is  31\n",
      "spatial_size  (16, 16)\n",
      "hist  16\n",
      "orient  9\n",
      "ch1.shape[1]  853\n",
      "pix_per_cell  8\n",
      "(ch1.shape[1] // pix_per_cell)  106\n",
      "cell_per_block  2\n",
      "nxblocks  105\n"
     ]
    },
    {
     "name": "stderr",
     "output_type": "stream",
     "text": [
      "\r",
      " 82%|████████▏ | 1030/1261 [15:23<03:27,  1.11it/s]"
     ]
    },
    {
     "name": "stdout",
     "output_type": "stream",
     "text": [
      "no. of rectangles found is  44\n",
      "spatial_size  (16, 16)\n",
      "hist  16\n",
      "orient  9\n",
      "ch1.shape[1]  853\n",
      "pix_per_cell  8\n",
      "(ch1.shape[1] // pix_per_cell)  106\n",
      "cell_per_block  2\n",
      "nxblocks  105\n"
     ]
    },
    {
     "name": "stderr",
     "output_type": "stream",
     "text": [
      "\r",
      " 82%|████████▏ | 1031/1261 [15:24<03:25,  1.12it/s]"
     ]
    },
    {
     "name": "stdout",
     "output_type": "stream",
     "text": [
      "no. of rectangles found is  28\n",
      "spatial_size  (16, 16)\n",
      "hist  16\n",
      "orient  9\n",
      "ch1.shape[1]  853\n",
      "pix_per_cell  8\n",
      "(ch1.shape[1] // pix_per_cell)  106\n",
      "cell_per_block  2\n",
      "nxblocks  105\n"
     ]
    },
    {
     "name": "stderr",
     "output_type": "stream",
     "text": [
      "\r",
      " 82%|████████▏ | 1032/1261 [15:25<03:26,  1.11it/s]"
     ]
    },
    {
     "name": "stdout",
     "output_type": "stream",
     "text": [
      "no. of rectangles found is  29\n",
      "spatial_size  (16, 16)\n",
      "hist  16\n",
      "orient  9\n",
      "ch1.shape[1]  853\n",
      "pix_per_cell  8\n",
      "(ch1.shape[1] // pix_per_cell)  106\n",
      "cell_per_block  2\n",
      "nxblocks  105\n"
     ]
    },
    {
     "name": "stderr",
     "output_type": "stream",
     "text": [
      "\r",
      " 82%|████████▏ | 1033/1261 [15:26<03:25,  1.11it/s]"
     ]
    },
    {
     "name": "stdout",
     "output_type": "stream",
     "text": [
      "no. of rectangles found is  25\n",
      "spatial_size  (16, 16)\n",
      "hist  16\n",
      "orient  9\n",
      "ch1.shape[1]  853\n",
      "pix_per_cell  8\n",
      "(ch1.shape[1] // pix_per_cell)  106\n",
      "cell_per_block  2\n",
      "nxblocks  105\n"
     ]
    },
    {
     "name": "stderr",
     "output_type": "stream",
     "text": [
      "\r",
      " 82%|████████▏ | 1034/1261 [15:27<03:24,  1.11it/s]"
     ]
    },
    {
     "name": "stdout",
     "output_type": "stream",
     "text": [
      "no. of rectangles found is  23\n",
      "spatial_size  (16, 16)\n",
      "hist  16\n",
      "orient  9\n",
      "ch1.shape[1]  853\n",
      "pix_per_cell  8\n",
      "(ch1.shape[1] // pix_per_cell)  106\n",
      "cell_per_block  2\n",
      "nxblocks  105\n"
     ]
    },
    {
     "name": "stderr",
     "output_type": "stream",
     "text": [
      "\r",
      " 82%|████████▏ | 1035/1261 [15:28<03:22,  1.11it/s]"
     ]
    },
    {
     "name": "stdout",
     "output_type": "stream",
     "text": [
      "no. of rectangles found is  28\n",
      "spatial_size  (16, 16)\n",
      "hist  16\n",
      "orient  9\n",
      "ch1.shape[1]  853\n",
      "pix_per_cell  8\n",
      "(ch1.shape[1] // pix_per_cell)  106\n",
      "cell_per_block  2\n",
      "nxblocks  105\n"
     ]
    },
    {
     "name": "stderr",
     "output_type": "stream",
     "text": [
      "\r",
      " 82%|████████▏ | 1036/1261 [15:29<03:21,  1.12it/s]"
     ]
    },
    {
     "name": "stdout",
     "output_type": "stream",
     "text": [
      "no. of rectangles found is  41\n",
      "spatial_size  (16, 16)\n",
      "hist  16\n",
      "orient  9\n",
      "ch1.shape[1]  853\n",
      "pix_per_cell  8\n",
      "(ch1.shape[1] // pix_per_cell)  106\n",
      "cell_per_block  2\n",
      "nxblocks  105\n"
     ]
    },
    {
     "name": "stderr",
     "output_type": "stream",
     "text": [
      "\r",
      " 82%|████████▏ | 1037/1261 [15:30<03:21,  1.11it/s]"
     ]
    },
    {
     "name": "stdout",
     "output_type": "stream",
     "text": [
      "no. of rectangles found is  34\n",
      "spatial_size  (16, 16)\n",
      "hist  16\n",
      "orient  9\n",
      "ch1.shape[1]  853\n",
      "pix_per_cell  8\n",
      "(ch1.shape[1] // pix_per_cell)  106\n",
      "cell_per_block  2\n",
      "nxblocks  105\n"
     ]
    },
    {
     "name": "stderr",
     "output_type": "stream",
     "text": [
      "\r",
      " 82%|████████▏ | 1038/1261 [15:30<03:20,  1.11it/s]"
     ]
    },
    {
     "name": "stdout",
     "output_type": "stream",
     "text": [
      "no. of rectangles found is  36\n",
      "spatial_size  (16, 16)\n",
      "hist  16\n",
      "orient  9\n",
      "ch1.shape[1]  853\n",
      "pix_per_cell  8\n",
      "(ch1.shape[1] // pix_per_cell)  106\n",
      "cell_per_block  2\n",
      "nxblocks  105\n"
     ]
    },
    {
     "name": "stderr",
     "output_type": "stream",
     "text": [
      "\r",
      " 82%|████████▏ | 1039/1261 [15:31<03:19,  1.11it/s]"
     ]
    },
    {
     "name": "stdout",
     "output_type": "stream",
     "text": [
      "no. of rectangles found is  47\n",
      "spatial_size  (16, 16)\n",
      "hist  16\n",
      "orient  9\n",
      "ch1.shape[1]  853\n",
      "pix_per_cell  8\n",
      "(ch1.shape[1] // pix_per_cell)  106\n",
      "cell_per_block  2\n",
      "nxblocks  105\n"
     ]
    },
    {
     "name": "stderr",
     "output_type": "stream",
     "text": [
      "\r",
      " 82%|████████▏ | 1040/1261 [15:32<03:18,  1.11it/s]"
     ]
    },
    {
     "name": "stdout",
     "output_type": "stream",
     "text": [
      "no. of rectangles found is  58\n",
      "spatial_size  (16, 16)\n",
      "hist  16\n",
      "orient  9\n",
      "ch1.shape[1]  853\n",
      "pix_per_cell  8\n",
      "(ch1.shape[1] // pix_per_cell)  106\n",
      "cell_per_block  2\n",
      "nxblocks  105\n"
     ]
    },
    {
     "name": "stderr",
     "output_type": "stream",
     "text": [
      "\r",
      " 83%|████████▎ | 1041/1261 [15:33<03:17,  1.12it/s]"
     ]
    },
    {
     "name": "stdout",
     "output_type": "stream",
     "text": [
      "no. of rectangles found is  54\n",
      "spatial_size  (16, 16)\n",
      "hist  16\n",
      "orient  9\n",
      "ch1.shape[1]  853\n",
      "pix_per_cell  8\n",
      "(ch1.shape[1] // pix_per_cell)  106\n",
      "cell_per_block  2\n",
      "nxblocks  105\n"
     ]
    },
    {
     "name": "stderr",
     "output_type": "stream",
     "text": [
      "\r",
      " 83%|████████▎ | 1042/1261 [15:34<03:16,  1.11it/s]"
     ]
    },
    {
     "name": "stdout",
     "output_type": "stream",
     "text": [
      "no. of rectangles found is  64\n",
      "spatial_size  (16, 16)\n",
      "hist  16\n",
      "orient  9\n",
      "ch1.shape[1]  853\n",
      "pix_per_cell  8\n",
      "(ch1.shape[1] // pix_per_cell)  106\n",
      "cell_per_block  2\n",
      "nxblocks  105\n"
     ]
    },
    {
     "name": "stderr",
     "output_type": "stream",
     "text": [
      "\r",
      " 83%|████████▎ | 1043/1261 [15:35<03:15,  1.12it/s]"
     ]
    },
    {
     "name": "stdout",
     "output_type": "stream",
     "text": [
      "no. of rectangles found is  64\n",
      "spatial_size  (16, 16)\n",
      "hist  16\n",
      "orient  9\n",
      "ch1.shape[1]  853\n",
      "pix_per_cell  8\n",
      "(ch1.shape[1] // pix_per_cell)  106\n",
      "cell_per_block  2\n",
      "nxblocks  105\n"
     ]
    },
    {
     "name": "stderr",
     "output_type": "stream",
     "text": [
      "\r",
      " 83%|████████▎ | 1044/1261 [15:36<03:14,  1.11it/s]"
     ]
    },
    {
     "name": "stdout",
     "output_type": "stream",
     "text": [
      "no. of rectangles found is  63\n",
      "spatial_size  (16, 16)\n",
      "hist  16\n",
      "orient  9\n",
      "ch1.shape[1]  853\n",
      "pix_per_cell  8\n",
      "(ch1.shape[1] // pix_per_cell)  106\n",
      "cell_per_block  2\n",
      "nxblocks  105\n"
     ]
    },
    {
     "name": "stderr",
     "output_type": "stream",
     "text": [
      "\r",
      " 83%|████████▎ | 1045/1261 [15:37<03:13,  1.12it/s]"
     ]
    },
    {
     "name": "stdout",
     "output_type": "stream",
     "text": [
      "no. of rectangles found is  49\n",
      "spatial_size  (16, 16)\n",
      "hist  16\n",
      "orient  9\n",
      "ch1.shape[1]  853\n",
      "pix_per_cell  8\n",
      "(ch1.shape[1] // pix_per_cell)  106\n",
      "cell_per_block  2\n",
      "nxblocks  105\n"
     ]
    },
    {
     "name": "stderr",
     "output_type": "stream",
     "text": [
      "\r",
      " 83%|████████▎ | 1046/1261 [15:38<03:11,  1.12it/s]"
     ]
    },
    {
     "name": "stdout",
     "output_type": "stream",
     "text": [
      "no. of rectangles found is  70\n",
      "spatial_size  (16, 16)\n",
      "hist  16\n",
      "orient  9\n",
      "ch1.shape[1]  853\n",
      "pix_per_cell  8\n",
      "(ch1.shape[1] // pix_per_cell)  106\n",
      "cell_per_block  2\n",
      "nxblocks  105\n"
     ]
    },
    {
     "name": "stderr",
     "output_type": "stream",
     "text": [
      "\r",
      " 83%|████████▎ | 1047/1261 [15:38<03:09,  1.13it/s]"
     ]
    },
    {
     "name": "stdout",
     "output_type": "stream",
     "text": [
      "no. of rectangles found is  55\n",
      "spatial_size  (16, 16)\n",
      "hist  16\n",
      "orient  9\n",
      "ch1.shape[1]  853\n",
      "pix_per_cell  8\n",
      "(ch1.shape[1] // pix_per_cell)  106\n",
      "cell_per_block  2\n",
      "nxblocks  105\n"
     ]
    },
    {
     "name": "stderr",
     "output_type": "stream",
     "text": [
      "\r",
      " 83%|████████▎ | 1048/1261 [15:39<03:12,  1.10it/s]"
     ]
    },
    {
     "name": "stdout",
     "output_type": "stream",
     "text": [
      "no. of rectangles found is  46\n",
      "spatial_size  (16, 16)\n",
      "hist  16\n",
      "orient  9\n",
      "ch1.shape[1]  853\n",
      "pix_per_cell  8\n",
      "(ch1.shape[1] // pix_per_cell)  106\n",
      "cell_per_block  2\n",
      "nxblocks  105\n"
     ]
    },
    {
     "name": "stderr",
     "output_type": "stream",
     "text": [
      "\r",
      " 83%|████████▎ | 1049/1261 [15:40<03:12,  1.10it/s]"
     ]
    },
    {
     "name": "stdout",
     "output_type": "stream",
     "text": [
      "no. of rectangles found is  34\n",
      "spatial_size  (16, 16)\n",
      "hist  16\n",
      "orient  9\n",
      "ch1.shape[1]  853\n",
      "pix_per_cell  8\n",
      "(ch1.shape[1] // pix_per_cell)  106\n",
      "cell_per_block  2\n",
      "nxblocks  105\n"
     ]
    },
    {
     "name": "stderr",
     "output_type": "stream",
     "text": [
      "\r",
      " 83%|████████▎ | 1050/1261 [15:41<03:10,  1.10it/s]"
     ]
    },
    {
     "name": "stdout",
     "output_type": "stream",
     "text": [
      "no. of rectangles found is  59\n",
      "spatial_size  (16, 16)\n",
      "hist  16\n",
      "orient  9\n",
      "ch1.shape[1]  853\n",
      "pix_per_cell  8\n",
      "(ch1.shape[1] // pix_per_cell)  106\n",
      "cell_per_block  2\n",
      "nxblocks  105\n"
     ]
    },
    {
     "name": "stderr",
     "output_type": "stream",
     "text": [
      "\r",
      " 83%|████████▎ | 1051/1261 [15:42<03:09,  1.11it/s]"
     ]
    },
    {
     "name": "stdout",
     "output_type": "stream",
     "text": [
      "no. of rectangles found is  50\n",
      "spatial_size  (16, 16)\n",
      "hist  16\n",
      "orient  9\n",
      "ch1.shape[1]  853\n",
      "pix_per_cell  8\n",
      "(ch1.shape[1] // pix_per_cell)  106\n",
      "cell_per_block  2\n",
      "nxblocks  105\n"
     ]
    },
    {
     "name": "stderr",
     "output_type": "stream",
     "text": [
      "\r",
      " 83%|████████▎ | 1052/1261 [15:43<03:12,  1.08it/s]"
     ]
    },
    {
     "name": "stdout",
     "output_type": "stream",
     "text": [
      "no. of rectangles found is  40\n",
      "spatial_size  (16, 16)\n",
      "hist  16\n",
      "orient  9\n",
      "ch1.shape[1]  853\n",
      "pix_per_cell  8\n",
      "(ch1.shape[1] // pix_per_cell)  106\n",
      "cell_per_block  2\n",
      "nxblocks  105\n"
     ]
    },
    {
     "name": "stderr",
     "output_type": "stream",
     "text": [
      "\r",
      " 84%|████████▎ | 1053/1261 [15:44<03:10,  1.09it/s]"
     ]
    },
    {
     "name": "stdout",
     "output_type": "stream",
     "text": [
      "no. of rectangles found is  32\n",
      "spatial_size  (16, 16)\n",
      "hist  16\n",
      "orient  9\n",
      "ch1.shape[1]  853\n",
      "pix_per_cell  8\n",
      "(ch1.shape[1] // pix_per_cell)  106\n",
      "cell_per_block  2\n",
      "nxblocks  105\n"
     ]
    },
    {
     "name": "stderr",
     "output_type": "stream",
     "text": [
      "\r",
      " 84%|████████▎ | 1054/1261 [15:45<03:08,  1.10it/s]"
     ]
    },
    {
     "name": "stdout",
     "output_type": "stream",
     "text": [
      "no. of rectangles found is  35\n",
      "spatial_size  (16, 16)\n",
      "hist  16\n",
      "orient  9\n",
      "ch1.shape[1]  853\n",
      "pix_per_cell  8\n",
      "(ch1.shape[1] // pix_per_cell)  106\n",
      "cell_per_block  2\n",
      "nxblocks  105\n"
     ]
    },
    {
     "name": "stderr",
     "output_type": "stream",
     "text": [
      "\r",
      " 84%|████████▎ | 1055/1261 [15:46<03:05,  1.11it/s]"
     ]
    },
    {
     "name": "stdout",
     "output_type": "stream",
     "text": [
      "no. of rectangles found is  38\n",
      "spatial_size  (16, 16)\n",
      "hist  16\n",
      "orient  9\n",
      "ch1.shape[1]  853\n",
      "pix_per_cell  8\n",
      "(ch1.shape[1] // pix_per_cell)  106\n",
      "cell_per_block  2\n",
      "nxblocks  105\n"
     ]
    },
    {
     "name": "stderr",
     "output_type": "stream",
     "text": [
      "\r",
      " 84%|████████▎ | 1056/1261 [15:47<03:05,  1.11it/s]"
     ]
    },
    {
     "name": "stdout",
     "output_type": "stream",
     "text": [
      "no. of rectangles found is  35\n",
      "spatial_size  (16, 16)\n",
      "hist  16\n",
      "orient  9\n",
      "ch1.shape[1]  853\n",
      "pix_per_cell  8\n",
      "(ch1.shape[1] // pix_per_cell)  106\n",
      "cell_per_block  2\n",
      "nxblocks  105\n"
     ]
    },
    {
     "name": "stderr",
     "output_type": "stream",
     "text": [
      "\r",
      " 84%|████████▍ | 1057/1261 [15:48<03:04,  1.11it/s]"
     ]
    },
    {
     "name": "stdout",
     "output_type": "stream",
     "text": [
      "no. of rectangles found is  30\n",
      "spatial_size  (16, 16)\n",
      "hist  16\n",
      "orient  9\n",
      "ch1.shape[1]  853\n",
      "pix_per_cell  8\n",
      "(ch1.shape[1] // pix_per_cell)  106\n",
      "cell_per_block  2\n",
      "nxblocks  105\n"
     ]
    },
    {
     "name": "stderr",
     "output_type": "stream",
     "text": [
      "\r",
      " 84%|████████▍ | 1058/1261 [15:48<03:05,  1.10it/s]"
     ]
    },
    {
     "name": "stdout",
     "output_type": "stream",
     "text": [
      "no. of rectangles found is  31\n",
      "spatial_size  (16, 16)\n",
      "hist  16\n",
      "orient  9\n",
      "ch1.shape[1]  853\n",
      "pix_per_cell  8\n",
      "(ch1.shape[1] // pix_per_cell)  106\n",
      "cell_per_block  2\n",
      "nxblocks  105\n"
     ]
    },
    {
     "name": "stderr",
     "output_type": "stream",
     "text": [
      "\r",
      " 84%|████████▍ | 1059/1261 [15:49<03:03,  1.10it/s]"
     ]
    },
    {
     "name": "stdout",
     "output_type": "stream",
     "text": [
      "no. of rectangles found is  17\n",
      "spatial_size  (16, 16)\n",
      "hist  16\n",
      "orient  9\n",
      "ch1.shape[1]  853\n",
      "pix_per_cell  8\n",
      "(ch1.shape[1] // pix_per_cell)  106\n",
      "cell_per_block  2\n",
      "nxblocks  105\n"
     ]
    },
    {
     "name": "stderr",
     "output_type": "stream",
     "text": [
      "\r",
      " 84%|████████▍ | 1060/1261 [15:50<03:02,  1.10it/s]"
     ]
    },
    {
     "name": "stdout",
     "output_type": "stream",
     "text": [
      "no. of rectangles found is  17\n",
      "spatial_size  (16, 16)\n",
      "hist  16\n",
      "orient  9\n",
      "ch1.shape[1]  853\n",
      "pix_per_cell  8\n",
      "(ch1.shape[1] // pix_per_cell)  106\n",
      "cell_per_block  2\n",
      "nxblocks  105\n"
     ]
    },
    {
     "name": "stderr",
     "output_type": "stream",
     "text": [
      "\r",
      " 84%|████████▍ | 1061/1261 [15:51<03:01,  1.10it/s]"
     ]
    },
    {
     "name": "stdout",
     "output_type": "stream",
     "text": [
      "no. of rectangles found is  20\n",
      "spatial_size  (16, 16)\n",
      "hist  16\n",
      "orient  9\n",
      "ch1.shape[1]  853\n",
      "pix_per_cell  8\n",
      "(ch1.shape[1] // pix_per_cell)  106\n",
      "cell_per_block  2\n",
      "nxblocks  105\n"
     ]
    },
    {
     "name": "stderr",
     "output_type": "stream",
     "text": [
      "\r",
      " 84%|████████▍ | 1062/1261 [15:52<03:00,  1.10it/s]"
     ]
    },
    {
     "name": "stdout",
     "output_type": "stream",
     "text": [
      "no. of rectangles found is  20\n",
      "spatial_size  (16, 16)\n",
      "hist  16\n",
      "orient  9\n",
      "ch1.shape[1]  853\n",
      "pix_per_cell  8\n",
      "(ch1.shape[1] // pix_per_cell)  106\n",
      "cell_per_block  2\n",
      "nxblocks  105\n"
     ]
    },
    {
     "name": "stderr",
     "output_type": "stream",
     "text": [
      "\r",
      " 84%|████████▍ | 1063/1261 [15:53<02:57,  1.11it/s]"
     ]
    },
    {
     "name": "stdout",
     "output_type": "stream",
     "text": [
      "no. of rectangles found is  16\n",
      "spatial_size  (16, 16)\n",
      "hist  16\n",
      "orient  9\n",
      "ch1.shape[1]  853\n",
      "pix_per_cell  8\n",
      "(ch1.shape[1] // pix_per_cell)  106\n",
      "cell_per_block  2\n",
      "nxblocks  105\n"
     ]
    },
    {
     "name": "stderr",
     "output_type": "stream",
     "text": [
      "\r",
      " 84%|████████▍ | 1064/1261 [15:54<02:56,  1.11it/s]"
     ]
    },
    {
     "name": "stdout",
     "output_type": "stream",
     "text": [
      "no. of rectangles found is  20\n",
      "spatial_size  (16, 16)\n",
      "hist  16\n",
      "orient  9\n",
      "ch1.shape[1]  853\n",
      "pix_per_cell  8\n",
      "(ch1.shape[1] // pix_per_cell)  106\n",
      "cell_per_block  2\n",
      "nxblocks  105\n"
     ]
    },
    {
     "name": "stderr",
     "output_type": "stream",
     "text": [
      "\r",
      " 84%|████████▍ | 1065/1261 [15:55<02:56,  1.11it/s]"
     ]
    },
    {
     "name": "stdout",
     "output_type": "stream",
     "text": [
      "no. of rectangles found is  24\n",
      "spatial_size  (16, 16)\n",
      "hist  16\n",
      "orient  9\n",
      "ch1.shape[1]  853\n",
      "pix_per_cell  8\n",
      "(ch1.shape[1] // pix_per_cell)  106\n",
      "cell_per_block  2\n",
      "nxblocks  105\n"
     ]
    },
    {
     "name": "stderr",
     "output_type": "stream",
     "text": [
      "\r",
      " 85%|████████▍ | 1066/1261 [15:56<02:56,  1.10it/s]"
     ]
    },
    {
     "name": "stdout",
     "output_type": "stream",
     "text": [
      "no. of rectangles found is  16\n",
      "spatial_size  (16, 16)\n",
      "hist  16\n",
      "orient  9\n",
      "ch1.shape[1]  853\n",
      "pix_per_cell  8\n",
      "(ch1.shape[1] // pix_per_cell)  106\n",
      "cell_per_block  2\n",
      "nxblocks  105\n"
     ]
    },
    {
     "name": "stderr",
     "output_type": "stream",
     "text": [
      "\r",
      " 85%|████████▍ | 1067/1261 [15:57<02:55,  1.10it/s]"
     ]
    },
    {
     "name": "stdout",
     "output_type": "stream",
     "text": [
      "no. of rectangles found is  20\n",
      "spatial_size  (16, 16)\n",
      "hist  16\n",
      "orient  9\n",
      "ch1.shape[1]  853\n",
      "pix_per_cell  8\n",
      "(ch1.shape[1] // pix_per_cell)  106\n",
      "cell_per_block  2\n",
      "nxblocks  105\n"
     ]
    },
    {
     "name": "stderr",
     "output_type": "stream",
     "text": [
      "\r",
      " 85%|████████▍ | 1068/1261 [15:57<02:53,  1.11it/s]"
     ]
    },
    {
     "name": "stdout",
     "output_type": "stream",
     "text": [
      "no. of rectangles found is  27\n",
      "spatial_size  (16, 16)\n",
      "hist  16\n",
      "orient  9\n",
      "ch1.shape[1]  853\n",
      "pix_per_cell  8\n",
      "(ch1.shape[1] // pix_per_cell)  106\n",
      "cell_per_block  2\n",
      "nxblocks  105\n"
     ]
    },
    {
     "name": "stderr",
     "output_type": "stream",
     "text": [
      "\r",
      " 85%|████████▍ | 1069/1261 [15:58<02:51,  1.12it/s]"
     ]
    },
    {
     "name": "stdout",
     "output_type": "stream",
     "text": [
      "no. of rectangles found is  25\n",
      "spatial_size  (16, 16)\n",
      "hist  16\n",
      "orient  9\n",
      "ch1.shape[1]  853\n",
      "pix_per_cell  8\n",
      "(ch1.shape[1] // pix_per_cell)  106\n",
      "cell_per_block  2\n",
      "nxblocks  105\n"
     ]
    },
    {
     "name": "stderr",
     "output_type": "stream",
     "text": [
      "\r",
      " 85%|████████▍ | 1070/1261 [15:59<02:50,  1.12it/s]"
     ]
    },
    {
     "name": "stdout",
     "output_type": "stream",
     "text": [
      "no. of rectangles found is  33\n",
      "spatial_size  (16, 16)\n",
      "hist  16\n",
      "orient  9\n",
      "ch1.shape[1]  853\n",
      "pix_per_cell  8\n",
      "(ch1.shape[1] // pix_per_cell)  106\n",
      "cell_per_block  2\n",
      "nxblocks  105\n"
     ]
    },
    {
     "name": "stderr",
     "output_type": "stream",
     "text": [
      "\r",
      " 85%|████████▍ | 1071/1261 [16:00<02:49,  1.12it/s]"
     ]
    },
    {
     "name": "stdout",
     "output_type": "stream",
     "text": [
      "no. of rectangles found is  30\n",
      "spatial_size  (16, 16)\n",
      "hist  16\n",
      "orient  9\n",
      "ch1.shape[1]  853\n",
      "pix_per_cell  8\n",
      "(ch1.shape[1] // pix_per_cell)  106\n",
      "cell_per_block  2\n",
      "nxblocks  105\n"
     ]
    },
    {
     "name": "stderr",
     "output_type": "stream",
     "text": [
      "\r",
      " 85%|████████▌ | 1072/1261 [16:01<02:49,  1.11it/s]"
     ]
    },
    {
     "name": "stdout",
     "output_type": "stream",
     "text": [
      "no. of rectangles found is  31\n",
      "spatial_size  (16, 16)\n",
      "hist  16\n",
      "orient  9\n",
      "ch1.shape[1]  853\n",
      "pix_per_cell  8\n",
      "(ch1.shape[1] // pix_per_cell)  106\n",
      "cell_per_block  2\n",
      "nxblocks  105\n"
     ]
    },
    {
     "name": "stderr",
     "output_type": "stream",
     "text": [
      "\r",
      " 85%|████████▌ | 1073/1261 [16:02<02:48,  1.12it/s]"
     ]
    },
    {
     "name": "stdout",
     "output_type": "stream",
     "text": [
      "no. of rectangles found is  23\n",
      "spatial_size  (16, 16)\n",
      "hist  16\n",
      "orient  9\n",
      "ch1.shape[1]  853\n",
      "pix_per_cell  8\n",
      "(ch1.shape[1] // pix_per_cell)  106\n",
      "cell_per_block  2\n",
      "nxblocks  105\n"
     ]
    },
    {
     "name": "stderr",
     "output_type": "stream",
     "text": [
      "\r",
      " 85%|████████▌ | 1074/1261 [16:03<02:48,  1.11it/s]"
     ]
    },
    {
     "name": "stdout",
     "output_type": "stream",
     "text": [
      "no. of rectangles found is  25\n",
      "spatial_size  (16, 16)\n",
      "hist  16\n",
      "orient  9\n",
      "ch1.shape[1]  853\n",
      "pix_per_cell  8\n",
      "(ch1.shape[1] // pix_per_cell)  106\n",
      "cell_per_block  2\n",
      "nxblocks  105\n"
     ]
    },
    {
     "name": "stderr",
     "output_type": "stream",
     "text": [
      "\r",
      " 85%|████████▌ | 1075/1261 [16:04<02:47,  1.11it/s]"
     ]
    },
    {
     "name": "stdout",
     "output_type": "stream",
     "text": [
      "no. of rectangles found is  27\n",
      "spatial_size  (16, 16)\n",
      "hist  16\n",
      "orient  9\n",
      "ch1.shape[1]  853\n",
      "pix_per_cell  8\n",
      "(ch1.shape[1] // pix_per_cell)  106\n",
      "cell_per_block  2\n",
      "nxblocks  105\n"
     ]
    },
    {
     "name": "stderr",
     "output_type": "stream",
     "text": [
      "\r",
      " 85%|████████▌ | 1076/1261 [16:05<02:46,  1.11it/s]"
     ]
    },
    {
     "name": "stdout",
     "output_type": "stream",
     "text": [
      "no. of rectangles found is  14\n",
      "spatial_size  (16, 16)\n",
      "hist  16\n",
      "orient  9\n",
      "ch1.shape[1]  853\n",
      "pix_per_cell  8\n",
      "(ch1.shape[1] // pix_per_cell)  106\n",
      "cell_per_block  2\n",
      "nxblocks  105\n"
     ]
    },
    {
     "name": "stderr",
     "output_type": "stream",
     "text": [
      "\r",
      " 85%|████████▌ | 1077/1261 [16:06<02:49,  1.09it/s]"
     ]
    },
    {
     "name": "stdout",
     "output_type": "stream",
     "text": [
      "no. of rectangles found is  25\n",
      "spatial_size  (16, 16)\n",
      "hist  16\n",
      "orient  9\n",
      "ch1.shape[1]  853\n",
      "pix_per_cell  8\n",
      "(ch1.shape[1] // pix_per_cell)  106\n",
      "cell_per_block  2\n",
      "nxblocks  105\n"
     ]
    },
    {
     "name": "stderr",
     "output_type": "stream",
     "text": [
      "\r",
      " 85%|████████▌ | 1078/1261 [16:07<02:49,  1.08it/s]"
     ]
    },
    {
     "name": "stdout",
     "output_type": "stream",
     "text": [
      "no. of rectangles found is  13\n",
      "spatial_size  (16, 16)\n",
      "hist  16\n",
      "orient  9\n",
      "ch1.shape[1]  853\n",
      "pix_per_cell  8\n",
      "(ch1.shape[1] // pix_per_cell)  106\n",
      "cell_per_block  2\n",
      "nxblocks  105\n"
     ]
    },
    {
     "name": "stderr",
     "output_type": "stream",
     "text": [
      "\r",
      " 86%|████████▌ | 1079/1261 [16:07<02:47,  1.09it/s]"
     ]
    },
    {
     "name": "stdout",
     "output_type": "stream",
     "text": [
      "no. of rectangles found is  18\n",
      "spatial_size  (16, 16)\n",
      "hist  16\n",
      "orient  9\n",
      "ch1.shape[1]  853\n",
      "pix_per_cell  8\n",
      "(ch1.shape[1] // pix_per_cell)  106\n",
      "cell_per_block  2\n",
      "nxblocks  105\n"
     ]
    },
    {
     "name": "stderr",
     "output_type": "stream",
     "text": [
      "\r",
      " 86%|████████▌ | 1080/1261 [16:08<02:45,  1.09it/s]"
     ]
    },
    {
     "name": "stdout",
     "output_type": "stream",
     "text": [
      "no. of rectangles found is  24\n",
      "spatial_size  (16, 16)\n",
      "hist  16\n",
      "orient  9\n",
      "ch1.shape[1]  853\n",
      "pix_per_cell  8\n",
      "(ch1.shape[1] // pix_per_cell)  106\n",
      "cell_per_block  2\n",
      "nxblocks  105\n"
     ]
    },
    {
     "name": "stderr",
     "output_type": "stream",
     "text": [
      "\r",
      " 86%|████████▌ | 1081/1261 [16:09<02:43,  1.10it/s]"
     ]
    },
    {
     "name": "stdout",
     "output_type": "stream",
     "text": [
      "no. of rectangles found is  24\n",
      "spatial_size  (16, 16)\n",
      "hist  16\n",
      "orient  9\n",
      "ch1.shape[1]  853\n",
      "pix_per_cell  8\n",
      "(ch1.shape[1] // pix_per_cell)  106\n",
      "cell_per_block  2\n",
      "nxblocks  105\n"
     ]
    },
    {
     "name": "stderr",
     "output_type": "stream",
     "text": [
      "\r",
      " 86%|████████▌ | 1082/1261 [16:10<02:41,  1.11it/s]"
     ]
    },
    {
     "name": "stdout",
     "output_type": "stream",
     "text": [
      "no. of rectangles found is  26\n",
      "spatial_size  (16, 16)\n",
      "hist  16\n",
      "orient  9\n",
      "ch1.shape[1]  853\n",
      "pix_per_cell  8\n",
      "(ch1.shape[1] // pix_per_cell)  106\n",
      "cell_per_block  2\n",
      "nxblocks  105\n"
     ]
    },
    {
     "name": "stderr",
     "output_type": "stream",
     "text": [
      "\r",
      " 86%|████████▌ | 1083/1261 [16:11<02:41,  1.11it/s]"
     ]
    },
    {
     "name": "stdout",
     "output_type": "stream",
     "text": [
      "no. of rectangles found is  18\n",
      "spatial_size  (16, 16)\n",
      "hist  16\n",
      "orient  9\n",
      "ch1.shape[1]  853\n",
      "pix_per_cell  8\n",
      "(ch1.shape[1] // pix_per_cell)  106\n",
      "cell_per_block  2\n",
      "nxblocks  105\n"
     ]
    },
    {
     "name": "stderr",
     "output_type": "stream",
     "text": [
      "\r",
      " 86%|████████▌ | 1084/1261 [16:12<02:41,  1.10it/s]"
     ]
    },
    {
     "name": "stdout",
     "output_type": "stream",
     "text": [
      "no. of rectangles found is  26\n",
      "spatial_size  (16, 16)\n",
      "hist  16\n",
      "orient  9\n",
      "ch1.shape[1]  853\n",
      "pix_per_cell  8\n",
      "(ch1.shape[1] // pix_per_cell)  106\n",
      "cell_per_block  2\n",
      "nxblocks  105\n"
     ]
    },
    {
     "name": "stderr",
     "output_type": "stream",
     "text": [
      "\r",
      " 86%|████████▌ | 1085/1261 [16:13<02:44,  1.07it/s]"
     ]
    },
    {
     "name": "stdout",
     "output_type": "stream",
     "text": [
      "no. of rectangles found is  26\n",
      "spatial_size  (16, 16)\n",
      "hist  16\n",
      "orient  9\n",
      "ch1.shape[1]  853\n",
      "pix_per_cell  8\n",
      "(ch1.shape[1] // pix_per_cell)  106\n",
      "cell_per_block  2\n",
      "nxblocks  105\n"
     ]
    },
    {
     "name": "stderr",
     "output_type": "stream",
     "text": [
      "\r",
      " 86%|████████▌ | 1086/1261 [16:14<02:42,  1.08it/s]"
     ]
    },
    {
     "name": "stdout",
     "output_type": "stream",
     "text": [
      "no. of rectangles found is  28\n",
      "spatial_size  (16, 16)\n",
      "hist  16\n",
      "orient  9\n",
      "ch1.shape[1]  853\n",
      "pix_per_cell  8\n",
      "(ch1.shape[1] // pix_per_cell)  106\n",
      "cell_per_block  2\n",
      "nxblocks  105\n"
     ]
    },
    {
     "name": "stderr",
     "output_type": "stream",
     "text": [
      "\r",
      " 86%|████████▌ | 1087/1261 [16:15<02:40,  1.09it/s]"
     ]
    },
    {
     "name": "stdout",
     "output_type": "stream",
     "text": [
      "no. of rectangles found is  19\n",
      "spatial_size  (16, 16)\n",
      "hist  16\n",
      "orient  9\n",
      "ch1.shape[1]  853\n",
      "pix_per_cell  8\n",
      "(ch1.shape[1] // pix_per_cell)  106\n",
      "cell_per_block  2\n",
      "nxblocks  105\n"
     ]
    },
    {
     "name": "stderr",
     "output_type": "stream",
     "text": [
      "\r",
      " 86%|████████▋ | 1088/1261 [16:16<02:38,  1.09it/s]"
     ]
    },
    {
     "name": "stdout",
     "output_type": "stream",
     "text": [
      "no. of rectangles found is  24\n",
      "spatial_size  (16, 16)\n",
      "hist  16\n",
      "orient  9\n",
      "ch1.shape[1]  853\n",
      "pix_per_cell  8\n",
      "(ch1.shape[1] // pix_per_cell)  106\n",
      "cell_per_block  2\n",
      "nxblocks  105\n"
     ]
    },
    {
     "name": "stderr",
     "output_type": "stream",
     "text": [
      "\r",
      " 86%|████████▋ | 1089/1261 [16:17<02:37,  1.09it/s]"
     ]
    },
    {
     "name": "stdout",
     "output_type": "stream",
     "text": [
      "no. of rectangles found is  27\n",
      "spatial_size  (16, 16)\n",
      "hist  16\n",
      "orient  9\n",
      "ch1.shape[1]  853\n",
      "pix_per_cell  8\n",
      "(ch1.shape[1] // pix_per_cell)  106\n",
      "cell_per_block  2\n",
      "nxblocks  105\n"
     ]
    },
    {
     "name": "stderr",
     "output_type": "stream",
     "text": [
      "\r",
      " 86%|████████▋ | 1090/1261 [16:18<02:34,  1.10it/s]"
     ]
    },
    {
     "name": "stdout",
     "output_type": "stream",
     "text": [
      "no. of rectangles found is  17\n",
      "spatial_size  (16, 16)\n",
      "hist  16\n",
      "orient  9\n",
      "ch1.shape[1]  853\n",
      "pix_per_cell  8\n",
      "(ch1.shape[1] // pix_per_cell)  106\n",
      "cell_per_block  2\n",
      "nxblocks  105\n"
     ]
    },
    {
     "name": "stderr",
     "output_type": "stream",
     "text": [
      "\r",
      " 87%|████████▋ | 1091/1261 [16:18<02:32,  1.11it/s]"
     ]
    },
    {
     "name": "stdout",
     "output_type": "stream",
     "text": [
      "no. of rectangles found is  18\n",
      "spatial_size  (16, 16)\n",
      "hist  16\n",
      "orient  9\n",
      "ch1.shape[1]  853\n",
      "pix_per_cell  8\n",
      "(ch1.shape[1] // pix_per_cell)  106\n",
      "cell_per_block  2\n",
      "nxblocks  105\n"
     ]
    },
    {
     "name": "stderr",
     "output_type": "stream",
     "text": [
      "\r",
      " 87%|████████▋ | 1092/1261 [16:19<02:32,  1.11it/s]"
     ]
    },
    {
     "name": "stdout",
     "output_type": "stream",
     "text": [
      "no. of rectangles found is  20\n",
      "spatial_size  (16, 16)\n",
      "hist  16\n",
      "orient  9\n",
      "ch1.shape[1]  853\n",
      "pix_per_cell  8\n",
      "(ch1.shape[1] // pix_per_cell)  106\n",
      "cell_per_block  2\n",
      "nxblocks  105\n"
     ]
    },
    {
     "name": "stderr",
     "output_type": "stream",
     "text": [
      "\r",
      " 87%|████████▋ | 1093/1261 [16:20<02:30,  1.11it/s]"
     ]
    },
    {
     "name": "stdout",
     "output_type": "stream",
     "text": [
      "no. of rectangles found is  25\n",
      "spatial_size  (16, 16)\n",
      "hist  16\n",
      "orient  9\n",
      "ch1.shape[1]  853\n",
      "pix_per_cell  8\n",
      "(ch1.shape[1] // pix_per_cell)  106\n",
      "cell_per_block  2\n",
      "nxblocks  105\n"
     ]
    },
    {
     "name": "stderr",
     "output_type": "stream",
     "text": [
      "\r",
      " 87%|████████▋ | 1094/1261 [16:21<02:29,  1.12it/s]"
     ]
    },
    {
     "name": "stdout",
     "output_type": "stream",
     "text": [
      "no. of rectangles found is  19\n",
      "spatial_size  (16, 16)\n",
      "hist  16\n",
      "orient  9\n",
      "ch1.shape[1]  853\n",
      "pix_per_cell  8\n",
      "(ch1.shape[1] // pix_per_cell)  106\n",
      "cell_per_block  2\n",
      "nxblocks  105\n"
     ]
    },
    {
     "name": "stderr",
     "output_type": "stream",
     "text": [
      "\r",
      " 87%|████████▋ | 1095/1261 [16:22<02:28,  1.12it/s]"
     ]
    },
    {
     "name": "stdout",
     "output_type": "stream",
     "text": [
      "no. of rectangles found is  22\n",
      "spatial_size  (16, 16)\n",
      "hist  16\n",
      "orient  9\n",
      "ch1.shape[1]  853\n",
      "pix_per_cell  8\n",
      "(ch1.shape[1] // pix_per_cell)  106\n",
      "cell_per_block  2\n",
      "nxblocks  105\n"
     ]
    },
    {
     "name": "stderr",
     "output_type": "stream",
     "text": [
      "\r",
      " 87%|████████▋ | 1096/1261 [16:23<02:27,  1.12it/s]"
     ]
    },
    {
     "name": "stdout",
     "output_type": "stream",
     "text": [
      "no. of rectangles found is  24\n",
      "spatial_size  (16, 16)\n",
      "hist  16\n",
      "orient  9\n",
      "ch1.shape[1]  853\n",
      "pix_per_cell  8\n",
      "(ch1.shape[1] // pix_per_cell)  106\n",
      "cell_per_block  2\n",
      "nxblocks  105\n"
     ]
    },
    {
     "name": "stderr",
     "output_type": "stream",
     "text": [
      "\r",
      " 87%|████████▋ | 1097/1261 [16:24<02:26,  1.12it/s]"
     ]
    },
    {
     "name": "stdout",
     "output_type": "stream",
     "text": [
      "no. of rectangles found is  14\n",
      "spatial_size  (16, 16)\n",
      "hist  16\n",
      "orient  9\n",
      "ch1.shape[1]  853\n",
      "pix_per_cell  8\n",
      "(ch1.shape[1] // pix_per_cell)  106\n",
      "cell_per_block  2\n",
      "nxblocks  105\n"
     ]
    },
    {
     "name": "stderr",
     "output_type": "stream",
     "text": [
      "\r",
      " 87%|████████▋ | 1098/1261 [16:25<02:26,  1.11it/s]"
     ]
    },
    {
     "name": "stdout",
     "output_type": "stream",
     "text": [
      "no. of rectangles found is  26\n",
      "spatial_size  (16, 16)\n",
      "hist  16\n",
      "orient  9\n",
      "ch1.shape[1]  853\n",
      "pix_per_cell  8\n",
      "(ch1.shape[1] // pix_per_cell)  106\n",
      "cell_per_block  2\n",
      "nxblocks  105\n"
     ]
    },
    {
     "name": "stderr",
     "output_type": "stream",
     "text": [
      "\r",
      " 87%|████████▋ | 1099/1261 [16:26<02:25,  1.11it/s]"
     ]
    },
    {
     "name": "stdout",
     "output_type": "stream",
     "text": [
      "no. of rectangles found is  24\n",
      "spatial_size  (16, 16)\n",
      "hist  16\n",
      "orient  9\n",
      "ch1.shape[1]  853\n",
      "pix_per_cell  8\n",
      "(ch1.shape[1] // pix_per_cell)  106\n",
      "cell_per_block  2\n",
      "nxblocks  105\n"
     ]
    },
    {
     "name": "stderr",
     "output_type": "stream",
     "text": [
      "\r",
      " 87%|████████▋ | 1100/1261 [16:26<02:25,  1.11it/s]"
     ]
    },
    {
     "name": "stdout",
     "output_type": "stream",
     "text": [
      "no. of rectangles found is  26\n",
      "spatial_size  (16, 16)\n",
      "hist  16\n",
      "orient  9\n",
      "ch1.shape[1]  853\n",
      "pix_per_cell  8\n",
      "(ch1.shape[1] // pix_per_cell)  106\n",
      "cell_per_block  2\n",
      "nxblocks  105\n"
     ]
    },
    {
     "name": "stderr",
     "output_type": "stream",
     "text": [
      "\r",
      " 87%|████████▋ | 1101/1261 [16:27<02:24,  1.11it/s]"
     ]
    },
    {
     "name": "stdout",
     "output_type": "stream",
     "text": [
      "no. of rectangles found is  20\n",
      "spatial_size  (16, 16)\n",
      "hist  16\n",
      "orient  9\n",
      "ch1.shape[1]  853\n",
      "pix_per_cell  8\n",
      "(ch1.shape[1] // pix_per_cell)  106\n",
      "cell_per_block  2\n",
      "nxblocks  105\n"
     ]
    },
    {
     "name": "stderr",
     "output_type": "stream",
     "text": [
      "\r",
      " 87%|████████▋ | 1102/1261 [16:28<02:24,  1.10it/s]"
     ]
    },
    {
     "name": "stdout",
     "output_type": "stream",
     "text": [
      "no. of rectangles found is  30\n",
      "spatial_size  (16, 16)\n",
      "hist  16\n",
      "orient  9\n",
      "ch1.shape[1]  853\n",
      "pix_per_cell  8\n",
      "(ch1.shape[1] // pix_per_cell)  106\n",
      "cell_per_block  2\n",
      "nxblocks  105\n"
     ]
    },
    {
     "name": "stderr",
     "output_type": "stream",
     "text": [
      "\r",
      " 87%|████████▋ | 1103/1261 [16:29<02:25,  1.09it/s]"
     ]
    },
    {
     "name": "stdout",
     "output_type": "stream",
     "text": [
      "no. of rectangles found is  33\n",
      "spatial_size  (16, 16)\n",
      "hist  16\n",
      "orient  9\n",
      "ch1.shape[1]  853\n",
      "pix_per_cell  8\n",
      "(ch1.shape[1] // pix_per_cell)  106\n",
      "cell_per_block  2\n",
      "nxblocks  105\n"
     ]
    },
    {
     "name": "stderr",
     "output_type": "stream",
     "text": [
      "\r",
      " 88%|████████▊ | 1104/1261 [16:30<02:22,  1.10it/s]"
     ]
    },
    {
     "name": "stdout",
     "output_type": "stream",
     "text": [
      "no. of rectangles found is  24\n",
      "spatial_size  (16, 16)\n",
      "hist  16\n",
      "orient  9\n",
      "ch1.shape[1]  853\n",
      "pix_per_cell  8\n",
      "(ch1.shape[1] // pix_per_cell)  106\n",
      "cell_per_block  2\n",
      "nxblocks  105\n"
     ]
    },
    {
     "name": "stderr",
     "output_type": "stream",
     "text": [
      "\r",
      " 88%|████████▊ | 1105/1261 [16:31<02:20,  1.11it/s]"
     ]
    },
    {
     "name": "stdout",
     "output_type": "stream",
     "text": [
      "no. of rectangles found is  26\n",
      "spatial_size  (16, 16)\n",
      "hist  16\n",
      "orient  9\n",
      "ch1.shape[1]  853\n",
      "pix_per_cell  8\n",
      "(ch1.shape[1] // pix_per_cell)  106\n",
      "cell_per_block  2\n",
      "nxblocks  105\n"
     ]
    },
    {
     "name": "stderr",
     "output_type": "stream",
     "text": [
      "\r",
      " 88%|████████▊ | 1106/1261 [16:32<02:20,  1.11it/s]"
     ]
    },
    {
     "name": "stdout",
     "output_type": "stream",
     "text": [
      "no. of rectangles found is  13\n",
      "spatial_size  (16, 16)\n",
      "hist  16\n",
      "orient  9\n",
      "ch1.shape[1]  853\n",
      "pix_per_cell  8\n",
      "(ch1.shape[1] // pix_per_cell)  106\n",
      "cell_per_block  2\n",
      "nxblocks  105\n"
     ]
    },
    {
     "name": "stderr",
     "output_type": "stream",
     "text": [
      "\r",
      " 88%|████████▊ | 1107/1261 [16:33<02:18,  1.11it/s]"
     ]
    },
    {
     "name": "stdout",
     "output_type": "stream",
     "text": [
      "no. of rectangles found is  17\n",
      "spatial_size  (16, 16)\n",
      "hist  16\n",
      "orient  9\n",
      "ch1.shape[1]  853\n",
      "pix_per_cell  8\n",
      "(ch1.shape[1] // pix_per_cell)  106\n",
      "cell_per_block  2\n",
      "nxblocks  105\n"
     ]
    },
    {
     "name": "stderr",
     "output_type": "stream",
     "text": [
      "\r",
      " 88%|████████▊ | 1108/1261 [16:34<02:17,  1.11it/s]"
     ]
    },
    {
     "name": "stdout",
     "output_type": "stream",
     "text": [
      "no. of rectangles found is  24\n",
      "spatial_size  (16, 16)\n",
      "hist  16\n",
      "orient  9\n",
      "ch1.shape[1]  853\n",
      "pix_per_cell  8\n",
      "(ch1.shape[1] // pix_per_cell)  106\n",
      "cell_per_block  2\n",
      "nxblocks  105\n"
     ]
    },
    {
     "name": "stderr",
     "output_type": "stream",
     "text": [
      "\r",
      " 88%|████████▊ | 1109/1261 [16:35<02:16,  1.11it/s]"
     ]
    },
    {
     "name": "stdout",
     "output_type": "stream",
     "text": [
      "no. of rectangles found is  14\n",
      "spatial_size  (16, 16)\n",
      "hist  16\n",
      "orient  9\n",
      "ch1.shape[1]  853\n",
      "pix_per_cell  8\n",
      "(ch1.shape[1] // pix_per_cell)  106\n",
      "cell_per_block  2\n",
      "nxblocks  105\n"
     ]
    },
    {
     "name": "stderr",
     "output_type": "stream",
     "text": [
      "\r",
      " 88%|████████▊ | 1110/1261 [16:35<02:15,  1.12it/s]"
     ]
    },
    {
     "name": "stdout",
     "output_type": "stream",
     "text": [
      "no. of rectangles found is  22\n",
      "spatial_size  (16, 16)\n",
      "hist  16\n",
      "orient  9\n",
      "ch1.shape[1]  853\n",
      "pix_per_cell  8\n",
      "(ch1.shape[1] // pix_per_cell)  106\n",
      "cell_per_block  2\n",
      "nxblocks  105\n"
     ]
    },
    {
     "name": "stderr",
     "output_type": "stream",
     "text": [
      "\r",
      " 88%|████████▊ | 1111/1261 [16:36<02:13,  1.13it/s]"
     ]
    },
    {
     "name": "stdout",
     "output_type": "stream",
     "text": [
      "no. of rectangles found is  5\n",
      "spatial_size  (16, 16)\n",
      "hist  16\n",
      "orient  9\n",
      "ch1.shape[1]  853\n",
      "pix_per_cell  8\n",
      "(ch1.shape[1] // pix_per_cell)  106\n",
      "cell_per_block  2\n",
      "nxblocks  105\n"
     ]
    },
    {
     "name": "stderr",
     "output_type": "stream",
     "text": [
      "\r",
      " 88%|████████▊ | 1112/1261 [16:37<02:12,  1.12it/s]"
     ]
    },
    {
     "name": "stdout",
     "output_type": "stream",
     "text": [
      "no. of rectangles found is  13\n",
      "spatial_size  (16, 16)\n",
      "hist  16\n",
      "orient  9\n",
      "ch1.shape[1]  853\n",
      "pix_per_cell  8\n",
      "(ch1.shape[1] // pix_per_cell)  106\n",
      "cell_per_block  2\n",
      "nxblocks  105\n"
     ]
    },
    {
     "name": "stderr",
     "output_type": "stream",
     "text": [
      "\r",
      " 88%|████████▊ | 1113/1261 [16:38<02:12,  1.12it/s]"
     ]
    },
    {
     "name": "stdout",
     "output_type": "stream",
     "text": [
      "no. of rectangles found is  16\n",
      "spatial_size  (16, 16)\n",
      "hist  16\n",
      "orient  9\n",
      "ch1.shape[1]  853\n",
      "pix_per_cell  8\n",
      "(ch1.shape[1] // pix_per_cell)  106\n",
      "cell_per_block  2\n",
      "nxblocks  105\n"
     ]
    },
    {
     "name": "stderr",
     "output_type": "stream",
     "text": [
      "\r",
      " 88%|████████▊ | 1114/1261 [16:39<02:11,  1.12it/s]"
     ]
    },
    {
     "name": "stdout",
     "output_type": "stream",
     "text": [
      "no. of rectangles found is  15\n",
      "spatial_size  (16, 16)\n",
      "hist  16\n",
      "orient  9\n",
      "ch1.shape[1]  853\n",
      "pix_per_cell  8\n",
      "(ch1.shape[1] // pix_per_cell)  106\n",
      "cell_per_block  2\n",
      "nxblocks  105\n"
     ]
    },
    {
     "name": "stderr",
     "output_type": "stream",
     "text": [
      "\r",
      " 88%|████████▊ | 1115/1261 [16:40<02:10,  1.12it/s]"
     ]
    },
    {
     "name": "stdout",
     "output_type": "stream",
     "text": [
      "no. of rectangles found is  18\n",
      "spatial_size  (16, 16)\n",
      "hist  16\n",
      "orient  9\n",
      "ch1.shape[1]  853\n",
      "pix_per_cell  8\n",
      "(ch1.shape[1] // pix_per_cell)  106\n",
      "cell_per_block  2\n",
      "nxblocks  105\n"
     ]
    },
    {
     "name": "stderr",
     "output_type": "stream",
     "text": [
      "\r",
      " 89%|████████▊ | 1116/1261 [16:41<02:08,  1.12it/s]"
     ]
    },
    {
     "name": "stdout",
     "output_type": "stream",
     "text": [
      "no. of rectangles found is  17\n",
      "spatial_size  (16, 16)\n",
      "hist  16\n",
      "orient  9\n",
      "ch1.shape[1]  853\n",
      "pix_per_cell  8\n",
      "(ch1.shape[1] // pix_per_cell)  106\n",
      "cell_per_block  2\n",
      "nxblocks  105\n"
     ]
    },
    {
     "name": "stderr",
     "output_type": "stream",
     "text": [
      "\r",
      " 89%|████████▊ | 1117/1261 [16:42<02:08,  1.12it/s]"
     ]
    },
    {
     "name": "stdout",
     "output_type": "stream",
     "text": [
      "no. of rectangles found is  21\n",
      "spatial_size  (16, 16)\n",
      "hist  16\n",
      "orient  9\n",
      "ch1.shape[1]  853\n",
      "pix_per_cell  8\n",
      "(ch1.shape[1] // pix_per_cell)  106\n",
      "cell_per_block  2\n",
      "nxblocks  105\n"
     ]
    },
    {
     "name": "stderr",
     "output_type": "stream",
     "text": [
      "\r",
      " 89%|████████▊ | 1118/1261 [16:43<02:07,  1.12it/s]"
     ]
    },
    {
     "name": "stdout",
     "output_type": "stream",
     "text": [
      "no. of rectangles found is  21\n",
      "spatial_size  (16, 16)\n",
      "hist  16\n",
      "orient  9\n",
      "ch1.shape[1]  853\n",
      "pix_per_cell  8\n",
      "(ch1.shape[1] // pix_per_cell)  106\n",
      "cell_per_block  2\n",
      "nxblocks  105\n"
     ]
    },
    {
     "name": "stderr",
     "output_type": "stream",
     "text": [
      "\r",
      " 89%|████████▊ | 1119/1261 [16:44<02:06,  1.12it/s]"
     ]
    },
    {
     "name": "stdout",
     "output_type": "stream",
     "text": [
      "no. of rectangles found is  14\n",
      "spatial_size  (16, 16)\n",
      "hist  16\n",
      "orient  9\n",
      "ch1.shape[1]  853\n",
      "pix_per_cell  8\n",
      "(ch1.shape[1] // pix_per_cell)  106\n",
      "cell_per_block  2\n",
      "nxblocks  105\n"
     ]
    },
    {
     "name": "stderr",
     "output_type": "stream",
     "text": [
      "\r",
      " 89%|████████▉ | 1120/1261 [16:44<02:06,  1.12it/s]"
     ]
    },
    {
     "name": "stdout",
     "output_type": "stream",
     "text": [
      "no. of rectangles found is  22\n",
      "spatial_size  (16, 16)\n",
      "hist  16\n",
      "orient  9\n",
      "ch1.shape[1]  853\n",
      "pix_per_cell  8\n",
      "(ch1.shape[1] // pix_per_cell)  106\n",
      "cell_per_block  2\n",
      "nxblocks  105\n"
     ]
    },
    {
     "name": "stderr",
     "output_type": "stream",
     "text": [
      "\r",
      " 89%|████████▉ | 1121/1261 [16:45<02:04,  1.12it/s]"
     ]
    },
    {
     "name": "stdout",
     "output_type": "stream",
     "text": [
      "no. of rectangles found is  18\n",
      "spatial_size  (16, 16)\n",
      "hist  16\n",
      "orient  9\n",
      "ch1.shape[1]  853\n",
      "pix_per_cell  8\n",
      "(ch1.shape[1] // pix_per_cell)  106\n",
      "cell_per_block  2\n",
      "nxblocks  105\n"
     ]
    },
    {
     "name": "stderr",
     "output_type": "stream",
     "text": [
      "\r",
      " 89%|████████▉ | 1122/1261 [16:46<02:03,  1.12it/s]"
     ]
    },
    {
     "name": "stdout",
     "output_type": "stream",
     "text": [
      "no. of rectangles found is  23\n",
      "spatial_size  (16, 16)\n",
      "hist  16\n",
      "orient  9\n",
      "ch1.shape[1]  853\n",
      "pix_per_cell  8\n",
      "(ch1.shape[1] // pix_per_cell)  106\n",
      "cell_per_block  2\n",
      "nxblocks  105\n"
     ]
    },
    {
     "name": "stderr",
     "output_type": "stream",
     "text": [
      "\r",
      " 89%|████████▉ | 1123/1261 [16:47<02:03,  1.12it/s]"
     ]
    },
    {
     "name": "stdout",
     "output_type": "stream",
     "text": [
      "no. of rectangles found is  22\n",
      "spatial_size  (16, 16)\n",
      "hist  16\n",
      "orient  9\n",
      "ch1.shape[1]  853\n",
      "pix_per_cell  8\n",
      "(ch1.shape[1] // pix_per_cell)  106\n",
      "cell_per_block  2\n",
      "nxblocks  105\n"
     ]
    },
    {
     "name": "stderr",
     "output_type": "stream",
     "text": [
      "\r",
      " 89%|████████▉ | 1124/1261 [16:48<02:02,  1.12it/s]"
     ]
    },
    {
     "name": "stdout",
     "output_type": "stream",
     "text": [
      "no. of rectangles found is  28\n",
      "spatial_size  (16, 16)\n",
      "hist  16\n",
      "orient  9\n",
      "ch1.shape[1]  853\n",
      "pix_per_cell  8\n",
      "(ch1.shape[1] // pix_per_cell)  106\n",
      "cell_per_block  2\n",
      "nxblocks  105\n"
     ]
    },
    {
     "name": "stderr",
     "output_type": "stream",
     "text": [
      "\r",
      " 89%|████████▉ | 1125/1261 [16:49<02:01,  1.12it/s]"
     ]
    },
    {
     "name": "stdout",
     "output_type": "stream",
     "text": [
      "no. of rectangles found is  29\n",
      "spatial_size  (16, 16)\n",
      "hist  16\n",
      "orient  9\n",
      "ch1.shape[1]  853\n",
      "pix_per_cell  8\n",
      "(ch1.shape[1] // pix_per_cell)  106\n",
      "cell_per_block  2\n",
      "nxblocks  105\n"
     ]
    },
    {
     "name": "stderr",
     "output_type": "stream",
     "text": [
      "\r",
      " 89%|████████▉ | 1126/1261 [16:50<02:00,  1.12it/s]"
     ]
    },
    {
     "name": "stdout",
     "output_type": "stream",
     "text": [
      "no. of rectangles found is  24\n",
      "spatial_size  (16, 16)\n",
      "hist  16\n",
      "orient  9\n",
      "ch1.shape[1]  853\n",
      "pix_per_cell  8\n",
      "(ch1.shape[1] // pix_per_cell)  106\n",
      "cell_per_block  2\n",
      "nxblocks  105\n"
     ]
    },
    {
     "name": "stderr",
     "output_type": "stream",
     "text": [
      "\r",
      " 89%|████████▉ | 1127/1261 [16:51<02:00,  1.11it/s]"
     ]
    },
    {
     "name": "stdout",
     "output_type": "stream",
     "text": [
      "no. of rectangles found is  24\n",
      "spatial_size  (16, 16)\n",
      "hist  16\n",
      "orient  9\n",
      "ch1.shape[1]  853\n",
      "pix_per_cell  8\n",
      "(ch1.shape[1] // pix_per_cell)  106\n",
      "cell_per_block  2\n",
      "nxblocks  105\n"
     ]
    },
    {
     "name": "stderr",
     "output_type": "stream",
     "text": [
      "\r",
      " 89%|████████▉ | 1128/1261 [16:52<02:01,  1.09it/s]"
     ]
    },
    {
     "name": "stdout",
     "output_type": "stream",
     "text": [
      "no. of rectangles found is  20\n",
      "spatial_size  (16, 16)\n",
      "hist  16\n",
      "orient  9\n",
      "ch1.shape[1]  853\n",
      "pix_per_cell  8\n",
      "(ch1.shape[1] // pix_per_cell)  106\n",
      "cell_per_block  2\n",
      "nxblocks  105\n"
     ]
    },
    {
     "name": "stderr",
     "output_type": "stream",
     "text": [
      "\r",
      " 90%|████████▉ | 1129/1261 [16:53<01:59,  1.10it/s]"
     ]
    },
    {
     "name": "stdout",
     "output_type": "stream",
     "text": [
      "no. of rectangles found is  13\n",
      "spatial_size  (16, 16)\n",
      "hist  16\n",
      "orient  9\n",
      "ch1.shape[1]  853\n",
      "pix_per_cell  8\n",
      "(ch1.shape[1] // pix_per_cell)  106\n",
      "cell_per_block  2\n",
      "nxblocks  105\n"
     ]
    },
    {
     "name": "stderr",
     "output_type": "stream",
     "text": [
      "\r",
      " 90%|████████▉ | 1130/1261 [16:53<01:59,  1.09it/s]"
     ]
    },
    {
     "name": "stdout",
     "output_type": "stream",
     "text": [
      "no. of rectangles found is  13\n",
      "spatial_size  (16, 16)\n",
      "hist  16\n",
      "orient  9\n",
      "ch1.shape[1]  853\n",
      "pix_per_cell  8\n",
      "(ch1.shape[1] // pix_per_cell)  106\n",
      "cell_per_block  2\n",
      "nxblocks  105\n"
     ]
    },
    {
     "name": "stderr",
     "output_type": "stream",
     "text": [
      "\r",
      " 90%|████████▉ | 1131/1261 [16:54<01:58,  1.10it/s]"
     ]
    },
    {
     "name": "stdout",
     "output_type": "stream",
     "text": [
      "no. of rectangles found is  13\n",
      "spatial_size  (16, 16)\n",
      "hist  16\n",
      "orient  9\n",
      "ch1.shape[1]  853\n",
      "pix_per_cell  8\n",
      "(ch1.shape[1] // pix_per_cell)  106\n",
      "cell_per_block  2\n",
      "nxblocks  105\n"
     ]
    },
    {
     "name": "stderr",
     "output_type": "stream",
     "text": [
      "\r",
      " 90%|████████▉ | 1132/1261 [16:55<01:56,  1.11it/s]"
     ]
    },
    {
     "name": "stdout",
     "output_type": "stream",
     "text": [
      "no. of rectangles found is  13\n",
      "spatial_size  (16, 16)\n",
      "hist  16\n",
      "orient  9\n",
      "ch1.shape[1]  853\n",
      "pix_per_cell  8\n",
      "(ch1.shape[1] // pix_per_cell)  106\n",
      "cell_per_block  2\n",
      "nxblocks  105\n"
     ]
    },
    {
     "name": "stderr",
     "output_type": "stream",
     "text": [
      "\r",
      " 90%|████████▉ | 1133/1261 [16:56<01:54,  1.12it/s]"
     ]
    },
    {
     "name": "stdout",
     "output_type": "stream",
     "text": [
      "no. of rectangles found is  9\n",
      "spatial_size  (16, 16)\n",
      "hist  16\n",
      "orient  9\n",
      "ch1.shape[1]  853\n",
      "pix_per_cell  8\n",
      "(ch1.shape[1] // pix_per_cell)  106\n",
      "cell_per_block  2\n",
      "nxblocks  105\n"
     ]
    },
    {
     "name": "stderr",
     "output_type": "stream",
     "text": [
      "\r",
      " 90%|████████▉ | 1134/1261 [16:57<01:53,  1.12it/s]"
     ]
    },
    {
     "name": "stdout",
     "output_type": "stream",
     "text": [
      "no. of rectangles found is  7\n",
      "spatial_size  (16, 16)\n",
      "hist  16\n",
      "orient  9\n",
      "ch1.shape[1]  853\n",
      "pix_per_cell  8\n",
      "(ch1.shape[1] // pix_per_cell)  106\n",
      "cell_per_block  2\n",
      "nxblocks  105\n"
     ]
    },
    {
     "name": "stderr",
     "output_type": "stream",
     "text": [
      "\r",
      " 90%|█████████ | 1135/1261 [16:58<01:55,  1.09it/s]"
     ]
    },
    {
     "name": "stdout",
     "output_type": "stream",
     "text": [
      "no. of rectangles found is  7\n",
      "spatial_size  (16, 16)\n",
      "hist  16\n",
      "orient  9\n",
      "ch1.shape[1]  853\n",
      "pix_per_cell  8\n",
      "(ch1.shape[1] // pix_per_cell)  106\n",
      "cell_per_block  2\n",
      "nxblocks  105\n"
     ]
    },
    {
     "name": "stderr",
     "output_type": "stream",
     "text": [
      "\r",
      " 90%|█████████ | 1136/1261 [16:59<01:52,  1.11it/s]"
     ]
    },
    {
     "name": "stdout",
     "output_type": "stream",
     "text": [
      "no. of rectangles found is  13\n",
      "spatial_size  (16, 16)\n",
      "hist  16\n",
      "orient  9\n",
      "ch1.shape[1]  853\n",
      "pix_per_cell  8\n",
      "(ch1.shape[1] // pix_per_cell)  106\n",
      "cell_per_block  2\n",
      "nxblocks  105\n"
     ]
    },
    {
     "name": "stderr",
     "output_type": "stream",
     "text": [
      "\r",
      " 90%|█████████ | 1137/1261 [17:00<01:52,  1.10it/s]"
     ]
    },
    {
     "name": "stdout",
     "output_type": "stream",
     "text": [
      "no. of rectangles found is  14\n",
      "spatial_size  (16, 16)\n",
      "hist  16\n",
      "orient  9\n",
      "ch1.shape[1]  853\n",
      "pix_per_cell  8\n",
      "(ch1.shape[1] // pix_per_cell)  106\n",
      "cell_per_block  2\n",
      "nxblocks  105\n"
     ]
    },
    {
     "name": "stderr",
     "output_type": "stream",
     "text": [
      "\r",
      " 90%|█████████ | 1138/1261 [17:01<01:50,  1.11it/s]"
     ]
    },
    {
     "name": "stdout",
     "output_type": "stream",
     "text": [
      "no. of rectangles found is  7\n",
      "spatial_size  (16, 16)\n",
      "hist  16\n",
      "orient  9\n",
      "ch1.shape[1]  853\n",
      "pix_per_cell  8\n",
      "(ch1.shape[1] // pix_per_cell)  106\n",
      "cell_per_block  2\n",
      "nxblocks  105\n"
     ]
    },
    {
     "name": "stderr",
     "output_type": "stream",
     "text": [
      "\r",
      " 90%|█████████ | 1139/1261 [17:02<01:51,  1.10it/s]"
     ]
    },
    {
     "name": "stdout",
     "output_type": "stream",
     "text": [
      "no. of rectangles found is  14\n",
      "spatial_size  (16, 16)\n",
      "hist  16\n",
      "orient  9\n",
      "ch1.shape[1]  853\n",
      "pix_per_cell  8\n",
      "(ch1.shape[1] // pix_per_cell)  106\n",
      "cell_per_block  2\n",
      "nxblocks  105\n"
     ]
    },
    {
     "name": "stderr",
     "output_type": "stream",
     "text": [
      "\r",
      " 90%|█████████ | 1140/1261 [17:03<01:51,  1.08it/s]"
     ]
    },
    {
     "name": "stdout",
     "output_type": "stream",
     "text": [
      "no. of rectangles found is  12\n",
      "spatial_size  (16, 16)\n",
      "hist  16\n",
      "orient  9\n",
      "ch1.shape[1]  853\n",
      "pix_per_cell  8\n",
      "(ch1.shape[1] // pix_per_cell)  106\n",
      "cell_per_block  2\n",
      "nxblocks  105\n"
     ]
    },
    {
     "name": "stderr",
     "output_type": "stream",
     "text": [
      "\r",
      " 90%|█████████ | 1141/1261 [17:03<01:49,  1.09it/s]"
     ]
    },
    {
     "name": "stdout",
     "output_type": "stream",
     "text": [
      "no. of rectangles found is  7\n",
      "spatial_size  (16, 16)\n",
      "hist  16\n",
      "orient  9\n",
      "ch1.shape[1]  853\n",
      "pix_per_cell  8\n",
      "(ch1.shape[1] // pix_per_cell)  106\n",
      "cell_per_block  2\n",
      "nxblocks  105\n"
     ]
    },
    {
     "name": "stderr",
     "output_type": "stream",
     "text": [
      "\r",
      " 91%|█████████ | 1142/1261 [17:04<01:47,  1.10it/s]"
     ]
    },
    {
     "name": "stdout",
     "output_type": "stream",
     "text": [
      "no. of rectangles found is  6\n",
      "spatial_size  (16, 16)\n",
      "hist  16\n",
      "orient  9\n",
      "ch1.shape[1]  853\n",
      "pix_per_cell  8\n",
      "(ch1.shape[1] // pix_per_cell)  106\n",
      "cell_per_block  2\n",
      "nxblocks  105\n"
     ]
    },
    {
     "name": "stderr",
     "output_type": "stream",
     "text": [
      "\r",
      " 91%|█████████ | 1143/1261 [17:05<01:46,  1.11it/s]"
     ]
    },
    {
     "name": "stdout",
     "output_type": "stream",
     "text": [
      "no. of rectangles found is  10\n",
      "spatial_size  (16, 16)\n",
      "hist  16\n",
      "orient  9\n",
      "ch1.shape[1]  853\n",
      "pix_per_cell  8\n",
      "(ch1.shape[1] // pix_per_cell)  106\n",
      "cell_per_block  2\n",
      "nxblocks  105\n"
     ]
    },
    {
     "name": "stderr",
     "output_type": "stream",
     "text": [
      "\r",
      " 91%|█████████ | 1144/1261 [17:06<01:46,  1.10it/s]"
     ]
    },
    {
     "name": "stdout",
     "output_type": "stream",
     "text": [
      "no. of rectangles found is  14\n",
      "spatial_size  (16, 16)\n",
      "hist  16\n",
      "orient  9\n",
      "ch1.shape[1]  853\n",
      "pix_per_cell  8\n",
      "(ch1.shape[1] // pix_per_cell)  106\n",
      "cell_per_block  2\n",
      "nxblocks  105\n"
     ]
    },
    {
     "name": "stderr",
     "output_type": "stream",
     "text": [
      "\r",
      " 91%|█████████ | 1145/1261 [17:07<01:44,  1.11it/s]"
     ]
    },
    {
     "name": "stdout",
     "output_type": "stream",
     "text": [
      "no. of rectangles found is  19\n",
      "spatial_size  (16, 16)\n",
      "hist  16\n",
      "orient  9\n",
      "ch1.shape[1]  853\n",
      "pix_per_cell  8\n",
      "(ch1.shape[1] // pix_per_cell)  106\n",
      "cell_per_block  2\n",
      "nxblocks  105\n"
     ]
    },
    {
     "name": "stderr",
     "output_type": "stream",
     "text": [
      "\r",
      " 91%|█████████ | 1146/1261 [17:08<01:43,  1.11it/s]"
     ]
    },
    {
     "name": "stdout",
     "output_type": "stream",
     "text": [
      "no. of rectangles found is  17\n",
      "spatial_size  (16, 16)\n",
      "hist  16\n",
      "orient  9\n",
      "ch1.shape[1]  853\n",
      "pix_per_cell  8\n",
      "(ch1.shape[1] // pix_per_cell)  106\n",
      "cell_per_block  2\n",
      "nxblocks  105\n"
     ]
    },
    {
     "name": "stderr",
     "output_type": "stream",
     "text": [
      "\r",
      " 91%|█████████ | 1147/1261 [17:09<01:42,  1.11it/s]"
     ]
    },
    {
     "name": "stdout",
     "output_type": "stream",
     "text": [
      "no. of rectangles found is  14\n",
      "spatial_size  (16, 16)\n",
      "hist  16\n",
      "orient  9\n",
      "ch1.shape[1]  853\n",
      "pix_per_cell  8\n",
      "(ch1.shape[1] // pix_per_cell)  106\n",
      "cell_per_block  2\n",
      "nxblocks  105\n"
     ]
    },
    {
     "name": "stderr",
     "output_type": "stream",
     "text": [
      "\r",
      " 91%|█████████ | 1148/1261 [17:10<01:41,  1.11it/s]"
     ]
    },
    {
     "name": "stdout",
     "output_type": "stream",
     "text": [
      "no. of rectangles found is  16\n",
      "spatial_size  (16, 16)\n",
      "hist  16\n",
      "orient  9\n",
      "ch1.shape[1]  853\n",
      "pix_per_cell  8\n",
      "(ch1.shape[1] // pix_per_cell)  106\n",
      "cell_per_block  2\n",
      "nxblocks  105\n"
     ]
    },
    {
     "name": "stderr",
     "output_type": "stream",
     "text": [
      "\r",
      " 91%|█████████ | 1149/1261 [17:11<01:40,  1.12it/s]"
     ]
    },
    {
     "name": "stdout",
     "output_type": "stream",
     "text": [
      "no. of rectangles found is  12\n",
      "spatial_size  (16, 16)\n",
      "hist  16\n",
      "orient  9\n",
      "ch1.shape[1]  853\n",
      "pix_per_cell  8\n",
      "(ch1.shape[1] // pix_per_cell)  106\n",
      "cell_per_block  2\n",
      "nxblocks  105\n"
     ]
    },
    {
     "name": "stderr",
     "output_type": "stream",
     "text": [
      "\r",
      " 91%|█████████ | 1150/1261 [17:11<01:39,  1.12it/s]"
     ]
    },
    {
     "name": "stdout",
     "output_type": "stream",
     "text": [
      "no. of rectangles found is  12\n",
      "spatial_size  (16, 16)\n",
      "hist  16\n",
      "orient  9\n",
      "ch1.shape[1]  853\n",
      "pix_per_cell  8\n",
      "(ch1.shape[1] // pix_per_cell)  106\n",
      "cell_per_block  2\n",
      "nxblocks  105\n"
     ]
    },
    {
     "name": "stderr",
     "output_type": "stream",
     "text": [
      "\r",
      " 91%|█████████▏| 1151/1261 [17:12<01:38,  1.12it/s]"
     ]
    },
    {
     "name": "stdout",
     "output_type": "stream",
     "text": [
      "no. of rectangles found is  10\n",
      "spatial_size  (16, 16)\n",
      "hist  16\n",
      "orient  9\n",
      "ch1.shape[1]  853\n",
      "pix_per_cell  8\n",
      "(ch1.shape[1] // pix_per_cell)  106\n",
      "cell_per_block  2\n",
      "nxblocks  105\n"
     ]
    },
    {
     "name": "stderr",
     "output_type": "stream",
     "text": [
      "\r",
      " 91%|█████████▏| 1152/1261 [17:13<01:37,  1.12it/s]"
     ]
    },
    {
     "name": "stdout",
     "output_type": "stream",
     "text": [
      "no. of rectangles found is  16\n",
      "spatial_size  (16, 16)\n",
      "hist  16\n",
      "orient  9\n",
      "ch1.shape[1]  853\n",
      "pix_per_cell  8\n",
      "(ch1.shape[1] // pix_per_cell)  106\n",
      "cell_per_block  2\n",
      "nxblocks  105\n"
     ]
    },
    {
     "name": "stderr",
     "output_type": "stream",
     "text": [
      "\r",
      " 91%|█████████▏| 1153/1261 [17:14<01:36,  1.12it/s]"
     ]
    },
    {
     "name": "stdout",
     "output_type": "stream",
     "text": [
      "no. of rectangles found is  24\n",
      "spatial_size  (16, 16)\n",
      "hist  16\n",
      "orient  9\n",
      "ch1.shape[1]  853\n",
      "pix_per_cell  8\n",
      "(ch1.shape[1] // pix_per_cell)  106\n",
      "cell_per_block  2\n",
      "nxblocks  105\n"
     ]
    },
    {
     "name": "stderr",
     "output_type": "stream",
     "text": [
      "\r",
      " 92%|█████████▏| 1154/1261 [17:15<01:35,  1.12it/s]"
     ]
    },
    {
     "name": "stdout",
     "output_type": "stream",
     "text": [
      "no. of rectangles found is  21\n",
      "spatial_size  (16, 16)\n",
      "hist  16\n",
      "orient  9\n",
      "ch1.shape[1]  853\n",
      "pix_per_cell  8\n",
      "(ch1.shape[1] // pix_per_cell)  106\n",
      "cell_per_block  2\n",
      "nxblocks  105\n"
     ]
    },
    {
     "name": "stderr",
     "output_type": "stream",
     "text": [
      "\r",
      " 92%|█████████▏| 1155/1261 [17:16<01:35,  1.10it/s]"
     ]
    },
    {
     "name": "stdout",
     "output_type": "stream",
     "text": [
      "no. of rectangles found is  18\n",
      "spatial_size  (16, 16)\n",
      "hist  16\n",
      "orient  9\n",
      "ch1.shape[1]  853\n",
      "pix_per_cell  8\n",
      "(ch1.shape[1] // pix_per_cell)  106\n",
      "cell_per_block  2\n",
      "nxblocks  105\n"
     ]
    },
    {
     "name": "stderr",
     "output_type": "stream",
     "text": [
      "\r",
      " 92%|█████████▏| 1156/1261 [17:17<01:34,  1.11it/s]"
     ]
    },
    {
     "name": "stdout",
     "output_type": "stream",
     "text": [
      "no. of rectangles found is  13\n",
      "spatial_size  (16, 16)\n",
      "hist  16\n",
      "orient  9\n",
      "ch1.shape[1]  853\n",
      "pix_per_cell  8\n",
      "(ch1.shape[1] // pix_per_cell)  106\n",
      "cell_per_block  2\n",
      "nxblocks  105\n"
     ]
    },
    {
     "name": "stderr",
     "output_type": "stream",
     "text": [
      "\r",
      " 92%|█████████▏| 1157/1261 [17:18<01:33,  1.11it/s]"
     ]
    },
    {
     "name": "stdout",
     "output_type": "stream",
     "text": [
      "no. of rectangles found is  15\n",
      "spatial_size  (16, 16)\n",
      "hist  16\n",
      "orient  9\n",
      "ch1.shape[1]  853\n",
      "pix_per_cell  8\n",
      "(ch1.shape[1] // pix_per_cell)  106\n",
      "cell_per_block  2\n",
      "nxblocks  105\n"
     ]
    },
    {
     "name": "stderr",
     "output_type": "stream",
     "text": [
      "\r",
      " 92%|█████████▏| 1158/1261 [17:19<01:32,  1.11it/s]"
     ]
    },
    {
     "name": "stdout",
     "output_type": "stream",
     "text": [
      "no. of rectangles found is  16\n",
      "spatial_size  (16, 16)\n",
      "hist  16\n",
      "orient  9\n",
      "ch1.shape[1]  853\n",
      "pix_per_cell  8\n",
      "(ch1.shape[1] // pix_per_cell)  106\n",
      "cell_per_block  2\n",
      "nxblocks  105\n"
     ]
    },
    {
     "name": "stderr",
     "output_type": "stream",
     "text": [
      "\r",
      " 92%|█████████▏| 1159/1261 [17:20<01:32,  1.11it/s]"
     ]
    },
    {
     "name": "stdout",
     "output_type": "stream",
     "text": [
      "no. of rectangles found is  10\n",
      "spatial_size  (16, 16)\n",
      "hist  16\n",
      "orient  9\n",
      "ch1.shape[1]  853\n",
      "pix_per_cell  8\n",
      "(ch1.shape[1] // pix_per_cell)  106\n",
      "cell_per_block  2\n",
      "nxblocks  105\n"
     ]
    },
    {
     "name": "stderr",
     "output_type": "stream",
     "text": [
      "\r",
      " 92%|█████████▏| 1160/1261 [17:20<01:31,  1.11it/s]"
     ]
    },
    {
     "name": "stdout",
     "output_type": "stream",
     "text": [
      "no. of rectangles found is  12\n",
      "spatial_size  (16, 16)\n",
      "hist  16\n",
      "orient  9\n",
      "ch1.shape[1]  853\n",
      "pix_per_cell  8\n",
      "(ch1.shape[1] // pix_per_cell)  106\n",
      "cell_per_block  2\n",
      "nxblocks  105\n"
     ]
    },
    {
     "name": "stderr",
     "output_type": "stream",
     "text": [
      "\r",
      " 92%|█████████▏| 1161/1261 [17:21<01:30,  1.11it/s]"
     ]
    },
    {
     "name": "stdout",
     "output_type": "stream",
     "text": [
      "no. of rectangles found is  9\n",
      "spatial_size  (16, 16)\n",
      "hist  16\n",
      "orient  9\n",
      "ch1.shape[1]  853\n",
      "pix_per_cell  8\n",
      "(ch1.shape[1] // pix_per_cell)  106\n",
      "cell_per_block  2\n",
      "nxblocks  105\n"
     ]
    },
    {
     "name": "stderr",
     "output_type": "stream",
     "text": [
      "\r",
      " 92%|█████████▏| 1162/1261 [17:22<01:30,  1.09it/s]"
     ]
    },
    {
     "name": "stdout",
     "output_type": "stream",
     "text": [
      "no. of rectangles found is  9\n",
      "spatial_size  (16, 16)\n",
      "hist  16\n",
      "orient  9\n",
      "ch1.shape[1]  853\n",
      "pix_per_cell  8\n",
      "(ch1.shape[1] // pix_per_cell)  106\n",
      "cell_per_block  2\n",
      "nxblocks  105\n"
     ]
    },
    {
     "name": "stderr",
     "output_type": "stream",
     "text": [
      "\r",
      " 92%|█████████▏| 1163/1261 [17:23<01:29,  1.09it/s]"
     ]
    },
    {
     "name": "stdout",
     "output_type": "stream",
     "text": [
      "no. of rectangles found is  10\n",
      "spatial_size  (16, 16)\n",
      "hist  16\n",
      "orient  9\n",
      "ch1.shape[1]  853\n",
      "pix_per_cell  8\n",
      "(ch1.shape[1] // pix_per_cell)  106\n",
      "cell_per_block  2\n",
      "nxblocks  105\n"
     ]
    },
    {
     "name": "stderr",
     "output_type": "stream",
     "text": [
      "\r",
      " 92%|█████████▏| 1164/1261 [17:24<01:27,  1.10it/s]"
     ]
    },
    {
     "name": "stdout",
     "output_type": "stream",
     "text": [
      "no. of rectangles found is  11\n",
      "spatial_size  (16, 16)\n",
      "hist  16\n",
      "orient  9\n",
      "ch1.shape[1]  853\n",
      "pix_per_cell  8\n",
      "(ch1.shape[1] // pix_per_cell)  106\n",
      "cell_per_block  2\n",
      "nxblocks  105\n"
     ]
    },
    {
     "name": "stderr",
     "output_type": "stream",
     "text": [
      "\r",
      " 92%|█████████▏| 1165/1261 [17:25<01:26,  1.11it/s]"
     ]
    },
    {
     "name": "stdout",
     "output_type": "stream",
     "text": [
      "no. of rectangles found is  16\n",
      "spatial_size  (16, 16)\n",
      "hist  16\n",
      "orient  9\n",
      "ch1.shape[1]  853\n",
      "pix_per_cell  8\n",
      "(ch1.shape[1] // pix_per_cell)  106\n",
      "cell_per_block  2\n",
      "nxblocks  105\n"
     ]
    },
    {
     "name": "stderr",
     "output_type": "stream",
     "text": [
      "\r",
      " 92%|█████████▏| 1166/1261 [17:26<01:25,  1.10it/s]"
     ]
    },
    {
     "name": "stdout",
     "output_type": "stream",
     "text": [
      "no. of rectangles found is  9\n",
      "spatial_size  (16, 16)\n",
      "hist  16\n",
      "orient  9\n",
      "ch1.shape[1]  853\n",
      "pix_per_cell  8\n",
      "(ch1.shape[1] // pix_per_cell)  106\n",
      "cell_per_block  2\n",
      "nxblocks  105\n"
     ]
    },
    {
     "name": "stderr",
     "output_type": "stream",
     "text": [
      "\r",
      " 93%|█████████▎| 1167/1261 [17:27<01:25,  1.09it/s]"
     ]
    },
    {
     "name": "stdout",
     "output_type": "stream",
     "text": [
      "no. of rectangles found is  4\n",
      "spatial_size  (16, 16)\n",
      "hist  16\n",
      "orient  9\n",
      "ch1.shape[1]  853\n",
      "pix_per_cell  8\n",
      "(ch1.shape[1] // pix_per_cell)  106\n",
      "cell_per_block  2\n",
      "nxblocks  105\n"
     ]
    },
    {
     "name": "stderr",
     "output_type": "stream",
     "text": [
      "\r",
      " 93%|█████████▎| 1168/1261 [17:28<01:25,  1.08it/s]"
     ]
    },
    {
     "name": "stdout",
     "output_type": "stream",
     "text": [
      "no. of rectangles found is  19\n",
      "spatial_size  (16, 16)\n",
      "hist  16\n",
      "orient  9\n",
      "ch1.shape[1]  853\n",
      "pix_per_cell  8\n",
      "(ch1.shape[1] // pix_per_cell)  106\n",
      "cell_per_block  2\n",
      "nxblocks  105\n"
     ]
    },
    {
     "name": "stderr",
     "output_type": "stream",
     "text": [
      "\r",
      " 93%|█████████▎| 1169/1261 [17:29<01:23,  1.10it/s]"
     ]
    },
    {
     "name": "stdout",
     "output_type": "stream",
     "text": [
      "no. of rectangles found is  14\n",
      "spatial_size  (16, 16)\n",
      "hist  16\n",
      "orient  9\n",
      "ch1.shape[1]  853\n",
      "pix_per_cell  8\n",
      "(ch1.shape[1] // pix_per_cell)  106\n",
      "cell_per_block  2\n",
      "nxblocks  105\n"
     ]
    },
    {
     "name": "stderr",
     "output_type": "stream",
     "text": [
      "\r",
      " 93%|█████████▎| 1170/1261 [17:30<01:22,  1.10it/s]"
     ]
    },
    {
     "name": "stdout",
     "output_type": "stream",
     "text": [
      "no. of rectangles found is  19\n",
      "spatial_size  (16, 16)\n",
      "hist  16\n",
      "orient  9\n",
      "ch1.shape[1]  853\n",
      "pix_per_cell  8\n",
      "(ch1.shape[1] // pix_per_cell)  106\n",
      "cell_per_block  2\n",
      "nxblocks  105\n"
     ]
    },
    {
     "name": "stderr",
     "output_type": "stream",
     "text": [
      "\r",
      " 93%|█████████▎| 1171/1261 [17:30<01:21,  1.11it/s]"
     ]
    },
    {
     "name": "stdout",
     "output_type": "stream",
     "text": [
      "no. of rectangles found is  5\n",
      "spatial_size  (16, 16)\n",
      "hist  16\n",
      "orient  9\n",
      "ch1.shape[1]  853\n",
      "pix_per_cell  8\n",
      "(ch1.shape[1] // pix_per_cell)  106\n",
      "cell_per_block  2\n",
      "nxblocks  105\n"
     ]
    },
    {
     "name": "stderr",
     "output_type": "stream",
     "text": [
      "\r",
      " 93%|█████████▎| 1172/1261 [17:31<01:19,  1.11it/s]"
     ]
    },
    {
     "name": "stdout",
     "output_type": "stream",
     "text": [
      "no. of rectangles found is  9\n",
      "spatial_size  (16, 16)\n",
      "hist  16\n",
      "orient  9\n",
      "ch1.shape[1]  853\n",
      "pix_per_cell  8\n",
      "(ch1.shape[1] // pix_per_cell)  106\n",
      "cell_per_block  2\n",
      "nxblocks  105\n"
     ]
    },
    {
     "name": "stderr",
     "output_type": "stream",
     "text": [
      "\r",
      " 93%|█████████▎| 1173/1261 [17:32<01:18,  1.12it/s]"
     ]
    },
    {
     "name": "stdout",
     "output_type": "stream",
     "text": [
      "no. of rectangles found is  9\n",
      "spatial_size  (16, 16)\n",
      "hist  16\n",
      "orient  9\n",
      "ch1.shape[1]  853\n",
      "pix_per_cell  8\n",
      "(ch1.shape[1] // pix_per_cell)  106\n",
      "cell_per_block  2\n",
      "nxblocks  105\n"
     ]
    },
    {
     "name": "stderr",
     "output_type": "stream",
     "text": [
      "\r",
      " 93%|█████████▎| 1174/1261 [17:33<01:18,  1.11it/s]"
     ]
    },
    {
     "name": "stdout",
     "output_type": "stream",
     "text": [
      "no. of rectangles found is  17\n",
      "spatial_size  (16, 16)\n",
      "hist  16\n",
      "orient  9\n",
      "ch1.shape[1]  853\n",
      "pix_per_cell  8\n",
      "(ch1.shape[1] // pix_per_cell)  106\n",
      "cell_per_block  2\n",
      "nxblocks  105\n"
     ]
    },
    {
     "name": "stderr",
     "output_type": "stream",
     "text": [
      "\r",
      " 93%|█████████▎| 1175/1261 [17:34<01:17,  1.12it/s]"
     ]
    },
    {
     "name": "stdout",
     "output_type": "stream",
     "text": [
      "no. of rectangles found is  19\n",
      "spatial_size  (16, 16)\n",
      "hist  16\n",
      "orient  9\n",
      "ch1.shape[1]  853\n",
      "pix_per_cell  8\n",
      "(ch1.shape[1] // pix_per_cell)  106\n",
      "cell_per_block  2\n",
      "nxblocks  105\n"
     ]
    },
    {
     "name": "stderr",
     "output_type": "stream",
     "text": [
      "\r",
      " 93%|█████████▎| 1176/1261 [17:35<01:16,  1.12it/s]"
     ]
    },
    {
     "name": "stdout",
     "output_type": "stream",
     "text": [
      "no. of rectangles found is  17\n",
      "spatial_size  (16, 16)\n",
      "hist  16\n",
      "orient  9\n",
      "ch1.shape[1]  853\n",
      "pix_per_cell  8\n",
      "(ch1.shape[1] // pix_per_cell)  106\n",
      "cell_per_block  2\n",
      "nxblocks  105\n"
     ]
    },
    {
     "name": "stderr",
     "output_type": "stream",
     "text": [
      "\r",
      " 93%|█████████▎| 1177/1261 [17:36<01:16,  1.10it/s]"
     ]
    },
    {
     "name": "stdout",
     "output_type": "stream",
     "text": [
      "no. of rectangles found is  13\n",
      "spatial_size  (16, 16)\n",
      "hist  16\n",
      "orient  9\n",
      "ch1.shape[1]  853\n",
      "pix_per_cell  8\n",
      "(ch1.shape[1] // pix_per_cell)  106\n",
      "cell_per_block  2\n",
      "nxblocks  105\n"
     ]
    },
    {
     "name": "stderr",
     "output_type": "stream",
     "text": [
      "\r",
      " 93%|█████████▎| 1178/1261 [17:37<01:15,  1.10it/s]"
     ]
    },
    {
     "name": "stdout",
     "output_type": "stream",
     "text": [
      "no. of rectangles found is  15\n",
      "spatial_size  (16, 16)\n",
      "hist  16\n",
      "orient  9\n",
      "ch1.shape[1]  853\n",
      "pix_per_cell  8\n",
      "(ch1.shape[1] // pix_per_cell)  106\n",
      "cell_per_block  2\n",
      "nxblocks  105\n"
     ]
    },
    {
     "name": "stderr",
     "output_type": "stream",
     "text": [
      "\r",
      " 93%|█████████▎| 1179/1261 [17:38<01:13,  1.11it/s]"
     ]
    },
    {
     "name": "stdout",
     "output_type": "stream",
     "text": [
      "no. of rectangles found is  11\n",
      "spatial_size  (16, 16)\n",
      "hist  16\n",
      "orient  9\n",
      "ch1.shape[1]  853\n",
      "pix_per_cell  8\n",
      "(ch1.shape[1] // pix_per_cell)  106\n",
      "cell_per_block  2\n",
      "nxblocks  105\n"
     ]
    },
    {
     "name": "stderr",
     "output_type": "stream",
     "text": [
      "\r",
      " 94%|█████████▎| 1180/1261 [17:39<01:19,  1.02it/s]"
     ]
    },
    {
     "name": "stdout",
     "output_type": "stream",
     "text": [
      "no. of rectangles found is  14\n",
      "spatial_size  (16, 16)\n",
      "hist  16\n",
      "orient  9\n",
      "ch1.shape[1]  853\n",
      "pix_per_cell  8\n",
      "(ch1.shape[1] // pix_per_cell)  106\n",
      "cell_per_block  2\n",
      "nxblocks  105\n"
     ]
    },
    {
     "name": "stderr",
     "output_type": "stream",
     "text": [
      "\r",
      " 94%|█████████▎| 1181/1261 [17:40<01:16,  1.05it/s]"
     ]
    },
    {
     "name": "stdout",
     "output_type": "stream",
     "text": [
      "no. of rectangles found is  13\n",
      "spatial_size  (16, 16)\n",
      "hist  16\n",
      "orient  9\n",
      "ch1.shape[1]  853\n",
      "pix_per_cell  8\n",
      "(ch1.shape[1] // pix_per_cell)  106\n",
      "cell_per_block  2\n",
      "nxblocks  105\n"
     ]
    },
    {
     "name": "stderr",
     "output_type": "stream",
     "text": [
      "\r",
      " 94%|█████████▎| 1182/1261 [17:41<01:13,  1.08it/s]"
     ]
    },
    {
     "name": "stdout",
     "output_type": "stream",
     "text": [
      "no. of rectangles found is  12\n",
      "spatial_size  (16, 16)\n",
      "hist  16\n",
      "orient  9\n",
      "ch1.shape[1]  853\n",
      "pix_per_cell  8\n",
      "(ch1.shape[1] // pix_per_cell)  106\n",
      "cell_per_block  2\n",
      "nxblocks  105\n"
     ]
    },
    {
     "name": "stderr",
     "output_type": "stream",
     "text": [
      "\r",
      " 94%|█████████▍| 1183/1261 [17:41<01:11,  1.10it/s]"
     ]
    },
    {
     "name": "stdout",
     "output_type": "stream",
     "text": [
      "no. of rectangles found is  11\n",
      "spatial_size  (16, 16)\n",
      "hist  16\n",
      "orient  9\n",
      "ch1.shape[1]  853\n",
      "pix_per_cell  8\n",
      "(ch1.shape[1] // pix_per_cell)  106\n",
      "cell_per_block  2\n",
      "nxblocks  105\n"
     ]
    },
    {
     "name": "stderr",
     "output_type": "stream",
     "text": [
      "\r",
      " 94%|█████████▍| 1184/1261 [17:42<01:09,  1.11it/s]"
     ]
    },
    {
     "name": "stdout",
     "output_type": "stream",
     "text": [
      "no. of rectangles found is  7\n",
      "spatial_size  (16, 16)\n",
      "hist  16\n",
      "orient  9\n",
      "ch1.shape[1]  853\n",
      "pix_per_cell  8\n",
      "(ch1.shape[1] // pix_per_cell)  106\n",
      "cell_per_block  2\n",
      "nxblocks  105\n"
     ]
    },
    {
     "name": "stderr",
     "output_type": "stream",
     "text": [
      "\r",
      " 94%|█████████▍| 1185/1261 [17:43<01:09,  1.09it/s]"
     ]
    },
    {
     "name": "stdout",
     "output_type": "stream",
     "text": [
      "no. of rectangles found is  14\n",
      "spatial_size  (16, 16)\n",
      "hist  16\n",
      "orient  9\n",
      "ch1.shape[1]  853\n",
      "pix_per_cell  8\n",
      "(ch1.shape[1] // pix_per_cell)  106\n",
      "cell_per_block  2\n",
      "nxblocks  105\n"
     ]
    },
    {
     "name": "stderr",
     "output_type": "stream",
     "text": [
      "\r",
      " 94%|█████████▍| 1186/1261 [17:44<01:08,  1.10it/s]"
     ]
    },
    {
     "name": "stdout",
     "output_type": "stream",
     "text": [
      "no. of rectangles found is  13\n",
      "spatial_size  (16, 16)\n",
      "hist  16\n",
      "orient  9\n",
      "ch1.shape[1]  853\n",
      "pix_per_cell  8\n",
      "(ch1.shape[1] // pix_per_cell)  106\n",
      "cell_per_block  2\n",
      "nxblocks  105\n"
     ]
    },
    {
     "name": "stderr",
     "output_type": "stream",
     "text": [
      "\r",
      " 94%|█████████▍| 1187/1261 [17:45<01:06,  1.11it/s]"
     ]
    },
    {
     "name": "stdout",
     "output_type": "stream",
     "text": [
      "no. of rectangles found is  17\n",
      "spatial_size  (16, 16)\n",
      "hist  16\n",
      "orient  9\n",
      "ch1.shape[1]  853\n",
      "pix_per_cell  8\n",
      "(ch1.shape[1] // pix_per_cell)  106\n",
      "cell_per_block  2\n",
      "nxblocks  105\n"
     ]
    },
    {
     "name": "stderr",
     "output_type": "stream",
     "text": [
      "\r",
      " 94%|█████████▍| 1188/1261 [17:46<01:05,  1.11it/s]"
     ]
    },
    {
     "name": "stdout",
     "output_type": "stream",
     "text": [
      "no. of rectangles found is  18\n",
      "spatial_size  (16, 16)\n",
      "hist  16\n",
      "orient  9\n",
      "ch1.shape[1]  853\n",
      "pix_per_cell  8\n",
      "(ch1.shape[1] // pix_per_cell)  106\n",
      "cell_per_block  2\n",
      "nxblocks  105\n"
     ]
    },
    {
     "name": "stderr",
     "output_type": "stream",
     "text": [
      "\r",
      " 94%|█████████▍| 1189/1261 [17:47<01:05,  1.10it/s]"
     ]
    },
    {
     "name": "stdout",
     "output_type": "stream",
     "text": [
      "no. of rectangles found is  16\n",
      "spatial_size  (16, 16)\n",
      "hist  16\n",
      "orient  9\n",
      "ch1.shape[1]  853\n",
      "pix_per_cell  8\n",
      "(ch1.shape[1] // pix_per_cell)  106\n",
      "cell_per_block  2\n",
      "nxblocks  105\n"
     ]
    },
    {
     "name": "stderr",
     "output_type": "stream",
     "text": [
      "\r",
      " 94%|█████████▍| 1190/1261 [17:48<01:03,  1.12it/s]"
     ]
    },
    {
     "name": "stdout",
     "output_type": "stream",
     "text": [
      "no. of rectangles found is  19\n",
      "spatial_size  (16, 16)\n",
      "hist  16\n",
      "orient  9\n",
      "ch1.shape[1]  853\n",
      "pix_per_cell  8\n",
      "(ch1.shape[1] // pix_per_cell)  106\n",
      "cell_per_block  2\n",
      "nxblocks  105\n"
     ]
    },
    {
     "name": "stderr",
     "output_type": "stream",
     "text": [
      "\r",
      " 94%|█████████▍| 1191/1261 [17:49<01:02,  1.13it/s]"
     ]
    },
    {
     "name": "stdout",
     "output_type": "stream",
     "text": [
      "no. of rectangles found is  12\n",
      "spatial_size  (16, 16)\n",
      "hist  16\n",
      "orient  9\n",
      "ch1.shape[1]  853\n",
      "pix_per_cell  8\n",
      "(ch1.shape[1] // pix_per_cell)  106\n",
      "cell_per_block  2\n",
      "nxblocks  105\n"
     ]
    },
    {
     "name": "stderr",
     "output_type": "stream",
     "text": [
      "\r",
      " 95%|█████████▍| 1192/1261 [17:49<01:01,  1.13it/s]"
     ]
    },
    {
     "name": "stdout",
     "output_type": "stream",
     "text": [
      "no. of rectangles found is  10\n",
      "spatial_size  (16, 16)\n",
      "hist  16\n",
      "orient  9\n",
      "ch1.shape[1]  853\n",
      "pix_per_cell  8\n",
      "(ch1.shape[1] // pix_per_cell)  106\n",
      "cell_per_block  2\n",
      "nxblocks  105\n"
     ]
    },
    {
     "name": "stderr",
     "output_type": "stream",
     "text": [
      "\r",
      " 95%|█████████▍| 1193/1261 [17:50<01:00,  1.12it/s]"
     ]
    },
    {
     "name": "stdout",
     "output_type": "stream",
     "text": [
      "no. of rectangles found is  12\n",
      "spatial_size  (16, 16)\n",
      "hist  16\n",
      "orient  9\n",
      "ch1.shape[1]  853\n",
      "pix_per_cell  8\n",
      "(ch1.shape[1] // pix_per_cell)  106\n",
      "cell_per_block  2\n",
      "nxblocks  105\n"
     ]
    },
    {
     "name": "stderr",
     "output_type": "stream",
     "text": [
      "\r",
      " 95%|█████████▍| 1194/1261 [17:51<01:00,  1.12it/s]"
     ]
    },
    {
     "name": "stdout",
     "output_type": "stream",
     "text": [
      "no. of rectangles found is  13\n",
      "spatial_size  (16, 16)\n",
      "hist  16\n",
      "orient  9\n",
      "ch1.shape[1]  853\n",
      "pix_per_cell  8\n",
      "(ch1.shape[1] // pix_per_cell)  106\n",
      "cell_per_block  2\n",
      "nxblocks  105\n"
     ]
    },
    {
     "name": "stderr",
     "output_type": "stream",
     "text": [
      "\r",
      " 95%|█████████▍| 1195/1261 [17:52<00:58,  1.12it/s]"
     ]
    },
    {
     "name": "stdout",
     "output_type": "stream",
     "text": [
      "no. of rectangles found is  8\n",
      "spatial_size  (16, 16)\n",
      "hist  16\n",
      "orient  9\n",
      "ch1.shape[1]  853\n",
      "pix_per_cell  8\n",
      "(ch1.shape[1] // pix_per_cell)  106\n",
      "cell_per_block  2\n",
      "nxblocks  105\n"
     ]
    },
    {
     "name": "stderr",
     "output_type": "stream",
     "text": [
      "\r",
      " 95%|█████████▍| 1196/1261 [17:53<00:57,  1.12it/s]"
     ]
    },
    {
     "name": "stdout",
     "output_type": "stream",
     "text": [
      "no. of rectangles found is  13\n",
      "spatial_size  (16, 16)\n",
      "hist  16\n",
      "orient  9\n",
      "ch1.shape[1]  853\n",
      "pix_per_cell  8\n",
      "(ch1.shape[1] // pix_per_cell)  106\n",
      "cell_per_block  2\n",
      "nxblocks  105\n"
     ]
    },
    {
     "name": "stderr",
     "output_type": "stream",
     "text": [
      "\r",
      " 95%|█████████▍| 1197/1261 [17:54<00:57,  1.11it/s]"
     ]
    },
    {
     "name": "stdout",
     "output_type": "stream",
     "text": [
      "no. of rectangles found is  8\n",
      "spatial_size  (16, 16)\n",
      "hist  16\n",
      "orient  9\n",
      "ch1.shape[1]  853\n",
      "pix_per_cell  8\n",
      "(ch1.shape[1] // pix_per_cell)  106\n",
      "cell_per_block  2\n",
      "nxblocks  105\n"
     ]
    },
    {
     "name": "stderr",
     "output_type": "stream",
     "text": [
      "\r",
      " 95%|█████████▌| 1198/1261 [17:55<00:56,  1.12it/s]"
     ]
    },
    {
     "name": "stdout",
     "output_type": "stream",
     "text": [
      "no. of rectangles found is  9\n",
      "spatial_size  (16, 16)\n",
      "hist  16\n",
      "orient  9\n",
      "ch1.shape[1]  853\n",
      "pix_per_cell  8\n",
      "(ch1.shape[1] // pix_per_cell)  106\n",
      "cell_per_block  2\n",
      "nxblocks  105\n"
     ]
    },
    {
     "name": "stderr",
     "output_type": "stream",
     "text": [
      "\r",
      " 95%|█████████▌| 1199/1261 [17:56<00:56,  1.09it/s]"
     ]
    },
    {
     "name": "stdout",
     "output_type": "stream",
     "text": [
      "no. of rectangles found is  7\n",
      "spatial_size  (16, 16)\n",
      "hist  16\n",
      "orient  9\n",
      "ch1.shape[1]  853\n",
      "pix_per_cell  8\n",
      "(ch1.shape[1] // pix_per_cell)  106\n",
      "cell_per_block  2\n",
      "nxblocks  105\n"
     ]
    },
    {
     "name": "stderr",
     "output_type": "stream",
     "text": [
      "\r",
      " 95%|█████████▌| 1200/1261 [17:57<00:55,  1.10it/s]"
     ]
    },
    {
     "name": "stdout",
     "output_type": "stream",
     "text": [
      "no. of rectangles found is  10\n",
      "spatial_size  (16, 16)\n",
      "hist  16\n",
      "orient  9\n",
      "ch1.shape[1]  853\n",
      "pix_per_cell  8\n",
      "(ch1.shape[1] // pix_per_cell)  106\n",
      "cell_per_block  2\n",
      "nxblocks  105\n"
     ]
    },
    {
     "name": "stderr",
     "output_type": "stream",
     "text": [
      "\r",
      " 95%|█████████▌| 1201/1261 [17:58<00:54,  1.11it/s]"
     ]
    },
    {
     "name": "stdout",
     "output_type": "stream",
     "text": [
      "no. of rectangles found is  6\n",
      "spatial_size  (16, 16)\n",
      "hist  16\n",
      "orient  9\n",
      "ch1.shape[1]  853\n",
      "pix_per_cell  8\n",
      "(ch1.shape[1] // pix_per_cell)  106\n",
      "cell_per_block  2\n",
      "nxblocks  105\n"
     ]
    },
    {
     "name": "stderr",
     "output_type": "stream",
     "text": [
      "\r",
      " 95%|█████████▌| 1202/1261 [17:59<00:53,  1.11it/s]"
     ]
    },
    {
     "name": "stdout",
     "output_type": "stream",
     "text": [
      "no. of rectangles found is  8\n",
      "spatial_size  (16, 16)\n",
      "hist  16\n",
      "orient  9\n",
      "ch1.shape[1]  853\n",
      "pix_per_cell  8\n",
      "(ch1.shape[1] // pix_per_cell)  106\n",
      "cell_per_block  2\n",
      "nxblocks  105\n"
     ]
    },
    {
     "name": "stderr",
     "output_type": "stream",
     "text": [
      "\r",
      " 95%|█████████▌| 1203/1261 [17:59<00:52,  1.11it/s]"
     ]
    },
    {
     "name": "stdout",
     "output_type": "stream",
     "text": [
      "no. of rectangles found is  9\n",
      "spatial_size  (16, 16)\n",
      "hist  16\n",
      "orient  9\n",
      "ch1.shape[1]  853\n",
      "pix_per_cell  8\n",
      "(ch1.shape[1] // pix_per_cell)  106\n",
      "cell_per_block  2\n",
      "nxblocks  105\n"
     ]
    },
    {
     "name": "stderr",
     "output_type": "stream",
     "text": [
      "\r",
      " 95%|█████████▌| 1204/1261 [18:00<00:51,  1.10it/s]"
     ]
    },
    {
     "name": "stdout",
     "output_type": "stream",
     "text": [
      "no. of rectangles found is  7\n",
      "spatial_size  (16, 16)\n",
      "hist  16\n",
      "orient  9\n",
      "ch1.shape[1]  853\n",
      "pix_per_cell  8\n",
      "(ch1.shape[1] // pix_per_cell)  106\n",
      "cell_per_block  2\n",
      "nxblocks  105\n"
     ]
    },
    {
     "name": "stderr",
     "output_type": "stream",
     "text": [
      "\r",
      " 96%|█████████▌| 1205/1261 [18:01<00:50,  1.10it/s]"
     ]
    },
    {
     "name": "stdout",
     "output_type": "stream",
     "text": [
      "no. of rectangles found is  9\n",
      "spatial_size  (16, 16)\n",
      "hist  16\n",
      "orient  9\n",
      "ch1.shape[1]  853\n",
      "pix_per_cell  8\n",
      "(ch1.shape[1] // pix_per_cell)  106\n",
      "cell_per_block  2\n",
      "nxblocks  105\n"
     ]
    },
    {
     "name": "stderr",
     "output_type": "stream",
     "text": [
      "\r",
      " 96%|█████████▌| 1206/1261 [18:02<00:49,  1.11it/s]"
     ]
    },
    {
     "name": "stdout",
     "output_type": "stream",
     "text": [
      "no. of rectangles found is  9\n",
      "spatial_size  (16, 16)\n",
      "hist  16\n",
      "orient  9\n",
      "ch1.shape[1]  853\n",
      "pix_per_cell  8\n",
      "(ch1.shape[1] // pix_per_cell)  106\n",
      "cell_per_block  2\n",
      "nxblocks  105\n"
     ]
    },
    {
     "name": "stderr",
     "output_type": "stream",
     "text": [
      "\r",
      " 96%|█████████▌| 1207/1261 [18:03<00:48,  1.12it/s]"
     ]
    },
    {
     "name": "stdout",
     "output_type": "stream",
     "text": [
      "no. of rectangles found is  8\n",
      "spatial_size  (16, 16)\n",
      "hist  16\n",
      "orient  9\n",
      "ch1.shape[1]  853\n",
      "pix_per_cell  8\n",
      "(ch1.shape[1] // pix_per_cell)  106\n",
      "cell_per_block  2\n",
      "nxblocks  105\n"
     ]
    },
    {
     "name": "stderr",
     "output_type": "stream",
     "text": [
      "\r",
      " 96%|█████████▌| 1208/1261 [18:04<00:48,  1.10it/s]"
     ]
    },
    {
     "name": "stdout",
     "output_type": "stream",
     "text": [
      "no. of rectangles found is  12\n",
      "spatial_size  (16, 16)\n",
      "hist  16\n",
      "orient  9\n",
      "ch1.shape[1]  853\n",
      "pix_per_cell  8\n",
      "(ch1.shape[1] // pix_per_cell)  106\n",
      "cell_per_block  2\n",
      "nxblocks  105\n"
     ]
    },
    {
     "name": "stderr",
     "output_type": "stream",
     "text": [
      "\r",
      " 96%|█████████▌| 1209/1261 [18:05<00:47,  1.10it/s]"
     ]
    },
    {
     "name": "stdout",
     "output_type": "stream",
     "text": [
      "no. of rectangles found is  7\n",
      "spatial_size  (16, 16)\n",
      "hist  16\n",
      "orient  9\n",
      "ch1.shape[1]  853\n",
      "pix_per_cell  8\n",
      "(ch1.shape[1] // pix_per_cell)  106\n",
      "cell_per_block  2\n",
      "nxblocks  105\n"
     ]
    },
    {
     "name": "stderr",
     "output_type": "stream",
     "text": [
      "\r",
      " 96%|█████████▌| 1210/1261 [18:06<00:46,  1.10it/s]"
     ]
    },
    {
     "name": "stdout",
     "output_type": "stream",
     "text": [
      "no. of rectangles found is  7\n",
      "spatial_size  (16, 16)\n",
      "hist  16\n",
      "orient  9\n",
      "ch1.shape[1]  853\n",
      "pix_per_cell  8\n",
      "(ch1.shape[1] // pix_per_cell)  106\n",
      "cell_per_block  2\n",
      "nxblocks  105\n"
     ]
    },
    {
     "name": "stderr",
     "output_type": "stream",
     "text": [
      "\r",
      " 96%|█████████▌| 1211/1261 [18:07<00:45,  1.09it/s]"
     ]
    },
    {
     "name": "stdout",
     "output_type": "stream",
     "text": [
      "no. of rectangles found is  6\n",
      "spatial_size  (16, 16)\n",
      "hist  16\n",
      "orient  9\n",
      "ch1.shape[1]  853\n",
      "pix_per_cell  8\n",
      "(ch1.shape[1] // pix_per_cell)  106\n",
      "cell_per_block  2\n",
      "nxblocks  105\n"
     ]
    },
    {
     "name": "stderr",
     "output_type": "stream",
     "text": [
      "\r",
      " 96%|█████████▌| 1212/1261 [18:08<00:45,  1.09it/s]"
     ]
    },
    {
     "name": "stdout",
     "output_type": "stream",
     "text": [
      "no. of rectangles found is  8\n",
      "spatial_size  (16, 16)\n",
      "hist  16\n",
      "orient  9\n",
      "ch1.shape[1]  853\n",
      "pix_per_cell  8\n",
      "(ch1.shape[1] // pix_per_cell)  106\n",
      "cell_per_block  2\n",
      "nxblocks  105\n"
     ]
    },
    {
     "name": "stderr",
     "output_type": "stream",
     "text": [
      "\r",
      " 96%|█████████▌| 1213/1261 [18:09<00:43,  1.10it/s]"
     ]
    },
    {
     "name": "stdout",
     "output_type": "stream",
     "text": [
      "no. of rectangles found is  11\n",
      "spatial_size  (16, 16)\n",
      "hist  16\n",
      "orient  9\n",
      "ch1.shape[1]  853\n",
      "pix_per_cell  8\n",
      "(ch1.shape[1] // pix_per_cell)  106\n",
      "cell_per_block  2\n",
      "nxblocks  105\n"
     ]
    },
    {
     "name": "stderr",
     "output_type": "stream",
     "text": [
      "\r",
      " 96%|█████████▋| 1214/1261 [18:09<00:42,  1.11it/s]"
     ]
    },
    {
     "name": "stdout",
     "output_type": "stream",
     "text": [
      "no. of rectangles found is  7\n",
      "spatial_size  (16, 16)\n",
      "hist  16\n",
      "orient  9\n",
      "ch1.shape[1]  853\n",
      "pix_per_cell  8\n",
      "(ch1.shape[1] // pix_per_cell)  106\n",
      "cell_per_block  2\n",
      "nxblocks  105\n"
     ]
    },
    {
     "name": "stderr",
     "output_type": "stream",
     "text": [
      "\r",
      " 96%|█████████▋| 1215/1261 [18:10<00:41,  1.11it/s]"
     ]
    },
    {
     "name": "stdout",
     "output_type": "stream",
     "text": [
      "no. of rectangles found is  8\n",
      "spatial_size  (16, 16)\n",
      "hist  16\n",
      "orient  9\n",
      "ch1.shape[1]  853\n",
      "pix_per_cell  8\n",
      "(ch1.shape[1] // pix_per_cell)  106\n",
      "cell_per_block  2\n",
      "nxblocks  105\n"
     ]
    },
    {
     "name": "stderr",
     "output_type": "stream",
     "text": [
      "\r",
      " 96%|█████████▋| 1216/1261 [18:11<00:40,  1.11it/s]"
     ]
    },
    {
     "name": "stdout",
     "output_type": "stream",
     "text": [
      "no. of rectangles found is  7\n",
      "spatial_size  (16, 16)\n",
      "hist  16\n",
      "orient  9\n",
      "ch1.shape[1]  853\n",
      "pix_per_cell  8\n",
      "(ch1.shape[1] // pix_per_cell)  106\n",
      "cell_per_block  2\n",
      "nxblocks  105\n"
     ]
    },
    {
     "name": "stderr",
     "output_type": "stream",
     "text": [
      "\r",
      " 97%|█████████▋| 1217/1261 [18:12<00:39,  1.12it/s]"
     ]
    },
    {
     "name": "stdout",
     "output_type": "stream",
     "text": [
      "no. of rectangles found is  7\n",
      "spatial_size  (16, 16)\n",
      "hist  16\n",
      "orient  9\n",
      "ch1.shape[1]  853\n",
      "pix_per_cell  8\n",
      "(ch1.shape[1] // pix_per_cell)  106\n",
      "cell_per_block  2\n",
      "nxblocks  105\n"
     ]
    },
    {
     "name": "stderr",
     "output_type": "stream",
     "text": [
      "\r",
      " 97%|█████████▋| 1218/1261 [18:13<00:38,  1.11it/s]"
     ]
    },
    {
     "name": "stdout",
     "output_type": "stream",
     "text": [
      "no. of rectangles found is  12\n",
      "spatial_size  (16, 16)\n",
      "hist  16\n",
      "orient  9\n",
      "ch1.shape[1]  853\n",
      "pix_per_cell  8\n",
      "(ch1.shape[1] // pix_per_cell)  106\n",
      "cell_per_block  2\n",
      "nxblocks  105\n"
     ]
    },
    {
     "name": "stderr",
     "output_type": "stream",
     "text": [
      "\r",
      " 97%|█████████▋| 1219/1261 [18:14<00:37,  1.11it/s]"
     ]
    },
    {
     "name": "stdout",
     "output_type": "stream",
     "text": [
      "no. of rectangles found is  9\n",
      "spatial_size  (16, 16)\n",
      "hist  16\n",
      "orient  9\n",
      "ch1.shape[1]  853\n",
      "pix_per_cell  8\n",
      "(ch1.shape[1] // pix_per_cell)  106\n",
      "cell_per_block  2\n",
      "nxblocks  105\n"
     ]
    },
    {
     "name": "stderr",
     "output_type": "stream",
     "text": [
      "\r",
      " 97%|█████████▋| 1220/1261 [18:15<00:37,  1.11it/s]"
     ]
    },
    {
     "name": "stdout",
     "output_type": "stream",
     "text": [
      "no. of rectangles found is  15\n",
      "spatial_size  (16, 16)\n",
      "hist  16\n",
      "orient  9\n",
      "ch1.shape[1]  853\n",
      "pix_per_cell  8\n",
      "(ch1.shape[1] // pix_per_cell)  106\n",
      "cell_per_block  2\n",
      "nxblocks  105\n"
     ]
    },
    {
     "name": "stderr",
     "output_type": "stream",
     "text": [
      "\r",
      " 97%|█████████▋| 1221/1261 [18:16<00:35,  1.12it/s]"
     ]
    },
    {
     "name": "stdout",
     "output_type": "stream",
     "text": [
      "no. of rectangles found is  7\n",
      "spatial_size  (16, 16)\n",
      "hist  16\n",
      "orient  9\n",
      "ch1.shape[1]  853\n",
      "pix_per_cell  8\n",
      "(ch1.shape[1] // pix_per_cell)  106\n",
      "cell_per_block  2\n",
      "nxblocks  105\n"
     ]
    },
    {
     "name": "stderr",
     "output_type": "stream",
     "text": [
      "\r",
      " 97%|█████████▋| 1222/1261 [18:17<00:34,  1.12it/s]"
     ]
    },
    {
     "name": "stdout",
     "output_type": "stream",
     "text": [
      "no. of rectangles found is  6\n",
      "spatial_size  (16, 16)\n",
      "hist  16\n",
      "orient  9\n",
      "ch1.shape[1]  853\n",
      "pix_per_cell  8\n",
      "(ch1.shape[1] // pix_per_cell)  106\n",
      "cell_per_block  2\n",
      "nxblocks  105\n"
     ]
    },
    {
     "name": "stderr",
     "output_type": "stream",
     "text": [
      "\r",
      " 97%|█████████▋| 1223/1261 [18:17<00:34,  1.11it/s]"
     ]
    },
    {
     "name": "stdout",
     "output_type": "stream",
     "text": [
      "no. of rectangles found is  8\n",
      "spatial_size  (16, 16)\n",
      "hist  16\n",
      "orient  9\n",
      "ch1.shape[1]  853\n",
      "pix_per_cell  8\n",
      "(ch1.shape[1] // pix_per_cell)  106\n",
      "cell_per_block  2\n",
      "nxblocks  105\n"
     ]
    },
    {
     "name": "stderr",
     "output_type": "stream",
     "text": [
      "\r",
      " 97%|█████████▋| 1224/1261 [18:18<00:33,  1.11it/s]"
     ]
    },
    {
     "name": "stdout",
     "output_type": "stream",
     "text": [
      "no. of rectangles found is  5\n",
      "spatial_size  (16, 16)\n",
      "hist  16\n",
      "orient  9\n",
      "ch1.shape[1]  853\n",
      "pix_per_cell  8\n",
      "(ch1.shape[1] // pix_per_cell)  106\n",
      "cell_per_block  2\n",
      "nxblocks  105\n"
     ]
    },
    {
     "name": "stderr",
     "output_type": "stream",
     "text": [
      "\r",
      " 97%|█████████▋| 1225/1261 [18:19<00:32,  1.11it/s]"
     ]
    },
    {
     "name": "stdout",
     "output_type": "stream",
     "text": [
      "no. of rectangles found is  7\n",
      "spatial_size  (16, 16)\n",
      "hist  16\n",
      "orient  9\n",
      "ch1.shape[1]  853\n",
      "pix_per_cell  8\n",
      "(ch1.shape[1] // pix_per_cell)  106\n",
      "cell_per_block  2\n",
      "nxblocks  105\n"
     ]
    },
    {
     "name": "stderr",
     "output_type": "stream",
     "text": [
      "\r",
      " 97%|█████████▋| 1226/1261 [18:20<00:31,  1.10it/s]"
     ]
    },
    {
     "name": "stdout",
     "output_type": "stream",
     "text": [
      "no. of rectangles found is  5\n",
      "spatial_size  (16, 16)\n",
      "hist  16\n",
      "orient  9\n",
      "ch1.shape[1]  853\n",
      "pix_per_cell  8\n",
      "(ch1.shape[1] // pix_per_cell)  106\n",
      "cell_per_block  2\n",
      "nxblocks  105\n"
     ]
    },
    {
     "name": "stderr",
     "output_type": "stream",
     "text": [
      "\r",
      " 97%|█████████▋| 1227/1261 [18:21<00:30,  1.11it/s]"
     ]
    },
    {
     "name": "stdout",
     "output_type": "stream",
     "text": [
      "no. of rectangles found is  8\n",
      "spatial_size  (16, 16)\n",
      "hist  16\n",
      "orient  9\n",
      "ch1.shape[1]  853\n",
      "pix_per_cell  8\n",
      "(ch1.shape[1] // pix_per_cell)  106\n",
      "cell_per_block  2\n",
      "nxblocks  105\n"
     ]
    },
    {
     "name": "stderr",
     "output_type": "stream",
     "text": [
      "\r",
      " 97%|█████████▋| 1228/1261 [18:22<00:29,  1.11it/s]"
     ]
    },
    {
     "name": "stdout",
     "output_type": "stream",
     "text": [
      "no. of rectangles found is  7\n",
      "spatial_size  (16, 16)\n",
      "hist  16\n",
      "orient  9\n",
      "ch1.shape[1]  853\n",
      "pix_per_cell  8\n",
      "(ch1.shape[1] // pix_per_cell)  106\n",
      "cell_per_block  2\n",
      "nxblocks  105\n"
     ]
    },
    {
     "name": "stderr",
     "output_type": "stream",
     "text": [
      "\r",
      " 97%|█████████▋| 1229/1261 [18:23<00:28,  1.11it/s]"
     ]
    },
    {
     "name": "stdout",
     "output_type": "stream",
     "text": [
      "no. of rectangles found is  8\n",
      "spatial_size  (16, 16)\n",
      "hist  16\n",
      "orient  9\n",
      "ch1.shape[1]  853\n",
      "pix_per_cell  8\n",
      "(ch1.shape[1] // pix_per_cell)  106\n",
      "cell_per_block  2\n",
      "nxblocks  105\n"
     ]
    },
    {
     "name": "stderr",
     "output_type": "stream",
     "text": [
      "\r",
      " 98%|█████████▊| 1230/1261 [18:24<00:27,  1.11it/s]"
     ]
    },
    {
     "name": "stdout",
     "output_type": "stream",
     "text": [
      "no. of rectangles found is  5\n",
      "spatial_size  (16, 16)\n",
      "hist  16\n",
      "orient  9\n",
      "ch1.shape[1]  853\n",
      "pix_per_cell  8\n",
      "(ch1.shape[1] // pix_per_cell)  106\n",
      "cell_per_block  2\n",
      "nxblocks  105\n"
     ]
    },
    {
     "name": "stderr",
     "output_type": "stream",
     "text": [
      "\r",
      " 98%|█████████▊| 1231/1261 [18:25<00:26,  1.12it/s]"
     ]
    },
    {
     "name": "stdout",
     "output_type": "stream",
     "text": [
      "no. of rectangles found is  5\n",
      "spatial_size  (16, 16)\n",
      "hist  16\n",
      "orient  9\n",
      "ch1.shape[1]  853\n",
      "pix_per_cell  8\n",
      "(ch1.shape[1] // pix_per_cell)  106\n",
      "cell_per_block  2\n",
      "nxblocks  105\n"
     ]
    },
    {
     "name": "stderr",
     "output_type": "stream",
     "text": [
      "\r",
      " 98%|█████████▊| 1232/1261 [18:26<00:25,  1.12it/s]"
     ]
    },
    {
     "name": "stdout",
     "output_type": "stream",
     "text": [
      "no. of rectangles found is  10\n",
      "spatial_size  (16, 16)\n",
      "hist  16\n",
      "orient  9\n",
      "ch1.shape[1]  853\n",
      "pix_per_cell  8\n",
      "(ch1.shape[1] // pix_per_cell)  106\n",
      "cell_per_block  2\n",
      "nxblocks  105\n"
     ]
    },
    {
     "name": "stderr",
     "output_type": "stream",
     "text": [
      "\r",
      " 98%|█████████▊| 1233/1261 [18:26<00:24,  1.13it/s]"
     ]
    },
    {
     "name": "stdout",
     "output_type": "stream",
     "text": [
      "no. of rectangles found is  6\n",
      "spatial_size  (16, 16)\n",
      "hist  16\n",
      "orient  9\n",
      "ch1.shape[1]  853\n",
      "pix_per_cell  8\n",
      "(ch1.shape[1] // pix_per_cell)  106\n",
      "cell_per_block  2\n",
      "nxblocks  105\n"
     ]
    },
    {
     "name": "stderr",
     "output_type": "stream",
     "text": [
      "\r",
      " 98%|█████████▊| 1234/1261 [18:27<00:24,  1.11it/s]"
     ]
    },
    {
     "name": "stdout",
     "output_type": "stream",
     "text": [
      "no. of rectangles found is  3\n",
      "spatial_size  (16, 16)\n",
      "hist  16\n",
      "orient  9\n",
      "ch1.shape[1]  853\n",
      "pix_per_cell  8\n",
      "(ch1.shape[1] // pix_per_cell)  106\n",
      "cell_per_block  2\n",
      "nxblocks  105\n"
     ]
    },
    {
     "name": "stderr",
     "output_type": "stream",
     "text": [
      "\r",
      " 98%|█████████▊| 1235/1261 [18:28<00:23,  1.10it/s]"
     ]
    },
    {
     "name": "stdout",
     "output_type": "stream",
     "text": [
      "no. of rectangles found is  6\n",
      "spatial_size  (16, 16)\n",
      "hist  16\n",
      "orient  9\n",
      "ch1.shape[1]  853\n",
      "pix_per_cell  8\n",
      "(ch1.shape[1] // pix_per_cell)  106\n",
      "cell_per_block  2\n",
      "nxblocks  105\n"
     ]
    },
    {
     "name": "stderr",
     "output_type": "stream",
     "text": [
      "\r",
      " 98%|█████████▊| 1236/1261 [18:29<00:22,  1.09it/s]"
     ]
    },
    {
     "name": "stdout",
     "output_type": "stream",
     "text": [
      "no. of rectangles found is  3\n",
      "spatial_size  (16, 16)\n",
      "hist  16\n",
      "orient  9\n",
      "ch1.shape[1]  853\n",
      "pix_per_cell  8\n",
      "(ch1.shape[1] // pix_per_cell)  106\n",
      "cell_per_block  2\n",
      "nxblocks  105\n"
     ]
    },
    {
     "name": "stderr",
     "output_type": "stream",
     "text": [
      "\r",
      " 98%|█████████▊| 1237/1261 [18:30<00:21,  1.09it/s]"
     ]
    },
    {
     "name": "stdout",
     "output_type": "stream",
     "text": [
      "no. of rectangles found is  7\n",
      "spatial_size  (16, 16)\n",
      "hist  16\n",
      "orient  9\n",
      "ch1.shape[1]  853\n",
      "pix_per_cell  8\n",
      "(ch1.shape[1] // pix_per_cell)  106\n",
      "cell_per_block  2\n",
      "nxblocks  105\n"
     ]
    },
    {
     "name": "stderr",
     "output_type": "stream",
     "text": [
      "\r",
      " 98%|█████████▊| 1238/1261 [18:31<00:21,  1.09it/s]"
     ]
    },
    {
     "name": "stdout",
     "output_type": "stream",
     "text": [
      "no. of rectangles found is  7\n",
      "spatial_size  (16, 16)\n",
      "hist  16\n",
      "orient  9\n",
      "ch1.shape[1]  853\n",
      "pix_per_cell  8\n",
      "(ch1.shape[1] // pix_per_cell)  106\n",
      "cell_per_block  2\n",
      "nxblocks  105\n"
     ]
    },
    {
     "name": "stderr",
     "output_type": "stream",
     "text": [
      "\r",
      " 98%|█████████▊| 1239/1261 [18:32<00:20,  1.10it/s]"
     ]
    },
    {
     "name": "stdout",
     "output_type": "stream",
     "text": [
      "no. of rectangles found is  11\n",
      "spatial_size  (16, 16)\n",
      "hist  16\n",
      "orient  9\n",
      "ch1.shape[1]  853\n",
      "pix_per_cell  8\n",
      "(ch1.shape[1] // pix_per_cell)  106\n",
      "cell_per_block  2\n",
      "nxblocks  105\n"
     ]
    },
    {
     "name": "stderr",
     "output_type": "stream",
     "text": [
      "\r",
      " 98%|█████████▊| 1240/1261 [18:33<00:19,  1.10it/s]"
     ]
    },
    {
     "name": "stdout",
     "output_type": "stream",
     "text": [
      "no. of rectangles found is  12\n",
      "spatial_size  (16, 16)\n",
      "hist  16\n",
      "orient  9\n",
      "ch1.shape[1]  853\n",
      "pix_per_cell  8\n",
      "(ch1.shape[1] // pix_per_cell)  106\n",
      "cell_per_block  2\n",
      "nxblocks  105\n"
     ]
    },
    {
     "name": "stderr",
     "output_type": "stream",
     "text": [
      "\r",
      " 98%|█████████▊| 1241/1261 [18:34<00:18,  1.11it/s]"
     ]
    },
    {
     "name": "stdout",
     "output_type": "stream",
     "text": [
      "no. of rectangles found is  8\n",
      "spatial_size  (16, 16)\n",
      "hist  16\n",
      "orient  9\n",
      "ch1.shape[1]  853\n",
      "pix_per_cell  8\n",
      "(ch1.shape[1] // pix_per_cell)  106\n",
      "cell_per_block  2\n",
      "nxblocks  105\n"
     ]
    },
    {
     "name": "stderr",
     "output_type": "stream",
     "text": [
      "\r",
      " 98%|█████████▊| 1242/1261 [18:35<00:17,  1.11it/s]"
     ]
    },
    {
     "name": "stdout",
     "output_type": "stream",
     "text": [
      "no. of rectangles found is  10\n",
      "spatial_size  (16, 16)\n",
      "hist  16\n",
      "orient  9\n",
      "ch1.shape[1]  853\n",
      "pix_per_cell  8\n",
      "(ch1.shape[1] // pix_per_cell)  106\n",
      "cell_per_block  2\n",
      "nxblocks  105\n"
     ]
    },
    {
     "name": "stderr",
     "output_type": "stream",
     "text": [
      "\r",
      " 99%|█████████▊| 1243/1261 [18:36<00:16,  1.12it/s]"
     ]
    },
    {
     "name": "stdout",
     "output_type": "stream",
     "text": [
      "no. of rectangles found is  9\n",
      "spatial_size  (16, 16)\n",
      "hist  16\n",
      "orient  9\n",
      "ch1.shape[1]  853\n",
      "pix_per_cell  8\n",
      "(ch1.shape[1] // pix_per_cell)  106\n",
      "cell_per_block  2\n",
      "nxblocks  105\n"
     ]
    },
    {
     "name": "stderr",
     "output_type": "stream",
     "text": [
      "\r",
      " 99%|█████████▊| 1244/1261 [18:36<00:15,  1.12it/s]"
     ]
    },
    {
     "name": "stdout",
     "output_type": "stream",
     "text": [
      "no. of rectangles found is  16\n",
      "spatial_size  (16, 16)\n",
      "hist  16\n",
      "orient  9\n",
      "ch1.shape[1]  853\n",
      "pix_per_cell  8\n",
      "(ch1.shape[1] // pix_per_cell)  106\n",
      "cell_per_block  2\n",
      "nxblocks  105\n"
     ]
    },
    {
     "name": "stderr",
     "output_type": "stream",
     "text": [
      "\r",
      " 99%|█████████▊| 1245/1261 [18:37<00:14,  1.12it/s]"
     ]
    },
    {
     "name": "stdout",
     "output_type": "stream",
     "text": [
      "no. of rectangles found is  15\n",
      "spatial_size  (16, 16)\n",
      "hist  16\n",
      "orient  9\n",
      "ch1.shape[1]  853\n",
      "pix_per_cell  8\n",
      "(ch1.shape[1] // pix_per_cell)  106\n",
      "cell_per_block  2\n",
      "nxblocks  105\n"
     ]
    },
    {
     "name": "stderr",
     "output_type": "stream",
     "text": [
      "\r",
      " 99%|█████████▉| 1246/1261 [18:38<00:13,  1.12it/s]"
     ]
    },
    {
     "name": "stdout",
     "output_type": "stream",
     "text": [
      "no. of rectangles found is  8\n",
      "spatial_size  (16, 16)\n",
      "hist  16\n",
      "orient  9\n",
      "ch1.shape[1]  853\n",
      "pix_per_cell  8\n",
      "(ch1.shape[1] // pix_per_cell)  106\n",
      "cell_per_block  2\n",
      "nxblocks  105\n"
     ]
    },
    {
     "name": "stderr",
     "output_type": "stream",
     "text": [
      "\r",
      " 99%|█████████▉| 1247/1261 [18:39<00:12,  1.12it/s]"
     ]
    },
    {
     "name": "stdout",
     "output_type": "stream",
     "text": [
      "no. of rectangles found is  13\n",
      "spatial_size  (16, 16)\n",
      "hist  16\n",
      "orient  9\n",
      "ch1.shape[1]  853\n",
      "pix_per_cell  8\n",
      "(ch1.shape[1] // pix_per_cell)  106\n",
      "cell_per_block  2\n",
      "nxblocks  105\n"
     ]
    },
    {
     "name": "stderr",
     "output_type": "stream",
     "text": [
      "\r",
      " 99%|█████████▉| 1248/1261 [18:40<00:11,  1.12it/s]"
     ]
    },
    {
     "name": "stdout",
     "output_type": "stream",
     "text": [
      "no. of rectangles found is  16\n",
      "spatial_size  (16, 16)\n",
      "hist  16\n",
      "orient  9\n",
      "ch1.shape[1]  853\n",
      "pix_per_cell  8\n",
      "(ch1.shape[1] // pix_per_cell)  106\n",
      "cell_per_block  2\n",
      "nxblocks  105\n"
     ]
    },
    {
     "name": "stderr",
     "output_type": "stream",
     "text": [
      "\r",
      " 99%|█████████▉| 1249/1261 [18:41<00:10,  1.12it/s]"
     ]
    },
    {
     "name": "stdout",
     "output_type": "stream",
     "text": [
      "no. of rectangles found is  5\n",
      "spatial_size  (16, 16)\n",
      "hist  16\n",
      "orient  9\n",
      "ch1.shape[1]  853\n",
      "pix_per_cell  8\n",
      "(ch1.shape[1] // pix_per_cell)  106\n",
      "cell_per_block  2\n",
      "nxblocks  105\n"
     ]
    },
    {
     "name": "stderr",
     "output_type": "stream",
     "text": [
      "\r",
      " 99%|█████████▉| 1250/1261 [18:42<00:09,  1.10it/s]"
     ]
    },
    {
     "name": "stdout",
     "output_type": "stream",
     "text": [
      "no. of rectangles found is  9\n",
      "spatial_size  (16, 16)\n",
      "hist  16\n",
      "orient  9\n",
      "ch1.shape[1]  853\n",
      "pix_per_cell  8\n",
      "(ch1.shape[1] // pix_per_cell)  106\n",
      "cell_per_block  2\n",
      "nxblocks  105\n"
     ]
    },
    {
     "name": "stderr",
     "output_type": "stream",
     "text": [
      "\r",
      " 99%|█████████▉| 1251/1261 [18:43<00:09,  1.11it/s]"
     ]
    },
    {
     "name": "stdout",
     "output_type": "stream",
     "text": [
      "no. of rectangles found is  12\n",
      "spatial_size  (16, 16)\n",
      "hist  16\n",
      "orient  9\n",
      "ch1.shape[1]  853\n",
      "pix_per_cell  8\n",
      "(ch1.shape[1] // pix_per_cell)  106\n",
      "cell_per_block  2\n",
      "nxblocks  105\n"
     ]
    },
    {
     "name": "stderr",
     "output_type": "stream",
     "text": [
      "\r",
      " 99%|█████████▉| 1252/1261 [18:44<00:08,  1.12it/s]"
     ]
    },
    {
     "name": "stdout",
     "output_type": "stream",
     "text": [
      "no. of rectangles found is  9\n",
      "spatial_size  (16, 16)\n",
      "hist  16\n",
      "orient  9\n",
      "ch1.shape[1]  853\n",
      "pix_per_cell  8\n",
      "(ch1.shape[1] // pix_per_cell)  106\n",
      "cell_per_block  2\n",
      "nxblocks  105\n"
     ]
    },
    {
     "name": "stderr",
     "output_type": "stream",
     "text": [
      "\r",
      " 99%|█████████▉| 1253/1261 [18:44<00:07,  1.12it/s]"
     ]
    },
    {
     "name": "stdout",
     "output_type": "stream",
     "text": [
      "no. of rectangles found is  11\n",
      "spatial_size  (16, 16)\n",
      "hist  16\n",
      "orient  9\n",
      "ch1.shape[1]  853\n",
      "pix_per_cell  8\n",
      "(ch1.shape[1] // pix_per_cell)  106\n",
      "cell_per_block  2\n",
      "nxblocks  105\n"
     ]
    },
    {
     "name": "stderr",
     "output_type": "stream",
     "text": [
      "\r",
      " 99%|█████████▉| 1254/1261 [18:45<00:06,  1.10it/s]"
     ]
    },
    {
     "name": "stdout",
     "output_type": "stream",
     "text": [
      "no. of rectangles found is  10\n",
      "spatial_size  (16, 16)\n",
      "hist  16\n",
      "orient  9\n",
      "ch1.shape[1]  853\n",
      "pix_per_cell  8\n",
      "(ch1.shape[1] // pix_per_cell)  106\n",
      "cell_per_block  2\n",
      "nxblocks  105\n"
     ]
    },
    {
     "name": "stderr",
     "output_type": "stream",
     "text": [
      "\r",
      "100%|█████████▉| 1255/1261 [18:46<00:05,  1.11it/s]"
     ]
    },
    {
     "name": "stdout",
     "output_type": "stream",
     "text": [
      "no. of rectangles found is  11\n",
      "spatial_size  (16, 16)\n",
      "hist  16\n",
      "orient  9\n",
      "ch1.shape[1]  853\n",
      "pix_per_cell  8\n",
      "(ch1.shape[1] // pix_per_cell)  106\n",
      "cell_per_block  2\n",
      "nxblocks  105\n"
     ]
    },
    {
     "name": "stderr",
     "output_type": "stream",
     "text": [
      "\r",
      "100%|█████████▉| 1256/1261 [18:47<00:04,  1.12it/s]"
     ]
    },
    {
     "name": "stdout",
     "output_type": "stream",
     "text": [
      "no. of rectangles found is  6\n",
      "spatial_size  (16, 16)\n",
      "hist  16\n",
      "orient  9\n",
      "ch1.shape[1]  853\n",
      "pix_per_cell  8\n",
      "(ch1.shape[1] // pix_per_cell)  106\n",
      "cell_per_block  2\n",
      "nxblocks  105\n"
     ]
    },
    {
     "name": "stderr",
     "output_type": "stream",
     "text": [
      "\r",
      "100%|█████████▉| 1257/1261 [18:48<00:03,  1.12it/s]"
     ]
    },
    {
     "name": "stdout",
     "output_type": "stream",
     "text": [
      "no. of rectangles found is  8\n",
      "spatial_size  (16, 16)\n",
      "hist  16\n",
      "orient  9\n",
      "ch1.shape[1]  853\n",
      "pix_per_cell  8\n",
      "(ch1.shape[1] // pix_per_cell)  106\n",
      "cell_per_block  2\n",
      "nxblocks  105\n"
     ]
    },
    {
     "name": "stderr",
     "output_type": "stream",
     "text": [
      "\r",
      "100%|█████████▉| 1258/1261 [18:49<00:02,  1.11it/s]"
     ]
    },
    {
     "name": "stdout",
     "output_type": "stream",
     "text": [
      "no. of rectangles found is  17\n",
      "spatial_size  (16, 16)\n",
      "hist  16\n",
      "orient  9\n",
      "ch1.shape[1]  853\n",
      "pix_per_cell  8\n",
      "(ch1.shape[1] // pix_per_cell)  106\n",
      "cell_per_block  2\n",
      "nxblocks  105\n"
     ]
    },
    {
     "name": "stderr",
     "output_type": "stream",
     "text": [
      "\r",
      "100%|█████████▉| 1259/1261 [18:50<00:01,  1.11it/s]"
     ]
    },
    {
     "name": "stdout",
     "output_type": "stream",
     "text": [
      "no. of rectangles found is  14\n",
      "spatial_size  (16, 16)\n",
      "hist  16\n",
      "orient  9\n",
      "ch1.shape[1]  853\n",
      "pix_per_cell  8\n",
      "(ch1.shape[1] // pix_per_cell)  106\n",
      "cell_per_block  2\n",
      "nxblocks  105\n"
     ]
    },
    {
     "name": "stderr",
     "output_type": "stream",
     "text": [
      "\r",
      "100%|█████████▉| 1260/1261 [18:51<00:00,  1.12it/s]"
     ]
    },
    {
     "name": "stdout",
     "output_type": "stream",
     "text": [
      "no. of rectangles found is  8\n"
     ]
    },
    {
     "name": "stderr",
     "output_type": "stream",
     "text": [
      "\n"
     ]
    },
    {
     "name": "stdout",
     "output_type": "stream",
     "text": [
      "[MoviePy] Done.\n",
      "[MoviePy] >>>> Video ready: vehicles_tracked_on_project_video.mp4 \n",
      "\n",
      "CPU times: user 20min 9s, sys: 22.9 s, total: 20min 32s\n",
      "Wall time: 18min 52s\n"
     ]
    }
   ],
   "source": [
    "\n",
    "# Import everything needed to edit/save/watch video clips# Import \n",
    "from moviepy.editor import VideoFileClip\n",
    "from IPython.display import HTML\n",
    "\n",
    "# Test the pipeline on the test video\n",
    "\n",
    "#input_video = 'test_video.mp4'\n",
    "#output_video = 'vehicles_tracked_on_test_video.mp4'\n",
    "\n",
    "input_video = 'project_video.mp4'\n",
    "output_video = 'vehicles_tracked_on_project_video.mp4'\n",
    "\n",
    "clip = VideoFileClip(input_video)\n",
    "#clip = VideoFileClip('test_video.mp4').subclip(1,2)\n",
    "yellow_clip = clip.fl_image(pipeline)\n",
    "%time yellow_clip.write_videofile(output_video, audio=False)"
   ]
  },
  {
   "cell_type": "code",
   "execution_count": 18,
   "metadata": {},
   "outputs": [
    {
     "data": {
      "text/html": [
       "\n",
       "<video width=\"960\" height=\"540\" controls>\n",
       "  <source src=\"vehicles_tracked_on_project_video.mp4\">\n",
       "</video>\n"
      ],
      "text/plain": [
       "<IPython.core.display.HTML object>"
      ]
     },
     "execution_count": 18,
     "metadata": {},
     "output_type": "execute_result"
    }
   ],
   "source": [
    "HTML(\"\"\"\n",
    "<video width=\"960\" height=\"540\" controls>\n",
    "  <source src=\"{0}\">\n",
    "</video>\n",
    "\"\"\".format(output_video))"
   ]
  }
 ],
 "metadata": {
  "kernelspec": {
   "display_name": "Python 3",
   "language": "python",
   "name": "python3"
  },
  "language_info": {
   "codemirror_mode": {
    "name": "ipython",
    "version": 3
   },
   "file_extension": ".py",
   "mimetype": "text/x-python",
   "name": "python",
   "nbconvert_exporter": "python",
   "pygments_lexer": "ipython3",
   "version": "3.5.2"
  },
  "widgets": {
   "state": {},
   "version": "1.1.2"
  }
 },
 "nbformat": 4,
 "nbformat_minor": 2
}
